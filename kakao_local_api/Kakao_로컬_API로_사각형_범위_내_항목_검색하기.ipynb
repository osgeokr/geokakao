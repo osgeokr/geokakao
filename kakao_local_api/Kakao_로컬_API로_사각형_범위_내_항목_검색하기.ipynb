{
  "nbformat": 4,
  "nbformat_minor": 0,
  "metadata": {
    "colab": {
      "provenance": [],
      "authorship_tag": "ABX9TyO1hxECwZqCJpxBiABCvzE7",
      "include_colab_link": true
    },
    "kernelspec": {
      "name": "python3",
      "display_name": "Python 3"
    },
    "language_info": {
      "name": "python"
    },
    "widgets": {
      "application/vnd.jupyter.widget-state+json": {
        "a17c298141ef465c864d5f20f6c9aab6": {
          "model_module": "jupyter-leaflet",
          "model_name": "LeafletMapModel",
          "model_module_version": "^0.18",
          "state": {
            "_dom_classes": [],
            "_model_module": "jupyter-leaflet",
            "_model_module_version": "^0.18",
            "_model_name": "LeafletMapModel",
            "_view_count": null,
            "_view_module": "jupyter-leaflet",
            "_view_module_version": "^0.18",
            "_view_name": "LeafletMapView",
            "bottom": 3255878,
            "bounce_at_zoom_limits": true,
            "box_zoom": true,
            "center": [
              37.3238905538685,
              127.97675554397
            ],
            "close_popup_on_click": true,
            "controls": [
              "IPY_MODEL_b4190be35c104857801e13062a249ffb",
              "IPY_MODEL_4917508ca74b4b7080a9caacd3f8054f"
            ],
            "crs": {
              "name": "EPSG3857",
              "custom": false
            },
            "default_style": "IPY_MODEL_dbf87aa23e964f48a16f7767e6f5df50",
            "double_click_zoom": true,
            "dragging": true,
            "dragging_style": "IPY_MODEL_29004d6a83304fcca3bb1e320c56f701",
            "east": 127.99394130706789,
            "fullscreen": false,
            "inertia": true,
            "inertia_deceleration": 3000,
            "inertia_max_speed": 1500,
            "interpolation": "bilinear",
            "keyboard": true,
            "keyboard_pan_offset": 80,
            "keyboard_zoom_offset": 1,
            "layers": [
              "IPY_MODEL_c1f1ead64bf045faa5486e7ee09d8c6e",
              "IPY_MODEL_cb0ed8d465bf4fc8aef192d21f31ec32",
              "IPY_MODEL_36d1aeb112134b6dabc5c507576171f9",
              "IPY_MODEL_f61797ae39994aedae3e61214a24900a",
              "IPY_MODEL_687f562b90cf4c009c2295ec1a5c51a7",
              "IPY_MODEL_61af3d6d77ea4d478c0ec2057ba5068d",
              "IPY_MODEL_c23a4030a5e54cc392378de5ecfc1808",
              "IPY_MODEL_4cc3caf0c9e148f5b29649b265c861cd",
              "IPY_MODEL_6a23515976b94dff8ccf0e852fe37291",
              "IPY_MODEL_1f8be8bdcfed459aa031a74708b307ff",
              "IPY_MODEL_2ac64503974b4aca96d034197225a199",
              "IPY_MODEL_f449dc889d984b968ca3d96798ddb0c5",
              "IPY_MODEL_1098627a64ba48fc9efa0513eaf702c9",
              "IPY_MODEL_a6b4c9c3977a448f8fd095aa224f0bdd",
              "IPY_MODEL_71500fddc9ae4eae961f3558010ab975",
              "IPY_MODEL_401d0c2cbd154ffb83a351dd39b4833d",
              "IPY_MODEL_13a0fc8cfa634b24930f3f0c49941fb0",
              "IPY_MODEL_286ef54e14f344a69f6df5740e8eb6db",
              "IPY_MODEL_5d44c047170a4d56b54c80d80da78b57",
              "IPY_MODEL_8ee05a1f2af24b04834bdb1f8fce64be",
              "IPY_MODEL_03cc605c92484973838a5e41e66e9acd",
              "IPY_MODEL_2a63f74684ce471d921ea3909c0a4127",
              "IPY_MODEL_b4aee95d8c2c4c14987065277b0e5d71",
              "IPY_MODEL_6fc0353c30b1435694f1f34d98d1479f",
              "IPY_MODEL_4bbd9394748d447dbbe48226d58df8f2",
              "IPY_MODEL_3c18217a1803422b96ec4f3de69f16ea",
              "IPY_MODEL_75f097e3347543e195abac5d1f3d5b3a",
              "IPY_MODEL_f7a3b80181a7436b909da1df710cb777",
              "IPY_MODEL_02df635961b046a38bc6af0dd20df9aa",
              "IPY_MODEL_d3d626f0fd284801aa8e2999d1b5499b",
              "IPY_MODEL_9f5c39aceab84053b477c2efaee7b7dc",
              "IPY_MODEL_72a1a8c7110647178fea8a15dc51bc18",
              "IPY_MODEL_0b14da437cd647c7a8f3c766e652391f",
              "IPY_MODEL_9fdadc648bac47d1a7a3f30e3c342e1e"
            ],
            "layout": "IPY_MODEL_09b82a4ecdb946018efb99a3701481d5",
            "left": 7175979,
            "max_zoom": null,
            "min_zoom": null,
            "modisdate": "2024-03-23",
            "north": 37.332426301252056,
            "options": [
              "bounce_at_zoom_limits",
              "box_zoom",
              "center",
              "close_popup_on_click",
              "double_click_zoom",
              "dragging",
              "fullscreen",
              "inertia",
              "inertia_deceleration",
              "inertia_max_speed",
              "interpolation",
              "keyboard",
              "keyboard_pan_offset",
              "keyboard_zoom_offset",
              "max_zoom",
              "min_zoom",
              "prefer_canvas",
              "scroll_wheel_zoom",
              "tap",
              "tap_tolerance",
              "touch_zoom",
              "world_copy_jump",
              "zoom",
              "zoom_animation_threshold",
              "zoom_delta",
              "zoom_snap"
            ],
            "panes": {},
            "prefer_canvas": false,
            "right": 7176779,
            "scroll_wheel_zoom": false,
            "south": 37.315362716526046,
            "style": "IPY_MODEL_83eb69c1baa047db989896bf18360039",
            "tap": true,
            "tap_tolerance": 15,
            "top": 3255378,
            "touch_zoom": true,
            "west": 127.95960903167726,
            "window_url": "https://o6cok2sdpxh-496ff2e9c6d22116-0-colab.googleusercontent.com/outputframe.html?vrz=colab_20240321-060149_RC00_617803427",
            "world_copy_jump": false,
            "zoom": 15,
            "zoom_animation_threshold": 4,
            "zoom_delta": 1,
            "zoom_snap": 1
          }
        },
        "b4190be35c104857801e13062a249ffb": {
          "model_module": "jupyter-leaflet",
          "model_name": "LeafletZoomControlModel",
          "model_module_version": "^0.18",
          "state": {
            "_model_module": "jupyter-leaflet",
            "_model_module_version": "^0.18",
            "_model_name": "LeafletZoomControlModel",
            "_view_count": null,
            "_view_module": "jupyter-leaflet",
            "_view_module_version": "^0.18",
            "_view_name": "LeafletZoomControlView",
            "options": [
              "position",
              "zoom_in_text",
              "zoom_in_title",
              "zoom_out_text",
              "zoom_out_title"
            ],
            "position": "topleft",
            "zoom_in_text": "+",
            "zoom_in_title": "Zoom in",
            "zoom_out_text": "-",
            "zoom_out_title": "Zoom out"
          }
        },
        "4917508ca74b4b7080a9caacd3f8054f": {
          "model_module": "jupyter-leaflet",
          "model_name": "LeafletAttributionControlModel",
          "model_module_version": "^0.18",
          "state": {
            "_model_module": "jupyter-leaflet",
            "_model_module_version": "^0.18",
            "_model_name": "LeafletAttributionControlModel",
            "_view_count": null,
            "_view_module": "jupyter-leaflet",
            "_view_module_version": "^0.18",
            "_view_name": "LeafletAttributionControlView",
            "options": [
              "position",
              "prefix"
            ],
            "position": "bottomright",
            "prefix": "ipyleaflet"
          }
        },
        "dbf87aa23e964f48a16f7767e6f5df50": {
          "model_module": "jupyter-leaflet",
          "model_name": "LeafletMapStyleModel",
          "model_module_version": "^0.18",
          "state": {
            "_model_module": "jupyter-leaflet",
            "_model_module_version": "^0.18",
            "_model_name": "LeafletMapStyleModel",
            "_view_count": null,
            "_view_module": "@jupyter-widgets/base",
            "_view_module_version": "1.2.0",
            "_view_name": "StyleView",
            "cursor": "grab"
          }
        },
        "29004d6a83304fcca3bb1e320c56f701": {
          "model_module": "jupyter-leaflet",
          "model_name": "LeafletMapStyleModel",
          "model_module_version": "^0.18",
          "state": {
            "_model_module": "jupyter-leaflet",
            "_model_module_version": "^0.18",
            "_model_name": "LeafletMapStyleModel",
            "_view_count": null,
            "_view_module": "@jupyter-widgets/base",
            "_view_module_version": "1.2.0",
            "_view_name": "StyleView",
            "cursor": "move"
          }
        },
        "c1f1ead64bf045faa5486e7ee09d8c6e": {
          "model_module": "jupyter-leaflet",
          "model_name": "LeafletTileLayerModel",
          "model_module_version": "^0.18",
          "state": {
            "_model_module": "jupyter-leaflet",
            "_model_module_version": "^0.18",
            "_model_name": "LeafletTileLayerModel",
            "_view_count": null,
            "_view_module": "jupyter-leaflet",
            "_view_module_version": "^0.18",
            "_view_name": "LeafletTileLayerView",
            "attribution": "Vworld",
            "base": false,
            "bottom": true,
            "bounds": null,
            "detect_retina": false,
            "loading": false,
            "max_native_zoom": null,
            "max_zoom": 18,
            "min_native_zoom": null,
            "min_zoom": 0,
            "name": "Vworld White",
            "no_wrap": false,
            "opacity": 1,
            "options": [
              "attribution",
              "bounds",
              "detect_retina",
              "max_native_zoom",
              "max_zoom",
              "min_native_zoom",
              "min_zoom",
              "no_wrap",
              "tile_size",
              "tms",
              "zoom_offset"
            ],
            "pane": "",
            "popup": null,
            "popup_max_height": null,
            "popup_max_width": 300,
            "popup_min_width": 50,
            "show_loading": false,
            "subitems": [],
            "tile_size": 256,
            "tms": false,
            "url": "https://xdworld.vworld.kr/2d/white/service/{z}/{x}/{y}.png",
            "visible": true,
            "zoom_offset": 0
          }
        },
        "cb0ed8d465bf4fc8aef192d21f31ec32": {
          "model_module": "jupyter-leaflet",
          "model_name": "LeafletMarkerModel",
          "model_module_version": "^0.18",
          "state": {
            "_model_module": "jupyter-leaflet",
            "_model_module_version": "^0.18",
            "_model_name": "LeafletMarkerModel",
            "_view_count": null,
            "_view_module": "jupyter-leaflet",
            "_view_module_version": "^0.18",
            "_view_name": "LeafletMarkerView",
            "alt": "",
            "base": false,
            "bottom": false,
            "draggable": false,
            "icon": null,
            "keyboard": true,
            "location": [
              37.3238905538685,
              127.97675554397
            ],
            "name": "",
            "opacity": 1,
            "options": [
              "alt",
              "draggable",
              "keyboard",
              "rise_offset",
              "rise_on_hover",
              "rotation_angle",
              "rotation_origin",
              "title",
              "z_index_offset"
            ],
            "pane": "",
            "popup": null,
            "popup_max_height": null,
            "popup_max_width": 300,
            "popup_min_width": 50,
            "rise_offset": 250,
            "rise_on_hover": false,
            "rotation_angle": 0,
            "rotation_origin": "",
            "subitems": [],
            "title": "",
            "visible": true,
            "z_index_offset": 0
          }
        },
        "36d1aeb112134b6dabc5c507576171f9": {
          "model_module": "jupyter-leaflet",
          "model_name": "LeafletRectangleModel",
          "model_module_version": "^0.18",
          "state": {
            "_model_module": "jupyter-leaflet",
            "_model_module_version": "^0.18",
            "_model_name": "LeafletRectangleModel",
            "_view_count": null,
            "_view_module": "jupyter-leaflet",
            "_view_module_version": "^0.18",
            "_view_name": "LeafletRectangleView",
            "base": false,
            "bottom": false,
            "bounds": [
              [
                37.32614280612075,
                127.96542660267085
              ],
              [
                37.328395058373005,
                127.96825883799563
              ]
            ],
            "color": "red",
            "dash_array": null,
            "draggable": false,
            "fill": true,
            "fill_color": null,
            "fill_opacity": 0.1,
            "line_cap": "round",
            "line_join": "round",
            "locations": [],
            "name": "",
            "no_clip": true,
            "opacity": 1,
            "options": [
              "color",
              "dash_array",
              "draggable",
              "fill",
              "fill_color",
              "fill_opacity",
              "line_cap",
              "line_join",
              "no_clip",
              "opacity",
              "pointer_events",
              "smooth_factor",
              "stroke",
              "transform",
              "weight"
            ],
            "pane": "",
            "pointer_events": "",
            "popup": null,
            "popup_max_height": null,
            "popup_max_width": 300,
            "popup_min_width": 50,
            "rotation": true,
            "scaling": true,
            "smooth_factor": 1,
            "stroke": true,
            "subitems": [],
            "transform": false,
            "uniform_scaling": false,
            "weight": 5
          }
        },
        "f61797ae39994aedae3e61214a24900a": {
          "model_module": "jupyter-leaflet",
          "model_name": "LeafletRectangleModel",
          "model_module_version": "^0.18",
          "state": {
            "_model_module": "jupyter-leaflet",
            "_model_module_version": "^0.18",
            "_model_name": "LeafletRectangleModel",
            "_view_count": null,
            "_view_module": "jupyter-leaflet",
            "_view_module_version": "^0.18",
            "_view_name": "LeafletRectangleView",
            "base": false,
            "bottom": false,
            "bounds": [
              [
                37.32614280612075,
                127.96825883799563
              ],
              [
                37.328395058373005,
                127.97109107332042
              ]
            ],
            "color": "red",
            "dash_array": null,
            "draggable": false,
            "fill": true,
            "fill_color": null,
            "fill_opacity": 0.1,
            "line_cap": "round",
            "line_join": "round",
            "locations": [],
            "name": "",
            "no_clip": true,
            "opacity": 1,
            "options": [
              "color",
              "dash_array",
              "draggable",
              "fill",
              "fill_color",
              "fill_opacity",
              "line_cap",
              "line_join",
              "no_clip",
              "opacity",
              "pointer_events",
              "smooth_factor",
              "stroke",
              "transform",
              "weight"
            ],
            "pane": "",
            "pointer_events": "",
            "popup": null,
            "popup_max_height": null,
            "popup_max_width": 300,
            "popup_min_width": 50,
            "rotation": true,
            "scaling": true,
            "smooth_factor": 1,
            "stroke": true,
            "subitems": [],
            "transform": false,
            "uniform_scaling": false,
            "weight": 5
          }
        },
        "687f562b90cf4c009c2295ec1a5c51a7": {
          "model_module": "jupyter-leaflet",
          "model_name": "LeafletRectangleModel",
          "model_module_version": "^0.18",
          "state": {
            "_model_module": "jupyter-leaflet",
            "_model_module_version": "^0.18",
            "_model_name": "LeafletRectangleModel",
            "_view_count": null,
            "_view_module": "jupyter-leaflet",
            "_view_module_version": "^0.18",
            "_view_name": "LeafletRectangleView",
            "base": false,
            "bottom": false,
            "bounds": [
              [
                37.32614280612075,
                127.97109107332042
              ],
              [
                37.328395058373005,
                127.97392330864521
              ]
            ],
            "color": "red",
            "dash_array": null,
            "draggable": false,
            "fill": true,
            "fill_color": null,
            "fill_opacity": 0.1,
            "line_cap": "round",
            "line_join": "round",
            "locations": [],
            "name": "",
            "no_clip": true,
            "opacity": 1,
            "options": [
              "color",
              "dash_array",
              "draggable",
              "fill",
              "fill_color",
              "fill_opacity",
              "line_cap",
              "line_join",
              "no_clip",
              "opacity",
              "pointer_events",
              "smooth_factor",
              "stroke",
              "transform",
              "weight"
            ],
            "pane": "",
            "pointer_events": "",
            "popup": null,
            "popup_max_height": null,
            "popup_max_width": 300,
            "popup_min_width": 50,
            "rotation": true,
            "scaling": true,
            "smooth_factor": 1,
            "stroke": true,
            "subitems": [],
            "transform": false,
            "uniform_scaling": false,
            "weight": 5
          }
        },
        "61af3d6d77ea4d478c0ec2057ba5068d": {
          "model_module": "jupyter-leaflet",
          "model_name": "LeafletRectangleModel",
          "model_module_version": "^0.18",
          "state": {
            "_model_module": "jupyter-leaflet",
            "_model_module_version": "^0.18",
            "_model_name": "LeafletRectangleModel",
            "_view_count": null,
            "_view_module": "jupyter-leaflet",
            "_view_module_version": "^0.18",
            "_view_name": "LeafletRectangleView",
            "base": false,
            "bottom": false,
            "bounds": [
              [
                37.32614280612075,
                127.97392330864521
              ],
              [
                37.328395058373005,
                127.97675554397
              ]
            ],
            "color": "red",
            "dash_array": null,
            "draggable": false,
            "fill": true,
            "fill_color": null,
            "fill_opacity": 0.1,
            "line_cap": "round",
            "line_join": "round",
            "locations": [],
            "name": "",
            "no_clip": true,
            "opacity": 1,
            "options": [
              "color",
              "dash_array",
              "draggable",
              "fill",
              "fill_color",
              "fill_opacity",
              "line_cap",
              "line_join",
              "no_clip",
              "opacity",
              "pointer_events",
              "smooth_factor",
              "stroke",
              "transform",
              "weight"
            ],
            "pane": "",
            "pointer_events": "",
            "popup": null,
            "popup_max_height": null,
            "popup_max_width": 300,
            "popup_min_width": 50,
            "rotation": true,
            "scaling": true,
            "smooth_factor": 1,
            "stroke": true,
            "subitems": [],
            "transform": false,
            "uniform_scaling": false,
            "weight": 5
          }
        },
        "c23a4030a5e54cc392378de5ecfc1808": {
          "model_module": "jupyter-leaflet",
          "model_name": "LeafletRectangleModel",
          "model_module_version": "^0.18",
          "state": {
            "_model_module": "jupyter-leaflet",
            "_model_module_version": "^0.18",
            "_model_name": "LeafletRectangleModel",
            "_view_count": null,
            "_view_module": "jupyter-leaflet",
            "_view_module_version": "^0.18",
            "_view_name": "LeafletRectangleView",
            "base": false,
            "bottom": false,
            "bounds": [
              [
                37.32614280612075,
                127.97675554397
              ],
              [
                37.328395058373005,
                127.97958777929479
              ]
            ],
            "color": "red",
            "dash_array": null,
            "draggable": false,
            "fill": true,
            "fill_color": null,
            "fill_opacity": 0.1,
            "line_cap": "round",
            "line_join": "round",
            "locations": [],
            "name": "",
            "no_clip": true,
            "opacity": 1,
            "options": [
              "color",
              "dash_array",
              "draggable",
              "fill",
              "fill_color",
              "fill_opacity",
              "line_cap",
              "line_join",
              "no_clip",
              "opacity",
              "pointer_events",
              "smooth_factor",
              "stroke",
              "transform",
              "weight"
            ],
            "pane": "",
            "pointer_events": "",
            "popup": null,
            "popup_max_height": null,
            "popup_max_width": 300,
            "popup_min_width": 50,
            "rotation": true,
            "scaling": true,
            "smooth_factor": 1,
            "stroke": true,
            "subitems": [],
            "transform": false,
            "uniform_scaling": false,
            "weight": 5
          }
        },
        "4cc3caf0c9e148f5b29649b265c861cd": {
          "model_module": "jupyter-leaflet",
          "model_name": "LeafletRectangleModel",
          "model_module_version": "^0.18",
          "state": {
            "_model_module": "jupyter-leaflet",
            "_model_module_version": "^0.18",
            "_model_name": "LeafletRectangleModel",
            "_view_count": null,
            "_view_module": "jupyter-leaflet",
            "_view_module_version": "^0.18",
            "_view_name": "LeafletRectangleView",
            "base": false,
            "bottom": false,
            "bounds": [
              [
                37.32614280612075,
                127.9795877792948
              ],
              [
                37.328395058373005,
                127.98242001461959
              ]
            ],
            "color": "red",
            "dash_array": null,
            "draggable": false,
            "fill": true,
            "fill_color": null,
            "fill_opacity": 0.1,
            "line_cap": "round",
            "line_join": "round",
            "locations": [],
            "name": "",
            "no_clip": true,
            "opacity": 1,
            "options": [
              "color",
              "dash_array",
              "draggable",
              "fill",
              "fill_color",
              "fill_opacity",
              "line_cap",
              "line_join",
              "no_clip",
              "opacity",
              "pointer_events",
              "smooth_factor",
              "stroke",
              "transform",
              "weight"
            ],
            "pane": "",
            "pointer_events": "",
            "popup": null,
            "popup_max_height": null,
            "popup_max_width": 300,
            "popup_min_width": 50,
            "rotation": true,
            "scaling": true,
            "smooth_factor": 1,
            "stroke": true,
            "subitems": [],
            "transform": false,
            "uniform_scaling": false,
            "weight": 5
          }
        },
        "6a23515976b94dff8ccf0e852fe37291": {
          "model_module": "jupyter-leaflet",
          "model_name": "LeafletRectangleModel",
          "model_module_version": "^0.18",
          "state": {
            "_model_module": "jupyter-leaflet",
            "_model_module_version": "^0.18",
            "_model_name": "LeafletRectangleModel",
            "_view_count": null,
            "_view_module": "jupyter-leaflet",
            "_view_module_version": "^0.18",
            "_view_name": "LeafletRectangleView",
            "base": false,
            "bottom": false,
            "bounds": [
              [
                37.32614280612075,
                127.98242001461959
              ],
              [
                37.328395058373005,
                127.98525224994438
              ]
            ],
            "color": "red",
            "dash_array": null,
            "draggable": false,
            "fill": true,
            "fill_color": null,
            "fill_opacity": 0.1,
            "line_cap": "round",
            "line_join": "round",
            "locations": [],
            "name": "",
            "no_clip": true,
            "opacity": 1,
            "options": [
              "color",
              "dash_array",
              "draggable",
              "fill",
              "fill_color",
              "fill_opacity",
              "line_cap",
              "line_join",
              "no_clip",
              "opacity",
              "pointer_events",
              "smooth_factor",
              "stroke",
              "transform",
              "weight"
            ],
            "pane": "",
            "pointer_events": "",
            "popup": null,
            "popup_max_height": null,
            "popup_max_width": 300,
            "popup_min_width": 50,
            "rotation": true,
            "scaling": true,
            "smooth_factor": 1,
            "stroke": true,
            "subitems": [],
            "transform": false,
            "uniform_scaling": false,
            "weight": 5
          }
        },
        "1f8be8bdcfed459aa031a74708b307ff": {
          "model_module": "jupyter-leaflet",
          "model_name": "LeafletRectangleModel",
          "model_module_version": "^0.18",
          "state": {
            "_model_module": "jupyter-leaflet",
            "_model_module_version": "^0.18",
            "_model_name": "LeafletRectangleModel",
            "_view_count": null,
            "_view_module": "jupyter-leaflet",
            "_view_module_version": "^0.18",
            "_view_name": "LeafletRectangleView",
            "base": false,
            "bottom": false,
            "bounds": [
              [
                37.32614280612075,
                127.98525224994438
              ],
              [
                37.328395058373005,
                127.98808448526916
              ]
            ],
            "color": "red",
            "dash_array": null,
            "draggable": false,
            "fill": true,
            "fill_color": null,
            "fill_opacity": 0.1,
            "line_cap": "round",
            "line_join": "round",
            "locations": [],
            "name": "",
            "no_clip": true,
            "opacity": 1,
            "options": [
              "color",
              "dash_array",
              "draggable",
              "fill",
              "fill_color",
              "fill_opacity",
              "line_cap",
              "line_join",
              "no_clip",
              "opacity",
              "pointer_events",
              "smooth_factor",
              "stroke",
              "transform",
              "weight"
            ],
            "pane": "",
            "pointer_events": "",
            "popup": null,
            "popup_max_height": null,
            "popup_max_width": 300,
            "popup_min_width": 50,
            "rotation": true,
            "scaling": true,
            "smooth_factor": 1,
            "stroke": true,
            "subitems": [],
            "transform": false,
            "uniform_scaling": false,
            "weight": 5
          }
        },
        "2ac64503974b4aca96d034197225a199": {
          "model_module": "jupyter-leaflet",
          "model_name": "LeafletRectangleModel",
          "model_module_version": "^0.18",
          "state": {
            "_model_module": "jupyter-leaflet",
            "_model_module_version": "^0.18",
            "_model_name": "LeafletRectangleModel",
            "_view_count": null,
            "_view_module": "jupyter-leaflet",
            "_view_module_version": "^0.18",
            "_view_name": "LeafletRectangleView",
            "base": false,
            "bottom": false,
            "bounds": [
              [
                37.323890553868495,
                127.96542660267085
              ],
              [
                37.32614280612075,
                127.96825883799563
              ]
            ],
            "color": "red",
            "dash_array": null,
            "draggable": false,
            "fill": true,
            "fill_color": null,
            "fill_opacity": 0.1,
            "line_cap": "round",
            "line_join": "round",
            "locations": [],
            "name": "",
            "no_clip": true,
            "opacity": 1,
            "options": [
              "color",
              "dash_array",
              "draggable",
              "fill",
              "fill_color",
              "fill_opacity",
              "line_cap",
              "line_join",
              "no_clip",
              "opacity",
              "pointer_events",
              "smooth_factor",
              "stroke",
              "transform",
              "weight"
            ],
            "pane": "",
            "pointer_events": "",
            "popup": null,
            "popup_max_height": null,
            "popup_max_width": 300,
            "popup_min_width": 50,
            "rotation": true,
            "scaling": true,
            "smooth_factor": 1,
            "stroke": true,
            "subitems": [],
            "transform": false,
            "uniform_scaling": false,
            "weight": 5
          }
        },
        "f449dc889d984b968ca3d96798ddb0c5": {
          "model_module": "jupyter-leaflet",
          "model_name": "LeafletRectangleModel",
          "model_module_version": "^0.18",
          "state": {
            "_model_module": "jupyter-leaflet",
            "_model_module_version": "^0.18",
            "_model_name": "LeafletRectangleModel",
            "_view_count": null,
            "_view_module": "jupyter-leaflet",
            "_view_module_version": "^0.18",
            "_view_name": "LeafletRectangleView",
            "base": false,
            "bottom": false,
            "bounds": [
              [
                37.323890553868495,
                127.96825883799563
              ],
              [
                37.32614280612075,
                127.97109107332042
              ]
            ],
            "color": "red",
            "dash_array": null,
            "draggable": false,
            "fill": true,
            "fill_color": null,
            "fill_opacity": 0.1,
            "line_cap": "round",
            "line_join": "round",
            "locations": [],
            "name": "",
            "no_clip": true,
            "opacity": 1,
            "options": [
              "color",
              "dash_array",
              "draggable",
              "fill",
              "fill_color",
              "fill_opacity",
              "line_cap",
              "line_join",
              "no_clip",
              "opacity",
              "pointer_events",
              "smooth_factor",
              "stroke",
              "transform",
              "weight"
            ],
            "pane": "",
            "pointer_events": "",
            "popup": null,
            "popup_max_height": null,
            "popup_max_width": 300,
            "popup_min_width": 50,
            "rotation": true,
            "scaling": true,
            "smooth_factor": 1,
            "stroke": true,
            "subitems": [],
            "transform": false,
            "uniform_scaling": false,
            "weight": 5
          }
        },
        "1098627a64ba48fc9efa0513eaf702c9": {
          "model_module": "jupyter-leaflet",
          "model_name": "LeafletRectangleModel",
          "model_module_version": "^0.18",
          "state": {
            "_model_module": "jupyter-leaflet",
            "_model_module_version": "^0.18",
            "_model_name": "LeafletRectangleModel",
            "_view_count": null,
            "_view_module": "jupyter-leaflet",
            "_view_module_version": "^0.18",
            "_view_name": "LeafletRectangleView",
            "base": false,
            "bottom": false,
            "bounds": [
              [
                37.323890553868495,
                127.97109107332042
              ],
              [
                37.32614280612075,
                127.97392330864521
              ]
            ],
            "color": "red",
            "dash_array": null,
            "draggable": false,
            "fill": true,
            "fill_color": null,
            "fill_opacity": 0.1,
            "line_cap": "round",
            "line_join": "round",
            "locations": [],
            "name": "",
            "no_clip": true,
            "opacity": 1,
            "options": [
              "color",
              "dash_array",
              "draggable",
              "fill",
              "fill_color",
              "fill_opacity",
              "line_cap",
              "line_join",
              "no_clip",
              "opacity",
              "pointer_events",
              "smooth_factor",
              "stroke",
              "transform",
              "weight"
            ],
            "pane": "",
            "pointer_events": "",
            "popup": null,
            "popup_max_height": null,
            "popup_max_width": 300,
            "popup_min_width": 50,
            "rotation": true,
            "scaling": true,
            "smooth_factor": 1,
            "stroke": true,
            "subitems": [],
            "transform": false,
            "uniform_scaling": false,
            "weight": 5
          }
        },
        "a6b4c9c3977a448f8fd095aa224f0bdd": {
          "model_module": "jupyter-leaflet",
          "model_name": "LeafletRectangleModel",
          "model_module_version": "^0.18",
          "state": {
            "_model_module": "jupyter-leaflet",
            "_model_module_version": "^0.18",
            "_model_name": "LeafletRectangleModel",
            "_view_count": null,
            "_view_module": "jupyter-leaflet",
            "_view_module_version": "^0.18",
            "_view_name": "LeafletRectangleView",
            "base": false,
            "bottom": false,
            "bounds": [
              [
                37.323890553868495,
                127.97392330864521
              ],
              [
                37.32614280612075,
                127.97675554397
              ]
            ],
            "color": "red",
            "dash_array": null,
            "draggable": false,
            "fill": true,
            "fill_color": null,
            "fill_opacity": 0.1,
            "line_cap": "round",
            "line_join": "round",
            "locations": [],
            "name": "",
            "no_clip": true,
            "opacity": 1,
            "options": [
              "color",
              "dash_array",
              "draggable",
              "fill",
              "fill_color",
              "fill_opacity",
              "line_cap",
              "line_join",
              "no_clip",
              "opacity",
              "pointer_events",
              "smooth_factor",
              "stroke",
              "transform",
              "weight"
            ],
            "pane": "",
            "pointer_events": "",
            "popup": null,
            "popup_max_height": null,
            "popup_max_width": 300,
            "popup_min_width": 50,
            "rotation": true,
            "scaling": true,
            "smooth_factor": 1,
            "stroke": true,
            "subitems": [],
            "transform": false,
            "uniform_scaling": false,
            "weight": 5
          }
        },
        "71500fddc9ae4eae961f3558010ab975": {
          "model_module": "jupyter-leaflet",
          "model_name": "LeafletRectangleModel",
          "model_module_version": "^0.18",
          "state": {
            "_model_module": "jupyter-leaflet",
            "_model_module_version": "^0.18",
            "_model_name": "LeafletRectangleModel",
            "_view_count": null,
            "_view_module": "jupyter-leaflet",
            "_view_module_version": "^0.18",
            "_view_name": "LeafletRectangleView",
            "base": false,
            "bottom": false,
            "bounds": [
              [
                37.323890553868495,
                127.97675554397
              ],
              [
                37.32614280612075,
                127.97958777929479
              ]
            ],
            "color": "red",
            "dash_array": null,
            "draggable": false,
            "fill": true,
            "fill_color": null,
            "fill_opacity": 0.1,
            "line_cap": "round",
            "line_join": "round",
            "locations": [],
            "name": "",
            "no_clip": true,
            "opacity": 1,
            "options": [
              "color",
              "dash_array",
              "draggable",
              "fill",
              "fill_color",
              "fill_opacity",
              "line_cap",
              "line_join",
              "no_clip",
              "opacity",
              "pointer_events",
              "smooth_factor",
              "stroke",
              "transform",
              "weight"
            ],
            "pane": "",
            "pointer_events": "",
            "popup": null,
            "popup_max_height": null,
            "popup_max_width": 300,
            "popup_min_width": 50,
            "rotation": true,
            "scaling": true,
            "smooth_factor": 1,
            "stroke": true,
            "subitems": [],
            "transform": false,
            "uniform_scaling": false,
            "weight": 5
          }
        },
        "401d0c2cbd154ffb83a351dd39b4833d": {
          "model_module": "jupyter-leaflet",
          "model_name": "LeafletRectangleModel",
          "model_module_version": "^0.18",
          "state": {
            "_model_module": "jupyter-leaflet",
            "_model_module_version": "^0.18",
            "_model_name": "LeafletRectangleModel",
            "_view_count": null,
            "_view_module": "jupyter-leaflet",
            "_view_module_version": "^0.18",
            "_view_name": "LeafletRectangleView",
            "base": false,
            "bottom": false,
            "bounds": [
              [
                37.323890553868495,
                127.9795877792948
              ],
              [
                37.32614280612075,
                127.98242001461959
              ]
            ],
            "color": "red",
            "dash_array": null,
            "draggable": false,
            "fill": true,
            "fill_color": null,
            "fill_opacity": 0.1,
            "line_cap": "round",
            "line_join": "round",
            "locations": [],
            "name": "",
            "no_clip": true,
            "opacity": 1,
            "options": [
              "color",
              "dash_array",
              "draggable",
              "fill",
              "fill_color",
              "fill_opacity",
              "line_cap",
              "line_join",
              "no_clip",
              "opacity",
              "pointer_events",
              "smooth_factor",
              "stroke",
              "transform",
              "weight"
            ],
            "pane": "",
            "pointer_events": "",
            "popup": null,
            "popup_max_height": null,
            "popup_max_width": 300,
            "popup_min_width": 50,
            "rotation": true,
            "scaling": true,
            "smooth_factor": 1,
            "stroke": true,
            "subitems": [],
            "transform": false,
            "uniform_scaling": false,
            "weight": 5
          }
        },
        "13a0fc8cfa634b24930f3f0c49941fb0": {
          "model_module": "jupyter-leaflet",
          "model_name": "LeafletRectangleModel",
          "model_module_version": "^0.18",
          "state": {
            "_model_module": "jupyter-leaflet",
            "_model_module_version": "^0.18",
            "_model_name": "LeafletRectangleModel",
            "_view_count": null,
            "_view_module": "jupyter-leaflet",
            "_view_module_version": "^0.18",
            "_view_name": "LeafletRectangleView",
            "base": false,
            "bottom": false,
            "bounds": [
              [
                37.323890553868495,
                127.98242001461959
              ],
              [
                37.32614280612075,
                127.98525224994438
              ]
            ],
            "color": "red",
            "dash_array": null,
            "draggable": false,
            "fill": true,
            "fill_color": null,
            "fill_opacity": 0.1,
            "line_cap": "round",
            "line_join": "round",
            "locations": [],
            "name": "",
            "no_clip": true,
            "opacity": 1,
            "options": [
              "color",
              "dash_array",
              "draggable",
              "fill",
              "fill_color",
              "fill_opacity",
              "line_cap",
              "line_join",
              "no_clip",
              "opacity",
              "pointer_events",
              "smooth_factor",
              "stroke",
              "transform",
              "weight"
            ],
            "pane": "",
            "pointer_events": "",
            "popup": null,
            "popup_max_height": null,
            "popup_max_width": 300,
            "popup_min_width": 50,
            "rotation": true,
            "scaling": true,
            "smooth_factor": 1,
            "stroke": true,
            "subitems": [],
            "transform": false,
            "uniform_scaling": false,
            "weight": 5
          }
        },
        "286ef54e14f344a69f6df5740e8eb6db": {
          "model_module": "jupyter-leaflet",
          "model_name": "LeafletRectangleModel",
          "model_module_version": "^0.18",
          "state": {
            "_model_module": "jupyter-leaflet",
            "_model_module_version": "^0.18",
            "_model_name": "LeafletRectangleModel",
            "_view_count": null,
            "_view_module": "jupyter-leaflet",
            "_view_module_version": "^0.18",
            "_view_name": "LeafletRectangleView",
            "base": false,
            "bottom": false,
            "bounds": [
              [
                37.323890553868495,
                127.98525224994438
              ],
              [
                37.32614280612075,
                127.98808448526916
              ]
            ],
            "color": "red",
            "dash_array": null,
            "draggable": false,
            "fill": true,
            "fill_color": null,
            "fill_opacity": 0.1,
            "line_cap": "round",
            "line_join": "round",
            "locations": [],
            "name": "",
            "no_clip": true,
            "opacity": 1,
            "options": [
              "color",
              "dash_array",
              "draggable",
              "fill",
              "fill_color",
              "fill_opacity",
              "line_cap",
              "line_join",
              "no_clip",
              "opacity",
              "pointer_events",
              "smooth_factor",
              "stroke",
              "transform",
              "weight"
            ],
            "pane": "",
            "pointer_events": "",
            "popup": null,
            "popup_max_height": null,
            "popup_max_width": 300,
            "popup_min_width": 50,
            "rotation": true,
            "scaling": true,
            "smooth_factor": 1,
            "stroke": true,
            "subitems": [],
            "transform": false,
            "uniform_scaling": false,
            "weight": 5
          }
        },
        "5d44c047170a4d56b54c80d80da78b57": {
          "model_module": "jupyter-leaflet",
          "model_name": "LeafletRectangleModel",
          "model_module_version": "^0.18",
          "state": {
            "_model_module": "jupyter-leaflet",
            "_model_module_version": "^0.18",
            "_model_name": "LeafletRectangleModel",
            "_view_count": null,
            "_view_module": "jupyter-leaflet",
            "_view_module_version": "^0.18",
            "_view_name": "LeafletRectangleView",
            "base": false,
            "bottom": false,
            "bounds": [
              [
                37.32163830161625,
                127.96542660267085
              ],
              [
                37.3238905538685,
                127.96825883799563
              ]
            ],
            "color": "red",
            "dash_array": null,
            "draggable": false,
            "fill": true,
            "fill_color": null,
            "fill_opacity": 0.1,
            "line_cap": "round",
            "line_join": "round",
            "locations": [],
            "name": "",
            "no_clip": true,
            "opacity": 1,
            "options": [
              "color",
              "dash_array",
              "draggable",
              "fill",
              "fill_color",
              "fill_opacity",
              "line_cap",
              "line_join",
              "no_clip",
              "opacity",
              "pointer_events",
              "smooth_factor",
              "stroke",
              "transform",
              "weight"
            ],
            "pane": "",
            "pointer_events": "",
            "popup": null,
            "popup_max_height": null,
            "popup_max_width": 300,
            "popup_min_width": 50,
            "rotation": true,
            "scaling": true,
            "smooth_factor": 1,
            "stroke": true,
            "subitems": [],
            "transform": false,
            "uniform_scaling": false,
            "weight": 5
          }
        },
        "8ee05a1f2af24b04834bdb1f8fce64be": {
          "model_module": "jupyter-leaflet",
          "model_name": "LeafletRectangleModel",
          "model_module_version": "^0.18",
          "state": {
            "_model_module": "jupyter-leaflet",
            "_model_module_version": "^0.18",
            "_model_name": "LeafletRectangleModel",
            "_view_count": null,
            "_view_module": "jupyter-leaflet",
            "_view_module_version": "^0.18",
            "_view_name": "LeafletRectangleView",
            "base": false,
            "bottom": false,
            "bounds": [
              [
                37.32163830161625,
                127.96825883799563
              ],
              [
                37.3238905538685,
                127.97109107332042
              ]
            ],
            "color": "red",
            "dash_array": null,
            "draggable": false,
            "fill": true,
            "fill_color": null,
            "fill_opacity": 0.1,
            "line_cap": "round",
            "line_join": "round",
            "locations": [],
            "name": "",
            "no_clip": true,
            "opacity": 1,
            "options": [
              "color",
              "dash_array",
              "draggable",
              "fill",
              "fill_color",
              "fill_opacity",
              "line_cap",
              "line_join",
              "no_clip",
              "opacity",
              "pointer_events",
              "smooth_factor",
              "stroke",
              "transform",
              "weight"
            ],
            "pane": "",
            "pointer_events": "",
            "popup": null,
            "popup_max_height": null,
            "popup_max_width": 300,
            "popup_min_width": 50,
            "rotation": true,
            "scaling": true,
            "smooth_factor": 1,
            "stroke": true,
            "subitems": [],
            "transform": false,
            "uniform_scaling": false,
            "weight": 5
          }
        },
        "03cc605c92484973838a5e41e66e9acd": {
          "model_module": "jupyter-leaflet",
          "model_name": "LeafletRectangleModel",
          "model_module_version": "^0.18",
          "state": {
            "_model_module": "jupyter-leaflet",
            "_model_module_version": "^0.18",
            "_model_name": "LeafletRectangleModel",
            "_view_count": null,
            "_view_module": "jupyter-leaflet",
            "_view_module_version": "^0.18",
            "_view_name": "LeafletRectangleView",
            "base": false,
            "bottom": false,
            "bounds": [
              [
                37.32163830161625,
                127.97109107332042
              ],
              [
                37.3238905538685,
                127.97392330864521
              ]
            ],
            "color": "red",
            "dash_array": null,
            "draggable": false,
            "fill": true,
            "fill_color": null,
            "fill_opacity": 0.1,
            "line_cap": "round",
            "line_join": "round",
            "locations": [],
            "name": "",
            "no_clip": true,
            "opacity": 1,
            "options": [
              "color",
              "dash_array",
              "draggable",
              "fill",
              "fill_color",
              "fill_opacity",
              "line_cap",
              "line_join",
              "no_clip",
              "opacity",
              "pointer_events",
              "smooth_factor",
              "stroke",
              "transform",
              "weight"
            ],
            "pane": "",
            "pointer_events": "",
            "popup": null,
            "popup_max_height": null,
            "popup_max_width": 300,
            "popup_min_width": 50,
            "rotation": true,
            "scaling": true,
            "smooth_factor": 1,
            "stroke": true,
            "subitems": [],
            "transform": false,
            "uniform_scaling": false,
            "weight": 5
          }
        },
        "2a63f74684ce471d921ea3909c0a4127": {
          "model_module": "jupyter-leaflet",
          "model_name": "LeafletRectangleModel",
          "model_module_version": "^0.18",
          "state": {
            "_model_module": "jupyter-leaflet",
            "_model_module_version": "^0.18",
            "_model_name": "LeafletRectangleModel",
            "_view_count": null,
            "_view_module": "jupyter-leaflet",
            "_view_module_version": "^0.18",
            "_view_name": "LeafletRectangleView",
            "base": false,
            "bottom": false,
            "bounds": [
              [
                37.32163830161625,
                127.97392330864521
              ],
              [
                37.3238905538685,
                127.97675554397
              ]
            ],
            "color": "red",
            "dash_array": null,
            "draggable": false,
            "fill": true,
            "fill_color": null,
            "fill_opacity": 0.1,
            "line_cap": "round",
            "line_join": "round",
            "locations": [],
            "name": "",
            "no_clip": true,
            "opacity": 1,
            "options": [
              "color",
              "dash_array",
              "draggable",
              "fill",
              "fill_color",
              "fill_opacity",
              "line_cap",
              "line_join",
              "no_clip",
              "opacity",
              "pointer_events",
              "smooth_factor",
              "stroke",
              "transform",
              "weight"
            ],
            "pane": "",
            "pointer_events": "",
            "popup": null,
            "popup_max_height": null,
            "popup_max_width": 300,
            "popup_min_width": 50,
            "rotation": true,
            "scaling": true,
            "smooth_factor": 1,
            "stroke": true,
            "subitems": [],
            "transform": false,
            "uniform_scaling": false,
            "weight": 5
          }
        },
        "b4aee95d8c2c4c14987065277b0e5d71": {
          "model_module": "jupyter-leaflet",
          "model_name": "LeafletRectangleModel",
          "model_module_version": "^0.18",
          "state": {
            "_model_module": "jupyter-leaflet",
            "_model_module_version": "^0.18",
            "_model_name": "LeafletRectangleModel",
            "_view_count": null,
            "_view_module": "jupyter-leaflet",
            "_view_module_version": "^0.18",
            "_view_name": "LeafletRectangleView",
            "base": false,
            "bottom": false,
            "bounds": [
              [
                37.32163830161625,
                127.97675554397
              ],
              [
                37.3238905538685,
                127.97958777929479
              ]
            ],
            "color": "red",
            "dash_array": null,
            "draggable": false,
            "fill": true,
            "fill_color": null,
            "fill_opacity": 0.1,
            "line_cap": "round",
            "line_join": "round",
            "locations": [],
            "name": "",
            "no_clip": true,
            "opacity": 1,
            "options": [
              "color",
              "dash_array",
              "draggable",
              "fill",
              "fill_color",
              "fill_opacity",
              "line_cap",
              "line_join",
              "no_clip",
              "opacity",
              "pointer_events",
              "smooth_factor",
              "stroke",
              "transform",
              "weight"
            ],
            "pane": "",
            "pointer_events": "",
            "popup": null,
            "popup_max_height": null,
            "popup_max_width": 300,
            "popup_min_width": 50,
            "rotation": true,
            "scaling": true,
            "smooth_factor": 1,
            "stroke": true,
            "subitems": [],
            "transform": false,
            "uniform_scaling": false,
            "weight": 5
          }
        },
        "6fc0353c30b1435694f1f34d98d1479f": {
          "model_module": "jupyter-leaflet",
          "model_name": "LeafletRectangleModel",
          "model_module_version": "^0.18",
          "state": {
            "_model_module": "jupyter-leaflet",
            "_model_module_version": "^0.18",
            "_model_name": "LeafletRectangleModel",
            "_view_count": null,
            "_view_module": "jupyter-leaflet",
            "_view_module_version": "^0.18",
            "_view_name": "LeafletRectangleView",
            "base": false,
            "bottom": false,
            "bounds": [
              [
                37.32163830161625,
                127.9795877792948
              ],
              [
                37.3238905538685,
                127.98242001461959
              ]
            ],
            "color": "red",
            "dash_array": null,
            "draggable": false,
            "fill": true,
            "fill_color": null,
            "fill_opacity": 0.1,
            "line_cap": "round",
            "line_join": "round",
            "locations": [],
            "name": "",
            "no_clip": true,
            "opacity": 1,
            "options": [
              "color",
              "dash_array",
              "draggable",
              "fill",
              "fill_color",
              "fill_opacity",
              "line_cap",
              "line_join",
              "no_clip",
              "opacity",
              "pointer_events",
              "smooth_factor",
              "stroke",
              "transform",
              "weight"
            ],
            "pane": "",
            "pointer_events": "",
            "popup": null,
            "popup_max_height": null,
            "popup_max_width": 300,
            "popup_min_width": 50,
            "rotation": true,
            "scaling": true,
            "smooth_factor": 1,
            "stroke": true,
            "subitems": [],
            "transform": false,
            "uniform_scaling": false,
            "weight": 5
          }
        },
        "4bbd9394748d447dbbe48226d58df8f2": {
          "model_module": "jupyter-leaflet",
          "model_name": "LeafletRectangleModel",
          "model_module_version": "^0.18",
          "state": {
            "_model_module": "jupyter-leaflet",
            "_model_module_version": "^0.18",
            "_model_name": "LeafletRectangleModel",
            "_view_count": null,
            "_view_module": "jupyter-leaflet",
            "_view_module_version": "^0.18",
            "_view_name": "LeafletRectangleView",
            "base": false,
            "bottom": false,
            "bounds": [
              [
                37.32163830161625,
                127.98242001461959
              ],
              [
                37.3238905538685,
                127.98525224994438
              ]
            ],
            "color": "red",
            "dash_array": null,
            "draggable": false,
            "fill": true,
            "fill_color": null,
            "fill_opacity": 0.1,
            "line_cap": "round",
            "line_join": "round",
            "locations": [],
            "name": "",
            "no_clip": true,
            "opacity": 1,
            "options": [
              "color",
              "dash_array",
              "draggable",
              "fill",
              "fill_color",
              "fill_opacity",
              "line_cap",
              "line_join",
              "no_clip",
              "opacity",
              "pointer_events",
              "smooth_factor",
              "stroke",
              "transform",
              "weight"
            ],
            "pane": "",
            "pointer_events": "",
            "popup": null,
            "popup_max_height": null,
            "popup_max_width": 300,
            "popup_min_width": 50,
            "rotation": true,
            "scaling": true,
            "smooth_factor": 1,
            "stroke": true,
            "subitems": [],
            "transform": false,
            "uniform_scaling": false,
            "weight": 5
          }
        },
        "3c18217a1803422b96ec4f3de69f16ea": {
          "model_module": "jupyter-leaflet",
          "model_name": "LeafletRectangleModel",
          "model_module_version": "^0.18",
          "state": {
            "_model_module": "jupyter-leaflet",
            "_model_module_version": "^0.18",
            "_model_name": "LeafletRectangleModel",
            "_view_count": null,
            "_view_module": "jupyter-leaflet",
            "_view_module_version": "^0.18",
            "_view_name": "LeafletRectangleView",
            "base": false,
            "bottom": false,
            "bounds": [
              [
                37.32163830161625,
                127.98525224994438
              ],
              [
                37.3238905538685,
                127.98808448526916
              ]
            ],
            "color": "red",
            "dash_array": null,
            "draggable": false,
            "fill": true,
            "fill_color": null,
            "fill_opacity": 0.1,
            "line_cap": "round",
            "line_join": "round",
            "locations": [],
            "name": "",
            "no_clip": true,
            "opacity": 1,
            "options": [
              "color",
              "dash_array",
              "draggable",
              "fill",
              "fill_color",
              "fill_opacity",
              "line_cap",
              "line_join",
              "no_clip",
              "opacity",
              "pointer_events",
              "smooth_factor",
              "stroke",
              "transform",
              "weight"
            ],
            "pane": "",
            "pointer_events": "",
            "popup": null,
            "popup_max_height": null,
            "popup_max_width": 300,
            "popup_min_width": 50,
            "rotation": true,
            "scaling": true,
            "smooth_factor": 1,
            "stroke": true,
            "subitems": [],
            "transform": false,
            "uniform_scaling": false,
            "weight": 5
          }
        },
        "75f097e3347543e195abac5d1f3d5b3a": {
          "model_module": "jupyter-leaflet",
          "model_name": "LeafletRectangleModel",
          "model_module_version": "^0.18",
          "state": {
            "_model_module": "jupyter-leaflet",
            "_model_module_version": "^0.18",
            "_model_name": "LeafletRectangleModel",
            "_view_count": null,
            "_view_module": "jupyter-leaflet",
            "_view_module_version": "^0.18",
            "_view_name": "LeafletRectangleView",
            "base": false,
            "bottom": false,
            "bounds": [
              [
                37.319386049364,
                127.96542660267085
              ],
              [
                37.32163830161625,
                127.96825883799563
              ]
            ],
            "color": "red",
            "dash_array": null,
            "draggable": false,
            "fill": true,
            "fill_color": null,
            "fill_opacity": 0.1,
            "line_cap": "round",
            "line_join": "round",
            "locations": [],
            "name": "",
            "no_clip": true,
            "opacity": 1,
            "options": [
              "color",
              "dash_array",
              "draggable",
              "fill",
              "fill_color",
              "fill_opacity",
              "line_cap",
              "line_join",
              "no_clip",
              "opacity",
              "pointer_events",
              "smooth_factor",
              "stroke",
              "transform",
              "weight"
            ],
            "pane": "",
            "pointer_events": "",
            "popup": null,
            "popup_max_height": null,
            "popup_max_width": 300,
            "popup_min_width": 50,
            "rotation": true,
            "scaling": true,
            "smooth_factor": 1,
            "stroke": true,
            "subitems": [],
            "transform": false,
            "uniform_scaling": false,
            "weight": 5
          }
        },
        "f7a3b80181a7436b909da1df710cb777": {
          "model_module": "jupyter-leaflet",
          "model_name": "LeafletRectangleModel",
          "model_module_version": "^0.18",
          "state": {
            "_model_module": "jupyter-leaflet",
            "_model_module_version": "^0.18",
            "_model_name": "LeafletRectangleModel",
            "_view_count": null,
            "_view_module": "jupyter-leaflet",
            "_view_module_version": "^0.18",
            "_view_name": "LeafletRectangleView",
            "base": false,
            "bottom": false,
            "bounds": [
              [
                37.319386049364,
                127.96825883799563
              ],
              [
                37.32163830161625,
                127.97109107332042
              ]
            ],
            "color": "red",
            "dash_array": null,
            "draggable": false,
            "fill": true,
            "fill_color": null,
            "fill_opacity": 0.1,
            "line_cap": "round",
            "line_join": "round",
            "locations": [],
            "name": "",
            "no_clip": true,
            "opacity": 1,
            "options": [
              "color",
              "dash_array",
              "draggable",
              "fill",
              "fill_color",
              "fill_opacity",
              "line_cap",
              "line_join",
              "no_clip",
              "opacity",
              "pointer_events",
              "smooth_factor",
              "stroke",
              "transform",
              "weight"
            ],
            "pane": "",
            "pointer_events": "",
            "popup": null,
            "popup_max_height": null,
            "popup_max_width": 300,
            "popup_min_width": 50,
            "rotation": true,
            "scaling": true,
            "smooth_factor": 1,
            "stroke": true,
            "subitems": [],
            "transform": false,
            "uniform_scaling": false,
            "weight": 5
          }
        },
        "02df635961b046a38bc6af0dd20df9aa": {
          "model_module": "jupyter-leaflet",
          "model_name": "LeafletRectangleModel",
          "model_module_version": "^0.18",
          "state": {
            "_model_module": "jupyter-leaflet",
            "_model_module_version": "^0.18",
            "_model_name": "LeafletRectangleModel",
            "_view_count": null,
            "_view_module": "jupyter-leaflet",
            "_view_module_version": "^0.18",
            "_view_name": "LeafletRectangleView",
            "base": false,
            "bottom": false,
            "bounds": [
              [
                37.319386049364,
                127.97109107332042
              ],
              [
                37.32163830161625,
                127.97392330864521
              ]
            ],
            "color": "red",
            "dash_array": null,
            "draggable": false,
            "fill": true,
            "fill_color": null,
            "fill_opacity": 0.1,
            "line_cap": "round",
            "line_join": "round",
            "locations": [],
            "name": "",
            "no_clip": true,
            "opacity": 1,
            "options": [
              "color",
              "dash_array",
              "draggable",
              "fill",
              "fill_color",
              "fill_opacity",
              "line_cap",
              "line_join",
              "no_clip",
              "opacity",
              "pointer_events",
              "smooth_factor",
              "stroke",
              "transform",
              "weight"
            ],
            "pane": "",
            "pointer_events": "",
            "popup": null,
            "popup_max_height": null,
            "popup_max_width": 300,
            "popup_min_width": 50,
            "rotation": true,
            "scaling": true,
            "smooth_factor": 1,
            "stroke": true,
            "subitems": [],
            "transform": false,
            "uniform_scaling": false,
            "weight": 5
          }
        },
        "d3d626f0fd284801aa8e2999d1b5499b": {
          "model_module": "jupyter-leaflet",
          "model_name": "LeafletRectangleModel",
          "model_module_version": "^0.18",
          "state": {
            "_model_module": "jupyter-leaflet",
            "_model_module_version": "^0.18",
            "_model_name": "LeafletRectangleModel",
            "_view_count": null,
            "_view_module": "jupyter-leaflet",
            "_view_module_version": "^0.18",
            "_view_name": "LeafletRectangleView",
            "base": false,
            "bottom": false,
            "bounds": [
              [
                37.319386049364,
                127.97392330864521
              ],
              [
                37.32163830161625,
                127.97675554397
              ]
            ],
            "color": "red",
            "dash_array": null,
            "draggable": false,
            "fill": true,
            "fill_color": null,
            "fill_opacity": 0.1,
            "line_cap": "round",
            "line_join": "round",
            "locations": [],
            "name": "",
            "no_clip": true,
            "opacity": 1,
            "options": [
              "color",
              "dash_array",
              "draggable",
              "fill",
              "fill_color",
              "fill_opacity",
              "line_cap",
              "line_join",
              "no_clip",
              "opacity",
              "pointer_events",
              "smooth_factor",
              "stroke",
              "transform",
              "weight"
            ],
            "pane": "",
            "pointer_events": "",
            "popup": null,
            "popup_max_height": null,
            "popup_max_width": 300,
            "popup_min_width": 50,
            "rotation": true,
            "scaling": true,
            "smooth_factor": 1,
            "stroke": true,
            "subitems": [],
            "transform": false,
            "uniform_scaling": false,
            "weight": 5
          }
        },
        "9f5c39aceab84053b477c2efaee7b7dc": {
          "model_module": "jupyter-leaflet",
          "model_name": "LeafletRectangleModel",
          "model_module_version": "^0.18",
          "state": {
            "_model_module": "jupyter-leaflet",
            "_model_module_version": "^0.18",
            "_model_name": "LeafletRectangleModel",
            "_view_count": null,
            "_view_module": "jupyter-leaflet",
            "_view_module_version": "^0.18",
            "_view_name": "LeafletRectangleView",
            "base": false,
            "bottom": false,
            "bounds": [
              [
                37.319386049364,
                127.97675554397
              ],
              [
                37.32163830161625,
                127.97958777929479
              ]
            ],
            "color": "red",
            "dash_array": null,
            "draggable": false,
            "fill": true,
            "fill_color": null,
            "fill_opacity": 0.1,
            "line_cap": "round",
            "line_join": "round",
            "locations": [],
            "name": "",
            "no_clip": true,
            "opacity": 1,
            "options": [
              "color",
              "dash_array",
              "draggable",
              "fill",
              "fill_color",
              "fill_opacity",
              "line_cap",
              "line_join",
              "no_clip",
              "opacity",
              "pointer_events",
              "smooth_factor",
              "stroke",
              "transform",
              "weight"
            ],
            "pane": "",
            "pointer_events": "",
            "popup": null,
            "popup_max_height": null,
            "popup_max_width": 300,
            "popup_min_width": 50,
            "rotation": true,
            "scaling": true,
            "smooth_factor": 1,
            "stroke": true,
            "subitems": [],
            "transform": false,
            "uniform_scaling": false,
            "weight": 5
          }
        },
        "72a1a8c7110647178fea8a15dc51bc18": {
          "model_module": "jupyter-leaflet",
          "model_name": "LeafletRectangleModel",
          "model_module_version": "^0.18",
          "state": {
            "_model_module": "jupyter-leaflet",
            "_model_module_version": "^0.18",
            "_model_name": "LeafletRectangleModel",
            "_view_count": null,
            "_view_module": "jupyter-leaflet",
            "_view_module_version": "^0.18",
            "_view_name": "LeafletRectangleView",
            "base": false,
            "bottom": false,
            "bounds": [
              [
                37.319386049364,
                127.9795877792948
              ],
              [
                37.32163830161625,
                127.98242001461959
              ]
            ],
            "color": "red",
            "dash_array": null,
            "draggable": false,
            "fill": true,
            "fill_color": null,
            "fill_opacity": 0.1,
            "line_cap": "round",
            "line_join": "round",
            "locations": [],
            "name": "",
            "no_clip": true,
            "opacity": 1,
            "options": [
              "color",
              "dash_array",
              "draggable",
              "fill",
              "fill_color",
              "fill_opacity",
              "line_cap",
              "line_join",
              "no_clip",
              "opacity",
              "pointer_events",
              "smooth_factor",
              "stroke",
              "transform",
              "weight"
            ],
            "pane": "",
            "pointer_events": "",
            "popup": null,
            "popup_max_height": null,
            "popup_max_width": 300,
            "popup_min_width": 50,
            "rotation": true,
            "scaling": true,
            "smooth_factor": 1,
            "stroke": true,
            "subitems": [],
            "transform": false,
            "uniform_scaling": false,
            "weight": 5
          }
        },
        "0b14da437cd647c7a8f3c766e652391f": {
          "model_module": "jupyter-leaflet",
          "model_name": "LeafletRectangleModel",
          "model_module_version": "^0.18",
          "state": {
            "_model_module": "jupyter-leaflet",
            "_model_module_version": "^0.18",
            "_model_name": "LeafletRectangleModel",
            "_view_count": null,
            "_view_module": "jupyter-leaflet",
            "_view_module_version": "^0.18",
            "_view_name": "LeafletRectangleView",
            "base": false,
            "bottom": false,
            "bounds": [
              [
                37.319386049364,
                127.98242001461959
              ],
              [
                37.32163830161625,
                127.98525224994438
              ]
            ],
            "color": "red",
            "dash_array": null,
            "draggable": false,
            "fill": true,
            "fill_color": null,
            "fill_opacity": 0.1,
            "line_cap": "round",
            "line_join": "round",
            "locations": [],
            "name": "",
            "no_clip": true,
            "opacity": 1,
            "options": [
              "color",
              "dash_array",
              "draggable",
              "fill",
              "fill_color",
              "fill_opacity",
              "line_cap",
              "line_join",
              "no_clip",
              "opacity",
              "pointer_events",
              "smooth_factor",
              "stroke",
              "transform",
              "weight"
            ],
            "pane": "",
            "pointer_events": "",
            "popup": null,
            "popup_max_height": null,
            "popup_max_width": 300,
            "popup_min_width": 50,
            "rotation": true,
            "scaling": true,
            "smooth_factor": 1,
            "stroke": true,
            "subitems": [],
            "transform": false,
            "uniform_scaling": false,
            "weight": 5
          }
        },
        "9fdadc648bac47d1a7a3f30e3c342e1e": {
          "model_module": "jupyter-leaflet",
          "model_name": "LeafletRectangleModel",
          "model_module_version": "^0.18",
          "state": {
            "_model_module": "jupyter-leaflet",
            "_model_module_version": "^0.18",
            "_model_name": "LeafletRectangleModel",
            "_view_count": null,
            "_view_module": "jupyter-leaflet",
            "_view_module_version": "^0.18",
            "_view_name": "LeafletRectangleView",
            "base": false,
            "bottom": false,
            "bounds": [
              [
                37.319386049364,
                127.98525224994438
              ],
              [
                37.32163830161625,
                127.98808448526916
              ]
            ],
            "color": "red",
            "dash_array": null,
            "draggable": false,
            "fill": true,
            "fill_color": null,
            "fill_opacity": 0.1,
            "line_cap": "round",
            "line_join": "round",
            "locations": [],
            "name": "",
            "no_clip": true,
            "opacity": 1,
            "options": [
              "color",
              "dash_array",
              "draggable",
              "fill",
              "fill_color",
              "fill_opacity",
              "line_cap",
              "line_join",
              "no_clip",
              "opacity",
              "pointer_events",
              "smooth_factor",
              "stroke",
              "transform",
              "weight"
            ],
            "pane": "",
            "pointer_events": "",
            "popup": null,
            "popup_max_height": null,
            "popup_max_width": 300,
            "popup_min_width": 50,
            "rotation": true,
            "scaling": true,
            "smooth_factor": 1,
            "stroke": true,
            "subitems": [],
            "transform": false,
            "uniform_scaling": false,
            "weight": 5
          }
        },
        "09b82a4ecdb946018efb99a3701481d5": {
          "model_module": "@jupyter-widgets/base",
          "model_name": "LayoutModel",
          "model_module_version": "1.2.0",
          "state": {
            "_model_module": "@jupyter-widgets/base",
            "_model_module_version": "1.2.0",
            "_model_name": "LayoutModel",
            "_view_count": null,
            "_view_module": "@jupyter-widgets/base",
            "_view_module_version": "1.2.0",
            "_view_name": "LayoutView",
            "align_content": null,
            "align_items": null,
            "align_self": null,
            "border": null,
            "bottom": null,
            "display": null,
            "flex": null,
            "flex_flow": null,
            "grid_area": null,
            "grid_auto_columns": null,
            "grid_auto_flow": null,
            "grid_auto_rows": null,
            "grid_column": null,
            "grid_gap": null,
            "grid_row": null,
            "grid_template_areas": null,
            "grid_template_columns": null,
            "grid_template_rows": null,
            "height": "500px",
            "justify_content": null,
            "justify_items": null,
            "left": null,
            "margin": null,
            "max_height": null,
            "max_width": null,
            "min_height": null,
            "min_width": null,
            "object_fit": null,
            "object_position": null,
            "order": null,
            "overflow": null,
            "overflow_x": null,
            "overflow_y": null,
            "padding": null,
            "right": null,
            "top": null,
            "visibility": null,
            "width": "800px"
          }
        },
        "83eb69c1baa047db989896bf18360039": {
          "model_module": "jupyter-leaflet",
          "model_name": "LeafletMapStyleModel",
          "model_module_version": "^0.18",
          "state": {
            "_model_module": "jupyter-leaflet",
            "_model_module_version": "^0.18",
            "_model_name": "LeafletMapStyleModel",
            "_view_count": null,
            "_view_module": "@jupyter-widgets/base",
            "_view_module_version": "1.2.0",
            "_view_name": "StyleView",
            "cursor": "grab"
          }
        },
        "0b4e042094ff42fcbadfd3b2ef75a28c": {
          "model_module": "jupyter-leaflet",
          "model_name": "LeafletMapModel",
          "model_module_version": "^0.18",
          "state": {
            "_dom_classes": [],
            "_model_module": "jupyter-leaflet",
            "_model_module_version": "^0.18",
            "_model_name": "LeafletMapModel",
            "_view_count": null,
            "_view_module": "jupyter-leaflet",
            "_view_module_version": "^0.18",
            "_view_name": "LeafletMapView",
            "bottom": 3255878,
            "bounce_at_zoom_limits": true,
            "box_zoom": true,
            "center": [
              37.3238905538685,
              127.97675554397
            ],
            "close_popup_on_click": true,
            "controls": [
              "IPY_MODEL_dce6a7fdfbfa4445bb3f9a897c6302b6",
              "IPY_MODEL_7ffea40ed870461db072f0b6cf543035"
            ],
            "crs": {
              "name": "EPSG3857",
              "custom": false
            },
            "default_style": "IPY_MODEL_ac0cde8b759e41c3be73c400b8e0c660",
            "double_click_zoom": true,
            "dragging": true,
            "dragging_style": "IPY_MODEL_ca474316bd3c48ceafbc86a4f05b52bf",
            "east": 127.99394130706789,
            "fullscreen": false,
            "inertia": true,
            "inertia_deceleration": 3000,
            "inertia_max_speed": 1500,
            "interpolation": "bilinear",
            "keyboard": true,
            "keyboard_pan_offset": 80,
            "keyboard_zoom_offset": 1,
            "layers": [
              "IPY_MODEL_c1f1ead64bf045faa5486e7ee09d8c6e",
              "IPY_MODEL_cb0ed8d465bf4fc8aef192d21f31ec32",
              "IPY_MODEL_e2802c38441147c38b5430cd4e8fc9db",
              "IPY_MODEL_ebe5ca30386c405aa5a3f3a483a3f48e",
              "IPY_MODEL_7cf23f02fdf74d6da64768bac565183d",
              "IPY_MODEL_22b828d9942f4de8bb0d5c08cb9c7896",
              "IPY_MODEL_4a47516e5c7e4e3abe8117ea952993ed",
              "IPY_MODEL_70f17fb63ac640079845cbf5dac93c52",
              "IPY_MODEL_fe26fe2c21bb4c6ba01f511966317730",
              "IPY_MODEL_88109b590de94b30a6dda5064706be3e",
              "IPY_MODEL_58630c86f32f47ab923b32d61a5c148e",
              "IPY_MODEL_6499104c2e6540b486b5c1fb014e0383",
              "IPY_MODEL_6062eb9f928647be91c72f2349ad09d5",
              "IPY_MODEL_c0d0a9726474441aa1602c8993656b01",
              "IPY_MODEL_d969a415830e4f6d83be19446fef589a",
              "IPY_MODEL_00de757fa7d74fa2ae15e873a8aadabc",
              "IPY_MODEL_cdeff94579184352bbb2aa0160d9262c",
              "IPY_MODEL_ccfd3a6989934c6dbb3e2de378699c31",
              "IPY_MODEL_9693503143b749e8bb257cf38bc69c13",
              "IPY_MODEL_c1dd240b80e74cff9a655244de8609b9",
              "IPY_MODEL_037d8a6a042a4c4986afb0c52f49cdce",
              "IPY_MODEL_c64b644d6e2145c99b926dc96a97f6a5",
              "IPY_MODEL_e014f11f920b4bdfb2bbda35cc2de44a",
              "IPY_MODEL_cf650ecba91449aaa3a63a053fa3477d",
              "IPY_MODEL_e165a66091bf41929e17d3a560d89916",
              "IPY_MODEL_d8bdb57db700416fa33d488b3317ce5a",
              "IPY_MODEL_3049c312b7884bbd8dba11166d8e8c45",
              "IPY_MODEL_21c4b9d42dc7462fb69cbe19ba1746a3",
              "IPY_MODEL_9814e5a0216548d0b345fcdf00424b5c",
              "IPY_MODEL_2ff01b0b53b846f69626313620e4d2b0",
              "IPY_MODEL_bf54db9f8c024336a24af4ec9821aa52",
              "IPY_MODEL_4ccc658247924db7b0da709d2e875255",
              "IPY_MODEL_321f6fe3040b4abdadd57466c204544c",
              "IPY_MODEL_70c558459aea4885b248bca933063d6e",
              "IPY_MODEL_310f0b54e13e440a984a8a83d550e13f"
            ],
            "layout": "IPY_MODEL_7732cdaa38ad4413b2bdfeef20128340",
            "left": 7175979,
            "max_zoom": null,
            "min_zoom": null,
            "modisdate": "2024-03-23",
            "north": 37.332426301252056,
            "options": [
              "bounce_at_zoom_limits",
              "box_zoom",
              "center",
              "close_popup_on_click",
              "double_click_zoom",
              "dragging",
              "fullscreen",
              "inertia",
              "inertia_deceleration",
              "inertia_max_speed",
              "interpolation",
              "keyboard",
              "keyboard_pan_offset",
              "keyboard_zoom_offset",
              "max_zoom",
              "min_zoom",
              "prefer_canvas",
              "scroll_wheel_zoom",
              "tap",
              "tap_tolerance",
              "touch_zoom",
              "world_copy_jump",
              "zoom",
              "zoom_animation_threshold",
              "zoom_delta",
              "zoom_snap"
            ],
            "panes": {},
            "prefer_canvas": false,
            "right": 7176779,
            "scroll_wheel_zoom": false,
            "south": 37.315362716526046,
            "style": "IPY_MODEL_50944a6aca744dc6a8b8439e7b75e8a5",
            "tap": true,
            "tap_tolerance": 15,
            "top": 3255378,
            "touch_zoom": true,
            "west": 127.95960903167726,
            "window_url": "https://o6cok2sdpxh-496ff2e9c6d22116-0-colab.googleusercontent.com/outputframe.html?vrz=colab_20240321-060149_RC00_617803427",
            "world_copy_jump": false,
            "zoom": 15,
            "zoom_animation_threshold": 4,
            "zoom_delta": 1,
            "zoom_snap": 1
          }
        },
        "dce6a7fdfbfa4445bb3f9a897c6302b6": {
          "model_module": "jupyter-leaflet",
          "model_name": "LeafletZoomControlModel",
          "model_module_version": "^0.18",
          "state": {
            "_model_module": "jupyter-leaflet",
            "_model_module_version": "^0.18",
            "_model_name": "LeafletZoomControlModel",
            "_view_count": null,
            "_view_module": "jupyter-leaflet",
            "_view_module_version": "^0.18",
            "_view_name": "LeafletZoomControlView",
            "options": [
              "position",
              "zoom_in_text",
              "zoom_in_title",
              "zoom_out_text",
              "zoom_out_title"
            ],
            "position": "topleft",
            "zoom_in_text": "+",
            "zoom_in_title": "Zoom in",
            "zoom_out_text": "-",
            "zoom_out_title": "Zoom out"
          }
        },
        "7ffea40ed870461db072f0b6cf543035": {
          "model_module": "jupyter-leaflet",
          "model_name": "LeafletAttributionControlModel",
          "model_module_version": "^0.18",
          "state": {
            "_model_module": "jupyter-leaflet",
            "_model_module_version": "^0.18",
            "_model_name": "LeafletAttributionControlModel",
            "_view_count": null,
            "_view_module": "jupyter-leaflet",
            "_view_module_version": "^0.18",
            "_view_name": "LeafletAttributionControlView",
            "options": [
              "position",
              "prefix"
            ],
            "position": "bottomright",
            "prefix": "ipyleaflet"
          }
        },
        "ac0cde8b759e41c3be73c400b8e0c660": {
          "model_module": "jupyter-leaflet",
          "model_name": "LeafletMapStyleModel",
          "model_module_version": "^0.18",
          "state": {
            "_model_module": "jupyter-leaflet",
            "_model_module_version": "^0.18",
            "_model_name": "LeafletMapStyleModel",
            "_view_count": null,
            "_view_module": "@jupyter-widgets/base",
            "_view_module_version": "1.2.0",
            "_view_name": "StyleView",
            "cursor": "grab"
          }
        },
        "ca474316bd3c48ceafbc86a4f05b52bf": {
          "model_module": "jupyter-leaflet",
          "model_name": "LeafletMapStyleModel",
          "model_module_version": "^0.18",
          "state": {
            "_model_module": "jupyter-leaflet",
            "_model_module_version": "^0.18",
            "_model_name": "LeafletMapStyleModel",
            "_view_count": null,
            "_view_module": "@jupyter-widgets/base",
            "_view_module_version": "1.2.0",
            "_view_name": "StyleView",
            "cursor": "move"
          }
        },
        "e2802c38441147c38b5430cd4e8fc9db": {
          "model_module": "jupyter-leaflet",
          "model_name": "LeafletRectangleModel",
          "model_module_version": "^0.18",
          "state": {
            "_model_module": "jupyter-leaflet",
            "_model_module_version": "^0.18",
            "_model_name": "LeafletRectangleModel",
            "_view_count": null,
            "_view_module": "jupyter-leaflet",
            "_view_module_version": "^0.18",
            "_view_name": "LeafletRectangleView",
            "base": false,
            "bottom": false,
            "bounds": [
              [
                37.32614280612075,
                127.96542660267085
              ],
              [
                37.328395058373005,
                127.96825883799563
              ]
            ],
            "color": "red",
            "dash_array": null,
            "draggable": false,
            "fill": true,
            "fill_color": null,
            "fill_opacity": 0.1,
            "line_cap": "round",
            "line_join": "round",
            "locations": [],
            "name": "",
            "no_clip": true,
            "opacity": 1,
            "options": [
              "color",
              "dash_array",
              "draggable",
              "fill",
              "fill_color",
              "fill_opacity",
              "line_cap",
              "line_join",
              "no_clip",
              "opacity",
              "pointer_events",
              "smooth_factor",
              "stroke",
              "transform",
              "weight"
            ],
            "pane": "",
            "pointer_events": "",
            "popup": null,
            "popup_max_height": null,
            "popup_max_width": 300,
            "popup_min_width": 50,
            "rotation": true,
            "scaling": true,
            "smooth_factor": 1,
            "stroke": true,
            "subitems": [],
            "transform": false,
            "uniform_scaling": false,
            "weight": 5
          }
        },
        "ebe5ca30386c405aa5a3f3a483a3f48e": {
          "model_module": "jupyter-leaflet",
          "model_name": "LeafletRectangleModel",
          "model_module_version": "^0.18",
          "state": {
            "_model_module": "jupyter-leaflet",
            "_model_module_version": "^0.18",
            "_model_name": "LeafletRectangleModel",
            "_view_count": null,
            "_view_module": "jupyter-leaflet",
            "_view_module_version": "^0.18",
            "_view_name": "LeafletRectangleView",
            "base": false,
            "bottom": false,
            "bounds": [
              [
                37.32614280612075,
                127.96825883799563
              ],
              [
                37.328395058373005,
                127.97109107332042
              ]
            ],
            "color": "red",
            "dash_array": null,
            "draggable": false,
            "fill": true,
            "fill_color": null,
            "fill_opacity": 0.1,
            "line_cap": "round",
            "line_join": "round",
            "locations": [],
            "name": "",
            "no_clip": true,
            "opacity": 1,
            "options": [
              "color",
              "dash_array",
              "draggable",
              "fill",
              "fill_color",
              "fill_opacity",
              "line_cap",
              "line_join",
              "no_clip",
              "opacity",
              "pointer_events",
              "smooth_factor",
              "stroke",
              "transform",
              "weight"
            ],
            "pane": "",
            "pointer_events": "",
            "popup": null,
            "popup_max_height": null,
            "popup_max_width": 300,
            "popup_min_width": 50,
            "rotation": true,
            "scaling": true,
            "smooth_factor": 1,
            "stroke": true,
            "subitems": [],
            "transform": false,
            "uniform_scaling": false,
            "weight": 5
          }
        },
        "7cf23f02fdf74d6da64768bac565183d": {
          "model_module": "jupyter-leaflet",
          "model_name": "LeafletRectangleModel",
          "model_module_version": "^0.18",
          "state": {
            "_model_module": "jupyter-leaflet",
            "_model_module_version": "^0.18",
            "_model_name": "LeafletRectangleModel",
            "_view_count": null,
            "_view_module": "jupyter-leaflet",
            "_view_module_version": "^0.18",
            "_view_name": "LeafletRectangleView",
            "base": false,
            "bottom": false,
            "bounds": [
              [
                37.32614280612075,
                127.97109107332042
              ],
              [
                37.328395058373005,
                127.97392330864521
              ]
            ],
            "color": "red",
            "dash_array": null,
            "draggable": false,
            "fill": true,
            "fill_color": null,
            "fill_opacity": 0.1,
            "line_cap": "round",
            "line_join": "round",
            "locations": [],
            "name": "",
            "no_clip": true,
            "opacity": 1,
            "options": [
              "color",
              "dash_array",
              "draggable",
              "fill",
              "fill_color",
              "fill_opacity",
              "line_cap",
              "line_join",
              "no_clip",
              "opacity",
              "pointer_events",
              "smooth_factor",
              "stroke",
              "transform",
              "weight"
            ],
            "pane": "",
            "pointer_events": "",
            "popup": null,
            "popup_max_height": null,
            "popup_max_width": 300,
            "popup_min_width": 50,
            "rotation": true,
            "scaling": true,
            "smooth_factor": 1,
            "stroke": true,
            "subitems": [],
            "transform": false,
            "uniform_scaling": false,
            "weight": 5
          }
        },
        "22b828d9942f4de8bb0d5c08cb9c7896": {
          "model_module": "jupyter-leaflet",
          "model_name": "LeafletRectangleModel",
          "model_module_version": "^0.18",
          "state": {
            "_model_module": "jupyter-leaflet",
            "_model_module_version": "^0.18",
            "_model_name": "LeafletRectangleModel",
            "_view_count": null,
            "_view_module": "jupyter-leaflet",
            "_view_module_version": "^0.18",
            "_view_name": "LeafletRectangleView",
            "base": false,
            "bottom": false,
            "bounds": [
              [
                37.32614280612075,
                127.97392330864521
              ],
              [
                37.328395058373005,
                127.97675554397
              ]
            ],
            "color": "red",
            "dash_array": null,
            "draggable": false,
            "fill": true,
            "fill_color": null,
            "fill_opacity": 0.1,
            "line_cap": "round",
            "line_join": "round",
            "locations": [],
            "name": "",
            "no_clip": true,
            "opacity": 1,
            "options": [
              "color",
              "dash_array",
              "draggable",
              "fill",
              "fill_color",
              "fill_opacity",
              "line_cap",
              "line_join",
              "no_clip",
              "opacity",
              "pointer_events",
              "smooth_factor",
              "stroke",
              "transform",
              "weight"
            ],
            "pane": "",
            "pointer_events": "",
            "popup": null,
            "popup_max_height": null,
            "popup_max_width": 300,
            "popup_min_width": 50,
            "rotation": true,
            "scaling": true,
            "smooth_factor": 1,
            "stroke": true,
            "subitems": [],
            "transform": false,
            "uniform_scaling": false,
            "weight": 5
          }
        },
        "4a47516e5c7e4e3abe8117ea952993ed": {
          "model_module": "jupyter-leaflet",
          "model_name": "LeafletRectangleModel",
          "model_module_version": "^0.18",
          "state": {
            "_model_module": "jupyter-leaflet",
            "_model_module_version": "^0.18",
            "_model_name": "LeafletRectangleModel",
            "_view_count": null,
            "_view_module": "jupyter-leaflet",
            "_view_module_version": "^0.18",
            "_view_name": "LeafletRectangleView",
            "base": false,
            "bottom": false,
            "bounds": [
              [
                37.32614280612075,
                127.97675554397
              ],
              [
                37.328395058373005,
                127.97958777929479
              ]
            ],
            "color": "red",
            "dash_array": null,
            "draggable": false,
            "fill": true,
            "fill_color": null,
            "fill_opacity": 0.1,
            "line_cap": "round",
            "line_join": "round",
            "locations": [],
            "name": "",
            "no_clip": true,
            "opacity": 1,
            "options": [
              "color",
              "dash_array",
              "draggable",
              "fill",
              "fill_color",
              "fill_opacity",
              "line_cap",
              "line_join",
              "no_clip",
              "opacity",
              "pointer_events",
              "smooth_factor",
              "stroke",
              "transform",
              "weight"
            ],
            "pane": "",
            "pointer_events": "",
            "popup": null,
            "popup_max_height": null,
            "popup_max_width": 300,
            "popup_min_width": 50,
            "rotation": true,
            "scaling": true,
            "smooth_factor": 1,
            "stroke": true,
            "subitems": [],
            "transform": false,
            "uniform_scaling": false,
            "weight": 5
          }
        },
        "70f17fb63ac640079845cbf5dac93c52": {
          "model_module": "jupyter-leaflet",
          "model_name": "LeafletRectangleModel",
          "model_module_version": "^0.18",
          "state": {
            "_model_module": "jupyter-leaflet",
            "_model_module_version": "^0.18",
            "_model_name": "LeafletRectangleModel",
            "_view_count": null,
            "_view_module": "jupyter-leaflet",
            "_view_module_version": "^0.18",
            "_view_name": "LeafletRectangleView",
            "base": false,
            "bottom": false,
            "bounds": [
              [
                37.32614280612075,
                127.9795877792948
              ],
              [
                37.328395058373005,
                127.98242001461959
              ]
            ],
            "color": "red",
            "dash_array": null,
            "draggable": false,
            "fill": true,
            "fill_color": null,
            "fill_opacity": 0.1,
            "line_cap": "round",
            "line_join": "round",
            "locations": [],
            "name": "",
            "no_clip": true,
            "opacity": 1,
            "options": [
              "color",
              "dash_array",
              "draggable",
              "fill",
              "fill_color",
              "fill_opacity",
              "line_cap",
              "line_join",
              "no_clip",
              "opacity",
              "pointer_events",
              "smooth_factor",
              "stroke",
              "transform",
              "weight"
            ],
            "pane": "",
            "pointer_events": "",
            "popup": null,
            "popup_max_height": null,
            "popup_max_width": 300,
            "popup_min_width": 50,
            "rotation": true,
            "scaling": true,
            "smooth_factor": 1,
            "stroke": true,
            "subitems": [],
            "transform": false,
            "uniform_scaling": false,
            "weight": 5
          }
        },
        "fe26fe2c21bb4c6ba01f511966317730": {
          "model_module": "jupyter-leaflet",
          "model_name": "LeafletRectangleModel",
          "model_module_version": "^0.18",
          "state": {
            "_model_module": "jupyter-leaflet",
            "_model_module_version": "^0.18",
            "_model_name": "LeafletRectangleModel",
            "_view_count": null,
            "_view_module": "jupyter-leaflet",
            "_view_module_version": "^0.18",
            "_view_name": "LeafletRectangleView",
            "base": false,
            "bottom": false,
            "bounds": [
              [
                37.32614280612075,
                127.98242001461959
              ],
              [
                37.328395058373005,
                127.98525224994438
              ]
            ],
            "color": "red",
            "dash_array": null,
            "draggable": false,
            "fill": true,
            "fill_color": null,
            "fill_opacity": 0.1,
            "line_cap": "round",
            "line_join": "round",
            "locations": [],
            "name": "",
            "no_clip": true,
            "opacity": 1,
            "options": [
              "color",
              "dash_array",
              "draggable",
              "fill",
              "fill_color",
              "fill_opacity",
              "line_cap",
              "line_join",
              "no_clip",
              "opacity",
              "pointer_events",
              "smooth_factor",
              "stroke",
              "transform",
              "weight"
            ],
            "pane": "",
            "pointer_events": "",
            "popup": null,
            "popup_max_height": null,
            "popup_max_width": 300,
            "popup_min_width": 50,
            "rotation": true,
            "scaling": true,
            "smooth_factor": 1,
            "stroke": true,
            "subitems": [],
            "transform": false,
            "uniform_scaling": false,
            "weight": 5
          }
        },
        "88109b590de94b30a6dda5064706be3e": {
          "model_module": "jupyter-leaflet",
          "model_name": "LeafletRectangleModel",
          "model_module_version": "^0.18",
          "state": {
            "_model_module": "jupyter-leaflet",
            "_model_module_version": "^0.18",
            "_model_name": "LeafletRectangleModel",
            "_view_count": null,
            "_view_module": "jupyter-leaflet",
            "_view_module_version": "^0.18",
            "_view_name": "LeafletRectangleView",
            "base": false,
            "bottom": false,
            "bounds": [
              [
                37.32614280612075,
                127.98525224994438
              ],
              [
                37.328395058373005,
                127.98808448526916
              ]
            ],
            "color": "red",
            "dash_array": null,
            "draggable": false,
            "fill": true,
            "fill_color": null,
            "fill_opacity": 0.1,
            "line_cap": "round",
            "line_join": "round",
            "locations": [],
            "name": "",
            "no_clip": true,
            "opacity": 1,
            "options": [
              "color",
              "dash_array",
              "draggable",
              "fill",
              "fill_color",
              "fill_opacity",
              "line_cap",
              "line_join",
              "no_clip",
              "opacity",
              "pointer_events",
              "smooth_factor",
              "stroke",
              "transform",
              "weight"
            ],
            "pane": "",
            "pointer_events": "",
            "popup": null,
            "popup_max_height": null,
            "popup_max_width": 300,
            "popup_min_width": 50,
            "rotation": true,
            "scaling": true,
            "smooth_factor": 1,
            "stroke": true,
            "subitems": [],
            "transform": false,
            "uniform_scaling": false,
            "weight": 5
          }
        },
        "58630c86f32f47ab923b32d61a5c148e": {
          "model_module": "jupyter-leaflet",
          "model_name": "LeafletRectangleModel",
          "model_module_version": "^0.18",
          "state": {
            "_model_module": "jupyter-leaflet",
            "_model_module_version": "^0.18",
            "_model_name": "LeafletRectangleModel",
            "_view_count": null,
            "_view_module": "jupyter-leaflet",
            "_view_module_version": "^0.18",
            "_view_name": "LeafletRectangleView",
            "base": false,
            "bottom": false,
            "bounds": [
              [
                37.323890553868495,
                127.96542660267085
              ],
              [
                37.32614280612075,
                127.96825883799563
              ]
            ],
            "color": "red",
            "dash_array": null,
            "draggable": false,
            "fill": true,
            "fill_color": null,
            "fill_opacity": 0.1,
            "line_cap": "round",
            "line_join": "round",
            "locations": [],
            "name": "",
            "no_clip": true,
            "opacity": 1,
            "options": [
              "color",
              "dash_array",
              "draggable",
              "fill",
              "fill_color",
              "fill_opacity",
              "line_cap",
              "line_join",
              "no_clip",
              "opacity",
              "pointer_events",
              "smooth_factor",
              "stroke",
              "transform",
              "weight"
            ],
            "pane": "",
            "pointer_events": "",
            "popup": null,
            "popup_max_height": null,
            "popup_max_width": 300,
            "popup_min_width": 50,
            "rotation": true,
            "scaling": true,
            "smooth_factor": 1,
            "stroke": true,
            "subitems": [],
            "transform": false,
            "uniform_scaling": false,
            "weight": 5
          }
        },
        "6499104c2e6540b486b5c1fb014e0383": {
          "model_module": "jupyter-leaflet",
          "model_name": "LeafletRectangleModel",
          "model_module_version": "^0.18",
          "state": {
            "_model_module": "jupyter-leaflet",
            "_model_module_version": "^0.18",
            "_model_name": "LeafletRectangleModel",
            "_view_count": null,
            "_view_module": "jupyter-leaflet",
            "_view_module_version": "^0.18",
            "_view_name": "LeafletRectangleView",
            "base": false,
            "bottom": false,
            "bounds": [
              [
                37.323890553868495,
                127.96825883799563
              ],
              [
                37.32614280612075,
                127.97109107332042
              ]
            ],
            "color": "red",
            "dash_array": null,
            "draggable": false,
            "fill": true,
            "fill_color": null,
            "fill_opacity": 0.1,
            "line_cap": "round",
            "line_join": "round",
            "locations": [],
            "name": "",
            "no_clip": true,
            "opacity": 1,
            "options": [
              "color",
              "dash_array",
              "draggable",
              "fill",
              "fill_color",
              "fill_opacity",
              "line_cap",
              "line_join",
              "no_clip",
              "opacity",
              "pointer_events",
              "smooth_factor",
              "stroke",
              "transform",
              "weight"
            ],
            "pane": "",
            "pointer_events": "",
            "popup": null,
            "popup_max_height": null,
            "popup_max_width": 300,
            "popup_min_width": 50,
            "rotation": true,
            "scaling": true,
            "smooth_factor": 1,
            "stroke": true,
            "subitems": [],
            "transform": false,
            "uniform_scaling": false,
            "weight": 5
          }
        },
        "6062eb9f928647be91c72f2349ad09d5": {
          "model_module": "jupyter-leaflet",
          "model_name": "LeafletRectangleModel",
          "model_module_version": "^0.18",
          "state": {
            "_model_module": "jupyter-leaflet",
            "_model_module_version": "^0.18",
            "_model_name": "LeafletRectangleModel",
            "_view_count": null,
            "_view_module": "jupyter-leaflet",
            "_view_module_version": "^0.18",
            "_view_name": "LeafletRectangleView",
            "base": false,
            "bottom": false,
            "bounds": [
              [
                37.323890553868495,
                127.97109107332042
              ],
              [
                37.32614280612075,
                127.97392330864521
              ]
            ],
            "color": "red",
            "dash_array": null,
            "draggable": false,
            "fill": true,
            "fill_color": null,
            "fill_opacity": 0.1,
            "line_cap": "round",
            "line_join": "round",
            "locations": [],
            "name": "",
            "no_clip": true,
            "opacity": 1,
            "options": [
              "color",
              "dash_array",
              "draggable",
              "fill",
              "fill_color",
              "fill_opacity",
              "line_cap",
              "line_join",
              "no_clip",
              "opacity",
              "pointer_events",
              "smooth_factor",
              "stroke",
              "transform",
              "weight"
            ],
            "pane": "",
            "pointer_events": "",
            "popup": null,
            "popup_max_height": null,
            "popup_max_width": 300,
            "popup_min_width": 50,
            "rotation": true,
            "scaling": true,
            "smooth_factor": 1,
            "stroke": true,
            "subitems": [],
            "transform": false,
            "uniform_scaling": false,
            "weight": 5
          }
        },
        "c0d0a9726474441aa1602c8993656b01": {
          "model_module": "jupyter-leaflet",
          "model_name": "LeafletRectangleModel",
          "model_module_version": "^0.18",
          "state": {
            "_model_module": "jupyter-leaflet",
            "_model_module_version": "^0.18",
            "_model_name": "LeafletRectangleModel",
            "_view_count": null,
            "_view_module": "jupyter-leaflet",
            "_view_module_version": "^0.18",
            "_view_name": "LeafletRectangleView",
            "base": false,
            "bottom": false,
            "bounds": [
              [
                37.323890553868495,
                127.97392330864521
              ],
              [
                37.32614280612075,
                127.97675554397
              ]
            ],
            "color": "red",
            "dash_array": null,
            "draggable": false,
            "fill": true,
            "fill_color": null,
            "fill_opacity": 0.1,
            "line_cap": "round",
            "line_join": "round",
            "locations": [],
            "name": "",
            "no_clip": true,
            "opacity": 1,
            "options": [
              "color",
              "dash_array",
              "draggable",
              "fill",
              "fill_color",
              "fill_opacity",
              "line_cap",
              "line_join",
              "no_clip",
              "opacity",
              "pointer_events",
              "smooth_factor",
              "stroke",
              "transform",
              "weight"
            ],
            "pane": "",
            "pointer_events": "",
            "popup": null,
            "popup_max_height": null,
            "popup_max_width": 300,
            "popup_min_width": 50,
            "rotation": true,
            "scaling": true,
            "smooth_factor": 1,
            "stroke": true,
            "subitems": [],
            "transform": false,
            "uniform_scaling": false,
            "weight": 5
          }
        },
        "d969a415830e4f6d83be19446fef589a": {
          "model_module": "jupyter-leaflet",
          "model_name": "LeafletRectangleModel",
          "model_module_version": "^0.18",
          "state": {
            "_model_module": "jupyter-leaflet",
            "_model_module_version": "^0.18",
            "_model_name": "LeafletRectangleModel",
            "_view_count": null,
            "_view_module": "jupyter-leaflet",
            "_view_module_version": "^0.18",
            "_view_name": "LeafletRectangleView",
            "base": false,
            "bottom": false,
            "bounds": [
              [
                37.323890553868495,
                127.97675554397
              ],
              [
                37.32614280612075,
                127.97958777929479
              ]
            ],
            "color": "red",
            "dash_array": null,
            "draggable": false,
            "fill": true,
            "fill_color": null,
            "fill_opacity": 0.1,
            "line_cap": "round",
            "line_join": "round",
            "locations": [],
            "name": "",
            "no_clip": true,
            "opacity": 1,
            "options": [
              "color",
              "dash_array",
              "draggable",
              "fill",
              "fill_color",
              "fill_opacity",
              "line_cap",
              "line_join",
              "no_clip",
              "opacity",
              "pointer_events",
              "smooth_factor",
              "stroke",
              "transform",
              "weight"
            ],
            "pane": "",
            "pointer_events": "",
            "popup": null,
            "popup_max_height": null,
            "popup_max_width": 300,
            "popup_min_width": 50,
            "rotation": true,
            "scaling": true,
            "smooth_factor": 1,
            "stroke": true,
            "subitems": [],
            "transform": false,
            "uniform_scaling": false,
            "weight": 5
          }
        },
        "00de757fa7d74fa2ae15e873a8aadabc": {
          "model_module": "jupyter-leaflet",
          "model_name": "LeafletRectangleModel",
          "model_module_version": "^0.18",
          "state": {
            "_model_module": "jupyter-leaflet",
            "_model_module_version": "^0.18",
            "_model_name": "LeafletRectangleModel",
            "_view_count": null,
            "_view_module": "jupyter-leaflet",
            "_view_module_version": "^0.18",
            "_view_name": "LeafletRectangleView",
            "base": false,
            "bottom": false,
            "bounds": [
              [
                37.323890553868495,
                127.9795877792948
              ],
              [
                37.32614280612075,
                127.98242001461959
              ]
            ],
            "color": "red",
            "dash_array": null,
            "draggable": false,
            "fill": true,
            "fill_color": null,
            "fill_opacity": 0.1,
            "line_cap": "round",
            "line_join": "round",
            "locations": [],
            "name": "",
            "no_clip": true,
            "opacity": 1,
            "options": [
              "color",
              "dash_array",
              "draggable",
              "fill",
              "fill_color",
              "fill_opacity",
              "line_cap",
              "line_join",
              "no_clip",
              "opacity",
              "pointer_events",
              "smooth_factor",
              "stroke",
              "transform",
              "weight"
            ],
            "pane": "",
            "pointer_events": "",
            "popup": null,
            "popup_max_height": null,
            "popup_max_width": 300,
            "popup_min_width": 50,
            "rotation": true,
            "scaling": true,
            "smooth_factor": 1,
            "stroke": true,
            "subitems": [],
            "transform": false,
            "uniform_scaling": false,
            "weight": 5
          }
        },
        "cdeff94579184352bbb2aa0160d9262c": {
          "model_module": "jupyter-leaflet",
          "model_name": "LeafletRectangleModel",
          "model_module_version": "^0.18",
          "state": {
            "_model_module": "jupyter-leaflet",
            "_model_module_version": "^0.18",
            "_model_name": "LeafletRectangleModel",
            "_view_count": null,
            "_view_module": "jupyter-leaflet",
            "_view_module_version": "^0.18",
            "_view_name": "LeafletRectangleView",
            "base": false,
            "bottom": false,
            "bounds": [
              [
                37.323890553868495,
                127.98242001461959
              ],
              [
                37.32614280612075,
                127.98525224994438
              ]
            ],
            "color": "red",
            "dash_array": null,
            "draggable": false,
            "fill": true,
            "fill_color": null,
            "fill_opacity": 0.1,
            "line_cap": "round",
            "line_join": "round",
            "locations": [],
            "name": "",
            "no_clip": true,
            "opacity": 1,
            "options": [
              "color",
              "dash_array",
              "draggable",
              "fill",
              "fill_color",
              "fill_opacity",
              "line_cap",
              "line_join",
              "no_clip",
              "opacity",
              "pointer_events",
              "smooth_factor",
              "stroke",
              "transform",
              "weight"
            ],
            "pane": "",
            "pointer_events": "",
            "popup": null,
            "popup_max_height": null,
            "popup_max_width": 300,
            "popup_min_width": 50,
            "rotation": true,
            "scaling": true,
            "smooth_factor": 1,
            "stroke": true,
            "subitems": [],
            "transform": false,
            "uniform_scaling": false,
            "weight": 5
          }
        },
        "ccfd3a6989934c6dbb3e2de378699c31": {
          "model_module": "jupyter-leaflet",
          "model_name": "LeafletRectangleModel",
          "model_module_version": "^0.18",
          "state": {
            "_model_module": "jupyter-leaflet",
            "_model_module_version": "^0.18",
            "_model_name": "LeafletRectangleModel",
            "_view_count": null,
            "_view_module": "jupyter-leaflet",
            "_view_module_version": "^0.18",
            "_view_name": "LeafletRectangleView",
            "base": false,
            "bottom": false,
            "bounds": [
              [
                37.323890553868495,
                127.98525224994438
              ],
              [
                37.32614280612075,
                127.98808448526916
              ]
            ],
            "color": "red",
            "dash_array": null,
            "draggable": false,
            "fill": true,
            "fill_color": null,
            "fill_opacity": 0.1,
            "line_cap": "round",
            "line_join": "round",
            "locations": [],
            "name": "",
            "no_clip": true,
            "opacity": 1,
            "options": [
              "color",
              "dash_array",
              "draggable",
              "fill",
              "fill_color",
              "fill_opacity",
              "line_cap",
              "line_join",
              "no_clip",
              "opacity",
              "pointer_events",
              "smooth_factor",
              "stroke",
              "transform",
              "weight"
            ],
            "pane": "",
            "pointer_events": "",
            "popup": null,
            "popup_max_height": null,
            "popup_max_width": 300,
            "popup_min_width": 50,
            "rotation": true,
            "scaling": true,
            "smooth_factor": 1,
            "stroke": true,
            "subitems": [],
            "transform": false,
            "uniform_scaling": false,
            "weight": 5
          }
        },
        "9693503143b749e8bb257cf38bc69c13": {
          "model_module": "jupyter-leaflet",
          "model_name": "LeafletRectangleModel",
          "model_module_version": "^0.18",
          "state": {
            "_model_module": "jupyter-leaflet",
            "_model_module_version": "^0.18",
            "_model_name": "LeafletRectangleModel",
            "_view_count": null,
            "_view_module": "jupyter-leaflet",
            "_view_module_version": "^0.18",
            "_view_name": "LeafletRectangleView",
            "base": false,
            "bottom": false,
            "bounds": [
              [
                37.32163830161625,
                127.96542660267085
              ],
              [
                37.3238905538685,
                127.96825883799563
              ]
            ],
            "color": "red",
            "dash_array": null,
            "draggable": false,
            "fill": true,
            "fill_color": null,
            "fill_opacity": 0.1,
            "line_cap": "round",
            "line_join": "round",
            "locations": [],
            "name": "",
            "no_clip": true,
            "opacity": 1,
            "options": [
              "color",
              "dash_array",
              "draggable",
              "fill",
              "fill_color",
              "fill_opacity",
              "line_cap",
              "line_join",
              "no_clip",
              "opacity",
              "pointer_events",
              "smooth_factor",
              "stroke",
              "transform",
              "weight"
            ],
            "pane": "",
            "pointer_events": "",
            "popup": null,
            "popup_max_height": null,
            "popup_max_width": 300,
            "popup_min_width": 50,
            "rotation": true,
            "scaling": true,
            "smooth_factor": 1,
            "stroke": true,
            "subitems": [],
            "transform": false,
            "uniform_scaling": false,
            "weight": 5
          }
        },
        "c1dd240b80e74cff9a655244de8609b9": {
          "model_module": "jupyter-leaflet",
          "model_name": "LeafletRectangleModel",
          "model_module_version": "^0.18",
          "state": {
            "_model_module": "jupyter-leaflet",
            "_model_module_version": "^0.18",
            "_model_name": "LeafletRectangleModel",
            "_view_count": null,
            "_view_module": "jupyter-leaflet",
            "_view_module_version": "^0.18",
            "_view_name": "LeafletRectangleView",
            "base": false,
            "bottom": false,
            "bounds": [
              [
                37.32163830161625,
                127.96825883799563
              ],
              [
                37.3238905538685,
                127.97109107332042
              ]
            ],
            "color": "red",
            "dash_array": null,
            "draggable": false,
            "fill": true,
            "fill_color": null,
            "fill_opacity": 0.1,
            "line_cap": "round",
            "line_join": "round",
            "locations": [],
            "name": "",
            "no_clip": true,
            "opacity": 1,
            "options": [
              "color",
              "dash_array",
              "draggable",
              "fill",
              "fill_color",
              "fill_opacity",
              "line_cap",
              "line_join",
              "no_clip",
              "opacity",
              "pointer_events",
              "smooth_factor",
              "stroke",
              "transform",
              "weight"
            ],
            "pane": "",
            "pointer_events": "",
            "popup": null,
            "popup_max_height": null,
            "popup_max_width": 300,
            "popup_min_width": 50,
            "rotation": true,
            "scaling": true,
            "smooth_factor": 1,
            "stroke": true,
            "subitems": [],
            "transform": false,
            "uniform_scaling": false,
            "weight": 5
          }
        },
        "037d8a6a042a4c4986afb0c52f49cdce": {
          "model_module": "jupyter-leaflet",
          "model_name": "LeafletRectangleModel",
          "model_module_version": "^0.18",
          "state": {
            "_model_module": "jupyter-leaflet",
            "_model_module_version": "^0.18",
            "_model_name": "LeafletRectangleModel",
            "_view_count": null,
            "_view_module": "jupyter-leaflet",
            "_view_module_version": "^0.18",
            "_view_name": "LeafletRectangleView",
            "base": false,
            "bottom": false,
            "bounds": [
              [
                37.32163830161625,
                127.97109107332042
              ],
              [
                37.3238905538685,
                127.97392330864521
              ]
            ],
            "color": "red",
            "dash_array": null,
            "draggable": false,
            "fill": true,
            "fill_color": null,
            "fill_opacity": 0.1,
            "line_cap": "round",
            "line_join": "round",
            "locations": [],
            "name": "",
            "no_clip": true,
            "opacity": 1,
            "options": [
              "color",
              "dash_array",
              "draggable",
              "fill",
              "fill_color",
              "fill_opacity",
              "line_cap",
              "line_join",
              "no_clip",
              "opacity",
              "pointer_events",
              "smooth_factor",
              "stroke",
              "transform",
              "weight"
            ],
            "pane": "",
            "pointer_events": "",
            "popup": null,
            "popup_max_height": null,
            "popup_max_width": 300,
            "popup_min_width": 50,
            "rotation": true,
            "scaling": true,
            "smooth_factor": 1,
            "stroke": true,
            "subitems": [],
            "transform": false,
            "uniform_scaling": false,
            "weight": 5
          }
        },
        "c64b644d6e2145c99b926dc96a97f6a5": {
          "model_module": "jupyter-leaflet",
          "model_name": "LeafletRectangleModel",
          "model_module_version": "^0.18",
          "state": {
            "_model_module": "jupyter-leaflet",
            "_model_module_version": "^0.18",
            "_model_name": "LeafletRectangleModel",
            "_view_count": null,
            "_view_module": "jupyter-leaflet",
            "_view_module_version": "^0.18",
            "_view_name": "LeafletRectangleView",
            "base": false,
            "bottom": false,
            "bounds": [
              [
                37.32163830161625,
                127.97392330864521
              ],
              [
                37.3238905538685,
                127.97675554397
              ]
            ],
            "color": "red",
            "dash_array": null,
            "draggable": false,
            "fill": true,
            "fill_color": null,
            "fill_opacity": 0.1,
            "line_cap": "round",
            "line_join": "round",
            "locations": [],
            "name": "",
            "no_clip": true,
            "opacity": 1,
            "options": [
              "color",
              "dash_array",
              "draggable",
              "fill",
              "fill_color",
              "fill_opacity",
              "line_cap",
              "line_join",
              "no_clip",
              "opacity",
              "pointer_events",
              "smooth_factor",
              "stroke",
              "transform",
              "weight"
            ],
            "pane": "",
            "pointer_events": "",
            "popup": null,
            "popup_max_height": null,
            "popup_max_width": 300,
            "popup_min_width": 50,
            "rotation": true,
            "scaling": true,
            "smooth_factor": 1,
            "stroke": true,
            "subitems": [],
            "transform": false,
            "uniform_scaling": false,
            "weight": 5
          }
        },
        "e014f11f920b4bdfb2bbda35cc2de44a": {
          "model_module": "jupyter-leaflet",
          "model_name": "LeafletRectangleModel",
          "model_module_version": "^0.18",
          "state": {
            "_model_module": "jupyter-leaflet",
            "_model_module_version": "^0.18",
            "_model_name": "LeafletRectangleModel",
            "_view_count": null,
            "_view_module": "jupyter-leaflet",
            "_view_module_version": "^0.18",
            "_view_name": "LeafletRectangleView",
            "base": false,
            "bottom": false,
            "bounds": [
              [
                37.32163830161625,
                127.97675554397
              ],
              [
                37.3238905538685,
                127.97958777929479
              ]
            ],
            "color": "red",
            "dash_array": null,
            "draggable": false,
            "fill": true,
            "fill_color": null,
            "fill_opacity": 0.1,
            "line_cap": "round",
            "line_join": "round",
            "locations": [],
            "name": "",
            "no_clip": true,
            "opacity": 1,
            "options": [
              "color",
              "dash_array",
              "draggable",
              "fill",
              "fill_color",
              "fill_opacity",
              "line_cap",
              "line_join",
              "no_clip",
              "opacity",
              "pointer_events",
              "smooth_factor",
              "stroke",
              "transform",
              "weight"
            ],
            "pane": "",
            "pointer_events": "",
            "popup": null,
            "popup_max_height": null,
            "popup_max_width": 300,
            "popup_min_width": 50,
            "rotation": true,
            "scaling": true,
            "smooth_factor": 1,
            "stroke": true,
            "subitems": [],
            "transform": false,
            "uniform_scaling": false,
            "weight": 5
          }
        },
        "cf650ecba91449aaa3a63a053fa3477d": {
          "model_module": "jupyter-leaflet",
          "model_name": "LeafletRectangleModel",
          "model_module_version": "^0.18",
          "state": {
            "_model_module": "jupyter-leaflet",
            "_model_module_version": "^0.18",
            "_model_name": "LeafletRectangleModel",
            "_view_count": null,
            "_view_module": "jupyter-leaflet",
            "_view_module_version": "^0.18",
            "_view_name": "LeafletRectangleView",
            "base": false,
            "bottom": false,
            "bounds": [
              [
                37.32163830161625,
                127.9795877792948
              ],
              [
                37.3238905538685,
                127.98242001461959
              ]
            ],
            "color": "red",
            "dash_array": null,
            "draggable": false,
            "fill": true,
            "fill_color": null,
            "fill_opacity": 0.1,
            "line_cap": "round",
            "line_join": "round",
            "locations": [],
            "name": "",
            "no_clip": true,
            "opacity": 1,
            "options": [
              "color",
              "dash_array",
              "draggable",
              "fill",
              "fill_color",
              "fill_opacity",
              "line_cap",
              "line_join",
              "no_clip",
              "opacity",
              "pointer_events",
              "smooth_factor",
              "stroke",
              "transform",
              "weight"
            ],
            "pane": "",
            "pointer_events": "",
            "popup": null,
            "popup_max_height": null,
            "popup_max_width": 300,
            "popup_min_width": 50,
            "rotation": true,
            "scaling": true,
            "smooth_factor": 1,
            "stroke": true,
            "subitems": [],
            "transform": false,
            "uniform_scaling": false,
            "weight": 5
          }
        },
        "e165a66091bf41929e17d3a560d89916": {
          "model_module": "jupyter-leaflet",
          "model_name": "LeafletRectangleModel",
          "model_module_version": "^0.18",
          "state": {
            "_model_module": "jupyter-leaflet",
            "_model_module_version": "^0.18",
            "_model_name": "LeafletRectangleModel",
            "_view_count": null,
            "_view_module": "jupyter-leaflet",
            "_view_module_version": "^0.18",
            "_view_name": "LeafletRectangleView",
            "base": false,
            "bottom": false,
            "bounds": [
              [
                37.32163830161625,
                127.98242001461959
              ],
              [
                37.3238905538685,
                127.98525224994438
              ]
            ],
            "color": "red",
            "dash_array": null,
            "draggable": false,
            "fill": true,
            "fill_color": null,
            "fill_opacity": 0.1,
            "line_cap": "round",
            "line_join": "round",
            "locations": [],
            "name": "",
            "no_clip": true,
            "opacity": 1,
            "options": [
              "color",
              "dash_array",
              "draggable",
              "fill",
              "fill_color",
              "fill_opacity",
              "line_cap",
              "line_join",
              "no_clip",
              "opacity",
              "pointer_events",
              "smooth_factor",
              "stroke",
              "transform",
              "weight"
            ],
            "pane": "",
            "pointer_events": "",
            "popup": null,
            "popup_max_height": null,
            "popup_max_width": 300,
            "popup_min_width": 50,
            "rotation": true,
            "scaling": true,
            "smooth_factor": 1,
            "stroke": true,
            "subitems": [],
            "transform": false,
            "uniform_scaling": false,
            "weight": 5
          }
        },
        "d8bdb57db700416fa33d488b3317ce5a": {
          "model_module": "jupyter-leaflet",
          "model_name": "LeafletRectangleModel",
          "model_module_version": "^0.18",
          "state": {
            "_model_module": "jupyter-leaflet",
            "_model_module_version": "^0.18",
            "_model_name": "LeafletRectangleModel",
            "_view_count": null,
            "_view_module": "jupyter-leaflet",
            "_view_module_version": "^0.18",
            "_view_name": "LeafletRectangleView",
            "base": false,
            "bottom": false,
            "bounds": [
              [
                37.32163830161625,
                127.98525224994438
              ],
              [
                37.3238905538685,
                127.98808448526916
              ]
            ],
            "color": "red",
            "dash_array": null,
            "draggable": false,
            "fill": true,
            "fill_color": null,
            "fill_opacity": 0.1,
            "line_cap": "round",
            "line_join": "round",
            "locations": [],
            "name": "",
            "no_clip": true,
            "opacity": 1,
            "options": [
              "color",
              "dash_array",
              "draggable",
              "fill",
              "fill_color",
              "fill_opacity",
              "line_cap",
              "line_join",
              "no_clip",
              "opacity",
              "pointer_events",
              "smooth_factor",
              "stroke",
              "transform",
              "weight"
            ],
            "pane": "",
            "pointer_events": "",
            "popup": null,
            "popup_max_height": null,
            "popup_max_width": 300,
            "popup_min_width": 50,
            "rotation": true,
            "scaling": true,
            "smooth_factor": 1,
            "stroke": true,
            "subitems": [],
            "transform": false,
            "uniform_scaling": false,
            "weight": 5
          }
        },
        "3049c312b7884bbd8dba11166d8e8c45": {
          "model_module": "jupyter-leaflet",
          "model_name": "LeafletRectangleModel",
          "model_module_version": "^0.18",
          "state": {
            "_model_module": "jupyter-leaflet",
            "_model_module_version": "^0.18",
            "_model_name": "LeafletRectangleModel",
            "_view_count": null,
            "_view_module": "jupyter-leaflet",
            "_view_module_version": "^0.18",
            "_view_name": "LeafletRectangleView",
            "base": false,
            "bottom": false,
            "bounds": [
              [
                37.319386049364,
                127.96542660267085
              ],
              [
                37.32163830161625,
                127.96825883799563
              ]
            ],
            "color": "red",
            "dash_array": null,
            "draggable": false,
            "fill": true,
            "fill_color": null,
            "fill_opacity": 0.1,
            "line_cap": "round",
            "line_join": "round",
            "locations": [],
            "name": "",
            "no_clip": true,
            "opacity": 1,
            "options": [
              "color",
              "dash_array",
              "draggable",
              "fill",
              "fill_color",
              "fill_opacity",
              "line_cap",
              "line_join",
              "no_clip",
              "opacity",
              "pointer_events",
              "smooth_factor",
              "stroke",
              "transform",
              "weight"
            ],
            "pane": "",
            "pointer_events": "",
            "popup": null,
            "popup_max_height": null,
            "popup_max_width": 300,
            "popup_min_width": 50,
            "rotation": true,
            "scaling": true,
            "smooth_factor": 1,
            "stroke": true,
            "subitems": [],
            "transform": false,
            "uniform_scaling": false,
            "weight": 5
          }
        },
        "21c4b9d42dc7462fb69cbe19ba1746a3": {
          "model_module": "jupyter-leaflet",
          "model_name": "LeafletRectangleModel",
          "model_module_version": "^0.18",
          "state": {
            "_model_module": "jupyter-leaflet",
            "_model_module_version": "^0.18",
            "_model_name": "LeafletRectangleModel",
            "_view_count": null,
            "_view_module": "jupyter-leaflet",
            "_view_module_version": "^0.18",
            "_view_name": "LeafletRectangleView",
            "base": false,
            "bottom": false,
            "bounds": [
              [
                37.319386049364,
                127.96825883799563
              ],
              [
                37.32163830161625,
                127.97109107332042
              ]
            ],
            "color": "red",
            "dash_array": null,
            "draggable": false,
            "fill": true,
            "fill_color": null,
            "fill_opacity": 0.1,
            "line_cap": "round",
            "line_join": "round",
            "locations": [],
            "name": "",
            "no_clip": true,
            "opacity": 1,
            "options": [
              "color",
              "dash_array",
              "draggable",
              "fill",
              "fill_color",
              "fill_opacity",
              "line_cap",
              "line_join",
              "no_clip",
              "opacity",
              "pointer_events",
              "smooth_factor",
              "stroke",
              "transform",
              "weight"
            ],
            "pane": "",
            "pointer_events": "",
            "popup": null,
            "popup_max_height": null,
            "popup_max_width": 300,
            "popup_min_width": 50,
            "rotation": true,
            "scaling": true,
            "smooth_factor": 1,
            "stroke": true,
            "subitems": [],
            "transform": false,
            "uniform_scaling": false,
            "weight": 5
          }
        },
        "9814e5a0216548d0b345fcdf00424b5c": {
          "model_module": "jupyter-leaflet",
          "model_name": "LeafletRectangleModel",
          "model_module_version": "^0.18",
          "state": {
            "_model_module": "jupyter-leaflet",
            "_model_module_version": "^0.18",
            "_model_name": "LeafletRectangleModel",
            "_view_count": null,
            "_view_module": "jupyter-leaflet",
            "_view_module_version": "^0.18",
            "_view_name": "LeafletRectangleView",
            "base": false,
            "bottom": false,
            "bounds": [
              [
                37.319386049364,
                127.97109107332042
              ],
              [
                37.32163830161625,
                127.97392330864521
              ]
            ],
            "color": "red",
            "dash_array": null,
            "draggable": false,
            "fill": true,
            "fill_color": null,
            "fill_opacity": 0.1,
            "line_cap": "round",
            "line_join": "round",
            "locations": [],
            "name": "",
            "no_clip": true,
            "opacity": 1,
            "options": [
              "color",
              "dash_array",
              "draggable",
              "fill",
              "fill_color",
              "fill_opacity",
              "line_cap",
              "line_join",
              "no_clip",
              "opacity",
              "pointer_events",
              "smooth_factor",
              "stroke",
              "transform",
              "weight"
            ],
            "pane": "",
            "pointer_events": "",
            "popup": null,
            "popup_max_height": null,
            "popup_max_width": 300,
            "popup_min_width": 50,
            "rotation": true,
            "scaling": true,
            "smooth_factor": 1,
            "stroke": true,
            "subitems": [],
            "transform": false,
            "uniform_scaling": false,
            "weight": 5
          }
        },
        "2ff01b0b53b846f69626313620e4d2b0": {
          "model_module": "jupyter-leaflet",
          "model_name": "LeafletRectangleModel",
          "model_module_version": "^0.18",
          "state": {
            "_model_module": "jupyter-leaflet",
            "_model_module_version": "^0.18",
            "_model_name": "LeafletRectangleModel",
            "_view_count": null,
            "_view_module": "jupyter-leaflet",
            "_view_module_version": "^0.18",
            "_view_name": "LeafletRectangleView",
            "base": false,
            "bottom": false,
            "bounds": [
              [
                37.319386049364,
                127.97392330864521
              ],
              [
                37.32163830161625,
                127.97675554397
              ]
            ],
            "color": "red",
            "dash_array": null,
            "draggable": false,
            "fill": true,
            "fill_color": null,
            "fill_opacity": 0.1,
            "line_cap": "round",
            "line_join": "round",
            "locations": [],
            "name": "",
            "no_clip": true,
            "opacity": 1,
            "options": [
              "color",
              "dash_array",
              "draggable",
              "fill",
              "fill_color",
              "fill_opacity",
              "line_cap",
              "line_join",
              "no_clip",
              "opacity",
              "pointer_events",
              "smooth_factor",
              "stroke",
              "transform",
              "weight"
            ],
            "pane": "",
            "pointer_events": "",
            "popup": null,
            "popup_max_height": null,
            "popup_max_width": 300,
            "popup_min_width": 50,
            "rotation": true,
            "scaling": true,
            "smooth_factor": 1,
            "stroke": true,
            "subitems": [],
            "transform": false,
            "uniform_scaling": false,
            "weight": 5
          }
        },
        "bf54db9f8c024336a24af4ec9821aa52": {
          "model_module": "jupyter-leaflet",
          "model_name": "LeafletRectangleModel",
          "model_module_version": "^0.18",
          "state": {
            "_model_module": "jupyter-leaflet",
            "_model_module_version": "^0.18",
            "_model_name": "LeafletRectangleModel",
            "_view_count": null,
            "_view_module": "jupyter-leaflet",
            "_view_module_version": "^0.18",
            "_view_name": "LeafletRectangleView",
            "base": false,
            "bottom": false,
            "bounds": [
              [
                37.319386049364,
                127.97675554397
              ],
              [
                37.32163830161625,
                127.97958777929479
              ]
            ],
            "color": "red",
            "dash_array": null,
            "draggable": false,
            "fill": true,
            "fill_color": null,
            "fill_opacity": 0.1,
            "line_cap": "round",
            "line_join": "round",
            "locations": [],
            "name": "",
            "no_clip": true,
            "opacity": 1,
            "options": [
              "color",
              "dash_array",
              "draggable",
              "fill",
              "fill_color",
              "fill_opacity",
              "line_cap",
              "line_join",
              "no_clip",
              "opacity",
              "pointer_events",
              "smooth_factor",
              "stroke",
              "transform",
              "weight"
            ],
            "pane": "",
            "pointer_events": "",
            "popup": null,
            "popup_max_height": null,
            "popup_max_width": 300,
            "popup_min_width": 50,
            "rotation": true,
            "scaling": true,
            "smooth_factor": 1,
            "stroke": true,
            "subitems": [],
            "transform": false,
            "uniform_scaling": false,
            "weight": 5
          }
        },
        "4ccc658247924db7b0da709d2e875255": {
          "model_module": "jupyter-leaflet",
          "model_name": "LeafletRectangleModel",
          "model_module_version": "^0.18",
          "state": {
            "_model_module": "jupyter-leaflet",
            "_model_module_version": "^0.18",
            "_model_name": "LeafletRectangleModel",
            "_view_count": null,
            "_view_module": "jupyter-leaflet",
            "_view_module_version": "^0.18",
            "_view_name": "LeafletRectangleView",
            "base": false,
            "bottom": false,
            "bounds": [
              [
                37.319386049364,
                127.9795877792948
              ],
              [
                37.32163830161625,
                127.98242001461959
              ]
            ],
            "color": "red",
            "dash_array": null,
            "draggable": false,
            "fill": true,
            "fill_color": null,
            "fill_opacity": 0.1,
            "line_cap": "round",
            "line_join": "round",
            "locations": [],
            "name": "",
            "no_clip": true,
            "opacity": 1,
            "options": [
              "color",
              "dash_array",
              "draggable",
              "fill",
              "fill_color",
              "fill_opacity",
              "line_cap",
              "line_join",
              "no_clip",
              "opacity",
              "pointer_events",
              "smooth_factor",
              "stroke",
              "transform",
              "weight"
            ],
            "pane": "",
            "pointer_events": "",
            "popup": null,
            "popup_max_height": null,
            "popup_max_width": 300,
            "popup_min_width": 50,
            "rotation": true,
            "scaling": true,
            "smooth_factor": 1,
            "stroke": true,
            "subitems": [],
            "transform": false,
            "uniform_scaling": false,
            "weight": 5
          }
        },
        "321f6fe3040b4abdadd57466c204544c": {
          "model_module": "jupyter-leaflet",
          "model_name": "LeafletRectangleModel",
          "model_module_version": "^0.18",
          "state": {
            "_model_module": "jupyter-leaflet",
            "_model_module_version": "^0.18",
            "_model_name": "LeafletRectangleModel",
            "_view_count": null,
            "_view_module": "jupyter-leaflet",
            "_view_module_version": "^0.18",
            "_view_name": "LeafletRectangleView",
            "base": false,
            "bottom": false,
            "bounds": [
              [
                37.319386049364,
                127.98242001461959
              ],
              [
                37.32163830161625,
                127.98525224994438
              ]
            ],
            "color": "red",
            "dash_array": null,
            "draggable": false,
            "fill": true,
            "fill_color": null,
            "fill_opacity": 0.1,
            "line_cap": "round",
            "line_join": "round",
            "locations": [],
            "name": "",
            "no_clip": true,
            "opacity": 1,
            "options": [
              "color",
              "dash_array",
              "draggable",
              "fill",
              "fill_color",
              "fill_opacity",
              "line_cap",
              "line_join",
              "no_clip",
              "opacity",
              "pointer_events",
              "smooth_factor",
              "stroke",
              "transform",
              "weight"
            ],
            "pane": "",
            "pointer_events": "",
            "popup": null,
            "popup_max_height": null,
            "popup_max_width": 300,
            "popup_min_width": 50,
            "rotation": true,
            "scaling": true,
            "smooth_factor": 1,
            "stroke": true,
            "subitems": [],
            "transform": false,
            "uniform_scaling": false,
            "weight": 5
          }
        },
        "70c558459aea4885b248bca933063d6e": {
          "model_module": "jupyter-leaflet",
          "model_name": "LeafletRectangleModel",
          "model_module_version": "^0.18",
          "state": {
            "_model_module": "jupyter-leaflet",
            "_model_module_version": "^0.18",
            "_model_name": "LeafletRectangleModel",
            "_view_count": null,
            "_view_module": "jupyter-leaflet",
            "_view_module_version": "^0.18",
            "_view_name": "LeafletRectangleView",
            "base": false,
            "bottom": false,
            "bounds": [
              [
                37.319386049364,
                127.98525224994438
              ],
              [
                37.32163830161625,
                127.98808448526916
              ]
            ],
            "color": "red",
            "dash_array": null,
            "draggable": false,
            "fill": true,
            "fill_color": null,
            "fill_opacity": 0.1,
            "line_cap": "round",
            "line_join": "round",
            "locations": [],
            "name": "",
            "no_clip": true,
            "opacity": 1,
            "options": [
              "color",
              "dash_array",
              "draggable",
              "fill",
              "fill_color",
              "fill_opacity",
              "line_cap",
              "line_join",
              "no_clip",
              "opacity",
              "pointer_events",
              "smooth_factor",
              "stroke",
              "transform",
              "weight"
            ],
            "pane": "",
            "pointer_events": "",
            "popup": null,
            "popup_max_height": null,
            "popup_max_width": 300,
            "popup_min_width": 50,
            "rotation": true,
            "scaling": true,
            "smooth_factor": 1,
            "stroke": true,
            "subitems": [],
            "transform": false,
            "uniform_scaling": false,
            "weight": 5
          }
        },
        "310f0b54e13e440a984a8a83d550e13f": {
          "model_module": "jupyter-leaflet",
          "model_name": "LeafletGeoJSONModel",
          "model_module_version": "^0.18",
          "state": {
            "_model_module": "jupyter-leaflet",
            "_model_module_version": "^0.18",
            "_model_name": "LeafletGeoJSONModel",
            "_view_count": null,
            "_view_module": "jupyter-leaflet",
            "_view_module_version": "^0.18",
            "_view_name": "LeafletGeoJSONView",
            "base": false,
            "bottom": false,
            "data": {
              "type": "FeatureCollection",
              "features": [
                {
                  "id": "0",
                  "type": "Feature",
                  "properties": {
                    "address_name": "강원특별자치도 원주시 반곡동 1846-2",
                    "category_group_code": "CE7",
                    "category_group_name": "카페",
                    "category_name": "음식점 > 카페 > 커피전문점",
                    "distance": "",
                    "id": "1276017508",
                    "phone": "010-3481-6200",
                    "place_name": "듀렛",
                    "place_url": "http://place.map.kakao.com/1276017508",
                    "road_address_name": "강원특별자치도 원주시 양지뜰3길 21-5",
                    "x": "127.982210191168",
                    "y": "37.3265592016734"
                  },
                  "geometry": {
                    "type": "Point",
                    "coordinates": [
                      127.982210191168,
                      37.3265592016734
                    ]
                  }
                },
                {
                  "id": "1",
                  "type": "Feature",
                  "properties": {
                    "address_name": "강원특별자치도 원주시 반곡동 1848-3",
                    "category_group_code": "CE7",
                    "category_group_name": "카페",
                    "category_name": "음식점 > 카페 > 테마카페",
                    "distance": "",
                    "id": "1394292675",
                    "phone": "010-8792-3606",
                    "place_name": "시즈온",
                    "place_url": "http://place.map.kakao.com/1394292675",
                    "road_address_name": "강원특별자치도 원주시 양지뜰4길 1-2",
                    "x": "127.982400415412",
                    "y": "37.3273045489684"
                  },
                  "geometry": {
                    "type": "Point",
                    "coordinates": [
                      127.982400415412,
                      37.3273045489684
                    ]
                  }
                },
                {
                  "id": "2",
                  "type": "Feature",
                  "properties": {
                    "address_name": "강원특별자치도 원주시 반곡동 1842-7",
                    "category_group_code": "CE7",
                    "category_group_name": "카페",
                    "category_name": "음식점 > 카페",
                    "distance": "",
                    "id": "533769873",
                    "phone": "",
                    "place_name": "티엠비티",
                    "place_url": "http://place.map.kakao.com/533769873",
                    "road_address_name": "강원특별자치도 원주시 양지뜰3길 8",
                    "x": "127.98157092800955",
                    "y": "37.326333851672686"
                  },
                  "geometry": {
                    "type": "Point",
                    "coordinates": [
                      127.98157092800955,
                      37.326333851672686
                    ]
                  }
                },
                {
                  "id": "3",
                  "type": "Feature",
                  "properties": {
                    "address_name": "강원특별자치도 원주시 반곡동 1866-5",
                    "category_group_code": "CE7",
                    "category_group_name": "카페",
                    "category_name": "가정,생활 > 여가시설 > 보드카페",
                    "distance": "",
                    "id": "1707628041",
                    "phone": "010-3918-0612",
                    "place_name": "KMGM 원주혁신점",
                    "place_url": "http://place.map.kakao.com/1707628041",
                    "road_address_name": "강원특별자치도 원주시 봄마중길 10",
                    "x": "127.979797255068",
                    "y": "37.3262413347412"
                  },
                  "geometry": {
                    "type": "Point",
                    "coordinates": [
                      127.979797255068,
                      37.3262413347412
                    ]
                  }
                },
                {
                  "id": "4",
                  "type": "Feature",
                  "properties": {
                    "address_name": "강원특별자치도 원주시 반곡동 1842-4",
                    "category_group_code": "CE7",
                    "category_group_name": "카페",
                    "category_name": "음식점 > 카페",
                    "distance": "",
                    "id": "849383867",
                    "phone": "",
                    "place_name": "디셈버마치",
                    "place_url": "http://place.map.kakao.com/849383867",
                    "road_address_name": "강원특별자치도 원주시 양지뜰3길 6",
                    "x": "127.981710850674",
                    "y": "37.3266822776831"
                  },
                  "geometry": {
                    "type": "Point",
                    "coordinates": [
                      127.981710850674,
                      37.3266822776831
                    ]
                  }
                },
                {
                  "id": "5",
                  "type": "Feature",
                  "properties": {
                    "address_name": "강원특별자치도 원주시 반곡동 1822-17",
                    "category_group_code": "CE7",
                    "category_group_name": "카페",
                    "category_name": "음식점 > 카페",
                    "distance": "",
                    "id": "405810400",
                    "phone": "",
                    "place_name": "소복",
                    "place_url": "http://place.map.kakao.com/405810400",
                    "road_address_name": "강원특별자치도 원주시 입춘로 69",
                    "x": "127.98116594986429",
                    "y": "37.32677239253291"
                  },
                  "geometry": {
                    "type": "Point",
                    "coordinates": [
                      127.98116594986429,
                      37.32677239253291
                    ]
                  }
                },
                {
                  "id": "6",
                  "type": "Feature",
                  "properties": {
                    "address_name": "강원특별자치도 원주시 반곡동 1844-7",
                    "category_group_code": "CE7",
                    "category_group_name": "카페",
                    "category_name": "가정,생활 > 유아 > 놀이시설 > 키즈카페",
                    "distance": "",
                    "id": "1342042940",
                    "phone": "",
                    "place_name": "멜리니스",
                    "place_url": "http://place.map.kakao.com/1342042940",
                    "road_address_name": "강원특별자치도 원주시 양지뜰3길 19-2",
                    "x": "127.982280826175",
                    "y": "37.3261783944112"
                  },
                  "geometry": {
                    "type": "Point",
                    "coordinates": [
                      127.982280826175,
                      37.3261783944112
                    ]
                  }
                },
                {
                  "id": "7",
                  "type": "Feature",
                  "properties": {
                    "address_name": "강원특별자치도 원주시 반곡동 1854-9",
                    "category_group_code": "CE7",
                    "category_group_name": "카페",
                    "category_name": "음식점 > 카페 > 커피전문점",
                    "distance": "",
                    "id": "83714252",
                    "phone": "033-731-8006",
                    "place_name": "닥터허커피 반곡점",
                    "place_url": "http://place.map.kakao.com/83714252",
                    "road_address_name": "강원특별자치도 원주시 양지뜰4길 19",
                    "x": "127.984359412082",
                    "y": "37.3273306131419"
                  },
                  "geometry": {
                    "type": "Point",
                    "coordinates": [
                      127.984359412082,
                      37.3273306131419
                    ]
                  }
                },
                {
                  "id": "8",
                  "type": "Feature",
                  "properties": {
                    "address_name": "강원특별자치도 원주시 반곡동 1854-1",
                    "category_group_code": "CE7",
                    "category_group_name": "카페",
                    "category_name": "음식점 > 카페 > 테마카페 > 디저트카페",
                    "distance": "",
                    "id": "430370819",
                    "phone": "",
                    "place_name": "소셜티클럽",
                    "place_url": "http://place.map.kakao.com/430370819",
                    "road_address_name": "강원특별자치도 원주시 양지뜰4길 7-1",
                    "x": "127.983443831638",
                    "y": "37.3277202499849"
                  },
                  "geometry": {
                    "type": "Point",
                    "coordinates": [
                      127.983443831638,
                      37.3277202499849
                    ]
                  }
                },
                {
                  "id": "9",
                  "type": "Feature",
                  "properties": {
                    "address_name": "강원특별자치도 원주시 반곡동 1897-1",
                    "category_group_code": "CE7",
                    "category_group_name": "카페",
                    "category_name": "음식점 > 카페 > 커피전문점 > 투썸플레이스",
                    "distance": "",
                    "id": "564066045",
                    "phone": "033-747-0300",
                    "place_name": "투썸플레이스 원주혁신도시점",
                    "place_url": "http://place.map.kakao.com/564066045",
                    "road_address_name": "강원특별자치도 원주시 양지로 68",
                    "x": "127.98516257213248",
                    "y": "37.32714553070907"
                  },
                  "geometry": {
                    "type": "Point",
                    "coordinates": [
                      127.98516257213248,
                      37.32714553070907
                    ]
                  }
                },
                {
                  "id": "10",
                  "type": "Feature",
                  "properties": {
                    "address_name": "강원특별자치도 원주시 반곡동 1853-3",
                    "category_group_code": "CE7",
                    "category_group_name": "카페",
                    "category_name": "음식점 > 카페",
                    "distance": "",
                    "id": "1132654594",
                    "phone": "",
                    "place_name": "카페가끔",
                    "place_url": "http://place.map.kakao.com/1132654594",
                    "road_address_name": "강원특별자치도 원주시 양지뜰4길 26",
                    "x": "127.98363759516265",
                    "y": "37.327005049566516"
                  },
                  "geometry": {
                    "type": "Point",
                    "coordinates": [
                      127.98363759516265,
                      37.327005049566516
                    ]
                  }
                },
                {
                  "id": "11",
                  "type": "Feature",
                  "properties": {
                    "address_name": "강원특별자치도 원주시 반곡동 1853-2",
                    "category_group_code": "CE7",
                    "category_group_name": "카페",
                    "category_name": "음식점 > 카페",
                    "distance": "",
                    "id": "2084056257",
                    "phone": "033-123",
                    "place_name": "스니프",
                    "place_url": "http://place.map.kakao.com/2084056257",
                    "road_address_name": "강원특별자치도 원주시 양지뜰4길 24",
                    "x": "127.983760666744",
                    "y": "37.3270986309878"
                  },
                  "geometry": {
                    "type": "Point",
                    "coordinates": [
                      127.983760666744,
                      37.3270986309878
                    ]
                  }
                },
                {
                  "id": "12",
                  "type": "Feature",
                  "properties": {
                    "address_name": "강원특별자치도 원주시 반곡동 1850-4",
                    "category_group_code": "CE7",
                    "category_group_name": "카페",
                    "category_name": "음식점 > 카페",
                    "distance": "",
                    "id": "2084199208",
                    "phone": "010-8841-0721",
                    "place_name": "더베리하트",
                    "place_url": "http://place.map.kakao.com/2084199208",
                    "road_address_name": "강원특별자치도 원주시 양지뜰2길 6",
                    "x": "127.982888803243",
                    "y": "37.3266869136076"
                  },
                  "geometry": {
                    "type": "Point",
                    "coordinates": [
                      127.982888803243,
                      37.3266869136076
                    ]
                  }
                },
                {
                  "id": "13",
                  "type": "Feature",
                  "properties": {
                    "address_name": "강원특별자치도 원주시 반곡동 1854",
                    "category_group_code": "CE7",
                    "category_group_name": "카페",
                    "category_name": "음식점 > 카페",
                    "distance": "",
                    "id": "1177821253",
                    "phone": "",
                    "place_name": "루비스카페",
                    "place_url": "http://place.map.kakao.com/1177821253",
                    "road_address_name": "강원특별자치도 원주시 양지뜰4길 23",
                    "x": "127.98410276137",
                    "y": "37.3270300132107"
                  },
                  "geometry": {
                    "type": "Point",
                    "coordinates": [
                      127.98410276137,
                      37.3270300132107
                    ]
                  }
                },
                {
                  "id": "14",
                  "type": "Feature",
                  "properties": {
                    "address_name": "강원특별자치도 원주시 반곡동 1854-2",
                    "category_group_code": "CE7",
                    "category_group_name": "카페",
                    "category_name": "음식점 > 카페",
                    "distance": "",
                    "id": "26896910",
                    "phone": "",
                    "place_name": "카페비앙",
                    "place_url": "http://place.map.kakao.com/26896910",
                    "road_address_name": "강원특별자치도 원주시 양지뜰4길 9",
                    "x": "127.983597305979",
                    "y": "37.3277225781453"
                  },
                  "geometry": {
                    "type": "Point",
                    "coordinates": [
                      127.983597305979,
                      37.3277225781453
                    ]
                  }
                },
                {
                  "id": "15",
                  "type": "Feature",
                  "properties": {
                    "address_name": "강원특별자치도 원주시 반곡동 1897-4",
                    "category_group_code": "CE7",
                    "category_group_name": "카페",
                    "category_name": "음식점 > 카페 > 테마카페 > 디저트카페",
                    "distance": "",
                    "id": "901997826",
                    "phone": "010-5353-7745",
                    "place_name": "마이요거트립",
                    "place_url": "http://place.map.kakao.com/901997826",
                    "road_address_name": "강원특별자치도 원주시 양지로 58",
                    "x": "127.984700985685",
                    "y": "37.3266168841171"
                  },
                  "geometry": {
                    "type": "Point",
                    "coordinates": [
                      127.984700985685,
                      37.3266168841171
                    ]
                  }
                },
                {
                  "id": "16",
                  "type": "Feature",
                  "properties": {
                    "address_name": "강원특별자치도 원주시 반곡동 1848-6",
                    "category_group_code": "CE7",
                    "category_group_name": "카페",
                    "category_name": "음식점 > 카페",
                    "distance": "",
                    "id": "529061149",
                    "phone": "033-746-7698",
                    "place_name": "커피더판다 혁신점",
                    "place_url": "http://place.map.kakao.com/529061149",
                    "road_address_name": "강원특별자치도 원주시 양지뜰4길 5-1",
                    "x": "127.982834684663",
                    "y": "37.3275559243996"
                  },
                  "geometry": {
                    "type": "Point",
                    "coordinates": [
                      127.982834684663,
                      37.3275559243996
                    ]
                  }
                },
                {
                  "id": "17",
                  "type": "Feature",
                  "properties": {
                    "address_name": "강원특별자치도 원주시 반곡동 1850-4",
                    "category_group_code": "CE7",
                    "category_group_name": "카페",
                    "category_name": "음식점 > 카페",
                    "distance": "",
                    "id": "1258003243",
                    "phone": "",
                    "place_name": "원스하우스 혁신도시점",
                    "place_url": "http://place.map.kakao.com/1258003243",
                    "road_address_name": "강원특별자치도 원주시 양지뜰2길 6",
                    "x": "127.98289424437",
                    "y": "37.3266715514532"
                  },
                  "geometry": {
                    "type": "Point",
                    "coordinates": [
                      127.98289424437,
                      37.3266715514532
                    ]
                  }
                },
                {
                  "id": "18",
                  "type": "Feature",
                  "properties": {
                    "address_name": "강원특별자치도 원주시 반곡동 1850-4",
                    "category_group_code": "CE7",
                    "category_group_name": "카페",
                    "category_name": "음식점 > 카페",
                    "distance": "",
                    "id": "26602431",
                    "phone": "033-733-2689",
                    "place_name": "쉐프스카페",
                    "place_url": "http://place.map.kakao.com/26602431",
                    "road_address_name": "강원특별자치도 원주시 양지뜰2길 6",
                    "x": "127.982884243792",
                    "y": "37.3266833474967"
                  },
                  "geometry": {
                    "type": "Point",
                    "coordinates": [
                      127.982884243792,
                      37.3266833474967
                    ]
                  }
                },
                {
                  "id": "19",
                  "type": "Feature",
                  "properties": {
                    "address_name": "강원특별자치도 원주시 반곡동 1901-1",
                    "category_group_code": "CE7",
                    "category_group_name": "카페",
                    "category_name": "가정,생활 > 여가시설 > 만화방 > 만화카페 > 놀숲",
                    "distance": "",
                    "id": "1881926596",
                    "phone": "033-731-0122",
                    "place_name": "놀숲 원주혁신점",
                    "place_url": "http://place.map.kakao.com/1881926596",
                    "road_address_name": "강원특별자치도 원주시 양지로 70",
                    "x": "127.985759618931",
                    "y": "37.3274198667407"
                  },
                  "geometry": {
                    "type": "Point",
                    "coordinates": [
                      127.985759618931,
                      37.3274198667407
                    ]
                  }
                },
                {
                  "id": "20",
                  "type": "Feature",
                  "properties": {
                    "address_name": "강원특별자치도 원주시 반곡동 1903-6",
                    "category_group_code": "CE7",
                    "category_group_name": "카페",
                    "category_name": "음식점 > 카페",
                    "distance": "",
                    "id": "385346768",
                    "phone": "070-5103-7003",
                    "place_name": "레옹",
                    "place_url": "http://place.map.kakao.com/385346768",
                    "road_address_name": "강원특별자치도 원주시 황금로 8",
                    "x": "127.987482185592",
                    "y": "37.3273117983299"
                  },
                  "geometry": {
                    "type": "Point",
                    "coordinates": [
                      127.987482185592,
                      37.3273117983299
                    ]
                  }
                },
                {
                  "id": "21",
                  "type": "Feature",
                  "properties": {
                    "address_name": "강원특별자치도 원주시 반곡동 1901-1",
                    "category_group_code": "CE7",
                    "category_group_name": "카페",
                    "category_name": "가정,생활 > 여가시설 > 보드카페",
                    "distance": "",
                    "id": "419423534",
                    "phone": "010-7673-9032",
                    "place_name": "미르코보드게임룸카페",
                    "place_url": "http://place.map.kakao.com/419423534",
                    "road_address_name": "강원특별자치도 원주시 양지로 70",
                    "x": "127.985758608497",
                    "y": "37.327428885128"
                  },
                  "geometry": {
                    "type": "Point",
                    "coordinates": [
                      127.985758608497,
                      37.327428885128
                    ]
                  }
                },
                {
                  "id": "22",
                  "type": "Feature",
                  "properties": {
                    "address_name": "강원특별자치도 원주시 반곡동 1901-2",
                    "category_group_code": "CE7",
                    "category_group_name": "카페",
                    "category_name": "음식점 > 카페 > 커피전문점",
                    "distance": "",
                    "id": "1575015403",
                    "phone": "",
                    "place_name": "비하인드유",
                    "place_url": "http://place.map.kakao.com/1575015403",
                    "road_address_name": "강원특별자치도 원주시 건강로 1",
                    "x": "127.986108913098",
                    "y": "37.3272115286698"
                  },
                  "geometry": {
                    "type": "Point",
                    "coordinates": [
                      127.986108913098,
                      37.3272115286698
                    ]
                  }
                },
                {
                  "id": "23",
                  "type": "Feature",
                  "properties": {
                    "address_name": "강원특별자치도 원주시 반곡동 1901-1",
                    "category_group_code": "CE7",
                    "category_group_name": "카페",
                    "category_name": "음식점 > 카페 > 테마카페 > 디저트카페",
                    "distance": "",
                    "id": "1706213242",
                    "phone": "033-735-7137",
                    "place_name": "별찌살롱",
                    "place_url": "http://place.map.kakao.com/1706213242",
                    "road_address_name": "강원특별자치도 원주시 양지로 70",
                    "x": "127.985713316464",
                    "y": "37.3273301528317"
                  },
                  "geometry": {
                    "type": "Point",
                    "coordinates": [
                      127.985713316464,
                      37.3273301528317
                    ]
                  }
                },
                {
                  "id": "24",
                  "type": "Feature",
                  "properties": {
                    "address_name": "강원특별자치도 원주시 반곡동 1928-4",
                    "category_group_code": "CE7",
                    "category_group_name": "카페",
                    "category_name": "음식점 > 카페",
                    "distance": "",
                    "id": "1226032831",
                    "phone": "",
                    "place_name": "나인아울스 혁신도시점",
                    "place_url": "http://place.map.kakao.com/1226032831",
                    "road_address_name": "강원특별자치도 원주시 웅비3길 10",
                    "x": "127.988063271371",
                    "y": "37.3282620033415"
                  },
                  "geometry": {
                    "type": "Point",
                    "coordinates": [
                      127.988063271371,
                      37.3282620033415
                    ]
                  }
                },
                {
                  "id": "25",
                  "type": "Feature",
                  "properties": {
                    "address_name": "강원특별자치도 원주시 반곡동 1899-7",
                    "category_group_code": "CE7",
                    "category_group_name": "카페",
                    "category_name": "음식점 > 카페 > 커피전문점",
                    "distance": "",
                    "id": "433876843",
                    "phone": "",
                    "place_name": "해밍",
                    "place_url": "http://place.map.kakao.com/433876843",
                    "road_address_name": "강원특별자치도 원주시 양지로 68-1",
                    "x": "127.98550868086872",
                    "y": "37.32686604216461"
                  },
                  "geometry": {
                    "type": "Point",
                    "coordinates": [
                      127.98550868086872,
                      37.32686604216461
                    ]
                  }
                },
                {
                  "id": "26",
                  "type": "Feature",
                  "properties": {
                    "address_name": "강원특별자치도 원주시 반곡동 1901-1",
                    "category_group_code": "CE7",
                    "category_group_name": "카페",
                    "category_name": "음식점 > 카페",
                    "distance": "",
                    "id": "51835799",
                    "phone": "033-733-2063",
                    "place_name": "살렌토커피",
                    "place_url": "http://place.map.kakao.com/51835799",
                    "road_address_name": "강원특별자치도 원주시 양지로 70",
                    "x": "127.985759760175",
                    "y": "37.3274306775261"
                  },
                  "geometry": {
                    "type": "Point",
                    "coordinates": [
                      127.985759760175,
                      37.3274306775261
                    ]
                  }
                },
                {
                  "id": "27",
                  "type": "Feature",
                  "properties": {
                    "address_name": "강원특별자치도 원주시 반곡동 1901-5",
                    "category_group_code": "CE7",
                    "category_group_name": "카페",
                    "category_name": "음식점 > 카페",
                    "distance": "",
                    "id": "927622639",
                    "phone": "033-743-8389",
                    "place_name": "커피마을",
                    "place_url": "http://place.map.kakao.com/927622639",
                    "road_address_name": "강원특별자치도 원주시 건강로 3",
                    "x": "127.986375849272",
                    "y": "37.3269173805234"
                  },
                  "geometry": {
                    "type": "Point",
                    "coordinates": [
                      127.986375849272,
                      37.3269173805234
                    ]
                  }
                },
                {
                  "id": "28",
                  "type": "Feature",
                  "properties": {
                    "address_name": "강원특별자치도 원주시 반곡동 1903-5",
                    "category_group_code": "CE7",
                    "category_group_name": "카페",
                    "category_name": "음식점 > 카페 > 커피전문점",
                    "distance": "",
                    "id": "1044087012",
                    "phone": "033-900-0522",
                    "place_name": "모리커피 원주혁신도시점",
                    "place_url": "http://place.map.kakao.com/1044087012",
                    "road_address_name": "강원특별자치도 원주시 황금로 6",
                    "x": "127.987084396696",
                    "y": "37.3275214460348"
                  },
                  "geometry": {
                    "type": "Point",
                    "coordinates": [
                      127.987084396696,
                      37.3275214460348
                    ]
                  }
                },
                {
                  "id": "29",
                  "type": "Feature",
                  "properties": {
                    "address_name": "강원특별자치도 원주시 반곡동 1903-3",
                    "category_group_code": "CE7",
                    "category_group_name": "카페",
                    "category_name": "음식점 > 카페",
                    "distance": "",
                    "id": "455888404",
                    "phone": "033-904-8803",
                    "place_name": "에그랑",
                    "place_url": "http://place.map.kakao.com/455888404",
                    "road_address_name": "강원특별자치도 원주시 황금로 2",
                    "x": "127.98658098436327",
                    "y": "37.32776440911521"
                  },
                  "geometry": {
                    "type": "Point",
                    "coordinates": [
                      127.98658098436327,
                      37.32776440911521
                    ]
                  }
                },
                {
                  "id": "30",
                  "type": "Feature",
                  "properties": {
                    "address_name": "강원특별자치도 원주시 반곡동 1903-3",
                    "category_group_code": "CE7",
                    "category_group_name": "카페",
                    "category_name": "음식점 > 카페 > 커피전문점 > 더카페",
                    "distance": "",
                    "id": "14034155",
                    "phone": "",
                    "place_name": "더카페 원주혁신점",
                    "place_url": "http://place.map.kakao.com/14034155",
                    "road_address_name": "강원특별자치도 원주시 황금로 2",
                    "x": "127.986594545628",
                    "y": "37.3277660980226"
                  },
                  "geometry": {
                    "type": "Point",
                    "coordinates": [
                      127.986594545628,
                      37.3277660980226
                    ]
                  }
                },
                {
                  "id": "31",
                  "type": "Feature",
                  "properties": {
                    "address_name": "강원특별자치도 원주시 반곡동 1901-6",
                    "category_group_code": "CE7",
                    "category_group_name": "카페",
                    "category_name": "음식점 > 카페",
                    "distance": "",
                    "id": "911611032",
                    "phone": "010-5298-3546",
                    "place_name": "베리웰",
                    "place_url": "http://place.map.kakao.com/911611032",
                    "road_address_name": "강원특별자치도 원주시 미래로 25",
                    "x": "127.986569705359",
                    "y": "37.3267292578232"
                  },
                  "geometry": {
                    "type": "Point",
                    "coordinates": [
                      127.986569705359,
                      37.3267292578232
                    ]
                  }
                },
                {
                  "id": "32",
                  "type": "Feature",
                  "properties": {
                    "address_name": "강원특별자치도 원주시 반곡동 1901-6",
                    "category_group_code": "CE7",
                    "category_group_name": "카페",
                    "category_name": "음식점 > 카페",
                    "distance": "",
                    "id": "1704310364",
                    "phone": "033-733-2585",
                    "place_name": "카페라떼떼 원주혁신도시점",
                    "place_url": "http://place.map.kakao.com/1704310364",
                    "road_address_name": "강원특별자치도 원주시 미래로 25",
                    "x": "127.98643762032677",
                    "y": "37.32672315118741"
                  },
                  "geometry": {
                    "type": "Point",
                    "coordinates": [
                      127.98643762032677,
                      37.32672315118741
                    ]
                  }
                },
                {
                  "id": "33",
                  "type": "Feature",
                  "properties": {
                    "address_name": "강원특별자치도 원주시 반곡동 1901-6",
                    "category_group_code": "CE7",
                    "category_group_name": "카페",
                    "category_name": "음식점 > 카페",
                    "distance": "",
                    "id": "2065848606",
                    "phone": "",
                    "place_name": "붕어네디저트",
                    "place_url": "http://place.map.kakao.com/2065848606",
                    "road_address_name": "강원특별자치도 원주시 미래로 25",
                    "x": "127.98645792660332",
                    "y": "37.326722981881055"
                  },
                  "geometry": {
                    "type": "Point",
                    "coordinates": [
                      127.98645792660332,
                      37.326722981881055
                    ]
                  }
                },
                {
                  "id": "34",
                  "type": "Feature",
                  "properties": {
                    "address_name": "강원특별자치도 원주시 반곡동 1899-7",
                    "category_group_code": "CE7",
                    "category_group_name": "카페",
                    "category_name": "음식점 > 카페",
                    "distance": "",
                    "id": "1780082828",
                    "phone": "",
                    "place_name": "커피라구",
                    "place_url": "http://place.map.kakao.com/1780082828",
                    "road_address_name": "강원특별자치도 원주시 양지로 68-1",
                    "x": "127.985645218099",
                    "y": "37.3267811120541"
                  },
                  "geometry": {
                    "type": "Point",
                    "coordinates": [
                      127.985645218099,
                      37.3267811120541
                    ]
                  }
                },
                {
                  "id": "35",
                  "type": "Feature",
                  "properties": {
                    "address_name": "강원특별자치도 원주시 반곡동 1903-8",
                    "category_group_code": "CE7",
                    "category_group_name": "카페",
                    "category_name": "음식점 > 카페",
                    "distance": "",
                    "id": "1945493754",
                    "phone": "",
                    "place_name": "아이지그로우(lGGROW)",
                    "place_url": "http://place.map.kakao.com/1945493754",
                    "road_address_name": "강원특별자치도 원주시 미래로 37",
                    "x": "127.987677423443",
                    "y": "37.3270569885438"
                  },
                  "geometry": {
                    "type": "Point",
                    "coordinates": [
                      127.987677423443,
                      37.3270569885438
                    ]
                  }
                },
                {
                  "id": "36",
                  "type": "Feature",
                  "properties": {
                    "address_name": "강원특별자치도 원주시 반곡동 1903-5",
                    "category_group_code": "CE7",
                    "category_group_name": "카페",
                    "category_name": "음식점 > 카페 > 커피전문점",
                    "distance": "",
                    "id": "1392700389",
                    "phone": "033-733-3498",
                    "place_name": "럭키우유",
                    "place_url": "http://place.map.kakao.com/1392700389",
                    "road_address_name": "강원특별자치도 원주시 황금로 6",
                    "x": "127.987084396696",
                    "y": "37.3275214460348"
                  },
                  "geometry": {
                    "type": "Point",
                    "coordinates": [
                      127.987084396696,
                      37.3275214460348
                    ]
                  }
                },
                {
                  "id": "37",
                  "type": "Feature",
                  "properties": {
                    "address_name": "강원특별자치도 원주시 반곡동 1860-5",
                    "category_group_code": "CE7",
                    "category_group_name": "카페",
                    "category_name": "음식점 > 카페 > 커피전문점 > 투썸플레이스",
                    "distance": "",
                    "id": "852779136",
                    "phone": "033-733-6888",
                    "place_name": "투썸플레이스 원주혁신H타워점",
                    "place_url": "http://place.map.kakao.com/852779136",
                    "road_address_name": "강원특별자치도 원주시 혁신로 19",
                    "x": "127.97687528170106",
                    "y": "37.324773444304036"
                  },
                  "geometry": {
                    "type": "Point",
                    "coordinates": [
                      127.97687528170106,
                      37.324773444304036
                    ]
                  }
                },
                {
                  "id": "38",
                  "type": "Feature",
                  "properties": {
                    "address_name": "강원특별자치도 원주시 반곡동 1882-1",
                    "category_group_code": "CE7",
                    "category_group_name": "카페",
                    "category_name": "음식점 > 카페",
                    "distance": "",
                    "id": "2021403133",
                    "phone": "010-4507-4853",
                    "place_name": "카페 코이드",
                    "place_url": "http://place.map.kakao.com/2021403133",
                    "road_address_name": "강원특별자치도 원주시 배울로 86",
                    "x": "127.978246170828",
                    "y": "37.3246071459112"
                  },
                  "geometry": {
                    "type": "Point",
                    "coordinates": [
                      127.978246170828,
                      37.3246071459112
                    ]
                  }
                },
                {
                  "id": "39",
                  "type": "Feature",
                  "properties": {
                    "address_name": "강원특별자치도 원주시 반곡동 1884-3",
                    "category_group_code": "CE7",
                    "category_group_name": "카페",
                    "category_name": "음식점 > 카페 > 테마카페 > 디저트카페",
                    "distance": "",
                    "id": "1939465236",
                    "phone": "033-746-7904",
                    "place_name": "이츠굿베이커리카페 원주점",
                    "place_url": "http://place.map.kakao.com/1939465236",
                    "road_address_name": "강원특별자치도 원주시 혁신로 39-2",
                    "x": "127.979488367326",
                    "y": "37.3240878050052"
                  },
                  "geometry": {
                    "type": "Point",
                    "coordinates": [
                      127.979488367326,
                      37.3240878050052
                    ]
                  }
                },
                {
                  "id": "40",
                  "type": "Feature",
                  "properties": {
                    "address_name": "강원특별자치도 원주시 반곡동 1880-5",
                    "category_group_code": "CE7",
                    "category_group_name": "카페",
                    "category_name": "음식점 > 카페 > 커피전문점 > 이디야커피",
                    "distance": "",
                    "id": "1013790905",
                    "phone": "033-732-3248",
                    "place_name": "이디야커피 원주혁신도시점",
                    "place_url": "http://place.map.kakao.com/1013790905",
                    "road_address_name": "강원특별자치도 원주시 양지로 10",
                    "x": "127.97938189151382",
                    "y": "37.325011308110476"
                  },
                  "geometry": {
                    "type": "Point",
                    "coordinates": [
                      127.97938189151382,
                      37.325011308110476
                    ]
                  }
                },
                {
                  "id": "41",
                  "type": "Feature",
                  "properties": {
                    "address_name": "강원특별자치도 원주시 반곡동 1885-1",
                    "category_group_code": "CE7",
                    "category_group_name": "카페",
                    "category_name": "음식점 > 카페 > 커피전문점 > 텐퍼센트커피",
                    "distance": "",
                    "id": "1306299638",
                    "phone": "033-812-3070",
                    "place_name": "텐퍼센트커피 원주혁신도시점",
                    "place_url": "http://place.map.kakao.com/1306299638",
                    "road_address_name": "강원특별자치도 원주시 혁신로 37-1",
                    "x": "127.978638361435",
                    "y": "37.3239650951144"
                  },
                  "geometry": {
                    "type": "Point",
                    "coordinates": [
                      127.978638361435,
                      37.3239650951144
                    ]
                  }
                },
                {
                  "id": "42",
                  "type": "Feature",
                  "properties": {
                    "address_name": "강원특별자치도 원주시 반곡동 1880-2",
                    "category_group_code": "CE7",
                    "category_group_name": "카페",
                    "category_name": "음식점 > 카페 > 커피전문점",
                    "distance": "",
                    "id": "1526209650",
                    "phone": "",
                    "place_name": "폴스웨이커피 혁신점",
                    "place_url": "http://place.map.kakao.com/1526209650",
                    "road_address_name": "강원특별자치도 원주시 양지로 4",
                    "x": "127.978837553841",
                    "y": "37.3254050437566"
                  },
                  "geometry": {
                    "type": "Point",
                    "coordinates": [
                      127.978837553841,
                      37.3254050437566
                    ]
                  }
                },
                {
                  "id": "43",
                  "type": "Feature",
                  "properties": {
                    "address_name": "강원특별자치도 원주시 반곡동 1882-2",
                    "category_group_code": "CE7",
                    "category_group_name": "카페",
                    "category_name": "음식점 > 카페 > 테마카페 > 디저트카페",
                    "distance": "",
                    "id": "955126864",
                    "phone": "070-8648-0636",
                    "place_name": "쉬즈베이글 원주혁신점",
                    "place_url": "http://place.map.kakao.com/955126864",
                    "road_address_name": "강원특별자치도 원주시 혁신로 35",
                    "x": "127.978050928642",
                    "y": "37.3241672710893"
                  },
                  "geometry": {
                    "type": "Point",
                    "coordinates": [
                      127.978050928642,
                      37.3241672710893
                    ]
                  }
                },
                {
                  "id": "44",
                  "type": "Feature",
                  "properties": {
                    "address_name": "강원특별자치도 원주시 반곡동 1882-2",
                    "category_group_code": "CE7",
                    "category_group_name": "카페",
                    "category_name": "음식점 > 카페",
                    "distance": "",
                    "id": "1577699683",
                    "phone": "033-733-1220",
                    "place_name": "D2",
                    "place_url": "http://place.map.kakao.com/1577699683",
                    "road_address_name": "강원특별자치도 원주시 혁신로 35",
                    "x": "127.97808187510137",
                    "y": "37.324378749767625"
                  },
                  "geometry": {
                    "type": "Point",
                    "coordinates": [
                      127.97808187510137,
                      37.324378749767625
                    ]
                  }
                },
                {
                  "id": "45",
                  "type": "Feature",
                  "properties": {
                    "address_name": "강원특별자치도 원주시 반곡동 1882-1",
                    "category_group_code": "CE7",
                    "category_group_name": "카페",
                    "category_name": "음식점 > 카페 > 테마카페",
                    "distance": "",
                    "id": "780119601",
                    "phone": "070-4179-3300",
                    "place_name": "원주꽃집 3월의숲",
                    "place_url": "http://place.map.kakao.com/780119601",
                    "road_address_name": "강원특별자치도 원주시 배울로 86",
                    "x": "127.978246170828",
                    "y": "37.3246071459112"
                  },
                  "geometry": {
                    "type": "Point",
                    "coordinates": [
                      127.978246170828,
                      37.3246071459112
                    ]
                  }
                },
                {
                  "id": "46",
                  "type": "Feature",
                  "properties": {
                    "address_name": "강원특별자치도 원주시 반곡동 1882-1",
                    "category_group_code": "CE7",
                    "category_group_name": "카페",
                    "category_name": "음식점 > 카페 > 커피전문점",
                    "distance": "",
                    "id": "252999086",
                    "phone": "033-733-7701",
                    "place_name": "탭플레이 커피 원주혁신도시점",
                    "place_url": "http://place.map.kakao.com/252999086",
                    "road_address_name": "강원특별자치도 원주시 배울로 86",
                    "x": "127.978245031051",
                    "y": "37.3246062543372"
                  },
                  "geometry": {
                    "type": "Point",
                    "coordinates": [
                      127.978245031051,
                      37.3246062543372
                    ]
                  }
                },
                {
                  "id": "47",
                  "type": "Feature",
                  "properties": {
                    "address_name": "강원특별자치도 원주시 반곡동 1860-6",
                    "category_group_code": "CE7",
                    "category_group_name": "카페",
                    "category_name": "음식점 > 카페",
                    "distance": "",
                    "id": "107109190",
                    "phone": "",
                    "place_name": "카페더피플 대한석탄공사점",
                    "place_url": "http://place.map.kakao.com/107109190",
                    "road_address_name": "강원특별자치도 원주시 배울로 85",
                    "x": "127.977271046614",
                    "y": "37.3247548590217"
                  },
                  "geometry": {
                    "type": "Point",
                    "coordinates": [
                      127.977271046614,
                      37.3247548590217
                    ]
                  }
                },
                {
                  "id": "48",
                  "type": "Feature",
                  "properties": {
                    "address_name": "강원특별자치도 원주시 반곡동 1880-4",
                    "category_group_code": "CE7",
                    "category_group_name": "카페",
                    "category_name": "음식점 > 카페 > 테마카페",
                    "distance": "",
                    "id": "1260055687",
                    "phone": "",
                    "place_name": "카페보타니컬",
                    "place_url": "http://place.map.kakao.com/1260055687",
                    "road_address_name": "강원특별자치도 원주시 양지로 8",
                    "x": "127.97914568541545",
                    "y": "37.32515381877144"
                  },
                  "geometry": {
                    "type": "Point",
                    "coordinates": [
                      127.97914568541545,
                      37.32515381877144
                    ]
                  }
                },
                {
                  "id": "49",
                  "type": "Feature",
                  "properties": {
                    "address_name": "강원특별자치도 원주시 반곡동 1842-14",
                    "category_group_code": "CE7",
                    "category_group_name": "카페",
                    "category_name": "음식점 > 카페",
                    "distance": "",
                    "id": "1040305405",
                    "phone": "033-731-9900",
                    "place_name": "앤트빌라",
                    "place_url": "http://place.map.kakao.com/1040305405",
                    "road_address_name": "강원특별자치도 원주시 양지뜰3길 16",
                    "x": "127.982190142516",
                    "y": "37.3257124306495"
                  },
                  "geometry": {
                    "type": "Point",
                    "coordinates": [
                      127.982190142516,
                      37.3257124306495
                    ]
                  }
                },
                {
                  "id": "50",
                  "type": "Feature",
                  "properties": {
                    "address_name": "강원특별자치도 원주시 반곡동 1878-11",
                    "category_group_code": "CE7",
                    "category_group_name": "카페",
                    "category_name": "음식점 > 카페",
                    "distance": "",
                    "id": "1184487384",
                    "phone": "",
                    "place_name": "컴포트",
                    "place_url": "http://place.map.kakao.com/1184487384",
                    "road_address_name": "강원특별자치도 원주시 봄마중길 40",
                    "x": "127.98100080549",
                    "y": "37.3251780955459"
                  },
                  "geometry": {
                    "type": "Point",
                    "coordinates": [
                      127.98100080549,
                      37.3251780955459
                    ]
                  }
                },
                {
                  "id": "51",
                  "type": "Feature",
                  "properties": {
                    "address_name": "강원특별자치도 원주시 반곡동 1880-9",
                    "category_group_code": "CE7",
                    "category_group_name": "카페",
                    "category_name": "음식점 > 카페 > 테마카페",
                    "distance": "",
                    "id": "1679563500",
                    "phone": "",
                    "place_name": "해피주동물카페 원주점",
                    "place_url": "http://place.map.kakao.com/1679563500",
                    "road_address_name": "강원특별자치도 원주시 양지로 20",
                    "x": "127.981028331047",
                    "y": "37.3245183370909"
                  },
                  "geometry": {
                    "type": "Point",
                    "coordinates": [
                      127.981028331047,
                      37.3245183370909
                    ]
                  }
                },
                {
                  "id": "52",
                  "type": "Feature",
                  "properties": {
                    "address_name": "강원특별자치도 원주시 반곡동 1880-9",
                    "category_group_code": "CE7",
                    "category_group_name": "카페",
                    "category_name": "음식점 > 카페 > 테마카페 > 떡카페",
                    "distance": "",
                    "id": "1729848861",
                    "phone": "",
                    "place_name": "메고지고 원주반곡점",
                    "place_url": "http://place.map.kakao.com/1729848861",
                    "road_address_name": "강원특별자치도 원주시 양지로 20",
                    "x": "127.98102631279225",
                    "y": "37.32444987800572"
                  },
                  "geometry": {
                    "type": "Point",
                    "coordinates": [
                      127.98102631279225,
                      37.32444987800572
                    ]
                  }
                },
                {
                  "id": "53",
                  "type": "Feature",
                  "properties": {
                    "address_name": "강원특별자치도 원주시 반곡동 1880-7",
                    "category_group_code": "CE7",
                    "category_group_name": "카페",
                    "category_name": "음식점 > 카페",
                    "distance": "",
                    "id": "488107631",
                    "phone": "033-731-1469",
                    "place_name": "카페꽃이피다 원주혁신점",
                    "place_url": "http://place.map.kakao.com/488107631",
                    "road_address_name": "강원특별자치도 원주시 양지로 14",
                    "x": "127.98005519142907",
                    "y": "37.32481832526534"
                  },
                  "geometry": {
                    "type": "Point",
                    "coordinates": [
                      127.98005519142907,
                      37.32481832526534
                    ]
                  }
                },
                {
                  "id": "54",
                  "type": "Feature",
                  "properties": {
                    "address_name": "강원특별자치도 원주시 반곡동 1880-8",
                    "category_group_code": "CE7",
                    "category_group_name": "카페",
                    "category_name": "가정,생활 > 유아 > 놀이시설 > 키즈카페",
                    "distance": "",
                    "id": "67197218",
                    "phone": "010-5794-5379",
                    "place_name": "오감정다운아이",
                    "place_url": "http://place.map.kakao.com/67197218",
                    "road_address_name": "강원특별자치도 원주시 양지로 16",
                    "x": "127.980505046931",
                    "y": "37.3245343877911"
                  },
                  "geometry": {
                    "type": "Point",
                    "coordinates": [
                      127.980505046931,
                      37.3245343877911
                    ]
                  }
                },
                {
                  "id": "55",
                  "type": "Feature",
                  "properties": {
                    "address_name": "강원특별자치도 원주시 반곡동 1880-9",
                    "category_group_code": "CE7",
                    "category_group_name": "카페",
                    "category_name": "음식점 > 카페",
                    "distance": "",
                    "id": "1016741377",
                    "phone": "010-3764-2719",
                    "place_name": "쁘띠푸르",
                    "place_url": "http://place.map.kakao.com/1016741377",
                    "road_address_name": "강원특별자치도 원주시 양지로 20",
                    "x": "127.981032538898",
                    "y": "37.3244948762625"
                  },
                  "geometry": {
                    "type": "Point",
                    "coordinates": [
                      127.981032538898,
                      37.3244948762625
                    ]
                  }
                },
                {
                  "id": "56",
                  "type": "Feature",
                  "properties": {
                    "address_name": "강원특별자치도 원주시 반곡동 1866-11",
                    "category_group_code": "CE7",
                    "category_group_name": "카페",
                    "category_name": "음식점 > 카페",
                    "distance": "",
                    "id": "1187841216",
                    "phone": "",
                    "place_name": "까페봄마중길",
                    "place_url": "http://place.map.kakao.com/1187841216",
                    "road_address_name": "강원특별자치도 원주시 봄마중길 2",
                    "x": "127.98059112538",
                    "y": "37.3259491415558"
                  },
                  "geometry": {
                    "type": "Point",
                    "coordinates": [
                      127.98059112538,
                      37.3259491415558
                    ]
                  }
                },
                {
                  "id": "57",
                  "type": "Feature",
                  "properties": {
                    "address_name": "강원특별자치도 원주시 반곡동 1842-9",
                    "category_group_code": "CE7",
                    "category_group_name": "카페",
                    "category_name": "음식점 > 카페",
                    "distance": "",
                    "id": "1818734927",
                    "phone": "0507-1369-2705",
                    "place_name": "희오라",
                    "place_url": "http://place.map.kakao.com/1818734927",
                    "road_address_name": "강원특별자치도 원주시 양지뜰3길 8-2",
                    "x": "127.981598340058",
                    "y": "37.3260993649428"
                  },
                  "geometry": {
                    "type": "Point",
                    "coordinates": [
                      127.981598340058,
                      37.3260993649428
                    ]
                  }
                },
                {
                  "id": "58",
                  "type": "Feature",
                  "properties": {
                    "address_name": "강원특별자치도 원주시 반곡동 1880-9",
                    "category_group_code": "CE7",
                    "category_group_name": "카페",
                    "category_name": "가정,생활 > 유아 > 놀이시설 > 키즈카페",
                    "distance": "",
                    "id": "238040456",
                    "phone": "",
                    "place_name": "엔젤키즈카페",
                    "place_url": "http://place.map.kakao.com/238040456",
                    "road_address_name": "강원특별자치도 원주시 양지로 20",
                    "x": "127.98102297536",
                    "y": "37.324453509669"
                  },
                  "geometry": {
                    "type": "Point",
                    "coordinates": [
                      127.98102297536,
                      37.324453509669
                    ]
                  }
                },
                {
                  "id": "59",
                  "type": "Feature",
                  "properties": {
                    "address_name": "강원특별자치도 원주시 반곡동 1880-10",
                    "category_group_code": "CE7",
                    "category_group_name": "카페",
                    "category_name": "음식점 > 카페 > 커피전문점",
                    "distance": "",
                    "id": "1091167938",
                    "phone": "",
                    "place_name": "텀브커피 원주혁신도시점",
                    "place_url": "http://place.map.kakao.com/1091167938",
                    "road_address_name": "강원특별자치도 원주시 양지로 26",
                    "x": "127.981612022052",
                    "y": "37.3246360315602"
                  },
                  "geometry": {
                    "type": "Point",
                    "coordinates": [
                      127.981612022052,
                      37.3246360315602
                    ]
                  }
                },
                {
                  "id": "60",
                  "type": "Feature",
                  "properties": {
                    "address_name": "강원특별자치도 원주시 반곡동 1842-16",
                    "category_group_code": "CE7",
                    "category_group_name": "카페",
                    "category_name": "음식점 > 카페 > 테마카페 > 디저트카페",
                    "distance": "",
                    "id": "1649025853",
                    "phone": "",
                    "place_name": "간식서랍",
                    "place_url": "http://place.map.kakao.com/1649025853",
                    "road_address_name": "강원특별자치도 원주시 양지뜰3길 18",
                    "x": "127.982503382473",
                    "y": "37.3256809979382"
                  },
                  "geometry": {
                    "type": "Point",
                    "coordinates": [
                      127.982503382473,
                      37.3256809979382
                    ]
                  }
                },
                {
                  "id": "61",
                  "type": "Feature",
                  "properties": {
                    "address_name": "강원특별자치도 원주시 반곡동 1842-20",
                    "category_group_code": "CE7",
                    "category_group_name": "카페",
                    "category_name": "음식점 > 카페",
                    "distance": "",
                    "id": "1729248469",
                    "phone": "",
                    "place_name": "카페그레",
                    "place_url": "http://place.map.kakao.com/1729248469",
                    "road_address_name": "강원특별자치도 원주시 양지뜰3길 24",
                    "x": "127.98301986458",
                    "y": "37.3260082748356"
                  },
                  "geometry": {
                    "type": "Point",
                    "coordinates": [
                      127.98301986458,
                      37.3260082748356
                    ]
                  }
                },
                {
                  "id": "62",
                  "type": "Feature",
                  "properties": {
                    "address_name": "강원특별자치도 원주시 반곡동 1842-21",
                    "category_group_code": "CE7",
                    "category_group_name": "카페",
                    "category_name": "음식점 > 카페 > 커피전문점 > 컴포즈커피",
                    "distance": "",
                    "id": "1569789225",
                    "phone": "010-8918-6094",
                    "place_name": "컴포즈커피 원주미리내도서관점",
                    "place_url": "http://place.map.kakao.com/1569789225",
                    "road_address_name": "강원특별자치도 원주시 양지뜰3길 26",
                    "x": "127.983180572526",
                    "y": "37.3261330790815"
                  },
                  "geometry": {
                    "type": "Point",
                    "coordinates": [
                      127.983180572526,
                      37.3261330790815
                    ]
                  }
                },
                {
                  "id": "63",
                  "type": "Feature",
                  "properties": {
                    "address_name": "강원특별자치도 원주시 반곡동 1844-5",
                    "category_group_code": "CE7",
                    "category_group_name": "카페",
                    "category_name": "음식점 > 카페",
                    "distance": "",
                    "id": "828156603",
                    "phone": "",
                    "place_name": "오디",
                    "place_url": "http://place.map.kakao.com/828156603",
                    "road_address_name": "강원특별자치도 원주시 양지뜰3길 19",
                    "x": "127.982523528264",
                    "y": "37.3260151006469"
                  },
                  "geometry": {
                    "type": "Point",
                    "coordinates": [
                      127.982523528264,
                      37.3260151006469
                    ]
                  }
                },
                {
                  "id": "64",
                  "type": "Feature",
                  "properties": {
                    "address_name": "강원특별자치도 원주시 반곡동 1889",
                    "category_group_code": "CE7",
                    "category_group_name": "카페",
                    "category_name": "음식점 > 카페",
                    "distance": "",
                    "id": "96378356",
                    "phone": "",
                    "place_name": "아이갓에브리씽 미리내도서관점",
                    "place_url": "http://place.map.kakao.com/96378356",
                    "road_address_name": "강원특별자치도 원주시 양지로 46",
                    "x": "127.983718279113",
                    "y": "37.3253186130053"
                  },
                  "geometry": {
                    "type": "Point",
                    "coordinates": [
                      127.983718279113,
                      37.3253186130053
                    ]
                  }
                },
                {
                  "id": "65",
                  "type": "Feature",
                  "properties": {
                    "address_name": "강원특별자치도 원주시 반곡동 1844-5",
                    "category_group_code": "CE7",
                    "category_group_name": "카페",
                    "category_name": "음식점 > 카페 > 커피전문점",
                    "distance": "",
                    "id": "490319716",
                    "phone": "",
                    "place_name": "로로네",
                    "place_url": "http://place.map.kakao.com/490319716",
                    "road_address_name": "강원특별자치도 원주시 양지뜰3길 19",
                    "x": "127.982517840754",
                    "y": "37.326011543889"
                  },
                  "geometry": {
                    "type": "Point",
                    "coordinates": [
                      127.982517840754,
                      37.326011543889
                    ]
                  }
                },
                {
                  "id": "66",
                  "type": "Feature",
                  "properties": {
                    "address_name": "강원특별자치도 원주시 반곡동 1913-1",
                    "category_group_code": "CE7",
                    "category_group_name": "카페",
                    "category_name": "음식점 > 카페 > 커피전문점 > 메가MGC커피",
                    "distance": "",
                    "id": "811548733",
                    "phone": "033-735-1253",
                    "place_name": "메가MGC커피 원주건강보험공단점",
                    "place_url": "http://place.map.kakao.com/811548733",
                    "road_address_name": "강원특별자치도 원주시 건강로 21",
                    "x": "127.987788814332",
                    "y": "37.3255685127622"
                  },
                  "geometry": {
                    "type": "Point",
                    "coordinates": [
                      127.987788814332,
                      37.3255685127622
                    ]
                  }
                },
                {
                  "id": "67",
                  "type": "Feature",
                  "properties": {
                    "address_name": "강원특별자치도 원주시 반곡동 1913-2",
                    "category_group_code": "CE7",
                    "category_group_name": "카페",
                    "category_name": "음식점 > 카페 > 커피전문점 > 이디야커피",
                    "distance": "",
                    "id": "1068476105",
                    "phone": "033-731-3133",
                    "place_name": "이디야커피 원주혁신건강보험공단점",
                    "place_url": "http://place.map.kakao.com/1068476105",
                    "road_address_name": "강원특별자치도 원주시 건강로 23",
                    "x": "127.98777531968354",
                    "y": "37.32522714756139"
                  },
                  "geometry": {
                    "type": "Point",
                    "coordinates": [
                      127.98777531968354,
                      37.32522714756139
                    ]
                  }
                },
                {
                  "id": "68",
                  "type": "Feature",
                  "properties": {
                    "address_name": "강원특별자치도 원주시 반곡동 1913-2",
                    "category_group_code": "CE7",
                    "category_group_name": "카페",
                    "category_name": "음식점 > 카페 > 커피전문점 > 컴포즈커피",
                    "distance": "",
                    "id": "1931771044",
                    "phone": "033-813-3777",
                    "place_name": "컴포즈커피 원주혁신도시건강로점",
                    "place_url": "http://place.map.kakao.com/1931771044",
                    "road_address_name": "강원특별자치도 원주시 건강로 23",
                    "x": "127.987839755477",
                    "y": "37.3253230162671"
                  },
                  "geometry": {
                    "type": "Point",
                    "coordinates": [
                      127.987839755477,
                      37.3253230162671
                    ]
                  }
                },
                {
                  "id": "69",
                  "type": "Feature",
                  "properties": {
                    "address_name": "강원특별자치도 원주시 반곡동 1913-7",
                    "category_group_code": "CE7",
                    "category_group_name": "카페",
                    "category_name": "음식점 > 카페 > 커피전문점 > 빽다방",
                    "distance": "",
                    "id": "258114513",
                    "phone": "",
                    "place_name": "빽다방 원주건강보험공단점",
                    "place_url": "http://place.map.kakao.com/258114513",
                    "road_address_name": "강원특별자치도 원주시 세계로 1",
                    "x": "127.987731542961",
                    "y": "37.3243823777569"
                  },
                  "geometry": {
                    "type": "Point",
                    "coordinates": [
                      127.987731542961,
                      37.3243823777569
                    ]
                  }
                },
                {
                  "id": "70",
                  "type": "Feature",
                  "properties": {
                    "address_name": "강원특별자치도 원주시 반곡동 1910-2",
                    "category_group_code": "CE7",
                    "category_group_name": "카페",
                    "category_name": "음식점 > 카페 > 테마카페 > 디저트카페",
                    "distance": "",
                    "id": "1153080197",
                    "phone": "033-734-3505",
                    "place_name": "치아커",
                    "place_url": "http://place.map.kakao.com/1153080197",
                    "road_address_name": "강원특별자치도 원주시 건강로 17-1",
                    "x": "127.987820610785",
                    "y": "37.3260151417774"
                  },
                  "geometry": {
                    "type": "Point",
                    "coordinates": [
                      127.987820610785,
                      37.3260151417774
                    ]
                  }
                },
                {
                  "id": "71",
                  "type": "Feature",
                  "properties": {
                    "address_name": "강원특별자치도 원주시 반곡동 1910-1",
                    "category_group_code": "CE7",
                    "category_group_name": "카페",
                    "category_name": "음식점 > 카페 > 커피전문점",
                    "distance": "",
                    "id": "6397457",
                    "phone": "070-4155-0103",
                    "place_name": "커피헤브론",
                    "place_url": "http://place.map.kakao.com/6397457",
                    "road_address_name": "강원특별자치도 원주시 건강로 17",
                    "x": "127.987527674256",
                    "y": "37.3259599233926"
                  },
                  "geometry": {
                    "type": "Point",
                    "coordinates": [
                      127.987527674256,
                      37.3259599233926
                    ]
                  }
                },
                {
                  "id": "72",
                  "type": "Feature",
                  "properties": {
                    "address_name": "강원특별자치도 원주시 반곡동 1913-4",
                    "category_group_code": "CE7",
                    "category_group_name": "카페",
                    "category_name": "음식점 > 카페",
                    "distance": "",
                    "id": "88053168",
                    "phone": "033-745-1245",
                    "place_name": "카페꽃다원",
                    "place_url": "http://place.map.kakao.com/88053168",
                    "road_address_name": "강원특별자치도 원주시 건강로 25",
                    "x": "127.988036500132",
                    "y": "37.3250114304493"
                  },
                  "geometry": {
                    "type": "Point",
                    "coordinates": [
                      127.988036500132,
                      37.3250114304493
                    ]
                  }
                },
                {
                  "id": "73",
                  "type": "Feature",
                  "properties": {
                    "address_name": "강원특별자치도 원주시 반곡동 1910-1",
                    "category_group_code": "CE7",
                    "category_group_name": "카페",
                    "category_name": "음식점 > 카페",
                    "distance": "",
                    "id": "1366555159",
                    "phone": "033-901-2037",
                    "place_name": "카페25.5 혁신점",
                    "place_url": "http://place.map.kakao.com/1366555159",
                    "road_address_name": "강원특별자치도 원주시 건강로 17",
                    "x": "127.987442711957",
                    "y": "37.3259336026089"
                  },
                  "geometry": {
                    "type": "Point",
                    "coordinates": [
                      127.987442711957,
                      37.3259336026089
                    ]
                  }
                },
                {
                  "id": "74",
                  "type": "Feature",
                  "properties": {
                    "address_name": "강원특별자치도 원주시 반곡동 1913-4",
                    "category_group_code": "CE7",
                    "category_group_name": "카페",
                    "category_name": "음식점 > 카페 > 커피전문점",
                    "distance": "",
                    "id": "1724477865",
                    "phone": "033-735-5013",
                    "place_name": "필립스커피",
                    "place_url": "http://place.map.kakao.com/1724477865",
                    "road_address_name": "강원특별자치도 원주시 건강로 25",
                    "x": "127.98805694749912",
                    "y": "37.325022071657465"
                  },
                  "geometry": {
                    "type": "Point",
                    "coordinates": [
                      127.98805694749912,
                      37.325022071657465
                    ]
                  }
                },
                {
                  "id": "75",
                  "type": "Feature",
                  "properties": {
                    "address_name": "강원특별자치도 원주시 반곡동 1913-6",
                    "category_group_code": "CE7",
                    "category_group_name": "카페",
                    "category_name": "음식점 > 카페 > 테마카페 > 디저트카페",
                    "distance": "",
                    "id": "159853465",
                    "phone": "070-8657-4523",
                    "place_name": "더데일리쿠키",
                    "place_url": "http://place.map.kakao.com/159853465",
                    "road_address_name": "강원특별자치도 원주시 건강로 31",
                    "x": "127.98769646610846",
                    "y": "37.324633147789854"
                  },
                  "geometry": {
                    "type": "Point",
                    "coordinates": [
                      127.98769646610846,
                      37.324633147789854
                    ]
                  }
                },
                {
                  "id": "76",
                  "type": "Feature",
                  "properties": {
                    "address_name": "강원특별자치도 원주시 반곡동 1894-6",
                    "category_group_code": "CE7",
                    "category_group_name": "카페",
                    "category_name": "음식점 > 카페",
                    "distance": "",
                    "id": "69568279",
                    "phone": "",
                    "place_name": "아이갓에브리싱 국민건강보험공단본부",
                    "place_url": "http://place.map.kakao.com/69568279",
                    "road_address_name": "강원특별자치도 원주시 건강로 32",
                    "x": "127.986328263361",
                    "y": "37.3246580766309"
                  },
                  "geometry": {
                    "type": "Point",
                    "coordinates": [
                      127.986328263361,
                      37.3246580766309
                    ]
                  }
                },
                {
                  "id": "77",
                  "type": "Feature",
                  "properties": {
                    "address_name": "강원특별자치도 원주시 반곡동 1894-6",
                    "category_group_code": "CE7",
                    "category_group_name": "카페",
                    "category_name": "음식점 > 카페",
                    "distance": "",
                    "id": "40799509",
                    "phone": "",
                    "place_name": "아이갓에브리띵 1호점",
                    "place_url": "http://place.map.kakao.com/40799509",
                    "road_address_name": "강원특별자치도 원주시 건강로 32",
                    "x": "127.986322799522",
                    "y": "37.3246716371382"
                  },
                  "geometry": {
                    "type": "Point",
                    "coordinates": [
                      127.986322799522,
                      37.3246716371382
                    ]
                  }
                },
                {
                  "id": "78",
                  "type": "Feature",
                  "properties": {
                    "address_name": "강원특별자치도 원주시 반곡동 1913-6",
                    "category_group_code": "CE7",
                    "category_group_name": "카페",
                    "category_name": "음식점 > 카페 > 테마카페 > 디저트카페",
                    "distance": "",
                    "id": "1852353610",
                    "phone": "",
                    "place_name": "꾸오쿠키상점",
                    "place_url": "http://place.map.kakao.com/1852353610",
                    "road_address_name": "강원특별자치도 원주시 건강로 31",
                    "x": "127.987702401392",
                    "y": "37.3246556231699"
                  },
                  "geometry": {
                    "type": "Point",
                    "coordinates": [
                      127.987702401392,
                      37.3246556231699
                    ]
                  }
                },
                {
                  "id": "79",
                  "type": "Feature",
                  "properties": {
                    "address_name": "강원특별자치도 원주시 반곡동 1894-6",
                    "category_group_code": "CE7",
                    "category_group_name": "카페",
                    "category_name": "음식점 > 카페",
                    "distance": "",
                    "id": "1332925143",
                    "phone": "",
                    "place_name": "아이갓에브리씽 국민건강보험공단본부점",
                    "place_url": "http://place.map.kakao.com/1332925143",
                    "road_address_name": "강원특별자치도 원주시 건강로 32",
                    "x": "127.986531143892",
                    "y": "37.3246428701927"
                  },
                  "geometry": {
                    "type": "Point",
                    "coordinates": [
                      127.986531143892,
                      37.3246428701927
                    ]
                  }
                },
                {
                  "id": "80",
                  "type": "Feature",
                  "properties": {
                    "address_name": "강원특별자치도 원주시 반곡동 1910-2",
                    "category_group_code": "CE7",
                    "category_group_name": "카페",
                    "category_name": "음식점 > 카페 > 커피전문점",
                    "distance": "",
                    "id": "393154093",
                    "phone": "033-745-2017",
                    "place_name": "M커피",
                    "place_url": "http://place.map.kakao.com/393154093",
                    "road_address_name": "강원특별자치도 원주시 건강로 17-1",
                    "x": "127.98782173890078",
                    "y": "37.326015132358556"
                  },
                  "geometry": {
                    "type": "Point",
                    "coordinates": [
                      127.98782173890078,
                      37.326015132358556
                    ]
                  }
                },
                {
                  "id": "81",
                  "type": "Feature",
                  "properties": {
                    "address_name": "강원특별자치도 원주시 반곡동 1913-7",
                    "category_group_code": "CE7",
                    "category_group_name": "카페",
                    "category_name": "음식점 > 카페",
                    "distance": "",
                    "id": "610216647",
                    "phone": "",
                    "place_name": "쇼생크",
                    "place_url": "http://place.map.kakao.com/610216647",
                    "road_address_name": "강원특별자치도 원주시 세계로 1",
                    "x": "127.987617027991",
                    "y": "37.324339184846"
                  },
                  "geometry": {
                    "type": "Point",
                    "coordinates": [
                      127.987617027991,
                      37.324339184846
                    ]
                  }
                },
                {
                  "id": "82",
                  "type": "Feature",
                  "properties": {
                    "address_name": "강원특별자치도 원주시 반곡동 1885-3",
                    "category_group_code": "CE7",
                    "category_group_name": "카페",
                    "category_name": "음식점 > 카페 > 커피전문점 > 컴포즈커피",
                    "distance": "",
                    "id": "799192162",
                    "phone": "033-745-6166",
                    "place_name": "컴포즈커피 원주혁신심평원점",
                    "place_url": "http://place.map.kakao.com/799192162",
                    "road_address_name": "강원특별자치도 원주시 혁신로 37-3",
                    "x": "127.979377877578",
                    "y": "37.3236589436851"
                  },
                  "geometry": {
                    "type": "Point",
                    "coordinates": [
                      127.979377877578,
                      37.3236589436851
                    ]
                  }
                },
                {
                  "id": "83",
                  "type": "Feature",
                  "properties": {
                    "address_name": "강원특별자치도 원주시 반곡동 1885-3",
                    "category_group_code": "CE7",
                    "category_group_name": "카페",
                    "category_name": "음식점 > 카페",
                    "distance": "",
                    "id": "1641421255",
                    "phone": "033-747-2955",
                    "place_name": "커피터널",
                    "place_url": "http://place.map.kakao.com/1641421255",
                    "road_address_name": "강원특별자치도 원주시 혁신로 37-3",
                    "x": "127.979379064124",
                    "y": "37.3236634388526"
                  },
                  "geometry": {
                    "type": "Point",
                    "coordinates": [
                      127.979379064124,
                      37.3236634388526
                    ]
                  }
                },
                {
                  "id": "84",
                  "type": "Feature",
                  "properties": {
                    "address_name": "강원특별자치도 원주시 반곡동 1885-2",
                    "category_group_code": "CE7",
                    "category_group_name": "카페",
                    "category_name": "음식점 > 카페 > 커피전문점 > 터치카페",
                    "distance": "",
                    "id": "1940321323",
                    "phone": "010-3699-2946",
                    "place_name": "터치카페 원주혁신점",
                    "place_url": "http://place.map.kakao.com/1940321323",
                    "road_address_name": "강원특별자치도 원주시 혁신로 37-2",
                    "x": "127.9789972924173",
                    "y": "37.323803550083696"
                  },
                  "geometry": {
                    "type": "Point",
                    "coordinates": [
                      127.9789972924173,
                      37.323803550083696
                    ]
                  }
                },
                {
                  "id": "85",
                  "type": "Feature",
                  "properties": {
                    "address_name": "강원특별자치도 원주시 반곡동 1885-3",
                    "category_group_code": "CE7",
                    "category_group_name": "카페",
                    "category_name": "음식점 > 카페",
                    "distance": "",
                    "id": "27530990",
                    "phone": "",
                    "place_name": "유달리 원주혁신도시점",
                    "place_url": "http://place.map.kakao.com/27530990",
                    "road_address_name": "강원특별자치도 원주시 혁신로 37-3",
                    "x": "127.979383389374",
                    "y": "37.3236489870838"
                  },
                  "geometry": {
                    "type": "Point",
                    "coordinates": [
                      127.979383389374,
                      37.3236489870838
                    ]
                  }
                },
                {
                  "id": "86",
                  "type": "Feature",
                  "properties": {
                    "address_name": "강원특별자치도 원주시 반곡동 1886-3",
                    "category_group_code": "CE7",
                    "category_group_name": "카페",
                    "category_name": "음식점 > 카페 > 커피전문점 > 스타벅스",
                    "distance": "",
                    "id": "2073251041",
                    "phone": "1522-3232",
                    "place_name": "스타벅스 원주혁신도시점",
                    "place_url": "http://place.map.kakao.com/2073251041",
                    "road_address_name": "강원특별자치도 원주시 혁신로 61",
                    "x": "127.98096997248079",
                    "y": "37.32324030519721"
                  },
                  "geometry": {
                    "type": "Point",
                    "coordinates": [
                      127.98096997248079,
                      37.32324030519721
                    ]
                  }
                },
                {
                  "id": "87",
                  "type": "Feature",
                  "properties": {
                    "address_name": "강원특별자치도 원주시 반곡동 1886-5",
                    "category_group_code": "CE7",
                    "category_group_name": "카페",
                    "category_name": "가정,생활 > 유아 > 놀이시설 > 키즈카페",
                    "distance": "",
                    "id": "1438188056",
                    "phone": "033-732-7895",
                    "place_name": "점프노리 원주혁신도시점",
                    "place_url": "http://place.map.kakao.com/1438188056",
                    "road_address_name": "강원특별자치도 원주시 입춘로 110",
                    "x": "127.981672605593",
                    "y": "37.3233957561392"
                  },
                  "geometry": {
                    "type": "Point",
                    "coordinates": [
                      127.981672605593,
                      37.3233957561392
                    ]
                  }
                },
                {
                  "id": "88",
                  "type": "Feature",
                  "properties": {
                    "address_name": "강원특별자치도 원주시 반곡동 1886-3",
                    "category_group_code": "CE7",
                    "category_group_name": "카페",
                    "category_name": "음식점 > 카페 > 테마카페 > 디저트카페 > 설빙",
                    "distance": "",
                    "id": "693003570",
                    "phone": "033-733-9111",
                    "place_name": "설빙 원주혁신도시점",
                    "place_url": "http://place.map.kakao.com/693003570",
                    "road_address_name": "강원특별자치도 원주시 혁신로 61",
                    "x": "127.980835454212",
                    "y": "37.3233936890499"
                  },
                  "geometry": {
                    "type": "Point",
                    "coordinates": [
                      127.980835454212,
                      37.3233936890499
                    ]
                  }
                },
                {
                  "id": "89",
                  "type": "Feature",
                  "properties": {
                    "address_name": "강원특별자치도 원주시 반곡동 1886-3",
                    "category_group_code": "CE7",
                    "category_group_name": "카페",
                    "category_name": "음식점 > 카페 > 커피전문점 > 빽다방",
                    "distance": "",
                    "id": "1318986423",
                    "phone": "033-746-4660",
                    "place_name": "빽다방 원주혁신도시점",
                    "place_url": "http://place.map.kakao.com/1318986423",
                    "road_address_name": "강원특별자치도 원주시 혁신로 61",
                    "x": "127.98088141655192",
                    "y": "37.32328428728149"
                  },
                  "geometry": {
                    "type": "Point",
                    "coordinates": [
                      127.98088141655192,
                      37.32328428728149
                    ]
                  }
                },
                {
                  "id": "90",
                  "type": "Feature",
                  "properties": {
                    "address_name": "강원특별자치도 원주시 반곡동 1886-1",
                    "category_group_code": "CE7",
                    "category_group_name": "카페",
                    "category_name": "음식점 > 카페 > 커피전문점 > 메가MGC커피",
                    "distance": "",
                    "id": "1934096173",
                    "phone": "033-732-2022",
                    "place_name": "메가MGC커피 원주혁신도시점",
                    "place_url": "http://place.map.kakao.com/1934096173",
                    "road_address_name": "강원특별자치도 원주시 혁신로 53",
                    "x": "127.979854470157",
                    "y": "37.3234360551906"
                  },
                  "geometry": {
                    "type": "Point",
                    "coordinates": [
                      127.979854470157,
                      37.3234360551906
                    ]
                  }
                },
                {
                  "id": "91",
                  "type": "Feature",
                  "properties": {
                    "address_name": "강원특별자치도 원주시 반곡동 1886-5",
                    "category_group_code": "CE7",
                    "category_group_name": "카페",
                    "category_name": "음식점 > 카페 > 생과일전문점",
                    "distance": "",
                    "id": "91142963",
                    "phone": "010-5261-2655",
                    "place_name": "메가 후르츠 원주혁신점",
                    "place_url": "http://place.map.kakao.com/91142963",
                    "road_address_name": "강원특별자치도 원주시 입춘로 110",
                    "x": "127.981672863431",
                    "y": "37.3234155759502"
                  },
                  "geometry": {
                    "type": "Point",
                    "coordinates": [
                      127.981672863431,
                      37.3234155759502
                    ]
                  }
                },
                {
                  "id": "92",
                  "type": "Feature",
                  "properties": {
                    "address_name": "강원특별자치도 원주시 반곡동 1886-5",
                    "category_group_code": "CE7",
                    "category_group_name": "카페",
                    "category_name": "음식점 > 카페 > 커피전문점 > 매머드익스프레스",
                    "distance": "",
                    "id": "747467164",
                    "phone": "",
                    "place_name": "매머드익스프레스 심평원사거리점",
                    "place_url": "http://place.map.kakao.com/747467164",
                    "road_address_name": "강원특별자치도 원주시 입춘로 110",
                    "x": "127.981672863431",
                    "y": "37.3234155759502"
                  },
                  "geometry": {
                    "type": "Point",
                    "coordinates": [
                      127.981672863431,
                      37.3234155759502
                    ]
                  }
                },
                {
                  "id": "93",
                  "type": "Feature",
                  "properties": {
                    "address_name": "강원특별자치도 원주시 반곡동 1886-5",
                    "category_group_code": "CE7",
                    "category_group_name": "카페",
                    "category_name": "음식점 > 카페",
                    "distance": "",
                    "id": "1985392304",
                    "phone": "",
                    "place_name": "카페홈즈 원주점",
                    "place_url": "http://place.map.kakao.com/1985392304",
                    "road_address_name": "강원특별자치도 원주시 입춘로 110",
                    "x": "127.98166293638",
                    "y": "37.3233462814882"
                  },
                  "geometry": {
                    "type": "Point",
                    "coordinates": [
                      127.98166293638,
                      37.3233462814882
                    ]
                  }
                },
                {
                  "id": "94",
                  "type": "Feature",
                  "properties": {
                    "address_name": "강원특별자치도 원주시 반곡동 1886-2",
                    "category_group_code": "CE7",
                    "category_group_name": "카페",
                    "category_name": "음식점 > 카페",
                    "distance": "",
                    "id": "933417551",
                    "phone": "033-733-1708",
                    "place_name": "볼타커피 반곡점",
                    "place_url": "http://place.map.kakao.com/933417551",
                    "road_address_name": "강원특별자치도 원주시 혁신로 55",
                    "x": "127.98043211706",
                    "y": "37.3234366759034"
                  },
                  "geometry": {
                    "type": "Point",
                    "coordinates": [
                      127.98043211706,
                      37.3234366759034
                    ]
                  }
                },
                {
                  "id": "95",
                  "type": "Feature",
                  "properties": {
                    "address_name": "강원특별자치도 원주시 반곡동 2047-10",
                    "category_group_code": "CE7",
                    "category_group_name": "카페",
                    "category_name": "음식점 > 카페",
                    "distance": "",
                    "id": "1314704492",
                    "phone": "",
                    "place_name": "심다방",
                    "place_url": "http://place.map.kakao.com/1314704492",
                    "road_address_name": "강원특별자치도 원주시 혁신로 60",
                    "x": "127.980541236633",
                    "y": "37.3224572879211"
                  },
                  "geometry": {
                    "type": "Point",
                    "coordinates": [
                      127.980541236633,
                      37.3224572879211
                    ]
                  }
                },
                {
                  "id": "96",
                  "type": "Feature",
                  "properties": {
                    "address_name": "강원특별자치도 원주시 반곡동 1886-2",
                    "category_group_code": "CE7",
                    "category_group_name": "카페",
                    "category_name": "음식점 > 카페",
                    "distance": "",
                    "id": "405852725",
                    "phone": "",
                    "place_name": "더블크",
                    "place_url": "http://place.map.kakao.com/405852725",
                    "road_address_name": "강원특별자치도 원주시 혁신로 55",
                    "x": "127.980436559147",
                    "y": "37.3234312331069"
                  },
                  "geometry": {
                    "type": "Point",
                    "coordinates": [
                      127.980436559147,
                      37.3234312331069
                    ]
                  }
                },
                {
                  "id": "97",
                  "type": "Feature",
                  "properties": {
                    "address_name": "강원특별자치도 원주시 반곡동 1886-2",
                    "category_group_code": "CE7",
                    "category_group_name": "카페",
                    "category_name": "음식점 > 카페",
                    "distance": "",
                    "id": "685930688",
                    "phone": "010-6622-4712",
                    "place_name": "달콤제작소",
                    "place_url": "http://place.map.kakao.com/685930688",
                    "road_address_name": "강원특별자치도 원주시 혁신로 55",
                    "x": "127.980427475987",
                    "y": "37.3234268033856"
                  },
                  "geometry": {
                    "type": "Point",
                    "coordinates": [
                      127.980427475987,
                      37.3234268033856
                    ]
                  }
                },
                {
                  "id": "98",
                  "type": "Feature",
                  "properties": {
                    "address_name": "강원특별자치도 원주시 반곡동 1886-5",
                    "category_group_code": "CE7",
                    "category_group_name": "카페",
                    "category_name": "음식점 > 카페",
                    "distance": "",
                    "id": "27358247",
                    "phone": "070-4414-8255",
                    "place_name": "모노치즈 원주혁신도시점",
                    "place_url": "http://place.map.kakao.com/27358247",
                    "road_address_name": "강원특별자치도 원주시 입춘로 110",
                    "x": "127.98168177086",
                    "y": "37.3234064920674"
                  },
                  "geometry": {
                    "type": "Point",
                    "coordinates": [
                      127.98168177086,
                      37.3234064920674
                    ]
                  }
                },
                {
                  "id": "99",
                  "type": "Feature",
                  "properties": {
                    "address_name": "강원특별자치도 원주시 반곡동 1886-5",
                    "category_group_code": "CE7",
                    "category_group_name": "카페",
                    "category_name": "음식점 > 카페 > 커피전문점",
                    "distance": "",
                    "id": "1779852780",
                    "phone": "1544-4866",
                    "place_name": "나우커피 원주혁신점",
                    "place_url": "http://place.map.kakao.com/1779852780",
                    "road_address_name": "강원특별자치도 원주시 입춘로 110",
                    "x": "127.981812159102",
                    "y": "37.3233693702438"
                  },
                  "geometry": {
                    "type": "Point",
                    "coordinates": [
                      127.981812159102,
                      37.3233693702438
                    ]
                  }
                },
                {
                  "id": "100",
                  "type": "Feature",
                  "properties": {
                    "address_name": "강원특별자치도 원주시 반곡동 1886-1",
                    "category_group_code": "CE7",
                    "category_group_name": "카페",
                    "category_name": "음식점 > 카페",
                    "distance": "",
                    "id": "1859232890",
                    "phone": "",
                    "place_name": "책봄",
                    "place_url": "http://place.map.kakao.com/1859232890",
                    "road_address_name": "강원특별자치도 원주시 혁신로 53",
                    "x": "127.979981610647",
                    "y": "37.3234962700446"
                  },
                  "geometry": {
                    "type": "Point",
                    "coordinates": [
                      127.979981610647,
                      37.3234962700446
                    ]
                  }
                },
                {
                  "id": "101",
                  "type": "Feature",
                  "properties": {
                    "address_name": "강원특별자치도 원주시 반곡동 1886-5",
                    "category_group_code": "CE7",
                    "category_group_name": "카페",
                    "category_name": "음식점 > 카페",
                    "distance": "",
                    "id": "27459482",
                    "phone": "",
                    "place_name": "더모스트카페",
                    "place_url": "http://place.map.kakao.com/27459482",
                    "road_address_name": "강원특별자치도 원주시 입춘로 110",
                    "x": "127.98168177086",
                    "y": "37.3234064920674"
                  },
                  "geometry": {
                    "type": "Point",
                    "coordinates": [
                      127.98168177086,
                      37.3234064920674
                    ]
                  }
                },
                {
                  "id": "102",
                  "type": "Feature",
                  "properties": {
                    "address_name": "강원특별자치도 원주시 반곡동 2047-10",
                    "category_group_code": "CE7",
                    "category_group_name": "카페",
                    "category_name": "음식점 > 카페",
                    "distance": "",
                    "id": "554371182",
                    "phone": "",
                    "place_name": "심쿱협동조합",
                    "place_url": "http://place.map.kakao.com/554371182",
                    "road_address_name": "강원특별자치도 원주시 혁신로 60",
                    "x": "127.980532165292",
                    "y": "37.3224537591064"
                  },
                  "geometry": {
                    "type": "Point",
                    "coordinates": [
                      127.980532165292,
                      37.3224537591064
                    ]
                  }
                },
                {
                  "id": "103",
                  "type": "Feature",
                  "properties": {
                    "address_name": "강원특별자치도 원주시 단구동 1477-12",
                    "category_group_code": "CE7",
                    "category_group_name": "카페",
                    "category_name": "음식점 > 카페 > 커피전문점",
                    "distance": "",
                    "id": "8561953",
                    "phone": "033-761-5655",
                    "place_name": "커피라디오 단구점",
                    "place_url": "http://place.map.kakao.com/8561953",
                    "road_address_name": "강원특별자치도 원주시 치악로 1510",
                    "x": "127.966810516852",
                    "y": "37.3194095775831"
                  },
                  "geometry": {
                    "type": "Point",
                    "coordinates": [
                      127.966810516852,
                      37.3194095775831
                    ]
                  }
                },
                {
                  "id": "104",
                  "type": "Feature",
                  "properties": {
                    "address_name": "강원특별자치도 원주시 단구동 1477-7",
                    "category_group_code": "CE7",
                    "category_group_name": "카페",
                    "category_name": "음식점 > 카페",
                    "distance": "",
                    "id": "733330135",
                    "phone": "",
                    "place_name": "코파카바나",
                    "place_url": "http://place.map.kakao.com/733330135",
                    "road_address_name": "강원특별자치도 원주시 단구초교길 6-36",
                    "x": "127.966527972997",
                    "y": "37.3198984255943"
                  },
                  "geometry": {
                    "type": "Point",
                    "coordinates": [
                      127.966527972997,
                      37.3198984255943
                    ]
                  }
                },
                {
                  "id": "105",
                  "type": "Feature",
                  "properties": {
                    "address_name": "강원특별자치도 원주시 반곡동 1141",
                    "category_group_code": "CE7",
                    "category_group_name": "카페",
                    "category_name": "음식점 > 카페 > 커피전문점 > 스타벅스",
                    "distance": "",
                    "id": "2054859785",
                    "phone": "1522-3232",
                    "place_name": "스타벅스 원주반곡DT점",
                    "place_url": "http://place.map.kakao.com/2054859785",
                    "road_address_name": "강원특별자치도 원주시 동부순환로 37",
                    "x": "127.97169995857898",
                    "y": "37.31976596419169"
                  },
                  "geometry": {
                    "type": "Point",
                    "coordinates": [
                      127.97169995857898,
                      37.31976596419169
                    ]
                  }
                },
                {
                  "id": "106",
                  "type": "Feature",
                  "properties": {
                    "address_name": "강원특별자치도 원주시 반곡동 2050-13",
                    "category_group_code": "CE7",
                    "category_group_name": "카페",
                    "category_name": "음식점 > 카페",
                    "distance": "",
                    "id": "474926954",
                    "phone": "",
                    "place_name": "993",
                    "place_url": "http://place.map.kakao.com/474926954",
                    "road_address_name": "강원특별자치도 원주시 버들만이길 1-2",
                    "x": "127.973580322965",
                    "y": "37.3195712081295"
                  },
                  "geometry": {
                    "type": "Point",
                    "coordinates": [
                      127.973580322965,
                      37.3195712081295
                    ]
                  }
                },
                {
                  "id": "107",
                  "type": "Feature",
                  "properties": {
                    "address_name": "강원특별자치도 원주시 반곡동 2052-7",
                    "category_group_code": "CE7",
                    "category_group_name": "카페",
                    "category_name": "음식점 > 카페 > 커피전문점 > 컴포즈커피",
                    "distance": "",
                    "id": "286439259",
                    "phone": "033-742-2299",
                    "place_name": "컴포즈커피 원주혁신중흥점",
                    "place_url": "http://place.map.kakao.com/286439259",
                    "road_address_name": "강원특별자치도 원주시 배울로 27",
                    "x": "127.97514198085095",
                    "y": "37.32020616612182"
                  },
                  "geometry": {
                    "type": "Point",
                    "coordinates": [
                      127.97514198085095,
                      37.32020616612182
                    ]
                  }
                },
                {
                  "id": "108",
                  "type": "Feature",
                  "properties": {
                    "address_name": "강원특별자치도 원주시 반곡동 2052-6",
                    "category_group_code": "CE7",
                    "category_group_name": "카페",
                    "category_name": "음식점 > 카페",
                    "distance": "",
                    "id": "1624392424",
                    "phone": "010-8914-6922",
                    "place_name": "누니마카롱",
                    "place_url": "http://place.map.kakao.com/1624392424",
                    "road_address_name": "강원특별자치도 원주시 버들만이길 26",
                    "x": "127.975003024245",
                    "y": "37.3202784901546"
                  },
                  "geometry": {
                    "type": "Point",
                    "coordinates": [
                      127.975003024245,
                      37.3202784901546
                    ]
                  }
                },
                {
                  "id": "109",
                  "type": "Feature",
                  "properties": {
                    "address_name": "강원특별자치도 원주시 반곡동 2047-14",
                    "category_group_code": "CE7",
                    "category_group_name": "카페",
                    "category_name": "음식점 > 카페",
                    "distance": "",
                    "id": "640006899",
                    "phone": "",
                    "place_name": "아이갓에브리씽 심평원점",
                    "place_url": "http://place.map.kakao.com/640006899",
                    "road_address_name": "",
                    "x": "127.9796615373587",
                    "y": "37.32126264355726"
                  },
                  "geometry": {
                    "type": "Point",
                    "coordinates": [
                      127.9796615373587,
                      37.32126264355726
                    ]
                  }
                }
              ]
            },
            "hover_style": {},
            "layers": [],
            "name": "카페",
            "options": [],
            "pane": "",
            "point_style": {
              "radius": 7,
              "color": "darkblue",
              "fillOpacity": 0.7,
              "fillColor": "lightblue",
              "weight": 2
            },
            "popup": null,
            "popup_max_height": null,
            "popup_max_width": 300,
            "popup_min_width": 50,
            "style": {},
            "subitems": [],
            "visible": true
          }
        },
        "7732cdaa38ad4413b2bdfeef20128340": {
          "model_module": "@jupyter-widgets/base",
          "model_name": "LayoutModel",
          "model_module_version": "1.2.0",
          "state": {
            "_model_module": "@jupyter-widgets/base",
            "_model_module_version": "1.2.0",
            "_model_name": "LayoutModel",
            "_view_count": null,
            "_view_module": "@jupyter-widgets/base",
            "_view_module_version": "1.2.0",
            "_view_name": "LayoutView",
            "align_content": null,
            "align_items": null,
            "align_self": null,
            "border": null,
            "bottom": null,
            "display": null,
            "flex": null,
            "flex_flow": null,
            "grid_area": null,
            "grid_auto_columns": null,
            "grid_auto_flow": null,
            "grid_auto_rows": null,
            "grid_column": null,
            "grid_gap": null,
            "grid_row": null,
            "grid_template_areas": null,
            "grid_template_columns": null,
            "grid_template_rows": null,
            "height": "500px",
            "justify_content": null,
            "justify_items": null,
            "left": null,
            "margin": null,
            "max_height": null,
            "max_width": null,
            "min_height": null,
            "min_width": null,
            "object_fit": null,
            "object_position": null,
            "order": null,
            "overflow": null,
            "overflow_x": null,
            "overflow_y": null,
            "padding": null,
            "right": null,
            "top": null,
            "visibility": null,
            "width": "800px"
          }
        },
        "50944a6aca744dc6a8b8439e7b75e8a5": {
          "model_module": "jupyter-leaflet",
          "model_name": "LeafletMapStyleModel",
          "model_module_version": "^0.18",
          "state": {
            "_model_module": "jupyter-leaflet",
            "_model_module_version": "^0.18",
            "_model_name": "LeafletMapStyleModel",
            "_view_count": null,
            "_view_module": "@jupyter-widgets/base",
            "_view_module_version": "1.2.0",
            "_view_name": "StyleView",
            "cursor": "grab"
          }
        }
      }
    }
  },
  "cells": [
    {
      "cell_type": "markdown",
      "metadata": {
        "id": "view-in-github",
        "colab_type": "text"
      },
      "source": [
        "<a href=\"https://colab.research.google.com/github/osgeokr/geokakao/blob/main/kakao_local_api/Kakao_%EB%A1%9C%EC%BB%AC_API%EB%A1%9C_%EC%82%AC%EA%B0%81%ED%98%95_%EB%B2%94%EC%9C%84_%EB%82%B4_%ED%95%AD%EB%AA%A9_%EA%B2%80%EC%83%89%ED%95%98%EA%B8%B0.ipynb\" target=\"_parent\"><img src=\"https://colab.research.google.com/assets/colab-badge.svg\" alt=\"Open In Colab\"/></a>"
      ]
    },
    {
      "cell_type": "markdown",
      "source": [
        "# Kakao 로컬 API로 사각형 범위 내 항목 검색하기\n",
        "\n",
        "이번 코드 실습은 Kakao 로컬 API로 사각형 범위 내 항목 검색 기능을 학습해 보겠습니다. 이 코드를 활용하면 내가 정의한 중심점으로부터 너비와 높이를 지정해 사각형 범위를 설정한 후, 해당 범위 내 음식점, 카페를 비롯한 항목들을 검색할 수 있습니다.\n",
        "\n",
        "이때 로컬 API는 한번에 45개까지만 결과값을 제공하기 때문에 전체 범위를 작은 크기로 분할(예: 음식점이 45개 미만으로 위치할 만한 정도의 크기)해서 각각 호출한 후, 이것을 하나로 병합해 봅니다.\n",
        "\n",
        "그렇게 하더라도 일일쿼터가 1일 10만회로 제한되므로 적정하게 활용해야 합니다. 그럼 시작해보겠습니다.\n",
        "\n",
        "> 이전 글: [Kakao 로컬 API를 이용한 공간데이터 검색 기능 소개](https://foss4g.tistory.com/2007)"
      ],
      "metadata": {
        "id": "J1zadwBBNXqd"
      }
    },
    {
      "cell_type": "code",
      "execution_count": null,
      "metadata": {
        "id": "3JLTa61gJdeh"
      },
      "outputs": [],
      "source": [
        "import requests\n",
        "import pandas as pd\n",
        "import geopandas as gpd\n",
        "import numpy as np\n",
        "from google.colab import files\n",
        "from ipyleaflet import Map, TileLayer, Marker, GeoData, Rectangle"
      ]
    },
    {
      "cell_type": "code",
      "source": [
        "api_key = 'my-api-key'"
      ],
      "metadata": {
        "id": "CXMvreu_JiVR"
      },
      "execution_count": null,
      "outputs": []
    },
    {
      "cell_type": "markdown",
      "source": [
        "## 중심점 설정\n",
        "\n",
        "먼저 중심점은 제가 근무하고 있는 '국립공원공단 본사'로 설정해 봤습니다. 로컬 API에서 키워드로 좌표를 검색할 수 있는 기능을 사용합니다."
      ],
      "metadata": {
        "id": "8fr7eehlSD9y"
      }
    },
    {
      "cell_type": "code",
      "source": [
        "def get_coordinate(keyword, api_key):\n",
        "    # 키워드로 좌표 검색하기\n",
        "    url = f'https://dapi.kakao.com/v2/local/search/keyword.json?query={keyword}'\n",
        "    headers = {'Authorization': f'KakaoAK {api_key}'}\n",
        "    response = requests.get(url, headers=headers)\n",
        "\n",
        "    data = response.json()\n",
        "    if data['meta']['total_count'] > 0:\n",
        "        # 첫 번째 검색 결과의 좌표만 반환\n",
        "        return float(data['documents'][0]['y']), float(data['documents'][0]['x'])\n",
        "    else:\n",
        "        return None\n",
        "\n",
        "keyword = \"국립공원공단 본사\"\n",
        "coordinate = get_coordinate(keyword, api_key)\n",
        "print(coordinate)"
      ],
      "metadata": {
        "colab": {
          "base_uri": "https://localhost:8080/"
        },
        "id": "5J86Eo9gJljA",
        "outputId": "7836c2fc-9ffa-4e23-bf31-21fda2d581d1"
      },
      "execution_count": null,
      "outputs": [
        {
          "output_type": "stream",
          "name": "stdout",
          "text": [
            "(37.3238905538685, 127.97675554397)\n"
          ]
        }
      ]
    },
    {
      "cell_type": "markdown",
      "source": [
        "# 사각형 범위 생성\n",
        "\n",
        "중심점을 기준으로 너비(`width`), 높이(`height`)를 통해 원하는 크기의 사각형 범위를 생성합니다. 그리고 전체 사각형 범위는 설정된 길이(`distance`)의 정사각형으로 자동 분할됩니다. 개수를 확인하고 ipyleaflet을 통해 이를 가시화해 봅니다.\n",
        "\n",
        "여기서는 너비 2km, 높이 1km에 거리 250m를 적용해 봤습니다."
      ],
      "metadata": {
        "id": "lkQ34cQuSd6X"
      }
    },
    {
      "cell_type": "code",
      "source": [
        "def calculate_rectangles(center_lat, center_lon, width, height, distance):\n",
        "    km_per_degree = 111\n",
        "    m_per_degree = km_per_degree * 1000\n",
        "\n",
        "    # 너비와 높이를 도 단위로 변환\n",
        "\n",
        "    width_degree = width / (m_per_degree * np.cos(np.radians(center_lat)))\n",
        "    height_degree = height / m_per_degree\n",
        "\n",
        "    # 사각형의 너비와 높이를 도 단위로 변환\n",
        "\n",
        "    distance_degree_lat = distance / m_per_degree\n",
        "    distance_degree_lon = distance / (m_per_degree * np.cos(np.radians(center_lat)))\n",
        "\n",
        "    # 전체 영역의 좌상단과 우하단 좌표 계산\n",
        "\n",
        "    top_left_lat = center_lat + (height_degree / 2)\n",
        "    top_left_lon = center_lon - (width_degree / 2)\n",
        "    bottom_right_lat = center_lat - (height_degree / 2)\n",
        "    bottom_right_lon = center_lon + (width_degree / 2)\n",
        "\n",
        "    # 사각형의 개수 계산\n",
        "\n",
        "    num_rects_lat = int(np.ceil(height / distance))\n",
        "    num_rects_lon = int(np.ceil(width / distance))\n",
        "\n",
        "    rectangles = []\n",
        "\n",
        "    for i in range(num_rects_lat):\n",
        "        for j in range(num_rects_lon):\n",
        "            # 각 사각형의 좌상단 좌표\n",
        "\n",
        "            rect_top_left_lat = top_left_lat - (i * distance_degree_lat)\n",
        "            rect_top_left_lon = top_left_lon + (j * distance_degree_lon)\n",
        "            # 각 사각형의 우하단 좌표\n",
        "\n",
        "            rect_bottom_right_lat = max(\n",
        "                rect_top_left_lat - distance_degree_lat, bottom_right_lat\n",
        "            )\n",
        "            rect_bottom_right_lon = min(\n",
        "                rect_top_left_lon + distance_degree_lon, bottom_right_lon\n",
        "            )\n",
        "\n",
        "            rectangles.append(\n",
        "                (\n",
        "                    (rect_top_left_lat, rect_top_left_lon),\n",
        "                    (rect_bottom_right_lat, rect_bottom_right_lon),\n",
        "                )\n",
        "            )\n",
        "    return rectangles\n",
        "\n",
        "\n",
        "# 직사각형의 너비와 높이\n",
        "\n",
        "width, height = 2000, 1000\n",
        "distance = 250\n",
        "\n",
        "# 직사각형 계산\n",
        "\n",
        "rectangles = calculate_rectangles(coordinate[0], coordinate[1], width, height, distance)\n",
        "print(f\"개수: {len(rectangles)}개\")"
      ],
      "metadata": {
        "colab": {
          "base_uri": "https://localhost:8080/"
        },
        "id": "WFWUvVMgbjQA",
        "outputId": "4afc0a44-6567-4ed8-da4c-b66a37867f8e"
      },
      "execution_count": null,
      "outputs": [
        {
          "output_type": "stream",
          "name": "stdout",
          "text": [
            "개수: 32개\n"
          ]
        }
      ]
    },
    {
      "cell_type": "code",
      "source": [
        "# Vworld 백지도 객체\n",
        "vworld_white = TileLayer(\n",
        "    url='https://xdworld.vworld.kr/2d/white/service/{z}/{x}/{y}.png',\n",
        "    name='Vworld White',\n",
        "    attribution='Vworld'\n",
        ")\n",
        "\n",
        "# 지도 생성 (Vworld 백지도 사용)\n",
        "m = Map(center=coordinate,\n",
        "        zoom=15,\n",
        "        layers=[vworld_white],\n",
        "        layout={'width': '800px', 'height': '500px'})\n",
        "\n",
        "marker = Marker(location=coordinate, draggable=False)\n",
        "m.add_layer(marker)\n",
        "\n",
        "# 직사각형을 지도에 추가\n",
        "for rect in rectangles:\n",
        "    top_left, bottom_right = rect\n",
        "    bounds = [(bottom_right[0], top_left[1]), (top_left[0], bottom_right[1])]\n",
        "    rectangle = Rectangle(bounds=bounds, color=\"red\", fill_opacity=0.1)\n",
        "    m.add_layer(rectangle)\n",
        "\n",
        "m"
      ],
      "metadata": {
        "colab": {
          "base_uri": "https://localhost:8080/",
          "height": 521,
          "referenced_widgets": [
            "a17c298141ef465c864d5f20f6c9aab6",
            "b4190be35c104857801e13062a249ffb",
            "4917508ca74b4b7080a9caacd3f8054f",
            "dbf87aa23e964f48a16f7767e6f5df50",
            "29004d6a83304fcca3bb1e320c56f701",
            "c1f1ead64bf045faa5486e7ee09d8c6e",
            "cb0ed8d465bf4fc8aef192d21f31ec32",
            "36d1aeb112134b6dabc5c507576171f9",
            "f61797ae39994aedae3e61214a24900a",
            "687f562b90cf4c009c2295ec1a5c51a7",
            "61af3d6d77ea4d478c0ec2057ba5068d",
            "c23a4030a5e54cc392378de5ecfc1808",
            "4cc3caf0c9e148f5b29649b265c861cd",
            "6a23515976b94dff8ccf0e852fe37291",
            "1f8be8bdcfed459aa031a74708b307ff",
            "2ac64503974b4aca96d034197225a199",
            "f449dc889d984b968ca3d96798ddb0c5",
            "1098627a64ba48fc9efa0513eaf702c9",
            "a6b4c9c3977a448f8fd095aa224f0bdd",
            "71500fddc9ae4eae961f3558010ab975",
            "401d0c2cbd154ffb83a351dd39b4833d",
            "13a0fc8cfa634b24930f3f0c49941fb0",
            "286ef54e14f344a69f6df5740e8eb6db",
            "5d44c047170a4d56b54c80d80da78b57",
            "8ee05a1f2af24b04834bdb1f8fce64be",
            "03cc605c92484973838a5e41e66e9acd",
            "2a63f74684ce471d921ea3909c0a4127",
            "b4aee95d8c2c4c14987065277b0e5d71",
            "6fc0353c30b1435694f1f34d98d1479f",
            "4bbd9394748d447dbbe48226d58df8f2",
            "3c18217a1803422b96ec4f3de69f16ea",
            "75f097e3347543e195abac5d1f3d5b3a",
            "f7a3b80181a7436b909da1df710cb777",
            "02df635961b046a38bc6af0dd20df9aa",
            "d3d626f0fd284801aa8e2999d1b5499b",
            "9f5c39aceab84053b477c2efaee7b7dc",
            "72a1a8c7110647178fea8a15dc51bc18",
            "0b14da437cd647c7a8f3c766e652391f",
            "9fdadc648bac47d1a7a3f30e3c342e1e",
            "09b82a4ecdb946018efb99a3701481d5",
            "83eb69c1baa047db989896bf18360039"
          ]
        },
        "id": "Q3-cw_CVOuGo",
        "outputId": "7ba46f81-58d9-45e2-9f2f-71e1f787385a"
      },
      "execution_count": null,
      "outputs": [
        {
          "output_type": "display_data",
          "data": {
            "text/plain": [
              "Map(center=[37.3238905538685, 127.97675554397], controls=(ZoomControl(options=['position', 'zoom_in_text', 'zo…"
            ],
            "application/vnd.jupyter.widget-view+json": {
              "version_major": 2,
              "version_minor": 0,
              "model_id": "a17c298141ef465c864d5f20f6c9aab6"
            }
          },
          "metadata": {
            "application/vnd.jupyter.widget-view+json": {
              "colab": {
                "custom_widget_manager": {
                  "url": "https://ssl.gstatic.com/colaboratory-static/widgets/colab-cdn-widget-manager/2b70e893a8ba7c0f/manager.min.js"
                }
              }
            }
          }
        }
      ]
    },
    {
      "cell_type": "markdown",
      "source": [
        "## 범위 내 항목 검색\n",
        "\n",
        "로컬 API에서 제공하는 항목 중 카페(`CE7`)을 검색해 보겠습니다. 250x250m 내에서 카페가 45개 최대값으로 제공되는 경우에는 `사각형 범위 내 45개 초과`라는 메시지가 반환되도록 하였습니다.\n",
        "\n",
        "| 이름 | MT1 | CS2 | PS3 | SC4 | AC5 | PK6 | OL7 | SW8 | BK9 | CT1 | AG2 | PO3 | AT4 | AD5 | FD6 | CE7 | HP8 | PM9 |\n",
        "|------|------|------|------|------|------|------|------|------|------|------|------|------|------|------|------|------|------|------|\n",
        "| 설명 | 대형마트 | 편의점 | 어린이집, 유치원 | 학교 | 학원 | 주차장 | 주유소, 충전소 | 지하철역 | 은행 | 문화시설 | 중개업소 | 공공기관 | 관광명소 | 숙박 | 음식점 | 카페 | 병원 | 약국 |"
      ],
      "metadata": {
        "id": "NnUP567KTRB-"
      }
    },
    {
      "cell_type": "code",
      "source": [
        "def get_places_by_category_with_rect(bbox, category_group_code, api_key):\n",
        "    # 사각형 영역에서 카테고리로 장소 검색\n",
        "\n",
        "    url = \"https://dapi.kakao.com/v2/local/search/category.json\"\n",
        "    headers = {\"Authorization\": f\"KakaoAK {api_key}\"}\n",
        "\n",
        "    params = {\"category_group_code\": category_group_code, \"rect\": bbox}\n",
        "\n",
        "    places = []\n",
        "    while True:\n",
        "        response = requests.get(url, headers=headers, params=params)\n",
        "        data = response.json()\n",
        "        places.extend(data.get(\"documents\", []))\n",
        "        if data[\"meta\"][\"is_end\"]:\n",
        "            break\n",
        "        else:\n",
        "            params[\"page\"] = params.get(\"page\", 1) + 1\n",
        "\n",
        "    # 결과가 45개인 경우 출력\n",
        "    if len(places) == 45:\n",
        "        print(\"사각형 범위 내 45개 초과\")\n",
        "\n",
        "    return gpd.GeoDataFrame(\n",
        "        places,\n",
        "        geometry=gpd.points_from_xy(\n",
        "            [place[\"x\"] for place in places], [place[\"y\"] for place in places]\n",
        "        ),\n",
        "    )"
      ],
      "metadata": {
        "id": "MvcTaE3SPIO2"
      },
      "execution_count": null,
      "outputs": []
    },
    {
      "cell_type": "code",
      "source": [
        "# 결과 GeoDataFrame 리스트\n",
        "gdfs = []\n",
        "\n",
        "category_group_code = \"CE7\"  # 카페\n",
        "\n",
        "# 각 직사각형에 대해 검색을 수행하고 결과를 리스트에 추가\n",
        "for rect in rectangles:\n",
        "    top_left, bottom_right = rect\n",
        "    bbox = f\"{top_left[1]},{bottom_right[0]},{bottom_right[1]},{top_left[0]}\"\n",
        "    gdf = get_places_by_category_with_rect(bbox, category_group_code, api_key)\n",
        "    gdfs.append(gdf)\n",
        "\n",
        "# 병합된 GeoDataFrame 반환\n",
        "places = pd.concat(gdfs, ignore_index=True)\n",
        "print(f\"개수: {len(places)}개\")\n",
        "places.head(1)"
      ],
      "metadata": {
        "colab": {
          "base_uri": "https://localhost:8080/",
          "height": 153
        },
        "id": "mdQjzpTHQc5p",
        "outputId": "eb6c7909-fc54-4e73-eb4c-5b2310535221"
      },
      "execution_count": null,
      "outputs": [
        {
          "output_type": "stream",
          "name": "stdout",
          "text": [
            "개수: 110개\n"
          ]
        },
        {
          "output_type": "execute_result",
          "data": {
            "text/plain": [
              "                     geometry            address_name category_group_code  \\\n",
              "0  POINT (127.98221 37.32656)  강원특별자치도 원주시 반곡동 1846-2                 CE7   \n",
              "\n",
              "  category_group_name     category_name distance          id          phone  \\\n",
              "0                  카페  음식점 > 카페 > 커피전문점           1276017508  010-3481-6200   \n",
              "\n",
              "  place_name                              place_url       road_address_name  \\\n",
              "0         듀렛  http://place.map.kakao.com/1276017508  강원특별자치도 원주시 양지뜰3길 21-5   \n",
              "\n",
              "                  x                 y  \n",
              "0  127.982210191168  37.3265592016734  "
            ],
            "text/html": [
              "\n",
              "  <div id=\"df-c543eb8e-3176-43e2-88bc-e47893111a59\" class=\"colab-df-container\">\n",
              "    <div>\n",
              "<style scoped>\n",
              "    .dataframe tbody tr th:only-of-type {\n",
              "        vertical-align: middle;\n",
              "    }\n",
              "\n",
              "    .dataframe tbody tr th {\n",
              "        vertical-align: top;\n",
              "    }\n",
              "\n",
              "    .dataframe thead th {\n",
              "        text-align: right;\n",
              "    }\n",
              "</style>\n",
              "<table border=\"1\" class=\"dataframe\">\n",
              "  <thead>\n",
              "    <tr style=\"text-align: right;\">\n",
              "      <th></th>\n",
              "      <th>geometry</th>\n",
              "      <th>address_name</th>\n",
              "      <th>category_group_code</th>\n",
              "      <th>category_group_name</th>\n",
              "      <th>category_name</th>\n",
              "      <th>distance</th>\n",
              "      <th>id</th>\n",
              "      <th>phone</th>\n",
              "      <th>place_name</th>\n",
              "      <th>place_url</th>\n",
              "      <th>road_address_name</th>\n",
              "      <th>x</th>\n",
              "      <th>y</th>\n",
              "    </tr>\n",
              "  </thead>\n",
              "  <tbody>\n",
              "    <tr>\n",
              "      <th>0</th>\n",
              "      <td>POINT (127.98221 37.32656)</td>\n",
              "      <td>강원특별자치도 원주시 반곡동 1846-2</td>\n",
              "      <td>CE7</td>\n",
              "      <td>카페</td>\n",
              "      <td>음식점 &gt; 카페 &gt; 커피전문점</td>\n",
              "      <td></td>\n",
              "      <td>1276017508</td>\n",
              "      <td>010-3481-6200</td>\n",
              "      <td>듀렛</td>\n",
              "      <td>http://place.map.kakao.com/1276017508</td>\n",
              "      <td>강원특별자치도 원주시 양지뜰3길 21-5</td>\n",
              "      <td>127.982210191168</td>\n",
              "      <td>37.3265592016734</td>\n",
              "    </tr>\n",
              "  </tbody>\n",
              "</table>\n",
              "</div>\n",
              "    <div class=\"colab-df-buttons\">\n",
              "\n",
              "  <div class=\"colab-df-container\">\n",
              "    <button class=\"colab-df-convert\" onclick=\"convertToInteractive('df-c543eb8e-3176-43e2-88bc-e47893111a59')\"\n",
              "            title=\"Convert this dataframe to an interactive table.\"\n",
              "            style=\"display:none;\">\n",
              "\n",
              "  <svg xmlns=\"http://www.w3.org/2000/svg\" height=\"24px\" viewBox=\"0 -960 960 960\">\n",
              "    <path d=\"M120-120v-720h720v720H120Zm60-500h600v-160H180v160Zm220 220h160v-160H400v160Zm0 220h160v-160H400v160ZM180-400h160v-160H180v160Zm440 0h160v-160H620v160ZM180-180h160v-160H180v160Zm440 0h160v-160H620v160Z\"/>\n",
              "  </svg>\n",
              "    </button>\n",
              "\n",
              "  <style>\n",
              "    .colab-df-container {\n",
              "      display:flex;\n",
              "      gap: 12px;\n",
              "    }\n",
              "\n",
              "    .colab-df-convert {\n",
              "      background-color: #E8F0FE;\n",
              "      border: none;\n",
              "      border-radius: 50%;\n",
              "      cursor: pointer;\n",
              "      display: none;\n",
              "      fill: #1967D2;\n",
              "      height: 32px;\n",
              "      padding: 0 0 0 0;\n",
              "      width: 32px;\n",
              "    }\n",
              "\n",
              "    .colab-df-convert:hover {\n",
              "      background-color: #E2EBFA;\n",
              "      box-shadow: 0px 1px 2px rgba(60, 64, 67, 0.3), 0px 1px 3px 1px rgba(60, 64, 67, 0.15);\n",
              "      fill: #174EA6;\n",
              "    }\n",
              "\n",
              "    .colab-df-buttons div {\n",
              "      margin-bottom: 4px;\n",
              "    }\n",
              "\n",
              "    [theme=dark] .colab-df-convert {\n",
              "      background-color: #3B4455;\n",
              "      fill: #D2E3FC;\n",
              "    }\n",
              "\n",
              "    [theme=dark] .colab-df-convert:hover {\n",
              "      background-color: #434B5C;\n",
              "      box-shadow: 0px 1px 3px 1px rgba(0, 0, 0, 0.15);\n",
              "      filter: drop-shadow(0px 1px 2px rgba(0, 0, 0, 0.3));\n",
              "      fill: #FFFFFF;\n",
              "    }\n",
              "  </style>\n",
              "\n",
              "    <script>\n",
              "      const buttonEl =\n",
              "        document.querySelector('#df-c543eb8e-3176-43e2-88bc-e47893111a59 button.colab-df-convert');\n",
              "      buttonEl.style.display =\n",
              "        google.colab.kernel.accessAllowed ? 'block' : 'none';\n",
              "\n",
              "      async function convertToInteractive(key) {\n",
              "        const element = document.querySelector('#df-c543eb8e-3176-43e2-88bc-e47893111a59');\n",
              "        const dataTable =\n",
              "          await google.colab.kernel.invokeFunction('convertToInteractive',\n",
              "                                                    [key], {});\n",
              "        if (!dataTable) return;\n",
              "\n",
              "        const docLinkHtml = 'Like what you see? Visit the ' +\n",
              "          '<a target=\"_blank\" href=https://colab.research.google.com/notebooks/data_table.ipynb>data table notebook</a>'\n",
              "          + ' to learn more about interactive tables.';\n",
              "        element.innerHTML = '';\n",
              "        dataTable['output_type'] = 'display_data';\n",
              "        await google.colab.output.renderOutput(dataTable, element);\n",
              "        const docLink = document.createElement('div');\n",
              "        docLink.innerHTML = docLinkHtml;\n",
              "        element.appendChild(docLink);\n",
              "      }\n",
              "    </script>\n",
              "  </div>\n",
              "\n",
              "\n",
              "    </div>\n",
              "  </div>\n"
            ],
            "application/vnd.google.colaboratory.intrinsic+json": {
              "type": "dataframe",
              "variable_name": "places",
              "summary": "{\n  \"name\": \"places\",\n  \"rows\": 110,\n  \"fields\": [\n    {\n      \"column\": \"geometry\",\n      \"properties\": {\n        \"dtype\": \"geometry\",\n        \"num_unique_values\": 106,\n        \"samples\": [\n          \"POINT (127.966527972997 37.3198984255943)\",\n          \"POINT (127.98363759516265 37.327005049566516)\",\n          \"POINT (127.981710850674 37.3266822776831)\"\n        ],\n        \"semantic_type\": \"\",\n        \"description\": \"\"\n      }\n    },\n    {\n      \"column\": \"address_name\",\n      \"properties\": {\n        \"dtype\": \"string\",\n        \"num_unique_values\": 71,\n        \"samples\": [\n          \"\\uac15\\uc6d0\\ud2b9\\ubcc4\\uc790\\uce58\\ub3c4 \\uc6d0\\uc8fc\\uc2dc \\ubc18\\uace1\\ub3d9 1901-5\",\n          \"\\uac15\\uc6d0\\ud2b9\\ubcc4\\uc790\\uce58\\ub3c4 \\uc6d0\\uc8fc\\uc2dc \\ubc18\\uace1\\ub3d9 1846-2\",\n          \"\\uac15\\uc6d0\\ud2b9\\ubcc4\\uc790\\uce58\\ub3c4 \\uc6d0\\uc8fc\\uc2dc \\ubc18\\uace1\\ub3d9 1913-1\"\n        ],\n        \"semantic_type\": \"\",\n        \"description\": \"\"\n      }\n    },\n    {\n      \"column\": \"category_group_code\",\n      \"properties\": {\n        \"dtype\": \"category\",\n        \"num_unique_values\": 1,\n        \"samples\": [\n          \"CE7\"\n        ],\n        \"semantic_type\": \"\",\n        \"description\": \"\"\n      }\n    },\n    {\n      \"column\": \"category_group_name\",\n      \"properties\": {\n        \"dtype\": \"category\",\n        \"num_unique_values\": 1,\n        \"samples\": [\n          \"\\uce74\\ud398\"\n        ],\n        \"semantic_type\": \"\",\n        \"description\": \"\"\n      }\n    },\n    {\n      \"column\": \"category_name\",\n      \"properties\": {\n        \"dtype\": \"category\",\n        \"num_unique_values\": 20,\n        \"samples\": [\n          \"\\uc74c\\uc2dd\\uc810 > \\uce74\\ud398 > \\ucee4\\ud53c\\uc804\\ubb38\\uc810\"\n        ],\n        \"semantic_type\": \"\",\n        \"description\": \"\"\n      }\n    },\n    {\n      \"column\": \"distance\",\n      \"properties\": {\n        \"dtype\": \"object\",\n        \"num_unique_values\": 1,\n        \"samples\": [\n          \"\"\n        ],\n        \"semantic_type\": \"\",\n        \"description\": \"\"\n      }\n    },\n    {\n      \"column\": \"id\",\n      \"properties\": {\n        \"dtype\": \"string\",\n        \"num_unique_values\": 110,\n        \"samples\": [\n          \"1852353610\"\n        ],\n        \"semantic_type\": \"\",\n        \"description\": \"\"\n      }\n    },\n    {\n      \"column\": \"phone\",\n      \"properties\": {\n        \"dtype\": \"string\",\n        \"num_unique_values\": 63,\n        \"samples\": [\n          \"033-742-2299\"\n        ],\n        \"semantic_type\": \"\",\n        \"description\": \"\"\n      }\n    },\n    {\n      \"column\": \"place_name\",\n      \"properties\": {\n        \"dtype\": \"string\",\n        \"num_unique_values\": 110,\n        \"samples\": [\n          \"\\uafb8\\uc624\\ucfe0\\ud0a4\\uc0c1\\uc810\"\n        ],\n        \"semantic_type\": \"\",\n        \"description\": \"\"\n      }\n    },\n    {\n      \"column\": \"place_url\",\n      \"properties\": {\n        \"dtype\": \"string\",\n        \"num_unique_values\": 110,\n        \"samples\": [\n          \"http://place.map.kakao.com/1852353610\"\n        ],\n        \"semantic_type\": \"\",\n        \"description\": \"\"\n      }\n    },\n    {\n      \"column\": \"road_address_name\",\n      \"properties\": {\n        \"dtype\": \"string\",\n        \"num_unique_values\": 71,\n        \"samples\": [\n          \"\\uac15\\uc6d0\\ud2b9\\ubcc4\\uc790\\uce58\\ub3c4 \\uc6d0\\uc8fc\\uc2dc \\uac74\\uac15\\ub85c 3\"\n        ],\n        \"semantic_type\": \"\",\n        \"description\": \"\"\n      }\n    },\n    {\n      \"column\": \"x\",\n      \"properties\": {\n        \"dtype\": \"string\",\n        \"num_unique_values\": 106,\n        \"samples\": [\n          \"127.966527972997\"\n        ],\n        \"semantic_type\": \"\",\n        \"description\": \"\"\n      }\n    },\n    {\n      \"column\": \"y\",\n      \"properties\": {\n        \"dtype\": \"string\",\n        \"num_unique_values\": 106,\n        \"samples\": [\n          \"37.3198984255943\"\n        ],\n        \"semantic_type\": \"\",\n        \"description\": \"\"\n      }\n    }\n  ]\n}"
            }
          },
          "metadata": {},
          "execution_count": 7
        }
      ]
    },
    {
      "cell_type": "markdown",
      "source": [
        "카페는 총 110개로 조회됩니다. 해당 결과값은 아래 코드로 내 컴퓨터에 내려받을 수 있습니다."
      ],
      "metadata": {
        "id": "beOeRy-4UaPT"
      }
    },
    {
      "cell_type": "code",
      "source": [
        "places = places.set_crs(epsg=4326)\n",
        "places.to_file(\"cafe.gpkg\", driver=\"GPKG\")\n",
        "files.download(\"cafe.gpkg\")"
      ],
      "metadata": {
        "colab": {
          "base_uri": "https://localhost:8080/",
          "height": 17
        },
        "id": "Djye7vbcRP8U",
        "outputId": "95c3c9ee-10e0-4618-8978-ea4d197fbcf4"
      },
      "execution_count": null,
      "outputs": [
        {
          "output_type": "display_data",
          "data": {
            "text/plain": [
              "<IPython.core.display.Javascript object>"
            ],
            "application/javascript": [
              "\n",
              "    async function download(id, filename, size) {\n",
              "      if (!google.colab.kernel.accessAllowed) {\n",
              "        return;\n",
              "      }\n",
              "      const div = document.createElement('div');\n",
              "      const label = document.createElement('label');\n",
              "      label.textContent = `Downloading \"${filename}\": `;\n",
              "      div.appendChild(label);\n",
              "      const progress = document.createElement('progress');\n",
              "      progress.max = size;\n",
              "      div.appendChild(progress);\n",
              "      document.body.appendChild(div);\n",
              "\n",
              "      const buffers = [];\n",
              "      let downloaded = 0;\n",
              "\n",
              "      const channel = await google.colab.kernel.comms.open(id);\n",
              "      // Send a message to notify the kernel that we're ready.\n",
              "      channel.send({})\n",
              "\n",
              "      for await (const message of channel.messages) {\n",
              "        // Send a message to notify the kernel that we're ready.\n",
              "        channel.send({})\n",
              "        if (message.buffers) {\n",
              "          for (const buffer of message.buffers) {\n",
              "            buffers.push(buffer);\n",
              "            downloaded += buffer.byteLength;\n",
              "            progress.value = downloaded;\n",
              "          }\n",
              "        }\n",
              "      }\n",
              "      const blob = new Blob(buffers, {type: 'application/binary'});\n",
              "      const a = document.createElement('a');\n",
              "      a.href = window.URL.createObjectURL(blob);\n",
              "      a.download = filename;\n",
              "      div.appendChild(a);\n",
              "      a.click();\n",
              "      div.remove();\n",
              "    }\n",
              "  "
            ]
          },
          "metadata": {}
        },
        {
          "output_type": "display_data",
          "data": {
            "text/plain": [
              "<IPython.core.display.Javascript object>"
            ],
            "application/javascript": [
              "download(\"download_dcf0786d-eadc-4946-aa8c-67473314b1c8\", \"cafe.gpkg\", 143360)"
            ]
          },
          "metadata": {}
        }
      ]
    },
    {
      "cell_type": "code",
      "source": [
        "# 지도 생성 (Vworld 백지도 사용)\n",
        "m = Map(center=coordinate,\n",
        "        zoom=15,\n",
        "        layers=[vworld_white],\n",
        "        layout={'width': '800px', 'height': '500px'})\n",
        "\n",
        "m.add_layer(marker)\n",
        "\n",
        "# 직사각형을 지도에 추가\n",
        "for rect in rectangles:\n",
        "    top_left, bottom_right = rect\n",
        "    bounds = [(bottom_right[0], top_left[1]), (top_left[0], bottom_right[1])]\n",
        "    rectangle = Rectangle(bounds=bounds, color=\"red\", fill_opacity=0.1)\n",
        "    m.add_layer(rectangle)\n",
        "\n",
        "geo_data = GeoData(\n",
        "    geo_dataframe=places,\n",
        "    point_style={\n",
        "        'radius': 7,  # 점 크기\n",
        "        'color': 'darkblue',  # 색상\n",
        "        'fillOpacity': 0.7,  # 투명도\n",
        "        'fillColor': 'lightblue',  # 점 내부 색상\n",
        "        'weight': 2  # 점 테두리\n",
        "    },\n",
        "    name='카페'  # 레이어 이름\n",
        ")\n",
        "m.add_layer(geo_data)\n",
        "\n",
        "m"
      ],
      "metadata": {
        "colab": {
          "base_uri": "https://localhost:8080/",
          "height": 521,
          "referenced_widgets": [
            "0b4e042094ff42fcbadfd3b2ef75a28c",
            "dce6a7fdfbfa4445bb3f9a897c6302b6",
            "7ffea40ed870461db072f0b6cf543035",
            "ac0cde8b759e41c3be73c400b8e0c660",
            "ca474316bd3c48ceafbc86a4f05b52bf",
            "c1f1ead64bf045faa5486e7ee09d8c6e",
            "cb0ed8d465bf4fc8aef192d21f31ec32",
            "e2802c38441147c38b5430cd4e8fc9db",
            "ebe5ca30386c405aa5a3f3a483a3f48e",
            "7cf23f02fdf74d6da64768bac565183d",
            "22b828d9942f4de8bb0d5c08cb9c7896",
            "4a47516e5c7e4e3abe8117ea952993ed",
            "70f17fb63ac640079845cbf5dac93c52",
            "fe26fe2c21bb4c6ba01f511966317730",
            "88109b590de94b30a6dda5064706be3e",
            "58630c86f32f47ab923b32d61a5c148e",
            "6499104c2e6540b486b5c1fb014e0383",
            "6062eb9f928647be91c72f2349ad09d5",
            "c0d0a9726474441aa1602c8993656b01",
            "d969a415830e4f6d83be19446fef589a",
            "00de757fa7d74fa2ae15e873a8aadabc",
            "cdeff94579184352bbb2aa0160d9262c",
            "ccfd3a6989934c6dbb3e2de378699c31",
            "9693503143b749e8bb257cf38bc69c13",
            "c1dd240b80e74cff9a655244de8609b9",
            "037d8a6a042a4c4986afb0c52f49cdce",
            "c64b644d6e2145c99b926dc96a97f6a5",
            "e014f11f920b4bdfb2bbda35cc2de44a",
            "cf650ecba91449aaa3a63a053fa3477d",
            "e165a66091bf41929e17d3a560d89916",
            "d8bdb57db700416fa33d488b3317ce5a",
            "3049c312b7884bbd8dba11166d8e8c45",
            "21c4b9d42dc7462fb69cbe19ba1746a3",
            "9814e5a0216548d0b345fcdf00424b5c",
            "2ff01b0b53b846f69626313620e4d2b0",
            "bf54db9f8c024336a24af4ec9821aa52",
            "4ccc658247924db7b0da709d2e875255",
            "321f6fe3040b4abdadd57466c204544c",
            "70c558459aea4885b248bca933063d6e",
            "310f0b54e13e440a984a8a83d550e13f",
            "7732cdaa38ad4413b2bdfeef20128340",
            "50944a6aca744dc6a8b8439e7b75e8a5"
          ]
        },
        "id": "-jRLsRcdRECd",
        "outputId": "edfa02b6-d1b3-46f7-e1b4-5ba3bf3ae4bc"
      },
      "execution_count": null,
      "outputs": [
        {
          "output_type": "display_data",
          "data": {
            "text/plain": [
              "Map(center=[37.3238905538685, 127.97675554397], controls=(ZoomControl(options=['position', 'zoom_in_text', 'zo…"
            ],
            "application/vnd.jupyter.widget-view+json": {
              "version_major": 2,
              "version_minor": 0,
              "model_id": "0b4e042094ff42fcbadfd3b2ef75a28c"
            }
          },
          "metadata": {
            "application/vnd.jupyter.widget-view+json": {
              "colab": {
                "custom_widget_manager": {
                  "url": "https://ssl.gstatic.com/colaboratory-static/widgets/colab-cdn-widget-manager/2b70e893a8ba7c0f/manager.min.js"
                }
              }
            }
          }
        }
      ]
    },
    {
      "cell_type": "code",
      "source": [],
      "metadata": {
        "id": "pIJMfwI8S0za"
      },
      "execution_count": null,
      "outputs": []
    }
  ]
}