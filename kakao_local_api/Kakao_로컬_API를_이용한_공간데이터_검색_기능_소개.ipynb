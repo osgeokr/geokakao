{
  "cells": [
    {
      "cell_type": "markdown",
      "metadata": {
        "id": "view-in-github",
        "colab_type": "text"
      },
      "source": [
        "<a href=\"https://colab.research.google.com/github/osgeokr/geokakao/blob/main/kakao_local_api/Kakao_%EB%A1%9C%EC%BB%AC_API%EB%A5%BC_%EC%9D%B4%EC%9A%A9%ED%95%9C_%EA%B3%B5%EA%B0%84%EB%8D%B0%EC%9D%B4%ED%84%B0_%EA%B2%80%EC%83%89_%EA%B8%B0%EB%8A%A5_%EC%86%8C%EA%B0%9C.ipynb\" target=\"_parent\"><img src=\"https://colab.research.google.com/assets/colab-badge.svg\" alt=\"Open In Colab\"/></a>"
      ]
    },
    {
      "cell_type": "markdown",
      "id": "ed60806e-2404-422f-a943-2b7648a6d301",
      "metadata": {
        "id": "ed60806e-2404-422f-a943-2b7648a6d301"
      },
      "source": [
        "# Kakao 로컬 API를 이용한 공간데이터 검색 기능 소개\n",
        "\n",
        "이번 코드 실습은 [Kakao 로컬 API](https://developers.kakao.com/docs/latest/ko/local/common)를 이용한 공간데이터 검색 기능을 학습해 보겠습니다. 공간데이터를 검색한 후 지도로 가시화하는 영역은 [ipyleaflet](https://ipyleaflet.readthedocs.io/en/latest/)을 통해 구현해 보겠습니다. 먼저 필요한 라이브러리들을 불러온 후, [Kakao Developers](https://developers.kakao.com/)에서 인증받은 REST API 키를 지정합니다.\n",
        "> Note: 로컬(local) API는 키워드로 특정 장소 정보를 조회하거나, 좌표를 주소 또는 행정구역으로 변환하는 등 장소에 대한 정보를 제공합니다. 특정 카테고리로 장소를 검색하는 등 폭넓은 활용이 가능하며, 지번 주소와 도로명 주소 체계를 모두 지원합니다. 로컬 API의 일일 쿼터는 10만 건으로 제한되며, 이를 초과하면 아래 코드에 대해 `Error: HTTP status code 429` 오류 메시지를 반환합니다.\n",
        "\n",
        "```\n",
        "# HTTP 상태 코드 체크\n",
        "if response.status_code != 200:\n",
        "    print(f'Error: HTTP status code {response.status_code}')\n",
        "    return None\n",
        "```"
      ]
    },
    {
      "cell_type": "code",
      "execution_count": null,
      "id": "8363c72f-9ad3-4b16-a5c2-a07bd045a502",
      "metadata": {
        "id": "8363c72f-9ad3-4b16-a5c2-a07bd045a502"
      },
      "outputs": [],
      "source": [
        "import requests\n",
        "import geopandas as gpd\n",
        "from ipyleaflet import Map, TileLayer, Marker, GeoData, Circle, Rectangle, Heatmap"
      ]
    },
    {
      "cell_type": "code",
      "execution_count": null,
      "id": "e8b5356f-3265-453c-869d-72fe5ffe2d81",
      "metadata": {
        "id": "e8b5356f-3265-453c-869d-72fe5ffe2d81"
      },
      "outputs": [],
      "source": [
        "api_key = 'my-api-key'"
      ]
    },
    {
      "cell_type": "markdown",
      "id": "f9ade5dc-ea9c-4eca-8b9c-28cd74616256",
      "metadata": {
        "id": "f9ade5dc-ea9c-4eca-8b9c-28cd74616256"
      },
      "source": [
        "## 키워드로 좌표 검색하기\n",
        "\n",
        "특정 키워드로 해당 좌표를 검색해볼 수 있습니다. 예를 들면, '서울시립대학교'를 키워드로 해당 좌표를 검색해서 반환할 수 있습니다. 여기서는 검색 결과가 여러 개일 때 첫번째 검색 결과의 좌표만 반환하도록 설정하였습니다."
      ]
    },
    {
      "cell_type": "code",
      "execution_count": null,
      "metadata": {
        "outputId": "c19c4b5f-9fec-4d93-eedb-ed915a9f8a38",
        "colab": {
          "base_uri": "https://localhost:8080/"
        },
        "id": "zMNKvynGR4ZI"
      },
      "outputs": [
        {
          "output_type": "stream",
          "name": "stdout",
          "text": [
            "(37.584828300773886, 127.05773316246166)\n"
          ]
        }
      ],
      "source": [
        "def get_coordinate(keyword, api_key):\n",
        "    # 키워드로 좌표 검색하기\n",
        "    url = f'https://dapi.kakao.com/v2/local/search/keyword.json?query={keyword}'\n",
        "    headers = {'Authorization': f'KakaoAK {api_key}'}\n",
        "    response = requests.get(url, headers=headers)\n",
        "\n",
        "    data = response.json()\n",
        "    if data['meta']['total_count'] > 0:\n",
        "        # 첫 번째 검색 결과의 좌표만 반환\n",
        "        return float(data['documents'][0]['y']), float(data['documents'][0]['x'])\n",
        "    else:\n",
        "        return None\n",
        "\n",
        "keyword = \"서울시립대학교\"\n",
        "coordinate = get_coordinate(keyword, api_key)\n",
        "print(coordinate)"
      ],
      "id": "zMNKvynGR4ZI"
    },
    {
      "cell_type": "markdown",
      "source": [
        "ipyleaflet을 사용하여 해당 좌표를 Vworld 백지도 객체 위에 표현해 봅니다."
      ],
      "metadata": {
        "id": "W3_fkkeeSZwq"
      },
      "id": "W3_fkkeeSZwq"
    },
    {
      "cell_type": "code",
      "execution_count": null,
      "id": "ac5d4df9-f779-40da-b1f7-3fe632363694",
      "metadata": {
        "id": "ac5d4df9-f779-40da-b1f7-3fe632363694",
        "outputId": "9517e036-5382-4325-faef-535fdbfbdbba",
        "colab": {
          "base_uri": "https://localhost:8080/",
          "height": 521,
          "referenced_widgets": [
            "396a4a741d7a48f0b60b3bb7cd67bb5a",
            "09f711c47ce7484fbb85ae48ac2296f1",
            "5817ce020a8b48289195c866b975fa69",
            "2d891466c6274864bc3a52c66651d08c",
            "9cb47664a4604f6d90220aeeadd4930a",
            "06d201e9c4114ca7aaa6269caea728c6",
            "575c026c5c6f4bcdadfab56b570e3caa",
            "0f70ed3c5537461faa3994304c4f693b",
            "1ece7425ce5f461fb116908b74fc8ead"
          ]
        }
      },
      "outputs": [
        {
          "output_type": "display_data",
          "data": {
            "text/plain": [
              "Map(center=[37.584828300773886, 127.05773316246166], controls=(ZoomControl(options=['position', 'zoom_in_text'…"
            ],
            "application/vnd.jupyter.widget-view+json": {
              "version_major": 2,
              "version_minor": 0,
              "model_id": "396a4a741d7a48f0b60b3bb7cd67bb5a"
            }
          },
          "metadata": {
            "application/vnd.jupyter.widget-view+json": {
              "colab": {
                "custom_widget_manager": {
                  "url": "https://ssl.gstatic.com/colaboratory-static/widgets/colab-cdn-widget-manager/2b70e893a8ba7c0f/manager.min.js"
                }
              }
            }
          }
        }
      ],
      "source": [
        "# Vworld 백지도 객체\n",
        "vworld_white = TileLayer(\n",
        "    url='https://xdworld.vworld.kr/2d/white/service/{z}/{x}/{y}.png',\n",
        "    name='Vworld White',\n",
        "    attribution='Vworld'\n",
        ")\n",
        "\n",
        "# 지도 생성 (Vworld 백지도 사용)\n",
        "m = Map(center=coordinate,\n",
        "        zoom=17,\n",
        "        layers=[vworld_white],\n",
        "        layout={'width': '800px', 'height': '500px'})\n",
        "\n",
        "marker = Marker(location=coordinate, draggable=False)\n",
        "m.add_layer(marker)\n",
        "m"
      ]
    },
    {
      "cell_type": "markdown",
      "id": "4c7c56c3-743b-4bf4-b980-ad1098cf43ff",
      "metadata": {
        "id": "4c7c56c3-743b-4bf4-b980-ad1098cf43ff"
      },
      "source": [
        "## 정해진 반경에서 질의로 장소 검색하기\n",
        "\n",
        "지정한 좌표로부터 일정 반경으로 버퍼를 설정하고, 해당 범위 내에서 장소를 검색해볼 수 있습니다. 예를 들면 앞서 검색된 서울시립대학교 위치를 중앙좌표로 하여 20km 버퍼를 적용한 후, 해당 지역 내 교보문고 매장을 검색해볼 수 있습니다. 참고로 반경의 최대값은 20km이며 한번에 최대 45개까지 결과값을 제공합니다."
      ]
    },
    {
      "cell_type": "code",
      "execution_count": null,
      "id": "d70db218-730c-480b-9e4d-4cb4fbb1b9c6",
      "metadata": {
        "id": "d70db218-730c-480b-9e4d-4cb4fbb1b9c6",
        "outputId": "72e7bb54-bc34-45a8-cd6c-2b3d9f1aad0c",
        "colab": {
          "base_uri": "https://localhost:8080/",
          "height": 153
        }
      },
      "outputs": [
        {
          "output_type": "stream",
          "name": "stdout",
          "text": [
            "매장 개수: 45개\n"
          ]
        },
        {
          "output_type": "execute_result",
          "data": {
            "text/plain": [
              "         address_name category_group_code category_group_name  \\\n",
              "0  서울 동대문구 전농동 591-53                                           \n",
              "\n",
              "            category_name distance         id      phone place_name  \\\n",
              "0  문화,예술 > 도서 > 서점 > 교보문고      891  253947105  1544-1900  교보문고 청량리점   \n",
              "\n",
              "                              place_url road_address_name                 x  \\\n",
              "0  http://place.map.kakao.com/253947105   서울 동대문구 왕산로 214  127.049079477084   \n",
              "\n",
              "                  y                    geometry  \n",
              "0  37.5806966564292  POINT (127.04908 37.58070)  "
            ],
            "text/html": [
              "\n",
              "  <div id=\"df-92b66083-705e-49d4-a82f-d9713d856f40\" class=\"colab-df-container\">\n",
              "    <div>\n",
              "<style scoped>\n",
              "    .dataframe tbody tr th:only-of-type {\n",
              "        vertical-align: middle;\n",
              "    }\n",
              "\n",
              "    .dataframe tbody tr th {\n",
              "        vertical-align: top;\n",
              "    }\n",
              "\n",
              "    .dataframe thead th {\n",
              "        text-align: right;\n",
              "    }\n",
              "</style>\n",
              "<table border=\"1\" class=\"dataframe\">\n",
              "  <thead>\n",
              "    <tr style=\"text-align: right;\">\n",
              "      <th></th>\n",
              "      <th>address_name</th>\n",
              "      <th>category_group_code</th>\n",
              "      <th>category_group_name</th>\n",
              "      <th>category_name</th>\n",
              "      <th>distance</th>\n",
              "      <th>id</th>\n",
              "      <th>phone</th>\n",
              "      <th>place_name</th>\n",
              "      <th>place_url</th>\n",
              "      <th>road_address_name</th>\n",
              "      <th>x</th>\n",
              "      <th>y</th>\n",
              "      <th>geometry</th>\n",
              "    </tr>\n",
              "  </thead>\n",
              "  <tbody>\n",
              "    <tr>\n",
              "      <th>0</th>\n",
              "      <td>서울 동대문구 전농동 591-53</td>\n",
              "      <td></td>\n",
              "      <td></td>\n",
              "      <td>문화,예술 &gt; 도서 &gt; 서점 &gt; 교보문고</td>\n",
              "      <td>891</td>\n",
              "      <td>253947105</td>\n",
              "      <td>1544-1900</td>\n",
              "      <td>교보문고 청량리점</td>\n",
              "      <td>http://place.map.kakao.com/253947105</td>\n",
              "      <td>서울 동대문구 왕산로 214</td>\n",
              "      <td>127.049079477084</td>\n",
              "      <td>37.5806966564292</td>\n",
              "      <td>POINT (127.04908 37.58070)</td>\n",
              "    </tr>\n",
              "  </tbody>\n",
              "</table>\n",
              "</div>\n",
              "    <div class=\"colab-df-buttons\">\n",
              "\n",
              "  <div class=\"colab-df-container\">\n",
              "    <button class=\"colab-df-convert\" onclick=\"convertToInteractive('df-92b66083-705e-49d4-a82f-d9713d856f40')\"\n",
              "            title=\"Convert this dataframe to an interactive table.\"\n",
              "            style=\"display:none;\">\n",
              "\n",
              "  <svg xmlns=\"http://www.w3.org/2000/svg\" height=\"24px\" viewBox=\"0 -960 960 960\">\n",
              "    <path d=\"M120-120v-720h720v720H120Zm60-500h600v-160H180v160Zm220 220h160v-160H400v160Zm0 220h160v-160H400v160ZM180-400h160v-160H180v160Zm440 0h160v-160H620v160ZM180-180h160v-160H180v160Zm440 0h160v-160H620v160Z\"/>\n",
              "  </svg>\n",
              "    </button>\n",
              "\n",
              "  <style>\n",
              "    .colab-df-container {\n",
              "      display:flex;\n",
              "      gap: 12px;\n",
              "    }\n",
              "\n",
              "    .colab-df-convert {\n",
              "      background-color: #E8F0FE;\n",
              "      border: none;\n",
              "      border-radius: 50%;\n",
              "      cursor: pointer;\n",
              "      display: none;\n",
              "      fill: #1967D2;\n",
              "      height: 32px;\n",
              "      padding: 0 0 0 0;\n",
              "      width: 32px;\n",
              "    }\n",
              "\n",
              "    .colab-df-convert:hover {\n",
              "      background-color: #E2EBFA;\n",
              "      box-shadow: 0px 1px 2px rgba(60, 64, 67, 0.3), 0px 1px 3px 1px rgba(60, 64, 67, 0.15);\n",
              "      fill: #174EA6;\n",
              "    }\n",
              "\n",
              "    .colab-df-buttons div {\n",
              "      margin-bottom: 4px;\n",
              "    }\n",
              "\n",
              "    [theme=dark] .colab-df-convert {\n",
              "      background-color: #3B4455;\n",
              "      fill: #D2E3FC;\n",
              "    }\n",
              "\n",
              "    [theme=dark] .colab-df-convert:hover {\n",
              "      background-color: #434B5C;\n",
              "      box-shadow: 0px 1px 3px 1px rgba(0, 0, 0, 0.15);\n",
              "      filter: drop-shadow(0px 1px 2px rgba(0, 0, 0, 0.3));\n",
              "      fill: #FFFFFF;\n",
              "    }\n",
              "  </style>\n",
              "\n",
              "    <script>\n",
              "      const buttonEl =\n",
              "        document.querySelector('#df-92b66083-705e-49d4-a82f-d9713d856f40 button.colab-df-convert');\n",
              "      buttonEl.style.display =\n",
              "        google.colab.kernel.accessAllowed ? 'block' : 'none';\n",
              "\n",
              "      async function convertToInteractive(key) {\n",
              "        const element = document.querySelector('#df-92b66083-705e-49d4-a82f-d9713d856f40');\n",
              "        const dataTable =\n",
              "          await google.colab.kernel.invokeFunction('convertToInteractive',\n",
              "                                                    [key], {});\n",
              "        if (!dataTable) return;\n",
              "\n",
              "        const docLinkHtml = 'Like what you see? Visit the ' +\n",
              "          '<a target=\"_blank\" href=https://colab.research.google.com/notebooks/data_table.ipynb>data table notebook</a>'\n",
              "          + ' to learn more about interactive tables.';\n",
              "        element.innerHTML = '';\n",
              "        dataTable['output_type'] = 'display_data';\n",
              "        await google.colab.output.renderOutput(dataTable, element);\n",
              "        const docLink = document.createElement('div');\n",
              "        docLink.innerHTML = docLinkHtml;\n",
              "        element.appendChild(docLink);\n",
              "      }\n",
              "    </script>\n",
              "  </div>\n",
              "\n",
              "\n",
              "    </div>\n",
              "  </div>\n"
            ],
            "application/vnd.google.colaboratory.intrinsic+json": {
              "type": "dataframe",
              "variable_name": "places",
              "summary": "{\n  \"name\": \"places\",\n  \"rows\": 45,\n  \"fields\": [\n    {\n      \"column\": \"address_name\",\n      \"properties\": {\n        \"dtype\": \"string\",\n        \"num_unique_values\": 23,\n        \"samples\": [\n          \"\\uc11c\\uc6b8 \\uad6c\\ub85c\\uad6c \\uc2e0\\ub3c4\\ub9bc\\ub3d9 692\",\n          \"\\uc11c\\uc6b8 \\uc11c\\ub300\\ubb38\\uad6c \\ub300\\ud604\\ub3d9 11-1\",\n          \"\\uc11c\\uc6b8 \\ub3d9\\ub300\\ubb38\\uad6c \\uc804\\ub18d\\ub3d9 591-53\"\n        ],\n        \"semantic_type\": \"\",\n        \"description\": \"\"\n      }\n    },\n    {\n      \"column\": \"category_group_code\",\n      \"properties\": {\n        \"dtype\": \"category\",\n        \"num_unique_values\": 7,\n        \"samples\": [\n          \"\",\n          \"CT1\",\n          \"BK9\"\n        ],\n        \"semantic_type\": \"\",\n        \"description\": \"\"\n      }\n    },\n    {\n      \"column\": \"category_group_name\",\n      \"properties\": {\n        \"dtype\": \"category\",\n        \"num_unique_values\": 7,\n        \"samples\": [\n          \"\",\n          \"\\ubb38\\ud654\\uc2dc\\uc124\",\n          \"\\uc740\\ud589\"\n        ],\n        \"semantic_type\": \"\",\n        \"description\": \"\"\n      }\n    },\n    {\n      \"column\": \"category_name\",\n      \"properties\": {\n        \"dtype\": \"string\",\n        \"num_unique_values\": 23,\n        \"samples\": [\n          \"\\uac00\\uc815,\\uc0dd\\ud65c > \\ubbf8\\uc6a9 > \\uccb4\\ud615\\uad00\\ub9ac > \\uc57d\\uc190\\uba85\\uac00\",\n          \"\\uc11c\\ube44\\uc2a4,\\uc0b0\\uc5c5 > \\uc5ec\\ud589\\uc0ac > \\ubaa8\\ub450\\ud22c\\uc5b4\",\n          \"\\ubb38\\ud654,\\uc608\\uc220 > \\ub3c4\\uc11c > \\uc11c\\uc810 > \\uad50\\ubcf4\\ubb38\\uace0\"\n        ],\n        \"semantic_type\": \"\",\n        \"description\": \"\"\n      }\n    },\n    {\n      \"column\": \"distance\",\n      \"properties\": {\n        \"dtype\": \"string\",\n        \"num_unique_values\": 37,\n        \"samples\": [\n          \"16841\",\n          \"13336\",\n          \"6543\"\n        ],\n        \"semantic_type\": \"\",\n        \"description\": \"\"\n      }\n    },\n    {\n      \"column\": \"id\",\n      \"properties\": {\n        \"dtype\": \"string\",\n        \"num_unique_values\": 45,\n        \"samples\": [\n          \"1153486981\",\n          \"11760305\",\n          \"11760292\"\n        ],\n        \"semantic_type\": \"\",\n        \"description\": \"\"\n      }\n    },\n    {\n      \"column\": \"phone\",\n      \"properties\": {\n        \"dtype\": \"string\",\n        \"num_unique_values\": 28,\n        \"samples\": [\n          \"02-720-4845\",\n          \"02-2649-0101\",\n          \"02-732-9961\"\n        ],\n        \"semantic_type\": \"\",\n        \"description\": \"\"\n      }\n    },\n    {\n      \"column\": \"place_name\",\n      \"properties\": {\n        \"dtype\": \"string\",\n        \"num_unique_values\": 45,\n        \"samples\": [\n          \"\\ucc3d\\uace043 \\ubaa9\\ub3d9\\uc810\",\n          \"\\uc544\\ud2b8\\ubc15\\uc2a4 \\uad50\\ubcf4\\ubb38\\uace0\\ud56b\\ud2b8\\ub799\\uc2a4\\uc7a0\\uc2e4\\uc810\",\n          \"\\uc544\\ud2b8\\ubc15\\uc2a4 \\uad50\\ubcf4\\ubb38\\uace0\\ud56b\\ud2b8\\ub799\\uc2a4\\uac15\\ub0a8\\uc810\"\n        ],\n        \"semantic_type\": \"\",\n        \"description\": \"\"\n      }\n    },\n    {\n      \"column\": \"place_url\",\n      \"properties\": {\n        \"dtype\": \"string\",\n        \"num_unique_values\": 45,\n        \"samples\": [\n          \"http://place.map.kakao.com/1153486981\",\n          \"http://place.map.kakao.com/11760305\",\n          \"http://place.map.kakao.com/11760292\"\n        ],\n        \"semantic_type\": \"\",\n        \"description\": \"\"\n      }\n    },\n    {\n      \"column\": \"road_address_name\",\n      \"properties\": {\n        \"dtype\": \"category\",\n        \"num_unique_values\": 21,\n        \"samples\": [\n          \"\\uc11c\\uc6b8 \\ub3d9\\ub300\\ubb38\\uad6c \\uc655\\uc0b0\\ub85c 214\",\n          \"\\uc11c\\uc6b8 \\uc885\\ub85c\\uad6c \\uc0c8\\ubb38\\uc548\\ub85c3\\uae38 23\",\n          \"\\uc11c\\uc6b8 \\uc740\\ud3c9\\uad6c \\ud1b5\\uc77c\\ub85c 1050\"\n        ],\n        \"semantic_type\": \"\",\n        \"description\": \"\"\n      }\n    },\n    {\n      \"column\": \"x\",\n      \"properties\": {\n        \"dtype\": \"string\",\n        \"num_unique_values\": 43,\n        \"samples\": [\n          \"126.87507051137267\",\n          \"126.972419791447\",\n          \"127.10060125314466\"\n        ],\n        \"semantic_type\": \"\",\n        \"description\": \"\"\n      }\n    },\n    {\n      \"column\": \"y\",\n      \"properties\": {\n        \"dtype\": \"string\",\n        \"num_unique_values\": 43,\n        \"samples\": [\n          \"37.528145948841576\",\n          \"37.5734920789197\",\n          \"37.51442618653521\"\n        ],\n        \"semantic_type\": \"\",\n        \"description\": \"\"\n      }\n    },\n    {\n      \"column\": \"geometry\",\n      \"properties\": {\n        \"dtype\": \"geometry\",\n        \"num_unique_values\": 43,\n        \"samples\": [\n          \"POINT (126.87507051137267 37.528145948841576)\",\n          \"POINT (126.972419791447 37.5734920789197)\",\n          \"POINT (127.10060125314466 37.51442618653521)\"\n        ],\n        \"semantic_type\": \"\",\n        \"description\": \"\"\n      }\n    }\n  ]\n}"
            }
          },
          "metadata": {},
          "execution_count": 6
        }
      ],
      "source": [
        "def get_places_by_query(coordinate, radius, query, api_key):\n",
        "    # 정해진 반경에서 이름으로 장소 검색\n",
        "    url = \"https://dapi.kakao.com/v2/local/search/keyword.json\"\n",
        "    headers = {\"Authorization\": f\"KakaoAK {api_key}\"}\n",
        "    params = {\"query\": query,\n",
        "              \"x\": coordinate[1],\n",
        "              \"y\": coordinate[0],\n",
        "              \"radius\": radius}\n",
        "\n",
        "    places = []\n",
        "    while True:\n",
        "        response = requests.get(url, headers=headers, params=params)\n",
        "        data = response.json()\n",
        "        places.extend(data.get(\"documents\", []))\n",
        "        if data[\"meta\"][\"is_end\"]:\n",
        "            break\n",
        "        else:\n",
        "            params[\"page\"] = params.get(\"page\", 1) + 1\n",
        "    return gpd.GeoDataFrame(\n",
        "        places,\n",
        "        geometry=gpd.points_from_xy(\n",
        "            [place[\"x\"] for place in places], [place[\"y\"] for place in places]\n",
        "        ),\n",
        "    )\n",
        "\n",
        "radius = 20000\n",
        "query = \"교보문고\"\n",
        "\n",
        "places = get_places_by_query(coordinate, radius, query, api_key)\n",
        "print(f\"매장 개수: {len(places)}개\")\n",
        "places.head(1)"
      ]
    },
    {
      "cell_type": "markdown",
      "source": [
        "교보문고를 검색했지만 모든 검색결과가 교보문고 매장을 가리키는 것은 아닙니다. 따라서 일부 컬럼에 필터링을 적용해서 원하는 튜플만을 선택해 볼 수 있습니다. 그리고 이것을 GPKG와 같은 공간데이터 포맷으로 저장하면 QGIS와 같은 다른 SW에서도 사용이 가능합니다."
      ],
      "metadata": {
        "id": "awX-fftyR_9V"
      },
      "id": "awX-fftyR_9V"
    },
    {
      "cell_type": "code",
      "execution_count": null,
      "id": "f6e5e0f9-72e0-4153-8a50-b04eabaffaf7",
      "metadata": {
        "id": "f6e5e0f9-72e0-4153-8a50-b04eabaffaf7",
        "outputId": "b8727cd2-1110-4474-de33-b445d576c45b",
        "colab": {
          "base_uri": "https://localhost:8080/",
          "height": 153
        }
      },
      "outputs": [
        {
          "output_type": "stream",
          "name": "stdout",
          "text": [
            "매장 개수: 18개\n"
          ]
        },
        {
          "output_type": "execute_result",
          "data": {
            "text/plain": [
              "         address_name category_group_code category_group_name  \\\n",
              "0  서울 동대문구 전농동 591-53                                           \n",
              "\n",
              "            category_name distance         id      phone place_name  \\\n",
              "0  문화,예술 > 도서 > 서점 > 교보문고      891  253947105  1544-1900  교보문고 청량리점   \n",
              "\n",
              "                              place_url road_address_name                 x  \\\n",
              "0  http://place.map.kakao.com/253947105   서울 동대문구 왕산로 214  127.049079477084   \n",
              "\n",
              "                  y                    geometry  \n",
              "0  37.5806966564292  POINT (127.04908 37.58070)  "
            ],
            "text/html": [
              "\n",
              "  <div id=\"df-af93dd4a-db57-42e1-9524-741ba995a874\" class=\"colab-df-container\">\n",
              "    <div>\n",
              "<style scoped>\n",
              "    .dataframe tbody tr th:only-of-type {\n",
              "        vertical-align: middle;\n",
              "    }\n",
              "\n",
              "    .dataframe tbody tr th {\n",
              "        vertical-align: top;\n",
              "    }\n",
              "\n",
              "    .dataframe thead th {\n",
              "        text-align: right;\n",
              "    }\n",
              "</style>\n",
              "<table border=\"1\" class=\"dataframe\">\n",
              "  <thead>\n",
              "    <tr style=\"text-align: right;\">\n",
              "      <th></th>\n",
              "      <th>address_name</th>\n",
              "      <th>category_group_code</th>\n",
              "      <th>category_group_name</th>\n",
              "      <th>category_name</th>\n",
              "      <th>distance</th>\n",
              "      <th>id</th>\n",
              "      <th>phone</th>\n",
              "      <th>place_name</th>\n",
              "      <th>place_url</th>\n",
              "      <th>road_address_name</th>\n",
              "      <th>x</th>\n",
              "      <th>y</th>\n",
              "      <th>geometry</th>\n",
              "    </tr>\n",
              "  </thead>\n",
              "  <tbody>\n",
              "    <tr>\n",
              "      <th>0</th>\n",
              "      <td>서울 동대문구 전농동 591-53</td>\n",
              "      <td></td>\n",
              "      <td></td>\n",
              "      <td>문화,예술 &gt; 도서 &gt; 서점 &gt; 교보문고</td>\n",
              "      <td>891</td>\n",
              "      <td>253947105</td>\n",
              "      <td>1544-1900</td>\n",
              "      <td>교보문고 청량리점</td>\n",
              "      <td>http://place.map.kakao.com/253947105</td>\n",
              "      <td>서울 동대문구 왕산로 214</td>\n",
              "      <td>127.049079477084</td>\n",
              "      <td>37.5806966564292</td>\n",
              "      <td>POINT (127.04908 37.58070)</td>\n",
              "    </tr>\n",
              "  </tbody>\n",
              "</table>\n",
              "</div>\n",
              "    <div class=\"colab-df-buttons\">\n",
              "\n",
              "  <div class=\"colab-df-container\">\n",
              "    <button class=\"colab-df-convert\" onclick=\"convertToInteractive('df-af93dd4a-db57-42e1-9524-741ba995a874')\"\n",
              "            title=\"Convert this dataframe to an interactive table.\"\n",
              "            style=\"display:none;\">\n",
              "\n",
              "  <svg xmlns=\"http://www.w3.org/2000/svg\" height=\"24px\" viewBox=\"0 -960 960 960\">\n",
              "    <path d=\"M120-120v-720h720v720H120Zm60-500h600v-160H180v160Zm220 220h160v-160H400v160Zm0 220h160v-160H400v160ZM180-400h160v-160H180v160Zm440 0h160v-160H620v160ZM180-180h160v-160H180v160Zm440 0h160v-160H620v160Z\"/>\n",
              "  </svg>\n",
              "    </button>\n",
              "\n",
              "  <style>\n",
              "    .colab-df-container {\n",
              "      display:flex;\n",
              "      gap: 12px;\n",
              "    }\n",
              "\n",
              "    .colab-df-convert {\n",
              "      background-color: #E8F0FE;\n",
              "      border: none;\n",
              "      border-radius: 50%;\n",
              "      cursor: pointer;\n",
              "      display: none;\n",
              "      fill: #1967D2;\n",
              "      height: 32px;\n",
              "      padding: 0 0 0 0;\n",
              "      width: 32px;\n",
              "    }\n",
              "\n",
              "    .colab-df-convert:hover {\n",
              "      background-color: #E2EBFA;\n",
              "      box-shadow: 0px 1px 2px rgba(60, 64, 67, 0.3), 0px 1px 3px 1px rgba(60, 64, 67, 0.15);\n",
              "      fill: #174EA6;\n",
              "    }\n",
              "\n",
              "    .colab-df-buttons div {\n",
              "      margin-bottom: 4px;\n",
              "    }\n",
              "\n",
              "    [theme=dark] .colab-df-convert {\n",
              "      background-color: #3B4455;\n",
              "      fill: #D2E3FC;\n",
              "    }\n",
              "\n",
              "    [theme=dark] .colab-df-convert:hover {\n",
              "      background-color: #434B5C;\n",
              "      box-shadow: 0px 1px 3px 1px rgba(0, 0, 0, 0.15);\n",
              "      filter: drop-shadow(0px 1px 2px rgba(0, 0, 0, 0.3));\n",
              "      fill: #FFFFFF;\n",
              "    }\n",
              "  </style>\n",
              "\n",
              "    <script>\n",
              "      const buttonEl =\n",
              "        document.querySelector('#df-af93dd4a-db57-42e1-9524-741ba995a874 button.colab-df-convert');\n",
              "      buttonEl.style.display =\n",
              "        google.colab.kernel.accessAllowed ? 'block' : 'none';\n",
              "\n",
              "      async function convertToInteractive(key) {\n",
              "        const element = document.querySelector('#df-af93dd4a-db57-42e1-9524-741ba995a874');\n",
              "        const dataTable =\n",
              "          await google.colab.kernel.invokeFunction('convertToInteractive',\n",
              "                                                    [key], {});\n",
              "        if (!dataTable) return;\n",
              "\n",
              "        const docLinkHtml = 'Like what you see? Visit the ' +\n",
              "          '<a target=\"_blank\" href=https://colab.research.google.com/notebooks/data_table.ipynb>data table notebook</a>'\n",
              "          + ' to learn more about interactive tables.';\n",
              "        element.innerHTML = '';\n",
              "        dataTable['output_type'] = 'display_data';\n",
              "        await google.colab.output.renderOutput(dataTable, element);\n",
              "        const docLink = document.createElement('div');\n",
              "        docLink.innerHTML = docLinkHtml;\n",
              "        element.appendChild(docLink);\n",
              "      }\n",
              "    </script>\n",
              "  </div>\n",
              "\n",
              "\n",
              "    </div>\n",
              "  </div>\n"
            ],
            "application/vnd.google.colaboratory.intrinsic+json": {
              "type": "dataframe",
              "variable_name": "places",
              "summary": "{\n  \"name\": \"places\",\n  \"rows\": 18,\n  \"fields\": [\n    {\n      \"column\": \"address_name\",\n      \"properties\": {\n        \"dtype\": \"string\",\n        \"num_unique_values\": 18,\n        \"samples\": [\n          \"\\uc11c\\uc6b8 \\ub3d9\\ub300\\ubb38\\uad6c \\uc804\\ub18d\\ub3d9 591-53\",\n          \"\\uc11c\\uc6b8 \\uc911\\uad6c \\uc744\\uc9c0\\ub85c6\\uac00 17-2\",\n          \"\\uc11c\\uc6b8 \\uac15\\ub0a8\\uad6c \\uc5ed\\uc0bc\\ub3d9 800\"\n        ],\n        \"semantic_type\": \"\",\n        \"description\": \"\"\n      }\n    },\n    {\n      \"column\": \"category_group_code\",\n      \"properties\": {\n        \"dtype\": \"object\",\n        \"num_unique_values\": 1,\n        \"samples\": [\n          \"\"\n        ],\n        \"semantic_type\": \"\",\n        \"description\": \"\"\n      }\n    },\n    {\n      \"column\": \"category_group_name\",\n      \"properties\": {\n        \"dtype\": \"object\",\n        \"num_unique_values\": 1,\n        \"samples\": [\n          \"\"\n        ],\n        \"semantic_type\": \"\",\n        \"description\": \"\"\n      }\n    },\n    {\n      \"column\": \"category_name\",\n      \"properties\": {\n        \"dtype\": \"category\",\n        \"num_unique_values\": 1,\n        \"samples\": [\n          \"\\ubb38\\ud654,\\uc608\\uc220 > \\ub3c4\\uc11c > \\uc11c\\uc810 > \\uad50\\ubcf4\\ubb38\\uace0\"\n        ],\n        \"semantic_type\": \"\",\n        \"description\": \"\"\n      }\n    },\n    {\n      \"column\": \"distance\",\n      \"properties\": {\n        \"dtype\": \"string\",\n        \"num_unique_values\": 18,\n        \"samples\": [\n          \"891\"\n        ],\n        \"semantic_type\": \"\",\n        \"description\": \"\"\n      }\n    },\n    {\n      \"column\": \"id\",\n      \"properties\": {\n        \"dtype\": \"string\",\n        \"num_unique_values\": 18,\n        \"samples\": [\n          \"253947105\"\n        ],\n        \"semantic_type\": \"\",\n        \"description\": \"\"\n      }\n    },\n    {\n      \"column\": \"phone\",\n      \"properties\": {\n        \"dtype\": \"category\",\n        \"num_unique_values\": 6,\n        \"samples\": [\n          \"1544-1900\"\n        ],\n        \"semantic_type\": \"\",\n        \"description\": \"\"\n      }\n    },\n    {\n      \"column\": \"place_name\",\n      \"properties\": {\n        \"dtype\": \"string\",\n        \"num_unique_values\": 18,\n        \"samples\": [\n          \"\\uad50\\ubcf4\\ubb38\\uace0 \\uccad\\ub7c9\\ub9ac\\uc810\"\n        ],\n        \"semantic_type\": \"\",\n        \"description\": \"\"\n      }\n    },\n    {\n      \"column\": \"place_url\",\n      \"properties\": {\n        \"dtype\": \"string\",\n        \"num_unique_values\": 18,\n        \"samples\": [\n          \"http://place.map.kakao.com/253947105\"\n        ],\n        \"semantic_type\": \"\",\n        \"description\": \"\"\n      }\n    },\n    {\n      \"column\": \"road_address_name\",\n      \"properties\": {\n        \"dtype\": \"string\",\n        \"num_unique_values\": 17,\n        \"samples\": [\n          \"\\uc11c\\uc6b8 \\ub3d9\\ub300\\ubb38\\uad6c \\uc655\\uc0b0\\ub85c 214\"\n        ],\n        \"semantic_type\": \"\",\n        \"description\": \"\"\n      }\n    },\n    {\n      \"column\": \"x\",\n      \"properties\": {\n        \"dtype\": \"string\",\n        \"num_unique_values\": 18,\n        \"samples\": [\n          \"127.049079477084\"\n        ],\n        \"semantic_type\": \"\",\n        \"description\": \"\"\n      }\n    },\n    {\n      \"column\": \"y\",\n      \"properties\": {\n        \"dtype\": \"string\",\n        \"num_unique_values\": 18,\n        \"samples\": [\n          \"37.5806966564292\"\n        ],\n        \"semantic_type\": \"\",\n        \"description\": \"\"\n      }\n    },\n    {\n      \"column\": \"geometry\",\n      \"properties\": {\n        \"dtype\": \"geometry\",\n        \"num_unique_values\": 18,\n        \"samples\": [\n          \"POINT (127.049079477084 37.5806966564292)\"\n        ],\n        \"semantic_type\": \"\",\n        \"description\": \"\"\n      }\n    }\n  ]\n}"
            }
          },
          "metadata": {},
          "execution_count": 7
        }
      ],
      "source": [
        "# 필터링\n",
        "places = places[\n",
        "    places[\"category_name\"] == \"문화,예술 > 도서 > 서점 > 교보문고\"\n",
        "]\n",
        "print(f\"매장 개수: {len(places)}개\")\n",
        "places = places.set_crs(epsg=4326)\n",
        "places.to_file(\"places_by_query.gpkg\", driver=\"GPKG\")\n",
        "places.head(1)"
      ]
    },
    {
      "cell_type": "markdown",
      "source": [
        "검색결과는 ipyleaflet의 GeoData 객체로 변환합니다."
      ],
      "metadata": {
        "id": "xVkn14OsSZl8"
      },
      "id": "xVkn14OsSZl8"
    },
    {
      "cell_type": "code",
      "execution_count": null,
      "id": "6569208c-fd46-41ac-a5e5-2c6da385af07",
      "metadata": {
        "id": "6569208c-fd46-41ac-a5e5-2c6da385af07"
      },
      "outputs": [],
      "source": [
        "# GeoPandas 레이어를 GeoData로 변환\n",
        "geo_data = GeoData(\n",
        "    geo_dataframe=places,\n",
        "    point_style={\n",
        "        'radius': 7,  # 점 크기\n",
        "        'color': 'darkblue',  # 색상\n",
        "        'fillOpacity': 0.7,  # 투명도\n",
        "        'fillColor': 'lightblue',  # 점 내부 색상\n",
        "        'weight': 2  # 점 테두리\n",
        "    },\n",
        "    name='교보문고'  # 레이어 이름\n",
        ")"
      ]
    },
    {
      "cell_type": "markdown",
      "source": [
        "검색 반경도 ipyleaflet의 Circle 객체로 생성해 보겠습니다."
      ],
      "metadata": {
        "id": "agnf0KtrSd4A"
      },
      "id": "agnf0KtrSd4A"
    },
    {
      "cell_type": "code",
      "execution_count": null,
      "id": "1f3e7a53-f1a3-4d50-b8e1-3de65a936915",
      "metadata": {
        "id": "1f3e7a53-f1a3-4d50-b8e1-3de65a936915"
      },
      "outputs": [],
      "source": [
        "# Circle 생성\n",
        "circle = Circle()\n",
        "circle.location = coordinate  # 원의 중심 좌표\n",
        "circle.radius = radius  # 원의 반경\n",
        "circle.color = \"red\"  # 원의 테두리 색상\n",
        "circle.fill_color = \"red\"  # 원의 내부 색상\n",
        "circle.fill_opacity = 0.5  # 원의 내부 투명도"
      ]
    },
    {
      "cell_type": "markdown",
      "source": [
        "이제 지도를 생성합니다. 검색 반경 내에 교보문고 매장 위치를 확인하실 수 있습니다."
      ],
      "metadata": {
        "id": "XZTFvBBASlN9"
      },
      "id": "XZTFvBBASlN9"
    },
    {
      "cell_type": "code",
      "execution_count": null,
      "id": "a8560bc1-45b4-43c6-a37d-d4ccdf46df51",
      "metadata": {
        "id": "a8560bc1-45b4-43c6-a37d-d4ccdf46df51",
        "outputId": "d926d3bd-aa68-471c-e8bb-279d23cf93c2",
        "colab": {
          "base_uri": "https://localhost:8080/",
          "height": 521,
          "referenced_widgets": [
            "6b54ac9ed2594cb5a09e61d6652580a4",
            "e7237ff2b09a4e5492407c6b2a7e2aff",
            "2a41f55cf4ae4ddab4df49d6803ef620",
            "f2735e38dc154fca9587677a81548cce",
            "7a04227c7c804711accaeea777ae7559",
            "06d201e9c4114ca7aaa6269caea728c6",
            "575c026c5c6f4bcdadfab56b570e3caa",
            "1c2c25fd79bb4d00a91e63a05974d08b",
            "d4b95f05291549a8981a17160376b71c",
            "9f602fccdd11431c81b92144468f04b2",
            "d054137f71ca4f62853a7cee5a0ec0d3"
          ]
        }
      },
      "outputs": [
        {
          "output_type": "display_data",
          "data": {
            "text/plain": [
              "Map(center=[37.584828300773886, 127.05773316246166], controls=(ZoomControl(options=['position', 'zoom_in_text'…"
            ],
            "application/vnd.jupyter.widget-view+json": {
              "version_major": 2,
              "version_minor": 0,
              "model_id": "6b54ac9ed2594cb5a09e61d6652580a4"
            }
          },
          "metadata": {
            "application/vnd.jupyter.widget-view+json": {
              "colab": {
                "custom_widget_manager": {
                  "url": "https://ssl.gstatic.com/colaboratory-static/widgets/colab-cdn-widget-manager/2b70e893a8ba7c0f/manager.min.js"
                }
              }
            }
          }
        }
      ],
      "source": [
        "# 지도 생성 (Vworld 백지도 사용)\n",
        "m = Map(center=coordinate,\n",
        "        zoom=11,\n",
        "        layers=[vworld_white],\n",
        "        layout={'width': '800px', 'height': '500px'})\n",
        "\n",
        "m.add_layer(marker)\n",
        "m.add_layer(circle)\n",
        "m.add_layer(geo_data)\n",
        "m"
      ]
    },
    {
      "cell_type": "markdown",
      "id": "3ea002fb-fc40-4329-9059-b829b3cc9004",
      "metadata": {
        "id": "3ea002fb-fc40-4329-9059-b829b3cc9004"
      },
      "source": [
        "## 정해진 반경에서 카테고리로 장소 검색하기\n",
        "\n",
        "카카오 로컬 API는 정해진 반경 내에서 카테고리로 장소를 검색해볼 수 있습니다. 대형마트, 편의점, 어린이집, 유치원, 학교 등 다양한 카테고리로 확인이 가능합니다. 여기서는 서울시립대학교로부터 반경 500m 이내 어린이집, 유치원을 검색해 보겠습니다.\n",
        "\n",
        "| 이름 | MT1 | CS2 | PS3 | SC4 | AC5 | PK6 | OL7 | SW8 | BK9 | CT1 | AG2 | PO3 | AT4 | AD5 | FD6 | CE7 | HP8 | PM9 |\n",
        "|------|------|------|------|------|------|------|------|------|------|------|------|------|------|------|------|------|------|------|\n",
        "| 설명 | 대형마트 | 편의점 | 어린이집, 유치원 | 학교 | 학원 | 주차장 | 주유소, 충전소 | 지하철역 | 은행 | 문화시설 | 중개업소 | 공공기관 | 관광명소 | 숙박 | 음식점 | 카페 | 병원 | 약국 |"
      ]
    },
    {
      "cell_type": "code",
      "execution_count": null,
      "id": "97a3cf01-c712-4135-a13d-75b8a9881488",
      "metadata": {
        "id": "97a3cf01-c712-4135-a13d-75b8a9881488",
        "outputId": "e20abda4-5b4d-43eb-9d9e-5937d58e069d",
        "colab": {
          "base_uri": "https://localhost:8080/",
          "height": 153
        }
      },
      "outputs": [
        {
          "output_type": "stream",
          "name": "stdout",
          "text": [
            "매장 개수: 8개\n"
          ]
        },
        {
          "output_type": "execute_result",
          "data": {
            "text/plain": [
              "        address_name category_group_code category_group_name  \\\n",
              "0  서울 동대문구 휘경동 302-2                 PS3            어린이집,유치원   \n",
              "\n",
              "        category_name distance        id         phone place_name  \\\n",
              "0  교육,학문 > 유아교육 > 유치원      182  10487569  02-2242-0354    서울휘경유치원   \n",
              "\n",
              "                             place_url road_address_name                 x  \\\n",
              "0  http://place.map.kakao.com/10487569  서울 동대문구 망우로6길 48  127.057072023037   \n",
              "\n",
              "                 y                    geometry  \n",
              "0  37.586380132083  POINT (127.05707 37.58638)  "
            ],
            "text/html": [
              "\n",
              "  <div id=\"df-3bdfcc3e-de3f-4309-b9ee-082f16e22b25\" class=\"colab-df-container\">\n",
              "    <div>\n",
              "<style scoped>\n",
              "    .dataframe tbody tr th:only-of-type {\n",
              "        vertical-align: middle;\n",
              "    }\n",
              "\n",
              "    .dataframe tbody tr th {\n",
              "        vertical-align: top;\n",
              "    }\n",
              "\n",
              "    .dataframe thead th {\n",
              "        text-align: right;\n",
              "    }\n",
              "</style>\n",
              "<table border=\"1\" class=\"dataframe\">\n",
              "  <thead>\n",
              "    <tr style=\"text-align: right;\">\n",
              "      <th></th>\n",
              "      <th>address_name</th>\n",
              "      <th>category_group_code</th>\n",
              "      <th>category_group_name</th>\n",
              "      <th>category_name</th>\n",
              "      <th>distance</th>\n",
              "      <th>id</th>\n",
              "      <th>phone</th>\n",
              "      <th>place_name</th>\n",
              "      <th>place_url</th>\n",
              "      <th>road_address_name</th>\n",
              "      <th>x</th>\n",
              "      <th>y</th>\n",
              "      <th>geometry</th>\n",
              "    </tr>\n",
              "  </thead>\n",
              "  <tbody>\n",
              "    <tr>\n",
              "      <th>0</th>\n",
              "      <td>서울 동대문구 휘경동 302-2</td>\n",
              "      <td>PS3</td>\n",
              "      <td>어린이집,유치원</td>\n",
              "      <td>교육,학문 &gt; 유아교육 &gt; 유치원</td>\n",
              "      <td>182</td>\n",
              "      <td>10487569</td>\n",
              "      <td>02-2242-0354</td>\n",
              "      <td>서울휘경유치원</td>\n",
              "      <td>http://place.map.kakao.com/10487569</td>\n",
              "      <td>서울 동대문구 망우로6길 48</td>\n",
              "      <td>127.057072023037</td>\n",
              "      <td>37.586380132083</td>\n",
              "      <td>POINT (127.05707 37.58638)</td>\n",
              "    </tr>\n",
              "  </tbody>\n",
              "</table>\n",
              "</div>\n",
              "    <div class=\"colab-df-buttons\">\n",
              "\n",
              "  <div class=\"colab-df-container\">\n",
              "    <button class=\"colab-df-convert\" onclick=\"convertToInteractive('df-3bdfcc3e-de3f-4309-b9ee-082f16e22b25')\"\n",
              "            title=\"Convert this dataframe to an interactive table.\"\n",
              "            style=\"display:none;\">\n",
              "\n",
              "  <svg xmlns=\"http://www.w3.org/2000/svg\" height=\"24px\" viewBox=\"0 -960 960 960\">\n",
              "    <path d=\"M120-120v-720h720v720H120Zm60-500h600v-160H180v160Zm220 220h160v-160H400v160Zm0 220h160v-160H400v160ZM180-400h160v-160H180v160Zm440 0h160v-160H620v160ZM180-180h160v-160H180v160Zm440 0h160v-160H620v160Z\"/>\n",
              "  </svg>\n",
              "    </button>\n",
              "\n",
              "  <style>\n",
              "    .colab-df-container {\n",
              "      display:flex;\n",
              "      gap: 12px;\n",
              "    }\n",
              "\n",
              "    .colab-df-convert {\n",
              "      background-color: #E8F0FE;\n",
              "      border: none;\n",
              "      border-radius: 50%;\n",
              "      cursor: pointer;\n",
              "      display: none;\n",
              "      fill: #1967D2;\n",
              "      height: 32px;\n",
              "      padding: 0 0 0 0;\n",
              "      width: 32px;\n",
              "    }\n",
              "\n",
              "    .colab-df-convert:hover {\n",
              "      background-color: #E2EBFA;\n",
              "      box-shadow: 0px 1px 2px rgba(60, 64, 67, 0.3), 0px 1px 3px 1px rgba(60, 64, 67, 0.15);\n",
              "      fill: #174EA6;\n",
              "    }\n",
              "\n",
              "    .colab-df-buttons div {\n",
              "      margin-bottom: 4px;\n",
              "    }\n",
              "\n",
              "    [theme=dark] .colab-df-convert {\n",
              "      background-color: #3B4455;\n",
              "      fill: #D2E3FC;\n",
              "    }\n",
              "\n",
              "    [theme=dark] .colab-df-convert:hover {\n",
              "      background-color: #434B5C;\n",
              "      box-shadow: 0px 1px 3px 1px rgba(0, 0, 0, 0.15);\n",
              "      filter: drop-shadow(0px 1px 2px rgba(0, 0, 0, 0.3));\n",
              "      fill: #FFFFFF;\n",
              "    }\n",
              "  </style>\n",
              "\n",
              "    <script>\n",
              "      const buttonEl =\n",
              "        document.querySelector('#df-3bdfcc3e-de3f-4309-b9ee-082f16e22b25 button.colab-df-convert');\n",
              "      buttonEl.style.display =\n",
              "        google.colab.kernel.accessAllowed ? 'block' : 'none';\n",
              "\n",
              "      async function convertToInteractive(key) {\n",
              "        const element = document.querySelector('#df-3bdfcc3e-de3f-4309-b9ee-082f16e22b25');\n",
              "        const dataTable =\n",
              "          await google.colab.kernel.invokeFunction('convertToInteractive',\n",
              "                                                    [key], {});\n",
              "        if (!dataTable) return;\n",
              "\n",
              "        const docLinkHtml = 'Like what you see? Visit the ' +\n",
              "          '<a target=\"_blank\" href=https://colab.research.google.com/notebooks/data_table.ipynb>data table notebook</a>'\n",
              "          + ' to learn more about interactive tables.';\n",
              "        element.innerHTML = '';\n",
              "        dataTable['output_type'] = 'display_data';\n",
              "        await google.colab.output.renderOutput(dataTable, element);\n",
              "        const docLink = document.createElement('div');\n",
              "        docLink.innerHTML = docLinkHtml;\n",
              "        element.appendChild(docLink);\n",
              "      }\n",
              "    </script>\n",
              "  </div>\n",
              "\n",
              "\n",
              "    </div>\n",
              "  </div>\n"
            ],
            "application/vnd.google.colaboratory.intrinsic+json": {
              "type": "dataframe",
              "variable_name": "places",
              "summary": "{\n  \"name\": \"places\",\n  \"rows\": 8,\n  \"fields\": [\n    {\n      \"column\": \"address_name\",\n      \"properties\": {\n        \"dtype\": \"string\",\n        \"num_unique_values\": 8,\n        \"samples\": [\n          \"\\uc11c\\uc6b8 \\ub3d9\\ub300\\ubb38\\uad6c \\ud718\\uacbd\\ub3d9 380\",\n          \"\\uc11c\\uc6b8 \\ub3d9\\ub300\\ubb38\\uad6c \\ud718\\uacbd\\ub3d9 343-4\",\n          \"\\uc11c\\uc6b8 \\ub3d9\\ub300\\ubb38\\uad6c \\ud718\\uacbd\\ub3d9 302-2\"\n        ],\n        \"semantic_type\": \"\",\n        \"description\": \"\"\n      }\n    },\n    {\n      \"column\": \"category_group_code\",\n      \"properties\": {\n        \"dtype\": \"category\",\n        \"num_unique_values\": 1,\n        \"samples\": [\n          \"PS3\"\n        ],\n        \"semantic_type\": \"\",\n        \"description\": \"\"\n      }\n    },\n    {\n      \"column\": \"category_group_name\",\n      \"properties\": {\n        \"dtype\": \"category\",\n        \"num_unique_values\": 1,\n        \"samples\": [\n          \"\\uc5b4\\ub9b0\\uc774\\uc9d1,\\uc720\\uce58\\uc6d0\"\n        ],\n        \"semantic_type\": \"\",\n        \"description\": \"\"\n      }\n    },\n    {\n      \"column\": \"category_name\",\n      \"properties\": {\n        \"dtype\": \"category\",\n        \"num_unique_values\": 2,\n        \"samples\": [\n          \"\\uad50\\uc721,\\ud559\\ubb38 > \\uc720\\uc544\\uad50\\uc721 > \\uc5b4\\ub9b0\\uc774\\uc9d1\"\n        ],\n        \"semantic_type\": \"\",\n        \"description\": \"\"\n      }\n    },\n    {\n      \"column\": \"distance\",\n      \"properties\": {\n        \"dtype\": \"string\",\n        \"num_unique_values\": 7,\n        \"samples\": [\n          \"182\"\n        ],\n        \"semantic_type\": \"\",\n        \"description\": \"\"\n      }\n    },\n    {\n      \"column\": \"id\",\n      \"properties\": {\n        \"dtype\": \"string\",\n        \"num_unique_values\": 8,\n        \"samples\": [\n          \"21655642\"\n        ],\n        \"semantic_type\": \"\",\n        \"description\": \"\"\n      }\n    },\n    {\n      \"column\": \"phone\",\n      \"properties\": {\n        \"dtype\": \"string\",\n        \"num_unique_values\": 8,\n        \"samples\": [\n          \"02-2243-2831\"\n        ],\n        \"semantic_type\": \"\",\n        \"description\": \"\"\n      }\n    },\n    {\n      \"column\": \"place_name\",\n      \"properties\": {\n        \"dtype\": \"string\",\n        \"num_unique_values\": 8,\n        \"samples\": [\n          \"\\ud718\\uacbd\\uc5b4\\ub9b0\\uc774\\uc9d1\"\n        ],\n        \"semantic_type\": \"\",\n        \"description\": \"\"\n      }\n    },\n    {\n      \"column\": \"place_url\",\n      \"properties\": {\n        \"dtype\": \"string\",\n        \"num_unique_values\": 8,\n        \"samples\": [\n          \"http://place.map.kakao.com/21655642\"\n        ],\n        \"semantic_type\": \"\",\n        \"description\": \"\"\n      }\n    },\n    {\n      \"column\": \"road_address_name\",\n      \"properties\": {\n        \"dtype\": \"string\",\n        \"num_unique_values\": 8,\n        \"samples\": [\n          \"\\uc11c\\uc6b8 \\ub3d9\\ub300\\ubb38\\uad6c \\ub9dd\\uc6b0\\ub85c 46\"\n        ],\n        \"semantic_type\": \"\",\n        \"description\": \"\"\n      }\n    },\n    {\n      \"column\": \"x\",\n      \"properties\": {\n        \"dtype\": \"string\",\n        \"num_unique_values\": 8,\n        \"samples\": [\n          \"127.05879144938042\"\n        ],\n        \"semantic_type\": \"\",\n        \"description\": \"\"\n      }\n    },\n    {\n      \"column\": \"y\",\n      \"properties\": {\n        \"dtype\": \"string\",\n        \"num_unique_values\": 8,\n        \"samples\": [\n          \"37.58876601763209\"\n        ],\n        \"semantic_type\": \"\",\n        \"description\": \"\"\n      }\n    },\n    {\n      \"column\": \"geometry\",\n      \"properties\": {\n        \"dtype\": \"geometry\",\n        \"num_unique_values\": 8,\n        \"samples\": [\n          \"POINT (127.05879144938042 37.58876601763209)\"\n        ],\n        \"semantic_type\": \"\",\n        \"description\": \"\"\n      }\n    }\n  ]\n}"
            }
          },
          "metadata": {},
          "execution_count": 11
        }
      ],
      "source": [
        "def get_places_by_category(coordinate, radius, category_group_code, api_key):\n",
        "    # 정해진 반경에서 카테고리로 장소 검색\n",
        "    url = \"https://dapi.kakao.com/v2/local/search/category.json\"\n",
        "    headers = {\"Authorization\": f\"KakaoAK {api_key}\"}\n",
        "    params = {\"category_group_code\": category_group_code,\n",
        "              \"x\": coordinate[1],\n",
        "              \"y\": coordinate[0],\n",
        "              \"radius\": radius}\n",
        "\n",
        "    places = []\n",
        "    while True:\n",
        "        response = requests.get(url, headers=headers, params=params)\n",
        "        data = response.json()\n",
        "        places.extend(data.get(\"documents\", []))\n",
        "        if data[\"meta\"][\"is_end\"]:\n",
        "            break\n",
        "        else:\n",
        "            params[\"page\"] = params.get(\"page\", 1) + 1\n",
        "    return gpd.GeoDataFrame(\n",
        "        places,\n",
        "        geometry=gpd.points_from_xy(\n",
        "            [place[\"x\"] for place in places], [place[\"y\"] for place in places]\n",
        "        ),\n",
        "    )\n",
        "\n",
        "radius = 500\n",
        "category_group_code = \"PS3\"  # 어린이집,유치원\n",
        "\n",
        "places = get_places_by_category(coordinate, radius, category_group_code, api_key)\n",
        "print(f\"매장 개수: {len(places)}개\")\n",
        "places = places.set_crs(epsg=4326)\n",
        "places.to_file(\"places_by_category.gpkg\", driver=\"GPKG\")\n",
        "places.head(1)"
      ]
    },
    {
      "cell_type": "code",
      "execution_count": null,
      "id": "8d63e52a-aa65-4051-850a-f2ee1169a89d",
      "metadata": {
        "id": "8d63e52a-aa65-4051-850a-f2ee1169a89d",
        "outputId": "1fbe133a-5970-4478-b262-b0ada43a12f2",
        "colab": {
          "base_uri": "https://localhost:8080/",
          "height": 521,
          "referenced_widgets": [
            "60d9d1d6de264085858e376074479ea1",
            "78edb1454e724900932bd94b86e451bf",
            "80bd19e1f4ad45fa9ca5314b55b6fb59",
            "5fc53b3165f4478f9817193c1fa9213e",
            "fbc91f3d30e64bfca8cf3592c0524b06",
            "06d201e9c4114ca7aaa6269caea728c6",
            "575c026c5c6f4bcdadfab56b570e3caa",
            "31abd738478e4e24a96f301b28a94cd8",
            "c99148af70f5445bb426b8a0f86bfccb",
            "99e6bdd93ba94e7092381163787576b1",
            "fdb2ccbc32ef4cb788210705767b9e1f"
          ]
        }
      },
      "outputs": [
        {
          "output_type": "display_data",
          "data": {
            "text/plain": [
              "Map(center=[37.584828300773886, 127.05773316246166], controls=(ZoomControl(options=['position', 'zoom_in_text'…"
            ],
            "application/vnd.jupyter.widget-view+json": {
              "version_major": 2,
              "version_minor": 0,
              "model_id": "60d9d1d6de264085858e376074479ea1"
            }
          },
          "metadata": {
            "application/vnd.jupyter.widget-view+json": {
              "colab": {
                "custom_widget_manager": {
                  "url": "https://ssl.gstatic.com/colaboratory-static/widgets/colab-cdn-widget-manager/2b70e893a8ba7c0f/manager.min.js"
                }
              }
            }
          }
        }
      ],
      "source": [
        "# GeoPandas 레이어를 GeoData로 변환\n",
        "geo_data = GeoData(\n",
        "    geo_dataframe=places,\n",
        "    point_style={\n",
        "        'radius': 7,  # 점 크기\n",
        "        'color': 'darkblue',  # 색상\n",
        "        'fillOpacity': 0.7,  # 투명도\n",
        "        'fillColor': 'lightblue',  # 점 내부 색상\n",
        "        'weight': 2  # 점 테두리\n",
        "    },\n",
        "    name='어린이집, 유치원'  # 레이어 이름\n",
        ")\n",
        "\n",
        "# Circle 생성\n",
        "circle = Circle()\n",
        "circle.location = coordinate  # 원의 중심 좌표\n",
        "circle.radius = radius  # 원의 반경\n",
        "circle.color = \"red\"  # 원의 테두리 색상\n",
        "circle.fill_color = \"red\"  # 원의 내부 색상\n",
        "circle.fill_opacity = 0.5  # 원의 내부 투명도\n",
        "\n",
        "# 지도 생성 (Vworld 백지도 사용)\n",
        "m = Map(center=coordinate,\n",
        "        zoom=16,\n",
        "        layers=[vworld_white],\n",
        "        layout={'width': '800px', 'height': '500px'})\n",
        "\n",
        "m.add_layer(marker)\n",
        "m.add_layer(circle)\n",
        "m.add_layer(geo_data)\n",
        "m"
      ]
    },
    {
      "cell_type": "markdown",
      "id": "a480672b-9524-4459-81a5-4f36261cb105",
      "metadata": {
        "id": "a480672b-9524-4459-81a5-4f36261cb105"
      },
      "source": [
        "## 사각형 범위로 제한하여 검색하기\n",
        "\n",
        "검색 반경을 사각형 범위로 바꾸는 것도 가능합니다. 좌측 X 좌표, 좌측 Y 좌표, 우측 X 좌표, 우측 Y 좌표 형식으로 조회하면 됩니다. 여기서는 범위 내에서 '학교'를 검색해 보겠습니다."
      ]
    },
    {
      "cell_type": "code",
      "execution_count": null,
      "id": "5af59e97-1e5b-422e-a950-8d8610186ed0",
      "metadata": {
        "id": "5af59e97-1e5b-422e-a950-8d8610186ed0",
        "outputId": "c78aa7c0-d1d6-4401-bb74-ceee3b9804f8",
        "colab": {
          "base_uri": "https://localhost:8080/",
          "height": 153
        }
      },
      "outputs": [
        {
          "output_type": "stream",
          "name": "stdout",
          "text": [
            "매장 개수: 33개\n"
          ]
        },
        {
          "output_type": "execute_result",
          "data": {
            "text/plain": [
              "      address_name category_group_code category_group_name     category_name  \\\n",
              "0  서울 동대문구 전농동 694                 SC4                  학교  교육,학문 > 학교 > 대학교   \n",
              "\n",
              "  distance        id         phone place_name  \\\n",
              "0           10498806  02-6490-6114    서울시립대학교   \n",
              "\n",
              "                             place_url   road_address_name  \\\n",
              "0  http://place.map.kakao.com/10498806  서울 동대문구 서울시립대로 163   \n",
              "\n",
              "                    x                   y                    geometry  \n",
              "0  127.05773316246166  37.584828300773886  POINT (127.05773 37.58483)  "
            ],
            "text/html": [
              "\n",
              "  <div id=\"df-4544fb75-d85e-472d-9adf-2527eeeaaf59\" class=\"colab-df-container\">\n",
              "    <div>\n",
              "<style scoped>\n",
              "    .dataframe tbody tr th:only-of-type {\n",
              "        vertical-align: middle;\n",
              "    }\n",
              "\n",
              "    .dataframe tbody tr th {\n",
              "        vertical-align: top;\n",
              "    }\n",
              "\n",
              "    .dataframe thead th {\n",
              "        text-align: right;\n",
              "    }\n",
              "</style>\n",
              "<table border=\"1\" class=\"dataframe\">\n",
              "  <thead>\n",
              "    <tr style=\"text-align: right;\">\n",
              "      <th></th>\n",
              "      <th>address_name</th>\n",
              "      <th>category_group_code</th>\n",
              "      <th>category_group_name</th>\n",
              "      <th>category_name</th>\n",
              "      <th>distance</th>\n",
              "      <th>id</th>\n",
              "      <th>phone</th>\n",
              "      <th>place_name</th>\n",
              "      <th>place_url</th>\n",
              "      <th>road_address_name</th>\n",
              "      <th>x</th>\n",
              "      <th>y</th>\n",
              "      <th>geometry</th>\n",
              "    </tr>\n",
              "  </thead>\n",
              "  <tbody>\n",
              "    <tr>\n",
              "      <th>0</th>\n",
              "      <td>서울 동대문구 전농동 694</td>\n",
              "      <td>SC4</td>\n",
              "      <td>학교</td>\n",
              "      <td>교육,학문 &gt; 학교 &gt; 대학교</td>\n",
              "      <td></td>\n",
              "      <td>10498806</td>\n",
              "      <td>02-6490-6114</td>\n",
              "      <td>서울시립대학교</td>\n",
              "      <td>http://place.map.kakao.com/10498806</td>\n",
              "      <td>서울 동대문구 서울시립대로 163</td>\n",
              "      <td>127.05773316246166</td>\n",
              "      <td>37.584828300773886</td>\n",
              "      <td>POINT (127.05773 37.58483)</td>\n",
              "    </tr>\n",
              "  </tbody>\n",
              "</table>\n",
              "</div>\n",
              "    <div class=\"colab-df-buttons\">\n",
              "\n",
              "  <div class=\"colab-df-container\">\n",
              "    <button class=\"colab-df-convert\" onclick=\"convertToInteractive('df-4544fb75-d85e-472d-9adf-2527eeeaaf59')\"\n",
              "            title=\"Convert this dataframe to an interactive table.\"\n",
              "            style=\"display:none;\">\n",
              "\n",
              "  <svg xmlns=\"http://www.w3.org/2000/svg\" height=\"24px\" viewBox=\"0 -960 960 960\">\n",
              "    <path d=\"M120-120v-720h720v720H120Zm60-500h600v-160H180v160Zm220 220h160v-160H400v160Zm0 220h160v-160H400v160ZM180-400h160v-160H180v160Zm440 0h160v-160H620v160ZM180-180h160v-160H180v160Zm440 0h160v-160H620v160Z\"/>\n",
              "  </svg>\n",
              "    </button>\n",
              "\n",
              "  <style>\n",
              "    .colab-df-container {\n",
              "      display:flex;\n",
              "      gap: 12px;\n",
              "    }\n",
              "\n",
              "    .colab-df-convert {\n",
              "      background-color: #E8F0FE;\n",
              "      border: none;\n",
              "      border-radius: 50%;\n",
              "      cursor: pointer;\n",
              "      display: none;\n",
              "      fill: #1967D2;\n",
              "      height: 32px;\n",
              "      padding: 0 0 0 0;\n",
              "      width: 32px;\n",
              "    }\n",
              "\n",
              "    .colab-df-convert:hover {\n",
              "      background-color: #E2EBFA;\n",
              "      box-shadow: 0px 1px 2px rgba(60, 64, 67, 0.3), 0px 1px 3px 1px rgba(60, 64, 67, 0.15);\n",
              "      fill: #174EA6;\n",
              "    }\n",
              "\n",
              "    .colab-df-buttons div {\n",
              "      margin-bottom: 4px;\n",
              "    }\n",
              "\n",
              "    [theme=dark] .colab-df-convert {\n",
              "      background-color: #3B4455;\n",
              "      fill: #D2E3FC;\n",
              "    }\n",
              "\n",
              "    [theme=dark] .colab-df-convert:hover {\n",
              "      background-color: #434B5C;\n",
              "      box-shadow: 0px 1px 3px 1px rgba(0, 0, 0, 0.15);\n",
              "      filter: drop-shadow(0px 1px 2px rgba(0, 0, 0, 0.3));\n",
              "      fill: #FFFFFF;\n",
              "    }\n",
              "  </style>\n",
              "\n",
              "    <script>\n",
              "      const buttonEl =\n",
              "        document.querySelector('#df-4544fb75-d85e-472d-9adf-2527eeeaaf59 button.colab-df-convert');\n",
              "      buttonEl.style.display =\n",
              "        google.colab.kernel.accessAllowed ? 'block' : 'none';\n",
              "\n",
              "      async function convertToInteractive(key) {\n",
              "        const element = document.querySelector('#df-4544fb75-d85e-472d-9adf-2527eeeaaf59');\n",
              "        const dataTable =\n",
              "          await google.colab.kernel.invokeFunction('convertToInteractive',\n",
              "                                                    [key], {});\n",
              "        if (!dataTable) return;\n",
              "\n",
              "        const docLinkHtml = 'Like what you see? Visit the ' +\n",
              "          '<a target=\"_blank\" href=https://colab.research.google.com/notebooks/data_table.ipynb>data table notebook</a>'\n",
              "          + ' to learn more about interactive tables.';\n",
              "        element.innerHTML = '';\n",
              "        dataTable['output_type'] = 'display_data';\n",
              "        await google.colab.output.renderOutput(dataTable, element);\n",
              "        const docLink = document.createElement('div');\n",
              "        docLink.innerHTML = docLinkHtml;\n",
              "        element.appendChild(docLink);\n",
              "      }\n",
              "    </script>\n",
              "  </div>\n",
              "\n",
              "\n",
              "    </div>\n",
              "  </div>\n"
            ],
            "application/vnd.google.colaboratory.intrinsic+json": {
              "type": "dataframe",
              "variable_name": "places",
              "summary": "{\n  \"name\": \"places\",\n  \"rows\": 33,\n  \"fields\": [\n    {\n      \"column\": \"address_name\",\n      \"properties\": {\n        \"dtype\": \"string\",\n        \"num_unique_values\": 28,\n        \"samples\": [\n          \"\\uc11c\\uc6b8 \\ub3d9\\ub300\\ubb38\\uad6c \\uc7a5\\uc548\\ub3d9 328\",\n          \"\\uc11c\\uc6b8 \\ub3d9\\ub300\\ubb38\\uad6c \\uccad\\ub7c9\\ub9ac\\ub3d9 206-44\",\n          \"\\uc11c\\uc6b8 \\uc131\\ubd81\\uad6c \\uc885\\uc554\\ub3d9 7-10\"\n        ],\n        \"semantic_type\": \"\",\n        \"description\": \"\"\n      }\n    },\n    {\n      \"column\": \"category_group_code\",\n      \"properties\": {\n        \"dtype\": \"category\",\n        \"num_unique_values\": 1,\n        \"samples\": [\n          \"SC4\"\n        ],\n        \"semantic_type\": \"\",\n        \"description\": \"\"\n      }\n    },\n    {\n      \"column\": \"category_group_name\",\n      \"properties\": {\n        \"dtype\": \"category\",\n        \"num_unique_values\": 1,\n        \"samples\": [\n          \"\\ud559\\uad50\"\n        ],\n        \"semantic_type\": \"\",\n        \"description\": \"\"\n      }\n    },\n    {\n      \"column\": \"category_name\",\n      \"properties\": {\n        \"dtype\": \"category\",\n        \"num_unique_values\": 5,\n        \"samples\": [\n          \"\\uad50\\uc721,\\ud559\\ubb38 > \\ud559\\uad50 > \\ucd08\\ub4f1\\ud559\\uad50\"\n        ],\n        \"semantic_type\": \"\",\n        \"description\": \"\"\n      }\n    },\n    {\n      \"column\": \"distance\",\n      \"properties\": {\n        \"dtype\": \"object\",\n        \"num_unique_values\": 1,\n        \"samples\": [\n          \"\"\n        ],\n        \"semantic_type\": \"\",\n        \"description\": \"\"\n      }\n    },\n    {\n      \"column\": \"id\",\n      \"properties\": {\n        \"dtype\": \"string\",\n        \"num_unique_values\": 33,\n        \"samples\": [\n          \"17358636\"\n        ],\n        \"semantic_type\": \"\",\n        \"description\": \"\"\n      }\n    },\n    {\n      \"column\": \"phone\",\n      \"properties\": {\n        \"dtype\": \"string\",\n        \"num_unique_values\": 33,\n        \"samples\": [\n          \"02-2116-7206\"\n        ],\n        \"semantic_type\": \"\",\n        \"description\": \"\"\n      }\n    },\n    {\n      \"column\": \"place_name\",\n      \"properties\": {\n        \"dtype\": \"string\",\n        \"num_unique_values\": 33,\n        \"samples\": [\n          \"\\ud718\\ubd09\\uace0\\ub4f1\\ud559\\uad50\"\n        ],\n        \"semantic_type\": \"\",\n        \"description\": \"\"\n      }\n    },\n    {\n      \"column\": \"place_url\",\n      \"properties\": {\n        \"dtype\": \"string\",\n        \"num_unique_values\": 33,\n        \"samples\": [\n          \"http://place.map.kakao.com/17358636\"\n        ],\n        \"semantic_type\": \"\",\n        \"description\": \"\"\n      }\n    },\n    {\n      \"column\": \"road_address_name\",\n      \"properties\": {\n        \"dtype\": \"string\",\n        \"num_unique_values\": 29,\n        \"samples\": [\n          \"\\uc11c\\uc6b8 \\ub3d9\\ub300\\ubb38\\uad6c \\ud55c\\ucc9c\\ub85c 290\"\n        ],\n        \"semantic_type\": \"\",\n        \"description\": \"\"\n      }\n    },\n    {\n      \"column\": \"x\",\n      \"properties\": {\n        \"dtype\": \"string\",\n        \"num_unique_values\": 33,\n        \"samples\": [\n          \"127.06903268100889\"\n        ],\n        \"semantic_type\": \"\",\n        \"description\": \"\"\n      }\n    },\n    {\n      \"column\": \"y\",\n      \"properties\": {\n        \"dtype\": \"string\",\n        \"num_unique_values\": 33,\n        \"samples\": [\n          \"37.58646744636223\"\n        ],\n        \"semantic_type\": \"\",\n        \"description\": \"\"\n      }\n    },\n    {\n      \"column\": \"geometry\",\n      \"properties\": {\n        \"dtype\": \"geometry\",\n        \"num_unique_values\": 33,\n        \"samples\": [\n          \"POINT (127.06903268100889 37.58646744636223)\"\n        ],\n        \"semantic_type\": \"\",\n        \"description\": \"\"\n      }\n    }\n  ]\n}"
            }
          },
          "metadata": {},
          "execution_count": 13
        }
      ],
      "source": [
        "def get_places_by_category_with_rect(bbox, category_group_code, api_key):\n",
        "    # 사각형 영역에서 카테고리로 장소 검색\n",
        "\n",
        "    url = \"https://dapi.kakao.com/v2/local/search/category.json\"\n",
        "    headers = {\"Authorization\": f\"KakaoAK {api_key}\"}\n",
        "\n",
        "    params = {\"category_group_code\": category_group_code, \"rect\": bbox}\n",
        "\n",
        "    places = []\n",
        "    while True:\n",
        "        response = requests.get(url, headers=headers, params=params)\n",
        "        data = response.json()\n",
        "        places.extend(data.get(\"documents\", []))\n",
        "        if data[\"meta\"][\"is_end\"]:\n",
        "            break\n",
        "        else:\n",
        "            params[\"page\"] = params.get(\"page\", 1) + 1\n",
        "    return gpd.GeoDataFrame(\n",
        "        places,\n",
        "        geometry=gpd.points_from_xy(\n",
        "            [place[\"x\"] for place in places], [place[\"y\"] for place in places]\n",
        "        ),\n",
        "    )\n",
        "\n",
        "# 사각형 범위\n",
        "bbox = \"127.03506145225234,37.5938114125238,127.08040487267098,37.57584518902397\"\n",
        "category_group_code = \"SC4\"  # 학교\n",
        "\n",
        "places = get_places_by_category_with_rect(bbox, category_group_code, api_key)\n",
        "print(f\"매장 개수: {len(places)}개\")\n",
        "places = places.set_crs(epsg=4326)\n",
        "places.to_file(\"places_by_category_with_rect.gpkg\", driver=\"GPKG\")\n",
        "places.head(1)"
      ]
    },
    {
      "cell_type": "code",
      "execution_count": null,
      "id": "2fbe147b-f417-40d6-a766-dc30e39e2a10",
      "metadata": {
        "id": "2fbe147b-f417-40d6-a766-dc30e39e2a10",
        "outputId": "10e0540d-c074-41fc-9287-471899490a99",
        "colab": {
          "base_uri": "https://localhost:8080/",
          "height": 521,
          "referenced_widgets": [
            "3f35387894d24136ab35c88030f52e57",
            "27719255348c4695a2d27dda529a0b32",
            "cbfda5d9c3a543e89f736a8a8be5c7da",
            "ac7391ee1079439ab0d451b36988a15a",
            "e5c51a7e463c400b8ce68452a0ba5194",
            "06d201e9c4114ca7aaa6269caea728c6",
            "575c026c5c6f4bcdadfab56b570e3caa",
            "a980b8e5cf0643fc93b63964c63c9a04",
            "c3c03ea764774b85acc094b759215f04",
            "0f8faf048cc14b1e8381f5ade7ae6974",
            "6e6e15d79fd74bb0b96480b534c257e4"
          ]
        }
      },
      "outputs": [
        {
          "output_type": "display_data",
          "data": {
            "text/plain": [
              "Map(center=[37.584828300773886, 127.05773316246166], controls=(ZoomControl(options=['position', 'zoom_in_text'…"
            ],
            "application/vnd.jupyter.widget-view+json": {
              "version_major": 2,
              "version_minor": 0,
              "model_id": "3f35387894d24136ab35c88030f52e57"
            }
          },
          "metadata": {
            "application/vnd.jupyter.widget-view+json": {
              "colab": {
                "custom_widget_manager": {
                  "url": "https://ssl.gstatic.com/colaboratory-static/widgets/colab-cdn-widget-manager/2b70e893a8ba7c0f/manager.min.js"
                }
              }
            }
          }
        }
      ],
      "source": [
        "# GeoPandas 레이어를 GeoData로 변환\n",
        "geo_data = GeoData(\n",
        "    geo_dataframe=places,\n",
        "    point_style={\n",
        "        'radius': 7,  # 점 크기\n",
        "        'color': 'darkblue',  # 색상\n",
        "        'fillOpacity': 0.7,  # 투명도\n",
        "        'fillColor': 'lightblue',  # 점 내부 색상\n",
        "        'weight': 2  # 점 테두리\n",
        "    },\n",
        "    name='학교'  # 레이어 이름\n",
        ")\n",
        "\n",
        "# Rectangle(사각형) 생성\n",
        "bbox_values = [float(val) for val in bbox.split(\",\")]\n",
        "\n",
        "# ((최소 위도, 최소 경도), (최대 위도, 최대 경도))\n",
        "bbox_bounds = ((bbox_values[1], bbox_values[0]), (bbox_values[3], bbox_values[2]))\n",
        "rectangle = Rectangle(bounds=bbox_bounds, color=\"red\", fill_opacity=0.2)\n",
        "\n",
        "# 지도 생성 (Vworld 백지도 사용)\n",
        "m = Map(center=coordinate,\n",
        "        zoom=14,\n",
        "        layers=[vworld_white],\n",
        "        layout={'width': '800px', 'height': '500px'})\n",
        "\n",
        "m.add_layer(marker)\n",
        "m.add_layer(rectangle)\n",
        "m.add_layer(geo_data)\n",
        "m"
      ]
    },
    {
      "cell_type": "markdown",
      "source": [
        "로컬 API에서 제공되는 튜플은 한번에 최대 45개이기 때문에, 45개가 초과되는 결과값은 모두 가져올 수 없습니다. 따라서 검색하고자 하는 영역이 넓어 `total_count`가 45개를 초과하는 경우에는, 전체 영역을 적정하게 분할하여 데이터를 수집한 후, 중복성 제거를 체크 후 병합하면 될 것 같습니다. 물론 이 과정 또한 일일 쿼터 한도인 10만회를 고려해야 할 것입니다.\n",
        "\n",
        "해당 좌표들을 Heatmap으로 표현해본 결과는 다음과 같습니다."
      ],
      "metadata": {
        "id": "Pcptg4TuUXYb"
      },
      "id": "Pcptg4TuUXYb"
    },
    {
      "cell_type": "code",
      "source": [
        "# places에서 경도와 위도 데이터 추출\n",
        "locations = places[['y', 'x']]  # 'y'가 위도, 'x'가 경도\n",
        "\n",
        "# Heatmap에 필요한 형태로 데이터 변환(위도, 경도, 가중치)\n",
        "heatmap_data = [[row['y'], row['x'], 1] for index, row in locations.iterrows()]\n",
        "\n",
        "# Heatmap 레이어 생성\n",
        "heatmap_layer = Heatmap(\n",
        "    locations=heatmap_data,\n",
        "    radius=40,  # Heatmap 점 크기\n",
        "    blur=20,  # 흐림 효과\n",
        "    gradient = {0.0: 'blue', 0.5: 'lime', 1: 'red'}\n",
        ")\n",
        "\n",
        "# 지도 생성 (Vworld 백지도 사용)\n",
        "m = Map(center=coordinate,\n",
        "        zoom=15,\n",
        "        layers=[vworld_white],\n",
        "        layout={'width': '800px', 'height': '500px'})\n",
        "\n",
        "m.add_layer(marker)\n",
        "m.add_layer(heatmap_layer)\n",
        "# m.add_layer(geo_data)\n",
        "m"
      ],
      "metadata": {
        "id": "CNBVz5wyUmKd",
        "outputId": "7d2e265e-4079-40d4-c712-b1182c28a159",
        "colab": {
          "base_uri": "https://localhost:8080/",
          "height": 521,
          "referenced_widgets": [
            "5118393dec374c78a7a67f62429c084d",
            "5b91f87229a14a1a8d8aa6b4b4f7b3d3",
            "f22874286f724de3b92ae49b2ab21faf",
            "90f8314d405f4c34951ac98cc1fd461e",
            "b0394b5d9b3049c7a90f01654d02cb2b",
            "06d201e9c4114ca7aaa6269caea728c6",
            "575c026c5c6f4bcdadfab56b570e3caa",
            "40d6e6d0498c4da198df519c599662f7",
            "70e370f2c7bc4fe4af4d048726137ac7",
            "3c3ce12d96594dddbcd991260f78978a"
          ]
        }
      },
      "id": "CNBVz5wyUmKd",
      "execution_count": null,
      "outputs": [
        {
          "output_type": "display_data",
          "data": {
            "text/plain": [
              "Map(center=[37.584828300773886, 127.05773316246166], controls=(ZoomControl(options=['position', 'zoom_in_text'…"
            ],
            "application/vnd.jupyter.widget-view+json": {
              "version_major": 2,
              "version_minor": 0,
              "model_id": "5118393dec374c78a7a67f62429c084d"
            }
          },
          "metadata": {
            "application/vnd.jupyter.widget-view+json": {
              "colab": {
                "custom_widget_manager": {
                  "url": "https://ssl.gstatic.com/colaboratory-static/widgets/colab-cdn-widget-manager/2b70e893a8ba7c0f/manager.min.js"
                }
              }
            }
          }
        }
      ]
    },
    {
      "cell_type": "markdown",
      "source": [
        "Colab에서 저장한 GPKG 파일은 아래 코드로 내 컴퓨터에 다운로드 받을 수 있습니다."
      ],
      "metadata": {
        "id": "GLJe4dmOlHgt"
      },
      "id": "GLJe4dmOlHgt"
    },
    {
      "cell_type": "code",
      "source": [
        "from google.colab import files\n",
        "\n",
        "# 파일을 직접 다운로드\n",
        "files.download(\"places_by_query.gpkg\")\n",
        "files.download(\"places_by_category.gpkg\")\n",
        "files.download(\"places_by_category_with_rect.gpkg\")"
      ],
      "metadata": {
        "id": "YVY14WBwh65t",
        "outputId": "d41a8368-8825-4342-95a4-22799cfd1d4a",
        "colab": {
          "base_uri": "https://localhost:8080/",
          "height": 17
        }
      },
      "id": "YVY14WBwh65t",
      "execution_count": null,
      "outputs": [
        {
          "output_type": "display_data",
          "data": {
            "text/plain": [
              "<IPython.core.display.Javascript object>"
            ],
            "application/javascript": [
              "\n",
              "    async function download(id, filename, size) {\n",
              "      if (!google.colab.kernel.accessAllowed) {\n",
              "        return;\n",
              "      }\n",
              "      const div = document.createElement('div');\n",
              "      const label = document.createElement('label');\n",
              "      label.textContent = `Downloading \"${filename}\": `;\n",
              "      div.appendChild(label);\n",
              "      const progress = document.createElement('progress');\n",
              "      progress.max = size;\n",
              "      div.appendChild(progress);\n",
              "      document.body.appendChild(div);\n",
              "\n",
              "      const buffers = [];\n",
              "      let downloaded = 0;\n",
              "\n",
              "      const channel = await google.colab.kernel.comms.open(id);\n",
              "      // Send a message to notify the kernel that we're ready.\n",
              "      channel.send({})\n",
              "\n",
              "      for await (const message of channel.messages) {\n",
              "        // Send a message to notify the kernel that we're ready.\n",
              "        channel.send({})\n",
              "        if (message.buffers) {\n",
              "          for (const buffer of message.buffers) {\n",
              "            buffers.push(buffer);\n",
              "            downloaded += buffer.byteLength;\n",
              "            progress.value = downloaded;\n",
              "          }\n",
              "        }\n",
              "      }\n",
              "      const blob = new Blob(buffers, {type: 'application/binary'});\n",
              "      const a = document.createElement('a');\n",
              "      a.href = window.URL.createObjectURL(blob);\n",
              "      a.download = filename;\n",
              "      div.appendChild(a);\n",
              "      a.click();\n",
              "      div.remove();\n",
              "    }\n",
              "  "
            ]
          },
          "metadata": {}
        },
        {
          "output_type": "display_data",
          "data": {
            "text/plain": [
              "<IPython.core.display.Javascript object>"
            ],
            "application/javascript": [
              "download(\"download_b9284269-52c8-48d0-a7eb-d0c518d848c7\", \"places_by_query.gpkg\", 106496)"
            ]
          },
          "metadata": {}
        },
        {
          "output_type": "display_data",
          "data": {
            "text/plain": [
              "<IPython.core.display.Javascript object>"
            ],
            "application/javascript": [
              "\n",
              "    async function download(id, filename, size) {\n",
              "      if (!google.colab.kernel.accessAllowed) {\n",
              "        return;\n",
              "      }\n",
              "      const div = document.createElement('div');\n",
              "      const label = document.createElement('label');\n",
              "      label.textContent = `Downloading \"${filename}\": `;\n",
              "      div.appendChild(label);\n",
              "      const progress = document.createElement('progress');\n",
              "      progress.max = size;\n",
              "      div.appendChild(progress);\n",
              "      document.body.appendChild(div);\n",
              "\n",
              "      const buffers = [];\n",
              "      let downloaded = 0;\n",
              "\n",
              "      const channel = await google.colab.kernel.comms.open(id);\n",
              "      // Send a message to notify the kernel that we're ready.\n",
              "      channel.send({})\n",
              "\n",
              "      for await (const message of channel.messages) {\n",
              "        // Send a message to notify the kernel that we're ready.\n",
              "        channel.send({})\n",
              "        if (message.buffers) {\n",
              "          for (const buffer of message.buffers) {\n",
              "            buffers.push(buffer);\n",
              "            downloaded += buffer.byteLength;\n",
              "            progress.value = downloaded;\n",
              "          }\n",
              "        }\n",
              "      }\n",
              "      const blob = new Blob(buffers, {type: 'application/binary'});\n",
              "      const a = document.createElement('a');\n",
              "      a.href = window.URL.createObjectURL(blob);\n",
              "      a.download = filename;\n",
              "      div.appendChild(a);\n",
              "      a.click();\n",
              "      div.remove();\n",
              "    }\n",
              "  "
            ]
          },
          "metadata": {}
        },
        {
          "output_type": "display_data",
          "data": {
            "text/plain": [
              "<IPython.core.display.Javascript object>"
            ],
            "application/javascript": [
              "download(\"download_0a700ec0-68e8-4a33-9eb7-8bdd9a7cfc9d\", \"places_by_category.gpkg\", 98304)"
            ]
          },
          "metadata": {}
        },
        {
          "output_type": "display_data",
          "data": {
            "text/plain": [
              "<IPython.core.display.Javascript object>"
            ],
            "application/javascript": [
              "\n",
              "    async function download(id, filename, size) {\n",
              "      if (!google.colab.kernel.accessAllowed) {\n",
              "        return;\n",
              "      }\n",
              "      const div = document.createElement('div');\n",
              "      const label = document.createElement('label');\n",
              "      label.textContent = `Downloading \"${filename}\": `;\n",
              "      div.appendChild(label);\n",
              "      const progress = document.createElement('progress');\n",
              "      progress.max = size;\n",
              "      div.appendChild(progress);\n",
              "      document.body.appendChild(div);\n",
              "\n",
              "      const buffers = [];\n",
              "      let downloaded = 0;\n",
              "\n",
              "      const channel = await google.colab.kernel.comms.open(id);\n",
              "      // Send a message to notify the kernel that we're ready.\n",
              "      channel.send({})\n",
              "\n",
              "      for await (const message of channel.messages) {\n",
              "        // Send a message to notify the kernel that we're ready.\n",
              "        channel.send({})\n",
              "        if (message.buffers) {\n",
              "          for (const buffer of message.buffers) {\n",
              "            buffers.push(buffer);\n",
              "            downloaded += buffer.byteLength;\n",
              "            progress.value = downloaded;\n",
              "          }\n",
              "        }\n",
              "      }\n",
              "      const blob = new Blob(buffers, {type: 'application/binary'});\n",
              "      const a = document.createElement('a');\n",
              "      a.href = window.URL.createObjectURL(blob);\n",
              "      a.download = filename;\n",
              "      div.appendChild(a);\n",
              "      a.click();\n",
              "      div.remove();\n",
              "    }\n",
              "  "
            ]
          },
          "metadata": {}
        },
        {
          "output_type": "display_data",
          "data": {
            "text/plain": [
              "<IPython.core.display.Javascript object>"
            ],
            "application/javascript": [
              "download(\"download_c1fb5193-c35c-463c-8e96-684c4b5b6171\", \"places_by_category_with_rect.gpkg\", 110592)"
            ]
          },
          "metadata": {}
        }
      ]
    }
  ],
  "metadata": {
    "kernelspec": {
      "display_name": "Python 3 (ipykernel)",
      "language": "python",
      "name": "python3"
    },
    "language_info": {
      "codemirror_mode": {
        "name": "ipython",
        "version": 3
      },
      "file_extension": ".py",
      "mimetype": "text/x-python",
      "name": "python",
      "nbconvert_exporter": "python",
      "pygments_lexer": "ipython3",
      "version": "3.10.11"
    },
    "colab": {
      "provenance": [],
      "include_colab_link": true
    },
    "widgets": {
      "application/vnd.jupyter.widget-state+json": {
        "396a4a741d7a48f0b60b3bb7cd67bb5a": {
          "model_module": "jupyter-leaflet",
          "model_name": "LeafletMapModel",
          "model_module_version": "^0.18",
          "state": {
            "_dom_classes": [],
            "_model_module": "jupyter-leaflet",
            "_model_module_version": "^0.18",
            "_model_name": "LeafletMapModel",
            "_view_count": null,
            "_view_module": "jupyter-leaflet",
            "_view_module_version": "^0.18",
            "_view_name": "LeafletMapView",
            "bottom": 12992125,
            "bounce_at_zoom_limits": true,
            "box_zoom": true,
            "center": [
              37.584828300773886,
              127.05773316246166
            ],
            "close_popup_on_click": true,
            "controls": [
              "IPY_MODEL_09f711c47ce7484fbb85ae48ac2296f1",
              "IPY_MODEL_5817ce020a8b48289195c866b975fa69"
            ],
            "crs": {
              "name": "EPSG3857",
              "custom": false
            },
            "default_style": "IPY_MODEL_2d891466c6274864bc3a52c66651d08c",
            "double_click_zoom": true,
            "dragging": true,
            "dragging_style": "IPY_MODEL_9cb47664a4604f6d90220aeeadd4930a",
            "east": 127.06202387809755,
            "fullscreen": false,
            "inertia": true,
            "inertia_deceleration": 3000,
            "inertia_max_speed": 1500,
            "interpolation": "bilinear",
            "keyboard": true,
            "keyboard_pan_offset": 80,
            "keyboard_zoom_offset": 1,
            "layers": [
              "IPY_MODEL_06d201e9c4114ca7aaa6269caea728c6",
              "IPY_MODEL_575c026c5c6f4bcdadfab56b570e3caa"
            ],
            "layout": "IPY_MODEL_0f70ed3c5537461faa3994304c4f693b",
            "left": 28619455,
            "max_zoom": null,
            "min_zoom": null,
            "modisdate": "2024-03-22",
            "north": 37.586954023964,
            "options": [
              "bounce_at_zoom_limits",
              "box_zoom",
              "center",
              "close_popup_on_click",
              "double_click_zoom",
              "dragging",
              "fullscreen",
              "inertia",
              "inertia_deceleration",
              "inertia_max_speed",
              "interpolation",
              "keyboard",
              "keyboard_pan_offset",
              "keyboard_zoom_offset",
              "max_zoom",
              "min_zoom",
              "prefer_canvas",
              "scroll_wheel_zoom",
              "tap",
              "tap_tolerance",
              "touch_zoom",
              "world_copy_jump",
              "zoom",
              "zoom_animation_threshold",
              "zoom_delta",
              "zoom_snap"
            ],
            "panes": {},
            "prefer_canvas": false,
            "right": 28620255,
            "scroll_wheel_zoom": false,
            "south": 37.58270298458197,
            "style": "IPY_MODEL_1ece7425ce5f461fb116908b74fc8ead",
            "tap": true,
            "tap_tolerance": 15,
            "top": 12991625,
            "touch_zoom": true,
            "west": 127.05344080924989,
            "window_url": "https://muk1mnipkgl-496ff2e9c6d22116-0-colab.googleusercontent.com/outputframe.html?vrz=colab_20240321-060149_RC00_617803427",
            "world_copy_jump": false,
            "zoom": 17,
            "zoom_animation_threshold": 4,
            "zoom_delta": 1,
            "zoom_snap": 1
          }
        },
        "09f711c47ce7484fbb85ae48ac2296f1": {
          "model_module": "jupyter-leaflet",
          "model_name": "LeafletZoomControlModel",
          "model_module_version": "^0.18",
          "state": {
            "_model_module": "jupyter-leaflet",
            "_model_module_version": "^0.18",
            "_model_name": "LeafletZoomControlModel",
            "_view_count": null,
            "_view_module": "jupyter-leaflet",
            "_view_module_version": "^0.18",
            "_view_name": "LeafletZoomControlView",
            "options": [
              "position",
              "zoom_in_text",
              "zoom_in_title",
              "zoom_out_text",
              "zoom_out_title"
            ],
            "position": "topleft",
            "zoom_in_text": "+",
            "zoom_in_title": "Zoom in",
            "zoom_out_text": "-",
            "zoom_out_title": "Zoom out"
          }
        },
        "5817ce020a8b48289195c866b975fa69": {
          "model_module": "jupyter-leaflet",
          "model_name": "LeafletAttributionControlModel",
          "model_module_version": "^0.18",
          "state": {
            "_model_module": "jupyter-leaflet",
            "_model_module_version": "^0.18",
            "_model_name": "LeafletAttributionControlModel",
            "_view_count": null,
            "_view_module": "jupyter-leaflet",
            "_view_module_version": "^0.18",
            "_view_name": "LeafletAttributionControlView",
            "options": [
              "position",
              "prefix"
            ],
            "position": "bottomright",
            "prefix": "ipyleaflet"
          }
        },
        "2d891466c6274864bc3a52c66651d08c": {
          "model_module": "jupyter-leaflet",
          "model_name": "LeafletMapStyleModel",
          "model_module_version": "^0.18",
          "state": {
            "_model_module": "jupyter-leaflet",
            "_model_module_version": "^0.18",
            "_model_name": "LeafletMapStyleModel",
            "_view_count": null,
            "_view_module": "@jupyter-widgets/base",
            "_view_module_version": "1.2.0",
            "_view_name": "StyleView",
            "cursor": "grab"
          }
        },
        "9cb47664a4604f6d90220aeeadd4930a": {
          "model_module": "jupyter-leaflet",
          "model_name": "LeafletMapStyleModel",
          "model_module_version": "^0.18",
          "state": {
            "_model_module": "jupyter-leaflet",
            "_model_module_version": "^0.18",
            "_model_name": "LeafletMapStyleModel",
            "_view_count": null,
            "_view_module": "@jupyter-widgets/base",
            "_view_module_version": "1.2.0",
            "_view_name": "StyleView",
            "cursor": "move"
          }
        },
        "06d201e9c4114ca7aaa6269caea728c6": {
          "model_module": "jupyter-leaflet",
          "model_name": "LeafletTileLayerModel",
          "model_module_version": "^0.18",
          "state": {
            "_model_module": "jupyter-leaflet",
            "_model_module_version": "^0.18",
            "_model_name": "LeafletTileLayerModel",
            "_view_count": null,
            "_view_module": "jupyter-leaflet",
            "_view_module_version": "^0.18",
            "_view_name": "LeafletTileLayerView",
            "attribution": "Vworld",
            "base": false,
            "bottom": true,
            "bounds": null,
            "detect_retina": false,
            "loading": false,
            "max_native_zoom": null,
            "max_zoom": 18,
            "min_native_zoom": null,
            "min_zoom": 0,
            "name": "Vworld White",
            "no_wrap": false,
            "opacity": 1,
            "options": [
              "attribution",
              "bounds",
              "detect_retina",
              "max_native_zoom",
              "max_zoom",
              "min_native_zoom",
              "min_zoom",
              "no_wrap",
              "tile_size",
              "tms",
              "zoom_offset"
            ],
            "pane": "",
            "popup": null,
            "popup_max_height": null,
            "popup_max_width": 300,
            "popup_min_width": 50,
            "show_loading": false,
            "subitems": [],
            "tile_size": 256,
            "tms": false,
            "url": "https://xdworld.vworld.kr/2d/white/service/{z}/{x}/{y}.png",
            "visible": true,
            "zoom_offset": 0
          }
        },
        "575c026c5c6f4bcdadfab56b570e3caa": {
          "model_module": "jupyter-leaflet",
          "model_name": "LeafletMarkerModel",
          "model_module_version": "^0.18",
          "state": {
            "_model_module": "jupyter-leaflet",
            "_model_module_version": "^0.18",
            "_model_name": "LeafletMarkerModel",
            "_view_count": null,
            "_view_module": "jupyter-leaflet",
            "_view_module_version": "^0.18",
            "_view_name": "LeafletMarkerView",
            "alt": "",
            "base": false,
            "bottom": false,
            "draggable": false,
            "icon": null,
            "keyboard": true,
            "location": [
              37.584828300773886,
              127.05773316246166
            ],
            "name": "",
            "opacity": 1,
            "options": [
              "alt",
              "draggable",
              "keyboard",
              "rise_offset",
              "rise_on_hover",
              "rotation_angle",
              "rotation_origin",
              "title",
              "z_index_offset"
            ],
            "pane": "",
            "popup": null,
            "popup_max_height": null,
            "popup_max_width": 300,
            "popup_min_width": 50,
            "rise_offset": 250,
            "rise_on_hover": false,
            "rotation_angle": 0,
            "rotation_origin": "",
            "subitems": [],
            "title": "",
            "visible": true,
            "z_index_offset": 0
          }
        },
        "0f70ed3c5537461faa3994304c4f693b": {
          "model_module": "@jupyter-widgets/base",
          "model_name": "LayoutModel",
          "model_module_version": "1.2.0",
          "state": {
            "_model_module": "@jupyter-widgets/base",
            "_model_module_version": "1.2.0",
            "_model_name": "LayoutModel",
            "_view_count": null,
            "_view_module": "@jupyter-widgets/base",
            "_view_module_version": "1.2.0",
            "_view_name": "LayoutView",
            "align_content": null,
            "align_items": null,
            "align_self": null,
            "border": null,
            "bottom": null,
            "display": null,
            "flex": null,
            "flex_flow": null,
            "grid_area": null,
            "grid_auto_columns": null,
            "grid_auto_flow": null,
            "grid_auto_rows": null,
            "grid_column": null,
            "grid_gap": null,
            "grid_row": null,
            "grid_template_areas": null,
            "grid_template_columns": null,
            "grid_template_rows": null,
            "height": "500px",
            "justify_content": null,
            "justify_items": null,
            "left": null,
            "margin": null,
            "max_height": null,
            "max_width": null,
            "min_height": null,
            "min_width": null,
            "object_fit": null,
            "object_position": null,
            "order": null,
            "overflow": null,
            "overflow_x": null,
            "overflow_y": null,
            "padding": null,
            "right": null,
            "top": null,
            "visibility": null,
            "width": "800px"
          }
        },
        "1ece7425ce5f461fb116908b74fc8ead": {
          "model_module": "jupyter-leaflet",
          "model_name": "LeafletMapStyleModel",
          "model_module_version": "^0.18",
          "state": {
            "_model_module": "jupyter-leaflet",
            "_model_module_version": "^0.18",
            "_model_name": "LeafletMapStyleModel",
            "_view_count": null,
            "_view_module": "@jupyter-widgets/base",
            "_view_module_version": "1.2.0",
            "_view_name": "StyleView",
            "cursor": "grab"
          }
        },
        "6b54ac9ed2594cb5a09e61d6652580a4": {
          "model_module": "jupyter-leaflet",
          "model_name": "LeafletMapModel",
          "model_module_version": "^0.18",
          "state": {
            "_dom_classes": [],
            "_model_module": "jupyter-leaflet",
            "_model_module_version": "^0.18",
            "_model_name": "LeafletMapModel",
            "_view_count": null,
            "_view_module": "jupyter-leaflet",
            "_view_module_version": "^0.18",
            "_view_name": "LeafletMapView",
            "bottom": 203248,
            "bounce_at_zoom_limits": true,
            "box_zoom": true,
            "center": [
              37.584828300773886,
              127.05773316246166
            ],
            "close_popup_on_click": true,
            "controls": [
              "IPY_MODEL_e7237ff2b09a4e5492407c6b2a7e2aff",
              "IPY_MODEL_2a41f55cf4ae4ddab4df49d6803ef620"
            ],
            "crs": {
              "name": "EPSG3857",
              "custom": false
            },
            "default_style": "IPY_MODEL_f2735e38dc154fca9587677a81548cce",
            "double_click_zoom": true,
            "dragging": true,
            "dragging_style": "IPY_MODEL_7a04227c7c804711accaeea777ae7559",
            "east": 127.33222961425783,
            "fullscreen": false,
            "inertia": true,
            "inertia_deceleration": 3000,
            "inertia_max_speed": 1500,
            "interpolation": "bilinear",
            "keyboard": true,
            "keyboard_pan_offset": 80,
            "keyboard_zoom_offset": 1,
            "layers": [
              "IPY_MODEL_06d201e9c4114ca7aaa6269caea728c6",
              "IPY_MODEL_575c026c5c6f4bcdadfab56b570e3caa",
              "IPY_MODEL_1c2c25fd79bb4d00a91e63a05974d08b",
              "IPY_MODEL_d4b95f05291549a8981a17160376b71c"
            ],
            "layout": "IPY_MODEL_9f602fccdd11431c81b92144468f04b2",
            "left": 446785,
            "max_zoom": null,
            "min_zoom": null,
            "modisdate": "2024-03-22",
            "north": 37.72076290898376,
            "options": [
              "bounce_at_zoom_limits",
              "box_zoom",
              "center",
              "close_popup_on_click",
              "double_click_zoom",
              "dragging",
              "fullscreen",
              "inertia",
              "inertia_deceleration",
              "inertia_max_speed",
              "interpolation",
              "keyboard",
              "keyboard_pan_offset",
              "keyboard_zoom_offset",
              "max_zoom",
              "min_zoom",
              "prefer_canvas",
              "scroll_wheel_zoom",
              "tap",
              "tap_tolerance",
              "touch_zoom",
              "world_copy_jump",
              "zoom",
              "zoom_animation_threshold",
              "zoom_delta",
              "zoom_snap"
            ],
            "panes": {},
            "prefer_canvas": false,
            "right": 447585,
            "scroll_wheel_zoom": false,
            "south": 37.448696585910376,
            "style": "IPY_MODEL_d054137f71ca4f62853a7cee5a0ec0d3",
            "tap": true,
            "tap_tolerance": 15,
            "top": 202748,
            "touch_zoom": true,
            "west": 126.78291320800783,
            "window_url": "https://muk1mnipkgl-496ff2e9c6d22116-0-colab.googleusercontent.com/outputframe.html?vrz=colab_20240321-060149_RC00_617803427",
            "world_copy_jump": false,
            "zoom": 11,
            "zoom_animation_threshold": 4,
            "zoom_delta": 1,
            "zoom_snap": 1
          }
        },
        "e7237ff2b09a4e5492407c6b2a7e2aff": {
          "model_module": "jupyter-leaflet",
          "model_name": "LeafletZoomControlModel",
          "model_module_version": "^0.18",
          "state": {
            "_model_module": "jupyter-leaflet",
            "_model_module_version": "^0.18",
            "_model_name": "LeafletZoomControlModel",
            "_view_count": null,
            "_view_module": "jupyter-leaflet",
            "_view_module_version": "^0.18",
            "_view_name": "LeafletZoomControlView",
            "options": [
              "position",
              "zoom_in_text",
              "zoom_in_title",
              "zoom_out_text",
              "zoom_out_title"
            ],
            "position": "topleft",
            "zoom_in_text": "+",
            "zoom_in_title": "Zoom in",
            "zoom_out_text": "-",
            "zoom_out_title": "Zoom out"
          }
        },
        "2a41f55cf4ae4ddab4df49d6803ef620": {
          "model_module": "jupyter-leaflet",
          "model_name": "LeafletAttributionControlModel",
          "model_module_version": "^0.18",
          "state": {
            "_model_module": "jupyter-leaflet",
            "_model_module_version": "^0.18",
            "_model_name": "LeafletAttributionControlModel",
            "_view_count": null,
            "_view_module": "jupyter-leaflet",
            "_view_module_version": "^0.18",
            "_view_name": "LeafletAttributionControlView",
            "options": [
              "position",
              "prefix"
            ],
            "position": "bottomright",
            "prefix": "ipyleaflet"
          }
        },
        "f2735e38dc154fca9587677a81548cce": {
          "model_module": "jupyter-leaflet",
          "model_name": "LeafletMapStyleModel",
          "model_module_version": "^0.18",
          "state": {
            "_model_module": "jupyter-leaflet",
            "_model_module_version": "^0.18",
            "_model_name": "LeafletMapStyleModel",
            "_view_count": null,
            "_view_module": "@jupyter-widgets/base",
            "_view_module_version": "1.2.0",
            "_view_name": "StyleView",
            "cursor": "grab"
          }
        },
        "7a04227c7c804711accaeea777ae7559": {
          "model_module": "jupyter-leaflet",
          "model_name": "LeafletMapStyleModel",
          "model_module_version": "^0.18",
          "state": {
            "_model_module": "jupyter-leaflet",
            "_model_module_version": "^0.18",
            "_model_name": "LeafletMapStyleModel",
            "_view_count": null,
            "_view_module": "@jupyter-widgets/base",
            "_view_module_version": "1.2.0",
            "_view_name": "StyleView",
            "cursor": "move"
          }
        },
        "1c2c25fd79bb4d00a91e63a05974d08b": {
          "model_module": "jupyter-leaflet",
          "model_name": "LeafletCircleModel",
          "model_module_version": "^0.18",
          "state": {
            "_model_module": "jupyter-leaflet",
            "_model_module_version": "^0.18",
            "_model_name": "LeafletCircleModel",
            "_view_count": null,
            "_view_module": "jupyter-leaflet",
            "_view_module_version": "^0.18",
            "_view_name": "LeafletCircleView",
            "base": false,
            "bottom": false,
            "color": "red",
            "dash_array": null,
            "fill": true,
            "fill_color": "red",
            "fill_opacity": 0.5,
            "line_cap": "round",
            "line_join": "round",
            "location": [
              37.584828300773886,
              127.05773316246166
            ],
            "name": "",
            "opacity": 1,
            "options": [
              "color",
              "dash_array",
              "fill",
              "fill_color",
              "fill_opacity",
              "line_cap",
              "line_join",
              "opacity",
              "pointer_events",
              "radius",
              "stroke",
              "weight"
            ],
            "pane": "",
            "pointer_events": "",
            "popup": null,
            "popup_max_height": null,
            "popup_max_width": 300,
            "popup_min_width": 50,
            "radius": 20000,
            "stroke": true,
            "subitems": [],
            "weight": 5
          }
        },
        "d4b95f05291549a8981a17160376b71c": {
          "model_module": "jupyter-leaflet",
          "model_name": "LeafletGeoJSONModel",
          "model_module_version": "^0.18",
          "state": {
            "_model_module": "jupyter-leaflet",
            "_model_module_version": "^0.18",
            "_model_name": "LeafletGeoJSONModel",
            "_view_count": null,
            "_view_module": "jupyter-leaflet",
            "_view_module_version": "^0.18",
            "_view_name": "LeafletGeoJSONView",
            "base": false,
            "bottom": false,
            "data": {
              "type": "FeatureCollection",
              "features": [
                {
                  "id": "0",
                  "type": "Feature",
                  "properties": {
                    "address_name": "서울 동대문구 전농동 591-53",
                    "category_group_code": "",
                    "category_group_name": "",
                    "category_name": "문화,예술 > 도서 > 서점 > 교보문고",
                    "distance": "891",
                    "id": "253947105",
                    "phone": "1544-1900",
                    "place_name": "교보문고 청량리점",
                    "place_url": "http://place.map.kakao.com/253947105",
                    "road_address_name": "서울 동대문구 왕산로 214",
                    "x": "127.049079477084",
                    "y": "37.5806966564292"
                  },
                  "geometry": {
                    "type": "Point",
                    "coordinates": [
                      127.049079477084,
                      37.5806966564292
                    ]
                  }
                },
                {
                  "id": "1",
                  "type": "Feature",
                  "properties": {
                    "address_name": "서울 중구 을지로6가 17-2",
                    "category_group_code": "",
                    "category_group_name": "",
                    "category_name": "문화,예술 > 도서 > 서점 > 교보문고",
                    "distance": "4756",
                    "id": "27533166",
                    "phone": "02-2283-2131",
                    "place_name": "교보문고 동대문점",
                    "place_url": "http://place.map.kakao.com/27533166",
                    "road_address_name": "",
                    "x": "127.00797671135294",
                    "y": "37.56843684371349"
                  },
                  "geometry": {
                    "type": "Point",
                    "coordinates": [
                      127.00797671135294,
                      37.56843684371349
                    ]
                  }
                },
                {
                  "id": "2",
                  "type": "Feature",
                  "properties": {
                    "address_name": "서울 광진구 자양동 227-342",
                    "category_group_code": "",
                    "category_group_name": "",
                    "category_name": "문화,예술 > 도서 > 서점 > 교보문고",
                    "distance": "5198",
                    "id": "411660590",
                    "phone": "1544-1900",
                    "place_name": "교보문고 건대스타시티점",
                    "place_url": "http://place.map.kakao.com/411660590",
                    "road_address_name": "",
                    "x": "127.07161423634196",
                    "y": "37.539308661738474"
                  },
                  "geometry": {
                    "type": "Point",
                    "coordinates": [
                      127.07161423634196,
                      37.539308661738474
                    ]
                  }
                },
                {
                  "id": "3",
                  "type": "Feature",
                  "properties": {
                    "address_name": "서울 종로구 세종로 119",
                    "category_group_code": "",
                    "category_group_name": "",
                    "category_name": "문화,예술 > 도서 > 서점 > 교보문고",
                    "distance": "7220",
                    "id": "8196057",
                    "phone": "1544-1900",
                    "place_name": "교보문고 광화문점",
                    "place_url": "http://place.map.kakao.com/8196057",
                    "road_address_name": "서울 종로구 종로 1",
                    "x": "126.977908555263",
                    "y": "37.5707974563789"
                  },
                  "geometry": {
                    "type": "Point",
                    "coordinates": [
                      126.977908555263,
                      37.5707974563789
                    ]
                  }
                },
                {
                  "id": "4",
                  "type": "Feature",
                  "properties": {
                    "address_name": "서울 강북구 번동 418-6",
                    "category_group_code": "",
                    "category_group_name": "",
                    "category_name": "문화,예술 > 도서 > 서점 > 교보문고",
                    "distance": "6543",
                    "id": "26928483",
                    "phone": "02-999-3501",
                    "place_name": "교보문고 수유점",
                    "place_url": "http://place.map.kakao.com/26928483",
                    "road_address_name": "서울 강북구 도봉로 348",
                    "x": "127.026548206045",
                    "y": "37.6383131328318"
                  },
                  "geometry": {
                    "type": "Point",
                    "coordinates": [
                      127.026548206045,
                      37.6383131328318
                    ]
                  }
                },
                {
                  "id": "5",
                  "type": "Feature",
                  "properties": {
                    "address_name": "서울 강동구 천호동 425-5",
                    "category_group_code": "",
                    "category_group_name": "",
                    "category_name": "문화,예술 > 도서 > 서점 > 교보문고",
                    "distance": "7689",
                    "id": "763711816",
                    "phone": "1544-1900",
                    "place_name": "교보문고 천호점",
                    "place_url": "http://place.map.kakao.com/763711816",
                    "road_address_name": "서울 강동구 올림픽로 664",
                    "x": "127.12472284062106",
                    "y": "37.540605199583034"
                  },
                  "geometry": {
                    "type": "Point",
                    "coordinates": [
                      127.12472284062106,
                      37.540605199583034
                    ]
                  }
                },
                {
                  "id": "6",
                  "type": "Feature",
                  "properties": {
                    "address_name": "서울 송파구 신천동 7-18",
                    "category_group_code": "",
                    "category_group_name": "",
                    "category_name": "문화,예술 > 도서 > 서점 > 교보문고",
                    "distance": "8742",
                    "id": "8196058",
                    "phone": "1544-1900",
                    "place_name": "교보문고 잠실점",
                    "place_url": "http://place.map.kakao.com/8196058",
                    "road_address_name": "서울 송파구 올림픽로 269",
                    "x": "127.10143451692626",
                    "y": "37.51415517282629"
                  },
                  "geometry": {
                    "type": "Point",
                    "coordinates": [
                      127.10143451692626,
                      37.51415517282629
                    ]
                  }
                },
                {
                  "id": "7",
                  "type": "Feature",
                  "properties": {
                    "address_name": "서울 서초구 서초동 1303-22",
                    "category_group_code": "",
                    "category_group_name": "",
                    "category_name": "문화,예술 > 도서 > 서점 > 교보문고",
                    "distance": "9478",
                    "id": "14690303",
                    "phone": "1544-1900",
                    "place_name": "교보문고 강남점",
                    "place_url": "http://place.map.kakao.com/14690303",
                    "road_address_name": "서울 서초구 강남대로 465",
                    "x": "127.02416053377571",
                    "y": "37.503718471783074"
                  },
                  "geometry": {
                    "type": "Point",
                    "coordinates": [
                      127.02416053377571,
                      37.503718471783074
                    ]
                  }
                },
                {
                  "id": "8",
                  "type": "Feature",
                  "properties": {
                    "address_name": "서울 강남구 역삼동 800",
                    "category_group_code": "",
                    "category_group_name": "",
                    "category_name": "문화,예술 > 도서 > 서점 > 교보문고",
                    "distance": "9357",
                    "id": "1229968591",
                    "phone": "1544-1900",
                    "place_name": "교보문고 신논현역스토어",
                    "place_url": "http://place.map.kakao.com/1229968591",
                    "road_address_name": "서울 강남구 봉은사로 지하 102",
                    "x": "127.025031672894",
                    "y": "37.504634612957"
                  },
                  "geometry": {
                    "type": "Point",
                    "coordinates": [
                      127.025031672894,
                      37.504634612957
                    ]
                  }
                },
                {
                  "id": "9",
                  "type": "Feature",
                  "properties": {
                    "address_name": "서울 서대문구 대현동 11-1",
                    "category_group_code": "",
                    "category_group_name": "",
                    "category_name": "문화,예술 > 도서 > 서점 > 교보문고",
                    "distance": "10141",
                    "id": "11621749",
                    "phone": "02-393-1641",
                    "place_name": "교보문고 이화여대교내서점",
                    "place_url": "http://place.map.kakao.com/11621749",
                    "road_address_name": "서울 서대문구 이화여대길 52",
                    "x": "126.9467238307828",
                    "y": "37.56154238314316"
                  },
                  "geometry": {
                    "type": "Point",
                    "coordinates": [
                      126.9467238307828,
                      37.56154238314316
                    ]
                  }
                },
                {
                  "id": "10",
                  "type": "Feature",
                  "properties": {
                    "address_name": "서울 마포구 합정동 473",
                    "category_group_code": "",
                    "category_group_name": "",
                    "category_name": "문화,예술 > 도서 > 서점 > 교보문고",
                    "distance": "13386",
                    "id": "1320932932",
                    "phone": "1544-1900",
                    "place_name": "교보문고 합정점",
                    "place_url": "http://place.map.kakao.com/1320932932",
                    "road_address_name": "서울 마포구 월드컵로3길 14",
                    "x": "126.91228338125131",
                    "y": "37.5510324090502"
                  },
                  "geometry": {
                    "type": "Point",
                    "coordinates": [
                      126.91228338125131,
                      37.5510324090502
                    ]
                  }
                },
                {
                  "id": "11",
                  "type": "Feature",
                  "properties": {
                    "address_name": "서울 영등포구 영등포동4가 442",
                    "category_group_code": "",
                    "category_group_name": "",
                    "category_name": "문화,예술 > 도서 > 서점 > 교보문고",
                    "distance": "15631",
                    "id": "11411464",
                    "phone": "1544-1900",
                    "place_name": "교보문고 영등포점",
                    "place_url": "http://place.map.kakao.com/11411464",
                    "road_address_name": "서울 영등포구 영중로 15",
                    "x": "126.902720913986",
                    "y": "37.5169734028965"
                  },
                  "geometry": {
                    "type": "Point",
                    "coordinates": [
                      126.902720913986,
                      37.5169734028965
                    ]
                  }
                },
                {
                  "id": "12",
                  "type": "Feature",
                  "properties": {
                    "address_name": "서울 양천구 목동 917-1",
                    "category_group_code": "",
                    "category_group_name": "",
                    "category_name": "문화,예술 > 도서 > 서점 > 교보문고",
                    "distance": "17337",
                    "id": "18602855",
                    "phone": "1544-1900",
                    "place_name": "교보문고 목동점",
                    "place_url": "http://place.map.kakao.com/18602855",
                    "road_address_name": "서울 양천구 목동서로 159-1",
                    "x": "126.87495536206144",
                    "y": "37.52799896377168"
                  },
                  "geometry": {
                    "type": "Point",
                    "coordinates": [
                      126.87495536206144,
                      37.52799896377168
                    ]
                  }
                },
                {
                  "id": "13",
                  "type": "Feature",
                  "properties": {
                    "address_name": "서울 송파구 문정동 634",
                    "category_group_code": "",
                    "category_group_name": "",
                    "category_name": "문화,예술 > 도서 > 서점 > 교보문고",
                    "distance": "13336",
                    "id": "460840510",
                    "phone": "02-2157-3401",
                    "place_name": "교보문고/핫트랙스 현대아울렛가든파이브점",
                    "place_url": "http://place.map.kakao.com/460840510",
                    "road_address_name": "서울 송파구 충민로 66",
                    "x": "127.12460140234379",
                    "y": "37.47710345170128"
                  },
                  "geometry": {
                    "type": "Point",
                    "coordinates": [
                      127.12460140234379,
                      37.47710345170128
                    ]
                  }
                },
                {
                  "id": "14",
                  "type": "Feature",
                  "properties": {
                    "address_name": "서울 마포구 상암동 1596",
                    "category_group_code": "",
                    "category_group_name": "",
                    "category_name": "문화,예술 > 도서 > 서점 > 교보문고",
                    "distance": "14918",
                    "id": "1402846949",
                    "phone": "1544-1900",
                    "place_name": "교보문고 이비즈니스본부",
                    "place_url": "http://place.map.kakao.com/1402846949",
                    "road_address_name": "서울 마포구 월드컵북로54길 25",
                    "x": "126.888869395142",
                    "y": "37.5821420885893"
                  },
                  "geometry": {
                    "type": "Point",
                    "coordinates": [
                      126.888869395142,
                      37.5821420885893
                    ]
                  }
                },
                {
                  "id": "15",
                  "type": "Feature",
                  "properties": {
                    "address_name": "서울 구로구 신도림동 692",
                    "category_group_code": "",
                    "category_group_name": "",
                    "category_name": "문화,예술 > 도서 > 서점 > 교보문고",
                    "distance": "17099",
                    "id": "26492544",
                    "phone": "1544-1900",
                    "place_name": "교보문고 신도림디큐브시티점",
                    "place_url": "http://place.map.kakao.com/26492544",
                    "road_address_name": "서울 구로구 경인로 662",
                    "x": "126.88937621728",
                    "y": "37.5088814570402"
                  },
                  "geometry": {
                    "type": "Point",
                    "coordinates": [
                      126.88937621728,
                      37.5088814570402
                    ]
                  }
                },
                {
                  "id": "16",
                  "type": "Feature",
                  "properties": {
                    "address_name": "서울 은평구 진관동 63",
                    "category_group_code": "",
                    "category_group_name": "",
                    "category_name": "문화,예술 > 도서 > 서점 > 교보문고",
                    "distance": "13615",
                    "id": "286237628",
                    "phone": "1544-1900",
                    "place_name": "교보문고 은평점",
                    "place_url": "http://place.map.kakao.com/286237628",
                    "road_address_name": "서울 은평구 통일로 1050",
                    "x": "126.9178874471446",
                    "y": "37.63651801162785"
                  },
                  "geometry": {
                    "type": "Point",
                    "coordinates": [
                      126.9178874471446,
                      37.63651801162785
                    ]
                  }
                },
                {
                  "id": "17",
                  "type": "Feature",
                  "properties": {
                    "address_name": "서울 관악구 신림동 산 56-1",
                    "category_group_code": "",
                    "category_group_name": "",
                    "category_name": "문화,예술 > 도서 > 서점 > 교보문고",
                    "distance": "16841",
                    "id": "11621793",
                    "phone": "02-880-8581",
                    "place_name": "교보문고 서울대교내서점",
                    "place_url": "http://place.map.kakao.com/11621793",
                    "road_address_name": "서울 관악구 관악로 1",
                    "x": "126.95057268434971",
                    "y": "37.45936204472003"
                  },
                  "geometry": {
                    "type": "Point",
                    "coordinates": [
                      126.95057268434971,
                      37.45936204472003
                    ]
                  }
                }
              ]
            },
            "hover_style": {},
            "layers": [],
            "name": "교보문고",
            "options": [],
            "pane": "",
            "point_style": {
              "radius": 7,
              "color": "darkblue",
              "fillOpacity": 0.7,
              "fillColor": "lightblue",
              "weight": 2
            },
            "popup": null,
            "popup_max_height": null,
            "popup_max_width": 300,
            "popup_min_width": 50,
            "style": {},
            "subitems": [],
            "visible": true
          }
        },
        "9f602fccdd11431c81b92144468f04b2": {
          "model_module": "@jupyter-widgets/base",
          "model_name": "LayoutModel",
          "model_module_version": "1.2.0",
          "state": {
            "_model_module": "@jupyter-widgets/base",
            "_model_module_version": "1.2.0",
            "_model_name": "LayoutModel",
            "_view_count": null,
            "_view_module": "@jupyter-widgets/base",
            "_view_module_version": "1.2.0",
            "_view_name": "LayoutView",
            "align_content": null,
            "align_items": null,
            "align_self": null,
            "border": null,
            "bottom": null,
            "display": null,
            "flex": null,
            "flex_flow": null,
            "grid_area": null,
            "grid_auto_columns": null,
            "grid_auto_flow": null,
            "grid_auto_rows": null,
            "grid_column": null,
            "grid_gap": null,
            "grid_row": null,
            "grid_template_areas": null,
            "grid_template_columns": null,
            "grid_template_rows": null,
            "height": "500px",
            "justify_content": null,
            "justify_items": null,
            "left": null,
            "margin": null,
            "max_height": null,
            "max_width": null,
            "min_height": null,
            "min_width": null,
            "object_fit": null,
            "object_position": null,
            "order": null,
            "overflow": null,
            "overflow_x": null,
            "overflow_y": null,
            "padding": null,
            "right": null,
            "top": null,
            "visibility": null,
            "width": "800px"
          }
        },
        "d054137f71ca4f62853a7cee5a0ec0d3": {
          "model_module": "jupyter-leaflet",
          "model_name": "LeafletMapStyleModel",
          "model_module_version": "^0.18",
          "state": {
            "_model_module": "jupyter-leaflet",
            "_model_module_version": "^0.18",
            "_model_name": "LeafletMapStyleModel",
            "_view_count": null,
            "_view_module": "@jupyter-widgets/base",
            "_view_module_version": "1.2.0",
            "_view_name": "StyleView",
            "cursor": "grab"
          }
        },
        "60d9d1d6de264085858e376074479ea1": {
          "model_module": "jupyter-leaflet",
          "model_name": "LeafletMapModel",
          "model_module_version": "^0.18",
          "state": {
            "_dom_classes": [],
            "_model_module": "jupyter-leaflet",
            "_model_module_version": "^0.18",
            "_model_name": "LeafletMapModel",
            "_view_count": null,
            "_view_module": "jupyter-leaflet",
            "_view_module_version": "^0.18",
            "_view_name": "LeafletMapView",
            "bottom": 6496188,
            "bounce_at_zoom_limits": true,
            "box_zoom": true,
            "center": [
              37.584828300773886,
              127.05773316246166
            ],
            "close_popup_on_click": true,
            "controls": [
              "IPY_MODEL_78edb1454e724900932bd94b86e451bf",
              "IPY_MODEL_80bd19e1f4ad45fa9ca5314b55b6fb59"
            ],
            "crs": {
              "name": "EPSG3857",
              "custom": false
            },
            "default_style": "IPY_MODEL_5fc53b3165f4478f9817193c1fa9213e",
            "double_click_zoom": true,
            "dragging": true,
            "dragging_style": "IPY_MODEL_fbc91f3d30e64bfca8cf3592c0524b06",
            "east": 127.06632614135744,
            "fullscreen": false,
            "inertia": true,
            "inertia_deceleration": 3000,
            "inertia_max_speed": 1500,
            "interpolation": "bilinear",
            "keyboard": true,
            "keyboard_pan_offset": 80,
            "keyboard_zoom_offset": 1,
            "layers": [
              "IPY_MODEL_06d201e9c4114ca7aaa6269caea728c6",
              "IPY_MODEL_575c026c5c6f4bcdadfab56b570e3caa",
              "IPY_MODEL_31abd738478e4e24a96f301b28a94cd8",
              "IPY_MODEL_c99148af70f5445bb426b8a0f86bfccb"
            ],
            "layout": "IPY_MODEL_99e6bdd93ba94e7092381163787576b1",
            "left": 14309528,
            "max_zoom": null,
            "min_zoom": null,
            "modisdate": "2024-03-22",
            "north": 37.589070951024716,
            "options": [
              "bounce_at_zoom_limits",
              "box_zoom",
              "center",
              "close_popup_on_click",
              "double_click_zoom",
              "dragging",
              "fullscreen",
              "inertia",
              "inertia_deceleration",
              "inertia_max_speed",
              "interpolation",
              "keyboard",
              "keyboard_pan_offset",
              "keyboard_zoom_offset",
              "max_zoom",
              "min_zoom",
              "prefer_canvas",
              "scroll_wheel_zoom",
              "tap",
              "tap_tolerance",
              "touch_zoom",
              "world_copy_jump",
              "zoom",
              "zoom_animation_threshold",
              "zoom_delta",
              "zoom_snap"
            ],
            "panes": {},
            "prefer_canvas": false,
            "right": 14310328,
            "scroll_wheel_zoom": false,
            "south": 37.580568871292,
            "style": "IPY_MODEL_fdb2ccbc32ef4cb788210705767b9e1f",
            "tap": true,
            "tap_tolerance": 15,
            "top": 6495688,
            "touch_zoom": true,
            "west": 127.04916000366212,
            "window_url": "https://muk1mnipkgl-496ff2e9c6d22116-0-colab.googleusercontent.com/outputframe.html?vrz=colab_20240321-060149_RC00_617803427",
            "world_copy_jump": false,
            "zoom": 16,
            "zoom_animation_threshold": 4,
            "zoom_delta": 1,
            "zoom_snap": 1
          }
        },
        "78edb1454e724900932bd94b86e451bf": {
          "model_module": "jupyter-leaflet",
          "model_name": "LeafletZoomControlModel",
          "model_module_version": "^0.18",
          "state": {
            "_model_module": "jupyter-leaflet",
            "_model_module_version": "^0.18",
            "_model_name": "LeafletZoomControlModel",
            "_view_count": null,
            "_view_module": "jupyter-leaflet",
            "_view_module_version": "^0.18",
            "_view_name": "LeafletZoomControlView",
            "options": [
              "position",
              "zoom_in_text",
              "zoom_in_title",
              "zoom_out_text",
              "zoom_out_title"
            ],
            "position": "topleft",
            "zoom_in_text": "+",
            "zoom_in_title": "Zoom in",
            "zoom_out_text": "-",
            "zoom_out_title": "Zoom out"
          }
        },
        "80bd19e1f4ad45fa9ca5314b55b6fb59": {
          "model_module": "jupyter-leaflet",
          "model_name": "LeafletAttributionControlModel",
          "model_module_version": "^0.18",
          "state": {
            "_model_module": "jupyter-leaflet",
            "_model_module_version": "^0.18",
            "_model_name": "LeafletAttributionControlModel",
            "_view_count": null,
            "_view_module": "jupyter-leaflet",
            "_view_module_version": "^0.18",
            "_view_name": "LeafletAttributionControlView",
            "options": [
              "position",
              "prefix"
            ],
            "position": "bottomright",
            "prefix": "ipyleaflet"
          }
        },
        "5fc53b3165f4478f9817193c1fa9213e": {
          "model_module": "jupyter-leaflet",
          "model_name": "LeafletMapStyleModel",
          "model_module_version": "^0.18",
          "state": {
            "_model_module": "jupyter-leaflet",
            "_model_module_version": "^0.18",
            "_model_name": "LeafletMapStyleModel",
            "_view_count": null,
            "_view_module": "@jupyter-widgets/base",
            "_view_module_version": "1.2.0",
            "_view_name": "StyleView",
            "cursor": "grab"
          }
        },
        "fbc91f3d30e64bfca8cf3592c0524b06": {
          "model_module": "jupyter-leaflet",
          "model_name": "LeafletMapStyleModel",
          "model_module_version": "^0.18",
          "state": {
            "_model_module": "jupyter-leaflet",
            "_model_module_version": "^0.18",
            "_model_name": "LeafletMapStyleModel",
            "_view_count": null,
            "_view_module": "@jupyter-widgets/base",
            "_view_module_version": "1.2.0",
            "_view_name": "StyleView",
            "cursor": "move"
          }
        },
        "31abd738478e4e24a96f301b28a94cd8": {
          "model_module": "jupyter-leaflet",
          "model_name": "LeafletCircleModel",
          "model_module_version": "^0.18",
          "state": {
            "_model_module": "jupyter-leaflet",
            "_model_module_version": "^0.18",
            "_model_name": "LeafletCircleModel",
            "_view_count": null,
            "_view_module": "jupyter-leaflet",
            "_view_module_version": "^0.18",
            "_view_name": "LeafletCircleView",
            "base": false,
            "bottom": false,
            "color": "red",
            "dash_array": null,
            "fill": true,
            "fill_color": "red",
            "fill_opacity": 0.5,
            "line_cap": "round",
            "line_join": "round",
            "location": [
              37.584828300773886,
              127.05773316246166
            ],
            "name": "",
            "opacity": 1,
            "options": [
              "color",
              "dash_array",
              "fill",
              "fill_color",
              "fill_opacity",
              "line_cap",
              "line_join",
              "opacity",
              "pointer_events",
              "radius",
              "stroke",
              "weight"
            ],
            "pane": "",
            "pointer_events": "",
            "popup": null,
            "popup_max_height": null,
            "popup_max_width": 300,
            "popup_min_width": 50,
            "radius": 500,
            "stroke": true,
            "subitems": [],
            "weight": 5
          }
        },
        "c99148af70f5445bb426b8a0f86bfccb": {
          "model_module": "jupyter-leaflet",
          "model_name": "LeafletGeoJSONModel",
          "model_module_version": "^0.18",
          "state": {
            "_model_module": "jupyter-leaflet",
            "_model_module_version": "^0.18",
            "_model_name": "LeafletGeoJSONModel",
            "_view_count": null,
            "_view_module": "jupyter-leaflet",
            "_view_module_version": "^0.18",
            "_view_name": "LeafletGeoJSONView",
            "base": false,
            "bottom": false,
            "data": {
              "type": "FeatureCollection",
              "features": [
                {
                  "id": "0",
                  "type": "Feature",
                  "properties": {
                    "address_name": "서울 동대문구 휘경동 302-2",
                    "category_group_code": "PS3",
                    "category_group_name": "어린이집,유치원",
                    "category_name": "교육,학문 > 유아교육 > 유치원",
                    "distance": "182",
                    "id": "10487569",
                    "phone": "02-2242-0354",
                    "place_name": "서울휘경유치원",
                    "place_url": "http://place.map.kakao.com/10487569",
                    "road_address_name": "서울 동대문구 망우로6길 48",
                    "x": "127.057072023037",
                    "y": "37.586380132083"
                  },
                  "geometry": {
                    "type": "Point",
                    "coordinates": [
                      127.057072023037,
                      37.586380132083
                    ]
                  }
                },
                {
                  "id": "1",
                  "type": "Feature",
                  "properties": {
                    "address_name": "서울 동대문구 휘경동 380",
                    "category_group_code": "PS3",
                    "category_group_name": "어린이집,유치원",
                    "category_name": "교육,학문 > 유아교육 > 어린이집",
                    "distance": "447",
                    "id": "21655642",
                    "phone": "02-2243-2831",
                    "place_name": "휘경어린이집",
                    "place_url": "http://place.map.kakao.com/21655642",
                    "road_address_name": "서울 동대문구 망우로 46",
                    "x": "127.05879144938042",
                    "y": "37.58876601763209"
                  },
                  "geometry": {
                    "type": "Point",
                    "coordinates": [
                      127.05879144938042,
                      37.58876601763209
                    ]
                  }
                },
                {
                  "id": "2",
                  "type": "Feature",
                  "properties": {
                    "address_name": "서울 동대문구 전농동 103-53",
                    "category_group_code": "PS3",
                    "category_group_name": "어린이집,유치원",
                    "category_name": "교육,학문 > 유아교육 > 어린이집",
                    "distance": "334",
                    "id": "18536865",
                    "phone": "02-2213-7974",
                    "place_name": "꿈마루어린이집",
                    "place_url": "http://place.map.kakao.com/18536865",
                    "road_address_name": "서울 동대문구 전농로36길 29-3",
                    "x": "127.05403934399568",
                    "y": "37.58549047747335"
                  },
                  "geometry": {
                    "type": "Point",
                    "coordinates": [
                      127.05403934399568,
                      37.58549047747335
                    ]
                  }
                },
                {
                  "id": "3",
                  "type": "Feature",
                  "properties": {
                    "address_name": "서울 동대문구 전농동 694",
                    "category_group_code": "PS3",
                    "category_group_name": "어린이집,유치원",
                    "category_name": "교육,학문 > 유아교육 > 어린이집",
                    "distance": "14",
                    "id": "1388625905",
                    "phone": "02-2213-9566",
                    "place_name": "서울시립대학교 직장어린이집",
                    "place_url": "http://place.map.kakao.com/1388625905",
                    "road_address_name": "서울 동대문구 서울시립대로 163",
                    "x": "127.05771854223894",
                    "y": "37.584955347939754"
                  },
                  "geometry": {
                    "type": "Point",
                    "coordinates": [
                      127.05771854223894,
                      37.584955347939754
                    ]
                  }
                },
                {
                  "id": "4",
                  "type": "Feature",
                  "properties": {
                    "address_name": "서울 동대문구 휘경동 282-6",
                    "category_group_code": "PS3",
                    "category_group_name": "어린이집,유치원",
                    "category_name": "교육,학문 > 유아교육 > 어린이집",
                    "distance": "482",
                    "id": "12144504",
                    "phone": "02-2244-9118",
                    "place_name": "동화어린이집",
                    "place_url": "http://place.map.kakao.com/12144504",
                    "road_address_name": "서울 동대문구 망우로12가길 20",
                    "x": "127.060280267993",
                    "y": "37.5886742664592"
                  },
                  "geometry": {
                    "type": "Point",
                    "coordinates": [
                      127.060280267993,
                      37.5886742664592
                    ]
                  }
                },
                {
                  "id": "5",
                  "type": "Feature",
                  "properties": {
                    "address_name": "서울 동대문구 휘경동 343-4",
                    "category_group_code": "PS3",
                    "category_group_name": "어린이집,유치원",
                    "category_name": "교육,학문 > 유아교육 > 어린이집",
                    "distance": "479",
                    "id": "27372783",
                    "phone": "02-967-0006",
                    "place_name": "새하늘어린이집",
                    "place_url": "http://place.map.kakao.com/27372783",
                    "road_address_name": "서울 동대문구 왕산로 312",
                    "x": "127.053662772121",
                    "y": "37.5876899726404"
                  },
                  "geometry": {
                    "type": "Point",
                    "coordinates": [
                      127.053662772121,
                      37.5876899726404
                    ]
                  }
                },
                {
                  "id": "6",
                  "type": "Feature",
                  "properties": {
                    "address_name": "서울 동대문구 전농동 188",
                    "category_group_code": "PS3",
                    "category_group_name": "어린이집,유치원",
                    "category_name": "교육,학문 > 유아교육 > 유치원",
                    "distance": "482",
                    "id": "1843099523",
                    "phone": "02-2244-3254",
                    "place_name": "서울전곡초등학교 병설유치원",
                    "place_url": "http://place.map.kakao.com/1843099523",
                    "road_address_name": "서울 동대문구 전농로 172",
                    "x": "127.056012558496",
                    "y": "37.5807043821985"
                  },
                  "geometry": {
                    "type": "Point",
                    "coordinates": [
                      127.056012558496,
                      37.5807043821985
                    ]
                  }
                },
                {
                  "id": "7",
                  "type": "Feature",
                  "properties": {
                    "address_name": "서울 동대문구 전농동 155",
                    "category_group_code": "PS3",
                    "category_group_name": "어린이집,유치원",
                    "category_name": "교육,학문 > 유아교육 > 어린이집",
                    "distance": "411",
                    "id": "15490761",
                    "phone": "02-2212-1212",
                    "place_name": "삼성영재어린이집",
                    "place_url": "http://place.map.kakao.com/15490761",
                    "road_address_name": "서울 동대문구 전농로 192",
                    "x": "127.056420546966",
                    "y": "37.5812700118988"
                  },
                  "geometry": {
                    "type": "Point",
                    "coordinates": [
                      127.056420546966,
                      37.5812700118988
                    ]
                  }
                }
              ]
            },
            "hover_style": {},
            "layers": [],
            "name": "어린이집, 유치원",
            "options": [],
            "pane": "",
            "point_style": {
              "radius": 7,
              "color": "darkblue",
              "fillOpacity": 0.7,
              "fillColor": "lightblue",
              "weight": 2
            },
            "popup": null,
            "popup_max_height": null,
            "popup_max_width": 300,
            "popup_min_width": 50,
            "style": {},
            "subitems": [],
            "visible": true
          }
        },
        "99e6bdd93ba94e7092381163787576b1": {
          "model_module": "@jupyter-widgets/base",
          "model_name": "LayoutModel",
          "model_module_version": "1.2.0",
          "state": {
            "_model_module": "@jupyter-widgets/base",
            "_model_module_version": "1.2.0",
            "_model_name": "LayoutModel",
            "_view_count": null,
            "_view_module": "@jupyter-widgets/base",
            "_view_module_version": "1.2.0",
            "_view_name": "LayoutView",
            "align_content": null,
            "align_items": null,
            "align_self": null,
            "border": null,
            "bottom": null,
            "display": null,
            "flex": null,
            "flex_flow": null,
            "grid_area": null,
            "grid_auto_columns": null,
            "grid_auto_flow": null,
            "grid_auto_rows": null,
            "grid_column": null,
            "grid_gap": null,
            "grid_row": null,
            "grid_template_areas": null,
            "grid_template_columns": null,
            "grid_template_rows": null,
            "height": "500px",
            "justify_content": null,
            "justify_items": null,
            "left": null,
            "margin": null,
            "max_height": null,
            "max_width": null,
            "min_height": null,
            "min_width": null,
            "object_fit": null,
            "object_position": null,
            "order": null,
            "overflow": null,
            "overflow_x": null,
            "overflow_y": null,
            "padding": null,
            "right": null,
            "top": null,
            "visibility": null,
            "width": "800px"
          }
        },
        "fdb2ccbc32ef4cb788210705767b9e1f": {
          "model_module": "jupyter-leaflet",
          "model_name": "LeafletMapStyleModel",
          "model_module_version": "^0.18",
          "state": {
            "_model_module": "jupyter-leaflet",
            "_model_module_version": "^0.18",
            "_model_name": "LeafletMapStyleModel",
            "_view_count": null,
            "_view_module": "@jupyter-widgets/base",
            "_view_module_version": "1.2.0",
            "_view_name": "StyleView",
            "cursor": "grab"
          }
        },
        "3f35387894d24136ab35c88030f52e57": {
          "model_module": "jupyter-leaflet",
          "model_name": "LeafletMapModel",
          "model_module_version": "^0.18",
          "state": {
            "_dom_classes": [],
            "_model_module": "jupyter-leaflet",
            "_model_module_version": "^0.18",
            "_model_name": "LeafletMapModel",
            "_view_count": null,
            "_view_module": "jupyter-leaflet",
            "_view_module_version": "^0.18",
            "_view_name": "LeafletMapView",
            "bottom": 1624234,
            "bounce_at_zoom_limits": true,
            "box_zoom": true,
            "center": [
              37.584828300773886,
              127.05773316246166
            ],
            "close_popup_on_click": true,
            "controls": [
              "IPY_MODEL_27719255348c4695a2d27dda529a0b32",
              "IPY_MODEL_cbfda5d9c3a543e89f736a8a8be5c7da"
            ],
            "crs": {
              "name": "EPSG3857",
              "custom": false
            },
            "default_style": "IPY_MODEL_ac7391ee1079439ab0d451b36988a15a",
            "double_click_zoom": true,
            "dragging": true,
            "dragging_style": "IPY_MODEL_e5c51a7e463c400b8ce68452a0ba5194",
            "east": 127.0920753479004,
            "fullscreen": false,
            "inertia": true,
            "inertia_deceleration": 3000,
            "inertia_max_speed": 1500,
            "interpolation": "bilinear",
            "keyboard": true,
            "keyboard_pan_offset": 80,
            "keyboard_zoom_offset": 1,
            "layers": [
              "IPY_MODEL_06d201e9c4114ca7aaa6269caea728c6",
              "IPY_MODEL_575c026c5c6f4bcdadfab56b570e3caa",
              "IPY_MODEL_a980b8e5cf0643fc93b63964c63c9a04",
              "IPY_MODEL_c3c03ea764774b85acc094b759215f04"
            ],
            "layout": "IPY_MODEL_0f8faf048cc14b1e8381f5ade7ae6974",
            "left": 3577082,
            "max_zoom": null,
            "min_zoom": null,
            "modisdate": "2024-03-22",
            "north": 37.601856250363355,
            "options": [
              "bounce_at_zoom_limits",
              "box_zoom",
              "center",
              "close_popup_on_click",
              "double_click_zoom",
              "dragging",
              "fullscreen",
              "inertia",
              "inertia_deceleration",
              "inertia_max_speed",
              "interpolation",
              "keyboard",
              "keyboard_pan_offset",
              "keyboard_zoom_offset",
              "max_zoom",
              "min_zoom",
              "prefer_canvas",
              "scroll_wheel_zoom",
              "tap",
              "tap_tolerance",
              "touch_zoom",
              "world_copy_jump",
              "zoom",
              "zoom_animation_threshold",
              "zoom_delta",
              "zoom_snap"
            ],
            "panes": {},
            "prefer_canvas": false,
            "right": 3577882,
            "scroll_wheel_zoom": false,
            "south": 37.56784794715994,
            "style": "IPY_MODEL_6e6e15d79fd74bb0b96480b534c257e4",
            "tap": true,
            "tap_tolerance": 15,
            "top": 1623734,
            "touch_zoom": true,
            "west": 127.02341079711915,
            "window_url": "https://muk1mnipkgl-496ff2e9c6d22116-0-colab.googleusercontent.com/outputframe.html?vrz=colab_20240321-060149_RC00_617803427",
            "world_copy_jump": false,
            "zoom": 14,
            "zoom_animation_threshold": 4,
            "zoom_delta": 1,
            "zoom_snap": 1
          }
        },
        "27719255348c4695a2d27dda529a0b32": {
          "model_module": "jupyter-leaflet",
          "model_name": "LeafletZoomControlModel",
          "model_module_version": "^0.18",
          "state": {
            "_model_module": "jupyter-leaflet",
            "_model_module_version": "^0.18",
            "_model_name": "LeafletZoomControlModel",
            "_view_count": null,
            "_view_module": "jupyter-leaflet",
            "_view_module_version": "^0.18",
            "_view_name": "LeafletZoomControlView",
            "options": [
              "position",
              "zoom_in_text",
              "zoom_in_title",
              "zoom_out_text",
              "zoom_out_title"
            ],
            "position": "topleft",
            "zoom_in_text": "+",
            "zoom_in_title": "Zoom in",
            "zoom_out_text": "-",
            "zoom_out_title": "Zoom out"
          }
        },
        "cbfda5d9c3a543e89f736a8a8be5c7da": {
          "model_module": "jupyter-leaflet",
          "model_name": "LeafletAttributionControlModel",
          "model_module_version": "^0.18",
          "state": {
            "_model_module": "jupyter-leaflet",
            "_model_module_version": "^0.18",
            "_model_name": "LeafletAttributionControlModel",
            "_view_count": null,
            "_view_module": "jupyter-leaflet",
            "_view_module_version": "^0.18",
            "_view_name": "LeafletAttributionControlView",
            "options": [
              "position",
              "prefix"
            ],
            "position": "bottomright",
            "prefix": "ipyleaflet"
          }
        },
        "ac7391ee1079439ab0d451b36988a15a": {
          "model_module": "jupyter-leaflet",
          "model_name": "LeafletMapStyleModel",
          "model_module_version": "^0.18",
          "state": {
            "_model_module": "jupyter-leaflet",
            "_model_module_version": "^0.18",
            "_model_name": "LeafletMapStyleModel",
            "_view_count": null,
            "_view_module": "@jupyter-widgets/base",
            "_view_module_version": "1.2.0",
            "_view_name": "StyleView",
            "cursor": "grab"
          }
        },
        "e5c51a7e463c400b8ce68452a0ba5194": {
          "model_module": "jupyter-leaflet",
          "model_name": "LeafletMapStyleModel",
          "model_module_version": "^0.18",
          "state": {
            "_model_module": "jupyter-leaflet",
            "_model_module_version": "^0.18",
            "_model_name": "LeafletMapStyleModel",
            "_view_count": null,
            "_view_module": "@jupyter-widgets/base",
            "_view_module_version": "1.2.0",
            "_view_name": "StyleView",
            "cursor": "move"
          }
        },
        "a980b8e5cf0643fc93b63964c63c9a04": {
          "model_module": "jupyter-leaflet",
          "model_name": "LeafletRectangleModel",
          "model_module_version": "^0.18",
          "state": {
            "_model_module": "jupyter-leaflet",
            "_model_module_version": "^0.18",
            "_model_name": "LeafletRectangleModel",
            "_view_count": null,
            "_view_module": "jupyter-leaflet",
            "_view_module_version": "^0.18",
            "_view_name": "LeafletRectangleView",
            "base": false,
            "bottom": false,
            "bounds": [
              [
                37.5938114125238,
                127.03506145225234
              ],
              [
                37.57584518902397,
                127.08040487267098
              ]
            ],
            "color": "red",
            "dash_array": null,
            "draggable": false,
            "fill": true,
            "fill_color": null,
            "fill_opacity": 0.2,
            "line_cap": "round",
            "line_join": "round",
            "locations": [],
            "name": "",
            "no_clip": true,
            "opacity": 1,
            "options": [
              "color",
              "dash_array",
              "draggable",
              "fill",
              "fill_color",
              "fill_opacity",
              "line_cap",
              "line_join",
              "no_clip",
              "opacity",
              "pointer_events",
              "smooth_factor",
              "stroke",
              "transform",
              "weight"
            ],
            "pane": "",
            "pointer_events": "",
            "popup": null,
            "popup_max_height": null,
            "popup_max_width": 300,
            "popup_min_width": 50,
            "rotation": true,
            "scaling": true,
            "smooth_factor": 1,
            "stroke": true,
            "subitems": [],
            "transform": false,
            "uniform_scaling": false,
            "weight": 5
          }
        },
        "c3c03ea764774b85acc094b759215f04": {
          "model_module": "jupyter-leaflet",
          "model_name": "LeafletGeoJSONModel",
          "model_module_version": "^0.18",
          "state": {
            "_model_module": "jupyter-leaflet",
            "_model_module_version": "^0.18",
            "_model_name": "LeafletGeoJSONModel",
            "_view_count": null,
            "_view_module": "jupyter-leaflet",
            "_view_module_version": "^0.18",
            "_view_name": "LeafletGeoJSONView",
            "base": false,
            "bottom": false,
            "data": {
              "type": "FeatureCollection",
              "features": [
                {
                  "id": "0",
                  "type": "Feature",
                  "properties": {
                    "address_name": "서울 동대문구 전농동 694",
                    "category_group_code": "SC4",
                    "category_group_name": "학교",
                    "category_name": "교육,학문 > 학교 > 대학교",
                    "distance": "",
                    "id": "10498806",
                    "phone": "02-6490-6114",
                    "place_name": "서울시립대학교",
                    "place_url": "http://place.map.kakao.com/10498806",
                    "road_address_name": "서울 동대문구 서울시립대로 163",
                    "x": "127.05773316246166",
                    "y": "37.584828300773886"
                  },
                  "geometry": {
                    "type": "Point",
                    "coordinates": [
                      127.05773316246166,
                      37.584828300773886
                    ]
                  }
                },
                {
                  "id": "1",
                  "type": "Feature",
                  "properties": {
                    "address_name": "서울 동대문구 청량리동 207-43",
                    "category_group_code": "SC4",
                    "category_group_name": "학교",
                    "category_name": "교육,학문 > 학교 > 대학교",
                    "distance": "",
                    "id": "17384594",
                    "phone": "",
                    "place_name": "KAIST 서울캠퍼스",
                    "place_url": "http://place.map.kakao.com/17384594",
                    "road_address_name": "서울 동대문구 회기로 85",
                    "x": "127.04669593138594",
                    "y": "37.5926754214934"
                  },
                  "geometry": {
                    "type": "Point",
                    "coordinates": [
                      127.04669593138594,
                      37.5926754214934
                    ]
                  }
                },
                {
                  "id": "2",
                  "type": "Feature",
                  "properties": {
                    "address_name": "서울 중랑구 면목동 192-1",
                    "category_group_code": "SC4",
                    "category_group_name": "학교",
                    "category_name": "교육,학문 > 학교 > 초등학교",
                    "distance": "",
                    "id": "7935892",
                    "phone": "02-437-4147",
                    "place_name": "서울중랑초등학교",
                    "place_url": "http://place.map.kakao.com/7935892",
                    "road_address_name": "서울 중랑구 봉우재로6길 26",
                    "x": "127.075444124256",
                    "y": "37.5896133922662"
                  },
                  "geometry": {
                    "type": "Point",
                    "coordinates": [
                      127.075444124256,
                      37.5896133922662
                    ]
                  }
                },
                {
                  "id": "3",
                  "type": "Feature",
                  "properties": {
                    "address_name": "서울 동대문구 휘경동 43-7",
                    "category_group_code": "SC4",
                    "category_group_name": "학교",
                    "category_name": "교육,학문 > 학교 > 고등학교",
                    "distance": "",
                    "id": "11198634",
                    "phone": "02-2244-8925",
                    "place_name": "휘경여자고등학교",
                    "place_url": "http://place.map.kakao.com/11198634",
                    "road_address_name": "서울 동대문구 한천로 247",
                    "x": "127.067336617711",
                    "y": "37.5839276260158"
                  },
                  "geometry": {
                    "type": "Point",
                    "coordinates": [
                      127.067336617711,
                      37.5839276260158
                    ]
                  }
                },
                {
                  "id": "4",
                  "type": "Feature",
                  "properties": {
                    "address_name": "서울 동대문구 회기동 1-1",
                    "category_group_code": "SC4",
                    "category_group_name": "학교",
                    "category_name": "교육,학문 > 학교 > 초등학교",
                    "distance": "",
                    "id": "7936206",
                    "phone": "02-962-1341",
                    "place_name": "서울청량초등학교",
                    "place_url": "http://place.map.kakao.com/7936206",
                    "road_address_name": "서울 동대문구 회기로25길 31",
                    "x": "127.055944045936",
                    "y": "37.5920244882738"
                  },
                  "geometry": {
                    "type": "Point",
                    "coordinates": [
                      127.055944045936,
                      37.5920244882738
                    ]
                  }
                },
                {
                  "id": "5",
                  "type": "Feature",
                  "properties": {
                    "address_name": "서울 동대문구 제기동 678",
                    "category_group_code": "SC4",
                    "category_group_name": "학교",
                    "category_name": "교육,학문 > 학교 > 초등학교",
                    "distance": "",
                    "id": "7936102",
                    "phone": "02-967-8161",
                    "place_name": "서울홍파초등학교",
                    "place_url": "http://place.map.kakao.com/7936102",
                    "road_address_name": "서울 동대문구 고산자로 518",
                    "x": "127.039391444512",
                    "y": "37.5861567023354"
                  },
                  "geometry": {
                    "type": "Point",
                    "coordinates": [
                      127.039391444512,
                      37.5861567023354
                    ]
                  }
                },
                {
                  "id": "6",
                  "type": "Feature",
                  "properties": {
                    "address_name": "서울 동대문구 휘경동 49-327",
                    "category_group_code": "SC4",
                    "category_group_name": "학교",
                    "category_name": "교육,학문 > 학교 > 고등학교 > 특성화고등학교",
                    "distance": "",
                    "id": "10963521",
                    "phone": "02-2216-3643",
                    "place_name": "휘경공업고등학교",
                    "place_url": "http://place.map.kakao.com/10963521",
                    "road_address_name": "서울 동대문구 겸재로 21",
                    "x": "127.0694571333",
                    "y": "37.5851157081199"
                  },
                  "geometry": {
                    "type": "Point",
                    "coordinates": [
                      127.0694571333,
                      37.5851157081199
                    ]
                  }
                },
                {
                  "id": "7",
                  "type": "Feature",
                  "properties": {
                    "address_name": "서울 동대문구 휘경동 286-66",
                    "category_group_code": "SC4",
                    "category_group_name": "학교",
                    "category_name": "교육,학문 > 학교 > 중학교",
                    "distance": "",
                    "id": "8177475",
                    "phone": "02-2244-1359",
                    "place_name": "휘경중학교",
                    "place_url": "http://place.map.kakao.com/8177475",
                    "road_address_name": "서울 동대문구 망우로18나길 20",
                    "x": "127.062058823168",
                    "y": "37.5870839939152"
                  },
                  "geometry": {
                    "type": "Point",
                    "coordinates": [
                      127.062058823168,
                      37.5870839939152
                    ]
                  }
                },
                {
                  "id": "8",
                  "type": "Feature",
                  "properties": {
                    "address_name": "서울 성북구 종암동 7-10",
                    "category_group_code": "SC4",
                    "category_group_name": "학교",
                    "category_name": "교육,학문 > 학교 > 고등학교",
                    "distance": "",
                    "id": "7942553",
                    "phone": "02-913-7306",
                    "place_name": "서울대학교사범대학 부설고등학교",
                    "place_url": "http://place.map.kakao.com/7942553",
                    "road_address_name": "서울 성북구 월곡로 6",
                    "x": "127.03861641440025",
                    "y": "37.59374871965702"
                  },
                  "geometry": {
                    "type": "Point",
                    "coordinates": [
                      127.03861641440025,
                      37.59374871965702
                    ]
                  }
                },
                {
                  "id": "9",
                  "type": "Feature",
                  "properties": {
                    "address_name": "서울 동대문구 장안동 328",
                    "category_group_code": "SC4",
                    "category_group_name": "학교",
                    "category_name": "교육,학문 > 학교 > 고등학교",
                    "distance": "",
                    "id": "11096573",
                    "phone": "02-6913-1578",
                    "place_name": "동국대학교 사범대학 부속고등학교",
                    "place_url": "http://place.map.kakao.com/11096573",
                    "road_address_name": "서울 동대문구 장안벚꽃로 201",
                    "x": "127.074626416845",
                    "y": "37.5780487645908"
                  },
                  "geometry": {
                    "type": "Point",
                    "coordinates": [
                      127.074626416845,
                      37.5780487645908
                    ]
                  }
                },
                {
                  "id": "10",
                  "type": "Feature",
                  "properties": {
                    "address_name": "서울 동대문구 청량리동 7",
                    "category_group_code": "SC4",
                    "category_group_name": "학교",
                    "category_name": "교육,학문 > 학교 > 고등학교",
                    "distance": "",
                    "id": "8099015",
                    "phone": "02-959-4362",
                    "place_name": "청량고등학교",
                    "place_url": "http://place.map.kakao.com/8099015",
                    "road_address_name": "서울 동대문구 왕산로 303",
                    "x": "127.05098469716769",
                    "y": "37.58880568754215"
                  },
                  "geometry": {
                    "type": "Point",
                    "coordinates": [
                      127.05098469716769,
                      37.58880568754215
                    ]
                  }
                },
                {
                  "id": "11",
                  "type": "Feature",
                  "properties": {
                    "address_name": "서울 동대문구 장안동 328",
                    "category_group_code": "SC4",
                    "category_group_name": "학교",
                    "category_name": "교육,학문 > 학교 > 초등학교",
                    "distance": "",
                    "id": "7941702",
                    "phone": "02-6937-8180",
                    "place_name": "은석초등학교",
                    "place_url": "http://place.map.kakao.com/7941702",
                    "road_address_name": "서울 동대문구 장안벚꽃로 205",
                    "x": "127.075749978849",
                    "y": "37.5785850413515"
                  },
                  "geometry": {
                    "type": "Point",
                    "coordinates": [
                      127.075749978849,
                      37.5785850413515
                    ]
                  }
                },
                {
                  "id": "12",
                  "type": "Feature",
                  "properties": {
                    "address_name": "서울 동대문구 전농동 188",
                    "category_group_code": "SC4",
                    "category_group_name": "학교",
                    "category_name": "교육,학문 > 학교 > 초등학교",
                    "distance": "",
                    "id": "10482134",
                    "phone": "02-2242-6548",
                    "place_name": "서울전곡초등학교",
                    "place_url": "http://place.map.kakao.com/10482134",
                    "road_address_name": "서울 동대문구 전농로 172",
                    "x": "127.056506024554",
                    "y": "37.5805239482807"
                  },
                  "geometry": {
                    "type": "Point",
                    "coordinates": [
                      127.056506024554,
                      37.5805239482807
                    ]
                  }
                },
                {
                  "id": "13",
                  "type": "Feature",
                  "properties": {
                    "address_name": "서울 동대문구 전농동 90-3",
                    "category_group_code": "SC4",
                    "category_group_name": "학교",
                    "category_name": "교육,학문 > 학교 > 고등학교",
                    "distance": "",
                    "id": "11427311",
                    "phone": "070-7860-7100",
                    "place_name": "해성여자고등학교",
                    "place_url": "http://place.map.kakao.com/11427311",
                    "road_address_name": "서울 동대문구 전농로20길 31",
                    "x": "127.0571085010964",
                    "y": "37.58077593657807"
                  },
                  "geometry": {
                    "type": "Point",
                    "coordinates": [
                      127.0571085010964,
                      37.58077593657807
                    ]
                  }
                },
                {
                  "id": "14",
                  "type": "Feature",
                  "properties": {
                    "address_name": "서울 동대문구 전농동 678-3",
                    "category_group_code": "SC4",
                    "category_group_name": "학교",
                    "category_name": "교육,학문 > 학교 > 고등학교",
                    "distance": "",
                    "id": "8601928",
                    "phone": "02-2212-3166",
                    "place_name": "청량정보고등학교",
                    "place_url": "http://place.map.kakao.com/8601928",
                    "road_address_name": "서울 동대문구 답십리로15길 32",
                    "x": "127.047669259945",
                    "y": "37.5777708060603"
                  },
                  "geometry": {
                    "type": "Point",
                    "coordinates": [
                      127.047669259945,
                      37.5777708060603
                    ]
                  }
                },
                {
                  "id": "15",
                  "type": "Feature",
                  "properties": {
                    "address_name": "서울 동대문구 회기동 102-48",
                    "category_group_code": "SC4",
                    "category_group_name": "학교",
                    "category_name": "교육,학문 > 학교 > 초등학교",
                    "distance": "",
                    "id": "7934817",
                    "phone": "02-966-4859",
                    "place_name": "서울삼육초등학교",
                    "place_url": "http://place.map.kakao.com/7934817",
                    "road_address_name": "서울 동대문구 회기로10길 63",
                    "x": "127.047631016606",
                    "y": "37.5888206033755"
                  },
                  "geometry": {
                    "type": "Point",
                    "coordinates": [
                      127.047631016606,
                      37.5888206033755
                    ]
                  }
                },
                {
                  "id": "16",
                  "type": "Feature",
                  "properties": {
                    "address_name": "서울 동대문구 제기동 293",
                    "category_group_code": "SC4",
                    "category_group_name": "학교",
                    "category_name": "교육,학문 > 학교 > 고등학교 > 특성화고등학교",
                    "distance": "",
                    "id": "14657225",
                    "phone": "02-960-1495",
                    "place_name": "서울정화고등학교",
                    "place_url": "http://place.map.kakao.com/14657225",
                    "road_address_name": "서울 동대문구 홍릉로15길 50",
                    "x": "127.040795287521",
                    "y": "37.5860048586976"
                  },
                  "geometry": {
                    "type": "Point",
                    "coordinates": [
                      127.040795287521,
                      37.5860048586976
                    ]
                  }
                },
                {
                  "id": "17",
                  "type": "Feature",
                  "properties": {
                    "address_name": "서울 동대문구 전농동 3-111",
                    "category_group_code": "SC4",
                    "category_group_name": "학교",
                    "category_name": "교육,학문 > 학교 > 초등학교",
                    "distance": "",
                    "id": "7935908",
                    "phone": "02-2243-6502",
                    "place_name": "서울배봉초등학교",
                    "place_url": "http://place.map.kakao.com/7935908",
                    "road_address_name": "서울 동대문구 사가정로 193",
                    "x": "127.066183152",
                    "y": "37.5803279087154"
                  },
                  "geometry": {
                    "type": "Point",
                    "coordinates": [
                      127.066183152,
                      37.5803279087154
                    ]
                  }
                },
                {
                  "id": "18",
                  "type": "Feature",
                  "properties": {
                    "address_name": "서울 동대문구 청량리동 14",
                    "category_group_code": "SC4",
                    "category_group_name": "학교",
                    "category_name": "교육,학문 > 학교 > 중학교",
                    "distance": "",
                    "id": "9469622",
                    "phone": "02-966-4284",
                    "place_name": "청량중학교",
                    "place_url": "http://place.map.kakao.com/9469622",
                    "road_address_name": "서울 동대문구 왕산로 301",
                    "x": "127.051099679744",
                    "y": "37.5880659229738"
                  },
                  "geometry": {
                    "type": "Point",
                    "coordinates": [
                      127.051099679744,
                      37.5880659229738
                    ]
                  }
                },
                {
                  "id": "19",
                  "type": "Feature",
                  "properties": {
                    "address_name": "서울 동대문구 휘경동 49-295",
                    "category_group_code": "SC4",
                    "category_group_name": "학교",
                    "category_name": "교육,학문 > 학교 > 중학교",
                    "distance": "",
                    "id": "8538904",
                    "phone": "02-2212-9265",
                    "place_name": "전동중학교",
                    "place_url": "http://place.map.kakao.com/8538904",
                    "road_address_name": "서울 동대문구 장안벚꽃로 291",
                    "x": "127.071069682159",
                    "y": "37.5854535215831"
                  },
                  "geometry": {
                    "type": "Point",
                    "coordinates": [
                      127.071069682159,
                      37.5854535215831
                    ]
                  }
                },
                {
                  "id": "20",
                  "type": "Feature",
                  "properties": {
                    "address_name": "서울 동대문구 전농동 45-41",
                    "category_group_code": "SC4",
                    "category_group_name": "학교",
                    "category_name": "교육,학문 > 학교 > 초등학교",
                    "distance": "",
                    "id": "7937288",
                    "phone": "02-2214-6574",
                    "place_name": "서울전동초등학교",
                    "place_url": "http://place.map.kakao.com/7937288",
                    "road_address_name": "서울 동대문구 전농로16길 61",
                    "x": "127.06149550321929",
                    "y": "37.57946008382418"
                  },
                  "geometry": {
                    "type": "Point",
                    "coordinates": [
                      127.06149550321929,
                      37.57946008382418
                    ]
                  }
                },
                {
                  "id": "21",
                  "type": "Feature",
                  "properties": {
                    "address_name": "서울 중랑구 면목동 180-5",
                    "category_group_code": "SC4",
                    "category_group_name": "학교",
                    "category_name": "교육,학문 > 학교 > 초등학교",
                    "distance": "",
                    "id": "7935893",
                    "phone": "02-2209-0012",
                    "place_name": "서울중목초등학교",
                    "place_url": "http://place.map.kakao.com/7935893",
                    "road_address_name": "서울 중랑구 동일로 665",
                    "x": "127.07944495224099",
                    "y": "37.59016577844105"
                  },
                  "geometry": {
                    "type": "Point",
                    "coordinates": [
                      127.07944495224099,
                      37.59016577844105
                    ]
                  }
                },
                {
                  "id": "22",
                  "type": "Feature",
                  "properties": {
                    "address_name": "서울 동대문구 전농동 60-1",
                    "category_group_code": "SC4",
                    "category_group_name": "학교",
                    "category_name": "교육,학문 > 학교 > 중학교",
                    "distance": "",
                    "id": "7935282",
                    "phone": "02-2245-2745",
                    "place_name": "전일중학교",
                    "place_url": "http://place.map.kakao.com/7935282",
                    "road_address_name": "서울 동대문구 사가정로13길 67",
                    "x": "127.058522197486",
                    "y": "37.5818167927529"
                  },
                  "geometry": {
                    "type": "Point",
                    "coordinates": [
                      127.058522197486,
                      37.5818167927529
                    ]
                  }
                },
                {
                  "id": "23",
                  "type": "Feature",
                  "properties": {
                    "address_name": "서울 동대문구 휘경동 302-2",
                    "category_group_code": "SC4",
                    "category_group_name": "학교",
                    "category_name": "교육,학문 > 학교 > 초등학교",
                    "distance": "",
                    "id": "10505600",
                    "phone": "02-2244-4941",
                    "place_name": "서울휘경초등학교",
                    "place_url": "http://place.map.kakao.com/10505600",
                    "road_address_name": "서울 동대문구 망우로6길 48",
                    "x": "127.05839969096355",
                    "y": "37.585862312802526"
                  },
                  "geometry": {
                    "type": "Point",
                    "coordinates": [
                      127.05839969096355,
                      37.585862312802526
                    ]
                  }
                },
                {
                  "id": "24",
                  "type": "Feature",
                  "properties": {
                    "address_name": "서울 동대문구 휘경동 49-27",
                    "category_group_code": "SC4",
                    "category_group_name": "학교",
                    "category_name": "교육,학문 > 학교 > 초등학교",
                    "distance": "",
                    "id": "8164540",
                    "phone": "02-2248-4644",
                    "place_name": "서울휘봉초등학교",
                    "place_url": "http://place.map.kakao.com/8164540",
                    "road_address_name": "서울 동대문구 장안벚꽃로 309",
                    "x": "127.070214612113",
                    "y": "37.5863730459726"
                  },
                  "geometry": {
                    "type": "Point",
                    "coordinates": [
                      127.070214612113,
                      37.5863730459726
                    ]
                  }
                },
                {
                  "id": "25",
                  "type": "Feature",
                  "properties": {
                    "address_name": "서울 동대문구 휘경동 43-7",
                    "category_group_code": "SC4",
                    "category_group_name": "학교",
                    "category_name": "교육,학문 > 학교 > 중학교",
                    "distance": "",
                    "id": "8164371",
                    "phone": "02-2244-4431",
                    "place_name": "휘경여자중학교",
                    "place_url": "http://place.map.kakao.com/8164371",
                    "road_address_name": "서울 동대문구 한천로 247",
                    "x": "127.06773068255059",
                    "y": "37.58400668795913"
                  },
                  "geometry": {
                    "type": "Point",
                    "coordinates": [
                      127.06773068255059,
                      37.58400668795913
                    ]
                  }
                },
                {
                  "id": "26",
                  "type": "Feature",
                  "properties": {
                    "address_name": "서울 동대문구 청량리동 235-4",
                    "category_group_code": "SC4",
                    "category_group_name": "학교",
                    "category_name": "교육,학문 > 학교 > 고등학교",
                    "distance": "",
                    "id": "8508103",
                    "phone": "02-962-9124",
                    "place_name": "정암미용고등학교",
                    "place_url": "http://place.map.kakao.com/8508103",
                    "road_address_name": "서울 동대문구 왕산로 225",
                    "x": "127.047405063889",
                    "y": "37.5824596841397"
                  },
                  "geometry": {
                    "type": "Point",
                    "coordinates": [
                      127.047405063889,
                      37.5824596841397
                    ]
                  }
                },
                {
                  "id": "27",
                  "type": "Feature",
                  "properties": {
                    "address_name": "서울 동대문구 전농동 90-3",
                    "category_group_code": "SC4",
                    "category_group_name": "학교",
                    "category_name": "교육,학문 > 학교 > 고등학교 > 특성화고등학교",
                    "distance": "",
                    "id": "8164098",
                    "phone": "070-8786-1300",
                    "place_name": "해성국제컨벤션고등학교",
                    "place_url": "http://place.map.kakao.com/8164098",
                    "road_address_name": "서울 동대문구 전농로20길 31",
                    "x": "127.057285914801",
                    "y": "37.5818246071338"
                  },
                  "geometry": {
                    "type": "Point",
                    "coordinates": [
                      127.057285914801,
                      37.5818246071338
                    ]
                  }
                },
                {
                  "id": "28",
                  "type": "Feature",
                  "properties": {
                    "address_name": "서울 동대문구 청량리동 206-44",
                    "category_group_code": "SC4",
                    "category_group_name": "학교",
                    "category_name": "교육,학문 > 학교 > 초등학교",
                    "distance": "",
                    "id": "7934108",
                    "phone": "02-968-4701",
                    "place_name": "서울홍릉초등학교",
                    "place_url": "http://place.map.kakao.com/7934108",
                    "road_address_name": "서울 동대문구 회기로 90",
                    "x": "127.047202197646",
                    "y": "37.5910876722296"
                  },
                  "geometry": {
                    "type": "Point",
                    "coordinates": [
                      127.047202197646,
                      37.5910876722296
                    ]
                  }
                },
                {
                  "id": "29",
                  "type": "Feature",
                  "properties": {
                    "address_name": "서울 동대문구 장안동 328",
                    "category_group_code": "SC4",
                    "category_group_name": "학교",
                    "category_name": "교육,학문 > 학교 > 중학교",
                    "distance": "",
                    "id": "7843192",
                    "phone": "02-6716-1700",
                    "place_name": "동국대학교사범대학 부속중학교",
                    "place_url": "http://place.map.kakao.com/7843192",
                    "road_address_name": "서울 동대문구 장안벚꽃로 201",
                    "x": "127.075667885359",
                    "y": "37.5780084578762"
                  },
                  "geometry": {
                    "type": "Point",
                    "coordinates": [
                      127.075667885359,
                      37.5780084578762
                    ]
                  }
                },
                {
                  "id": "30",
                  "type": "Feature",
                  "properties": {
                    "address_name": "서울 동대문구 제기동 293",
                    "category_group_code": "SC4",
                    "category_group_name": "학교",
                    "category_name": "교육,학문 > 학교 > 중학교",
                    "distance": "",
                    "id": "12450253",
                    "phone": "02-967-0178",
                    "place_name": "정화여자중학교",
                    "place_url": "http://place.map.kakao.com/12450253",
                    "road_address_name": "서울 동대문구 홍릉로15길 50",
                    "x": "127.04061273673395",
                    "y": "37.58551297949713"
                  },
                  "geometry": {
                    "type": "Point",
                    "coordinates": [
                      127.04061273673395,
                      37.58551297949713
                    ]
                  }
                },
                {
                  "id": "31",
                  "type": "Feature",
                  "properties": {
                    "address_name": "서울 동대문구 휘경동 43-138",
                    "category_group_code": "SC4",
                    "category_group_name": "학교",
                    "category_name": "교육,학문 > 학교 > 고등학교",
                    "distance": "",
                    "id": "17358636",
                    "phone": "02-2116-7206",
                    "place_name": "휘봉고등학교",
                    "place_url": "http://place.map.kakao.com/17358636",
                    "road_address_name": "서울 동대문구 한천로 290",
                    "x": "127.06903268100889",
                    "y": "37.58646744636223"
                  },
                  "geometry": {
                    "type": "Point",
                    "coordinates": [
                      127.06903268100889,
                      37.58646744636223
                    ]
                  }
                },
                {
                  "id": "32",
                  "type": "Feature",
                  "properties": {
                    "address_name": "서울 동대문구 전농동 54-6",
                    "category_group_code": "SC4",
                    "category_group_name": "학교",
                    "category_name": "교육,학문 > 학교 > 중학교",
                    "distance": "",
                    "id": "8503755",
                    "phone": "02-2242-6652",
                    "place_name": "전농중학교",
                    "place_url": "http://place.map.kakao.com/8503755",
                    "road_address_name": "서울 동대문구 사가정로13길 71",
                    "x": "127.059704137564",
                    "y": "37.5818089929221"
                  },
                  "geometry": {
                    "type": "Point",
                    "coordinates": [
                      127.059704137564,
                      37.5818089929221
                    ]
                  }
                }
              ]
            },
            "hover_style": {},
            "layers": [],
            "name": "학교",
            "options": [],
            "pane": "",
            "point_style": {
              "radius": 7,
              "color": "darkblue",
              "fillOpacity": 0.7,
              "fillColor": "lightblue",
              "weight": 2
            },
            "popup": null,
            "popup_max_height": null,
            "popup_max_width": 300,
            "popup_min_width": 50,
            "style": {},
            "subitems": [],
            "visible": true
          }
        },
        "0f8faf048cc14b1e8381f5ade7ae6974": {
          "model_module": "@jupyter-widgets/base",
          "model_name": "LayoutModel",
          "model_module_version": "1.2.0",
          "state": {
            "_model_module": "@jupyter-widgets/base",
            "_model_module_version": "1.2.0",
            "_model_name": "LayoutModel",
            "_view_count": null,
            "_view_module": "@jupyter-widgets/base",
            "_view_module_version": "1.2.0",
            "_view_name": "LayoutView",
            "align_content": null,
            "align_items": null,
            "align_self": null,
            "border": null,
            "bottom": null,
            "display": null,
            "flex": null,
            "flex_flow": null,
            "grid_area": null,
            "grid_auto_columns": null,
            "grid_auto_flow": null,
            "grid_auto_rows": null,
            "grid_column": null,
            "grid_gap": null,
            "grid_row": null,
            "grid_template_areas": null,
            "grid_template_columns": null,
            "grid_template_rows": null,
            "height": "500px",
            "justify_content": null,
            "justify_items": null,
            "left": null,
            "margin": null,
            "max_height": null,
            "max_width": null,
            "min_height": null,
            "min_width": null,
            "object_fit": null,
            "object_position": null,
            "order": null,
            "overflow": null,
            "overflow_x": null,
            "overflow_y": null,
            "padding": null,
            "right": null,
            "top": null,
            "visibility": null,
            "width": "800px"
          }
        },
        "6e6e15d79fd74bb0b96480b534c257e4": {
          "model_module": "jupyter-leaflet",
          "model_name": "LeafletMapStyleModel",
          "model_module_version": "^0.18",
          "state": {
            "_model_module": "jupyter-leaflet",
            "_model_module_version": "^0.18",
            "_model_name": "LeafletMapStyleModel",
            "_view_count": null,
            "_view_module": "@jupyter-widgets/base",
            "_view_module_version": "1.2.0",
            "_view_name": "StyleView",
            "cursor": "grab"
          }
        },
        "5118393dec374c78a7a67f62429c084d": {
          "model_module": "jupyter-leaflet",
          "model_name": "LeafletMapModel",
          "model_module_version": "^0.18",
          "state": {
            "_dom_classes": [],
            "_model_module": "jupyter-leaflet",
            "_model_module_version": "^0.18",
            "_model_name": "LeafletMapModel",
            "_view_count": null,
            "_view_module": "jupyter-leaflet",
            "_view_module_version": "^0.18",
            "_view_name": "LeafletMapView",
            "bottom": 3248219,
            "bounce_at_zoom_limits": true,
            "box_zoom": true,
            "center": [
              37.584828300773886,
              127.05773316246166
            ],
            "close_popup_on_click": true,
            "controls": [
              "IPY_MODEL_5b91f87229a14a1a8d8aa6b4b4f7b3d3",
              "IPY_MODEL_f22874286f724de3b92ae49b2ab21faf"
            ],
            "crs": {
              "name": "EPSG3857",
              "custom": false
            },
            "default_style": "IPY_MODEL_90f8314d405f4c34951ac98cc1fd461e",
            "double_click_zoom": true,
            "dragging": true,
            "dragging_style": "IPY_MODEL_b0394b5d9b3049c7a90f01654d02cb2b",
            "east": 127.07490921020509,
            "fullscreen": false,
            "inertia": true,
            "inertia_deceleration": 3000,
            "inertia_max_speed": 1500,
            "interpolation": "bilinear",
            "keyboard": true,
            "keyboard_pan_offset": 80,
            "keyboard_zoom_offset": 1,
            "layers": [
              "IPY_MODEL_06d201e9c4114ca7aaa6269caea728c6",
              "IPY_MODEL_575c026c5c6f4bcdadfab56b570e3caa",
              "IPY_MODEL_40d6e6d0498c4da198df519c599662f7"
            ],
            "layout": "IPY_MODEL_70e370f2c7bc4fe4af4d048726137ac7",
            "left": 7154564,
            "max_zoom": null,
            "min_zoom": null,
            "modisdate": "2024-03-22",
            "north": 37.593321626740085,
            "options": [
              "bounce_at_zoom_limits",
              "box_zoom",
              "center",
              "close_popup_on_click",
              "double_click_zoom",
              "dragging",
              "fullscreen",
              "inertia",
              "inertia_deceleration",
              "inertia_max_speed",
              "interpolation",
              "keyboard",
              "keyboard_pan_offset",
              "keyboard_zoom_offset",
              "max_zoom",
              "min_zoom",
              "prefer_canvas",
              "scroll_wheel_zoom",
              "tap",
              "tap_tolerance",
              "touch_zoom",
              "world_copy_jump",
              "zoom",
              "zoom_animation_threshold",
              "zoom_delta",
              "zoom_snap"
            ],
            "panes": {},
            "prefer_canvas": false,
            "right": 7155364,
            "scroll_wheel_zoom": false,
            "south": 37.576317467293705,
            "style": "IPY_MODEL_3c3ce12d96594dddbcd991260f78978a",
            "tap": true,
            "tap_tolerance": 15,
            "top": 3247719,
            "touch_zoom": true,
            "west": 127.04057693481447,
            "window_url": "https://muk1mnipkgl-496ff2e9c6d22116-0-colab.googleusercontent.com/outputframe.html?vrz=colab_20240321-060149_RC00_617803427",
            "world_copy_jump": false,
            "zoom": 15,
            "zoom_animation_threshold": 4,
            "zoom_delta": 1,
            "zoom_snap": 1
          }
        },
        "5b91f87229a14a1a8d8aa6b4b4f7b3d3": {
          "model_module": "jupyter-leaflet",
          "model_name": "LeafletZoomControlModel",
          "model_module_version": "^0.18",
          "state": {
            "_model_module": "jupyter-leaflet",
            "_model_module_version": "^0.18",
            "_model_name": "LeafletZoomControlModel",
            "_view_count": null,
            "_view_module": "jupyter-leaflet",
            "_view_module_version": "^0.18",
            "_view_name": "LeafletZoomControlView",
            "options": [
              "position",
              "zoom_in_text",
              "zoom_in_title",
              "zoom_out_text",
              "zoom_out_title"
            ],
            "position": "topleft",
            "zoom_in_text": "+",
            "zoom_in_title": "Zoom in",
            "zoom_out_text": "-",
            "zoom_out_title": "Zoom out"
          }
        },
        "f22874286f724de3b92ae49b2ab21faf": {
          "model_module": "jupyter-leaflet",
          "model_name": "LeafletAttributionControlModel",
          "model_module_version": "^0.18",
          "state": {
            "_model_module": "jupyter-leaflet",
            "_model_module_version": "^0.18",
            "_model_name": "LeafletAttributionControlModel",
            "_view_count": null,
            "_view_module": "jupyter-leaflet",
            "_view_module_version": "^0.18",
            "_view_name": "LeafletAttributionControlView",
            "options": [
              "position",
              "prefix"
            ],
            "position": "bottomright",
            "prefix": "ipyleaflet"
          }
        },
        "90f8314d405f4c34951ac98cc1fd461e": {
          "model_module": "jupyter-leaflet",
          "model_name": "LeafletMapStyleModel",
          "model_module_version": "^0.18",
          "state": {
            "_model_module": "jupyter-leaflet",
            "_model_module_version": "^0.18",
            "_model_name": "LeafletMapStyleModel",
            "_view_count": null,
            "_view_module": "@jupyter-widgets/base",
            "_view_module_version": "1.2.0",
            "_view_name": "StyleView",
            "cursor": "grab"
          }
        },
        "b0394b5d9b3049c7a90f01654d02cb2b": {
          "model_module": "jupyter-leaflet",
          "model_name": "LeafletMapStyleModel",
          "model_module_version": "^0.18",
          "state": {
            "_model_module": "jupyter-leaflet",
            "_model_module_version": "^0.18",
            "_model_name": "LeafletMapStyleModel",
            "_view_count": null,
            "_view_module": "@jupyter-widgets/base",
            "_view_module_version": "1.2.0",
            "_view_name": "StyleView",
            "cursor": "move"
          }
        },
        "40d6e6d0498c4da198df519c599662f7": {
          "model_module": "jupyter-leaflet",
          "model_name": "LeafletHeatmapModel",
          "model_module_version": "^0.18",
          "state": {
            "_model_module": "jupyter-leaflet",
            "_model_module_version": "^0.18",
            "_model_name": "LeafletHeatmapModel",
            "_view_count": null,
            "_view_module": "jupyter-leaflet",
            "_view_module_version": "^0.18",
            "_view_name": "LeafletHeatmapView",
            "base": false,
            "blur": 20,
            "bottom": false,
            "gradient": {
              "1": "red",
              "0.0": "blue",
              "0.5": "lime"
            },
            "locations": [
              [
                "37.584828300773886",
                "127.05773316246166",
                1
              ],
              [
                "37.5926754214934",
                "127.04669593138594",
                1
              ],
              [
                "37.5896133922662",
                "127.075444124256",
                1
              ],
              [
                "37.5839276260158",
                "127.067336617711",
                1
              ],
              [
                "37.5920244882738",
                "127.055944045936",
                1
              ],
              [
                "37.5861567023354",
                "127.039391444512",
                1
              ],
              [
                "37.5851157081199",
                "127.0694571333",
                1
              ],
              [
                "37.5870839939152",
                "127.062058823168",
                1
              ],
              [
                "37.59374871965702",
                "127.03861641440025",
                1
              ],
              [
                "37.5780487645908",
                "127.074626416845",
                1
              ],
              [
                "37.58880568754215",
                "127.05098469716769",
                1
              ],
              [
                "37.5785850413515",
                "127.075749978849",
                1
              ],
              [
                "37.5805239482807",
                "127.056506024554",
                1
              ],
              [
                "37.58077593657807",
                "127.0571085010964",
                1
              ],
              [
                "37.5777708060603",
                "127.047669259945",
                1
              ],
              [
                "37.5888206033755",
                "127.047631016606",
                1
              ],
              [
                "37.5860048586976",
                "127.040795287521",
                1
              ],
              [
                "37.5803279087154",
                "127.066183152",
                1
              ],
              [
                "37.5880659229738",
                "127.051099679744",
                1
              ],
              [
                "37.5854535215831",
                "127.071069682159",
                1
              ],
              [
                "37.57946008382418",
                "127.06149550321929",
                1
              ],
              [
                "37.59016577844105",
                "127.07944495224099",
                1
              ],
              [
                "37.5818167927529",
                "127.058522197486",
                1
              ],
              [
                "37.585862312802526",
                "127.05839969096355",
                1
              ],
              [
                "37.5863730459726",
                "127.070214612113",
                1
              ],
              [
                "37.58400668795913",
                "127.06773068255059",
                1
              ],
              [
                "37.5824596841397",
                "127.047405063889",
                1
              ],
              [
                "37.5818246071338",
                "127.057285914801",
                1
              ],
              [
                "37.5910876722296",
                "127.047202197646",
                1
              ],
              [
                "37.5780084578762",
                "127.075667885359",
                1
              ],
              [
                "37.58551297949713",
                "127.04061273673395",
                1
              ],
              [
                "37.58646744636223",
                "127.06903268100889",
                1
              ],
              [
                "37.5818089929221",
                "127.059704137564",
                1
              ]
            ],
            "max": 1,
            "max_zoom": 18,
            "min_opacity": 0.05,
            "name": "",
            "opacity": 1,
            "options": [
              "blur",
              "gradient",
              "max",
              "max_zoom",
              "min_opacity",
              "radius"
            ],
            "pane": "",
            "popup": null,
            "popup_max_height": null,
            "popup_max_width": 300,
            "popup_min_width": 50,
            "radius": 40,
            "subitems": [],
            "visible": true
          }
        },
        "70e370f2c7bc4fe4af4d048726137ac7": {
          "model_module": "@jupyter-widgets/base",
          "model_name": "LayoutModel",
          "model_module_version": "1.2.0",
          "state": {
            "_model_module": "@jupyter-widgets/base",
            "_model_module_version": "1.2.0",
            "_model_name": "LayoutModel",
            "_view_count": null,
            "_view_module": "@jupyter-widgets/base",
            "_view_module_version": "1.2.0",
            "_view_name": "LayoutView",
            "align_content": null,
            "align_items": null,
            "align_self": null,
            "border": null,
            "bottom": null,
            "display": null,
            "flex": null,
            "flex_flow": null,
            "grid_area": null,
            "grid_auto_columns": null,
            "grid_auto_flow": null,
            "grid_auto_rows": null,
            "grid_column": null,
            "grid_gap": null,
            "grid_row": null,
            "grid_template_areas": null,
            "grid_template_columns": null,
            "grid_template_rows": null,
            "height": "500px",
            "justify_content": null,
            "justify_items": null,
            "left": null,
            "margin": null,
            "max_height": null,
            "max_width": null,
            "min_height": null,
            "min_width": null,
            "object_fit": null,
            "object_position": null,
            "order": null,
            "overflow": null,
            "overflow_x": null,
            "overflow_y": null,
            "padding": null,
            "right": null,
            "top": null,
            "visibility": null,
            "width": "800px"
          }
        },
        "3c3ce12d96594dddbcd991260f78978a": {
          "model_module": "jupyter-leaflet",
          "model_name": "LeafletMapStyleModel",
          "model_module_version": "^0.18",
          "state": {
            "_model_module": "jupyter-leaflet",
            "_model_module_version": "^0.18",
            "_model_name": "LeafletMapStyleModel",
            "_view_count": null,
            "_view_module": "@jupyter-widgets/base",
            "_view_module_version": "1.2.0",
            "_view_name": "StyleView",
            "cursor": "grab"
          }
        }
      }
    }
  },
  "nbformat": 4,
  "nbformat_minor": 5
}