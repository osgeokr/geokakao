{
  "cells": [
    {
      "cell_type": "markdown",
      "metadata": {
        "id": "view-in-github",
        "colab_type": "text"
      },
      "source": [
        "<a href=\"https://colab.research.google.com/github/osgeokr/geokakao/blob/main/kakao_local_api/Kakao_%EB%A1%9C%EC%BB%AC_API%EB%A5%BC_%EC%9D%B4%EC%9A%A9%ED%95%9C_%EA%B3%B5%EA%B0%84%EB%8D%B0%EC%9D%B4%ED%84%B0_%EA%B2%80%EC%83%89_%EA%B8%B0%EB%8A%A5_%EC%86%8C%EA%B0%9C.ipynb\" target=\"_parent\"><img src=\"https://colab.research.google.com/assets/colab-badge.svg\" alt=\"Open In Colab\"/></a>"
      ]
    },
    {
      "cell_type": "markdown",
      "id": "ed60806e-2404-422f-a943-2b7648a6d301",
      "metadata": {
        "id": "ed60806e-2404-422f-a943-2b7648a6d301"
      },
      "source": [
        "# Kakao 로컬 API를 이용한 공간데이터 검색 기능 소개\n",
        "\n",
        "이번 코드 실습은 [Kakao 로컬 API](https://developers.kakao.com/docs/latest/ko/local/common)를 이용한 공간데이터 검색 기능을 학습해 봅니다. 공간데이터를 검색한 이후에 지도로 가시화하는 영역은 [ipyleaflet](https://ipyleaflet.readthedocs.io/en/latest/)을 통해 구현해 보겠습니다. 먼저 필요한 라이브러리들을 불러온 후, [Kakao Developers](https://developers.kakao.com/)에서 인증받은 REST API 키를 지정합니다.\n",
        "> Note: REST API는 Representational State Transfer Application Programming Interface의 약자로, 네트워크 기반 소프트웨어 시스템 간에 자원을 교환하기 위한 소프트웨어 인터페이스를 의미합니다. REST API는 웹 서비스에서 자주 사용되며, 클라이언트와 서버 간의 통신을 위한 표준적인 방법을 제공합니다."
      ]
    },
    {
      "cell_type": "code",
      "execution_count": null,
      "id": "8363c72f-9ad3-4b16-a5c2-a07bd045a502",
      "metadata": {
        "id": "8363c72f-9ad3-4b16-a5c2-a07bd045a502"
      },
      "outputs": [],
      "source": [
        "import requests\n",
        "import geopandas as gpd\n",
        "from ipyleaflet import Map, TileLayer, Marker, GeoData, Circle, Rectangle"
      ]
    },
    {
      "cell_type": "code",
      "execution_count": null,
      "id": "e8b5356f-3265-453c-869d-72fe5ffe2d81",
      "metadata": {
        "id": "e8b5356f-3265-453c-869d-72fe5ffe2d81"
      },
      "outputs": [],
      "source": [
        "api_key = 'my-api-key'"
      ]
    },
    {
      "cell_type": "markdown",
      "id": "f9ade5dc-ea9c-4eca-8b9c-28cd74616256",
      "metadata": {
        "id": "f9ade5dc-ea9c-4eca-8b9c-28cd74616256"
      },
      "source": [
        "## 키워드로 좌표 검색하기\n",
        "\n",
        "특정 키워드로 해당 좌표를 검색해볼 수 있습니다. 예를 들면, '서울시립대학교'를 키워드로 해당 좌표를 검색해서 반환할 수 있습니다. 여기서는 검색 결과가 여러 개일 때는 첫번째 검색 결과의 좌표만 반환하도록 설정하였습니다."
      ]
    },
    {
      "cell_type": "code",
      "execution_count": null,
      "id": "b08f9cf8-1b4f-471d-9a56-02b0a7955941",
      "metadata": {
        "id": "b08f9cf8-1b4f-471d-9a56-02b0a7955941",
        "outputId": "deaa8bc5-ab67-4b73-e2e2-c0bc35e88e16",
        "colab": {
          "base_uri": "https://localhost:8080/"
        }
      },
      "outputs": [
        {
          "output_type": "stream",
          "name": "stdout",
          "text": [
            "(37.584828300773886, 127.05773316246166)\n"
          ]
        }
      ],
      "source": [
        "def get_coordinate(keyword, api_key=api_key):\n",
        "    # 키워드로 좌표 검색하기\n",
        "    url = f'https://dapi.kakao.com/v2/local/search/keyword.json?query={keyword}'\n",
        "    headers = {'Authorization': f'KakaoAK {api_key}'}\n",
        "    response = requests.get(url, headers=headers)\n",
        "    data = response.json()\n",
        "    if data['meta']['total_count'] > 0:\n",
        "        # 첫 번째 검색 결과의 좌표만 반환\n",
        "        return float(data['documents'][0]['y']), float(data['documents'][0]['x'])\n",
        "    else:\n",
        "        return None\n",
        "\n",
        "keyword = \"서울시립대학교\"\n",
        "coordinate = get_coordinate(keyword)\n",
        "print(coordinate)"
      ]
    },
    {
      "cell_type": "code",
      "execution_count": null,
      "id": "ac5d4df9-f779-40da-b1f7-3fe632363694",
      "metadata": {
        "id": "ac5d4df9-f779-40da-b1f7-3fe632363694",
        "outputId": "c8635595-b55e-44aa-8577-6f2e07b2b161",
        "colab": {
          "base_uri": "https://localhost:8080/",
          "height": 521,
          "referenced_widgets": [
            "3f24b8f4e2e0481fafb12912bd8eea96",
            "fb7f91d026a94c5799b83b09fa469f25",
            "8251b1521b864c4695e77409148e7116",
            "784a60f7e7b64fcba75fb209d54eacd0",
            "f5a7f68c3fac40b8b78be658131075af",
            "97dfa0d0d57e464b8be56052b9705a52",
            "98a57b6833a54673a045f6eee09db342",
            "89f390467e5e47aaa687be4ae758225c",
            "5db32217e06142b18baf72ce29ad8156"
          ]
        }
      },
      "outputs": [
        {
          "output_type": "display_data",
          "data": {
            "text/plain": [
              "Map(center=[37.584828300773886, 127.05773316246166], controls=(ZoomControl(options=['position', 'zoom_in_text'…"
            ],
            "application/vnd.jupyter.widget-view+json": {
              "version_major": 2,
              "version_minor": 0,
              "model_id": "3f24b8f4e2e0481fafb12912bd8eea96"
            }
          },
          "metadata": {
            "application/vnd.jupyter.widget-view+json": {
              "colab": {
                "custom_widget_manager": {
                  "url": "https://ssl.gstatic.com/colaboratory-static/widgets/colab-cdn-widget-manager/2b70e893a8ba7c0f/manager.min.js"
                }
              }
            }
          }
        }
      ],
      "source": [
        "# Vworld 백지도 객체\n",
        "vworld_white = TileLayer(\n",
        "    url='https://xdworld.vworld.kr/2d/white/service/{z}/{x}/{y}.png',\n",
        "    name='Vworld White',\n",
        "    attribution='Vworld'\n",
        ")\n",
        "\n",
        "# 지도 생성 (Vworld 백지도 사용)\n",
        "m = Map(center=coordinate,\n",
        "        zoom=16,\n",
        "        layers=[vworld_white],\n",
        "        layout={'width': '800px', 'height': '500px'})\n",
        "\n",
        "marker = Marker(location=coordinate, draggable=False)\n",
        "m.add_layer(marker)\n",
        "m"
      ]
    },
    {
      "cell_type": "markdown",
      "id": "4c7c56c3-743b-4bf4-b980-ad1098cf43ff",
      "metadata": {
        "id": "4c7c56c3-743b-4bf4-b980-ad1098cf43ff"
      },
      "source": [
        "## 정해진 반경에서 질의로 장소 검색하기\n",
        "\n",
        "지정한 좌표로부터 일정 반경으로 버퍼를 설정하고, 해당 범위 내에서 장소를 검색해볼 수 있습니다. 예를 들면 앞서 검색된 서울시립대학교 위치를 중앙좌표로 하여 20km 버퍼를 적용한 후, 해당 지역 내 교보문고 매장을 검색해볼 수 있습니다. 참고로 반경의 최대값은 20km이며 튜플은 한번에 최대 45개까지 제공됩니다."
      ]
    },
    {
      "cell_type": "code",
      "execution_count": null,
      "id": "d70db218-730c-480b-9e4d-4cb4fbb1b9c6",
      "metadata": {
        "id": "d70db218-730c-480b-9e4d-4cb4fbb1b9c6",
        "outputId": "94ed8b76-ed35-4e42-aaf1-1b27d25da5de",
        "colab": {
          "base_uri": "https://localhost:8080/",
          "height": 153
        }
      },
      "outputs": [
        {
          "output_type": "stream",
          "name": "stdout",
          "text": [
            "매장 개수: 45개\n"
          ]
        },
        {
          "output_type": "execute_result",
          "data": {
            "text/plain": [
              "         address_name category_group_code category_group_name  \\\n",
              "0  서울 동대문구 전농동 591-53                                           \n",
              "\n",
              "            category_name distance         id      phone place_name  \\\n",
              "0  문화,예술 > 도서 > 서점 > 교보문고      891  253947105  1544-1900  교보문고 청량리점   \n",
              "\n",
              "                              place_url road_address_name                 x  \\\n",
              "0  http://place.map.kakao.com/253947105   서울 동대문구 왕산로 214  127.049079477084   \n",
              "\n",
              "                  y                    geometry  \n",
              "0  37.5806966564292  POINT (127.04908 37.58070)  "
            ],
            "text/html": [
              "\n",
              "  <div id=\"df-48e351f8-69f4-489a-b175-3a4ee059ead4\" class=\"colab-df-container\">\n",
              "    <div>\n",
              "<style scoped>\n",
              "    .dataframe tbody tr th:only-of-type {\n",
              "        vertical-align: middle;\n",
              "    }\n",
              "\n",
              "    .dataframe tbody tr th {\n",
              "        vertical-align: top;\n",
              "    }\n",
              "\n",
              "    .dataframe thead th {\n",
              "        text-align: right;\n",
              "    }\n",
              "</style>\n",
              "<table border=\"1\" class=\"dataframe\">\n",
              "  <thead>\n",
              "    <tr style=\"text-align: right;\">\n",
              "      <th></th>\n",
              "      <th>address_name</th>\n",
              "      <th>category_group_code</th>\n",
              "      <th>category_group_name</th>\n",
              "      <th>category_name</th>\n",
              "      <th>distance</th>\n",
              "      <th>id</th>\n",
              "      <th>phone</th>\n",
              "      <th>place_name</th>\n",
              "      <th>place_url</th>\n",
              "      <th>road_address_name</th>\n",
              "      <th>x</th>\n",
              "      <th>y</th>\n",
              "      <th>geometry</th>\n",
              "    </tr>\n",
              "  </thead>\n",
              "  <tbody>\n",
              "    <tr>\n",
              "      <th>0</th>\n",
              "      <td>서울 동대문구 전농동 591-53</td>\n",
              "      <td></td>\n",
              "      <td></td>\n",
              "      <td>문화,예술 &gt; 도서 &gt; 서점 &gt; 교보문고</td>\n",
              "      <td>891</td>\n",
              "      <td>253947105</td>\n",
              "      <td>1544-1900</td>\n",
              "      <td>교보문고 청량리점</td>\n",
              "      <td>http://place.map.kakao.com/253947105</td>\n",
              "      <td>서울 동대문구 왕산로 214</td>\n",
              "      <td>127.049079477084</td>\n",
              "      <td>37.5806966564292</td>\n",
              "      <td>POINT (127.04908 37.58070)</td>\n",
              "    </tr>\n",
              "  </tbody>\n",
              "</table>\n",
              "</div>\n",
              "    <div class=\"colab-df-buttons\">\n",
              "\n",
              "  <div class=\"colab-df-container\">\n",
              "    <button class=\"colab-df-convert\" onclick=\"convertToInteractive('df-48e351f8-69f4-489a-b175-3a4ee059ead4')\"\n",
              "            title=\"Convert this dataframe to an interactive table.\"\n",
              "            style=\"display:none;\">\n",
              "\n",
              "  <svg xmlns=\"http://www.w3.org/2000/svg\" height=\"24px\" viewBox=\"0 -960 960 960\">\n",
              "    <path d=\"M120-120v-720h720v720H120Zm60-500h600v-160H180v160Zm220 220h160v-160H400v160Zm0 220h160v-160H400v160ZM180-400h160v-160H180v160Zm440 0h160v-160H620v160ZM180-180h160v-160H180v160Zm440 0h160v-160H620v160Z\"/>\n",
              "  </svg>\n",
              "    </button>\n",
              "\n",
              "  <style>\n",
              "    .colab-df-container {\n",
              "      display:flex;\n",
              "      gap: 12px;\n",
              "    }\n",
              "\n",
              "    .colab-df-convert {\n",
              "      background-color: #E8F0FE;\n",
              "      border: none;\n",
              "      border-radius: 50%;\n",
              "      cursor: pointer;\n",
              "      display: none;\n",
              "      fill: #1967D2;\n",
              "      height: 32px;\n",
              "      padding: 0 0 0 0;\n",
              "      width: 32px;\n",
              "    }\n",
              "\n",
              "    .colab-df-convert:hover {\n",
              "      background-color: #E2EBFA;\n",
              "      box-shadow: 0px 1px 2px rgba(60, 64, 67, 0.3), 0px 1px 3px 1px rgba(60, 64, 67, 0.15);\n",
              "      fill: #174EA6;\n",
              "    }\n",
              "\n",
              "    .colab-df-buttons div {\n",
              "      margin-bottom: 4px;\n",
              "    }\n",
              "\n",
              "    [theme=dark] .colab-df-convert {\n",
              "      background-color: #3B4455;\n",
              "      fill: #D2E3FC;\n",
              "    }\n",
              "\n",
              "    [theme=dark] .colab-df-convert:hover {\n",
              "      background-color: #434B5C;\n",
              "      box-shadow: 0px 1px 3px 1px rgba(0, 0, 0, 0.15);\n",
              "      filter: drop-shadow(0px 1px 2px rgba(0, 0, 0, 0.3));\n",
              "      fill: #FFFFFF;\n",
              "    }\n",
              "  </style>\n",
              "\n",
              "    <script>\n",
              "      const buttonEl =\n",
              "        document.querySelector('#df-48e351f8-69f4-489a-b175-3a4ee059ead4 button.colab-df-convert');\n",
              "      buttonEl.style.display =\n",
              "        google.colab.kernel.accessAllowed ? 'block' : 'none';\n",
              "\n",
              "      async function convertToInteractive(key) {\n",
              "        const element = document.querySelector('#df-48e351f8-69f4-489a-b175-3a4ee059ead4');\n",
              "        const dataTable =\n",
              "          await google.colab.kernel.invokeFunction('convertToInteractive',\n",
              "                                                    [key], {});\n",
              "        if (!dataTable) return;\n",
              "\n",
              "        const docLinkHtml = 'Like what you see? Visit the ' +\n",
              "          '<a target=\"_blank\" href=https://colab.research.google.com/notebooks/data_table.ipynb>data table notebook</a>'\n",
              "          + ' to learn more about interactive tables.';\n",
              "        element.innerHTML = '';\n",
              "        dataTable['output_type'] = 'display_data';\n",
              "        await google.colab.output.renderOutput(dataTable, element);\n",
              "        const docLink = document.createElement('div');\n",
              "        docLink.innerHTML = docLinkHtml;\n",
              "        element.appendChild(docLink);\n",
              "      }\n",
              "    </script>\n",
              "  </div>\n",
              "\n",
              "\n",
              "    </div>\n",
              "  </div>\n"
            ],
            "application/vnd.google.colaboratory.intrinsic+json": {
              "type": "dataframe",
              "variable_name": "places",
              "summary": "{\n  \"name\": \"places\",\n  \"rows\": 45,\n  \"fields\": [\n    {\n      \"column\": \"address_name\",\n      \"properties\": {\n        \"dtype\": \"string\",\n        \"num_unique_values\": 23,\n        \"samples\": [\n          \"\\uc11c\\uc6b8 \\uad6c\\ub85c\\uad6c \\uc2e0\\ub3c4\\ub9bc\\ub3d9 692\",\n          \"\\uc11c\\uc6b8 \\uc11c\\ub300\\ubb38\\uad6c \\ub300\\ud604\\ub3d9 11-1\",\n          \"\\uc11c\\uc6b8 \\ub3d9\\ub300\\ubb38\\uad6c \\uc804\\ub18d\\ub3d9 591-53\"\n        ],\n        \"semantic_type\": \"\",\n        \"description\": \"\"\n      }\n    },\n    {\n      \"column\": \"category_group_code\",\n      \"properties\": {\n        \"dtype\": \"category\",\n        \"num_unique_values\": 7,\n        \"samples\": [\n          \"\",\n          \"CT1\",\n          \"BK9\"\n        ],\n        \"semantic_type\": \"\",\n        \"description\": \"\"\n      }\n    },\n    {\n      \"column\": \"category_group_name\",\n      \"properties\": {\n        \"dtype\": \"category\",\n        \"num_unique_values\": 7,\n        \"samples\": [\n          \"\",\n          \"\\ubb38\\ud654\\uc2dc\\uc124\",\n          \"\\uc740\\ud589\"\n        ],\n        \"semantic_type\": \"\",\n        \"description\": \"\"\n      }\n    },\n    {\n      \"column\": \"category_name\",\n      \"properties\": {\n        \"dtype\": \"string\",\n        \"num_unique_values\": 23,\n        \"samples\": [\n          \"\\uac00\\uc815,\\uc0dd\\ud65c > \\ubbf8\\uc6a9 > \\uccb4\\ud615\\uad00\\ub9ac > \\uc57d\\uc190\\uba85\\uac00\",\n          \"\\uc11c\\ube44\\uc2a4,\\uc0b0\\uc5c5 > \\uc5ec\\ud589\\uc0ac > \\ubaa8\\ub450\\ud22c\\uc5b4\",\n          \"\\ubb38\\ud654,\\uc608\\uc220 > \\ub3c4\\uc11c > \\uc11c\\uc810 > \\uad50\\ubcf4\\ubb38\\uace0\"\n        ],\n        \"semantic_type\": \"\",\n        \"description\": \"\"\n      }\n    },\n    {\n      \"column\": \"distance\",\n      \"properties\": {\n        \"dtype\": \"string\",\n        \"num_unique_values\": 37,\n        \"samples\": [\n          \"16841\",\n          \"13336\",\n          \"6543\"\n        ],\n        \"semantic_type\": \"\",\n        \"description\": \"\"\n      }\n    },\n    {\n      \"column\": \"id\",\n      \"properties\": {\n        \"dtype\": \"string\",\n        \"num_unique_values\": 45,\n        \"samples\": [\n          \"1153486981\",\n          \"11760305\",\n          \"11760292\"\n        ],\n        \"semantic_type\": \"\",\n        \"description\": \"\"\n      }\n    },\n    {\n      \"column\": \"phone\",\n      \"properties\": {\n        \"dtype\": \"string\",\n        \"num_unique_values\": 28,\n        \"samples\": [\n          \"02-720-4845\",\n          \"02-2649-0101\",\n          \"02-732-9961\"\n        ],\n        \"semantic_type\": \"\",\n        \"description\": \"\"\n      }\n    },\n    {\n      \"column\": \"place_name\",\n      \"properties\": {\n        \"dtype\": \"string\",\n        \"num_unique_values\": 45,\n        \"samples\": [\n          \"\\ucc3d\\uace043 \\ubaa9\\ub3d9\\uc810\",\n          \"\\uc544\\ud2b8\\ubc15\\uc2a4 \\uad50\\ubcf4\\ubb38\\uace0\\ud56b\\ud2b8\\ub799\\uc2a4\\uc7a0\\uc2e4\\uc810\",\n          \"\\uc544\\ud2b8\\ubc15\\uc2a4 \\uad50\\ubcf4\\ubb38\\uace0\\ud56b\\ud2b8\\ub799\\uc2a4\\uac15\\ub0a8\\uc810\"\n        ],\n        \"semantic_type\": \"\",\n        \"description\": \"\"\n      }\n    },\n    {\n      \"column\": \"place_url\",\n      \"properties\": {\n        \"dtype\": \"string\",\n        \"num_unique_values\": 45,\n        \"samples\": [\n          \"http://place.map.kakao.com/1153486981\",\n          \"http://place.map.kakao.com/11760305\",\n          \"http://place.map.kakao.com/11760292\"\n        ],\n        \"semantic_type\": \"\",\n        \"description\": \"\"\n      }\n    },\n    {\n      \"column\": \"road_address_name\",\n      \"properties\": {\n        \"dtype\": \"category\",\n        \"num_unique_values\": 21,\n        \"samples\": [\n          \"\\uc11c\\uc6b8 \\ub3d9\\ub300\\ubb38\\uad6c \\uc655\\uc0b0\\ub85c 214\",\n          \"\\uc11c\\uc6b8 \\uc885\\ub85c\\uad6c \\uc0c8\\ubb38\\uc548\\ub85c3\\uae38 23\",\n          \"\\uc11c\\uc6b8 \\uc740\\ud3c9\\uad6c \\ud1b5\\uc77c\\ub85c 1050\"\n        ],\n        \"semantic_type\": \"\",\n        \"description\": \"\"\n      }\n    },\n    {\n      \"column\": \"x\",\n      \"properties\": {\n        \"dtype\": \"string\",\n        \"num_unique_values\": 43,\n        \"samples\": [\n          \"126.87507051137267\",\n          \"126.972419791447\",\n          \"127.10060125314466\"\n        ],\n        \"semantic_type\": \"\",\n        \"description\": \"\"\n      }\n    },\n    {\n      \"column\": \"y\",\n      \"properties\": {\n        \"dtype\": \"string\",\n        \"num_unique_values\": 43,\n        \"samples\": [\n          \"37.528145948841576\",\n          \"37.5734920789197\",\n          \"37.51442618653521\"\n        ],\n        \"semantic_type\": \"\",\n        \"description\": \"\"\n      }\n    },\n    {\n      \"column\": \"geometry\",\n      \"properties\": {\n        \"dtype\": \"geometry\",\n        \"num_unique_values\": 43,\n        \"samples\": [\n          \"POINT (126.87507051137267 37.528145948841576)\",\n          \"POINT (126.972419791447 37.5734920789197)\",\n          \"POINT (127.10060125314466 37.51442618653521)\"\n        ],\n        \"semantic_type\": \"\",\n        \"description\": \"\"\n      }\n    }\n  ]\n}"
            }
          },
          "metadata": {},
          "execution_count": 8
        }
      ],
      "source": [
        "def get_places_by_query(coordinate, radius, query, api_key):\n",
        "    # 정해진 반경에서 이름으로 장소 검색\n",
        "    url = \"https://dapi.kakao.com/v2/local/search/keyword.json\"\n",
        "    headers = {\"Authorization\": f\"KakaoAK {api_key}\"}\n",
        "    params = {\"query\": query,\n",
        "              \"x\": coordinate[1],\n",
        "              \"y\": coordinate[0],\n",
        "              \"radius\": radius}\n",
        "\n",
        "    places = []\n",
        "    while True:\n",
        "        response = requests.get(url, headers=headers, params=params)\n",
        "        data = response.json()\n",
        "        places.extend(data.get(\"documents\", []))\n",
        "        if data[\"meta\"][\"is_end\"]:\n",
        "            break\n",
        "        else:\n",
        "            params[\"page\"] = params.get(\"page\", 1) + 1\n",
        "    return gpd.GeoDataFrame(\n",
        "        places,\n",
        "        geometry=gpd.points_from_xy(\n",
        "            [place[\"x\"] for place in places], [place[\"y\"] for place in places]\n",
        "        ),\n",
        "    )\n",
        "\n",
        "radius = 20000\n",
        "query = \"교보문고\"\n",
        "\n",
        "places = get_places_by_query(coordinate, radius, query, api_key)\n",
        "print(f\"매장 개수: {len(places)}개\")\n",
        "places.head(1)"
      ]
    },
    {
      "cell_type": "markdown",
      "source": [
        "교보문고를 검색했지만 모든 검색결과가 교보문고 매장을 가리키는 것은 아닙니다. 따라서 일부 컬럼에 필터링을 적용해서 원하는 튜플만을 선택해 볼 수 있습니다. 그리고 이것을 GPKG와 같은 공간데이터 포맷으로 저장하여 QGIS와 같은 다른 SW에서 사용하는 것도 가능하겠습니다."
      ],
      "metadata": {
        "id": "awX-fftyR_9V"
      },
      "id": "awX-fftyR_9V"
    },
    {
      "cell_type": "code",
      "execution_count": null,
      "id": "f6e5e0f9-72e0-4153-8a50-b04eabaffaf7",
      "metadata": {
        "id": "f6e5e0f9-72e0-4153-8a50-b04eabaffaf7",
        "outputId": "f8c01565-0ab8-4212-daa7-ddacaf2d06c8",
        "colab": {
          "base_uri": "https://localhost:8080/",
          "height": 153
        }
      },
      "outputs": [
        {
          "output_type": "stream",
          "name": "stdout",
          "text": [
            "매장 개수: 18개\n"
          ]
        },
        {
          "output_type": "execute_result",
          "data": {
            "text/plain": [
              "         address_name category_group_code category_group_name  \\\n",
              "0  서울 동대문구 전농동 591-53                                           \n",
              "\n",
              "            category_name distance         id      phone place_name  \\\n",
              "0  문화,예술 > 도서 > 서점 > 교보문고      891  253947105  1544-1900  교보문고 청량리점   \n",
              "\n",
              "                              place_url road_address_name                 x  \\\n",
              "0  http://place.map.kakao.com/253947105   서울 동대문구 왕산로 214  127.049079477084   \n",
              "\n",
              "                  y                    geometry  \n",
              "0  37.5806966564292  POINT (127.04908 37.58070)  "
            ],
            "text/html": [
              "\n",
              "  <div id=\"df-a0a4926d-199f-4c88-8a3d-21fba426b4bd\" class=\"colab-df-container\">\n",
              "    <div>\n",
              "<style scoped>\n",
              "    .dataframe tbody tr th:only-of-type {\n",
              "        vertical-align: middle;\n",
              "    }\n",
              "\n",
              "    .dataframe tbody tr th {\n",
              "        vertical-align: top;\n",
              "    }\n",
              "\n",
              "    .dataframe thead th {\n",
              "        text-align: right;\n",
              "    }\n",
              "</style>\n",
              "<table border=\"1\" class=\"dataframe\">\n",
              "  <thead>\n",
              "    <tr style=\"text-align: right;\">\n",
              "      <th></th>\n",
              "      <th>address_name</th>\n",
              "      <th>category_group_code</th>\n",
              "      <th>category_group_name</th>\n",
              "      <th>category_name</th>\n",
              "      <th>distance</th>\n",
              "      <th>id</th>\n",
              "      <th>phone</th>\n",
              "      <th>place_name</th>\n",
              "      <th>place_url</th>\n",
              "      <th>road_address_name</th>\n",
              "      <th>x</th>\n",
              "      <th>y</th>\n",
              "      <th>geometry</th>\n",
              "    </tr>\n",
              "  </thead>\n",
              "  <tbody>\n",
              "    <tr>\n",
              "      <th>0</th>\n",
              "      <td>서울 동대문구 전농동 591-53</td>\n",
              "      <td></td>\n",
              "      <td></td>\n",
              "      <td>문화,예술 &gt; 도서 &gt; 서점 &gt; 교보문고</td>\n",
              "      <td>891</td>\n",
              "      <td>253947105</td>\n",
              "      <td>1544-1900</td>\n",
              "      <td>교보문고 청량리점</td>\n",
              "      <td>http://place.map.kakao.com/253947105</td>\n",
              "      <td>서울 동대문구 왕산로 214</td>\n",
              "      <td>127.049079477084</td>\n",
              "      <td>37.5806966564292</td>\n",
              "      <td>POINT (127.04908 37.58070)</td>\n",
              "    </tr>\n",
              "  </tbody>\n",
              "</table>\n",
              "</div>\n",
              "    <div class=\"colab-df-buttons\">\n",
              "\n",
              "  <div class=\"colab-df-container\">\n",
              "    <button class=\"colab-df-convert\" onclick=\"convertToInteractive('df-a0a4926d-199f-4c88-8a3d-21fba426b4bd')\"\n",
              "            title=\"Convert this dataframe to an interactive table.\"\n",
              "            style=\"display:none;\">\n",
              "\n",
              "  <svg xmlns=\"http://www.w3.org/2000/svg\" height=\"24px\" viewBox=\"0 -960 960 960\">\n",
              "    <path d=\"M120-120v-720h720v720H120Zm60-500h600v-160H180v160Zm220 220h160v-160H400v160Zm0 220h160v-160H400v160ZM180-400h160v-160H180v160Zm440 0h160v-160H620v160ZM180-180h160v-160H180v160Zm440 0h160v-160H620v160Z\"/>\n",
              "  </svg>\n",
              "    </button>\n",
              "\n",
              "  <style>\n",
              "    .colab-df-container {\n",
              "      display:flex;\n",
              "      gap: 12px;\n",
              "    }\n",
              "\n",
              "    .colab-df-convert {\n",
              "      background-color: #E8F0FE;\n",
              "      border: none;\n",
              "      border-radius: 50%;\n",
              "      cursor: pointer;\n",
              "      display: none;\n",
              "      fill: #1967D2;\n",
              "      height: 32px;\n",
              "      padding: 0 0 0 0;\n",
              "      width: 32px;\n",
              "    }\n",
              "\n",
              "    .colab-df-convert:hover {\n",
              "      background-color: #E2EBFA;\n",
              "      box-shadow: 0px 1px 2px rgba(60, 64, 67, 0.3), 0px 1px 3px 1px rgba(60, 64, 67, 0.15);\n",
              "      fill: #174EA6;\n",
              "    }\n",
              "\n",
              "    .colab-df-buttons div {\n",
              "      margin-bottom: 4px;\n",
              "    }\n",
              "\n",
              "    [theme=dark] .colab-df-convert {\n",
              "      background-color: #3B4455;\n",
              "      fill: #D2E3FC;\n",
              "    }\n",
              "\n",
              "    [theme=dark] .colab-df-convert:hover {\n",
              "      background-color: #434B5C;\n",
              "      box-shadow: 0px 1px 3px 1px rgba(0, 0, 0, 0.15);\n",
              "      filter: drop-shadow(0px 1px 2px rgba(0, 0, 0, 0.3));\n",
              "      fill: #FFFFFF;\n",
              "    }\n",
              "  </style>\n",
              "\n",
              "    <script>\n",
              "      const buttonEl =\n",
              "        document.querySelector('#df-a0a4926d-199f-4c88-8a3d-21fba426b4bd button.colab-df-convert');\n",
              "      buttonEl.style.display =\n",
              "        google.colab.kernel.accessAllowed ? 'block' : 'none';\n",
              "\n",
              "      async function convertToInteractive(key) {\n",
              "        const element = document.querySelector('#df-a0a4926d-199f-4c88-8a3d-21fba426b4bd');\n",
              "        const dataTable =\n",
              "          await google.colab.kernel.invokeFunction('convertToInteractive',\n",
              "                                                    [key], {});\n",
              "        if (!dataTable) return;\n",
              "\n",
              "        const docLinkHtml = 'Like what you see? Visit the ' +\n",
              "          '<a target=\"_blank\" href=https://colab.research.google.com/notebooks/data_table.ipynb>data table notebook</a>'\n",
              "          + ' to learn more about interactive tables.';\n",
              "        element.innerHTML = '';\n",
              "        dataTable['output_type'] = 'display_data';\n",
              "        await google.colab.output.renderOutput(dataTable, element);\n",
              "        const docLink = document.createElement('div');\n",
              "        docLink.innerHTML = docLinkHtml;\n",
              "        element.appendChild(docLink);\n",
              "      }\n",
              "    </script>\n",
              "  </div>\n",
              "\n",
              "\n",
              "    </div>\n",
              "  </div>\n"
            ],
            "application/vnd.google.colaboratory.intrinsic+json": {
              "type": "dataframe",
              "variable_name": "places",
              "summary": "{\n  \"name\": \"places\",\n  \"rows\": 18,\n  \"fields\": [\n    {\n      \"column\": \"address_name\",\n      \"properties\": {\n        \"dtype\": \"string\",\n        \"num_unique_values\": 18,\n        \"samples\": [\n          \"\\uc11c\\uc6b8 \\ub3d9\\ub300\\ubb38\\uad6c \\uc804\\ub18d\\ub3d9 591-53\",\n          \"\\uc11c\\uc6b8 \\uc911\\uad6c \\uc744\\uc9c0\\ub85c6\\uac00 17-2\",\n          \"\\uc11c\\uc6b8 \\uac15\\ub0a8\\uad6c \\uc5ed\\uc0bc\\ub3d9 800\"\n        ],\n        \"semantic_type\": \"\",\n        \"description\": \"\"\n      }\n    },\n    {\n      \"column\": \"category_group_code\",\n      \"properties\": {\n        \"dtype\": \"object\",\n        \"num_unique_values\": 1,\n        \"samples\": [\n          \"\"\n        ],\n        \"semantic_type\": \"\",\n        \"description\": \"\"\n      }\n    },\n    {\n      \"column\": \"category_group_name\",\n      \"properties\": {\n        \"dtype\": \"object\",\n        \"num_unique_values\": 1,\n        \"samples\": [\n          \"\"\n        ],\n        \"semantic_type\": \"\",\n        \"description\": \"\"\n      }\n    },\n    {\n      \"column\": \"category_name\",\n      \"properties\": {\n        \"dtype\": \"category\",\n        \"num_unique_values\": 1,\n        \"samples\": [\n          \"\\ubb38\\ud654,\\uc608\\uc220 > \\ub3c4\\uc11c > \\uc11c\\uc810 > \\uad50\\ubcf4\\ubb38\\uace0\"\n        ],\n        \"semantic_type\": \"\",\n        \"description\": \"\"\n      }\n    },\n    {\n      \"column\": \"distance\",\n      \"properties\": {\n        \"dtype\": \"string\",\n        \"num_unique_values\": 18,\n        \"samples\": [\n          \"891\"\n        ],\n        \"semantic_type\": \"\",\n        \"description\": \"\"\n      }\n    },\n    {\n      \"column\": \"id\",\n      \"properties\": {\n        \"dtype\": \"string\",\n        \"num_unique_values\": 18,\n        \"samples\": [\n          \"253947105\"\n        ],\n        \"semantic_type\": \"\",\n        \"description\": \"\"\n      }\n    },\n    {\n      \"column\": \"phone\",\n      \"properties\": {\n        \"dtype\": \"category\",\n        \"num_unique_values\": 6,\n        \"samples\": [\n          \"1544-1900\"\n        ],\n        \"semantic_type\": \"\",\n        \"description\": \"\"\n      }\n    },\n    {\n      \"column\": \"place_name\",\n      \"properties\": {\n        \"dtype\": \"string\",\n        \"num_unique_values\": 18,\n        \"samples\": [\n          \"\\uad50\\ubcf4\\ubb38\\uace0 \\uccad\\ub7c9\\ub9ac\\uc810\"\n        ],\n        \"semantic_type\": \"\",\n        \"description\": \"\"\n      }\n    },\n    {\n      \"column\": \"place_url\",\n      \"properties\": {\n        \"dtype\": \"string\",\n        \"num_unique_values\": 18,\n        \"samples\": [\n          \"http://place.map.kakao.com/253947105\"\n        ],\n        \"semantic_type\": \"\",\n        \"description\": \"\"\n      }\n    },\n    {\n      \"column\": \"road_address_name\",\n      \"properties\": {\n        \"dtype\": \"string\",\n        \"num_unique_values\": 17,\n        \"samples\": [\n          \"\\uc11c\\uc6b8 \\ub3d9\\ub300\\ubb38\\uad6c \\uc655\\uc0b0\\ub85c 214\"\n        ],\n        \"semantic_type\": \"\",\n        \"description\": \"\"\n      }\n    },\n    {\n      \"column\": \"x\",\n      \"properties\": {\n        \"dtype\": \"string\",\n        \"num_unique_values\": 18,\n        \"samples\": [\n          \"127.049079477084\"\n        ],\n        \"semantic_type\": \"\",\n        \"description\": \"\"\n      }\n    },\n    {\n      \"column\": \"y\",\n      \"properties\": {\n        \"dtype\": \"string\",\n        \"num_unique_values\": 18,\n        \"samples\": [\n          \"37.5806966564292\"\n        ],\n        \"semantic_type\": \"\",\n        \"description\": \"\"\n      }\n    },\n    {\n      \"column\": \"geometry\",\n      \"properties\": {\n        \"dtype\": \"geometry\",\n        \"num_unique_values\": 18,\n        \"samples\": [\n          \"POINT (127.049079477084 37.5806966564292)\"\n        ],\n        \"semantic_type\": \"\",\n        \"description\": \"\"\n      }\n    }\n  ]\n}"
            }
          },
          "metadata": {},
          "execution_count": 9
        }
      ],
      "source": [
        "# 필터링\n",
        "places = places[\n",
        "    places[\"category_name\"] == \"문화,예술 > 도서 > 서점 > 교보문고\"\n",
        "]\n",
        "print(f\"매장 개수: {len(places)}개\")\n",
        "places = places.set_crs(epsg=4326)\n",
        "places.to_file(\"places_by_query.gpkg\", driver=\"GPKG\")\n",
        "places.head(1)"
      ]
    },
    {
      "cell_type": "markdown",
      "source": [
        "검색결과는 GeoData 객체로 변환합니다."
      ],
      "metadata": {
        "id": "xVkn14OsSZl8"
      },
      "id": "xVkn14OsSZl8"
    },
    {
      "cell_type": "code",
      "execution_count": null,
      "id": "6569208c-fd46-41ac-a5e5-2c6da385af07",
      "metadata": {
        "id": "6569208c-fd46-41ac-a5e5-2c6da385af07"
      },
      "outputs": [],
      "source": [
        "# GeoPandas 레이어를 GeoData로 변환\n",
        "geo_data = GeoData(\n",
        "    geo_dataframe=places,\n",
        "    point_style={\n",
        "        'radius': 7,  # 점 크기\n",
        "        'color': 'darkblue',  # 색상\n",
        "        'fillOpacity': 0.7,  # 투명도\n",
        "        'fillColor': 'lightblue',  # 점 내부 색상\n",
        "        'weight': 2  # 점 테두리\n",
        "    },\n",
        "    name='교보문고'  # 레이어 이름\n",
        ")"
      ]
    },
    {
      "cell_type": "markdown",
      "source": [
        "검색 반경도 Circle로 생성해 보겠습니다."
      ],
      "metadata": {
        "id": "agnf0KtrSd4A"
      },
      "id": "agnf0KtrSd4A"
    },
    {
      "cell_type": "code",
      "execution_count": null,
      "id": "1f3e7a53-f1a3-4d50-b8e1-3de65a936915",
      "metadata": {
        "id": "1f3e7a53-f1a3-4d50-b8e1-3de65a936915"
      },
      "outputs": [],
      "source": [
        "# Circle 생성\n",
        "circle = Circle()\n",
        "circle.location = coordinate  # 원의 중심 좌표\n",
        "circle.radius = radius  # 원의 반경\n",
        "circle.color = \"red\"  # 원의 테두리 색상\n",
        "circle.fill_color = \"red\"  # 원의 내부 색상\n",
        "circle.fill_opacity = 0.5  # 원의 내부 투명도"
      ]
    },
    {
      "cell_type": "markdown",
      "source": [
        "이제 지도를 생성합니다. 검색 반경 내에 교보문고 매장 위치를 확인하실 수 있습니다."
      ],
      "metadata": {
        "id": "XZTFvBBASlN9"
      },
      "id": "XZTFvBBASlN9"
    },
    {
      "cell_type": "code",
      "execution_count": null,
      "id": "a8560bc1-45b4-43c6-a37d-d4ccdf46df51",
      "metadata": {
        "id": "a8560bc1-45b4-43c6-a37d-d4ccdf46df51",
        "outputId": "ff3c04a4-c550-41f5-c375-a3f19a59d994",
        "colab": {
          "base_uri": "https://localhost:8080/",
          "height": 521,
          "referenced_widgets": [
            "37160bd08400409cb5ecfa228ad6f67b",
            "b44ee84e30fb408380beec5b80450d9c",
            "c432c86f0c1549de94bf99b88ad0777e",
            "d37ce9f872f94111bfc2655f557b2442",
            "046f3f27001c4a1e9d73dbca6f4f31e4",
            "97dfa0d0d57e464b8be56052b9705a52",
            "98a57b6833a54673a045f6eee09db342",
            "74b3a887870448188651a86b7bf0782c",
            "7b393bf032164f59b2f1425250870c5b",
            "4a55fb2884c841bba60725f2ca3034db",
            "0909b9d54ae34496aebecb7cf13a98b2"
          ]
        }
      },
      "outputs": [
        {
          "output_type": "display_data",
          "data": {
            "text/plain": [
              "Map(center=[37.584828300773886, 127.05773316246166], controls=(ZoomControl(options=['position', 'zoom_in_text'…"
            ],
            "application/vnd.jupyter.widget-view+json": {
              "version_major": 2,
              "version_minor": 0,
              "model_id": "37160bd08400409cb5ecfa228ad6f67b"
            }
          },
          "metadata": {
            "application/vnd.jupyter.widget-view+json": {
              "colab": {
                "custom_widget_manager": {
                  "url": "https://ssl.gstatic.com/colaboratory-static/widgets/colab-cdn-widget-manager/2b70e893a8ba7c0f/manager.min.js"
                }
              }
            }
          }
        }
      ],
      "source": [
        "# 지도 생성 (Vworld 백지도 사용)\n",
        "m = Map(center=coordinate,\n",
        "        zoom=11,\n",
        "        layers=[vworld_white],\n",
        "        layout={'width': '800px', 'height': '500px'})\n",
        "\n",
        "m.add_layer(marker)\n",
        "m.add_layer(circle)\n",
        "m.add_layer(geo_data)\n",
        "m"
      ]
    },
    {
      "cell_type": "markdown",
      "id": "3ea002fb-fc40-4329-9059-b829b3cc9004",
      "metadata": {
        "id": "3ea002fb-fc40-4329-9059-b829b3cc9004"
      },
      "source": [
        "## 정해진 반경에서 카테고리로 장소 검색하기\n",
        "\n",
        "카카오 로컬 API는 정해진 반경 내에서 카테고리로 장소를 검색해볼 수 있습니다. 대형마트, 편의점, 어린이집, 유치원, 학교 등 다양한 카테고리로 확인이 가능합니다. 여기서는 서울시립대학교로부터 반경 500m 이내 어린이집, 유치원을 검색해 보겠습니다.\n",
        "\n",
        "| 이름 | MT1 | CS2 | PS3 | SC4 | AC5 | PK6 | OL7 | SW8 | BK9 | CT1 | AG2 | PO3 | AT4 | AD5 | FD6 | CE7 | HP8 | PM9 |\n",
        "|------|------|------|------|------|------|------|------|------|------|------|------|------|------|------|------|------|------|------|\n",
        "| 설명 | 대형마트 | 편의점 | 어린이집, 유치원 | 학교 | 학원 | 주차장 | 주유소, 충전소 | 지하철역 | 은행 | 문화시설 | 중개업소 | 공공기관 | 관광명소 | 숙박 | 음식점 | 카페 | 병원 | 약국 |"
      ]
    },
    {
      "cell_type": "code",
      "execution_count": null,
      "id": "97a3cf01-c712-4135-a13d-75b8a9881488",
      "metadata": {
        "id": "97a3cf01-c712-4135-a13d-75b8a9881488",
        "outputId": "a22e3d97-696c-4bf9-c8ec-305097e3f4b1",
        "colab": {
          "base_uri": "https://localhost:8080/",
          "height": 153
        }
      },
      "outputs": [
        {
          "output_type": "stream",
          "name": "stdout",
          "text": [
            "매장 개수: 8개\n"
          ]
        },
        {
          "output_type": "execute_result",
          "data": {
            "text/plain": [
              "        address_name category_group_code category_group_name  \\\n",
              "0  서울 동대문구 휘경동 302-2                 PS3            어린이집,유치원   \n",
              "\n",
              "        category_name distance        id         phone place_name  \\\n",
              "0  교육,학문 > 유아교육 > 유치원      182  10487569  02-2242-0354    서울휘경유치원   \n",
              "\n",
              "                             place_url road_address_name                 x  \\\n",
              "0  http://place.map.kakao.com/10487569  서울 동대문구 망우로6길 48  127.057072023037   \n",
              "\n",
              "                 y                    geometry  \n",
              "0  37.586380132083  POINT (127.05707 37.58638)  "
            ],
            "text/html": [
              "\n",
              "  <div id=\"df-87743a1c-6c72-4216-89a0-ce827a1c6155\" class=\"colab-df-container\">\n",
              "    <div>\n",
              "<style scoped>\n",
              "    .dataframe tbody tr th:only-of-type {\n",
              "        vertical-align: middle;\n",
              "    }\n",
              "\n",
              "    .dataframe tbody tr th {\n",
              "        vertical-align: top;\n",
              "    }\n",
              "\n",
              "    .dataframe thead th {\n",
              "        text-align: right;\n",
              "    }\n",
              "</style>\n",
              "<table border=\"1\" class=\"dataframe\">\n",
              "  <thead>\n",
              "    <tr style=\"text-align: right;\">\n",
              "      <th></th>\n",
              "      <th>address_name</th>\n",
              "      <th>category_group_code</th>\n",
              "      <th>category_group_name</th>\n",
              "      <th>category_name</th>\n",
              "      <th>distance</th>\n",
              "      <th>id</th>\n",
              "      <th>phone</th>\n",
              "      <th>place_name</th>\n",
              "      <th>place_url</th>\n",
              "      <th>road_address_name</th>\n",
              "      <th>x</th>\n",
              "      <th>y</th>\n",
              "      <th>geometry</th>\n",
              "    </tr>\n",
              "  </thead>\n",
              "  <tbody>\n",
              "    <tr>\n",
              "      <th>0</th>\n",
              "      <td>서울 동대문구 휘경동 302-2</td>\n",
              "      <td>PS3</td>\n",
              "      <td>어린이집,유치원</td>\n",
              "      <td>교육,학문 &gt; 유아교육 &gt; 유치원</td>\n",
              "      <td>182</td>\n",
              "      <td>10487569</td>\n",
              "      <td>02-2242-0354</td>\n",
              "      <td>서울휘경유치원</td>\n",
              "      <td>http://place.map.kakao.com/10487569</td>\n",
              "      <td>서울 동대문구 망우로6길 48</td>\n",
              "      <td>127.057072023037</td>\n",
              "      <td>37.586380132083</td>\n",
              "      <td>POINT (127.05707 37.58638)</td>\n",
              "    </tr>\n",
              "  </tbody>\n",
              "</table>\n",
              "</div>\n",
              "    <div class=\"colab-df-buttons\">\n",
              "\n",
              "  <div class=\"colab-df-container\">\n",
              "    <button class=\"colab-df-convert\" onclick=\"convertToInteractive('df-87743a1c-6c72-4216-89a0-ce827a1c6155')\"\n",
              "            title=\"Convert this dataframe to an interactive table.\"\n",
              "            style=\"display:none;\">\n",
              "\n",
              "  <svg xmlns=\"http://www.w3.org/2000/svg\" height=\"24px\" viewBox=\"0 -960 960 960\">\n",
              "    <path d=\"M120-120v-720h720v720H120Zm60-500h600v-160H180v160Zm220 220h160v-160H400v160Zm0 220h160v-160H400v160ZM180-400h160v-160H180v160Zm440 0h160v-160H620v160ZM180-180h160v-160H180v160Zm440 0h160v-160H620v160Z\"/>\n",
              "  </svg>\n",
              "    </button>\n",
              "\n",
              "  <style>\n",
              "    .colab-df-container {\n",
              "      display:flex;\n",
              "      gap: 12px;\n",
              "    }\n",
              "\n",
              "    .colab-df-convert {\n",
              "      background-color: #E8F0FE;\n",
              "      border: none;\n",
              "      border-radius: 50%;\n",
              "      cursor: pointer;\n",
              "      display: none;\n",
              "      fill: #1967D2;\n",
              "      height: 32px;\n",
              "      padding: 0 0 0 0;\n",
              "      width: 32px;\n",
              "    }\n",
              "\n",
              "    .colab-df-convert:hover {\n",
              "      background-color: #E2EBFA;\n",
              "      box-shadow: 0px 1px 2px rgba(60, 64, 67, 0.3), 0px 1px 3px 1px rgba(60, 64, 67, 0.15);\n",
              "      fill: #174EA6;\n",
              "    }\n",
              "\n",
              "    .colab-df-buttons div {\n",
              "      margin-bottom: 4px;\n",
              "    }\n",
              "\n",
              "    [theme=dark] .colab-df-convert {\n",
              "      background-color: #3B4455;\n",
              "      fill: #D2E3FC;\n",
              "    }\n",
              "\n",
              "    [theme=dark] .colab-df-convert:hover {\n",
              "      background-color: #434B5C;\n",
              "      box-shadow: 0px 1px 3px 1px rgba(0, 0, 0, 0.15);\n",
              "      filter: drop-shadow(0px 1px 2px rgba(0, 0, 0, 0.3));\n",
              "      fill: #FFFFFF;\n",
              "    }\n",
              "  </style>\n",
              "\n",
              "    <script>\n",
              "      const buttonEl =\n",
              "        document.querySelector('#df-87743a1c-6c72-4216-89a0-ce827a1c6155 button.colab-df-convert');\n",
              "      buttonEl.style.display =\n",
              "        google.colab.kernel.accessAllowed ? 'block' : 'none';\n",
              "\n",
              "      async function convertToInteractive(key) {\n",
              "        const element = document.querySelector('#df-87743a1c-6c72-4216-89a0-ce827a1c6155');\n",
              "        const dataTable =\n",
              "          await google.colab.kernel.invokeFunction('convertToInteractive',\n",
              "                                                    [key], {});\n",
              "        if (!dataTable) return;\n",
              "\n",
              "        const docLinkHtml = 'Like what you see? Visit the ' +\n",
              "          '<a target=\"_blank\" href=https://colab.research.google.com/notebooks/data_table.ipynb>data table notebook</a>'\n",
              "          + ' to learn more about interactive tables.';\n",
              "        element.innerHTML = '';\n",
              "        dataTable['output_type'] = 'display_data';\n",
              "        await google.colab.output.renderOutput(dataTable, element);\n",
              "        const docLink = document.createElement('div');\n",
              "        docLink.innerHTML = docLinkHtml;\n",
              "        element.appendChild(docLink);\n",
              "      }\n",
              "    </script>\n",
              "  </div>\n",
              "\n",
              "\n",
              "    </div>\n",
              "  </div>\n"
            ],
            "application/vnd.google.colaboratory.intrinsic+json": {
              "type": "dataframe",
              "variable_name": "places",
              "summary": "{\n  \"name\": \"places\",\n  \"rows\": 8,\n  \"fields\": [\n    {\n      \"column\": \"address_name\",\n      \"properties\": {\n        \"dtype\": \"string\",\n        \"num_unique_values\": 8,\n        \"samples\": [\n          \"\\uc11c\\uc6b8 \\ub3d9\\ub300\\ubb38\\uad6c \\ud718\\uacbd\\ub3d9 380\",\n          \"\\uc11c\\uc6b8 \\ub3d9\\ub300\\ubb38\\uad6c \\ud718\\uacbd\\ub3d9 343-4\",\n          \"\\uc11c\\uc6b8 \\ub3d9\\ub300\\ubb38\\uad6c \\ud718\\uacbd\\ub3d9 302-2\"\n        ],\n        \"semantic_type\": \"\",\n        \"description\": \"\"\n      }\n    },\n    {\n      \"column\": \"category_group_code\",\n      \"properties\": {\n        \"dtype\": \"category\",\n        \"num_unique_values\": 1,\n        \"samples\": [\n          \"PS3\"\n        ],\n        \"semantic_type\": \"\",\n        \"description\": \"\"\n      }\n    },\n    {\n      \"column\": \"category_group_name\",\n      \"properties\": {\n        \"dtype\": \"category\",\n        \"num_unique_values\": 1,\n        \"samples\": [\n          \"\\uc5b4\\ub9b0\\uc774\\uc9d1,\\uc720\\uce58\\uc6d0\"\n        ],\n        \"semantic_type\": \"\",\n        \"description\": \"\"\n      }\n    },\n    {\n      \"column\": \"category_name\",\n      \"properties\": {\n        \"dtype\": \"category\",\n        \"num_unique_values\": 2,\n        \"samples\": [\n          \"\\uad50\\uc721,\\ud559\\ubb38 > \\uc720\\uc544\\uad50\\uc721 > \\uc5b4\\ub9b0\\uc774\\uc9d1\"\n        ],\n        \"semantic_type\": \"\",\n        \"description\": \"\"\n      }\n    },\n    {\n      \"column\": \"distance\",\n      \"properties\": {\n        \"dtype\": \"string\",\n        \"num_unique_values\": 7,\n        \"samples\": [\n          \"182\"\n        ],\n        \"semantic_type\": \"\",\n        \"description\": \"\"\n      }\n    },\n    {\n      \"column\": \"id\",\n      \"properties\": {\n        \"dtype\": \"string\",\n        \"num_unique_values\": 8,\n        \"samples\": [\n          \"21655642\"\n        ],\n        \"semantic_type\": \"\",\n        \"description\": \"\"\n      }\n    },\n    {\n      \"column\": \"phone\",\n      \"properties\": {\n        \"dtype\": \"string\",\n        \"num_unique_values\": 8,\n        \"samples\": [\n          \"02-2243-2831\"\n        ],\n        \"semantic_type\": \"\",\n        \"description\": \"\"\n      }\n    },\n    {\n      \"column\": \"place_name\",\n      \"properties\": {\n        \"dtype\": \"string\",\n        \"num_unique_values\": 8,\n        \"samples\": [\n          \"\\ud718\\uacbd\\uc5b4\\ub9b0\\uc774\\uc9d1\"\n        ],\n        \"semantic_type\": \"\",\n        \"description\": \"\"\n      }\n    },\n    {\n      \"column\": \"place_url\",\n      \"properties\": {\n        \"dtype\": \"string\",\n        \"num_unique_values\": 8,\n        \"samples\": [\n          \"http://place.map.kakao.com/21655642\"\n        ],\n        \"semantic_type\": \"\",\n        \"description\": \"\"\n      }\n    },\n    {\n      \"column\": \"road_address_name\",\n      \"properties\": {\n        \"dtype\": \"string\",\n        \"num_unique_values\": 8,\n        \"samples\": [\n          \"\\uc11c\\uc6b8 \\ub3d9\\ub300\\ubb38\\uad6c \\ub9dd\\uc6b0\\ub85c 46\"\n        ],\n        \"semantic_type\": \"\",\n        \"description\": \"\"\n      }\n    },\n    {\n      \"column\": \"x\",\n      \"properties\": {\n        \"dtype\": \"string\",\n        \"num_unique_values\": 8,\n        \"samples\": [\n          \"127.05879144938042\"\n        ],\n        \"semantic_type\": \"\",\n        \"description\": \"\"\n      }\n    },\n    {\n      \"column\": \"y\",\n      \"properties\": {\n        \"dtype\": \"string\",\n        \"num_unique_values\": 8,\n        \"samples\": [\n          \"37.58876601763209\"\n        ],\n        \"semantic_type\": \"\",\n        \"description\": \"\"\n      }\n    },\n    {\n      \"column\": \"geometry\",\n      \"properties\": {\n        \"dtype\": \"geometry\",\n        \"num_unique_values\": 8,\n        \"samples\": [\n          \"POINT (127.05879144938042 37.58876601763209)\"\n        ],\n        \"semantic_type\": \"\",\n        \"description\": \"\"\n      }\n    }\n  ]\n}"
            }
          },
          "metadata": {},
          "execution_count": 27
        }
      ],
      "source": [
        "def get_places_by_category(coordinate, radius, category_group_code, api_key):\n",
        "    # 정해진 반경에서 카테고리로 장소 검색\n",
        "    url = \"https://dapi.kakao.com/v2/local/search/category.json\"\n",
        "    headers = {\"Authorization\": f\"KakaoAK {api_key}\"}\n",
        "    params = {\"category_group_code\": category_group_code,\n",
        "              \"x\": coordinate[1],\n",
        "              \"y\": coordinate[0],\n",
        "              \"radius\": radius}\n",
        "\n",
        "    places = []\n",
        "    while True:\n",
        "        response = requests.get(url, headers=headers, params=params)\n",
        "        data = response.json()\n",
        "        places.extend(data.get(\"documents\", []))\n",
        "        if data[\"meta\"][\"is_end\"]:\n",
        "            break\n",
        "        else:\n",
        "            params[\"page\"] = params.get(\"page\", 1) + 1\n",
        "    return gpd.GeoDataFrame(\n",
        "        places,\n",
        "        geometry=gpd.points_from_xy(\n",
        "            [place[\"x\"] for place in places], [place[\"y\"] for place in places]\n",
        "        ),\n",
        "    )\n",
        "\n",
        "radius = 500\n",
        "category_group_code = \"PS3\"  # 어린이집,유치원\n",
        "\n",
        "places = get_places_by_category(coordinate, radius, category_group_code, api_key)\n",
        "print(f\"매장 개수: {len(places)}개\")\n",
        "places = places.set_crs(epsg=4326)\n",
        "places.to_file(\"places_by_category.gpkg\", driver=\"GPKG\")\n",
        "places.head(1)"
      ]
    },
    {
      "cell_type": "code",
      "execution_count": null,
      "id": "8d63e52a-aa65-4051-850a-f2ee1169a89d",
      "metadata": {
        "id": "8d63e52a-aa65-4051-850a-f2ee1169a89d",
        "outputId": "ef919a29-cb6a-4bfa-da13-63b60f09c617",
        "colab": {
          "base_uri": "https://localhost:8080/",
          "height": 521,
          "referenced_widgets": [
            "849039bae25f4ad689913ab9aa1de1c8",
            "f4cb1a933d054a13b624bee8ba489df6",
            "85c9e7bbc3b646cc84fbfce721c26a1a",
            "364aa78183e6486083cb5ba4d7f0b1bc",
            "1b46ecdc733b4a47abdfdc302dc9dc93",
            "97dfa0d0d57e464b8be56052b9705a52",
            "98a57b6833a54673a045f6eee09db342",
            "620cac56c54b4655ad10f1b3517db07d",
            "5953f2f45dc943e7821aea04a3075036",
            "76db369974bd41ff93760d4f26d52f73",
            "aa10a6224b07463792c3c6f72761edfa"
          ]
        }
      },
      "outputs": [
        {
          "output_type": "display_data",
          "data": {
            "text/plain": [
              "Map(center=[37.584828300773886, 127.05773316246166], controls=(ZoomControl(options=['position', 'zoom_in_text'…"
            ],
            "application/vnd.jupyter.widget-view+json": {
              "version_major": 2,
              "version_minor": 0,
              "model_id": "849039bae25f4ad689913ab9aa1de1c8"
            }
          },
          "metadata": {
            "application/vnd.jupyter.widget-view+json": {
              "colab": {
                "custom_widget_manager": {
                  "url": "https://ssl.gstatic.com/colaboratory-static/widgets/colab-cdn-widget-manager/2b70e893a8ba7c0f/manager.min.js"
                }
              }
            }
          }
        }
      ],
      "source": [
        "# GeoPandas 레이어를 GeoData로 변환\n",
        "geo_data = GeoData(\n",
        "    geo_dataframe=places,\n",
        "    point_style={\n",
        "        'radius': 7,  # 점 크기\n",
        "        'color': 'darkblue',  # 색상\n",
        "        'fillOpacity': 0.7,  # 투명도\n",
        "        'fillColor': 'lightblue',  # 점 내부 색상\n",
        "        'weight': 2  # 점 테두리\n",
        "    },\n",
        "    name='어린이집, 유치원'  # 레이어 이름\n",
        ")\n",
        "\n",
        "# Circle 생성\n",
        "circle = Circle()\n",
        "circle.location = coordinate  # 원의 중심 좌표\n",
        "circle.radius = radius  # 원의 반경\n",
        "circle.color = \"red\"  # 원의 테두리 색상\n",
        "circle.fill_color = \"red\"  # 원의 내부 색상\n",
        "circle.fill_opacity = 0.5  # 원의 내부 투명도\n",
        "\n",
        "# 지도 생성 (Vworld 백지도 사용)\n",
        "m = Map(center=coordinate,\n",
        "        zoom=16,\n",
        "        layers=[vworld_white],\n",
        "        layout={'width': '800px', 'height': '500px'})\n",
        "\n",
        "m.add_layer(marker)\n",
        "m.add_layer(circle)\n",
        "m.add_layer(geo_data)\n",
        "m"
      ]
    },
    {
      "cell_type": "markdown",
      "id": "a480672b-9524-4459-81a5-4f36261cb105",
      "metadata": {
        "id": "a480672b-9524-4459-81a5-4f36261cb105"
      },
      "source": [
        "## 사각형 범위 내에서 제한 검색하기\n",
        "\n",
        "검색 반경을 사각형 범위로 바꾸는 것도 가능합니다. 좌측 X 좌표, 좌측 Y 좌표, 우측 X 좌표, 우측 Y 좌표 형식으로 조회하면 됩니다."
      ]
    },
    {
      "cell_type": "code",
      "execution_count": null,
      "id": "5af59e97-1e5b-422e-a950-8d8610186ed0",
      "metadata": {
        "id": "5af59e97-1e5b-422e-a950-8d8610186ed0"
      },
      "outputs": [],
      "source": [
        "def get_places_by_category_with_rect(bbox, category_group_code, api_key):\n",
        "    # 사각형 영역에서 카테고리로 장소 검색\n",
        "    url = \"https://dapi.kakao.com/v2/local/search/category.json\"\n",
        "    headers = {\"Authorization\": f\"KakaoAK {api_key}\"}\n",
        "\n",
        "    params = {\"category_group_code\": category_group_code,\n",
        "              \"rect\": bbox}\n",
        "\n",
        "    places = []\n",
        "    while True:\n",
        "        response = requests.get(url, headers=headers, params=params)\n",
        "        data = response.json()\n",
        "        places.extend(data.get(\"documents\", []))\n",
        "        if data[\"meta\"][\"is_end\"]:\n",
        "            break\n",
        "        else:\n",
        "            params[\"page\"] = params.get(\"page\", 1) + 1\n",
        "\n",
        "    return gpd.GeoDataFrame(\n",
        "        places,\n",
        "        geometry=gpd.points_from_xy(\n",
        "            [float(place[\"x\"]) for place in places], [float(place[\"y\"]) for place in places]\n",
        "        ),\n",
        "    )"
      ]
    },
    {
      "cell_type": "code",
      "execution_count": null,
      "id": "ca796fa9-e35a-4951-bd96-3c8166050e85",
      "metadata": {
        "id": "ca796fa9-e35a-4951-bd96-3c8166050e85",
        "outputId": "600817ba-8b67-4c98-8e75-a633d40540fa",
        "colab": {
          "base_uri": "https://localhost:8080/",
          "height": 153
        }
      },
      "outputs": [
        {
          "output_type": "stream",
          "name": "stdout",
          "text": [
            "매장 개수: 33개\n"
          ]
        },
        {
          "output_type": "execute_result",
          "data": {
            "text/plain": [
              "      address_name category_group_code category_group_name     category_name  \\\n",
              "0  서울 동대문구 전농동 694                 SC4                  학교  교육,학문 > 학교 > 대학교   \n",
              "\n",
              "  distance        id         phone place_name  \\\n",
              "0           10498806  02-6490-6114    서울시립대학교   \n",
              "\n",
              "                             place_url   road_address_name  \\\n",
              "0  http://place.map.kakao.com/10498806  서울 동대문구 서울시립대로 163   \n",
              "\n",
              "                    x                   y                    geometry  \n",
              "0  127.05773316246166  37.584828300773886  POINT (127.05773 37.58483)  "
            ],
            "text/html": [
              "\n",
              "  <div id=\"df-aebd4d9d-fee1-4aaf-8893-11d7b4c8fbe6\" class=\"colab-df-container\">\n",
              "    <div>\n",
              "<style scoped>\n",
              "    .dataframe tbody tr th:only-of-type {\n",
              "        vertical-align: middle;\n",
              "    }\n",
              "\n",
              "    .dataframe tbody tr th {\n",
              "        vertical-align: top;\n",
              "    }\n",
              "\n",
              "    .dataframe thead th {\n",
              "        text-align: right;\n",
              "    }\n",
              "</style>\n",
              "<table border=\"1\" class=\"dataframe\">\n",
              "  <thead>\n",
              "    <tr style=\"text-align: right;\">\n",
              "      <th></th>\n",
              "      <th>address_name</th>\n",
              "      <th>category_group_code</th>\n",
              "      <th>category_group_name</th>\n",
              "      <th>category_name</th>\n",
              "      <th>distance</th>\n",
              "      <th>id</th>\n",
              "      <th>phone</th>\n",
              "      <th>place_name</th>\n",
              "      <th>place_url</th>\n",
              "      <th>road_address_name</th>\n",
              "      <th>x</th>\n",
              "      <th>y</th>\n",
              "      <th>geometry</th>\n",
              "    </tr>\n",
              "  </thead>\n",
              "  <tbody>\n",
              "    <tr>\n",
              "      <th>0</th>\n",
              "      <td>서울 동대문구 전농동 694</td>\n",
              "      <td>SC4</td>\n",
              "      <td>학교</td>\n",
              "      <td>교육,학문 &gt; 학교 &gt; 대학교</td>\n",
              "      <td></td>\n",
              "      <td>10498806</td>\n",
              "      <td>02-6490-6114</td>\n",
              "      <td>서울시립대학교</td>\n",
              "      <td>http://place.map.kakao.com/10498806</td>\n",
              "      <td>서울 동대문구 서울시립대로 163</td>\n",
              "      <td>127.05773316246166</td>\n",
              "      <td>37.584828300773886</td>\n",
              "      <td>POINT (127.05773 37.58483)</td>\n",
              "    </tr>\n",
              "  </tbody>\n",
              "</table>\n",
              "</div>\n",
              "    <div class=\"colab-df-buttons\">\n",
              "\n",
              "  <div class=\"colab-df-container\">\n",
              "    <button class=\"colab-df-convert\" onclick=\"convertToInteractive('df-aebd4d9d-fee1-4aaf-8893-11d7b4c8fbe6')\"\n",
              "            title=\"Convert this dataframe to an interactive table.\"\n",
              "            style=\"display:none;\">\n",
              "\n",
              "  <svg xmlns=\"http://www.w3.org/2000/svg\" height=\"24px\" viewBox=\"0 -960 960 960\">\n",
              "    <path d=\"M120-120v-720h720v720H120Zm60-500h600v-160H180v160Zm220 220h160v-160H400v160Zm0 220h160v-160H400v160ZM180-400h160v-160H180v160Zm440 0h160v-160H620v160ZM180-180h160v-160H180v160Zm440 0h160v-160H620v160Z\"/>\n",
              "  </svg>\n",
              "    </button>\n",
              "\n",
              "  <style>\n",
              "    .colab-df-container {\n",
              "      display:flex;\n",
              "      gap: 12px;\n",
              "    }\n",
              "\n",
              "    .colab-df-convert {\n",
              "      background-color: #E8F0FE;\n",
              "      border: none;\n",
              "      border-radius: 50%;\n",
              "      cursor: pointer;\n",
              "      display: none;\n",
              "      fill: #1967D2;\n",
              "      height: 32px;\n",
              "      padding: 0 0 0 0;\n",
              "      width: 32px;\n",
              "    }\n",
              "\n",
              "    .colab-df-convert:hover {\n",
              "      background-color: #E2EBFA;\n",
              "      box-shadow: 0px 1px 2px rgba(60, 64, 67, 0.3), 0px 1px 3px 1px rgba(60, 64, 67, 0.15);\n",
              "      fill: #174EA6;\n",
              "    }\n",
              "\n",
              "    .colab-df-buttons div {\n",
              "      margin-bottom: 4px;\n",
              "    }\n",
              "\n",
              "    [theme=dark] .colab-df-convert {\n",
              "      background-color: #3B4455;\n",
              "      fill: #D2E3FC;\n",
              "    }\n",
              "\n",
              "    [theme=dark] .colab-df-convert:hover {\n",
              "      background-color: #434B5C;\n",
              "      box-shadow: 0px 1px 3px 1px rgba(0, 0, 0, 0.15);\n",
              "      filter: drop-shadow(0px 1px 2px rgba(0, 0, 0, 0.3));\n",
              "      fill: #FFFFFF;\n",
              "    }\n",
              "  </style>\n",
              "\n",
              "    <script>\n",
              "      const buttonEl =\n",
              "        document.querySelector('#df-aebd4d9d-fee1-4aaf-8893-11d7b4c8fbe6 button.colab-df-convert');\n",
              "      buttonEl.style.display =\n",
              "        google.colab.kernel.accessAllowed ? 'block' : 'none';\n",
              "\n",
              "      async function convertToInteractive(key) {\n",
              "        const element = document.querySelector('#df-aebd4d9d-fee1-4aaf-8893-11d7b4c8fbe6');\n",
              "        const dataTable =\n",
              "          await google.colab.kernel.invokeFunction('convertToInteractive',\n",
              "                                                    [key], {});\n",
              "        if (!dataTable) return;\n",
              "\n",
              "        const docLinkHtml = 'Like what you see? Visit the ' +\n",
              "          '<a target=\"_blank\" href=https://colab.research.google.com/notebooks/data_table.ipynb>data table notebook</a>'\n",
              "          + ' to learn more about interactive tables.';\n",
              "        element.innerHTML = '';\n",
              "        dataTable['output_type'] = 'display_data';\n",
              "        await google.colab.output.renderOutput(dataTable, element);\n",
              "        const docLink = document.createElement('div');\n",
              "        docLink.innerHTML = docLinkHtml;\n",
              "        element.appendChild(docLink);\n",
              "      }\n",
              "    </script>\n",
              "  </div>\n",
              "\n",
              "\n",
              "    </div>\n",
              "  </div>\n"
            ],
            "application/vnd.google.colaboratory.intrinsic+json": {
              "type": "dataframe",
              "variable_name": "places",
              "summary": "{\n  \"name\": \"places\",\n  \"rows\": 33,\n  \"fields\": [\n    {\n      \"column\": \"address_name\",\n      \"properties\": {\n        \"dtype\": \"string\",\n        \"num_unique_values\": 28,\n        \"samples\": [\n          \"\\uc11c\\uc6b8 \\ub3d9\\ub300\\ubb38\\uad6c \\uc7a5\\uc548\\ub3d9 328\",\n          \"\\uc11c\\uc6b8 \\ub3d9\\ub300\\ubb38\\uad6c \\uccad\\ub7c9\\ub9ac\\ub3d9 206-44\",\n          \"\\uc11c\\uc6b8 \\ub3d9\\ub300\\ubb38\\uad6c \\ud718\\uacbd\\ub3d9 286-66\"\n        ],\n        \"semantic_type\": \"\",\n        \"description\": \"\"\n      }\n    },\n    {\n      \"column\": \"category_group_code\",\n      \"properties\": {\n        \"dtype\": \"category\",\n        \"num_unique_values\": 1,\n        \"samples\": [\n          \"SC4\"\n        ],\n        \"semantic_type\": \"\",\n        \"description\": \"\"\n      }\n    },\n    {\n      \"column\": \"category_group_name\",\n      \"properties\": {\n        \"dtype\": \"category\",\n        \"num_unique_values\": 1,\n        \"samples\": [\n          \"\\ud559\\uad50\"\n        ],\n        \"semantic_type\": \"\",\n        \"description\": \"\"\n      }\n    },\n    {\n      \"column\": \"category_name\",\n      \"properties\": {\n        \"dtype\": \"category\",\n        \"num_unique_values\": 5,\n        \"samples\": [\n          \"\\uad50\\uc721,\\ud559\\ubb38 > \\ud559\\uad50 > \\ucd08\\ub4f1\\ud559\\uad50\"\n        ],\n        \"semantic_type\": \"\",\n        \"description\": \"\"\n      }\n    },\n    {\n      \"column\": \"distance\",\n      \"properties\": {\n        \"dtype\": \"object\",\n        \"num_unique_values\": 1,\n        \"samples\": [\n          \"\"\n        ],\n        \"semantic_type\": \"\",\n        \"description\": \"\"\n      }\n    },\n    {\n      \"column\": \"id\",\n      \"properties\": {\n        \"dtype\": \"string\",\n        \"num_unique_values\": 33,\n        \"samples\": [\n          \"17358636\"\n        ],\n        \"semantic_type\": \"\",\n        \"description\": \"\"\n      }\n    },\n    {\n      \"column\": \"phone\",\n      \"properties\": {\n        \"dtype\": \"string\",\n        \"num_unique_values\": 33,\n        \"samples\": [\n          \"02-2116-7206\"\n        ],\n        \"semantic_type\": \"\",\n        \"description\": \"\"\n      }\n    },\n    {\n      \"column\": \"place_name\",\n      \"properties\": {\n        \"dtype\": \"string\",\n        \"num_unique_values\": 33,\n        \"samples\": [\n          \"\\ud718\\ubd09\\uace0\\ub4f1\\ud559\\uad50\"\n        ],\n        \"semantic_type\": \"\",\n        \"description\": \"\"\n      }\n    },\n    {\n      \"column\": \"place_url\",\n      \"properties\": {\n        \"dtype\": \"string\",\n        \"num_unique_values\": 33,\n        \"samples\": [\n          \"http://place.map.kakao.com/17358636\"\n        ],\n        \"semantic_type\": \"\",\n        \"description\": \"\"\n      }\n    },\n    {\n      \"column\": \"road_address_name\",\n      \"properties\": {\n        \"dtype\": \"string\",\n        \"num_unique_values\": 29,\n        \"samples\": [\n          \"\\uc11c\\uc6b8 \\ub3d9\\ub300\\ubb38\\uad6c \\ud55c\\ucc9c\\ub85c 290\"\n        ],\n        \"semantic_type\": \"\",\n        \"description\": \"\"\n      }\n    },\n    {\n      \"column\": \"x\",\n      \"properties\": {\n        \"dtype\": \"string\",\n        \"num_unique_values\": 33,\n        \"samples\": [\n          \"127.06903268100889\"\n        ],\n        \"semantic_type\": \"\",\n        \"description\": \"\"\n      }\n    },\n    {\n      \"column\": \"y\",\n      \"properties\": {\n        \"dtype\": \"string\",\n        \"num_unique_values\": 33,\n        \"samples\": [\n          \"37.58646744636223\"\n        ],\n        \"semantic_type\": \"\",\n        \"description\": \"\"\n      }\n    },\n    {\n      \"column\": \"geometry\",\n      \"properties\": {\n        \"dtype\": \"geometry\",\n        \"num_unique_values\": 33,\n        \"samples\": [\n          \"POINT (127.06903268100889 37.58646744636223)\"\n        ],\n        \"semantic_type\": \"\",\n        \"description\": \"\"\n      }\n    }\n  ]\n}"
            }
          },
          "metadata": {},
          "execution_count": 30
        }
      ],
      "source": [
        "# 좌측 X 좌표, 좌측 Y 좌표, 우측 X 좌표, 우측 Y 좌표 형식\n",
        "bbox = \"127.03506145225234,37.5938114125238,127.08040487267098,37.57584518902397\"\n",
        "\n",
        "category_group_code = \"SC4\" # 학교\n",
        "\n",
        "places = get_places_by_category_with_rect(bbox, category_group_code, api_key)\n",
        "print(f\"매장 개수: {len(places)}개\")\n",
        "places = places.set_crs(epsg=4326)\n",
        "places.to_file(\"places_by_category_with_rect.gpkg\", driver=\"GPKG\")\n",
        "places.head(1)"
      ]
    },
    {
      "cell_type": "code",
      "execution_count": null,
      "id": "2fbe147b-f417-40d6-a766-dc30e39e2a10",
      "metadata": {
        "id": "2fbe147b-f417-40d6-a766-dc30e39e2a10",
        "outputId": "14152b7b-7e6d-47c3-cf80-6b984e8eee4c",
        "colab": {
          "base_uri": "https://localhost:8080/",
          "height": 521,
          "referenced_widgets": [
            "29935238adf346d5bbe2a8c7251ff47d",
            "e30422c378644fbb81eea2349ba67d47",
            "7a3eee9a742444db8539e5995f8c38b3",
            "b45db8a4af9d41e6bf4f7235ab830dfc",
            "c8354907f3a44cdb92af98291ffc4ef2",
            "97dfa0d0d57e464b8be56052b9705a52",
            "98a57b6833a54673a045f6eee09db342",
            "c0ad6dd6a2824786a59b600522486b37",
            "6f48d5261f654d4bbd5cced51456ae2d",
            "7bb9d2e30ef0489db01ee4903087e40d",
            "c55dd390bf45400099352b2be52c136a"
          ]
        }
      },
      "outputs": [
        {
          "output_type": "display_data",
          "data": {
            "text/plain": [
              "Map(center=[37.584828300773886, 127.05773316246166], controls=(ZoomControl(options=['position', 'zoom_in_text'…"
            ],
            "application/vnd.jupyter.widget-view+json": {
              "version_major": 2,
              "version_minor": 0,
              "model_id": "29935238adf346d5bbe2a8c7251ff47d"
            }
          },
          "metadata": {
            "application/vnd.jupyter.widget-view+json": {
              "colab": {
                "custom_widget_manager": {
                  "url": "https://ssl.gstatic.com/colaboratory-static/widgets/colab-cdn-widget-manager/2b70e893a8ba7c0f/manager.min.js"
                }
              }
            }
          }
        }
      ],
      "source": [
        "# GeoPandas 레이어를 GeoData로 변환\n",
        "geo_data = GeoData(\n",
        "    geo_dataframe=places,\n",
        "    point_style={\n",
        "        'radius': 7,  # 점 크기\n",
        "        'color': 'darkblue',  # 색상\n",
        "        'fillOpacity': 0.7,  # 투명도\n",
        "        'fillColor': 'lightblue',  # 점 내부 색상\n",
        "        'weight': 2  # 점 테두리\n",
        "    },\n",
        "    name='학교'  # 레이어 이름\n",
        ")\n",
        "\n",
        "# Rectangle(사각형) 생성\n",
        "bbox_values = [float(val) for val in bbox.split(\",\")]\n",
        "\n",
        "# ((최소 위도, 최소 경도), (최대 위도, 최대 경도))\n",
        "bbox_bounds = ((bbox_values[1], bbox_values[0]), (bbox_values[3], bbox_values[2]))\n",
        "rectangle = Rectangle(bounds=bbox_bounds, color=\"red\", fill_opacity=0.2)\n",
        "\n",
        "# bbox_bounds에서 중앙 좌표 계산\n",
        "center_lat = (bbox_bounds[0][0] + bbox_bounds[1][0]) / 2\n",
        "center_lon = (bbox_bounds[0][1] + bbox_bounds[1][1]) / 2\n",
        "\n",
        "# 지도 생성 (Vworld 백지도 사용)\n",
        "m = Map(center=coordinate,\n",
        "        zoom=14,\n",
        "        layers=[vworld_white],\n",
        "        layout={'width': '800px', 'height': '500px'})\n",
        "\n",
        "m.add_layer(marker)\n",
        "m.add_layer(rectangle)\n",
        "m.add_layer(geo_data)\n",
        "m"
      ]
    },
    {
      "cell_type": "markdown",
      "source": [
        "검색하고자 하는 영역이 넓은 경우에는 전체 영역을 적정하게 분할하여 데이터를 수집한 후, 중복성을 제거하는 방식으로 병합하면 될 것 같습니다."
      ],
      "metadata": {
        "id": "Pcptg4TuUXYb"
      },
      "id": "Pcptg4TuUXYb"
    },
    {
      "cell_type": "code",
      "source": [
        "from ipyleaflet import Heatmap, Map\n",
        "\n",
        "# 예시 위치 데이터\n",
        "locations = [(37.77, -122.42, 1), (37.76, -122.43, 2), (37.75, -122.44, 3)]\n",
        "\n",
        "# Heatmap 레이어 생성, gradient 옵션에 RGBA 색상 코드 포함\n",
        "heatmap = Heatmap(\n",
        "    locations=marker,\n",
        "    radius=20000,\n",
        "    gradient={\n",
        "        0.2: 'rgba(0, 0, 255, 0.4)', # 푸른색, 낮은 투명도\n",
        "        0.4: 'rgba(0, 255, 255, 0.4)', # 청록색, 중간 투명도\n",
        "        0.6: 'rgba(0, 255, 0, 0.4)', # 녹색, 높은 투명도\n",
        "        0.8: 'rgba(255, 255, 0, 0.4)', # 노란색, 더 높은 투명도\n",
        "        1.0: 'rgba(255, 0, 0, 0.4)' # 빨간색, 투명도 없음\n",
        "    }\n",
        ")\n",
        "\n",
        "# 지도 생성 및 Heatmap 레이어 추가\n",
        "m = Map(center=(37.76, -122.45), zoom=12)\n",
        "m.add_layer(heatmap)\n",
        "\n",
        "m"
      ],
      "metadata": {
        "id": "CNBVz5wyUmKd",
        "outputId": "ba58d958-460f-4df5-b8ca-050188905fb6",
        "colab": {
          "base_uri": "https://localhost:8080/",
          "height": 219
        }
      },
      "id": "CNBVz5wyUmKd",
      "execution_count": 9,
      "outputs": [
        {
          "output_type": "error",
          "ename": "NameError",
          "evalue": "name 'marker' is not defined",
          "traceback": [
            "\u001b[0;31m---------------------------------------------------------------------------\u001b[0m",
            "\u001b[0;31mNameError\u001b[0m                                 Traceback (most recent call last)",
            "\u001b[0;32m<ipython-input-9-555266e64159>\u001b[0m in \u001b[0;36m<cell line: 7>\u001b[0;34m()\u001b[0m\n\u001b[1;32m      6\u001b[0m \u001b[0;31m# Heatmap 레이어 생성, gradient 옵션에 RGBA 색상 코드 포함\u001b[0m\u001b[0;34m\u001b[0m\u001b[0;34m\u001b[0m\u001b[0m\n\u001b[1;32m      7\u001b[0m heatmap = Heatmap(\n\u001b[0;32m----> 8\u001b[0;31m     \u001b[0mlocations\u001b[0m\u001b[0;34m=\u001b[0m\u001b[0mmarker\u001b[0m\u001b[0;34m,\u001b[0m\u001b[0;34m\u001b[0m\u001b[0;34m\u001b[0m\u001b[0m\n\u001b[0m\u001b[1;32m      9\u001b[0m     \u001b[0mradius\u001b[0m\u001b[0;34m=\u001b[0m\u001b[0;36m20000\u001b[0m\u001b[0;34m,\u001b[0m\u001b[0;34m\u001b[0m\u001b[0;34m\u001b[0m\u001b[0m\n\u001b[1;32m     10\u001b[0m     gradient={\n",
            "\u001b[0;31mNameError\u001b[0m: name 'marker' is not defined"
          ]
        }
      ]
    },
    {
      "cell_type": "code",
      "source": [
        "from ipyleaflet import Map, Heatmap\n",
        "from random import uniform\n",
        "m = Map(center=(0, 0), zoom=2)\n",
        "\n",
        "heatmap = Heatmap(\n",
        "    locations=[[uniform(-80, 80), uniform(-180, 180), uniform(0, 1000)] for i in range(1000)],\n",
        "    radius=50\n",
        ")\n",
        "\n",
        "m.add(heatmap);\n",
        "\n",
        "m"
      ],
      "metadata": {
        "id": "L8cXski-s4zk",
        "outputId": "ca5bde9c-d872-4fe8-8985-538e3086ddb2",
        "colab": {
          "base_uri": "https://localhost:8080/",
          "height": 421,
          "referenced_widgets": [
            "3ac8025641244ac2a47f9f02f5563f20",
            "4944478a2f79455e839c9e6bd06fbb5f",
            "611a0bd37a0340afb747c591a3a10f21",
            "8528e859ce014b9f8e3e882fd633341f",
            "212a3d5ac3f6477990c273ad391551c0",
            "be8904f08e784f24a59a5ca73333ea1f",
            "72b244cf69d64810aba0e040fabae428",
            "84caa5212a86443eba55038253c35464",
            "d832ad37c9f24c4297ac7d5c903bc010"
          ]
        }
      },
      "id": "L8cXski-s4zk",
      "execution_count": 11,
      "outputs": [
        {
          "output_type": "display_data",
          "data": {
            "text/plain": [
              "Map(center=[0, 0], controls=(ZoomControl(options=['position', 'zoom_in_text', 'zoom_in_title', 'zoom_out_text'…"
            ],
            "application/vnd.jupyter.widget-view+json": {
              "version_major": 2,
              "version_minor": 0,
              "model_id": "3ac8025641244ac2a47f9f02f5563f20"
            }
          },
          "metadata": {
            "application/vnd.jupyter.widget-view+json": {
              "colab": {
                "custom_widget_manager": {
                  "url": "https://ssl.gstatic.com/colaboratory-static/widgets/colab-cdn-widget-manager/2b70e893a8ba7c0f/manager.min.js"
                }
              }
            }
          }
        }
      ]
    },
    {
      "cell_type": "code",
      "source": [],
      "metadata": {
        "id": "eNX7dfoRrqDk"
      },
      "id": "eNX7dfoRrqDk",
      "execution_count": null,
      "outputs": []
    }
  ],
  "metadata": {
    "kernelspec": {
      "display_name": "Python 3 (ipykernel)",
      "language": "python",
      "name": "python3"
    },
    "language_info": {
      "codemirror_mode": {
        "name": "ipython",
        "version": 3
      },
      "file_extension": ".py",
      "mimetype": "text/x-python",
      "name": "python",
      "nbconvert_exporter": "python",
      "pygments_lexer": "ipython3",
      "version": "3.10.11"
    },
    "colab": {
      "provenance": [],
      "include_colab_link": true
    },
    "widgets": {
      "application/vnd.jupyter.widget-state+json": {
        "3f24b8f4e2e0481fafb12912bd8eea96": {
          "model_module": "jupyter-leaflet",
          "model_name": "LeafletMapModel",
          "model_module_version": "^0.18",
          "state": {
            "_dom_classes": [],
            "_model_module": "jupyter-leaflet",
            "_model_module_version": "^0.18",
            "_model_name": "LeafletMapModel",
            "_view_count": null,
            "_view_module": "jupyter-leaflet",
            "_view_module_version": "^0.18",
            "_view_name": "LeafletMapView",
            "bottom": 6496188,
            "bounce_at_zoom_limits": true,
            "box_zoom": true,
            "center": [
              37.584828300773886,
              127.05773316246166
            ],
            "close_popup_on_click": true,
            "controls": [
              "IPY_MODEL_fb7f91d026a94c5799b83b09fa469f25",
              "IPY_MODEL_8251b1521b864c4695e77409148e7116"
            ],
            "crs": {
              "name": "EPSG3857",
              "custom": false
            },
            "default_style": "IPY_MODEL_784a60f7e7b64fcba75fb209d54eacd0",
            "double_click_zoom": true,
            "dragging": true,
            "dragging_style": "IPY_MODEL_f5a7f68c3fac40b8b78be658131075af",
            "east": 127.06632614135744,
            "fullscreen": false,
            "inertia": true,
            "inertia_deceleration": 3000,
            "inertia_max_speed": 1500,
            "interpolation": "bilinear",
            "keyboard": true,
            "keyboard_pan_offset": 80,
            "keyboard_zoom_offset": 1,
            "layers": [
              "IPY_MODEL_97dfa0d0d57e464b8be56052b9705a52",
              "IPY_MODEL_98a57b6833a54673a045f6eee09db342"
            ],
            "layout": "IPY_MODEL_89f390467e5e47aaa687be4ae758225c",
            "left": 14309528,
            "max_zoom": null,
            "min_zoom": null,
            "modisdate": "2024-03-21",
            "north": 37.589070951024716,
            "options": [
              "bounce_at_zoom_limits",
              "box_zoom",
              "center",
              "close_popup_on_click",
              "double_click_zoom",
              "dragging",
              "fullscreen",
              "inertia",
              "inertia_deceleration",
              "inertia_max_speed",
              "interpolation",
              "keyboard",
              "keyboard_pan_offset",
              "keyboard_zoom_offset",
              "max_zoom",
              "min_zoom",
              "prefer_canvas",
              "scroll_wheel_zoom",
              "tap",
              "tap_tolerance",
              "touch_zoom",
              "world_copy_jump",
              "zoom",
              "zoom_animation_threshold",
              "zoom_delta",
              "zoom_snap"
            ],
            "panes": {},
            "prefer_canvas": false,
            "right": 14310328,
            "scroll_wheel_zoom": false,
            "south": 37.580568871292,
            "style": "IPY_MODEL_5db32217e06142b18baf72ce29ad8156",
            "tap": true,
            "tap_tolerance": 15,
            "top": 6495688,
            "touch_zoom": true,
            "west": 127.04916000366212,
            "window_url": "https://daz4xvmqgx7-496ff2e9c6d22116-0-colab.googleusercontent.com/outputframe.html?vrz=colab_20240320-060147_RC00_617469838",
            "world_copy_jump": false,
            "zoom": 16,
            "zoom_animation_threshold": 4,
            "zoom_delta": 1,
            "zoom_snap": 1
          }
        },
        "fb7f91d026a94c5799b83b09fa469f25": {
          "model_module": "jupyter-leaflet",
          "model_name": "LeafletZoomControlModel",
          "model_module_version": "^0.18",
          "state": {
            "_model_module": "jupyter-leaflet",
            "_model_module_version": "^0.18",
            "_model_name": "LeafletZoomControlModel",
            "_view_count": null,
            "_view_module": "jupyter-leaflet",
            "_view_module_version": "^0.18",
            "_view_name": "LeafletZoomControlView",
            "options": [
              "position",
              "zoom_in_text",
              "zoom_in_title",
              "zoom_out_text",
              "zoom_out_title"
            ],
            "position": "topleft",
            "zoom_in_text": "+",
            "zoom_in_title": "Zoom in",
            "zoom_out_text": "-",
            "zoom_out_title": "Zoom out"
          }
        },
        "8251b1521b864c4695e77409148e7116": {
          "model_module": "jupyter-leaflet",
          "model_name": "LeafletAttributionControlModel",
          "model_module_version": "^0.18",
          "state": {
            "_model_module": "jupyter-leaflet",
            "_model_module_version": "^0.18",
            "_model_name": "LeafletAttributionControlModel",
            "_view_count": null,
            "_view_module": "jupyter-leaflet",
            "_view_module_version": "^0.18",
            "_view_name": "LeafletAttributionControlView",
            "options": [
              "position",
              "prefix"
            ],
            "position": "bottomright",
            "prefix": "ipyleaflet"
          }
        },
        "784a60f7e7b64fcba75fb209d54eacd0": {
          "model_module": "jupyter-leaflet",
          "model_name": "LeafletMapStyleModel",
          "model_module_version": "^0.18",
          "state": {
            "_model_module": "jupyter-leaflet",
            "_model_module_version": "^0.18",
            "_model_name": "LeafletMapStyleModel",
            "_view_count": null,
            "_view_module": "@jupyter-widgets/base",
            "_view_module_version": "1.2.0",
            "_view_name": "StyleView",
            "cursor": "grab"
          }
        },
        "f5a7f68c3fac40b8b78be658131075af": {
          "model_module": "jupyter-leaflet",
          "model_name": "LeafletMapStyleModel",
          "model_module_version": "^0.18",
          "state": {
            "_model_module": "jupyter-leaflet",
            "_model_module_version": "^0.18",
            "_model_name": "LeafletMapStyleModel",
            "_view_count": null,
            "_view_module": "@jupyter-widgets/base",
            "_view_module_version": "1.2.0",
            "_view_name": "StyleView",
            "cursor": "move"
          }
        },
        "97dfa0d0d57e464b8be56052b9705a52": {
          "model_module": "jupyter-leaflet",
          "model_name": "LeafletTileLayerModel",
          "model_module_version": "^0.18",
          "state": {
            "_model_module": "jupyter-leaflet",
            "_model_module_version": "^0.18",
            "_model_name": "LeafletTileLayerModel",
            "_view_count": null,
            "_view_module": "jupyter-leaflet",
            "_view_module_version": "^0.18",
            "_view_name": "LeafletTileLayerView",
            "attribution": "Vworld",
            "base": false,
            "bottom": true,
            "bounds": null,
            "detect_retina": false,
            "loading": false,
            "max_native_zoom": null,
            "max_zoom": 18,
            "min_native_zoom": null,
            "min_zoom": 0,
            "name": "Vworld White",
            "no_wrap": false,
            "opacity": 1,
            "options": [
              "attribution",
              "bounds",
              "detect_retina",
              "max_native_zoom",
              "max_zoom",
              "min_native_zoom",
              "min_zoom",
              "no_wrap",
              "tile_size",
              "tms",
              "zoom_offset"
            ],
            "pane": "",
            "popup": null,
            "popup_max_height": null,
            "popup_max_width": 300,
            "popup_min_width": 50,
            "show_loading": false,
            "subitems": [],
            "tile_size": 256,
            "tms": false,
            "url": "https://xdworld.vworld.kr/2d/white/service/{z}/{x}/{y}.png",
            "visible": true,
            "zoom_offset": 0
          }
        },
        "98a57b6833a54673a045f6eee09db342": {
          "model_module": "jupyter-leaflet",
          "model_name": "LeafletMarkerModel",
          "model_module_version": "^0.18",
          "state": {
            "_model_module": "jupyter-leaflet",
            "_model_module_version": "^0.18",
            "_model_name": "LeafletMarkerModel",
            "_view_count": null,
            "_view_module": "jupyter-leaflet",
            "_view_module_version": "^0.18",
            "_view_name": "LeafletMarkerView",
            "alt": "",
            "base": false,
            "bottom": false,
            "draggable": false,
            "icon": null,
            "keyboard": true,
            "location": [
              37.584828300773886,
              127.05773316246166
            ],
            "name": "",
            "opacity": 1,
            "options": [
              "alt",
              "draggable",
              "keyboard",
              "rise_offset",
              "rise_on_hover",
              "rotation_angle",
              "rotation_origin",
              "title",
              "z_index_offset"
            ],
            "pane": "",
            "popup": null,
            "popup_max_height": null,
            "popup_max_width": 300,
            "popup_min_width": 50,
            "rise_offset": 250,
            "rise_on_hover": false,
            "rotation_angle": 0,
            "rotation_origin": "",
            "subitems": [],
            "title": "",
            "visible": true,
            "z_index_offset": 0
          }
        },
        "89f390467e5e47aaa687be4ae758225c": {
          "model_module": "@jupyter-widgets/base",
          "model_name": "LayoutModel",
          "model_module_version": "1.2.0",
          "state": {
            "_model_module": "@jupyter-widgets/base",
            "_model_module_version": "1.2.0",
            "_model_name": "LayoutModel",
            "_view_count": null,
            "_view_module": "@jupyter-widgets/base",
            "_view_module_version": "1.2.0",
            "_view_name": "LayoutView",
            "align_content": null,
            "align_items": null,
            "align_self": null,
            "border": null,
            "bottom": null,
            "display": null,
            "flex": null,
            "flex_flow": null,
            "grid_area": null,
            "grid_auto_columns": null,
            "grid_auto_flow": null,
            "grid_auto_rows": null,
            "grid_column": null,
            "grid_gap": null,
            "grid_row": null,
            "grid_template_areas": null,
            "grid_template_columns": null,
            "grid_template_rows": null,
            "height": "500px",
            "justify_content": null,
            "justify_items": null,
            "left": null,
            "margin": null,
            "max_height": null,
            "max_width": null,
            "min_height": null,
            "min_width": null,
            "object_fit": null,
            "object_position": null,
            "order": null,
            "overflow": null,
            "overflow_x": null,
            "overflow_y": null,
            "padding": null,
            "right": null,
            "top": null,
            "visibility": null,
            "width": "800px"
          }
        },
        "5db32217e06142b18baf72ce29ad8156": {
          "model_module": "jupyter-leaflet",
          "model_name": "LeafletMapStyleModel",
          "model_module_version": "^0.18",
          "state": {
            "_model_module": "jupyter-leaflet",
            "_model_module_version": "^0.18",
            "_model_name": "LeafletMapStyleModel",
            "_view_count": null,
            "_view_module": "@jupyter-widgets/base",
            "_view_module_version": "1.2.0",
            "_view_name": "StyleView",
            "cursor": "grab"
          }
        },
        "37160bd08400409cb5ecfa228ad6f67b": {
          "model_module": "jupyter-leaflet",
          "model_name": "LeafletMapModel",
          "model_module_version": "^0.18",
          "state": {
            "_dom_classes": [],
            "_model_module": "jupyter-leaflet",
            "_model_module_version": "^0.18",
            "_model_name": "LeafletMapModel",
            "_view_count": null,
            "_view_module": "jupyter-leaflet",
            "_view_module_version": "^0.18",
            "_view_name": "LeafletMapView",
            "bottom": 203248,
            "bounce_at_zoom_limits": true,
            "box_zoom": true,
            "center": [
              37.584828300773886,
              127.05773316246166
            ],
            "close_popup_on_click": true,
            "controls": [
              "IPY_MODEL_b44ee84e30fb408380beec5b80450d9c",
              "IPY_MODEL_c432c86f0c1549de94bf99b88ad0777e"
            ],
            "crs": {
              "name": "EPSG3857",
              "custom": false
            },
            "default_style": "IPY_MODEL_d37ce9f872f94111bfc2655f557b2442",
            "double_click_zoom": true,
            "dragging": true,
            "dragging_style": "IPY_MODEL_046f3f27001c4a1e9d73dbca6f4f31e4",
            "east": 127.33222961425783,
            "fullscreen": false,
            "inertia": true,
            "inertia_deceleration": 3000,
            "inertia_max_speed": 1500,
            "interpolation": "bilinear",
            "keyboard": true,
            "keyboard_pan_offset": 80,
            "keyboard_zoom_offset": 1,
            "layers": [
              "IPY_MODEL_97dfa0d0d57e464b8be56052b9705a52",
              "IPY_MODEL_98a57b6833a54673a045f6eee09db342",
              "IPY_MODEL_74b3a887870448188651a86b7bf0782c",
              "IPY_MODEL_7b393bf032164f59b2f1425250870c5b"
            ],
            "layout": "IPY_MODEL_4a55fb2884c841bba60725f2ca3034db",
            "left": 446785,
            "max_zoom": null,
            "min_zoom": null,
            "modisdate": "2024-03-21",
            "north": 37.72076290898376,
            "options": [
              "bounce_at_zoom_limits",
              "box_zoom",
              "center",
              "close_popup_on_click",
              "double_click_zoom",
              "dragging",
              "fullscreen",
              "inertia",
              "inertia_deceleration",
              "inertia_max_speed",
              "interpolation",
              "keyboard",
              "keyboard_pan_offset",
              "keyboard_zoom_offset",
              "max_zoom",
              "min_zoom",
              "prefer_canvas",
              "scroll_wheel_zoom",
              "tap",
              "tap_tolerance",
              "touch_zoom",
              "world_copy_jump",
              "zoom",
              "zoom_animation_threshold",
              "zoom_delta",
              "zoom_snap"
            ],
            "panes": {},
            "prefer_canvas": false,
            "right": 447585,
            "scroll_wheel_zoom": false,
            "south": 37.448696585910376,
            "style": "IPY_MODEL_0909b9d54ae34496aebecb7cf13a98b2",
            "tap": true,
            "tap_tolerance": 15,
            "top": 202748,
            "touch_zoom": true,
            "west": 126.78291320800783,
            "window_url": "https://daz4xvmqgx7-496ff2e9c6d22116-0-colab.googleusercontent.com/outputframe.html?vrz=colab_20240320-060147_RC00_617469838",
            "world_copy_jump": false,
            "zoom": 11,
            "zoom_animation_threshold": 4,
            "zoom_delta": 1,
            "zoom_snap": 1
          }
        },
        "b44ee84e30fb408380beec5b80450d9c": {
          "model_module": "jupyter-leaflet",
          "model_name": "LeafletZoomControlModel",
          "model_module_version": "^0.18",
          "state": {
            "_model_module": "jupyter-leaflet",
            "_model_module_version": "^0.18",
            "_model_name": "LeafletZoomControlModel",
            "_view_count": null,
            "_view_module": "jupyter-leaflet",
            "_view_module_version": "^0.18",
            "_view_name": "LeafletZoomControlView",
            "options": [
              "position",
              "zoom_in_text",
              "zoom_in_title",
              "zoom_out_text",
              "zoom_out_title"
            ],
            "position": "topleft",
            "zoom_in_text": "+",
            "zoom_in_title": "Zoom in",
            "zoom_out_text": "-",
            "zoom_out_title": "Zoom out"
          }
        },
        "c432c86f0c1549de94bf99b88ad0777e": {
          "model_module": "jupyter-leaflet",
          "model_name": "LeafletAttributionControlModel",
          "model_module_version": "^0.18",
          "state": {
            "_model_module": "jupyter-leaflet",
            "_model_module_version": "^0.18",
            "_model_name": "LeafletAttributionControlModel",
            "_view_count": null,
            "_view_module": "jupyter-leaflet",
            "_view_module_version": "^0.18",
            "_view_name": "LeafletAttributionControlView",
            "options": [
              "position",
              "prefix"
            ],
            "position": "bottomright",
            "prefix": "ipyleaflet"
          }
        },
        "d37ce9f872f94111bfc2655f557b2442": {
          "model_module": "jupyter-leaflet",
          "model_name": "LeafletMapStyleModel",
          "model_module_version": "^0.18",
          "state": {
            "_model_module": "jupyter-leaflet",
            "_model_module_version": "^0.18",
            "_model_name": "LeafletMapStyleModel",
            "_view_count": null,
            "_view_module": "@jupyter-widgets/base",
            "_view_module_version": "1.2.0",
            "_view_name": "StyleView",
            "cursor": "grab"
          }
        },
        "046f3f27001c4a1e9d73dbca6f4f31e4": {
          "model_module": "jupyter-leaflet",
          "model_name": "LeafletMapStyleModel",
          "model_module_version": "^0.18",
          "state": {
            "_model_module": "jupyter-leaflet",
            "_model_module_version": "^0.18",
            "_model_name": "LeafletMapStyleModel",
            "_view_count": null,
            "_view_module": "@jupyter-widgets/base",
            "_view_module_version": "1.2.0",
            "_view_name": "StyleView",
            "cursor": "move"
          }
        },
        "74b3a887870448188651a86b7bf0782c": {
          "model_module": "jupyter-leaflet",
          "model_name": "LeafletCircleModel",
          "model_module_version": "^0.18",
          "state": {
            "_model_module": "jupyter-leaflet",
            "_model_module_version": "^0.18",
            "_model_name": "LeafletCircleModel",
            "_view_count": null,
            "_view_module": "jupyter-leaflet",
            "_view_module_version": "^0.18",
            "_view_name": "LeafletCircleView",
            "base": false,
            "bottom": false,
            "color": "red",
            "dash_array": null,
            "fill": true,
            "fill_color": "red",
            "fill_opacity": 0.5,
            "line_cap": "round",
            "line_join": "round",
            "location": [
              37.584828300773886,
              127.05773316246166
            ],
            "name": "",
            "opacity": 1,
            "options": [
              "color",
              "dash_array",
              "fill",
              "fill_color",
              "fill_opacity",
              "line_cap",
              "line_join",
              "opacity",
              "pointer_events",
              "radius",
              "stroke",
              "weight"
            ],
            "pane": "",
            "pointer_events": "",
            "popup": null,
            "popup_max_height": null,
            "popup_max_width": 300,
            "popup_min_width": 50,
            "radius": 20000,
            "stroke": true,
            "subitems": [],
            "weight": 5
          }
        },
        "7b393bf032164f59b2f1425250870c5b": {
          "model_module": "jupyter-leaflet",
          "model_name": "LeafletGeoJSONModel",
          "model_module_version": "^0.18",
          "state": {
            "_model_module": "jupyter-leaflet",
            "_model_module_version": "^0.18",
            "_model_name": "LeafletGeoJSONModel",
            "_view_count": null,
            "_view_module": "jupyter-leaflet",
            "_view_module_version": "^0.18",
            "_view_name": "LeafletGeoJSONView",
            "base": false,
            "bottom": false,
            "data": {
              "type": "FeatureCollection",
              "features": [
                {
                  "id": "0",
                  "type": "Feature",
                  "properties": {
                    "address_name": "서울 동대문구 전농동 591-53",
                    "category_group_code": "",
                    "category_group_name": "",
                    "category_name": "문화,예술 > 도서 > 서점 > 교보문고",
                    "distance": "891",
                    "id": "253947105",
                    "phone": "1544-1900",
                    "place_name": "교보문고 청량리점",
                    "place_url": "http://place.map.kakao.com/253947105",
                    "road_address_name": "서울 동대문구 왕산로 214",
                    "x": "127.049079477084",
                    "y": "37.5806966564292"
                  },
                  "geometry": {
                    "type": "Point",
                    "coordinates": [
                      127.049079477084,
                      37.5806966564292
                    ]
                  }
                },
                {
                  "id": "1",
                  "type": "Feature",
                  "properties": {
                    "address_name": "서울 중구 을지로6가 17-2",
                    "category_group_code": "",
                    "category_group_name": "",
                    "category_name": "문화,예술 > 도서 > 서점 > 교보문고",
                    "distance": "4756",
                    "id": "27533166",
                    "phone": "02-2283-2131",
                    "place_name": "교보문고 동대문점",
                    "place_url": "http://place.map.kakao.com/27533166",
                    "road_address_name": "",
                    "x": "127.00797671135294",
                    "y": "37.56843684371349"
                  },
                  "geometry": {
                    "type": "Point",
                    "coordinates": [
                      127.00797671135294,
                      37.56843684371349
                    ]
                  }
                },
                {
                  "id": "2",
                  "type": "Feature",
                  "properties": {
                    "address_name": "서울 광진구 자양동 227-342",
                    "category_group_code": "",
                    "category_group_name": "",
                    "category_name": "문화,예술 > 도서 > 서점 > 교보문고",
                    "distance": "5198",
                    "id": "411660590",
                    "phone": "1544-1900",
                    "place_name": "교보문고 건대스타시티점",
                    "place_url": "http://place.map.kakao.com/411660590",
                    "road_address_name": "",
                    "x": "127.07161423634196",
                    "y": "37.539308661738474"
                  },
                  "geometry": {
                    "type": "Point",
                    "coordinates": [
                      127.07161423634196,
                      37.539308661738474
                    ]
                  }
                },
                {
                  "id": "3",
                  "type": "Feature",
                  "properties": {
                    "address_name": "서울 종로구 세종로 119",
                    "category_group_code": "",
                    "category_group_name": "",
                    "category_name": "문화,예술 > 도서 > 서점 > 교보문고",
                    "distance": "7220",
                    "id": "8196057",
                    "phone": "1544-1900",
                    "place_name": "교보문고 광화문점",
                    "place_url": "http://place.map.kakao.com/8196057",
                    "road_address_name": "서울 종로구 종로 1",
                    "x": "126.977908555263",
                    "y": "37.5707974563789"
                  },
                  "geometry": {
                    "type": "Point",
                    "coordinates": [
                      126.977908555263,
                      37.5707974563789
                    ]
                  }
                },
                {
                  "id": "4",
                  "type": "Feature",
                  "properties": {
                    "address_name": "서울 강북구 번동 418-6",
                    "category_group_code": "",
                    "category_group_name": "",
                    "category_name": "문화,예술 > 도서 > 서점 > 교보문고",
                    "distance": "6543",
                    "id": "26928483",
                    "phone": "02-999-3501",
                    "place_name": "교보문고 수유점",
                    "place_url": "http://place.map.kakao.com/26928483",
                    "road_address_name": "서울 강북구 도봉로 348",
                    "x": "127.026548206045",
                    "y": "37.6383131328318"
                  },
                  "geometry": {
                    "type": "Point",
                    "coordinates": [
                      127.026548206045,
                      37.6383131328318
                    ]
                  }
                },
                {
                  "id": "5",
                  "type": "Feature",
                  "properties": {
                    "address_name": "서울 강동구 천호동 425-5",
                    "category_group_code": "",
                    "category_group_name": "",
                    "category_name": "문화,예술 > 도서 > 서점 > 교보문고",
                    "distance": "7689",
                    "id": "763711816",
                    "phone": "1544-1900",
                    "place_name": "교보문고 천호점",
                    "place_url": "http://place.map.kakao.com/763711816",
                    "road_address_name": "서울 강동구 올림픽로 664",
                    "x": "127.12472284062106",
                    "y": "37.540605199583034"
                  },
                  "geometry": {
                    "type": "Point",
                    "coordinates": [
                      127.12472284062106,
                      37.540605199583034
                    ]
                  }
                },
                {
                  "id": "6",
                  "type": "Feature",
                  "properties": {
                    "address_name": "서울 송파구 신천동 7-18",
                    "category_group_code": "",
                    "category_group_name": "",
                    "category_name": "문화,예술 > 도서 > 서점 > 교보문고",
                    "distance": "8742",
                    "id": "8196058",
                    "phone": "1544-1900",
                    "place_name": "교보문고 잠실점",
                    "place_url": "http://place.map.kakao.com/8196058",
                    "road_address_name": "서울 송파구 올림픽로 269",
                    "x": "127.10143451692626",
                    "y": "37.51415517282629"
                  },
                  "geometry": {
                    "type": "Point",
                    "coordinates": [
                      127.10143451692626,
                      37.51415517282629
                    ]
                  }
                },
                {
                  "id": "7",
                  "type": "Feature",
                  "properties": {
                    "address_name": "서울 서초구 서초동 1303-22",
                    "category_group_code": "",
                    "category_group_name": "",
                    "category_name": "문화,예술 > 도서 > 서점 > 교보문고",
                    "distance": "9478",
                    "id": "14690303",
                    "phone": "1544-1900",
                    "place_name": "교보문고 강남점",
                    "place_url": "http://place.map.kakao.com/14690303",
                    "road_address_name": "서울 서초구 강남대로 465",
                    "x": "127.02416053377571",
                    "y": "37.503718471783074"
                  },
                  "geometry": {
                    "type": "Point",
                    "coordinates": [
                      127.02416053377571,
                      37.503718471783074
                    ]
                  }
                },
                {
                  "id": "8",
                  "type": "Feature",
                  "properties": {
                    "address_name": "서울 강남구 역삼동 800",
                    "category_group_code": "",
                    "category_group_name": "",
                    "category_name": "문화,예술 > 도서 > 서점 > 교보문고",
                    "distance": "9357",
                    "id": "1229968591",
                    "phone": "1544-1900",
                    "place_name": "교보문고 신논현역스토어",
                    "place_url": "http://place.map.kakao.com/1229968591",
                    "road_address_name": "서울 강남구 봉은사로 지하 102",
                    "x": "127.025031672894",
                    "y": "37.504634612957"
                  },
                  "geometry": {
                    "type": "Point",
                    "coordinates": [
                      127.025031672894,
                      37.504634612957
                    ]
                  }
                },
                {
                  "id": "9",
                  "type": "Feature",
                  "properties": {
                    "address_name": "서울 서대문구 대현동 11-1",
                    "category_group_code": "",
                    "category_group_name": "",
                    "category_name": "문화,예술 > 도서 > 서점 > 교보문고",
                    "distance": "10141",
                    "id": "11621749",
                    "phone": "02-393-1641",
                    "place_name": "교보문고 이화여대교내서점",
                    "place_url": "http://place.map.kakao.com/11621749",
                    "road_address_name": "서울 서대문구 이화여대길 52",
                    "x": "126.9467238307828",
                    "y": "37.56154238314316"
                  },
                  "geometry": {
                    "type": "Point",
                    "coordinates": [
                      126.9467238307828,
                      37.56154238314316
                    ]
                  }
                },
                {
                  "id": "10",
                  "type": "Feature",
                  "properties": {
                    "address_name": "서울 마포구 합정동 473",
                    "category_group_code": "",
                    "category_group_name": "",
                    "category_name": "문화,예술 > 도서 > 서점 > 교보문고",
                    "distance": "13386",
                    "id": "1320932932",
                    "phone": "1544-1900",
                    "place_name": "교보문고 합정점",
                    "place_url": "http://place.map.kakao.com/1320932932",
                    "road_address_name": "서울 마포구 월드컵로3길 14",
                    "x": "126.91228338125131",
                    "y": "37.5510324090502"
                  },
                  "geometry": {
                    "type": "Point",
                    "coordinates": [
                      126.91228338125131,
                      37.5510324090502
                    ]
                  }
                },
                {
                  "id": "11",
                  "type": "Feature",
                  "properties": {
                    "address_name": "서울 영등포구 영등포동4가 442",
                    "category_group_code": "",
                    "category_group_name": "",
                    "category_name": "문화,예술 > 도서 > 서점 > 교보문고",
                    "distance": "15631",
                    "id": "11411464",
                    "phone": "1544-1900",
                    "place_name": "교보문고 영등포점",
                    "place_url": "http://place.map.kakao.com/11411464",
                    "road_address_name": "서울 영등포구 영중로 15",
                    "x": "126.902720913986",
                    "y": "37.5169734028965"
                  },
                  "geometry": {
                    "type": "Point",
                    "coordinates": [
                      126.902720913986,
                      37.5169734028965
                    ]
                  }
                },
                {
                  "id": "12",
                  "type": "Feature",
                  "properties": {
                    "address_name": "서울 양천구 목동 917-1",
                    "category_group_code": "",
                    "category_group_name": "",
                    "category_name": "문화,예술 > 도서 > 서점 > 교보문고",
                    "distance": "17337",
                    "id": "18602855",
                    "phone": "1544-1900",
                    "place_name": "교보문고 목동점",
                    "place_url": "http://place.map.kakao.com/18602855",
                    "road_address_name": "서울 양천구 목동서로 159-1",
                    "x": "126.87495536206144",
                    "y": "37.52799896377168"
                  },
                  "geometry": {
                    "type": "Point",
                    "coordinates": [
                      126.87495536206144,
                      37.52799896377168
                    ]
                  }
                },
                {
                  "id": "13",
                  "type": "Feature",
                  "properties": {
                    "address_name": "서울 송파구 문정동 634",
                    "category_group_code": "",
                    "category_group_name": "",
                    "category_name": "문화,예술 > 도서 > 서점 > 교보문고",
                    "distance": "13336",
                    "id": "460840510",
                    "phone": "02-2157-3401",
                    "place_name": "교보문고/핫트랙스 현대아울렛가든파이브점",
                    "place_url": "http://place.map.kakao.com/460840510",
                    "road_address_name": "서울 송파구 충민로 66",
                    "x": "127.12460140234379",
                    "y": "37.47710345170128"
                  },
                  "geometry": {
                    "type": "Point",
                    "coordinates": [
                      127.12460140234379,
                      37.47710345170128
                    ]
                  }
                },
                {
                  "id": "14",
                  "type": "Feature",
                  "properties": {
                    "address_name": "서울 마포구 상암동 1596",
                    "category_group_code": "",
                    "category_group_name": "",
                    "category_name": "문화,예술 > 도서 > 서점 > 교보문고",
                    "distance": "14918",
                    "id": "1402846949",
                    "phone": "1544-1900",
                    "place_name": "교보문고 이비즈니스본부",
                    "place_url": "http://place.map.kakao.com/1402846949",
                    "road_address_name": "서울 마포구 월드컵북로54길 25",
                    "x": "126.888869395142",
                    "y": "37.5821420885893"
                  },
                  "geometry": {
                    "type": "Point",
                    "coordinates": [
                      126.888869395142,
                      37.5821420885893
                    ]
                  }
                },
                {
                  "id": "15",
                  "type": "Feature",
                  "properties": {
                    "address_name": "서울 구로구 신도림동 692",
                    "category_group_code": "",
                    "category_group_name": "",
                    "category_name": "문화,예술 > 도서 > 서점 > 교보문고",
                    "distance": "17099",
                    "id": "26492544",
                    "phone": "1544-1900",
                    "place_name": "교보문고 신도림디큐브시티점",
                    "place_url": "http://place.map.kakao.com/26492544",
                    "road_address_name": "서울 구로구 경인로 662",
                    "x": "126.88937621728",
                    "y": "37.5088814570402"
                  },
                  "geometry": {
                    "type": "Point",
                    "coordinates": [
                      126.88937621728,
                      37.5088814570402
                    ]
                  }
                },
                {
                  "id": "16",
                  "type": "Feature",
                  "properties": {
                    "address_name": "서울 은평구 진관동 63",
                    "category_group_code": "",
                    "category_group_name": "",
                    "category_name": "문화,예술 > 도서 > 서점 > 교보문고",
                    "distance": "13615",
                    "id": "286237628",
                    "phone": "1544-1900",
                    "place_name": "교보문고 은평점",
                    "place_url": "http://place.map.kakao.com/286237628",
                    "road_address_name": "서울 은평구 통일로 1050",
                    "x": "126.9178874471446",
                    "y": "37.63651801162785"
                  },
                  "geometry": {
                    "type": "Point",
                    "coordinates": [
                      126.9178874471446,
                      37.63651801162785
                    ]
                  }
                },
                {
                  "id": "17",
                  "type": "Feature",
                  "properties": {
                    "address_name": "서울 관악구 신림동 산 56-1",
                    "category_group_code": "",
                    "category_group_name": "",
                    "category_name": "문화,예술 > 도서 > 서점 > 교보문고",
                    "distance": "16841",
                    "id": "11621793",
                    "phone": "02-880-8581",
                    "place_name": "교보문고 서울대교내서점",
                    "place_url": "http://place.map.kakao.com/11621793",
                    "road_address_name": "서울 관악구 관악로 1",
                    "x": "126.95057268434971",
                    "y": "37.45936204472003"
                  },
                  "geometry": {
                    "type": "Point",
                    "coordinates": [
                      126.95057268434971,
                      37.45936204472003
                    ]
                  }
                }
              ]
            },
            "hover_style": {},
            "layers": [],
            "name": "교보문고",
            "options": [],
            "pane": "",
            "point_style": {
              "radius": 7,
              "color": "darkblue",
              "fillOpacity": 0.7,
              "fillColor": "lightblue",
              "weight": 2
            },
            "popup": null,
            "popup_max_height": null,
            "popup_max_width": 300,
            "popup_min_width": 50,
            "style": {},
            "subitems": [],
            "visible": true
          }
        },
        "4a55fb2884c841bba60725f2ca3034db": {
          "model_module": "@jupyter-widgets/base",
          "model_name": "LayoutModel",
          "model_module_version": "1.2.0",
          "state": {
            "_model_module": "@jupyter-widgets/base",
            "_model_module_version": "1.2.0",
            "_model_name": "LayoutModel",
            "_view_count": null,
            "_view_module": "@jupyter-widgets/base",
            "_view_module_version": "1.2.0",
            "_view_name": "LayoutView",
            "align_content": null,
            "align_items": null,
            "align_self": null,
            "border": null,
            "bottom": null,
            "display": null,
            "flex": null,
            "flex_flow": null,
            "grid_area": null,
            "grid_auto_columns": null,
            "grid_auto_flow": null,
            "grid_auto_rows": null,
            "grid_column": null,
            "grid_gap": null,
            "grid_row": null,
            "grid_template_areas": null,
            "grid_template_columns": null,
            "grid_template_rows": null,
            "height": "500px",
            "justify_content": null,
            "justify_items": null,
            "left": null,
            "margin": null,
            "max_height": null,
            "max_width": null,
            "min_height": null,
            "min_width": null,
            "object_fit": null,
            "object_position": null,
            "order": null,
            "overflow": null,
            "overflow_x": null,
            "overflow_y": null,
            "padding": null,
            "right": null,
            "top": null,
            "visibility": null,
            "width": "800px"
          }
        },
        "0909b9d54ae34496aebecb7cf13a98b2": {
          "model_module": "jupyter-leaflet",
          "model_name": "LeafletMapStyleModel",
          "model_module_version": "^0.18",
          "state": {
            "_model_module": "jupyter-leaflet",
            "_model_module_version": "^0.18",
            "_model_name": "LeafletMapStyleModel",
            "_view_count": null,
            "_view_module": "@jupyter-widgets/base",
            "_view_module_version": "1.2.0",
            "_view_name": "StyleView",
            "cursor": "grab"
          }
        },
        "849039bae25f4ad689913ab9aa1de1c8": {
          "model_module": "jupyter-leaflet",
          "model_name": "LeafletMapModel",
          "model_module_version": "^0.18",
          "state": {
            "_dom_classes": [],
            "_model_module": "jupyter-leaflet",
            "_model_module_version": "^0.18",
            "_model_name": "LeafletMapModel",
            "_view_count": null,
            "_view_module": "jupyter-leaflet",
            "_view_module_version": "^0.18",
            "_view_name": "LeafletMapView",
            "bottom": 6496188,
            "bounce_at_zoom_limits": true,
            "box_zoom": true,
            "center": [
              37.584828300773886,
              127.05773316246166
            ],
            "close_popup_on_click": true,
            "controls": [
              "IPY_MODEL_f4cb1a933d054a13b624bee8ba489df6",
              "IPY_MODEL_85c9e7bbc3b646cc84fbfce721c26a1a"
            ],
            "crs": {
              "name": "EPSG3857",
              "custom": false
            },
            "default_style": "IPY_MODEL_364aa78183e6486083cb5ba4d7f0b1bc",
            "double_click_zoom": true,
            "dragging": true,
            "dragging_style": "IPY_MODEL_1b46ecdc733b4a47abdfdc302dc9dc93",
            "east": 127.06632614135744,
            "fullscreen": false,
            "inertia": true,
            "inertia_deceleration": 3000,
            "inertia_max_speed": 1500,
            "interpolation": "bilinear",
            "keyboard": true,
            "keyboard_pan_offset": 80,
            "keyboard_zoom_offset": 1,
            "layers": [
              "IPY_MODEL_97dfa0d0d57e464b8be56052b9705a52",
              "IPY_MODEL_98a57b6833a54673a045f6eee09db342",
              "IPY_MODEL_620cac56c54b4655ad10f1b3517db07d",
              "IPY_MODEL_5953f2f45dc943e7821aea04a3075036"
            ],
            "layout": "IPY_MODEL_76db369974bd41ff93760d4f26d52f73",
            "left": 14309528,
            "max_zoom": null,
            "min_zoom": null,
            "modisdate": "2024-03-21",
            "north": 37.589070951024716,
            "options": [
              "bounce_at_zoom_limits",
              "box_zoom",
              "center",
              "close_popup_on_click",
              "double_click_zoom",
              "dragging",
              "fullscreen",
              "inertia",
              "inertia_deceleration",
              "inertia_max_speed",
              "interpolation",
              "keyboard",
              "keyboard_pan_offset",
              "keyboard_zoom_offset",
              "max_zoom",
              "min_zoom",
              "prefer_canvas",
              "scroll_wheel_zoom",
              "tap",
              "tap_tolerance",
              "touch_zoom",
              "world_copy_jump",
              "zoom",
              "zoom_animation_threshold",
              "zoom_delta",
              "zoom_snap"
            ],
            "panes": {},
            "prefer_canvas": false,
            "right": 14310328,
            "scroll_wheel_zoom": false,
            "south": 37.580568871292,
            "style": "IPY_MODEL_aa10a6224b07463792c3c6f72761edfa",
            "tap": true,
            "tap_tolerance": 15,
            "top": 6495688,
            "touch_zoom": true,
            "west": 127.04916000366212,
            "window_url": "https://daz4xvmqgx7-496ff2e9c6d22116-0-colab.googleusercontent.com/outputframe.html?vrz=colab_20240320-060147_RC00_617469838",
            "world_copy_jump": false,
            "zoom": 16,
            "zoom_animation_threshold": 4,
            "zoom_delta": 1,
            "zoom_snap": 1
          }
        },
        "f4cb1a933d054a13b624bee8ba489df6": {
          "model_module": "jupyter-leaflet",
          "model_name": "LeafletZoomControlModel",
          "model_module_version": "^0.18",
          "state": {
            "_model_module": "jupyter-leaflet",
            "_model_module_version": "^0.18",
            "_model_name": "LeafletZoomControlModel",
            "_view_count": null,
            "_view_module": "jupyter-leaflet",
            "_view_module_version": "^0.18",
            "_view_name": "LeafletZoomControlView",
            "options": [
              "position",
              "zoom_in_text",
              "zoom_in_title",
              "zoom_out_text",
              "zoom_out_title"
            ],
            "position": "topleft",
            "zoom_in_text": "+",
            "zoom_in_title": "Zoom in",
            "zoom_out_text": "-",
            "zoom_out_title": "Zoom out"
          }
        },
        "85c9e7bbc3b646cc84fbfce721c26a1a": {
          "model_module": "jupyter-leaflet",
          "model_name": "LeafletAttributionControlModel",
          "model_module_version": "^0.18",
          "state": {
            "_model_module": "jupyter-leaflet",
            "_model_module_version": "^0.18",
            "_model_name": "LeafletAttributionControlModel",
            "_view_count": null,
            "_view_module": "jupyter-leaflet",
            "_view_module_version": "^0.18",
            "_view_name": "LeafletAttributionControlView",
            "options": [
              "position",
              "prefix"
            ],
            "position": "bottomright",
            "prefix": "ipyleaflet"
          }
        },
        "364aa78183e6486083cb5ba4d7f0b1bc": {
          "model_module": "jupyter-leaflet",
          "model_name": "LeafletMapStyleModel",
          "model_module_version": "^0.18",
          "state": {
            "_model_module": "jupyter-leaflet",
            "_model_module_version": "^0.18",
            "_model_name": "LeafletMapStyleModel",
            "_view_count": null,
            "_view_module": "@jupyter-widgets/base",
            "_view_module_version": "1.2.0",
            "_view_name": "StyleView",
            "cursor": "grab"
          }
        },
        "1b46ecdc733b4a47abdfdc302dc9dc93": {
          "model_module": "jupyter-leaflet",
          "model_name": "LeafletMapStyleModel",
          "model_module_version": "^0.18",
          "state": {
            "_model_module": "jupyter-leaflet",
            "_model_module_version": "^0.18",
            "_model_name": "LeafletMapStyleModel",
            "_view_count": null,
            "_view_module": "@jupyter-widgets/base",
            "_view_module_version": "1.2.0",
            "_view_name": "StyleView",
            "cursor": "move"
          }
        },
        "620cac56c54b4655ad10f1b3517db07d": {
          "model_module": "jupyter-leaflet",
          "model_name": "LeafletCircleModel",
          "model_module_version": "^0.18",
          "state": {
            "_model_module": "jupyter-leaflet",
            "_model_module_version": "^0.18",
            "_model_name": "LeafletCircleModel",
            "_view_count": null,
            "_view_module": "jupyter-leaflet",
            "_view_module_version": "^0.18",
            "_view_name": "LeafletCircleView",
            "base": false,
            "bottom": false,
            "color": "red",
            "dash_array": null,
            "fill": true,
            "fill_color": "red",
            "fill_opacity": 0.5,
            "line_cap": "round",
            "line_join": "round",
            "location": [
              37.584828300773886,
              127.05773316246166
            ],
            "name": "",
            "opacity": 1,
            "options": [
              "color",
              "dash_array",
              "fill",
              "fill_color",
              "fill_opacity",
              "line_cap",
              "line_join",
              "opacity",
              "pointer_events",
              "radius",
              "stroke",
              "weight"
            ],
            "pane": "",
            "pointer_events": "",
            "popup": null,
            "popup_max_height": null,
            "popup_max_width": 300,
            "popup_min_width": 50,
            "radius": 500,
            "stroke": true,
            "subitems": [],
            "weight": 5
          }
        },
        "5953f2f45dc943e7821aea04a3075036": {
          "model_module": "jupyter-leaflet",
          "model_name": "LeafletGeoJSONModel",
          "model_module_version": "^0.18",
          "state": {
            "_model_module": "jupyter-leaflet",
            "_model_module_version": "^0.18",
            "_model_name": "LeafletGeoJSONModel",
            "_view_count": null,
            "_view_module": "jupyter-leaflet",
            "_view_module_version": "^0.18",
            "_view_name": "LeafletGeoJSONView",
            "base": false,
            "bottom": false,
            "data": {
              "type": "FeatureCollection",
              "features": [
                {
                  "id": "0",
                  "type": "Feature",
                  "properties": {
                    "address_name": "서울 동대문구 휘경동 302-2",
                    "category_group_code": "PS3",
                    "category_group_name": "어린이집,유치원",
                    "category_name": "교육,학문 > 유아교육 > 유치원",
                    "distance": "182",
                    "id": "10487569",
                    "phone": "02-2242-0354",
                    "place_name": "서울휘경유치원",
                    "place_url": "http://place.map.kakao.com/10487569",
                    "road_address_name": "서울 동대문구 망우로6길 48",
                    "x": "127.057072023037",
                    "y": "37.586380132083"
                  },
                  "geometry": {
                    "type": "Point",
                    "coordinates": [
                      127.057072023037,
                      37.586380132083
                    ]
                  }
                },
                {
                  "id": "1",
                  "type": "Feature",
                  "properties": {
                    "address_name": "서울 동대문구 휘경동 380",
                    "category_group_code": "PS3",
                    "category_group_name": "어린이집,유치원",
                    "category_name": "교육,학문 > 유아교육 > 어린이집",
                    "distance": "447",
                    "id": "21655642",
                    "phone": "02-2243-2831",
                    "place_name": "휘경어린이집",
                    "place_url": "http://place.map.kakao.com/21655642",
                    "road_address_name": "서울 동대문구 망우로 46",
                    "x": "127.05879144938042",
                    "y": "37.58876601763209"
                  },
                  "geometry": {
                    "type": "Point",
                    "coordinates": [
                      127.05879144938042,
                      37.58876601763209
                    ]
                  }
                },
                {
                  "id": "2",
                  "type": "Feature",
                  "properties": {
                    "address_name": "서울 동대문구 전농동 103-53",
                    "category_group_code": "PS3",
                    "category_group_name": "어린이집,유치원",
                    "category_name": "교육,학문 > 유아교육 > 어린이집",
                    "distance": "334",
                    "id": "18536865",
                    "phone": "02-2213-7974",
                    "place_name": "꿈마루어린이집",
                    "place_url": "http://place.map.kakao.com/18536865",
                    "road_address_name": "서울 동대문구 전농로36길 29-3",
                    "x": "127.05403934399568",
                    "y": "37.58549047747335"
                  },
                  "geometry": {
                    "type": "Point",
                    "coordinates": [
                      127.05403934399568,
                      37.58549047747335
                    ]
                  }
                },
                {
                  "id": "3",
                  "type": "Feature",
                  "properties": {
                    "address_name": "서울 동대문구 전농동 694",
                    "category_group_code": "PS3",
                    "category_group_name": "어린이집,유치원",
                    "category_name": "교육,학문 > 유아교육 > 어린이집",
                    "distance": "14",
                    "id": "1388625905",
                    "phone": "02-2213-9566",
                    "place_name": "서울시립대학교 직장어린이집",
                    "place_url": "http://place.map.kakao.com/1388625905",
                    "road_address_name": "서울 동대문구 서울시립대로 163",
                    "x": "127.05771854223894",
                    "y": "37.584955347939754"
                  },
                  "geometry": {
                    "type": "Point",
                    "coordinates": [
                      127.05771854223894,
                      37.584955347939754
                    ]
                  }
                },
                {
                  "id": "4",
                  "type": "Feature",
                  "properties": {
                    "address_name": "서울 동대문구 휘경동 282-6",
                    "category_group_code": "PS3",
                    "category_group_name": "어린이집,유치원",
                    "category_name": "교육,학문 > 유아교육 > 어린이집",
                    "distance": "482",
                    "id": "12144504",
                    "phone": "02-2244-9118",
                    "place_name": "동화어린이집",
                    "place_url": "http://place.map.kakao.com/12144504",
                    "road_address_name": "서울 동대문구 망우로12가길 20",
                    "x": "127.060280267993",
                    "y": "37.5886742664592"
                  },
                  "geometry": {
                    "type": "Point",
                    "coordinates": [
                      127.060280267993,
                      37.5886742664592
                    ]
                  }
                },
                {
                  "id": "5",
                  "type": "Feature",
                  "properties": {
                    "address_name": "서울 동대문구 휘경동 343-4",
                    "category_group_code": "PS3",
                    "category_group_name": "어린이집,유치원",
                    "category_name": "교육,학문 > 유아교육 > 어린이집",
                    "distance": "479",
                    "id": "27372783",
                    "phone": "02-967-0006",
                    "place_name": "새하늘어린이집",
                    "place_url": "http://place.map.kakao.com/27372783",
                    "road_address_name": "서울 동대문구 왕산로 312",
                    "x": "127.053662772121",
                    "y": "37.5876899726404"
                  },
                  "geometry": {
                    "type": "Point",
                    "coordinates": [
                      127.053662772121,
                      37.5876899726404
                    ]
                  }
                },
                {
                  "id": "6",
                  "type": "Feature",
                  "properties": {
                    "address_name": "서울 동대문구 전농동 188",
                    "category_group_code": "PS3",
                    "category_group_name": "어린이집,유치원",
                    "category_name": "교육,학문 > 유아교육 > 유치원",
                    "distance": "482",
                    "id": "1843099523",
                    "phone": "02-2244-3254",
                    "place_name": "서울전곡초등학교 병설유치원",
                    "place_url": "http://place.map.kakao.com/1843099523",
                    "road_address_name": "서울 동대문구 전농로 172",
                    "x": "127.056012558496",
                    "y": "37.5807043821985"
                  },
                  "geometry": {
                    "type": "Point",
                    "coordinates": [
                      127.056012558496,
                      37.5807043821985
                    ]
                  }
                },
                {
                  "id": "7",
                  "type": "Feature",
                  "properties": {
                    "address_name": "서울 동대문구 전농동 155",
                    "category_group_code": "PS3",
                    "category_group_name": "어린이집,유치원",
                    "category_name": "교육,학문 > 유아교육 > 어린이집",
                    "distance": "411",
                    "id": "15490761",
                    "phone": "02-2212-1212",
                    "place_name": "삼성영재어린이집",
                    "place_url": "http://place.map.kakao.com/15490761",
                    "road_address_name": "서울 동대문구 전농로 192",
                    "x": "127.056420546966",
                    "y": "37.5812700118988"
                  },
                  "geometry": {
                    "type": "Point",
                    "coordinates": [
                      127.056420546966,
                      37.5812700118988
                    ]
                  }
                }
              ]
            },
            "hover_style": {},
            "layers": [],
            "name": "어린이집, 유치원",
            "options": [],
            "pane": "",
            "point_style": {
              "radius": 7,
              "color": "darkblue",
              "fillOpacity": 0.7,
              "fillColor": "lightblue",
              "weight": 2
            },
            "popup": null,
            "popup_max_height": null,
            "popup_max_width": 300,
            "popup_min_width": 50,
            "style": {},
            "subitems": [],
            "visible": true
          }
        },
        "76db369974bd41ff93760d4f26d52f73": {
          "model_module": "@jupyter-widgets/base",
          "model_name": "LayoutModel",
          "model_module_version": "1.2.0",
          "state": {
            "_model_module": "@jupyter-widgets/base",
            "_model_module_version": "1.2.0",
            "_model_name": "LayoutModel",
            "_view_count": null,
            "_view_module": "@jupyter-widgets/base",
            "_view_module_version": "1.2.0",
            "_view_name": "LayoutView",
            "align_content": null,
            "align_items": null,
            "align_self": null,
            "border": null,
            "bottom": null,
            "display": null,
            "flex": null,
            "flex_flow": null,
            "grid_area": null,
            "grid_auto_columns": null,
            "grid_auto_flow": null,
            "grid_auto_rows": null,
            "grid_column": null,
            "grid_gap": null,
            "grid_row": null,
            "grid_template_areas": null,
            "grid_template_columns": null,
            "grid_template_rows": null,
            "height": "500px",
            "justify_content": null,
            "justify_items": null,
            "left": null,
            "margin": null,
            "max_height": null,
            "max_width": null,
            "min_height": null,
            "min_width": null,
            "object_fit": null,
            "object_position": null,
            "order": null,
            "overflow": null,
            "overflow_x": null,
            "overflow_y": null,
            "padding": null,
            "right": null,
            "top": null,
            "visibility": null,
            "width": "800px"
          }
        },
        "aa10a6224b07463792c3c6f72761edfa": {
          "model_module": "jupyter-leaflet",
          "model_name": "LeafletMapStyleModel",
          "model_module_version": "^0.18",
          "state": {
            "_model_module": "jupyter-leaflet",
            "_model_module_version": "^0.18",
            "_model_name": "LeafletMapStyleModel",
            "_view_count": null,
            "_view_module": "@jupyter-widgets/base",
            "_view_module_version": "1.2.0",
            "_view_name": "StyleView",
            "cursor": "grab"
          }
        },
        "29935238adf346d5bbe2a8c7251ff47d": {
          "model_module": "jupyter-leaflet",
          "model_name": "LeafletMapModel",
          "model_module_version": "^0.18",
          "state": {
            "_dom_classes": [],
            "_model_module": "jupyter-leaflet",
            "_model_module_version": "^0.18",
            "_model_name": "LeafletMapModel",
            "_view_count": null,
            "_view_module": "jupyter-leaflet",
            "_view_module_version": "^0.18",
            "_view_name": "LeafletMapView",
            "bottom": 1624234,
            "bounce_at_zoom_limits": true,
            "box_zoom": true,
            "center": [
              37.584828300773886,
              127.05773316246166
            ],
            "close_popup_on_click": true,
            "controls": [
              "IPY_MODEL_e30422c378644fbb81eea2349ba67d47",
              "IPY_MODEL_7a3eee9a742444db8539e5995f8c38b3"
            ],
            "crs": {
              "name": "EPSG3857",
              "custom": false
            },
            "default_style": "IPY_MODEL_b45db8a4af9d41e6bf4f7235ab830dfc",
            "double_click_zoom": true,
            "dragging": true,
            "dragging_style": "IPY_MODEL_c8354907f3a44cdb92af98291ffc4ef2",
            "east": 127.0920753479004,
            "fullscreen": false,
            "inertia": true,
            "inertia_deceleration": 3000,
            "inertia_max_speed": 1500,
            "interpolation": "bilinear",
            "keyboard": true,
            "keyboard_pan_offset": 80,
            "keyboard_zoom_offset": 1,
            "layers": [
              "IPY_MODEL_97dfa0d0d57e464b8be56052b9705a52",
              "IPY_MODEL_98a57b6833a54673a045f6eee09db342",
              "IPY_MODEL_c0ad6dd6a2824786a59b600522486b37",
              "IPY_MODEL_6f48d5261f654d4bbd5cced51456ae2d"
            ],
            "layout": "IPY_MODEL_7bb9d2e30ef0489db01ee4903087e40d",
            "left": 3577082,
            "max_zoom": null,
            "min_zoom": null,
            "modisdate": "2024-03-21",
            "north": 37.601856250363355,
            "options": [
              "bounce_at_zoom_limits",
              "box_zoom",
              "center",
              "close_popup_on_click",
              "double_click_zoom",
              "dragging",
              "fullscreen",
              "inertia",
              "inertia_deceleration",
              "inertia_max_speed",
              "interpolation",
              "keyboard",
              "keyboard_pan_offset",
              "keyboard_zoom_offset",
              "max_zoom",
              "min_zoom",
              "prefer_canvas",
              "scroll_wheel_zoom",
              "tap",
              "tap_tolerance",
              "touch_zoom",
              "world_copy_jump",
              "zoom",
              "zoom_animation_threshold",
              "zoom_delta",
              "zoom_snap"
            ],
            "panes": {},
            "prefer_canvas": false,
            "right": 3577882,
            "scroll_wheel_zoom": false,
            "south": 37.56784794715994,
            "style": "IPY_MODEL_c55dd390bf45400099352b2be52c136a",
            "tap": true,
            "tap_tolerance": 15,
            "top": 1623734,
            "touch_zoom": true,
            "west": 127.02341079711915,
            "window_url": "https://daz4xvmqgx7-496ff2e9c6d22116-0-colab.googleusercontent.com/outputframe.html?vrz=colab_20240320-060147_RC00_617469838",
            "world_copy_jump": false,
            "zoom": 14,
            "zoom_animation_threshold": 4,
            "zoom_delta": 1,
            "zoom_snap": 1
          }
        },
        "e30422c378644fbb81eea2349ba67d47": {
          "model_module": "jupyter-leaflet",
          "model_name": "LeafletZoomControlModel",
          "model_module_version": "^0.18",
          "state": {
            "_model_module": "jupyter-leaflet",
            "_model_module_version": "^0.18",
            "_model_name": "LeafletZoomControlModel",
            "_view_count": null,
            "_view_module": "jupyter-leaflet",
            "_view_module_version": "^0.18",
            "_view_name": "LeafletZoomControlView",
            "options": [
              "position",
              "zoom_in_text",
              "zoom_in_title",
              "zoom_out_text",
              "zoom_out_title"
            ],
            "position": "topleft",
            "zoom_in_text": "+",
            "zoom_in_title": "Zoom in",
            "zoom_out_text": "-",
            "zoom_out_title": "Zoom out"
          }
        },
        "7a3eee9a742444db8539e5995f8c38b3": {
          "model_module": "jupyter-leaflet",
          "model_name": "LeafletAttributionControlModel",
          "model_module_version": "^0.18",
          "state": {
            "_model_module": "jupyter-leaflet",
            "_model_module_version": "^0.18",
            "_model_name": "LeafletAttributionControlModel",
            "_view_count": null,
            "_view_module": "jupyter-leaflet",
            "_view_module_version": "^0.18",
            "_view_name": "LeafletAttributionControlView",
            "options": [
              "position",
              "prefix"
            ],
            "position": "bottomright",
            "prefix": "ipyleaflet"
          }
        },
        "b45db8a4af9d41e6bf4f7235ab830dfc": {
          "model_module": "jupyter-leaflet",
          "model_name": "LeafletMapStyleModel",
          "model_module_version": "^0.18",
          "state": {
            "_model_module": "jupyter-leaflet",
            "_model_module_version": "^0.18",
            "_model_name": "LeafletMapStyleModel",
            "_view_count": null,
            "_view_module": "@jupyter-widgets/base",
            "_view_module_version": "1.2.0",
            "_view_name": "StyleView",
            "cursor": "grab"
          }
        },
        "c8354907f3a44cdb92af98291ffc4ef2": {
          "model_module": "jupyter-leaflet",
          "model_name": "LeafletMapStyleModel",
          "model_module_version": "^0.18",
          "state": {
            "_model_module": "jupyter-leaflet",
            "_model_module_version": "^0.18",
            "_model_name": "LeafletMapStyleModel",
            "_view_count": null,
            "_view_module": "@jupyter-widgets/base",
            "_view_module_version": "1.2.0",
            "_view_name": "StyleView",
            "cursor": "move"
          }
        },
        "c0ad6dd6a2824786a59b600522486b37": {
          "model_module": "jupyter-leaflet",
          "model_name": "LeafletRectangleModel",
          "model_module_version": "^0.18",
          "state": {
            "_model_module": "jupyter-leaflet",
            "_model_module_version": "^0.18",
            "_model_name": "LeafletRectangleModel",
            "_view_count": null,
            "_view_module": "jupyter-leaflet",
            "_view_module_version": "^0.18",
            "_view_name": "LeafletRectangleView",
            "base": false,
            "bottom": false,
            "bounds": [
              [
                37.5938114125238,
                127.03506145225234
              ],
              [
                37.57584518902397,
                127.08040487267098
              ]
            ],
            "color": "red",
            "dash_array": null,
            "draggable": false,
            "fill": true,
            "fill_color": null,
            "fill_opacity": 0.2,
            "line_cap": "round",
            "line_join": "round",
            "locations": [],
            "name": "",
            "no_clip": true,
            "opacity": 1,
            "options": [
              "color",
              "dash_array",
              "draggable",
              "fill",
              "fill_color",
              "fill_opacity",
              "line_cap",
              "line_join",
              "no_clip",
              "opacity",
              "pointer_events",
              "smooth_factor",
              "stroke",
              "transform",
              "weight"
            ],
            "pane": "",
            "pointer_events": "",
            "popup": null,
            "popup_max_height": null,
            "popup_max_width": 300,
            "popup_min_width": 50,
            "rotation": true,
            "scaling": true,
            "smooth_factor": 1,
            "stroke": true,
            "subitems": [],
            "transform": false,
            "uniform_scaling": false,
            "weight": 5
          }
        },
        "6f48d5261f654d4bbd5cced51456ae2d": {
          "model_module": "jupyter-leaflet",
          "model_name": "LeafletGeoJSONModel",
          "model_module_version": "^0.18",
          "state": {
            "_model_module": "jupyter-leaflet",
            "_model_module_version": "^0.18",
            "_model_name": "LeafletGeoJSONModel",
            "_view_count": null,
            "_view_module": "jupyter-leaflet",
            "_view_module_version": "^0.18",
            "_view_name": "LeafletGeoJSONView",
            "base": false,
            "bottom": false,
            "data": {
              "type": "FeatureCollection",
              "features": [
                {
                  "id": "0",
                  "type": "Feature",
                  "properties": {
                    "address_name": "서울 동대문구 전농동 694",
                    "category_group_code": "SC4",
                    "category_group_name": "학교",
                    "category_name": "교육,학문 > 학교 > 대학교",
                    "distance": "",
                    "id": "10498806",
                    "phone": "02-6490-6114",
                    "place_name": "서울시립대학교",
                    "place_url": "http://place.map.kakao.com/10498806",
                    "road_address_name": "서울 동대문구 서울시립대로 163",
                    "x": "127.05773316246166",
                    "y": "37.584828300773886"
                  },
                  "geometry": {
                    "type": "Point",
                    "coordinates": [
                      127.05773316246166,
                      37.584828300773886
                    ]
                  }
                },
                {
                  "id": "1",
                  "type": "Feature",
                  "properties": {
                    "address_name": "서울 동대문구 청량리동 207-43",
                    "category_group_code": "SC4",
                    "category_group_name": "학교",
                    "category_name": "교육,학문 > 학교 > 대학교",
                    "distance": "",
                    "id": "17384594",
                    "phone": "",
                    "place_name": "KAIST 서울캠퍼스",
                    "place_url": "http://place.map.kakao.com/17384594",
                    "road_address_name": "서울 동대문구 회기로 85",
                    "x": "127.04669593138594",
                    "y": "37.5926754214934"
                  },
                  "geometry": {
                    "type": "Point",
                    "coordinates": [
                      127.04669593138594,
                      37.5926754214934
                    ]
                  }
                },
                {
                  "id": "2",
                  "type": "Feature",
                  "properties": {
                    "address_name": "서울 중랑구 면목동 192-1",
                    "category_group_code": "SC4",
                    "category_group_name": "학교",
                    "category_name": "교육,학문 > 학교 > 초등학교",
                    "distance": "",
                    "id": "7935892",
                    "phone": "02-437-4147",
                    "place_name": "서울중랑초등학교",
                    "place_url": "http://place.map.kakao.com/7935892",
                    "road_address_name": "서울 중랑구 봉우재로6길 26",
                    "x": "127.075444124256",
                    "y": "37.5896133922662"
                  },
                  "geometry": {
                    "type": "Point",
                    "coordinates": [
                      127.075444124256,
                      37.5896133922662
                    ]
                  }
                },
                {
                  "id": "3",
                  "type": "Feature",
                  "properties": {
                    "address_name": "서울 동대문구 휘경동 43-7",
                    "category_group_code": "SC4",
                    "category_group_name": "학교",
                    "category_name": "교육,학문 > 학교 > 고등학교",
                    "distance": "",
                    "id": "11198634",
                    "phone": "02-2244-8925",
                    "place_name": "휘경여자고등학교",
                    "place_url": "http://place.map.kakao.com/11198634",
                    "road_address_name": "서울 동대문구 한천로 247",
                    "x": "127.067336617711",
                    "y": "37.5839276260158"
                  },
                  "geometry": {
                    "type": "Point",
                    "coordinates": [
                      127.067336617711,
                      37.5839276260158
                    ]
                  }
                },
                {
                  "id": "4",
                  "type": "Feature",
                  "properties": {
                    "address_name": "서울 동대문구 제기동 678",
                    "category_group_code": "SC4",
                    "category_group_name": "학교",
                    "category_name": "교육,학문 > 학교 > 초등학교",
                    "distance": "",
                    "id": "7936102",
                    "phone": "02-967-8161",
                    "place_name": "서울홍파초등학교",
                    "place_url": "http://place.map.kakao.com/7936102",
                    "road_address_name": "서울 동대문구 고산자로 518",
                    "x": "127.039391444512",
                    "y": "37.5861567023354"
                  },
                  "geometry": {
                    "type": "Point",
                    "coordinates": [
                      127.039391444512,
                      37.5861567023354
                    ]
                  }
                },
                {
                  "id": "5",
                  "type": "Feature",
                  "properties": {
                    "address_name": "서울 동대문구 회기동 1-1",
                    "category_group_code": "SC4",
                    "category_group_name": "학교",
                    "category_name": "교육,학문 > 학교 > 초등학교",
                    "distance": "",
                    "id": "7936206",
                    "phone": "02-962-1341",
                    "place_name": "서울청량초등학교",
                    "place_url": "http://place.map.kakao.com/7936206",
                    "road_address_name": "서울 동대문구 회기로25길 31",
                    "x": "127.055944045936",
                    "y": "37.5920244882738"
                  },
                  "geometry": {
                    "type": "Point",
                    "coordinates": [
                      127.055944045936,
                      37.5920244882738
                    ]
                  }
                },
                {
                  "id": "6",
                  "type": "Feature",
                  "properties": {
                    "address_name": "서울 동대문구 휘경동 49-327",
                    "category_group_code": "SC4",
                    "category_group_name": "학교",
                    "category_name": "교육,학문 > 학교 > 고등학교 > 특성화고등학교",
                    "distance": "",
                    "id": "10963521",
                    "phone": "02-2216-3643",
                    "place_name": "휘경공업고등학교",
                    "place_url": "http://place.map.kakao.com/10963521",
                    "road_address_name": "서울 동대문구 겸재로 21",
                    "x": "127.0694571333",
                    "y": "37.5851157081199"
                  },
                  "geometry": {
                    "type": "Point",
                    "coordinates": [
                      127.0694571333,
                      37.5851157081199
                    ]
                  }
                },
                {
                  "id": "7",
                  "type": "Feature",
                  "properties": {
                    "address_name": "서울 성북구 종암동 7-10",
                    "category_group_code": "SC4",
                    "category_group_name": "학교",
                    "category_name": "교육,학문 > 학교 > 고등학교",
                    "distance": "",
                    "id": "7942553",
                    "phone": "02-913-7306",
                    "place_name": "서울대학교사범대학 부설고등학교",
                    "place_url": "http://place.map.kakao.com/7942553",
                    "road_address_name": "서울 성북구 월곡로 6",
                    "x": "127.03861641440025",
                    "y": "37.59374871965702"
                  },
                  "geometry": {
                    "type": "Point",
                    "coordinates": [
                      127.03861641440025,
                      37.59374871965702
                    ]
                  }
                },
                {
                  "id": "8",
                  "type": "Feature",
                  "properties": {
                    "address_name": "서울 동대문구 휘경동 286-66",
                    "category_group_code": "SC4",
                    "category_group_name": "학교",
                    "category_name": "교육,학문 > 학교 > 중학교",
                    "distance": "",
                    "id": "8177475",
                    "phone": "02-2244-1359",
                    "place_name": "휘경중학교",
                    "place_url": "http://place.map.kakao.com/8177475",
                    "road_address_name": "서울 동대문구 망우로18나길 20",
                    "x": "127.062058823168",
                    "y": "37.5870839939152"
                  },
                  "geometry": {
                    "type": "Point",
                    "coordinates": [
                      127.062058823168,
                      37.5870839939152
                    ]
                  }
                },
                {
                  "id": "9",
                  "type": "Feature",
                  "properties": {
                    "address_name": "서울 동대문구 장안동 328",
                    "category_group_code": "SC4",
                    "category_group_name": "학교",
                    "category_name": "교육,학문 > 학교 > 고등학교",
                    "distance": "",
                    "id": "11096573",
                    "phone": "02-6913-1578",
                    "place_name": "동국대학교 사범대학 부속고등학교",
                    "place_url": "http://place.map.kakao.com/11096573",
                    "road_address_name": "서울 동대문구 장안벚꽃로 201",
                    "x": "127.074626416845",
                    "y": "37.5780487645908"
                  },
                  "geometry": {
                    "type": "Point",
                    "coordinates": [
                      127.074626416845,
                      37.5780487645908
                    ]
                  }
                },
                {
                  "id": "10",
                  "type": "Feature",
                  "properties": {
                    "address_name": "서울 동대문구 청량리동 7",
                    "category_group_code": "SC4",
                    "category_group_name": "학교",
                    "category_name": "교육,학문 > 학교 > 고등학교",
                    "distance": "",
                    "id": "8099015",
                    "phone": "02-959-4362",
                    "place_name": "청량고등학교",
                    "place_url": "http://place.map.kakao.com/8099015",
                    "road_address_name": "서울 동대문구 왕산로 303",
                    "x": "127.05098469716769",
                    "y": "37.58880568754215"
                  },
                  "geometry": {
                    "type": "Point",
                    "coordinates": [
                      127.05098469716769,
                      37.58880568754215
                    ]
                  }
                },
                {
                  "id": "11",
                  "type": "Feature",
                  "properties": {
                    "address_name": "서울 동대문구 장안동 328",
                    "category_group_code": "SC4",
                    "category_group_name": "학교",
                    "category_name": "교육,학문 > 학교 > 초등학교",
                    "distance": "",
                    "id": "7941702",
                    "phone": "02-6937-8180",
                    "place_name": "은석초등학교",
                    "place_url": "http://place.map.kakao.com/7941702",
                    "road_address_name": "서울 동대문구 장안벚꽃로 205",
                    "x": "127.075749978849",
                    "y": "37.5785850413515"
                  },
                  "geometry": {
                    "type": "Point",
                    "coordinates": [
                      127.075749978849,
                      37.5785850413515
                    ]
                  }
                },
                {
                  "id": "12",
                  "type": "Feature",
                  "properties": {
                    "address_name": "서울 동대문구 전농동 188",
                    "category_group_code": "SC4",
                    "category_group_name": "학교",
                    "category_name": "교육,학문 > 학교 > 초등학교",
                    "distance": "",
                    "id": "10482134",
                    "phone": "02-2242-6548",
                    "place_name": "서울전곡초등학교",
                    "place_url": "http://place.map.kakao.com/10482134",
                    "road_address_name": "서울 동대문구 전농로 172",
                    "x": "127.056506024554",
                    "y": "37.5805239482807"
                  },
                  "geometry": {
                    "type": "Point",
                    "coordinates": [
                      127.056506024554,
                      37.5805239482807
                    ]
                  }
                },
                {
                  "id": "13",
                  "type": "Feature",
                  "properties": {
                    "address_name": "서울 동대문구 전농동 90-3",
                    "category_group_code": "SC4",
                    "category_group_name": "학교",
                    "category_name": "교육,학문 > 학교 > 고등학교",
                    "distance": "",
                    "id": "11427311",
                    "phone": "070-7860-7100",
                    "place_name": "해성여자고등학교",
                    "place_url": "http://place.map.kakao.com/11427311",
                    "road_address_name": "서울 동대문구 전농로20길 31",
                    "x": "127.0571085010964",
                    "y": "37.58077593657807"
                  },
                  "geometry": {
                    "type": "Point",
                    "coordinates": [
                      127.0571085010964,
                      37.58077593657807
                    ]
                  }
                },
                {
                  "id": "14",
                  "type": "Feature",
                  "properties": {
                    "address_name": "서울 동대문구 전농동 678-3",
                    "category_group_code": "SC4",
                    "category_group_name": "학교",
                    "category_name": "교육,학문 > 학교 > 고등학교",
                    "distance": "",
                    "id": "8601928",
                    "phone": "02-2212-3166",
                    "place_name": "청량정보고등학교",
                    "place_url": "http://place.map.kakao.com/8601928",
                    "road_address_name": "서울 동대문구 답십리로15길 32",
                    "x": "127.047669259945",
                    "y": "37.5777708060603"
                  },
                  "geometry": {
                    "type": "Point",
                    "coordinates": [
                      127.047669259945,
                      37.5777708060603
                    ]
                  }
                },
                {
                  "id": "15",
                  "type": "Feature",
                  "properties": {
                    "address_name": "서울 동대문구 회기동 102-48",
                    "category_group_code": "SC4",
                    "category_group_name": "학교",
                    "category_name": "교육,학문 > 학교 > 초등학교",
                    "distance": "",
                    "id": "7934817",
                    "phone": "02-966-4859",
                    "place_name": "서울삼육초등학교",
                    "place_url": "http://place.map.kakao.com/7934817",
                    "road_address_name": "서울 동대문구 회기로10길 63",
                    "x": "127.047631016606",
                    "y": "37.5888206033755"
                  },
                  "geometry": {
                    "type": "Point",
                    "coordinates": [
                      127.047631016606,
                      37.5888206033755
                    ]
                  }
                },
                {
                  "id": "16",
                  "type": "Feature",
                  "properties": {
                    "address_name": "서울 동대문구 제기동 293",
                    "category_group_code": "SC4",
                    "category_group_name": "학교",
                    "category_name": "교육,학문 > 학교 > 고등학교 > 특성화고등학교",
                    "distance": "",
                    "id": "14657225",
                    "phone": "02-960-1495",
                    "place_name": "서울정화고등학교",
                    "place_url": "http://place.map.kakao.com/14657225",
                    "road_address_name": "서울 동대문구 홍릉로15길 50",
                    "x": "127.040795287521",
                    "y": "37.5860048586976"
                  },
                  "geometry": {
                    "type": "Point",
                    "coordinates": [
                      127.040795287521,
                      37.5860048586976
                    ]
                  }
                },
                {
                  "id": "17",
                  "type": "Feature",
                  "properties": {
                    "address_name": "서울 동대문구 전농동 3-111",
                    "category_group_code": "SC4",
                    "category_group_name": "학교",
                    "category_name": "교육,학문 > 학교 > 초등학교",
                    "distance": "",
                    "id": "7935908",
                    "phone": "02-2243-6502",
                    "place_name": "서울배봉초등학교",
                    "place_url": "http://place.map.kakao.com/7935908",
                    "road_address_name": "서울 동대문구 사가정로 193",
                    "x": "127.066183152",
                    "y": "37.5803279087154"
                  },
                  "geometry": {
                    "type": "Point",
                    "coordinates": [
                      127.066183152,
                      37.5803279087154
                    ]
                  }
                },
                {
                  "id": "18",
                  "type": "Feature",
                  "properties": {
                    "address_name": "서울 동대문구 청량리동 14",
                    "category_group_code": "SC4",
                    "category_group_name": "학교",
                    "category_name": "교육,학문 > 학교 > 중학교",
                    "distance": "",
                    "id": "9469622",
                    "phone": "02-966-4284",
                    "place_name": "청량중학교",
                    "place_url": "http://place.map.kakao.com/9469622",
                    "road_address_name": "서울 동대문구 왕산로 301",
                    "x": "127.051099679744",
                    "y": "37.5880659229738"
                  },
                  "geometry": {
                    "type": "Point",
                    "coordinates": [
                      127.051099679744,
                      37.5880659229738
                    ]
                  }
                },
                {
                  "id": "19",
                  "type": "Feature",
                  "properties": {
                    "address_name": "서울 동대문구 휘경동 49-295",
                    "category_group_code": "SC4",
                    "category_group_name": "학교",
                    "category_name": "교육,학문 > 학교 > 중학교",
                    "distance": "",
                    "id": "8538904",
                    "phone": "02-2212-9265",
                    "place_name": "전동중학교",
                    "place_url": "http://place.map.kakao.com/8538904",
                    "road_address_name": "서울 동대문구 장안벚꽃로 291",
                    "x": "127.071069682159",
                    "y": "37.5854535215831"
                  },
                  "geometry": {
                    "type": "Point",
                    "coordinates": [
                      127.071069682159,
                      37.5854535215831
                    ]
                  }
                },
                {
                  "id": "20",
                  "type": "Feature",
                  "properties": {
                    "address_name": "서울 동대문구 전농동 45-41",
                    "category_group_code": "SC4",
                    "category_group_name": "학교",
                    "category_name": "교육,학문 > 학교 > 초등학교",
                    "distance": "",
                    "id": "7937288",
                    "phone": "02-2214-6574",
                    "place_name": "서울전동초등학교",
                    "place_url": "http://place.map.kakao.com/7937288",
                    "road_address_name": "서울 동대문구 전농로16길 61",
                    "x": "127.06149550321929",
                    "y": "37.57946008382418"
                  },
                  "geometry": {
                    "type": "Point",
                    "coordinates": [
                      127.06149550321929,
                      37.57946008382418
                    ]
                  }
                },
                {
                  "id": "21",
                  "type": "Feature",
                  "properties": {
                    "address_name": "서울 중랑구 면목동 180-5",
                    "category_group_code": "SC4",
                    "category_group_name": "학교",
                    "category_name": "교육,학문 > 학교 > 초등학교",
                    "distance": "",
                    "id": "7935893",
                    "phone": "02-2209-0012",
                    "place_name": "서울중목초등학교",
                    "place_url": "http://place.map.kakao.com/7935893",
                    "road_address_name": "서울 중랑구 동일로 665",
                    "x": "127.07944495224099",
                    "y": "37.59016577844105"
                  },
                  "geometry": {
                    "type": "Point",
                    "coordinates": [
                      127.07944495224099,
                      37.59016577844105
                    ]
                  }
                },
                {
                  "id": "22",
                  "type": "Feature",
                  "properties": {
                    "address_name": "서울 동대문구 전농동 60-1",
                    "category_group_code": "SC4",
                    "category_group_name": "학교",
                    "category_name": "교육,학문 > 학교 > 중학교",
                    "distance": "",
                    "id": "7935282",
                    "phone": "02-2245-2745",
                    "place_name": "전일중학교",
                    "place_url": "http://place.map.kakao.com/7935282",
                    "road_address_name": "서울 동대문구 사가정로13길 67",
                    "x": "127.058522197486",
                    "y": "37.5818167927529"
                  },
                  "geometry": {
                    "type": "Point",
                    "coordinates": [
                      127.058522197486,
                      37.5818167927529
                    ]
                  }
                },
                {
                  "id": "23",
                  "type": "Feature",
                  "properties": {
                    "address_name": "서울 동대문구 휘경동 302-2",
                    "category_group_code": "SC4",
                    "category_group_name": "학교",
                    "category_name": "교육,학문 > 학교 > 초등학교",
                    "distance": "",
                    "id": "10505600",
                    "phone": "02-2244-4941",
                    "place_name": "서울휘경초등학교",
                    "place_url": "http://place.map.kakao.com/10505600",
                    "road_address_name": "서울 동대문구 망우로6길 48",
                    "x": "127.05839969096355",
                    "y": "37.585862312802526"
                  },
                  "geometry": {
                    "type": "Point",
                    "coordinates": [
                      127.05839969096355,
                      37.585862312802526
                    ]
                  }
                },
                {
                  "id": "24",
                  "type": "Feature",
                  "properties": {
                    "address_name": "서울 동대문구 휘경동 49-27",
                    "category_group_code": "SC4",
                    "category_group_name": "학교",
                    "category_name": "교육,학문 > 학교 > 초등학교",
                    "distance": "",
                    "id": "8164540",
                    "phone": "02-2248-4644",
                    "place_name": "서울휘봉초등학교",
                    "place_url": "http://place.map.kakao.com/8164540",
                    "road_address_name": "서울 동대문구 장안벚꽃로 309",
                    "x": "127.070214612113",
                    "y": "37.5863730459726"
                  },
                  "geometry": {
                    "type": "Point",
                    "coordinates": [
                      127.070214612113,
                      37.5863730459726
                    ]
                  }
                },
                {
                  "id": "25",
                  "type": "Feature",
                  "properties": {
                    "address_name": "서울 동대문구 휘경동 43-7",
                    "category_group_code": "SC4",
                    "category_group_name": "학교",
                    "category_name": "교육,학문 > 학교 > 중학교",
                    "distance": "",
                    "id": "8164371",
                    "phone": "02-2244-4431",
                    "place_name": "휘경여자중학교",
                    "place_url": "http://place.map.kakao.com/8164371",
                    "road_address_name": "서울 동대문구 한천로 247",
                    "x": "127.06773068255059",
                    "y": "37.58400668795913"
                  },
                  "geometry": {
                    "type": "Point",
                    "coordinates": [
                      127.06773068255059,
                      37.58400668795913
                    ]
                  }
                },
                {
                  "id": "26",
                  "type": "Feature",
                  "properties": {
                    "address_name": "서울 동대문구 청량리동 235-4",
                    "category_group_code": "SC4",
                    "category_group_name": "학교",
                    "category_name": "교육,학문 > 학교 > 고등학교",
                    "distance": "",
                    "id": "8508103",
                    "phone": "02-962-9124",
                    "place_name": "정암미용고등학교",
                    "place_url": "http://place.map.kakao.com/8508103",
                    "road_address_name": "서울 동대문구 왕산로 225",
                    "x": "127.047405063889",
                    "y": "37.5824596841397"
                  },
                  "geometry": {
                    "type": "Point",
                    "coordinates": [
                      127.047405063889,
                      37.5824596841397
                    ]
                  }
                },
                {
                  "id": "27",
                  "type": "Feature",
                  "properties": {
                    "address_name": "서울 동대문구 전농동 90-3",
                    "category_group_code": "SC4",
                    "category_group_name": "학교",
                    "category_name": "교육,학문 > 학교 > 고등학교 > 특성화고등학교",
                    "distance": "",
                    "id": "8164098",
                    "phone": "070-8786-1300",
                    "place_name": "해성국제컨벤션고등학교",
                    "place_url": "http://place.map.kakao.com/8164098",
                    "road_address_name": "서울 동대문구 전농로20길 31",
                    "x": "127.057285914801",
                    "y": "37.5818246071338"
                  },
                  "geometry": {
                    "type": "Point",
                    "coordinates": [
                      127.057285914801,
                      37.5818246071338
                    ]
                  }
                },
                {
                  "id": "28",
                  "type": "Feature",
                  "properties": {
                    "address_name": "서울 동대문구 청량리동 206-44",
                    "category_group_code": "SC4",
                    "category_group_name": "학교",
                    "category_name": "교육,학문 > 학교 > 초등학교",
                    "distance": "",
                    "id": "7934108",
                    "phone": "02-968-4701",
                    "place_name": "서울홍릉초등학교",
                    "place_url": "http://place.map.kakao.com/7934108",
                    "road_address_name": "서울 동대문구 회기로 90",
                    "x": "127.047202197646",
                    "y": "37.5910876722296"
                  },
                  "geometry": {
                    "type": "Point",
                    "coordinates": [
                      127.047202197646,
                      37.5910876722296
                    ]
                  }
                },
                {
                  "id": "29",
                  "type": "Feature",
                  "properties": {
                    "address_name": "서울 동대문구 제기동 293",
                    "category_group_code": "SC4",
                    "category_group_name": "학교",
                    "category_name": "교육,학문 > 학교 > 중학교",
                    "distance": "",
                    "id": "12450253",
                    "phone": "02-967-0178",
                    "place_name": "정화여자중학교",
                    "place_url": "http://place.map.kakao.com/12450253",
                    "road_address_name": "서울 동대문구 홍릉로15길 50",
                    "x": "127.04061273673395",
                    "y": "37.58551297949713"
                  },
                  "geometry": {
                    "type": "Point",
                    "coordinates": [
                      127.04061273673395,
                      37.58551297949713
                    ]
                  }
                },
                {
                  "id": "30",
                  "type": "Feature",
                  "properties": {
                    "address_name": "서울 동대문구 장안동 328",
                    "category_group_code": "SC4",
                    "category_group_name": "학교",
                    "category_name": "교육,학문 > 학교 > 중학교",
                    "distance": "",
                    "id": "7843192",
                    "phone": "02-6716-1700",
                    "place_name": "동국대학교사범대학 부속중학교",
                    "place_url": "http://place.map.kakao.com/7843192",
                    "road_address_name": "서울 동대문구 장안벚꽃로 201",
                    "x": "127.075667885359",
                    "y": "37.5780084578762"
                  },
                  "geometry": {
                    "type": "Point",
                    "coordinates": [
                      127.075667885359,
                      37.5780084578762
                    ]
                  }
                },
                {
                  "id": "31",
                  "type": "Feature",
                  "properties": {
                    "address_name": "서울 동대문구 휘경동 43-138",
                    "category_group_code": "SC4",
                    "category_group_name": "학교",
                    "category_name": "교육,학문 > 학교 > 고등학교",
                    "distance": "",
                    "id": "17358636",
                    "phone": "02-2116-7206",
                    "place_name": "휘봉고등학교",
                    "place_url": "http://place.map.kakao.com/17358636",
                    "road_address_name": "서울 동대문구 한천로 290",
                    "x": "127.06903268100889",
                    "y": "37.58646744636223"
                  },
                  "geometry": {
                    "type": "Point",
                    "coordinates": [
                      127.06903268100889,
                      37.58646744636223
                    ]
                  }
                },
                {
                  "id": "32",
                  "type": "Feature",
                  "properties": {
                    "address_name": "서울 동대문구 전농동 54-6",
                    "category_group_code": "SC4",
                    "category_group_name": "학교",
                    "category_name": "교육,학문 > 학교 > 중학교",
                    "distance": "",
                    "id": "8503755",
                    "phone": "02-2242-6652",
                    "place_name": "전농중학교",
                    "place_url": "http://place.map.kakao.com/8503755",
                    "road_address_name": "서울 동대문구 사가정로13길 71",
                    "x": "127.059704137564",
                    "y": "37.5818089929221"
                  },
                  "geometry": {
                    "type": "Point",
                    "coordinates": [
                      127.059704137564,
                      37.5818089929221
                    ]
                  }
                }
              ]
            },
            "hover_style": {},
            "layers": [],
            "name": "학교",
            "options": [],
            "pane": "",
            "point_style": {
              "radius": 7,
              "color": "darkblue",
              "fillOpacity": 0.7,
              "fillColor": "lightblue",
              "weight": 2
            },
            "popup": null,
            "popup_max_height": null,
            "popup_max_width": 300,
            "popup_min_width": 50,
            "style": {},
            "subitems": [],
            "visible": true
          }
        },
        "7bb9d2e30ef0489db01ee4903087e40d": {
          "model_module": "@jupyter-widgets/base",
          "model_name": "LayoutModel",
          "model_module_version": "1.2.0",
          "state": {
            "_model_module": "@jupyter-widgets/base",
            "_model_module_version": "1.2.0",
            "_model_name": "LayoutModel",
            "_view_count": null,
            "_view_module": "@jupyter-widgets/base",
            "_view_module_version": "1.2.0",
            "_view_name": "LayoutView",
            "align_content": null,
            "align_items": null,
            "align_self": null,
            "border": null,
            "bottom": null,
            "display": null,
            "flex": null,
            "flex_flow": null,
            "grid_area": null,
            "grid_auto_columns": null,
            "grid_auto_flow": null,
            "grid_auto_rows": null,
            "grid_column": null,
            "grid_gap": null,
            "grid_row": null,
            "grid_template_areas": null,
            "grid_template_columns": null,
            "grid_template_rows": null,
            "height": "500px",
            "justify_content": null,
            "justify_items": null,
            "left": null,
            "margin": null,
            "max_height": null,
            "max_width": null,
            "min_height": null,
            "min_width": null,
            "object_fit": null,
            "object_position": null,
            "order": null,
            "overflow": null,
            "overflow_x": null,
            "overflow_y": null,
            "padding": null,
            "right": null,
            "top": null,
            "visibility": null,
            "width": "800px"
          }
        },
        "c55dd390bf45400099352b2be52c136a": {
          "model_module": "jupyter-leaflet",
          "model_name": "LeafletMapStyleModel",
          "model_module_version": "^0.18",
          "state": {
            "_model_module": "jupyter-leaflet",
            "_model_module_version": "^0.18",
            "_model_name": "LeafletMapStyleModel",
            "_view_count": null,
            "_view_module": "@jupyter-widgets/base",
            "_view_module_version": "1.2.0",
            "_view_name": "StyleView",
            "cursor": "grab"
          }
        },
        "3ac8025641244ac2a47f9f02f5563f20": {
          "model_module": "jupyter-leaflet",
          "model_name": "LeafletMapModel",
          "model_module_version": "^0.18",
          "state": {
            "_dom_classes": [],
            "_model_module": "jupyter-leaflet",
            "_model_module_version": "^0.18",
            "_model_name": "LeafletMapModel",
            "_view_count": null,
            "_view_module": "jupyter-leaflet",
            "_view_module_version": "^0.18",
            "_view_name": "LeafletMapView",
            "bottom": 712,
            "bounce_at_zoom_limits": true,
            "box_zoom": true,
            "center": [
              0,
              0
            ],
            "close_popup_on_click": true,
            "controls": [
              "IPY_MODEL_4944478a2f79455e839c9e6bd06fbb5f",
              "IPY_MODEL_611a0bd37a0340afb747c591a3a10f21"
            ],
            "crs": {
              "name": "EPSG3857",
              "custom": false
            },
            "default_style": "IPY_MODEL_8528e859ce014b9f8e3e882fd633341f",
            "double_click_zoom": true,
            "dragging": true,
            "dragging_style": "IPY_MODEL_212a3d5ac3f6477990c273ad391551c0",
            "east": 247.85156250000003,
            "fullscreen": false,
            "inertia": true,
            "inertia_deceleration": 3000,
            "inertia_max_speed": 1500,
            "interpolation": "bilinear",
            "keyboard": true,
            "keyboard_pan_offset": 80,
            "keyboard_zoom_offset": 1,
            "layers": [
              "IPY_MODEL_be8904f08e784f24a59a5ca73333ea1f",
              "IPY_MODEL_72b244cf69d64810aba0e040fabae428"
            ],
            "layout": "IPY_MODEL_84caa5212a86443eba55038253c35464",
            "left": -192,
            "max_zoom": null,
            "min_zoom": null,
            "modisdate": "2024-03-21",
            "north": 57.326521225217064,
            "options": [
              "bounce_at_zoom_limits",
              "box_zoom",
              "center",
              "close_popup_on_click",
              "double_click_zoom",
              "dragging",
              "fullscreen",
              "inertia",
              "inertia_deceleration",
              "inertia_max_speed",
              "interpolation",
              "keyboard",
              "keyboard_pan_offset",
              "keyboard_zoom_offset",
              "max_zoom",
              "min_zoom",
              "prefer_canvas",
              "scroll_wheel_zoom",
              "tap",
              "tap_tolerance",
              "touch_zoom",
              "world_copy_jump",
              "zoom",
              "zoom_animation_threshold",
              "zoom_delta",
              "zoom_snap"
            ],
            "panes": {},
            "prefer_canvas": false,
            "right": 1217,
            "scroll_wheel_zoom": false,
            "south": -57.32652122521708,
            "style": "IPY_MODEL_d832ad37c9f24c4297ac7d5c903bc010",
            "tap": true,
            "tap_tolerance": 15,
            "top": 312,
            "touch_zoom": true,
            "west": -247.50000000000003,
            "window_url": "https://4hr8k41i1vt-496ff2e9c6d22116-0-colab.googleusercontent.com/outputframe.html?vrz=colab_20240320-060147_RC00_617469838",
            "world_copy_jump": false,
            "zoom": 2,
            "zoom_animation_threshold": 4,
            "zoom_delta": 1,
            "zoom_snap": 1
          }
        },
        "4944478a2f79455e839c9e6bd06fbb5f": {
          "model_module": "jupyter-leaflet",
          "model_name": "LeafletZoomControlModel",
          "model_module_version": "^0.18",
          "state": {
            "_model_module": "jupyter-leaflet",
            "_model_module_version": "^0.18",
            "_model_name": "LeafletZoomControlModel",
            "_view_count": null,
            "_view_module": "jupyter-leaflet",
            "_view_module_version": "^0.18",
            "_view_name": "LeafletZoomControlView",
            "options": [
              "position",
              "zoom_in_text",
              "zoom_in_title",
              "zoom_out_text",
              "zoom_out_title"
            ],
            "position": "topleft",
            "zoom_in_text": "+",
            "zoom_in_title": "Zoom in",
            "zoom_out_text": "-",
            "zoom_out_title": "Zoom out"
          }
        },
        "611a0bd37a0340afb747c591a3a10f21": {
          "model_module": "jupyter-leaflet",
          "model_name": "LeafletAttributionControlModel",
          "model_module_version": "^0.18",
          "state": {
            "_model_module": "jupyter-leaflet",
            "_model_module_version": "^0.18",
            "_model_name": "LeafletAttributionControlModel",
            "_view_count": null,
            "_view_module": "jupyter-leaflet",
            "_view_module_version": "^0.18",
            "_view_name": "LeafletAttributionControlView",
            "options": [
              "position",
              "prefix"
            ],
            "position": "bottomright",
            "prefix": "ipyleaflet"
          }
        },
        "8528e859ce014b9f8e3e882fd633341f": {
          "model_module": "jupyter-leaflet",
          "model_name": "LeafletMapStyleModel",
          "model_module_version": "^0.18",
          "state": {
            "_model_module": "jupyter-leaflet",
            "_model_module_version": "^0.18",
            "_model_name": "LeafletMapStyleModel",
            "_view_count": null,
            "_view_module": "@jupyter-widgets/base",
            "_view_module_version": "1.2.0",
            "_view_name": "StyleView",
            "cursor": "grab"
          }
        },
        "212a3d5ac3f6477990c273ad391551c0": {
          "model_module": "jupyter-leaflet",
          "model_name": "LeafletMapStyleModel",
          "model_module_version": "^0.18",
          "state": {
            "_model_module": "jupyter-leaflet",
            "_model_module_version": "^0.18",
            "_model_name": "LeafletMapStyleModel",
            "_view_count": null,
            "_view_module": "@jupyter-widgets/base",
            "_view_module_version": "1.2.0",
            "_view_name": "StyleView",
            "cursor": "move"
          }
        },
        "be8904f08e784f24a59a5ca73333ea1f": {
          "model_module": "jupyter-leaflet",
          "model_name": "LeafletTileLayerModel",
          "model_module_version": "^0.18",
          "state": {
            "_model_module": "jupyter-leaflet",
            "_model_module_version": "^0.18",
            "_model_name": "LeafletTileLayerModel",
            "_view_count": null,
            "_view_module": "jupyter-leaflet",
            "_view_module_version": "^0.18",
            "_view_name": "LeafletTileLayerView",
            "attribution": "&copy; <a href=\"https://www.openstreetmap.org/copyright\">OpenStreetMap</a> contributors",
            "base": true,
            "bottom": true,
            "bounds": null,
            "detect_retina": false,
            "loading": false,
            "max_native_zoom": null,
            "max_zoom": 19,
            "min_native_zoom": null,
            "min_zoom": 1,
            "name": "OpenStreetMap.Mapnik",
            "no_wrap": false,
            "opacity": 1,
            "options": [
              "attribution",
              "bounds",
              "detect_retina",
              "max_native_zoom",
              "max_zoom",
              "min_native_zoom",
              "min_zoom",
              "no_wrap",
              "tile_size",
              "tms",
              "zoom_offset"
            ],
            "pane": "",
            "popup": null,
            "popup_max_height": null,
            "popup_max_width": 300,
            "popup_min_width": 50,
            "show_loading": false,
            "subitems": [],
            "tile_size": 256,
            "tms": false,
            "url": "https://tile.openstreetmap.org/{z}/{x}/{y}.png",
            "visible": true,
            "zoom_offset": 0
          }
        },
        "72b244cf69d64810aba0e040fabae428": {
          "model_module": "jupyter-leaflet",
          "model_name": "LeafletHeatmapModel",
          "model_module_version": "^0.18",
          "state": {
            "_model_module": "jupyter-leaflet",
            "_model_module_version": "^0.18",
            "_model_name": "LeafletHeatmapModel",
            "_view_count": null,
            "_view_module": "jupyter-leaflet",
            "_view_module_version": "^0.18",
            "_view_name": "LeafletHeatmapView",
            "base": false,
            "blur": 15,
            "bottom": false,
            "gradient": {
              "0.4": "blue",
              "0.6": "cyan",
              "0.7": "lime",
              "0.8": "yellow",
              "1.0": "red"
            },
            "locations": [
              [
                44.8904359615082,
                78.10766187081367,
                736.105279897055
              ],
              [
                -45.09435029855698,
                173.88570972566026,
                950.4132363457987
              ],
              [
                41.59833571401825,
                114.30458291218628,
                654.1385955531659
              ],
              [
                -51.02194156339937,
                -175.5749970988675,
                78.2019907145427
              ],
              [
                30.858010676334416,
                173.90986129354718,
                871.211132322596
              ],
              [
                -18.599443527796282,
                19.85003058515315,
                409.2003458259844
              ],
              [
                -43.17973878425427,
                155.8296691153775,
                81.22870755336497
              ],
              [
                16.578596878941326,
                -40.3276760525097,
                666.1639988742861
              ],
              [
                76.42790773949093,
                -48.76760398088845,
                710.9845168265579
              ],
              [
                75.03641362165007,
                -47.45831438187898,
                175.73656532879411
              ],
              [
                20.01434196626849,
                -9.83420088024954,
                893.6751286548372
              ],
              [
                50.526475085187144,
                88.5250625905619,
                202.23492897193628
              ],
              [
                -65.87844719675651,
                -118.71668118755812,
                184.45650778277124
              ],
              [
                33.499072813423325,
                155.4318830923002,
                672.0078588385571
              ],
              [
                4.409375447066623,
                63.753300960173846,
                534.8001578499825
              ],
              [
                -37.56145556339703,
                151.72109610462144,
                435.449506107754
              ],
              [
                -75.55209333548402,
                -129.6685090542963,
                867.71062793458
              ],
              [
                27.98810568299801,
                52.89267636675615,
                610.1278161602639
              ],
              [
                -59.72167988985486,
                -153.07755580895886,
                473.9452909359147
              ],
              [
                -3.606221607660501,
                -170.34171503966354,
                735.9101517628535
              ],
              [
                23.66051389746653,
                10.83290982494924,
                978.8384822185689
              ],
              [
                -15.23310264224014,
                28.651882598194817,
                776.3886528917718
              ],
              [
                76.48014284847204,
                28.80838165345483,
                180.0826683228216
              ],
              [
                -54.24426965581142,
                101.876465982247,
                205.76273847241865
              ],
              [
                14.408185681870606,
                -116.27966353340295,
                903.5457961820034
              ],
              [
                56.30583976768915,
                81.5744952529123,
                337.13271886303755
              ],
              [
                23.40612809319417,
                -86.8682557728084,
                983.4346207929633
              ],
              [
                73.25788663996906,
                -75.51130605516961,
                486.19143889382934
              ],
              [
                22.572613392143964,
                108.20219773166224,
                356.3443431167188
              ],
              [
                -1.3184509157129298,
                -108.39104894042688,
                15.501165652348936
              ],
              [
                -77.16461358059942,
                -95.10156244088287,
                445.4738937615534
              ],
              [
                71.01096792925964,
                160.8334649898552,
                743.7530885951164
              ],
              [
                20.586589346607724,
                -77.9831195227551,
                308.8583974231883
              ],
              [
                -26.267044492458623,
                0.8889057514165586,
                177.7542902212218
              ],
              [
                49.72069465687218,
                41.403168614628584,
                455.130134671232
              ],
              [
                -44.533296339196404,
                -118.99744951929713,
                42.50292983264892
              ],
              [
                -54.618215680959935,
                -30.39163498959263,
                770.6751264319334
              ],
              [
                -10.565133811703134,
                108.92831016345963,
                403.2841130104785
              ],
              [
                -14.462385534389455,
                92.4135068338278,
                920.1881140659995
              ],
              [
                31.656379438271813,
                92.16844172277314,
                330.4675248639305
              ],
              [
                -37.09224536070158,
                -162.18982658252628,
                595.5481707786512
              ],
              [
                34.33137239425774,
                -31.557820919338923,
                943.9333795651423
              ],
              [
                -63.300292746917734,
                41.486673366182174,
                337.84225396612277
              ],
              [
                44.67482801996027,
                -6.339030361511618,
                649.0329378239165
              ],
              [
                -14.28163902204632,
                4.862524925057329,
                519.7452161317171
              ],
              [
                46.184715290726245,
                -1.963933446138725,
                925.7381171119356
              ],
              [
                14.777878366258733,
                -37.399287235656544,
                181.31123887801903
              ],
              [
                29.679429561920017,
                4.842916227927645,
                324.77253953792416
              ],
              [
                34.64644055339987,
                -159.40550884164958,
                937.4956607120969
              ],
              [
                58.089715281025946,
                68.50842012931614,
                236.04452202230874
              ],
              [
                -32.24231781593318,
                -135.0754812675939,
                923.3728403685611
              ],
              [
                2.283080199882903,
                -173.90418039167542,
                204.71076866113748
              ],
              [
                -49.73604601064178,
                -122.27481921116899,
                801.4680329744682
              ],
              [
                -13.261121215528505,
                -74.95044871072194,
                301.175327383036
              ],
              [
                -35.17950550883975,
                -163.42481477945455,
                0.518686632996479
              ],
              [
                -49.821455152329946,
                -173.34616352370398,
                868.1834931187619
              ],
              [
                51.73086615600445,
                173.1976535682873,
                617.5407729416081
              ],
              [
                67.7898416623849,
                -120.80810472170933,
                835.8953896108009
              ],
              [
                0.43648298581291556,
                20.191207468371857,
                780.1985493500222
              ],
              [
                -26.09325477899496,
                -68.45843891118987,
                142.45557340016268
              ],
              [
                -12.481150948790031,
                -95.72393525930737,
                188.0829847491582
              ],
              [
                56.52937892642308,
                -52.93342164330568,
                779.2459276390325
              ],
              [
                46.23876797263556,
                -60.022579742727956,
                439.2440408442363
              ],
              [
                0.3777755632471411,
                37.90179557056979,
                597.81554670381
              ],
              [
                74.74870313599416,
                129.98400631345214,
                24.251551961055107
              ],
              [
                13.005147082523948,
                -29.53560265157418,
                369.7619492025771
              ],
              [
                -40.82619780846709,
                -103.87942554006642,
                201.96260493468154
              ],
              [
                -28.92181288146739,
                -145.94333418869394,
                513.2391262685492
              ],
              [
                -40.704530755619004,
                -102.1473020783696,
                743.7071308399923
              ],
              [
                23.026695986067722,
                -177.40649072254203,
                982.000789490395
              ],
              [
                10.943283113938776,
                -103.6563679121024,
                853.7798258292402
              ],
              [
                -19.95739773791751,
                -51.44987723115037,
                350.9981681618355
              ],
              [
                -65.46712652278282,
                -138.5881883822458,
                171.14127640242626
              ],
              [
                -23.708693628068417,
                -168.50922676430443,
                792.4518603634519
              ],
              [
                60.820336878737436,
                57.25657622110003,
                610.6295644344151
              ],
              [
                25.740287450251344,
                39.09078226045318,
                15.7095713127956
              ],
              [
                -36.48331917368685,
                18.265311225426473,
                844.1478873419718
              ],
              [
                -49.98616944669401,
                -112.06936933777982,
                288.8228734465873
              ],
              [
                -46.97914088959667,
                -8.656936764523778,
                76.7453726611711
              ],
              [
                -78.05811013515032,
                -55.99968258200815,
                281.4424029860227
              ],
              [
                13.604787807764495,
                -122.12413380450066,
                987.4091351058495
              ],
              [
                -23.29159795730302,
                -33.58130597649884,
                157.2299273426281
              ],
              [
                -76.3823051294416,
                -96.9392587989098,
                733.1457898977338
              ],
              [
                -14.437310063823219,
                -57.26907048213333,
                285.8484466177497
              ],
              [
                -33.353505258821215,
                -68.99383959113985,
                719.6591882939364
              ],
              [
                -0.0020764752767234995,
                168.61442409193694,
                39.99406134071215
              ],
              [
                61.671109726239536,
                -148.12426992339417,
                395.09711029183427
              ],
              [
                -31.66698377008879,
                21.43540696995987,
                494.3609769804754
              ],
              [
                -14.996952145409551,
                -69.7971262874687,
                887.1948907980309
              ],
              [
                53.03512070844161,
                -40.51910700289284,
                539.5967853775928
              ],
              [
                -79.18767867524222,
                179.25756445789574,
                340.37677835502353
              ],
              [
                -64.01275027820255,
                -102.51438753868287,
                973.2517961460562
              ],
              [
                -12.914003299420841,
                -135.01713986251525,
                337.78817848940946
              ],
              [
                -26.219676471099703,
                -120.8904909754481,
                162.61344709058855
              ],
              [
                -62.261705557824016,
                170.1546780915794,
                630.2479465061556
              ],
              [
                -77.30475139857148,
                27.926437783023857,
                60.92313997725163
              ],
              [
                72.44323779459097,
                129.05571418937052,
                161.4396384737028
              ],
              [
                16.25114305115349,
                -148.88623587476366,
                962.1457545005566
              ],
              [
                37.8261382989035,
                -20.350585935366695,
                753.6811863207517
              ],
              [
                25.962233887624393,
                -111.60537459481826,
                117.62532544974313
              ],
              [
                40.867872334764314,
                17.152314437022028,
                411.3277699780099
              ],
              [
                44.15357605570472,
                134.30643641467907,
                826.93851113112
              ],
              [
                52.88562458770849,
                62.96598775700929,
                934.6897353877287
              ],
              [
                61.789563658427994,
                -174.3768563157404,
                627.4693564462149
              ],
              [
                -30.40769068430137,
                6.368072106197047,
                603.1687769749024
              ],
              [
                -15.39565505121405,
                34.64052910698942,
                264.03393618622187
              ],
              [
                -73.3197012210748,
                -88.50055354410624,
                245.57946051129508
              ],
              [
                -67.39977883586171,
                -84.23452694785294,
                617.9009537186342
              ],
              [
                35.063523130219295,
                168.48143148620005,
                865.148564208248
              ],
              [
                -67.47289519678255,
                -174.9371708472665,
                570.0503107653113
              ],
              [
                -54.12239876706263,
                -87.15817331808185,
                530.862778787312
              ],
              [
                65.37822868348559,
                20.304921411241537,
                287.83452394751174
              ],
              [
                -25.397047489323477,
                91.65820299496909,
                814.7061931180771
              ],
              [
                -24.334010528001073,
                -80.1897331182634,
                716.359594545777
              ],
              [
                50.05548496552822,
                111.11775140843474,
                692.8595143165735
              ],
              [
                66.45855514442573,
                -163.55490322150945,
                746.8215299730635
              ],
              [
                -49.79088834933876,
                -132.02164047845466,
                245.6571515683019
              ],
              [
                -66.3579270878313,
                104.14150414157791,
                474.10700322554646
              ],
              [
                70.98971091641988,
                -75.1714526244403,
                956.8045277171562
              ],
              [
                77.96606387604893,
                -109.87687271890782,
                521.3186978700477
              ],
              [
                -11.34889071928562,
                128.16446226060276,
                667.2855534130306
              ],
              [
                64.93861003142493,
                176.2598426173024,
                593.0880704637586
              ],
              [
                25.603501806900823,
                -72.6351866144177,
                238.64398130260122
              ],
              [
                74.40666262080538,
                167.76535802250453,
                337.1121415514525
              ],
              [
                -20.23133114643496,
                57.30257628326672,
                951.3257010716275
              ],
              [
                -9.373260490706457,
                109.40626347862485,
                82.02073754592587
              ],
              [
                -46.36477511601665,
                72.53504845141,
                85.13354850255628
              ],
              [
                78.68104014580265,
                -77.91738094596396,
                667.2557742535201
              ],
              [
                -31.449423644910212,
                53.175896906512605,
                101.59996606220645
              ],
              [
                62.8409107131898,
                -8.449329383863073,
                671.1696259491965
              ],
              [
                34.661376666925534,
                125.97303660566848,
                56.473257697930876
              ],
              [
                -39.18660100332506,
                -37.62324255618935,
                28.520488479229723
              ],
              [
                29.570046488760937,
                98.7459018567169,
                24.739358036144353
              ],
              [
                -2.7971641189430017,
                -123.44878303852612,
                340.55165585615987
              ],
              [
                40.36844656572869,
                -28.17791944238732,
                969.8767022345999
              ],
              [
                -63.18882510315744,
                85.77945967676447,
                631.8041284874578
              ],
              [
                48.80358164522727,
                -4.163037015562594,
                148.12044168546723
              ],
              [
                -20.339899459958275,
                -63.80584061431361,
                469.2494215083869
              ],
              [
                64.06952674138756,
                -113.62106821556682,
                520.8548178122043
              ],
              [
                78.29791864678398,
                96.32676262496796,
                927.0492977300547
              ],
              [
                -17.244833607227612,
                -49.667886593163615,
                141.00060046674156
              ],
              [
                64.40990583147607,
                158.20826265633258,
                670.6156918553207
              ],
              [
                -0.45513120953286546,
                -124.8768563421152,
                281.0721435976793
              ],
              [
                -7.75439086837099,
                141.826662665889,
                966.2526245424779
              ],
              [
                -11.175630787192631,
                -113.13536155286666,
                272.3455242667083
              ],
              [
                3.4070546676038163,
                82.39127209479369,
                900.3221583309755
              ],
              [
                79.53023599943015,
                -39.4478462634664,
                258.2649840166347
              ],
              [
                -9.325338547680161,
                114.49051492318898,
                65.81451804490779
              ],
              [
                64.15361501050543,
                84.77067172637425,
                27.100967248470443
              ],
              [
                -32.33345195767253,
                114.85654259879004,
                515.0154545779765
              ],
              [
                40.259661809584415,
                169.21097179541664,
                879.4061439196303
              ],
              [
                -68.52775304876538,
                158.76953389934704,
                890.2845646661789
              ],
              [
                20.352506224311867,
                164.1890143384511,
                729.4285836399872
              ],
              [
                24.683724160855405,
                -73.69080271458462,
                340.021648310481
              ],
              [
                -7.91459427072445,
                -176.27647886062758,
                179.63527873991382
              ],
              [
                -37.0115607582262,
                10.628297280338785,
                717.690207372265
              ],
              [
                28.046563976243903,
                -92.08984512746088,
                697.3091004553092
              ],
              [
                60.12411080508261,
                -178.1615534119365,
                354.15934947110816
              ],
              [
                -16.83925836304109,
                -131.080525626128,
                312.3629775117077
              ],
              [
                58.623047339653624,
                80.38805659523848,
                949.6262491989481
              ],
              [
                28.531333327440052,
                -138.622499963866,
                170.83927288343548
              ],
              [
                62.679908241881634,
                12.510350047181248,
                395.95783557791265
              ],
              [
                -37.67696860463211,
                -90.58346204945907,
                59.668253814655124
              ],
              [
                55.73810780472121,
                -179.57194984848215,
                640.194878846223
              ],
              [
                42.434511874508004,
                153.6920741733365,
                509.9270055772657
              ],
              [
                -39.97317975565325,
                -74.44037948601044,
                556.0037296778808
              ],
              [
                62.79024016342737,
                -61.715830066207886,
                899.5596203706019
              ],
              [
                7.48028592660711,
                -176.40871638596752,
                320.65099435306064
              ],
              [
                -28.996847748147445,
                -48.70343100025201,
                659.0634865415059
              ],
              [
                -45.824130503785895,
                -69.91155783234652,
                294.4504256785807
              ],
              [
                2.5584727381906305,
                93.45855680707439,
                609.1982678832986
              ],
              [
                -39.0146794649572,
                -58.81785523232794,
                47.97713805511694
              ],
              [
                -39.524506350489844,
                174.92491032429916,
                429.3494745574289
              ],
              [
                75.46256111030112,
                -15.957549314774923,
                597.3287604600561
              ],
              [
                -62.738649862970334,
                26.445152125617966,
                415.3559400146104
              ],
              [
                -2.2820834839471473,
                170.53938529124162,
                748.5536861470149
              ],
              [
                69.40556463760299,
                -168.2978781842041,
                769.2222367041784
              ],
              [
                -71.73366838276414,
                36.88831718383577,
                683.842046788371
              ],
              [
                43.55041598701513,
                96.54017403219189,
                220.0434960167351
              ],
              [
                72.05022442647478,
                -79.15614326638921,
                834.3970307891973
              ],
              [
                -30.623595679631066,
                151.9624562065527,
                718.1678254919238
              ],
              [
                41.30791404524825,
                -79.21075097187482,
                116.58658031119484
              ],
              [
                -0.20771565330120723,
                14.207975932008821,
                82.06710199458355
              ],
              [
                29.777461744459316,
                95.2549476334907,
                219.7964577322652
              ],
              [
                22.876537409324754,
                26.05096139443117,
                990.701889675791
              ],
              [
                -20.277230556954805,
                -101.97710309333459,
                847.6807572901423
              ],
              [
                -59.25584067357441,
                -89.4517644710179,
                90.16586080441269
              ],
              [
                -9.05744887506522,
                -92.14556170574518,
                816.9595973962488
              ],
              [
                -42.67165514624837,
                97.76814132292446,
                453.6278302190372
              ],
              [
                -65.9396597020062,
                130.26156376092678,
                836.3307567150715
              ],
              [
                -58.98461527792462,
                56.6985426737221,
                183.70734559760095
              ],
              [
                63.527555463999704,
                -103.69567880553772,
                142.59971681088757
              ],
              [
                75.91357043028856,
                39.008124250146835,
                803.709279466432
              ],
              [
                -77.26553682250554,
                -71.21498509987966,
                590.9415819793851
              ],
              [
                -41.894780653277635,
                37.4392928735235,
                495.1376221076629
              ],
              [
                42.20983311560404,
                -169.18305355972765,
                501.62331079317346
              ],
              [
                24.453617040854482,
                -117.99734948749827,
                910.2580858904253
              ],
              [
                0.3111554613445833,
                172.56539551488373,
                496.86572551057606
              ],
              [
                -15.26805715477775,
                -17.12407915106948,
                355.914262076078
              ],
              [
                66.59233765730232,
                42.09018145149696,
                969.9419042182026
              ],
              [
                60.36242808653273,
                -68.69712941221823,
                982.5543060421531
              ],
              [
                38.42205724710837,
                -153.78848965598087,
                58.059718812669026
              ],
              [
                55.04182898070556,
                -7.675517488667907,
                836.1542901546268
              ],
              [
                42.599742330407054,
                114.85472623589982,
                647.647313165188
              ],
              [
                41.35032075515568,
                -111.965689809712,
                969.5454519468468
              ],
              [
                51.85482517107096,
                -70.7181147431548,
                750.8569227508259
              ],
              [
                27.13878718860505,
                166.19197220866278,
                550.9788551841357
              ],
              [
                -24.075347953556147,
                -1.924627476584476,
                33.91835931360887
              ],
              [
                -49.8174934996088,
                -174.65457980730577,
                527.4990373298143
              ],
              [
                -26.509537246184323,
                -113.12762761220931,
                643.4906048348454
              ],
              [
                40.41158150924733,
                -88.3625551470398,
                983.8558774158164
              ],
              [
                -42.91999805177635,
                -63.825042451661204,
                852.6829431684748
              ],
              [
                12.375535312998437,
                -158.46367306374913,
                919.4991520638192
              ],
              [
                -43.288688588917914,
                72.09374115545512,
                711.3193374657735
              ],
              [
                71.92260596222974,
                -119.31973280235171,
                59.14472353476696
              ],
              [
                13.678895433123884,
                -38.002852317393945,
                26.251118777923075
              ],
              [
                77.99830741822228,
                48.24451093607041,
                53.28913053126993
              ],
              [
                74.55913652040047,
                21.756662499903427,
                125.22365229904942
              ],
              [
                2.2010978953720297,
                -119.03979480599118,
                743.3136221938898
              ],
              [
                3.3021953021421524,
                -164.23318143358566,
                855.3787350981727
              ],
              [
                62.043971669682776,
                121.370072400028,
                565.1289918515571
              ],
              [
                -52.64258220362489,
                144.5329220123677,
                819.8602671748856
              ],
              [
                34.08685093740357,
                -69.74921144650449,
                526.7570141292791
              ],
              [
                65.6633721424131,
                -62.14767092057453,
                869.0488982972656
              ],
              [
                36.863230058774576,
                -42.2518689570596,
                280.3080988106922
              ],
              [
                -63.579224654939175,
                -57.69888018998435,
                703.494487175102
              ],
              [
                38.74631616528673,
                -50.56218507569932,
                927.5441018524908
              ],
              [
                -36.29718977345885,
                139.89600144144208,
                919.3909585148286
              ],
              [
                -59.139341440518365,
                -107.11991895539286,
                591.9092367071731
              ],
              [
                -74.32220591063952,
                125.8472339395513,
                68.57662194920377
              ],
              [
                -63.22081018029383,
                -151.5934802749016,
                8.097417701390718
              ],
              [
                -53.69890714008355,
                57.267393205387236,
                15.347331640974904
              ],
              [
                -69.51966483200073,
                40.65616029294836,
                615.3976279441516
              ],
              [
                72.07895084189877,
                -6.637289149294503,
                677.8682159952035
              ],
              [
                0.17264058209940458,
                20.266930086500054,
                826.7072016267956
              ],
              [
                -19.17373094516421,
                134.59831737545483,
                400.00492746682295
              ],
              [
                74.04067778746978,
                71.38588150121424,
                359.4996564128453
              ],
              [
                -75.06196698202005,
                -170.01825401271674,
                997.3011698161733
              ],
              [
                47.5174845490308,
                152.5048099228548,
                459.2166819165747
              ],
              [
                78.08445640735624,
                -153.5154887726952,
                295.1050015124809
              ],
              [
                47.18867133879088,
                24.962673840261118,
                211.46248061236318
              ],
              [
                70.49209582613832,
                -83.0133317780929,
                653.2213132238762
              ],
              [
                -69.33054512864882,
                -103.71434187711158,
                9.702547970705243
              ],
              [
                -76.98588262073075,
                167.44705671842576,
                245.4363560528725
              ],
              [
                -28.60282972209408,
                127.36452058728025,
                658.3309802451987
              ],
              [
                -4.901498585955437,
                -165.6260825175077,
                299.26790034169903
              ],
              [
                -15.267398460199331,
                -102.15340717094683,
                717.875087576077
              ],
              [
                -53.691002163322175,
                46.362205587597,
                181.03524376215196
              ],
              [
                1.06047569087076,
                -105.87844577438423,
                606.0734687329349
              ],
              [
                -52.149983116355756,
                133.89260351985513,
                336.12272835682245
              ],
              [
                -39.9167831511901,
                -41.40898138744001,
                879.0521430924708
              ],
              [
                15.754100339286083,
                167.383188740202,
                537.4152852137165
              ],
              [
                -26.451301903403518,
                31.163865598225385,
                110.2093231158795
              ],
              [
                -53.32726215508251,
                53.03421860725089,
                517.6521010369502
              ],
              [
                64.20875581283832,
                178.8544380300143,
                615.9548253204764
              ],
              [
                -9.949344661055022,
                169.11830998466087,
                897.1513817710234
              ],
              [
                -53.650219977259255,
                68.55982071603728,
                829.9640217304806
              ],
              [
                52.93471859460024,
                31.556263984531967,
                490.3497673791366
              ],
              [
                51.10084981751152,
                114.75073205259139,
                800.8087580773284
              ],
              [
                13.349855643251871,
                156.07229216404488,
                476.3457707747318
              ],
              [
                -27.7364228577232,
                -143.1391759248734,
                362.60804140529166
              ],
              [
                -46.17356601223488,
                -150.67473046932798,
                459.72909660978365
              ],
              [
                30.080942663912197,
                139.9156661759846,
                211.74273462334548
              ],
              [
                31.96788922472409,
                -22.505935061901567,
                171.21917352602267
              ],
              [
                -41.077916654359115,
                -141.52238008712203,
                987.2937960695692
              ],
              [
                26.014056843253357,
                59.3143118301046,
                580.9998478795045
              ],
              [
                -34.24282588577565,
                107.94618305730904,
                134.8432361797277
              ],
              [
                -2.673474569841858,
                0.11369262539940905,
                399.67561394691387
              ],
              [
                39.38499213111912,
                168.37339254605308,
                266.69778976034877
              ],
              [
                -70.63690953883786,
                118.7202487933427,
                311.82310918418
              ],
              [
                -79.43128491092261,
                -108.76815812384454,
                172.66047584616874
              ],
              [
                -61.14671884940904,
                -119.77420915382108,
                782.3521903551274
              ],
              [
                53.37758749537099,
                -157.99024314480488,
                790.2162831038952
              ],
              [
                -35.2344717829248,
                -23.6305791929029,
                971.1178118598317
              ],
              [
                -40.86375990312503,
                -176.5510415309904,
                637.6806079219115
              ],
              [
                69.62085817297773,
                -14.245892392307724,
                147.1574253957958
              ],
              [
                -53.76898752422438,
                -91.13492360402277,
                420.9556228361695
              ],
              [
                -11.510643374071662,
                -37.655321353597685,
                697.9553315345469
              ],
              [
                -4.562133784260396,
                122.42717637488073,
                165.69875879149777
              ],
              [
                -48.819660606537276,
                -108.77099483229881,
                363.72841854265624
              ],
              [
                -57.54028794219893,
                -27.72569917200107,
                208.2584053308063
              ],
              [
                14.559734227325677,
                172.47263314940045,
                956.7350447171048
              ],
              [
                74.81517980905008,
                -22.949849691174563,
                370.79450010003825
              ],
              [
                25.50671084330658,
                -96.15153198566841,
                406.67026431366725
              ],
              [
                77.18369357765732,
                144.01287193770958,
                926.0854054266257
              ],
              [
                41.95930056194088,
                -112.80504525971162,
                780.1756917461677
              ],
              [
                -58.14059111761072,
                -73.30537116525092,
                326.189948138229
              ],
              [
                5.96210946760371,
                -134.6830908636574,
                878.5116884175277
              ],
              [
                2.3153301341074837,
                -12.44057349609676,
                667.9251222382522
              ],
              [
                4.2657433314461315,
                109.86055341107027,
                761.5853212676133
              ],
              [
                53.60907345212186,
                -11.377038596944601,
                677.9118967921883
              ],
              [
                41.85775693300849,
                -179.68294266083095,
                8.098228037395238
              ],
              [
                -7.794589722695775,
                -18.21175693886252,
                41.153245269000216
              ],
              [
                -49.70813333207676,
                -49.58719198060476,
                921.5295200534783
              ],
              [
                -19.441887137322382,
                -59.17987978484415,
                452.6509380345786
              ],
              [
                -5.153556615113274,
                134.53355619455363,
                875.9140768702571
              ],
              [
                76.07796930202252,
                -55.517019512985826,
                620.3331147384172
              ],
              [
                -73.48944200022643,
                35.66598137519247,
                958.618731070583
              ],
              [
                11.038385008139898,
                146.98144392927333,
                932.3115736442032
              ],
              [
                -0.30534044048809506,
                -53.74356589996697,
                938.3997048468976
              ],
              [
                79.63708606242986,
                -25.140379690782936,
                312.96785981497897
              ],
              [
                51.27060831734943,
                139.82558134920612,
                754.6092624603748
              ],
              [
                77.32645140098606,
                174.61886318851987,
                611.1752644378157
              ],
              [
                60.06698272160776,
                -43.17945423379257,
                975.7585320535982
              ],
              [
                59.32900919636896,
                15.533436126655431,
                608.8137027572434
              ],
              [
                12.361546682454403,
                147.87194841383894,
                872.3002739943098
              ],
              [
                -23.065957168529394,
                101.97380278765303,
                32.74147418154361
              ],
              [
                68.0512353114542,
                -83.0929389507579,
                365.5393918779608
              ],
              [
                50.53745779869314,
                63.72818313011794,
                64.33842591575001
              ],
              [
                -51.400728594770015,
                -48.85915307504297,
                732.7924241445144
              ],
              [
                -57.420291851299936,
                164.99896254365729,
                640.7662097229224
              ],
              [
                47.632649332895426,
                -137.94400295043914,
                770.3944576283142
              ],
              [
                30.94828353433573,
                -107.94524243384106,
                58.16573346048459
              ],
              [
                34.43582189298667,
                -133.78192462826505,
                459.39709304408973
              ],
              [
                62.745523583878594,
                -83.04760660437918,
                747.5874078649053
              ],
              [
                -31.300760439603863,
                49.91802258917613,
                316.6277142082564
              ],
              [
                29.53369771405859,
                -36.86076350405253,
                375.01807413240294
              ],
              [
                -18.38415887978819,
                -39.062726576900985,
                887.7882149811963
              ],
              [
                -44.42811125748442,
                24.371874206959177,
                139.20206060964614
              ],
              [
                76.80669275041896,
                120.82471325408147,
                764.5934289193307
              ],
              [
                37.85757466223177,
                80.35271092171416,
                406.0477627148723
              ],
              [
                -26.94251052706818,
                -162.41074986518137,
                898.4205623663709
              ],
              [
                -68.92186217944399,
                -58.95121631125322,
                769.9972764081041
              ],
              [
                75.63660564217855,
                107.11168383135794,
                265.7100140083092
              ],
              [
                -66.3959155592895,
                92.51705163970269,
                775.1969132278392
              ],
              [
                -64.53833183636473,
                -43.115945485887295,
                9.705712420142621
              ],
              [
                -71.26860549740316,
                -18.307770932848115,
                811.6424329582206
              ],
              [
                -15.582893696238614,
                75.9513134505622,
                325.4893063679595
              ],
              [
                -12.745420582963561,
                53.75222913426833,
                934.3709258919863
              ],
              [
                59.03100739175525,
                -88.0441924549924,
                292.9551624137854
              ],
              [
                -76.4115592336352,
                154.62712348752433,
                140.68609559169786
              ],
              [
                -43.44218282780773,
                142.2609147392822,
                870.6893882590286
              ],
              [
                42.87847650725935,
                -4.070975100854952,
                276.608239848231
              ],
              [
                -73.9705956569561,
                20.400960332064386,
                329.95187617714936
              ],
              [
                -72.19674108950458,
                -35.56288570214954,
                640.3647160330434
              ],
              [
                46.014267876703684,
                -36.80524730995418,
                465.105532727648
              ],
              [
                23.806726162944557,
                -44.25894362301395,
                690.5688641303935
              ],
              [
                -51.881952435779496,
                -83.45002284347733,
                348.2561147421964
              ],
              [
                -37.538239112512635,
                -125.71327713222459,
                367.9349270048927
              ],
              [
                -5.730289990758763,
                89.10954824446708,
                542.3004993305881
              ],
              [
                44.93232004085155,
                57.269130643122,
                932.2755785085897
              ],
              [
                7.321033489410809,
                -16.77746293551357,
                392.15571276138303
              ],
              [
                1.8965624451904262,
                -146.4906945000572,
                70.89348961182007
              ],
              [
                -43.86623236902931,
                -56.746649391660185,
                778.6366051911695
              ],
              [
                -42.35881791326533,
                -72.06012201579004,
                408.1190454920344
              ],
              [
                34.23512816661862,
                -117.87213103781095,
                906.9135397756453
              ],
              [
                67.81277871310886,
                178.690912439461,
                834.6522578829083
              ],
              [
                -77.70325695238108,
                107.74948333806009,
                501.7107982534723
              ],
              [
                -30.376466650853367,
                -48.916534057935394,
                883.9850514585013
              ],
              [
                -57.5255413623391,
                -66.292737523183,
                1.4054364349417314
              ],
              [
                52.34749225330967,
                156.44819899790872,
                200.8206709357162
              ],
              [
                6.948911693435264,
                -138.66668498926146,
                297.0692540357438
              ],
              [
                -38.46502485768268,
                96.65108509862449,
                620.9321611849348
              ],
              [
                -42.18834093196216,
                3.962085304725008,
                308.79464887965327
              ],
              [
                23.95642845860705,
                66.47676567593683,
                519.9411561694807
              ],
              [
                23.755490964862815,
                -9.172088824659482,
                338.6974913340641
              ],
              [
                -75.29204186333438,
                129.05674123864435,
                17.68910998489204
              ],
              [
                21.524839488105073,
                1.7897378290109884,
                547.0981156054278
              ],
              [
                24.68777035233687,
                -47.31525770578804,
                453.95923336463807
              ],
              [
                47.57475420345642,
                150.3494021865855,
                840.7195141369322
              ],
              [
                -46.56459073018851,
                -137.24185299406213,
                725.2858668622611
              ],
              [
                72.65615292607953,
                -72.06427868433097,
                556.075526360302
              ],
              [
                69.12771603475102,
                53.238270517258684,
                903.251717972913
              ],
              [
                -49.869891985149465,
                114.20588886295695,
                650.409118309018
              ],
              [
                -1.0926435986610556,
                52.87762735981485,
                544.7626582407412
              ],
              [
                -7.073207645654733,
                -156.62308230699156,
                207.47872171685478
              ],
              [
                7.596627695835579,
                -103.54568488120307,
                389.4861987663458
              ],
              [
                -58.39995642722872,
                -30.972632378349118,
                677.2644342922471
              ],
              [
                -68.19075196504755,
                -150.97801110077836,
                463.9807384889839
              ],
              [
                30.940677438458323,
                12.063057686588706,
                818.9447172858809
              ],
              [
                -31.638053901010146,
                -28.366783085394587,
                353.413050633705
              ],
              [
                11.228515839386745,
                64.855569070988,
                576.3360161257461
              ],
              [
                -12.205044730013327,
                164.5071411383529,
                170.01825042198925
              ],
              [
                4.5629862617583115,
                -62.028984948797245,
                371.2509827749235
              ],
              [
                15.25953538555234,
                78.06118228539992,
                36.77446020152952
              ],
              [
                47.8927544777285,
                10.139843392596106,
                552.0015448249552
              ],
              [
                29.345858906686303,
                -70.32075679943202,
                693.3044171939731
              ],
              [
                -0.4280622075361151,
                -102.94499612248225,
                966.5348074364849
              ],
              [
                2.9311789693198023,
                -42.2792362624115,
                967.0835001017475
              ],
              [
                27.62427494747226,
                -159.37462303134743,
                553.3008563914253
              ],
              [
                30.316775443501612,
                112.9534462940124,
                170.03915549865823
              ],
              [
                -30.818106741274264,
                -58.57468427381596,
                627.5033962029084
              ],
              [
                -48.6225320091523,
                -172.01825811040268,
                195.97998553349106
              ],
              [
                -65.88308996694762,
                -153.13732799297372,
                917.2648872910368
              ],
              [
                16.687745250390705,
                135.2850902443531,
                959.7176909413777
              ],
              [
                -70.61412834197392,
                62.25820771173852,
                793.2364947199289
              ],
              [
                -50.13443080353781,
                -134.83908856508748,
                650.7909402260449
              ],
              [
                -75.19460398415872,
                -130.1445999554597,
                232.21133776321324
              ],
              [
                29.373674025567183,
                100.42571454773167,
                193.16358089106834
              ],
              [
                71.47345456583287,
                -57.307858892512485,
                531.9438877221454
              ],
              [
                29.48858362851243,
                -128.7239125839019,
                680.0604496523512
              ],
              [
                4.258344471433304,
                156.17500046292224,
                467.4451825127258
              ],
              [
                13.678248416162248,
                -164.69317210512983,
                399.2432818233297
              ],
              [
                57.80832709893775,
                68.7686607573643,
                319.55115072251726
              ],
              [
                -62.56261058576682,
                -170.42273831017422,
                453.35252445332407
              ],
              [
                -46.50736339338739,
                67.63293868149296,
                85.81789087938164
              ],
              [
                -48.78419562397859,
                -45.742572308754376,
                768.2679626481945
              ],
              [
                -12.462118969688959,
                -95.6209238461772,
                74.77003262313009
              ],
              [
                59.111350522312875,
                -165.09983202749254,
                725.5437964535167
              ],
              [
                33.133261693694806,
                -102.56227046977605,
                924.3486633679387
              ],
              [
                35.154330124246954,
                125.72997554845983,
                183.44120375006733
              ],
              [
                -72.0139953208045,
                70.12037431389393,
                854.9953740200758
              ],
              [
                -64.37181182818986,
                -143.85822718207288,
                699.17756517191
              ],
              [
                2.0313349584174603,
                -147.00196011570563,
                154.21244530043498
              ],
              [
                34.53272974909092,
                76.27694477228908,
                623.8905260998532
              ],
              [
                48.77766217631353,
                93.47507159304337,
                586.4942565866277
              ],
              [
                -13.900498147939487,
                -94.9860970551514,
                42.600021856919135
              ],
              [
                58.6677962045909,
                -82.43413779955912,
                893.1246552637521
              ],
              [
                31.18494957063716,
                -117.39605332138638,
                994.4451082750159
              ],
              [
                -70.83570183362536,
                106.36317918716298,
                385.2713781240401
              ],
              [
                62.12644305733548,
                -37.075596301397695,
                436.50749330435536
              ],
              [
                69.94535754360271,
                43.86707695969983,
                683.1616195915235
              ],
              [
                74.72930826840496,
                41.321326205834254,
                172.19980194926498
              ],
              [
                -36.163386719654994,
                35.021348162583564,
                952.7610925748567
              ],
              [
                45.74757972366089,
                71.5657092303762,
                173.41132430196382
              ],
              [
                39.5632654968842,
                59.72046406074389,
                737.3350231504976
              ],
              [
                -49.80957444239374,
                -2.959819461307603,
                578.7981718108754
              ],
              [
                -41.28316020942908,
                -153.63317412501476,
                597.4687216901583
              ],
              [
                -22.030831964959475,
                -138.78515249733567,
                369.25594904671044
              ],
              [
                -28.336516461554368,
                -108.8331546082584,
                731.440230631987
              ],
              [
                7.188366018449614,
                -30.34987408542898,
                782.4455479583543
              ],
              [
                -64.94232837763957,
                -128.43799092399075,
                224.99751501099385
              ],
              [
                -42.39165115350328,
                -64.61344511920157,
                858.8048400306252
              ],
              [
                -1.4502228071130077,
                100.87008854604318,
                324.23144436456175
              ],
              [
                31.01406322583017,
                -155.03128988055042,
                555.5071146262259
              ],
              [
                65.71978294969801,
                50.153043479453544,
                764.7929736407747
              ],
              [
                -14.0010436841348,
                78.38019544716553,
                885.8514985505523
              ],
              [
                -19.94434317743643,
                -64.71401291043625,
                614.0610042531739
              ],
              [
                79.33090479486168,
                89.78783740400053,
                648.8287829004231
              ],
              [
                56.92533291656241,
                74.68513483245019,
                595.6645911023421
              ],
              [
                52.40500124116488,
                -64.00491873013597,
                292.05243454270834
              ],
              [
                69.8162801173462,
                -147.35078213389087,
                137.51464572757266
              ],
              [
                -24.84825291588926,
                63.93616506603212,
                604.6360605155376
              ],
              [
                55.66800374947442,
                -87.34680995711362,
                497.10679512881717
              ],
              [
                12.457248467526142,
                4.405245810139434,
                765.3068727508554
              ],
              [
                -7.420891393388558,
                -55.233527130911256,
                663.99583081805
              ],
              [
                61.95872050170399,
                -128.39897920442317,
                115.38994749778931
              ],
              [
                19.62468725125639,
                152.3524761761027,
                575.8707047669917
              ],
              [
                -9.089127563007878,
                80.5594255970849,
                295.7555295569244
              ],
              [
                -10.637410631915358,
                -108.94607818146685,
                272.91268088887244
              ],
              [
                68.86292217644464,
                25.192684595967364,
                883.546391242463
              ],
              [
                64.22048113867527,
                134.93994620428862,
                383.61158205480785
              ],
              [
                50.29901326562694,
                142.3456147531851,
                390.1212602505818
              ],
              [
                40.190703994017056,
                -92.66307273056918,
                852.1442703381022
              ],
              [
                42.488739215557686,
                -177.49297369266668,
                146.58432464150494
              ],
              [
                -35.435955849686174,
                65.57526646430065,
                628.70769262633
              ],
              [
                6.2729109692352125,
                -56.47063457527969,
                66.62479534364773
              ],
              [
                -76.70105644642634,
                -170.63571630194184,
                921.7143279627753
              ],
              [
                -79.64419990254102,
                138.9151025292079,
                166.06727595420622
              ],
              [
                -35.1505232053824,
                107.01154179651269,
                65.27213050380998
              ],
              [
                -47.429268239106754,
                -42.084626094629755,
                859.5796279051686
              ],
              [
                -8.799473206690834,
                -175.02890884208506,
                785.5472230219913
              ],
              [
                -48.47928169207098,
                128.28695922616106,
                821.6251701167881
              ],
              [
                57.23787465406048,
                -77.00397574655202,
                486.15204237080854
              ],
              [
                -10.282092414962221,
                -135.21541057928283,
                424.45177191397244
              ],
              [
                -1.9895522006489017,
                171.65368580575375,
                919.2745588983254
              ],
              [
                -25.53355947370632,
                47.22571846574664,
                404.7120272099083
              ],
              [
                44.91086719896302,
                119.77983650452154,
                369.19299329227096
              ],
              [
                68.1258612078284,
                -123.95434314919032,
                923.0124151180885
              ],
              [
                10.020399847594746,
                38.98796434225682,
                527.0604117704855
              ],
              [
                -72.30871022629125,
                -103.58270286280701,
                52.08783579623655
              ],
              [
                26.70089007130889,
                -61.09442799856163,
                212.04091886354524
              ],
              [
                10.079302200899619,
                -118.93473108912337,
                435.52328318731224
              ],
              [
                10.55874371459808,
                128.3953765137881,
                204.85540017478377
              ],
              [
                65.86760194162756,
                -26.314322842169418,
                488.497870639785
              ],
              [
                -53.16621082786735,
                -178.52675255653074,
                341.1530894210465
              ],
              [
                -52.727087789580054,
                -44.225983481359066,
                493.85502216979603
              ],
              [
                69.67531729481661,
                82.45585073970977,
                914.9603259872564
              ],
              [
                26.565924139707434,
                82.31984028699299,
                98.14826462552284
              ],
              [
                -23.857066030036535,
                -7.999987209684832,
                94.17857274176144
              ],
              [
                22.80018329027719,
                24.422416617394276,
                666.8808602870465
              ],
              [
                45.54453583226619,
                3.9501010303343946,
                67.50850601193336
              ],
              [
                -3.239254251443114,
                106.88154418094558,
                74.71572135461335
              ],
              [
                -57.2374718673271,
                -146.7388953640989,
                373.83534432431253
              ],
              [
                35.19901988130425,
                -17.823849527233847,
                510.7171418795279
              ],
              [
                60.69407305889547,
                131.25957405793088,
                798.0448616866861
              ],
              [
                -22.110368964333453,
                80.45009387871664,
                99.72870605639616
              ],
              [
                -48.85399017668037,
                -9.976059270556277,
                195.17480113515117
              ],
              [
                -54.216524814095166,
                -23.801903747234547,
                998.3379351379157
              ],
              [
                9.340996347012208,
                -39.23408704659488,
                862.2477491046324
              ],
              [
                37.66107798141354,
                -17.850905752696235,
                514.4683992981267
              ],
              [
                -33.85074163747973,
                -112.18903464254959,
                464.9393697144146
              ],
              [
                0.3347290789878201,
                41.63617763096369,
                528.6366308490718
              ],
              [
                -34.27553127111608,
                -22.382156496089863,
                793.0987029367602
              ],
              [
                -67.24124535992115,
                151.07879523984508,
                289.9385627542114
              ],
              [
                -73.9254365826534,
                176.49987334804035,
                90.2758502442168
              ],
              [
                47.10003591732445,
                144.79873112514093,
                651.8903432628802
              ],
              [
                62.87716236985207,
                112.98703044028565,
                33.55713439777519
              ],
              [
                -37.71828832032849,
                -38.53974911200555,
                45.72741636294153
              ],
              [
                -0.5641304120463388,
                -167.97960190005728,
                127.79278246802362
              ],
              [
                -9.063006314011517,
                24.2513274838671,
                734.6300129038627
              ],
              [
                23.32783396751948,
                -85.40544940067915,
                374.2047393442783
              ],
              [
                63.61429726617624,
                96.48000985840855,
                467.4659459729136
              ],
              [
                -61.054331426615875,
                -102.59607654335835,
                403.47453983528146
              ],
              [
                -61.32697120592374,
                139.36270072096391,
                742.5307658825674
              ],
              [
                -64.45766826454155,
                8.375328755301126,
                716.1387957566453
              ],
              [
                40.55858445062455,
                -156.78219020765752,
                889.6812320064362
              ],
              [
                69.12661643979519,
                111.03635712766595,
                784.2728047951016
              ],
              [
                -58.45195221884657,
                -45.11142005814216,
                963.2560483599998
              ],
              [
                25.24204176900838,
                164.73213709027618,
                319.4002807715105
              ],
              [
                57.527369329196546,
                34.44462470247984,
                246.00777973913213
              ],
              [
                68.25674752722853,
                114.39921670909001,
                94.84542490875447
              ],
              [
                -55.66225573335576,
                101.45624363952288,
                902.0115191636968
              ],
              [
                -49.68885587154322,
                158.54168059386672,
                660.4327641690167
              ],
              [
                54.46824604699401,
                -11.643508604829549,
                366.1433883400651
              ],
              [
                41.7911884223729,
                -134.6959740774866,
                295.4629011669778
              ],
              [
                19.601754201566948,
                141.53915122792182,
                353.60158070376656
              ],
              [
                -75.8068211164111,
                -140.8208450041769,
                430.3880466396207
              ],
              [
                55.50651186884295,
                -63.005742245864624,
                52.49223792645841
              ],
              [
                23.825929666571767,
                40.14685896703321,
                400.1912223023585
              ],
              [
                -60.301915808997975,
                6.575617132674864,
                700.0733158498491
              ],
              [
                -67.11459004207084,
                -123.73742242241732,
                337.99635078433033
              ],
              [
                -51.556379024730745,
                -129.25976648634514,
                431.2725854181099
              ],
              [
                -52.150734770896264,
                158.08544100370693,
                226.08294526543892
              ],
              [
                71.84639912189635,
                -175.54873973646525,
                10.200650765211261
              ],
              [
                9.840192107059792,
                -28.394217354551188,
                841.2683374852746
              ],
              [
                -7.974222385384323,
                165.8762223578821,
                284.4094241681029
              ],
              [
                13.598026262634576,
                92.00847102506049,
                780.954078067615
              ],
              [
                29.026936993381298,
                113.95441526246162,
                833.6082597032656
              ],
              [
                33.755762791675465,
                -26.113199922522142,
                327.1917487330349
              ],
              [
                -46.031133693315155,
                -174.82605072200624,
                885.5588031867874
              ],
              [
                65.19829025046769,
                -0.7836404206434793,
                308.3936943198473
              ],
              [
                5.960207462526995,
                15.5270677724331,
                66.92483475232348
              ],
              [
                48.388131715393286,
                -107.33534616937905,
                823.8807195396139
              ],
              [
                37.19610022970171,
                125.45762821422545,
                770.8636110670656
              ],
              [
                0.3551359456249372,
                -39.15814616263191,
                192.94190024009683
              ],
              [
                -36.73087645090868,
                63.24282306556779,
                457.3325062371874
              ],
              [
                -62.1992646780561,
                -78.0735492409739,
                395.3202497690137
              ],
              [
                -17.909036418227622,
                -57.459283757927125,
                466.99154326071636
              ],
              [
                -50.25672360586702,
                -53.71560279880086,
                880.6786941584279
              ],
              [
                67.31619525073643,
                -72.86288847001919,
                604.2029689027003
              ],
              [
                -37.632637649175095,
                38.06996843295178,
                652.8566132993572
              ],
              [
                4.183142381571997,
                84.24907176540626,
                887.9725775310412
              ],
              [
                -57.986180729700564,
                150.8756110308172,
                545.4871691572716
              ],
              [
                31.329747453316358,
                61.046341559928464,
                137.56938901861892
              ],
              [
                -78.67951538593148,
                22.574153189603493,
                85.46105030957641
              ],
              [
                -11.018446510280057,
                149.10852290226404,
                74.3071263311289
              ],
              [
                55.465665926526356,
                107.7221739867594,
                324.4613980730643
              ],
              [
                -2.9819646363240935,
                -175.34061941335398,
                790.6508982309954
              ],
              [
                28.426784439317828,
                97.5285000524176,
                642.9456061291012
              ],
              [
                61.51083255651531,
                -174.73315052235637,
                104.5908162574647
              ],
              [
                -78.64903672489876,
                -156.14342475133364,
                778.7523758510054
              ],
              [
                12.247639240236879,
                50.15832486992201,
                695.8331362707925
              ],
              [
                54.84926501768928,
                158.16205424859714,
                649.4211672045038
              ],
              [
                -19.2716121101583,
                45.74309433141798,
                566.2591617728767
              ],
              [
                63.745228626630364,
                14.401088194110741,
                653.1982275270352
              ],
              [
                32.52578081511953,
                -24.275728978442686,
                632.7469980558208
              ],
              [
                27.58780838963611,
                154.60661013734318,
                256.97591706083546
              ],
              [
                52.28472440105796,
                -9.646160557251903,
                324.26682368318103
              ],
              [
                -6.485419742677379,
                -66.12855810316049,
                802.5549753146119
              ],
              [
                35.47359766129395,
                1.3407204887113835,
                953.1792908725661
              ],
              [
                -47.48212948455718,
                -17.81161029468828,
                791.6571606695636
              ],
              [
                -22.84501008073935,
                143.804050834387,
                654.051913702231
              ],
              [
                -70.41513603931011,
                -163.86112414037814,
                615.1787977837378
              ],
              [
                -36.82921548283808,
                163.6558039178426,
                317.9019487582745
              ],
              [
                74.5027052836945,
                117.4621129477436,
                385.10085482992974
              ],
              [
                11.912018376069241,
                28.874817786076818,
                232.13199722672974
              ],
              [
                -21.318621323463347,
                -115.37933261741829,
                791.3428661552393
              ],
              [
                -46.421655619803616,
                -175.39950060920336,
                999.6203766696804
              ],
              [
                -17.224719308554754,
                -109.37924444186852,
                64.12290035726764
              ],
              [
                -37.68230299515467,
                94.6175507827432,
                686.556934584757
              ],
              [
                -44.19206087354155,
                -30.04593570207092,
                776.6696609283186
              ],
              [
                47.392494899539074,
                119.76290265578604,
                801.2153949487342
              ],
              [
                -41.588680607757595,
                -149.3310617028129,
                995.3861560586123
              ],
              [
                16.19854119017093,
                -165.63666787254525,
                418.1524454669726
              ],
              [
                -34.13255445118972,
                13.207433861991603,
                439.0568068864953
              ],
              [
                -13.71270037394821,
                5.548543108466561,
                152.60414986508675
              ],
              [
                -9.009448271764327,
                -79.53010837160309,
                393.4448375774745
              ],
              [
                -18.209327389182818,
                -105.17026315436269,
                989.7794538458361
              ],
              [
                -44.408131732682946,
                62.155515920815674,
                345.20454271782455
              ],
              [
                2.9865344515576737,
                177.04059712288728,
                882.6881656279876
              ],
              [
                21.45343331292581,
                -58.35128320010294,
                706.8482973857514
              ],
              [
                -17.114482012752497,
                46.46993035774764,
                346.3222072654863
              ],
              [
                22.11289803740945,
                -36.55432713171709,
                371.29471212599395
              ],
              [
                -7.404216753512841,
                -15.591765972342813,
                807.1201969198564
              ],
              [
                8.46546944624528,
                137.40351161199777,
                596.6944972494149
              ],
              [
                -31.105096803552392,
                -63.528282439400385,
                872.3062423361933
              ],
              [
                50.44722625235903,
                -100.31287557494676,
                171.10717250853457
              ],
              [
                -67.17928907647227,
                -35.598117981994136,
                379.22609604238176
              ],
              [
                4.616369313511569,
                86.65267439162017,
                718.9872738842637
              ],
              [
                9.607812930511443,
                5.542158943497668,
                244.67050504943322
              ],
              [
                68.61100433639939,
                -175.3143324276886,
                164.91462179458304
              ],
              [
                44.91641064156957,
                -127.3439635737978,
                668.5349029207182
              ],
              [
                -15.935943654973812,
                118.61773558789486,
                918.7235926235841
              ],
              [
                58.92669454998719,
                -76.09443251572934,
                358.69324706940597
              ],
              [
                -60.18196261136627,
                -104.38907522533235,
                93.67699187263179
              ],
              [
                31.6121753381166,
                48.18579267081495,
                551.1403910123736
              ],
              [
                -48.474182253199984,
                102.45041522602742,
                107.21944880143164
              ],
              [
                50.44469750132461,
                -22.304491481571716,
                543.667773194186
              ],
              [
                23.214469030436902,
                142.80259431820951,
                325.7580689054947
              ],
              [
                77.70258148234595,
                141.52044695349218,
                815.5679145640617
              ],
              [
                12.93407960087167,
                127.94206873877482,
                899.8894158557216
              ],
              [
                -19.890708402773427,
                -81.87377562027228,
                338.1031566549984
              ],
              [
                -6.986139989059211,
                61.668639053479694,
                176.92125229883925
              ],
              [
                -6.267836050602952,
                -103.05234979148483,
                384.47124745094163
              ],
              [
                -8.34690936703673,
                145.48895579355633,
                72.43924974298311
              ],
              [
                32.89294206273924,
                106.82793712656974,
                431.86848172330195
              ],
              [
                29.349154849736408,
                -67.28465541685226,
                204.3078295013262
              ],
              [
                2.7599892384088065,
                24.88697281453622,
                820.6522603528213
              ],
              [
                12.247174082180436,
                151.19844028425683,
                527.6055121862684
              ],
              [
                15.593213020248115,
                -177.315132771187,
                712.8021176428695
              ],
              [
                1.7632379708779808,
                -151.8713267096103,
                772.2961187777357
              ],
              [
                -60.238876548374606,
                -129.8729874184677,
                716.5829740984761
              ],
              [
                51.379054592787696,
                -135.62957681726277,
                372.41092972987724
              ],
              [
                40.24012033325056,
                -1.9912149533293473,
                318.7963303949117
              ],
              [
                51.10786145025958,
                7.862806718507386,
                164.0107708867551
              ],
              [
                10.232833721458562,
                -104.16715623211813,
                106.07462441061533
              ],
              [
                52.93147523528452,
                -13.889680767113276,
                364.1789004641025
              ],
              [
                43.98020352481737,
                -99.73919425854827,
                901.2830757809359
              ],
              [
                -76.14578869595809,
                -144.45451572043362,
                809.4735596487213
              ],
              [
                -74.57639986920088,
                116.55714910094576,
                438.84450584527957
              ],
              [
                -35.85487464003981,
                -17.059829975199335,
                803.2236625844126
              ],
              [
                75.04889578323932,
                84.16420372474607,
                894.6289799934973
              ],
              [
                -26.705603160280447,
                -131.94069717575775,
                300.87771948997766
              ],
              [
                -24.067993469117646,
                24.18573763979984,
                42.933948653948285
              ],
              [
                -79.62489066788409,
                50.150597211288215,
                742.3938023384667
              ],
              [
                -47.93463049651802,
                135.39390728780643,
                366.5142903019392
              ],
              [
                59.255751587344434,
                151.9978224694754,
                363.07095768035083
              ],
              [
                -7.77131135343663,
                92.77365147962695,
                846.3617526543024
              ],
              [
                39.69844618970258,
                94.01415068043934,
                83.49240430924098
              ],
              [
                46.31960605819417,
                9.33303148030646,
                300.9319733763449
              ],
              [
                36.85476318577962,
                101.09054207194976,
                792.2838747820598
              ],
              [
                -72.89026540125262,
                -32.41803225612608,
                886.4242814173526
              ],
              [
                -39.76793541793377,
                96.09031912786674,
                868.7924222709024
              ],
              [
                10.016118677547269,
                0.39018945670864014,
                275.0289098629192
              ],
              [
                9.332851472916687,
                -10.044494006966147,
                630.7850152942426
              ],
              [
                19.637899257331583,
                -12.249396746312868,
                710.5517569205799
              ],
              [
                -77.49607905561048,
                -33.65612609604412,
                33.59459688756239
              ],
              [
                4.060814067908922,
                -97.95903815618,
                705.6076389289653
              ],
              [
                11.16006323234177,
                -50.224309736086866,
                941.1312685967824
              ],
              [
                -24.619061886445323,
                96.36262879166975,
                87.98233751102325
              ],
              [
                53.00394231737383,
                92.96150450523606,
                951.9863763090405
              ],
              [
                72.4537454400724,
                -88.26733064209898,
                878.9404098023402
              ],
              [
                -72.25509355418194,
                171.53851948280015,
                139.7584120946429
              ],
              [
                7.532098394720919,
                149.4059124406358,
                542.9467526173597
              ],
              [
                -1.6910188852553318,
                -133.5882289752792,
                35.51431068881816
              ],
              [
                18.283268952194263,
                136.13297140730896,
                160.33701390857647
              ],
              [
                45.60101357178664,
                -107.41757358181304,
                144.74131216224905
              ],
              [
                -50.87620475180163,
                -106.96877230175579,
                351.7100430390816
              ],
              [
                43.85085439141591,
                159.04172247366046,
                42.71001851099565
              ],
              [
                68.99388974953425,
                172.15662368563437,
                235.05377264375272
              ],
              [
                54.351619758295925,
                132.62113027626265,
                939.7146447636095
              ],
              [
                13.66066979895092,
                154.9456341786243,
                196.89513015415548
              ],
              [
                -45.01953289653122,
                61.80400730657908,
                17.322367355048772
              ],
              [
                -54.95432215127275,
                172.13729102489674,
                199.8820121133562
              ],
              [
                17.820226337858116,
                76.64467896343587,
                810.5980673309338
              ],
              [
                -33.39808364202442,
                49.38600993387183,
                221.17799579188778
              ],
              [
                -59.63969198425186,
                58.21336904832026,
                958.5842283021328
              ],
              [
                4.55404764976646,
                -49.60708621948052,
                698.5219757894167
              ],
              [
                -64.1558856458281,
                102.45089953066321,
                785.4701141397343
              ],
              [
                -19.725249208258084,
                41.167744831708376,
                94.45574774140242
              ],
              [
                12.376853241619756,
                -126.06909546201521,
                638.286295226142
              ],
              [
                5.941763859481512,
                75.07100676157978,
                902.2966687531612
              ],
              [
                -16.087939241786856,
                45.56564934327892,
                392.2884771974576
              ],
              [
                -55.36991657964512,
                -25.46235389799193,
                666.7748245644763
              ],
              [
                26.944017237870128,
                -30.76314292631588,
                798.0977166845583
              ],
              [
                72.74414630791915,
                52.64251948385055,
                344.88952672866793
              ],
              [
                -44.90838427474678,
                51.19254591785668,
                605.4418847142408
              ],
              [
                75.14821754637981,
                129.93276721400133,
                910.7955956995048
              ],
              [
                40.374863978267385,
                -51.009554472363874,
                166.00046001247472
              ],
              [
                -2.4015045627908904,
                -171.6554991533056,
                469.2133341345961
              ],
              [
                41.670130004045376,
                -14.505313884875761,
                125.68261283799964
              ],
              [
                78.10675495866883,
                -148.90990440095447,
                530.8617945680535
              ],
              [
                -50.68112854260137,
                164.52567408787365,
                133.1338040337291
              ],
              [
                -45.083570783385895,
                -166.36514754423536,
                442.9676983602189
              ],
              [
                -52.12947588614959,
                -127.53544315576794,
                32.38778811862175
              ],
              [
                -28.29439907711206,
                -160.08951697047996,
                874.1545602920395
              ],
              [
                -77.17295993740191,
                -87.05276518761134,
                879.4593557421749
              ],
              [
                -16.743094294004962,
                17.364678157380865,
                102.91412685570423
              ],
              [
                -49.34747744172357,
                120.6176230944605,
                228.6665260547952
              ],
              [
                -66.3750364115097,
                -21.176708229939464,
                674.7378730548684
              ],
              [
                -40.54525988373052,
                155.42793924121162,
                331.9148043509865
              ],
              [
                -36.875710458771294,
                -88.56511399816885,
                865.9622078297389
              ],
              [
                -50.797217755244034,
                64.49991439726867,
                737.8542361508478
              ],
              [
                -10.312824251504821,
                49.29893360501407,
                160.90573034343902
              ],
              [
                -41.25892032069389,
                -153.7619938928868,
                368.31046511093456
              ],
              [
                -32.69671936547734,
                3.260143189366346,
                257.2528449283585
              ],
              [
                -18.047226626594295,
                88.81341660514886,
                883.1007093495479
              ],
              [
                46.24105879174495,
                -102.25117335519708,
                446.6612074046039
              ],
              [
                -53.64933748932516,
                83.81685859488181,
                68.72411389252098
              ],
              [
                32.667120288807965,
                -67.62450984363157,
                318.24667737943855
              ],
              [
                0.1357896219650172,
                95.87529278546839,
                337.62461721021
              ],
              [
                -10.533029220667316,
                -138.28672171470714,
                845.129508479042
              ],
              [
                -42.49479434803591,
                -71.5952913292901,
                498.63983308123227
              ],
              [
                47.450459697089656,
                -45.641840928367344,
                200.14901668708197
              ],
              [
                -34.86903819503539,
                -61.39896919583575,
                41.33950588361479
              ],
              [
                -8.857879212725095,
                -23.212106349250945,
                722.5143466057732
              ],
              [
                75.99072162181213,
                -30.352808481426337,
                103.71838924158627
              ],
              [
                -5.939296525211887,
                155.8912668843816,
                73.4266304146155
              ],
              [
                -55.48798705562541,
                62.399009545766376,
                647.1147219737505
              ],
              [
                -45.32617224517337,
                -1.0804787727363703,
                273.7330565243674
              ],
              [
                -59.29991994650079,
                112.64389939462137,
                126.16487932453002
              ],
              [
                57.35883202897128,
                -129.88216248439355,
                331.34468901960133
              ],
              [
                -3.978792361276291,
                152.49625421263625,
                429.8150600857258
              ],
              [
                -12.271820430001426,
                44.27039006829179,
                17.578379090433472
              ],
              [
                56.01840480599881,
                -67.77833868664459,
                269.5740733705747
              ],
              [
                -41.14101959190094,
                162.72900704867374,
                152.31654663430848
              ],
              [
                -23.207100991527184,
                1.04122940080822,
                372.8185050523293
              ],
              [
                -76.16634342727379,
                -15.724738394992471,
                355.31035401357116
              ],
              [
                65.39703384644926,
                172.13545937661888,
                551.3963899986132
              ],
              [
                -35.74700805257693,
                -117.3837809829707,
                39.61324360231045
              ],
              [
                18.20850023306687,
                -20.684208605809886,
                613.8145725658534
              ],
              [
                31.70392436887147,
                65.58288058312084,
                515.6394412738035
              ],
              [
                -58.983955891753546,
                107.28278302093076,
                849.7681989936425
              ],
              [
                -60.86454239982311,
                -79.83886618635741,
                61.857125676382466
              ],
              [
                -13.89446791663822,
                -95.8694382668895,
                733.9313838964246
              ],
              [
                -25.055962910692244,
                84.78561694375111,
                185.6625463875551
              ],
              [
                0.7356214049936227,
                100.89236236391872,
                287.469970402073
              ],
              [
                29.009524378990577,
                159.35513201652498,
                599.4686176788864
              ],
              [
                29.985558396775502,
                124.2464905534186,
                861.6878599571235
              ],
              [
                49.134368793697206,
                26.465095170765238,
                345.9831864562312
              ],
              [
                -44.72787618704949,
                -151.2309421301607,
                658.8405398800475
              ],
              [
                -18.203334386184302,
                136.38862358030127,
                7.918876238122485
              ],
              [
                71.17399826347074,
                -94.82544656397427,
                95.53058452718743
              ],
              [
                15.186456411903109,
                46.38636358561854,
                693.4883268315925
              ],
              [
                67.76362099758995,
                -72.29061375808756,
                972.2848357681377
              ],
              [
                -75.18901812186263,
                168.76428158414802,
                26.466556167639823
              ],
              [
                58.004186931988556,
                -100.20091022251152,
                139.11883689272676
              ],
              [
                -14.340566963444104,
                -1.888662418714091,
                440.23657644968694
              ],
              [
                -19.01877572227447,
                149.58263244220774,
                956.3626454735028
              ],
              [
                -66.83803389942369,
                -144.41114856117565,
                234.86067871207428
              ],
              [
                -13.340757509425245,
                56.40378597733627,
                161.2812940320656
              ],
              [
                28.447647711385017,
                173.6529382986381,
                933.7134827478053
              ],
              [
                46.394744883804364,
                46.439369024845405,
                101.78810063254417
              ],
              [
                79.2187887844133,
                -81.08061628070239,
                373.4794582896731
              ],
              [
                15.279439830622792,
                -40.55177032137871,
                85.00077780844639
              ],
              [
                27.352285886315883,
                -107.61734469420225,
                972.7710701910072
              ],
              [
                -6.171627552247088,
                -88.41110946958302,
                605.721145571595
              ],
              [
                -20.25005086405571,
                143.29332256512174,
                801.8916085402311
              ],
              [
                9.78314702425223,
                100.56481601533619,
                519.147082097258
              ],
              [
                31.247369465547592,
                -134.43383186828362,
                380.0974246213932
              ],
              [
                20.763774806624667,
                65.49684424389994,
                432.1759395198791
              ],
              [
                -13.387208282815948,
                99.29879618336776,
                279.6758533522735
              ],
              [
                -31.95022163723921,
                57.210436204862845,
                392.68269878064945
              ],
              [
                8.404760559915658,
                152.03847469310756,
                26.12680885532903
              ],
              [
                27.343350404969584,
                -129.09787538221167,
                303.66607388129773
              ],
              [
                -45.77762725739019,
                -90.70196218127505,
                359.0702021413237
              ],
              [
                -7.1651532384651375,
                45.69926537093701,
                105.47318234356462
              ],
              [
                -53.4046953821289,
                91.95861111418782,
                384.65346628441245
              ],
              [
                45.72687625127827,
                87.14238958937028,
                114.32692173874315
              ],
              [
                2.1705825444740015,
                18.312717268529923,
                749.7033678731563
              ],
              [
                29.934176474043554,
                31.211559469747954,
                740.1858033837533
              ],
              [
                75.92448031006145,
                3.403762574625631,
                412.9041885010192
              ],
              [
                -38.75519233878693,
                -119.71833851603796,
                10.33996137688009
              ],
              [
                -7.9216110728518885,
                -24.09224922049512,
                700.21118286753
              ],
              [
                69.36550730253822,
                172.32725082325743,
                210.91044633270707
              ],
              [
                58.83426473701721,
                -77.37684123906868,
                631.888242290744
              ],
              [
                54.506580261136236,
                119.75229887717722,
                409.51334212167444
              ],
              [
                38.35195697805645,
                -48.29993867720245,
                690.4803389903169
              ],
              [
                -9.836157124395555,
                -31.742861507043813,
                483.2337422115647
              ],
              [
                -42.238458517426096,
                83.70336674045222,
                586.52853785582
              ],
              [
                -11.845006437257197,
                162.44463798703788,
                150.06241568854185
              ],
              [
                45.524615635651955,
                -39.27450357045515,
                822.3528523538669
              ],
              [
                -67.92680060499747,
                -9.867387950158218,
                63.408471152058496
              ],
              [
                2.07919766825475,
                96.0421503137066,
                933.9433314931714
              ],
              [
                49.376793126642895,
                93.46657711960756,
                358.3029583384945
              ],
              [
                -76.31431851884247,
                -137.729648043445,
                585.1162281851331
              ],
              [
                -58.09382482762368,
                0.19862120281720763,
                282.0370634907493
              ],
              [
                4.2822630309433265,
                -102.69088993280889,
                279.84603392228604
              ],
              [
                -57.34760142520349,
                1.3866504267976154,
                874.6532686740845
              ],
              [
                -28.803441735947466,
                127.36523649636098,
                454.186789872736
              ],
              [
                77.26846705789984,
                -159.30321488733486,
                42.00955446960808
              ],
              [
                52.944963364361854,
                130.7728365749589,
                297.0114063808814
              ],
              [
                14.197536996524605,
                70.71933065796333,
                596.6982123191375
              ],
              [
                79.68344186872389,
                23.186416101379365,
                104.11273281924227
              ],
              [
                -54.18225961878632,
                17.750129602020365,
                497.4525849502657
              ],
              [
                -33.76997303943256,
                -68.98035263959198,
                219.16417633316266
              ],
              [
                30.9439231773749,
                20.181341813453542,
                183.7399636756971
              ],
              [
                52.38216263107205,
                50.148364889025856,
                259.3267396324935
              ],
              [
                -25.636864413353955,
                43.13675622182265,
                952.8116320461485
              ],
              [
                -58.66694098144896,
                -100.37192378308842,
                646.7279168050134
              ],
              [
                75.95688046502138,
                51.479360479982375,
                443.60739198469855
              ],
              [
                54.33848137877891,
                27.9935185168014,
                623.3820193688333
              ],
              [
                59.145812078367925,
                99.94094946255848,
                515.8869769356456
              ],
              [
                27.448424166667436,
                133.28457514162614,
                867.5859554385488
              ],
              [
                -25.24520469586914,
                161.78725923567958,
                294.0188163606475
              ],
              [
                45.12656931424863,
                109.79833496677708,
                941.9279265476835
              ],
              [
                -43.271414106402304,
                -65.43967993514987,
                464.2489090012125
              ],
              [
                63.462937555212136,
                -101.84109353032244,
                464.12624008252914
              ],
              [
                -42.93319953526152,
                -76.3300726603378,
                813.9528674739912
              ],
              [
                18.42844084882563,
                169.76624827744064,
                943.9847424851683
              ],
              [
                31.700168543377487,
                -102.91124397364885,
                150.7037888044055
              ],
              [
                -34.960646546438085,
                16.590237613938456,
                311.8311186773213
              ],
              [
                -19.51686945605669,
                85.58702660115807,
                610.5173499804183
              ],
              [
                24.497442511590663,
                82.76703061354061,
                240.64205744751231
              ],
              [
                61.31478747731987,
                24.23995026576216,
                114.16007380897486
              ],
              [
                -15.693812070373696,
                -162.3662491152928,
                36.371093242476114
              ],
              [
                -4.087229599000608,
                142.98813991311448,
                796.8945579347579
              ],
              [
                -74.7422201746228,
                56.31397441473143,
                924.4732369181113
              ],
              [
                53.93937444750554,
                -58.5680501572665,
                958.8043818808969
              ],
              [
                -11.332596863803161,
                123.1608186815676,
                278.01431957108645
              ],
              [
                -16.06364282860781,
                154.6334208927567,
                238.88413228885398
              ],
              [
                51.602298783407804,
                54.0095597450198,
                409.30472855199196
              ],
              [
                12.023668137262774,
                -104.59669058683913,
                787.3784387025044
              ],
              [
                10.959381220945488,
                -92.59037760131496,
                491.5865806776385
              ],
              [
                -23.994205399046002,
                -124.50043235127737,
                308.9670498257547
              ],
              [
                43.443188491777676,
                127.37185176498934,
                124.32524817244494
              ],
              [
                63.724899416369595,
                -140.03568191054836,
                741.6500263737805
              ],
              [
                7.37026814685197,
                -31.977209012419536,
                680.0077355568685
              ],
              [
                68.35344177416681,
                -132.809079450621,
                786.0937276199248
              ],
              [
                58.15028039844381,
                157.14469046173969,
                686.2125680320568
              ],
              [
                -68.60335128030671,
                -162.74747851864134,
                934.0178752715872
              ],
              [
                -56.527996376371505,
                135.3745989978682,
                406.0902304750703
              ],
              [
                62.173532651199,
                -105.78360313702404,
                331.8584496377468
              ],
              [
                73.84526695827216,
                34.04045591164825,
                248.43282732759874
              ],
              [
                52.58674344065318,
                -108.32358287527266,
                318.62025972962607
              ],
              [
                -9.212718207642965,
                -134.98739221805047,
                560.2994172305278
              ],
              [
                -18.29517964489446,
                -33.684958194154575,
                457.06790872562476
              ],
              [
                25.247006798730695,
                153.78235216920626,
                837.2545751587024
              ],
              [
                -78.00228534521467,
                -38.999660668947456,
                762.2109675319781
              ],
              [
                -75.7937492525198,
                -3.767874311818133,
                477.9600974857282
              ],
              [
                33.95589490297995,
                -51.41146430004977,
                188.99419817158469
              ],
              [
                13.932828225859112,
                -172.87816752416362,
                318.3675588556295
              ],
              [
                -74.98785358666778,
                -5.993239439414424,
                245.74470556951277
              ],
              [
                -37.68305061810929,
                -165.3298989035633,
                357.09229234415693
              ],
              [
                1.3947073198434339,
                147.56449368484527,
                70.7129132099047
              ],
              [
                -12.281260948309466,
                129.29295165833378,
                92.06524555278939
              ],
              [
                29.147509987113324,
                -108.61303835851656,
                611.1619979645611
              ],
              [
                -40.86633897330735,
                -158.51181336454823,
                459.8712942250981
              ],
              [
                58.99118221442117,
                42.1534436853743,
                352.8300024780687
              ],
              [
                75.70718980047212,
                -174.95618383712457,
                915.353448674566
              ],
              [
                -5.294273656570013,
                31.8013547105719,
                78.86978076068985
              ],
              [
                -73.29649091100387,
                -51.5167384186519,
                252.73056800604067
              ],
              [
                -57.05634342674445,
                179.3424175697217,
                526.2304641333999
              ],
              [
                -65.75868856447953,
                -147.09437968589623,
                626.5203083376235
              ],
              [
                64.6162292011982,
                -134.6347181938237,
                884.4451515578902
              ],
              [
                -21.39963833536317,
                -153.9622208978977,
                288.9024873176802
              ],
              [
                73.7813381373698,
                -25.72930421052513,
                571.3967701339608
              ],
              [
                -59.38764955041723,
                -63.10050589433526,
                757.5026470143371
              ],
              [
                26.481276480571296,
                -160.79248732587877,
                260.6971489171147
              ],
              [
                42.57615464674609,
                -25.24845854610166,
                463.3065695931947
              ],
              [
                -12.385610520234422,
                81.02198619806023,
                941.0967431262532
              ],
              [
                -26.12047933378433,
                -135.0173423073164,
                559.843030262346
              ],
              [
                11.623485563388016,
                -25.29947126521901,
                212.75724146290497
              ],
              [
                5.747839147943878,
                76.4208249524392,
                191.1748317191575
              ],
              [
                -12.99719052251993,
                -144.63323651903323,
                172.24577269427954
              ],
              [
                53.59110419199675,
                -16.066630778624386,
                80.87977019720883
              ],
              [
                71.26087233125537,
                -33.04947539331786,
                59.169651518570674
              ],
              [
                -70.01019307013932,
                167.8424867679256,
                308.810638203133
              ],
              [
                -71.83167759003678,
                -16.30751354653853,
                433.65854028256433
              ],
              [
                -18.594825606819718,
                25.67650110762341,
                464.3083525492373
              ],
              [
                61.62207791463351,
                -13.608741642096646,
                886.3012331200808
              ],
              [
                69.14371690834844,
                66.23049964376617,
                419.126319212719
              ],
              [
                -47.53157228319541,
                -88.30333464888776,
                108.75909002913365
              ],
              [
                4.764215075391775,
                -104.62093967006545,
                659.7532325059599
              ],
              [
                -12.428222620936651,
                -140.9126148598654,
                926.325307542308
              ],
              [
                52.33846103359727,
                -36.72785202029479,
                869.6472111790633
              ],
              [
                -39.668332597997384,
                19.21322336365381,
                956.7136464936902
              ],
              [
                45.808355941972536,
                48.30658282389925,
                912.7391206200134
              ],
              [
                -55.58297477715078,
                11.595975074056753,
                70.08555338673594
              ],
              [
                70.71797243314191,
                47.9578542712502,
                835.0495887949448
              ],
              [
                14.73135465088616,
                93.63313915209847,
                303.24575537585594
              ],
              [
                -52.5704462359637,
                76.60028943244913,
                137.54410063300915
              ],
              [
                7.540531823203111,
                51.620159520700525,
                508.82203233875975
              ],
              [
                21.570450580232887,
                132.5065603736286,
                375.63300687748966
              ],
              [
                45.19155806897422,
                70.90230360808982,
                148.0519670365199
              ],
              [
                -14.456320536048608,
                156.6512011321072,
                86.1928554384731
              ],
              [
                68.0469197577076,
                -51.84339575164768,
                839.134546089694
              ],
              [
                11.60800985381401,
                147.6303628379709,
                560.8899884414766
              ],
              [
                48.53212922380334,
                -113.59858744863874,
                691.8872555130272
              ],
              [
                -30.602481337441873,
                72.24134189528772,
                869.6266590365996
              ],
              [
                52.916262403691775,
                28.919573454112935,
                682.2317318351523
              ],
              [
                70.33540657129333,
                175.3546749484227,
                290.1119649665977
              ],
              [
                -21.631568115931223,
                -139.39104541481385,
                641.3141308943754
              ],
              [
                -5.902024608199653,
                79.68333356839156,
                0.8091298791854662
              ],
              [
                62.50120214532848,
                65.82277396530196,
                150.20062431186076
              ],
              [
                50.21248447701271,
                76.07309918146842,
                867.5704969440682
              ],
              [
                9.267691154348213,
                27.30648906780931,
                245.38340061898788
              ],
              [
                -68.24569558915137,
                6.558024126217873,
                735.0493162583351
              ],
              [
                58.25500160913771,
                114.54933184641555,
                388.6514936322534
              ],
              [
                -63.11581409670584,
                -91.14165890878941,
                659.4207079486874
              ],
              [
                38.814629863557215,
                -47.61121762231795,
                553.7373232356314
              ],
              [
                6.7659218766642795,
                -54.48906663180165,
                471.11777270275877
              ],
              [
                22.74381766382649,
                65.3781826277787,
                492.39479958706625
              ],
              [
                -39.714108927260625,
                67.28219388059608,
                415.7729787818574
              ],
              [
                -17.47524777272959,
                19.40807069350143,
                867.1543459363382
              ],
              [
                -2.61247287637282,
                -76.28524720445799,
                600.4671389781134
              ],
              [
                -33.95792145369981,
                -104.2595751126992,
                64.16744632346449
              ],
              [
                -50.70216472043731,
                -156.59012840118336,
                544.4256326247544
              ],
              [
                -78.83290660546827,
                67.33385322430638,
                754.5491201647152
              ],
              [
                39.36138728714931,
                30.977778539566486,
                922.9286165493995
              ],
              [
                -40.17222557346116,
                -114.49217527912276,
                318.8072562699893
              ],
              [
                77.82181449671978,
                125.42587325967702,
                331.2929081885911
              ],
              [
                -14.051412142547846,
                177.13895192111204,
                973.2771051592708
              ],
              [
                74.87893102234969,
                -159.1856497419638,
                437.57184275800023
              ],
              [
                45.080230811418886,
                118.63419550205174,
                444.3003050533986
              ],
              [
                -65.09722465268146,
                9.124881568778989,
                370.49815356085236
              ],
              [
                -78.61196362491326,
                -80.10931298842904,
                246.0994255533101
              ],
              [
                37.66013946528716,
                163.47684056265211,
                215.2215255149682
              ],
              [
                6.950611132495297,
                -143.0525538384478,
                322.9542412995352
              ],
              [
                19.938424628725798,
                -85.47519777313863,
                380.5956122639118
              ],
              [
                -30.545217446116055,
                -69.46079164514876,
                664.4373408936904
              ],
              [
                42.68211619820393,
                -28.157224892644365,
                185.09332944741809
              ],
              [
                56.94458228403951,
                -10.426473630093653,
                548.8735627624991
              ],
              [
                11.502382129936791,
                -174.30354759810655,
                193.42423381264095
              ],
              [
                10.535541648242088,
                85.1859858510116,
                415.28466274702316
              ],
              [
                -61.66712625058791,
                142.45051983874612,
                837.6740726018485
              ],
              [
                -10.00069776210114,
                -103.82749386232285,
                204.04525966247766
              ],
              [
                40.516501028890815,
                35.56195650393997,
                576.8302210581094
              ],
              [
                -74.18526307415944,
                -148.88600917244634,
                870.0641324498808
              ],
              [
                76.74500141377908,
                109.99233116129341,
                515.007898870534
              ],
              [
                68.16044771604365,
                51.95925934583627,
                764.7724055457116
              ],
              [
                -76.32176980396898,
                153.43612643306375,
                643.7968751541068
              ],
              [
                -22.742300540154346,
                -171.16411374536798,
                784.1772963935704
              ],
              [
                52.79458101342209,
                167.10588833177002,
                392.5904466633092
              ],
              [
                -76.02678366104573,
                -74.45125338398613,
                475.8276053688218
              ],
              [
                15.04104694881596,
                149.76576334285875,
                460.9982154354927
              ],
              [
                -0.8228679605067839,
                -35.652913553205366,
                935.5849899265289
              ],
              [
                26.809215967617604,
                49.459170446231354,
                400.82672771727255
              ],
              [
                -12.928534994148961,
                63.85154983238323,
                641.4435579124887
              ],
              [
                42.060778946503035,
                -150.86315477006627,
                183.78602712695346
              ],
              [
                14.367468845285188,
                -33.92417551307909,
                842.1061081243756
              ],
              [
                79.33163376475832,
                178.1407794672025,
                56.25848959750668
              ],
              [
                -63.72202593044744,
                -165.46506109927262,
                735.6827204892481
              ],
              [
                46.63256643524029,
                156.0205588259268,
                990.0780050189857
              ],
              [
                -13.836809376129821,
                93.46881724074888,
                699.7446774081793
              ],
              [
                -79.07258533800794,
                154.7243763028203,
                698.4581004090834
              ],
              [
                29.635334259861438,
                108.57008357810889,
                915.2151329874702
              ],
              [
                43.62308490180844,
                49.14044288664837,
                665.3593964214703
              ],
              [
                12.568834634925409,
                65.25592310408692,
                845.1960921400265
              ],
              [
                67.15054359617531,
                50.190992274086085,
                68.34433096720538
              ],
              [
                36.609925730946614,
                -83.32180359632038,
                174.37262525585962
              ],
              [
                24.439356073095567,
                -108.23856445852174,
                507.592463165514
              ],
              [
                17.751636369830692,
                106.55705829229265,
                715.762750257223
              ],
              [
                -70.17360604512231,
                31.261418462428907,
                833.3280587412588
              ],
              [
                -27.354261045779253,
                -14.745596099528825,
                654.2549898273438
              ],
              [
                45.199535357783105,
                -53.003568566591554,
                396.1933862889644
              ],
              [
                -54.391649420422056,
                122.22362345038891,
                602.1575941716153
              ],
              [
                -43.11228492898552,
                74.07843421784258,
                749.0879509270535
              ],
              [
                -10.080029386112201,
                -89.14605000834622,
                950.1853905559527
              ],
              [
                -35.336865172703384,
                171.75959550182932,
                298.4362527528881
              ],
              [
                -49.37933821515125,
                161.93019029697263,
                37.66888036804139
              ],
              [
                -11.450401531542965,
                108.67310591849798,
                318.3501910793559
              ],
              [
                71.42620388914142,
                -23.47201892179035,
                734.8348569819921
              ],
              [
                -6.119746233394906,
                -43.103804273672296,
                456.62193182050845
              ],
              [
                -64.46645161590284,
                -122.6374050675401,
                277.68715089757745
              ],
              [
                -78.90076655962638,
                168.11211692468186,
                289.9497906875128
              ],
              [
                -32.230104027257305,
                1.7049292519729704,
                968.5069342209774
              ],
              [
                48.54080355826508,
                154.620946901239,
                497.40617110510755
              ],
              [
                -57.85828126773115,
                101.17693474290724,
                800.8899503900776
              ],
              [
                -61.86176381892057,
                -67.59122159980814,
                121.8304772398915
              ],
              [
                17.871326780682963,
                -159.69339246292932,
                37.59831345845832
              ],
              [
                47.41958064186221,
                50.68581931256631,
                166.67587720474998
              ],
              [
                61.164550537312834,
                90.76828482732071,
                97.27487064919116
              ],
              [
                1.289806423763224,
                -127.67010540621095,
                795.9209766864509
              ],
              [
                -32.22503490997512,
                57.67177400210957,
                313.1339396590834
              ],
              [
                70.07928696139498,
                -4.582035289860045,
                636.8304504294814
              ],
              [
                -46.13519865627184,
                -32.44850038177208,
                676.71710875291
              ],
              [
                -40.59832950548822,
                58.58540053249948,
                426.4708510149633
              ],
              [
                56.93998078405386,
                -67.48919282872828,
                662.3857227645486
              ],
              [
                -7.943504562589965,
                150.02592483133293,
                405.8391606827081
              ],
              [
                -49.42333967208208,
                -13.163696853892361,
                961.9035587514986
              ],
              [
                -65.83498646095887,
                -164.8509517713106,
                850.9542317787766
              ],
              [
                -67.08493429162212,
                -167.80732987994958,
                48.46209585593486
              ],
              [
                -49.44328307437058,
                40.49630040530238,
                289.2945855630764
              ],
              [
                65.47026219626474,
                -57.8752297653554,
                6.698163498764731
              ],
              [
                38.48033800067688,
                0.39725259194196383,
                304.75494993630406
              ],
              [
                5.269725789855016,
                5.164444517676088,
                613.1103596181746
              ],
              [
                61.937861572966284,
                -43.19981936308969,
                327.7518446187313
              ],
              [
                -33.09121412323336,
                -130.0763186524808,
                324.2905283256027
              ],
              [
                70.48593596248799,
                -36.506956230150735,
                476.3101190031463
              ],
              [
                -39.89465789815302,
                -128.67437488268286,
                349.7218569816236
              ],
              [
                52.088305219839384,
                -52.38279093021009,
                654.78259014215
              ],
              [
                -73.12554401958396,
                -171.07789386217107,
                650.2833064844273
              ],
              [
                -0.7967304012987029,
                165.02149502106965,
                962.186277960903
              ],
              [
                -56.81632577953845,
                172.3942546703429,
                877.3051047214575
              ],
              [
                -61.17855197668264,
                41.40991467680459,
                165.40488957129418
              ],
              [
                -41.600341786093544,
                20.514435933396044,
                427.23725889111483
              ],
              [
                -75.90881885947601,
                8.485876555809199,
                780.6714994265373
              ],
              [
                63.46919529578523,
                -20.584199500240913,
                778.4574158340203
              ],
              [
                76.5587627317463,
                68.03313450719071,
                260.0244685349943
              ],
              [
                -34.65134104461812,
                36.38336349797737,
                460.8711806737242
              ],
              [
                -46.69953747702684,
                66.81093425616834,
                258.6377256433301
              ],
              [
                69.41586235433891,
                -12.949852087888502,
                754.3586052884696
              ],
              [
                48.9993900171188,
                26.324359653477558,
                969.008112892431
              ],
              [
                23.46421319845193,
                102.14120247443441,
                952.4114065983322
              ],
              [
                70.4522020027097,
                -133.24919918515081,
                722.7026867103052
              ],
              [
                67.515900092478,
                55.49086507168923,
                565.2526938672137
              ],
              [
                -47.06923038855727,
                -43.31630775056507,
                748.1478502757213
              ],
              [
                41.30082069490392,
                -102.49476686411613,
                435.10155621209356
              ],
              [
                -69.86249913699888,
                -155.88828150453196,
                227.10034528768753
              ],
              [
                45.573281546207824,
                171.96719427216942,
                453.4837734823742
              ],
              [
                4.056271596549948,
                -122.05152158489122,
                187.89702101557083
              ],
              [
                17.190259291375284,
                -170.52904407708266,
                336.3123372129431
              ],
              [
                43.23315650465889,
                -50.671622960387054,
                256.266605799507
              ],
              [
                -53.72884227005733,
                44.282913745390516,
                291.2515686856191
              ],
              [
                75.92925689410211,
                135.90384042670274,
                415.893114749087
              ],
              [
                -63.71047946911357,
                41.54528029707018,
                970.2973843136649
              ],
              [
                -63.37183492960069,
                -16.11095329121659,
                958.5194369355452
              ],
              [
                -9.376260150500926,
                73.64147266266679,
                591.8524594417299
              ],
              [
                6.078997665426698,
                64.33509935272181,
                892.477978214664
              ],
              [
                38.80276291736374,
                167.353868361909,
                484.70008999732204
              ],
              [
                -24.4829085290923,
                -73.05372964096914,
                634.357663403309
              ],
              [
                64.70025794642913,
                114.53756270155645,
                602.6255984873885
              ],
              [
                -40.040843287332834,
                -25.874617382801432,
                652.4507205840283
              ],
              [
                -74.38897657508613,
                133.55257152016196,
                917.8347025252405
              ],
              [
                -5.531021570248839,
                -126.65109769313389,
                749.9049657424944
              ],
              [
                34.500768636206885,
                -115.21124638817912,
                737.2743884286986
              ],
              [
                17.711310096335367,
                -35.416618025994865,
                865.5368559250456
              ],
              [
                18.275405222741924,
                157.43323011402873,
                669.3362460103154
              ]
            ],
            "max": 1,
            "max_zoom": 18,
            "min_opacity": 0.05,
            "name": "",
            "opacity": 1,
            "options": [
              "blur",
              "gradient",
              "max",
              "max_zoom",
              "min_opacity",
              "radius"
            ],
            "pane": "",
            "popup": null,
            "popup_max_height": null,
            "popup_max_width": 300,
            "popup_min_width": 50,
            "radius": 50,
            "subitems": [],
            "visible": true
          }
        },
        "84caa5212a86443eba55038253c35464": {
          "model_module": "@jupyter-widgets/base",
          "model_name": "LayoutModel",
          "model_module_version": "1.2.0",
          "state": {
            "_model_module": "@jupyter-widgets/base",
            "_model_module_version": "1.2.0",
            "_model_name": "LayoutModel",
            "_view_count": null,
            "_view_module": "@jupyter-widgets/base",
            "_view_module_version": "1.2.0",
            "_view_name": "LayoutView",
            "align_content": null,
            "align_items": null,
            "align_self": null,
            "border": null,
            "bottom": null,
            "display": null,
            "flex": null,
            "flex_flow": null,
            "grid_area": null,
            "grid_auto_columns": null,
            "grid_auto_flow": null,
            "grid_auto_rows": null,
            "grid_column": null,
            "grid_gap": null,
            "grid_row": null,
            "grid_template_areas": null,
            "grid_template_columns": null,
            "grid_template_rows": null,
            "height": null,
            "justify_content": null,
            "justify_items": null,
            "left": null,
            "margin": null,
            "max_height": null,
            "max_width": null,
            "min_height": null,
            "min_width": null,
            "object_fit": null,
            "object_position": null,
            "order": null,
            "overflow": null,
            "overflow_x": null,
            "overflow_y": null,
            "padding": null,
            "right": null,
            "top": null,
            "visibility": null,
            "width": null
          }
        },
        "d832ad37c9f24c4297ac7d5c903bc010": {
          "model_module": "jupyter-leaflet",
          "model_name": "LeafletMapStyleModel",
          "model_module_version": "^0.18",
          "state": {
            "_model_module": "jupyter-leaflet",
            "_model_module_version": "^0.18",
            "_model_name": "LeafletMapStyleModel",
            "_view_count": null,
            "_view_module": "@jupyter-widgets/base",
            "_view_module_version": "1.2.0",
            "_view_name": "StyleView",
            "cursor": "grab"
          }
        }
      }
    }
  },
  "nbformat": 4,
  "nbformat_minor": 5
}