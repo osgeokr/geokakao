{
  "cells": [
    {
      "cell_type": "markdown",
      "metadata": {
        "id": "view-in-github",
        "colab_type": "text"
      },
      "source": [
        "<a href=\"https://colab.research.google.com/github/osgeokr/geokakao/blob/main/kakao_local_api/Kakao_%EB%A1%9C%EC%BB%AC_API%EB%A5%BC_%EC%9D%B4%EC%9A%A9%ED%95%9C_%EA%B3%B5%EA%B0%84%EB%8D%B0%EC%9D%B4%ED%84%B0_%EA%B2%80%EC%83%89_%EA%B8%B0%EB%8A%A5_%EC%86%8C%EA%B0%9C.ipynb\" target=\"_parent\"><img src=\"https://colab.research.google.com/assets/colab-badge.svg\" alt=\"Open In Colab\"/></a>"
      ]
    },
    {
      "cell_type": "markdown",
      "id": "ed60806e-2404-422f-a943-2b7648a6d301",
      "metadata": {
        "id": "ed60806e-2404-422f-a943-2b7648a6d301"
      },
      "source": [
        "# Kakao 로컬 API를 이용한 공간데이터 검색 기능 소개\n",
        "\n",
        "이번 코드 실습은 [Kakao 로컬 API](https://developers.kakao.com/docs/latest/ko/local/common)를 이용한 공간데이터 검색 기능을 학습해 봅니다. 공간데이터를 검색한 이후에 지도로 가시화하는 영역은 [ipyleaflet](https://ipyleaflet.readthedocs.io/en/latest/)을 통해 구현해 보겠습니다. 먼저 필요한 라이브러리들을 불러온 후, [Kakao Developers](https://developers.kakao.com/)에서 인증받은 REST API 키를 지정합니다.\n",
        "> Note: REST API는 Representational State Transfer Application Programming Interface의 약자로, 네트워크 기반 소프트웨어 시스템 간에 자원을 교환하기 위한 소프트웨어 인터페이스를 의미합니다. REST API는 웹 서비스에서 자주 사용되며, 클라이언트와 서버 간의 통신을 위한 표준적인 방법을 제공합니다."
      ]
    },
    {
      "cell_type": "code",
      "execution_count": null,
      "id": "8363c72f-9ad3-4b16-a5c2-a07bd045a502",
      "metadata": {
        "id": "8363c72f-9ad3-4b16-a5c2-a07bd045a502"
      },
      "outputs": [],
      "source": [
        "import requests\n",
        "import geopandas as gpd\n",
        "from ipyleaflet import Map, TileLayer, Marker, GeoData, Circle, Rectangle"
      ]
    },
    {
      "cell_type": "code",
      "execution_count": null,
      "id": "e8b5356f-3265-453c-869d-72fe5ffe2d81",
      "metadata": {
        "id": "e8b5356f-3265-453c-869d-72fe5ffe2d81"
      },
      "outputs": [],
      "source": [
        "api_key = '57bb1cdf403802631778c8835c733a89'"
      ]
    },
    {
      "cell_type": "markdown",
      "id": "f9ade5dc-ea9c-4eca-8b9c-28cd74616256",
      "metadata": {
        "id": "f9ade5dc-ea9c-4eca-8b9c-28cd74616256"
      },
      "source": [
        "## 키워드로 좌표 검색하기\n",
        "\n",
        "특정 키워드로 해당 좌표를 검색해볼 수 있습니다. 예를 들면, '서울시립대학교'를 키워드로 해당 좌표를 검색해서 반환할 수 있습니다. 여기서는 검색 결과가 여러 개일 때는 첫번째 검색 결과의 좌표만 반환하도록 설정하였습니다."
      ]
    },
    {
      "cell_type": "code",
      "execution_count": null,
      "id": "b08f9cf8-1b4f-471d-9a56-02b0a7955941",
      "metadata": {
        "id": "b08f9cf8-1b4f-471d-9a56-02b0a7955941",
        "outputId": "54506ef4-0480-4a3c-ff0d-b5a8840b76f3"
      },
      "outputs": [
        {
          "name": "stdout",
          "output_type": "stream",
          "text": [
            "(37.584828300773886, 127.05773316246166)\n"
          ]
        }
      ],
      "source": [
        "def get_coordinate(keyword, api_key=api_key):\n",
        "    # 키워드로 좌표 검색하기\n",
        "    url = f'https://dapi.kakao.com/v2/local/search/keyword.json?query={keyword}'\n",
        "    headers = {'Authorization': f'KakaoAK {api_key}'}\n",
        "    response = requests.get(url, headers=headers)\n",
        "    data = response.json()\n",
        "    if data['meta']['total_count'] > 0:\n",
        "        # 첫 번째 검색 결과의 좌표만 반환\n",
        "        return float(data['documents'][0]['y']), float(data['documents'][0]['x'])\n",
        "    else:\n",
        "        return None\n",
        "\n",
        "keyword = \"서울시립대학교\"\n",
        "coordinate = get_coordinate(keyword)\n",
        "print(coordinate)"
      ]
    },
    {
      "cell_type": "code",
      "execution_count": null,
      "id": "ac5d4df9-f779-40da-b1f7-3fe632363694",
      "metadata": {
        "colab": {
          "referenced_widgets": [
            "ad7640fbb24842cea2dc5310ea8cb484"
          ]
        },
        "id": "ac5d4df9-f779-40da-b1f7-3fe632363694",
        "outputId": "9a014ec8-a2ed-47df-b7a6-00775cbea802"
      },
      "outputs": [
        {
          "data": {
            "application/vnd.jupyter.widget-view+json": {
              "model_id": "ad7640fbb24842cea2dc5310ea8cb484",
              "version_major": 2,
              "version_minor": 0
            },
            "text/plain": [
              "Map(center=[37.584828300773886, 127.05773316246166], controls=(ZoomControl(options=['position', 'zoom_in_text'…"
            ]
          },
          "execution_count": 4,
          "metadata": {},
          "output_type": "execute_result"
        }
      ],
      "source": [
        "# Vworld 백지도 객체\n",
        "vworld_white = TileLayer(\n",
        "    url='https://xdworld.vworld.kr/2d/white/service/{z}/{x}/{y}.png',\n",
        "    name='Vworld White',\n",
        "    attribution='Vworld'\n",
        ")\n",
        "\n",
        "# 지도 생성 (Vworld 백지도 사용)\n",
        "m = Map(center=coordinate,\n",
        "        zoom=16,\n",
        "        layers=[vworld_white],\n",
        "        layout={'width': '800px', 'height': '500px'})\n",
        "\n",
        "marker = Marker(location=coordinate, draggable=False)\n",
        "m.add_layer(marker)\n",
        "m"
      ]
    },
    {
      "cell_type": "markdown",
      "id": "4c7c56c3-743b-4bf4-b980-ad1098cf43ff",
      "metadata": {
        "id": "4c7c56c3-743b-4bf4-b980-ad1098cf43ff"
      },
      "source": [
        "## 정해진 반경에서 질의로 장소 검색하기\n",
        "\n",
        "지정한 좌표로부터 일정 반경으로 버퍼를 설정하고, 해당 범위 내에서 장소를 검색해볼 수 있습니다."
      ]
    },
    {
      "cell_type": "code",
      "execution_count": null,
      "id": "d70db218-730c-480b-9e4d-4cb4fbb1b9c6",
      "metadata": {
        "id": "d70db218-730c-480b-9e4d-4cb4fbb1b9c6",
        "outputId": "6d22fd8f-1371-494a-a6a6-1834ee801d02"
      },
      "outputs": [
        {
          "name": "stdout",
          "output_type": "stream",
          "text": [
            "매장 개수: 45개\n"
          ]
        },
        {
          "data": {
            "text/html": [
              "<div>\n",
              "<style scoped>\n",
              "    .dataframe tbody tr th:only-of-type {\n",
              "        vertical-align: middle;\n",
              "    }\n",
              "\n",
              "    .dataframe tbody tr th {\n",
              "        vertical-align: top;\n",
              "    }\n",
              "\n",
              "    .dataframe thead th {\n",
              "        text-align: right;\n",
              "    }\n",
              "</style>\n",
              "<table border=\"1\" class=\"dataframe\">\n",
              "  <thead>\n",
              "    <tr style=\"text-align: right;\">\n",
              "      <th></th>\n",
              "      <th>address_name</th>\n",
              "      <th>category_group_code</th>\n",
              "      <th>category_group_name</th>\n",
              "      <th>category_name</th>\n",
              "      <th>distance</th>\n",
              "      <th>id</th>\n",
              "      <th>phone</th>\n",
              "      <th>place_name</th>\n",
              "      <th>place_url</th>\n",
              "      <th>road_address_name</th>\n",
              "      <th>x</th>\n",
              "      <th>y</th>\n",
              "      <th>geometry</th>\n",
              "    </tr>\n",
              "  </thead>\n",
              "  <tbody>\n",
              "    <tr>\n",
              "      <th>0</th>\n",
              "      <td>서울 동대문구 전농동 591-53</td>\n",
              "      <td></td>\n",
              "      <td></td>\n",
              "      <td>문화,예술 &gt; 도서 &gt; 서점 &gt; 교보문고</td>\n",
              "      <td>891</td>\n",
              "      <td>253947105</td>\n",
              "      <td>1544-1900</td>\n",
              "      <td>교보문고 청량리점</td>\n",
              "      <td>http://place.map.kakao.com/253947105</td>\n",
              "      <td>서울 동대문구 왕산로 214</td>\n",
              "      <td>127.049079477084</td>\n",
              "      <td>37.5806966564292</td>\n",
              "      <td>POINT (127.04908 37.58070)</td>\n",
              "    </tr>\n",
              "    <tr>\n",
              "      <th>1</th>\n",
              "      <td>서울 중구 을지로6가 17-2</td>\n",
              "      <td></td>\n",
              "      <td></td>\n",
              "      <td>문화,예술 &gt; 도서 &gt; 서점 &gt; 교보문고</td>\n",
              "      <td>4756</td>\n",
              "      <td>27533166</td>\n",
              "      <td>02-2283-2131</td>\n",
              "      <td>교보문고 동대문점</td>\n",
              "      <td>http://place.map.kakao.com/27533166</td>\n",
              "      <td></td>\n",
              "      <td>127.00797671135294</td>\n",
              "      <td>37.56843684371349</td>\n",
              "      <td>POINT (127.00798 37.56844)</td>\n",
              "    </tr>\n",
              "    <tr>\n",
              "      <th>2</th>\n",
              "      <td>서울 광진구 자양동 227-342</td>\n",
              "      <td></td>\n",
              "      <td></td>\n",
              "      <td>문화,예술 &gt; 도서 &gt; 서점 &gt; 교보문고</td>\n",
              "      <td>5198</td>\n",
              "      <td>411660590</td>\n",
              "      <td>1544-1900</td>\n",
              "      <td>교보문고 건대스타시티점</td>\n",
              "      <td>http://place.map.kakao.com/411660590</td>\n",
              "      <td></td>\n",
              "      <td>127.07161423634196</td>\n",
              "      <td>37.539308661738474</td>\n",
              "      <td>POINT (127.07161 37.53931)</td>\n",
              "    </tr>\n",
              "    <tr>\n",
              "      <th>3</th>\n",
              "      <td>서울 종로구 세종로 119</td>\n",
              "      <td></td>\n",
              "      <td></td>\n",
              "      <td>문화,예술 &gt; 도서 &gt; 서점 &gt; 교보문고</td>\n",
              "      <td>7220</td>\n",
              "      <td>8196057</td>\n",
              "      <td>1544-1900</td>\n",
              "      <td>교보문고 광화문점</td>\n",
              "      <td>http://place.map.kakao.com/8196057</td>\n",
              "      <td>서울 종로구 종로 1</td>\n",
              "      <td>126.977908555263</td>\n",
              "      <td>37.5707974563789</td>\n",
              "      <td>POINT (126.97791 37.57080)</td>\n",
              "    </tr>\n",
              "    <tr>\n",
              "      <th>4</th>\n",
              "      <td>서울 강북구 번동 418-6</td>\n",
              "      <td></td>\n",
              "      <td></td>\n",
              "      <td>문화,예술 &gt; 도서 &gt; 서점 &gt; 교보문고</td>\n",
              "      <td>6543</td>\n",
              "      <td>26928483</td>\n",
              "      <td>02-999-3501</td>\n",
              "      <td>교보문고 수유점</td>\n",
              "      <td>http://place.map.kakao.com/26928483</td>\n",
              "      <td>서울 강북구 도봉로 348</td>\n",
              "      <td>127.026548206045</td>\n",
              "      <td>37.6383131328318</td>\n",
              "      <td>POINT (127.02655 37.63831)</td>\n",
              "    </tr>\n",
              "  </tbody>\n",
              "</table>\n",
              "</div>"
            ],
            "text/plain": [
              "         address_name category_group_code category_group_name  \\\n",
              "0  서울 동대문구 전농동 591-53                                           \n",
              "1    서울 중구 을지로6가 17-2                                           \n",
              "2  서울 광진구 자양동 227-342                                           \n",
              "3      서울 종로구 세종로 119                                           \n",
              "4     서울 강북구 번동 418-6                                           \n",
              "\n",
              "            category_name distance         id         phone    place_name  \\\n",
              "0  문화,예술 > 도서 > 서점 > 교보문고      891  253947105     1544-1900     교보문고 청량리점   \n",
              "1  문화,예술 > 도서 > 서점 > 교보문고     4756   27533166  02-2283-2131     교보문고 동대문점   \n",
              "2  문화,예술 > 도서 > 서점 > 교보문고     5198  411660590     1544-1900  교보문고 건대스타시티점   \n",
              "3  문화,예술 > 도서 > 서점 > 교보문고     7220    8196057     1544-1900     교보문고 광화문점   \n",
              "4  문화,예술 > 도서 > 서점 > 교보문고     6543   26928483   02-999-3501      교보문고 수유점   \n",
              "\n",
              "                              place_url road_address_name                   x  \\\n",
              "0  http://place.map.kakao.com/253947105   서울 동대문구 왕산로 214    127.049079477084   \n",
              "1   http://place.map.kakao.com/27533166                    127.00797671135294   \n",
              "2  http://place.map.kakao.com/411660590                    127.07161423634196   \n",
              "3    http://place.map.kakao.com/8196057       서울 종로구 종로 1    126.977908555263   \n",
              "4   http://place.map.kakao.com/26928483    서울 강북구 도봉로 348    127.026548206045   \n",
              "\n",
              "                    y                    geometry  \n",
              "0    37.5806966564292  POINT (127.04908 37.58070)  \n",
              "1   37.56843684371349  POINT (127.00798 37.56844)  \n",
              "2  37.539308661738474  POINT (127.07161 37.53931)  \n",
              "3    37.5707974563789  POINT (126.97791 37.57080)  \n",
              "4    37.6383131328318  POINT (127.02655 37.63831)  "
            ]
          },
          "execution_count": 51,
          "metadata": {},
          "output_type": "execute_result"
        }
      ],
      "source": [
        "def get_places_by_query(coordinate, radius, query, api_key):\n",
        "    # 정해진 반경에서 이름으로 장소 검색\n",
        "    url = \"https://dapi.kakao.com/v2/local/search/keyword.json\"\n",
        "    headers = {\"Authorization\": f\"KakaoAK {api_key}\"}\n",
        "    params = {\"query\": query,\n",
        "              \"x\": coordinate[1],\n",
        "              \"y\": coordinate[0],\n",
        "              \"radius\": radius}\n",
        "\n",
        "    places = []\n",
        "    while True:\n",
        "        response = requests.get(url, headers=headers, params=params)\n",
        "        data = response.json()\n",
        "        places.extend(data.get(\"documents\", []))\n",
        "        if data[\"meta\"][\"is_end\"]:\n",
        "            break\n",
        "        else:\n",
        "            params[\"page\"] = params.get(\"page\", 1) + 1\n",
        "    return gpd.GeoDataFrame(\n",
        "        places,\n",
        "        geometry=gpd.points_from_xy(\n",
        "            [place[\"x\"] for place in places], [place[\"y\"] for place in places]\n",
        "        ),\n",
        "    )\n",
        "\n",
        "radius = 20000\n",
        "query = \"교보문고\"\n",
        "\n",
        "places = get_places_by_query(coordinate, radius, query, api_key)\n",
        "print(f\"매장 개수: {len(places)}개\")\n",
        "places.head()"
      ]
    },
    {
      "cell_type": "code",
      "execution_count": null,
      "id": "f6e5e0f9-72e0-4153-8a50-b04eabaffaf7",
      "metadata": {
        "id": "f6e5e0f9-72e0-4153-8a50-b04eabaffaf7",
        "outputId": "e52a5841-e7fd-4bf5-98f5-38994aa1c8e7"
      },
      "outputs": [
        {
          "name": "stdout",
          "output_type": "stream",
          "text": [
            "매장 개수: 18개\n"
          ]
        },
        {
          "data": {
            "text/html": [
              "<div>\n",
              "<style scoped>\n",
              "    .dataframe tbody tr th:only-of-type {\n",
              "        vertical-align: middle;\n",
              "    }\n",
              "\n",
              "    .dataframe tbody tr th {\n",
              "        vertical-align: top;\n",
              "    }\n",
              "\n",
              "    .dataframe thead th {\n",
              "        text-align: right;\n",
              "    }\n",
              "</style>\n",
              "<table border=\"1\" class=\"dataframe\">\n",
              "  <thead>\n",
              "    <tr style=\"text-align: right;\">\n",
              "      <th></th>\n",
              "      <th>address_name</th>\n",
              "      <th>category_group_code</th>\n",
              "      <th>category_group_name</th>\n",
              "      <th>category_name</th>\n",
              "      <th>distance</th>\n",
              "      <th>id</th>\n",
              "      <th>phone</th>\n",
              "      <th>place_name</th>\n",
              "      <th>place_url</th>\n",
              "      <th>road_address_name</th>\n",
              "      <th>x</th>\n",
              "      <th>y</th>\n",
              "      <th>geometry</th>\n",
              "    </tr>\n",
              "  </thead>\n",
              "  <tbody>\n",
              "    <tr>\n",
              "      <th>0</th>\n",
              "      <td>서울 동대문구 전농동 591-53</td>\n",
              "      <td></td>\n",
              "      <td></td>\n",
              "      <td>문화,예술 &gt; 도서 &gt; 서점 &gt; 교보문고</td>\n",
              "      <td>891</td>\n",
              "      <td>253947105</td>\n",
              "      <td>1544-1900</td>\n",
              "      <td>교보문고 청량리점</td>\n",
              "      <td>http://place.map.kakao.com/253947105</td>\n",
              "      <td>서울 동대문구 왕산로 214</td>\n",
              "      <td>127.049079477084</td>\n",
              "      <td>37.5806966564292</td>\n",
              "      <td>POINT (127.04908 37.58070)</td>\n",
              "    </tr>\n",
              "    <tr>\n",
              "      <th>1</th>\n",
              "      <td>서울 중구 을지로6가 17-2</td>\n",
              "      <td></td>\n",
              "      <td></td>\n",
              "      <td>문화,예술 &gt; 도서 &gt; 서점 &gt; 교보문고</td>\n",
              "      <td>4756</td>\n",
              "      <td>27533166</td>\n",
              "      <td>02-2283-2131</td>\n",
              "      <td>교보문고 동대문점</td>\n",
              "      <td>http://place.map.kakao.com/27533166</td>\n",
              "      <td></td>\n",
              "      <td>127.00797671135294</td>\n",
              "      <td>37.56843684371349</td>\n",
              "      <td>POINT (127.00798 37.56844)</td>\n",
              "    </tr>\n",
              "    <tr>\n",
              "      <th>2</th>\n",
              "      <td>서울 광진구 자양동 227-342</td>\n",
              "      <td></td>\n",
              "      <td></td>\n",
              "      <td>문화,예술 &gt; 도서 &gt; 서점 &gt; 교보문고</td>\n",
              "      <td>5198</td>\n",
              "      <td>411660590</td>\n",
              "      <td>1544-1900</td>\n",
              "      <td>교보문고 건대스타시티점</td>\n",
              "      <td>http://place.map.kakao.com/411660590</td>\n",
              "      <td></td>\n",
              "      <td>127.07161423634196</td>\n",
              "      <td>37.539308661738474</td>\n",
              "      <td>POINT (127.07161 37.53931)</td>\n",
              "    </tr>\n",
              "    <tr>\n",
              "      <th>3</th>\n",
              "      <td>서울 종로구 세종로 119</td>\n",
              "      <td></td>\n",
              "      <td></td>\n",
              "      <td>문화,예술 &gt; 도서 &gt; 서점 &gt; 교보문고</td>\n",
              "      <td>7220</td>\n",
              "      <td>8196057</td>\n",
              "      <td>1544-1900</td>\n",
              "      <td>교보문고 광화문점</td>\n",
              "      <td>http://place.map.kakao.com/8196057</td>\n",
              "      <td>서울 종로구 종로 1</td>\n",
              "      <td>126.977908555263</td>\n",
              "      <td>37.5707974563789</td>\n",
              "      <td>POINT (126.97791 37.57080)</td>\n",
              "    </tr>\n",
              "    <tr>\n",
              "      <th>4</th>\n",
              "      <td>서울 강북구 번동 418-6</td>\n",
              "      <td></td>\n",
              "      <td></td>\n",
              "      <td>문화,예술 &gt; 도서 &gt; 서점 &gt; 교보문고</td>\n",
              "      <td>6543</td>\n",
              "      <td>26928483</td>\n",
              "      <td>02-999-3501</td>\n",
              "      <td>교보문고 수유점</td>\n",
              "      <td>http://place.map.kakao.com/26928483</td>\n",
              "      <td>서울 강북구 도봉로 348</td>\n",
              "      <td>127.026548206045</td>\n",
              "      <td>37.6383131328318</td>\n",
              "      <td>POINT (127.02655 37.63831)</td>\n",
              "    </tr>\n",
              "  </tbody>\n",
              "</table>\n",
              "</div>"
            ],
            "text/plain": [
              "         address_name category_group_code category_group_name  \\\n",
              "0  서울 동대문구 전농동 591-53                                           \n",
              "1    서울 중구 을지로6가 17-2                                           \n",
              "2  서울 광진구 자양동 227-342                                           \n",
              "3      서울 종로구 세종로 119                                           \n",
              "4     서울 강북구 번동 418-6                                           \n",
              "\n",
              "            category_name distance         id         phone    place_name  \\\n",
              "0  문화,예술 > 도서 > 서점 > 교보문고      891  253947105     1544-1900     교보문고 청량리점   \n",
              "1  문화,예술 > 도서 > 서점 > 교보문고     4756   27533166  02-2283-2131     교보문고 동대문점   \n",
              "2  문화,예술 > 도서 > 서점 > 교보문고     5198  411660590     1544-1900  교보문고 건대스타시티점   \n",
              "3  문화,예술 > 도서 > 서점 > 교보문고     7220    8196057     1544-1900     교보문고 광화문점   \n",
              "4  문화,예술 > 도서 > 서점 > 교보문고     6543   26928483   02-999-3501      교보문고 수유점   \n",
              "\n",
              "                              place_url road_address_name                   x  \\\n",
              "0  http://place.map.kakao.com/253947105   서울 동대문구 왕산로 214    127.049079477084   \n",
              "1   http://place.map.kakao.com/27533166                    127.00797671135294   \n",
              "2  http://place.map.kakao.com/411660590                    127.07161423634196   \n",
              "3    http://place.map.kakao.com/8196057       서울 종로구 종로 1    126.977908555263   \n",
              "4   http://place.map.kakao.com/26928483    서울 강북구 도봉로 348    127.026548206045   \n",
              "\n",
              "                    y                    geometry  \n",
              "0    37.5806966564292  POINT (127.04908 37.58070)  \n",
              "1   37.56843684371349  POINT (127.00798 37.56844)  \n",
              "2  37.539308661738474  POINT (127.07161 37.53931)  \n",
              "3    37.5707974563789  POINT (126.97791 37.57080)  \n",
              "4    37.6383131328318  POINT (127.02655 37.63831)  "
            ]
          },
          "execution_count": 52,
          "metadata": {},
          "output_type": "execute_result"
        }
      ],
      "source": [
        "# 필터링\n",
        "places = places[\n",
        "    places[\"category_name\"] == \"문화,예술 > 도서 > 서점 > 교보문고\"\n",
        "]\n",
        "print(f\"매장 개수: {len(f_places)}개\")\n",
        "places = places.set_crs(epsg=4326)\n",
        "places.to_file(\"places_by_query.gpkg\", driver=\"GPKG\")\n",
        "places.head()"
      ]
    },
    {
      "cell_type": "code",
      "execution_count": null,
      "id": "6569208c-fd46-41ac-a5e5-2c6da385af07",
      "metadata": {
        "id": "6569208c-fd46-41ac-a5e5-2c6da385af07"
      },
      "outputs": [],
      "source": [
        "# GeoPandas 레이어를 GeoData로 변환\n",
        "geo_data = GeoData(\n",
        "    geo_dataframe=places,\n",
        "    point_style={\n",
        "        'radius': 7,  # 점 크기\n",
        "        'color': 'darkblue',  # 색상\n",
        "        'fillOpacity': 0.7,  # 투명도\n",
        "        'fillColor': 'lightblue',  # 점 내부 색상\n",
        "        'weight': 2  # 점 테두리\n",
        "    },\n",
        "    name='교보문고'  # 레이어 이름\n",
        ")"
      ]
    },
    {
      "cell_type": "code",
      "execution_count": null,
      "id": "1f3e7a53-f1a3-4d50-b8e1-3de65a936915",
      "metadata": {
        "id": "1f3e7a53-f1a3-4d50-b8e1-3de65a936915"
      },
      "outputs": [],
      "source": [
        "# Circle 생성\n",
        "circle = Circle()\n",
        "circle.location = coordinate  # 원의 중심 좌표\n",
        "circle.radius = radius  # 원의 반경\n",
        "circle.color = \"red\"  # 원의 테두리 색상\n",
        "circle.fill_color = \"red\"  # 원의 내부 색상\n",
        "circle.fill_opacity = 0.5  # 원의 내부 투명도"
      ]
    },
    {
      "cell_type": "code",
      "execution_count": null,
      "id": "a8560bc1-45b4-43c6-a37d-d4ccdf46df51",
      "metadata": {
        "colab": {
          "referenced_widgets": [
            "07a44b2b052841408a7ef8b1a6aa6d53"
          ]
        },
        "id": "a8560bc1-45b4-43c6-a37d-d4ccdf46df51",
        "outputId": "1502854a-d980-49f6-c419-056967893d37"
      },
      "outputs": [
        {
          "data": {
            "application/vnd.jupyter.widget-view+json": {
              "model_id": "07a44b2b052841408a7ef8b1a6aa6d53",
              "version_major": 2,
              "version_minor": 0
            },
            "text/plain": [
              "Map(center=[37.584828300773886, 127.05773316246166], controls=(ZoomControl(options=['position', 'zoom_in_text'…"
            ]
          },
          "execution_count": 39,
          "metadata": {},
          "output_type": "execute_result"
        }
      ],
      "source": [
        "# 지도 생성 (Vworld 백지도 사용)\n",
        "m = Map(center=coordinate,\n",
        "        zoom=11,\n",
        "        layers=[vworld_white],\n",
        "        layout={'width': '800px', 'height': '500px'})\n",
        "\n",
        "m.add_layer(marker)\n",
        "m.add_layer(circle)\n",
        "m.add_layer(geo_data)\n",
        "m"
      ]
    },
    {
      "cell_type": "markdown",
      "id": "3ea002fb-fc40-4329-9059-b829b3cc9004",
      "metadata": {
        "id": "3ea002fb-fc40-4329-9059-b829b3cc9004"
      },
      "source": [
        "## 정해진 반경에서 카테고리로 장소 검색하기\n",
        "| 이름 | MT1 | CS2 | PS3 | SC4 | AC5 | PK6 | OL7 | SW8 | BK9 | CT1 | AG2 | PO3 | AT4 | AD5 | FD6 | CE7 | HP8 | PM9 |\n",
        "|------|------|------|------|------|------|------|------|------|------|------|------|------|------|------|------|------|------|------|\n",
        "| 설명 | 대형마트 | 편의점 | 어린이집, 유치원 | 학교 | 학원 | 주차장 | 주유소, 충전소 | 지하철역 | 은행 | 문화시설 | 중개업소 | 공공기관 | 관광명소 | 숙박 | 음식점 | 카페 | 병원 | 약국 |"
      ]
    },
    {
      "cell_type": "code",
      "execution_count": null,
      "id": "97a3cf01-c712-4135-a13d-75b8a9881488",
      "metadata": {
        "id": "97a3cf01-c712-4135-a13d-75b8a9881488",
        "outputId": "4bac6d95-2617-45c0-f204-5d38c4507820"
      },
      "outputs": [
        {
          "name": "stdout",
          "output_type": "stream",
          "text": [
            "매장 개수: 8개\n"
          ]
        },
        {
          "data": {
            "text/html": [
              "<div>\n",
              "<style scoped>\n",
              "    .dataframe tbody tr th:only-of-type {\n",
              "        vertical-align: middle;\n",
              "    }\n",
              "\n",
              "    .dataframe tbody tr th {\n",
              "        vertical-align: top;\n",
              "    }\n",
              "\n",
              "    .dataframe thead th {\n",
              "        text-align: right;\n",
              "    }\n",
              "</style>\n",
              "<table border=\"1\" class=\"dataframe\">\n",
              "  <thead>\n",
              "    <tr style=\"text-align: right;\">\n",
              "      <th></th>\n",
              "      <th>address_name</th>\n",
              "      <th>category_group_code</th>\n",
              "      <th>category_group_name</th>\n",
              "      <th>category_name</th>\n",
              "      <th>distance</th>\n",
              "      <th>id</th>\n",
              "      <th>phone</th>\n",
              "      <th>place_name</th>\n",
              "      <th>place_url</th>\n",
              "      <th>road_address_name</th>\n",
              "      <th>x</th>\n",
              "      <th>y</th>\n",
              "      <th>geometry</th>\n",
              "    </tr>\n",
              "  </thead>\n",
              "  <tbody>\n",
              "    <tr>\n",
              "      <th>0</th>\n",
              "      <td>서울 동대문구 휘경동 302-2</td>\n",
              "      <td>PS3</td>\n",
              "      <td>어린이집,유치원</td>\n",
              "      <td>교육,학문 &gt; 유아교육 &gt; 유치원</td>\n",
              "      <td>182</td>\n",
              "      <td>10487569</td>\n",
              "      <td>02-2242-0354</td>\n",
              "      <td>서울휘경유치원</td>\n",
              "      <td>http://place.map.kakao.com/10487569</td>\n",
              "      <td>서울 동대문구 망우로6길 48</td>\n",
              "      <td>127.057072023037</td>\n",
              "      <td>37.586380132083</td>\n",
              "      <td>POINT (127.05707 37.58638)</td>\n",
              "    </tr>\n",
              "    <tr>\n",
              "      <th>1</th>\n",
              "      <td>서울 동대문구 휘경동 380</td>\n",
              "      <td>PS3</td>\n",
              "      <td>어린이집,유치원</td>\n",
              "      <td>교육,학문 &gt; 유아교육 &gt; 어린이집</td>\n",
              "      <td>447</td>\n",
              "      <td>21655642</td>\n",
              "      <td>02-2243-2831</td>\n",
              "      <td>휘경어린이집</td>\n",
              "      <td>http://place.map.kakao.com/21655642</td>\n",
              "      <td>서울 동대문구 망우로 46</td>\n",
              "      <td>127.05879144938042</td>\n",
              "      <td>37.58876601763209</td>\n",
              "      <td>POINT (127.05879 37.58877)</td>\n",
              "    </tr>\n",
              "    <tr>\n",
              "      <th>2</th>\n",
              "      <td>서울 동대문구 전농동 103-53</td>\n",
              "      <td>PS3</td>\n",
              "      <td>어린이집,유치원</td>\n",
              "      <td>교육,학문 &gt; 유아교육 &gt; 어린이집</td>\n",
              "      <td>334</td>\n",
              "      <td>18536865</td>\n",
              "      <td>02-2213-7974</td>\n",
              "      <td>꿈마루어린이집</td>\n",
              "      <td>http://place.map.kakao.com/18536865</td>\n",
              "      <td>서울 동대문구 전농로36길 29-3</td>\n",
              "      <td>127.05403934399568</td>\n",
              "      <td>37.58549047747335</td>\n",
              "      <td>POINT (127.05404 37.58549)</td>\n",
              "    </tr>\n",
              "    <tr>\n",
              "      <th>3</th>\n",
              "      <td>서울 동대문구 전농동 694</td>\n",
              "      <td>PS3</td>\n",
              "      <td>어린이집,유치원</td>\n",
              "      <td>교육,학문 &gt; 유아교육 &gt; 어린이집</td>\n",
              "      <td>14</td>\n",
              "      <td>1388625905</td>\n",
              "      <td>02-2213-9566</td>\n",
              "      <td>서울시립대학교 직장어린이집</td>\n",
              "      <td>http://place.map.kakao.com/1388625905</td>\n",
              "      <td>서울 동대문구 서울시립대로 163</td>\n",
              "      <td>127.05771854223894</td>\n",
              "      <td>37.584955347939754</td>\n",
              "      <td>POINT (127.05772 37.58496)</td>\n",
              "    </tr>\n",
              "    <tr>\n",
              "      <th>4</th>\n",
              "      <td>서울 동대문구 휘경동 282-6</td>\n",
              "      <td>PS3</td>\n",
              "      <td>어린이집,유치원</td>\n",
              "      <td>교육,학문 &gt; 유아교육 &gt; 어린이집</td>\n",
              "      <td>482</td>\n",
              "      <td>12144504</td>\n",
              "      <td>02-2244-9118</td>\n",
              "      <td>동화어린이집</td>\n",
              "      <td>http://place.map.kakao.com/12144504</td>\n",
              "      <td>서울 동대문구 망우로12가길 20</td>\n",
              "      <td>127.060280267993</td>\n",
              "      <td>37.5886742664592</td>\n",
              "      <td>POINT (127.06028 37.58867)</td>\n",
              "    </tr>\n",
              "  </tbody>\n",
              "</table>\n",
              "</div>"
            ],
            "text/plain": [
              "         address_name category_group_code category_group_name  \\\n",
              "0   서울 동대문구 휘경동 302-2                 PS3            어린이집,유치원   \n",
              "1     서울 동대문구 휘경동 380                 PS3            어린이집,유치원   \n",
              "2  서울 동대문구 전농동 103-53                 PS3            어린이집,유치원   \n",
              "3     서울 동대문구 전농동 694                 PS3            어린이집,유치원   \n",
              "4   서울 동대문구 휘경동 282-6                 PS3            어린이집,유치원   \n",
              "\n",
              "         category_name distance          id         phone      place_name  \\\n",
              "0   교육,학문 > 유아교육 > 유치원      182    10487569  02-2242-0354         서울휘경유치원   \n",
              "1  교육,학문 > 유아교육 > 어린이집      447    21655642  02-2243-2831          휘경어린이집   \n",
              "2  교육,학문 > 유아교육 > 어린이집      334    18536865  02-2213-7974         꿈마루어린이집   \n",
              "3  교육,학문 > 유아교육 > 어린이집       14  1388625905  02-2213-9566  서울시립대학교 직장어린이집   \n",
              "4  교육,학문 > 유아교육 > 어린이집      482    12144504  02-2244-9118          동화어린이집   \n",
              "\n",
              "                               place_url    road_address_name  \\\n",
              "0    http://place.map.kakao.com/10487569     서울 동대문구 망우로6길 48   \n",
              "1    http://place.map.kakao.com/21655642       서울 동대문구 망우로 46   \n",
              "2    http://place.map.kakao.com/18536865  서울 동대문구 전농로36길 29-3   \n",
              "3  http://place.map.kakao.com/1388625905   서울 동대문구 서울시립대로 163   \n",
              "4    http://place.map.kakao.com/12144504   서울 동대문구 망우로12가길 20   \n",
              "\n",
              "                    x                   y                    geometry  \n",
              "0    127.057072023037     37.586380132083  POINT (127.05707 37.58638)  \n",
              "1  127.05879144938042   37.58876601763209  POINT (127.05879 37.58877)  \n",
              "2  127.05403934399568   37.58549047747335  POINT (127.05404 37.58549)  \n",
              "3  127.05771854223894  37.584955347939754  POINT (127.05772 37.58496)  \n",
              "4    127.060280267993    37.5886742664592  POINT (127.06028 37.58867)  "
            ]
          },
          "execution_count": 56,
          "metadata": {},
          "output_type": "execute_result"
        }
      ],
      "source": [
        "def get_places_by_category(coordinate, radius, category_group_code, api_key):\n",
        "    # 정해진 반경에서 카테고리로 장소 검색\n",
        "    url = \"https://dapi.kakao.com/v2/local/search/category.json\"\n",
        "    headers = {\"Authorization\": f\"KakaoAK {api_key}\"}\n",
        "    params = {\"category_group_code\": category_group_code,\n",
        "              \"x\": coordinate[1],\n",
        "              \"y\": coordinate[0],\n",
        "              \"radius\": radius}\n",
        "\n",
        "    places = []\n",
        "    while True:\n",
        "        response = requests.get(url, headers=headers, params=params)\n",
        "        data = response.json()\n",
        "        places.extend(data.get(\"documents\", []))\n",
        "        if data[\"meta\"][\"is_end\"]:\n",
        "            break\n",
        "        else:\n",
        "            params[\"page\"] = params.get(\"page\", 1) + 1\n",
        "    return gpd.GeoDataFrame(\n",
        "        places,\n",
        "        geometry=gpd.points_from_xy(\n",
        "            [place[\"x\"] for place in places], [place[\"y\"] for place in places]\n",
        "        ),\n",
        "    )\n",
        "\n",
        "radius = 500\n",
        "category_group_code = \"PS3\"  # 어린이집,유치원\n",
        "\n",
        "places = get_places_by_category(coordinate, radius, category_group_code, api_key)\n",
        "print(f\"매장 개수: {len(places)}개\")\n",
        "places = places.set_crs(epsg=4326)\n",
        "places.to_file(\"places_by_category.gpkg\", driver=\"GPKG\")\n",
        "places.head()"
      ]
    },
    {
      "cell_type": "code",
      "execution_count": null,
      "id": "8d63e52a-aa65-4051-850a-f2ee1169a89d",
      "metadata": {
        "colab": {
          "referenced_widgets": [
            "3d0698a1579645a89582fdb4157ad945"
          ]
        },
        "id": "8d63e52a-aa65-4051-850a-f2ee1169a89d",
        "outputId": "947a9667-f059-42b8-d7a0-64b224ff2ad2"
      },
      "outputs": [
        {
          "data": {
            "application/vnd.jupyter.widget-view+json": {
              "model_id": "3d0698a1579645a89582fdb4157ad945",
              "version_major": 2,
              "version_minor": 0
            },
            "text/plain": [
              "Map(center=[37.584828300773886, 127.05773316246166], controls=(ZoomControl(options=['position', 'zoom_in_text'…"
            ]
          },
          "execution_count": 60,
          "metadata": {},
          "output_type": "execute_result"
        }
      ],
      "source": [
        "# GeoPandas 레이어를 GeoData로 변환\n",
        "geo_data = GeoData(\n",
        "    geo_dataframe=places,\n",
        "    point_style={\n",
        "        'radius': 7,  # 점 크기\n",
        "        'color': 'darkblue',  # 색상\n",
        "        'fillOpacity': 0.7,  # 투명도\n",
        "        'fillColor': 'lightblue',  # 점 내부 색상\n",
        "        'weight': 2  # 점 테두리\n",
        "    },\n",
        "    name='어린이집, 유치원'  # 레이어 이름\n",
        ")\n",
        "\n",
        "# Circle 생성\n",
        "circle = Circle()\n",
        "circle.location = coordinate  # 원의 중심 좌표\n",
        "circle.radius = radius  # 원의 반경\n",
        "circle.color = \"red\"  # 원의 테두리 색상\n",
        "circle.fill_color = \"red\"  # 원의 내부 색상\n",
        "circle.fill_opacity = 0.5  # 원의 내부 투명도\n",
        "\n",
        "# 지도 생성 (Vworld 백지도 사용)\n",
        "m = Map(center=coordinate,\n",
        "        zoom=15,\n",
        "        layers=[vworld_white],\n",
        "        layout={'width': '800px', 'height': '500px'})\n",
        "\n",
        "m.add_layer(marker)\n",
        "m.add_layer(circle)\n",
        "m.add_layer(geo_data)\n",
        "m"
      ]
    },
    {
      "cell_type": "markdown",
      "id": "a480672b-9524-4459-81a5-4f36261cb105",
      "metadata": {
        "id": "a480672b-9524-4459-81a5-4f36261cb105"
      },
      "source": [
        "## 사각형 범위 내에서 제한 검색하기\n",
        "\n",
        "좌측 X 좌표, 좌측 Y 좌표, 우측 X 좌표, 우측 Y 좌표 형식"
      ]
    },
    {
      "cell_type": "code",
      "execution_count": null,
      "id": "5af59e97-1e5b-422e-a950-8d8610186ed0",
      "metadata": {
        "id": "5af59e97-1e5b-422e-a950-8d8610186ed0"
      },
      "outputs": [],
      "source": [
        "def get_places_by_category_with_rect(bbox, category_group_code, api_key):\n",
        "    # 사각형 영역에서 카테고리로 장소 검색\n",
        "    url = \"https://dapi.kakao.com/v2/local/search/category.json\"\n",
        "    headers = {\"Authorization\": f\"KakaoAK {api_key}\"}\n",
        "\n",
        "    params = {\"category_group_code\": category_group_code,\n",
        "              \"rect\": bbox}\n",
        "\n",
        "    places = []\n",
        "    while True:\n",
        "        response = requests.get(url, headers=headers, params=params)\n",
        "        data = response.json()\n",
        "        places.extend(data.get(\"documents\", []))\n",
        "        if data[\"meta\"][\"is_end\"]:\n",
        "            break\n",
        "        else:\n",
        "            params[\"page\"] = params.get(\"page\", 1) + 1\n",
        "\n",
        "    return gpd.GeoDataFrame(\n",
        "        places,\n",
        "        geometry=gpd.points_from_xy(\n",
        "            [float(place[\"x\"]) for place in places], [float(place[\"y\"]) for place in places]\n",
        "        ),\n",
        "    )"
      ]
    },
    {
      "cell_type": "code",
      "execution_count": null,
      "id": "ca796fa9-e35a-4951-bd96-3c8166050e85",
      "metadata": {
        "id": "ca796fa9-e35a-4951-bd96-3c8166050e85",
        "outputId": "693166a0-7791-4ca8-c921-2b91fc0d6d0a"
      },
      "outputs": [
        {
          "name": "stdout",
          "output_type": "stream",
          "text": [
            "매장 개수: 33개\n"
          ]
        },
        {
          "data": {
            "text/html": [
              "<div>\n",
              "<style scoped>\n",
              "    .dataframe tbody tr th:only-of-type {\n",
              "        vertical-align: middle;\n",
              "    }\n",
              "\n",
              "    .dataframe tbody tr th {\n",
              "        vertical-align: top;\n",
              "    }\n",
              "\n",
              "    .dataframe thead th {\n",
              "        text-align: right;\n",
              "    }\n",
              "</style>\n",
              "<table border=\"1\" class=\"dataframe\">\n",
              "  <thead>\n",
              "    <tr style=\"text-align: right;\">\n",
              "      <th></th>\n",
              "      <th>address_name</th>\n",
              "      <th>category_group_code</th>\n",
              "      <th>category_group_name</th>\n",
              "      <th>category_name</th>\n",
              "      <th>distance</th>\n",
              "      <th>id</th>\n",
              "      <th>phone</th>\n",
              "      <th>place_name</th>\n",
              "      <th>place_url</th>\n",
              "      <th>road_address_name</th>\n",
              "      <th>x</th>\n",
              "      <th>y</th>\n",
              "      <th>geometry</th>\n",
              "    </tr>\n",
              "  </thead>\n",
              "  <tbody>\n",
              "    <tr>\n",
              "      <th>0</th>\n",
              "      <td>서울 동대문구 전농동 694</td>\n",
              "      <td>SC4</td>\n",
              "      <td>학교</td>\n",
              "      <td>교육,학문 &gt; 학교 &gt; 대학교</td>\n",
              "      <td></td>\n",
              "      <td>10498806</td>\n",
              "      <td>02-6490-6114</td>\n",
              "      <td>서울시립대학교</td>\n",
              "      <td>http://place.map.kakao.com/10498806</td>\n",
              "      <td>서울 동대문구 서울시립대로 163</td>\n",
              "      <td>127.05773316246166</td>\n",
              "      <td>37.584828300773886</td>\n",
              "      <td>POINT (127.05773 37.58483)</td>\n",
              "    </tr>\n",
              "    <tr>\n",
              "      <th>1</th>\n",
              "      <td>서울 동대문구 청량리동 207-43</td>\n",
              "      <td>SC4</td>\n",
              "      <td>학교</td>\n",
              "      <td>교육,학문 &gt; 학교 &gt; 대학교</td>\n",
              "      <td></td>\n",
              "      <td>17384594</td>\n",
              "      <td></td>\n",
              "      <td>KAIST 서울캠퍼스</td>\n",
              "      <td>http://place.map.kakao.com/17384594</td>\n",
              "      <td>서울 동대문구 회기로 85</td>\n",
              "      <td>127.04669593138594</td>\n",
              "      <td>37.5926754214934</td>\n",
              "      <td>POINT (127.04670 37.59268)</td>\n",
              "    </tr>\n",
              "    <tr>\n",
              "      <th>2</th>\n",
              "      <td>서울 중랑구 면목동 192-1</td>\n",
              "      <td>SC4</td>\n",
              "      <td>학교</td>\n",
              "      <td>교육,학문 &gt; 학교 &gt; 초등학교</td>\n",
              "      <td></td>\n",
              "      <td>7935892</td>\n",
              "      <td>02-437-4147</td>\n",
              "      <td>서울중랑초등학교</td>\n",
              "      <td>http://place.map.kakao.com/7935892</td>\n",
              "      <td>서울 중랑구 봉우재로6길 26</td>\n",
              "      <td>127.075444124256</td>\n",
              "      <td>37.5896133922662</td>\n",
              "      <td>POINT (127.07544 37.58961)</td>\n",
              "    </tr>\n",
              "    <tr>\n",
              "      <th>3</th>\n",
              "      <td>서울 동대문구 휘경동 43-7</td>\n",
              "      <td>SC4</td>\n",
              "      <td>학교</td>\n",
              "      <td>교육,학문 &gt; 학교 &gt; 고등학교</td>\n",
              "      <td></td>\n",
              "      <td>11198634</td>\n",
              "      <td>02-2244-8925</td>\n",
              "      <td>휘경여자고등학교</td>\n",
              "      <td>http://place.map.kakao.com/11198634</td>\n",
              "      <td>서울 동대문구 한천로 247</td>\n",
              "      <td>127.067336617711</td>\n",
              "      <td>37.5839276260158</td>\n",
              "      <td>POINT (127.06734 37.58393)</td>\n",
              "    </tr>\n",
              "    <tr>\n",
              "      <th>4</th>\n",
              "      <td>서울 동대문구 제기동 678</td>\n",
              "      <td>SC4</td>\n",
              "      <td>학교</td>\n",
              "      <td>교육,학문 &gt; 학교 &gt; 초등학교</td>\n",
              "      <td></td>\n",
              "      <td>7936102</td>\n",
              "      <td>02-967-8161</td>\n",
              "      <td>서울홍파초등학교</td>\n",
              "      <td>http://place.map.kakao.com/7936102</td>\n",
              "      <td>서울 동대문구 고산자로 518</td>\n",
              "      <td>127.039391444512</td>\n",
              "      <td>37.5861567023354</td>\n",
              "      <td>POINT (127.03939 37.58616)</td>\n",
              "    </tr>\n",
              "  </tbody>\n",
              "</table>\n",
              "</div>"
            ],
            "text/plain": [
              "          address_name category_group_code category_group_name  \\\n",
              "0      서울 동대문구 전농동 694                 SC4                  학교   \n",
              "1  서울 동대문구 청량리동 207-43                 SC4                  학교   \n",
              "2     서울 중랑구 면목동 192-1                 SC4                  학교   \n",
              "3     서울 동대문구 휘경동 43-7                 SC4                  학교   \n",
              "4      서울 동대문구 제기동 678                 SC4                  학교   \n",
              "\n",
              "       category_name distance        id         phone   place_name  \\\n",
              "0   교육,학문 > 학교 > 대학교           10498806  02-6490-6114      서울시립대학교   \n",
              "1   교육,학문 > 학교 > 대학교           17384594                KAIST 서울캠퍼스   \n",
              "2  교육,학문 > 학교 > 초등학교            7935892   02-437-4147     서울중랑초등학교   \n",
              "3  교육,학문 > 학교 > 고등학교           11198634  02-2244-8925     휘경여자고등학교   \n",
              "4  교육,학문 > 학교 > 초등학교            7936102   02-967-8161     서울홍파초등학교   \n",
              "\n",
              "                             place_url   road_address_name  \\\n",
              "0  http://place.map.kakao.com/10498806  서울 동대문구 서울시립대로 163   \n",
              "1  http://place.map.kakao.com/17384594      서울 동대문구 회기로 85   \n",
              "2   http://place.map.kakao.com/7935892    서울 중랑구 봉우재로6길 26   \n",
              "3  http://place.map.kakao.com/11198634     서울 동대문구 한천로 247   \n",
              "4   http://place.map.kakao.com/7936102    서울 동대문구 고산자로 518   \n",
              "\n",
              "                    x                   y                    geometry  \n",
              "0  127.05773316246166  37.584828300773886  POINT (127.05773 37.58483)  \n",
              "1  127.04669593138594    37.5926754214934  POINT (127.04670 37.59268)  \n",
              "2    127.075444124256    37.5896133922662  POINT (127.07544 37.58961)  \n",
              "3    127.067336617711    37.5839276260158  POINT (127.06734 37.58393)  \n",
              "4    127.039391444512    37.5861567023354  POINT (127.03939 37.58616)  "
            ]
          },
          "execution_count": 101,
          "metadata": {},
          "output_type": "execute_result"
        }
      ],
      "source": [
        "# 좌측 X 좌표, 좌측 Y 좌표, 우측 X 좌표, 우측 Y 좌표 형식\n",
        "bbox = \"127.03506145225234,37.5938114125238,127.08040487267098,37.57584518902397\"\n",
        "\n",
        "category_group_code = \"SC4\" # 학교\n",
        "\n",
        "places = get_places_by_category_with_rect(bbox, category_group_code, api_key)\n",
        "print(f\"매장 개수: {len(places)}개\")\n",
        "places = places.set_crs(epsg=4326)\n",
        "places.to_file(\"places_by_category_with_rect.gpkg\", driver=\"GPKG\")\n",
        "places.head()"
      ]
    },
    {
      "cell_type": "code",
      "execution_count": null,
      "id": "2fbe147b-f417-40d6-a766-dc30e39e2a10",
      "metadata": {
        "colab": {
          "referenced_widgets": [
            "67e5b0fbc85d468891423a67962f2095"
          ]
        },
        "id": "2fbe147b-f417-40d6-a766-dc30e39e2a10",
        "outputId": "09447b3d-f1f5-437f-ca76-064c6c77a06a"
      },
      "outputs": [
        {
          "data": {
            "application/vnd.jupyter.widget-view+json": {
              "model_id": "67e5b0fbc85d468891423a67962f2095",
              "version_major": 2,
              "version_minor": 0
            },
            "text/plain": [
              "Map(center=[37.584828300773886, 127.05773316246166], controls=(ZoomControl(options=['position', 'zoom_in_text'…"
            ]
          },
          "execution_count": 108,
          "metadata": {},
          "output_type": "execute_result"
        }
      ],
      "source": [
        "# GeoPandas 레이어를 GeoData로 변환\n",
        "geo_data = GeoData(\n",
        "    geo_dataframe=places,\n",
        "    point_style={\n",
        "        'radius': 7,  # 점 크기\n",
        "        'color': 'darkblue',  # 색상\n",
        "        'fillOpacity': 0.7,  # 투명도\n",
        "        'fillColor': 'lightblue',  # 점 내부 색상\n",
        "        'weight': 2  # 점 테두리\n",
        "    },\n",
        "    name='학교'  # 레이어 이름\n",
        ")\n",
        "\n",
        "# Rectangle(사각형) 생성\n",
        "bbox_values = [float(val) for val in bbox.split(\",\")]\n",
        "\n",
        "# ((최소 위도, 최소 경도), (최대 위도, 최대 경도))\n",
        "bbox_bounds = ((bbox_values[1], bbox_values[0]), (bbox_values[3], bbox_values[2]))\n",
        "rectangle = Rectangle(bounds=bbox_bounds, color=\"red\", fill_opacity=0.2)\n",
        "\n",
        "# bbox_bounds에서 중앙 좌표 계산\n",
        "center_lat = (bbox_bounds[0][0] + bbox_bounds[1][0]) / 2\n",
        "center_lon = (bbox_bounds[0][1] + bbox_bounds[1][1]) / 2\n",
        "\n",
        "# 지도 생성 (Vworld 백지도 사용)\n",
        "m = Map(center=coordinate,\n",
        "        zoom=14,\n",
        "        layers=[vworld_white],\n",
        "        layout={'width': '800px', 'height': '500px'})\n",
        "\n",
        "m.add_layer(marker)\n",
        "m.add_layer(rectangle)\n",
        "m.add_layer(geo_data)\n",
        "m"
      ]
    },
    {
      "cell_type": "code",
      "execution_count": null,
      "id": "0c341d17-0e0d-4500-b9f2-bf657cbc45e6",
      "metadata": {
        "id": "0c341d17-0e0d-4500-b9f2-bf657cbc45e6"
      },
      "outputs": [],
      "source": []
    }
  ],
  "metadata": {
    "kernelspec": {
      "display_name": "Python 3 (ipykernel)",
      "language": "python",
      "name": "python3"
    },
    "language_info": {
      "codemirror_mode": {
        "name": "ipython",
        "version": 3
      },
      "file_extension": ".py",
      "mimetype": "text/x-python",
      "name": "python",
      "nbconvert_exporter": "python",
      "pygments_lexer": "ipython3",
      "version": "3.10.11"
    },
    "colab": {
      "provenance": [],
      "include_colab_link": true
    }
  },
  "nbformat": 4,
  "nbformat_minor": 5
}