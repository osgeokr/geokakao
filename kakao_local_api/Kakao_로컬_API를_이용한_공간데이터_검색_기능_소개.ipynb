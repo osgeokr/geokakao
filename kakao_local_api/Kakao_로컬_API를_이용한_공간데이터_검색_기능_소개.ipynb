{
  "cells": [
    {
      "cell_type": "markdown",
      "metadata": {
        "id": "view-in-github",
        "colab_type": "text"
      },
      "source": [
        "<a href=\"https://colab.research.google.com/github/osgeokr/geokakao/blob/main/kakao_local_api/Kakao_%EB%A1%9C%EC%BB%AC_API%EB%A5%BC_%EC%9D%B4%EC%9A%A9%ED%95%9C_%EA%B3%B5%EA%B0%84%EB%8D%B0%EC%9D%B4%ED%84%B0_%EA%B2%80%EC%83%89_%EA%B8%B0%EB%8A%A5_%EC%86%8C%EA%B0%9C.ipynb\" target=\"_parent\"><img src=\"https://colab.research.google.com/assets/colab-badge.svg\" alt=\"Open In Colab\"/></a>"
      ]
    },
    {
      "cell_type": "markdown",
      "id": "ed60806e-2404-422f-a943-2b7648a6d301",
      "metadata": {
        "id": "ed60806e-2404-422f-a943-2b7648a6d301"
      },
      "source": [
        "# Kakao 로컬 API를 이용한 공간데이터 검색 기능 소개\n",
        "\n",
        "이번 코드 실습은 [Kakao 로컬 API](https://developers.kakao.com/docs/latest/ko/local/common)를 이용한 공간데이터 검색 기능을 학습해 봅니다. 공간데이터를 검색한 후 지도로 가시화하는 영역은 [ipyleaflet](https://ipyleaflet.readthedocs.io/en/latest/)을 통해 구현해 보겠습니다. 먼저 필요한 라이브러리들을 불러온 후, [Kakao Developers](https://developers.kakao.com/)에서 인증받은 REST API 키를 지정합니다."
      ]
    },
    {
      "cell_type": "code",
      "execution_count": 13,
      "id": "8363c72f-9ad3-4b16-a5c2-a07bd045a502",
      "metadata": {
        "id": "8363c72f-9ad3-4b16-a5c2-a07bd045a502"
      },
      "outputs": [],
      "source": [
        "import requests\n",
        "import geopandas as gpd\n",
        "from ipyleaflet import Map, TileLayer, Marker, GeoData, Circle, Rectangle, Heatmap"
      ]
    },
    {
      "cell_type": "code",
      "execution_count": 16,
      "id": "e8b5356f-3265-453c-869d-72fe5ffe2d81",
      "metadata": {
        "id": "e8b5356f-3265-453c-869d-72fe5ffe2d81"
      },
      "outputs": [],
      "source": [
        "api_key = '57bb1cdf403802631778c8835c733a89'"
      ]
    },
    {
      "cell_type": "markdown",
      "id": "f9ade5dc-ea9c-4eca-8b9c-28cd74616256",
      "metadata": {
        "id": "f9ade5dc-ea9c-4eca-8b9c-28cd74616256"
      },
      "source": [
        "## 키워드로 좌표 검색하기\n",
        "\n",
        "특정 키워드로 해당 좌표를 검색해볼 수 있습니다. 예를 들면, '서울시립대학교'를 키워드로 해당 좌표를 검색해서 반환할 수 있습니다. 여기서는 검색 결과가 여러 개일 때 첫번째 검색 결과의 좌표만 반환하도록 설정하였습니다."
      ]
    },
    {
      "cell_type": "code",
      "execution_count": 17,
      "id": "b08f9cf8-1b4f-471d-9a56-02b0a7955941",
      "metadata": {
        "id": "b08f9cf8-1b4f-471d-9a56-02b0a7955941",
        "outputId": "121dc0df-3347-423b-cdae-be6767a18fd6",
        "colab": {
          "base_uri": "https://localhost:8080/"
        }
      },
      "outputs": [
        {
          "output_type": "stream",
          "name": "stdout",
          "text": [
            "Error: HTTP status code 429\n",
            "None\n"
          ]
        }
      ],
      "source": [
        "def get_coordinate(keyword, api_key):\n",
        "    # 키워드로 좌표 검색하기\n",
        "    url = f'https://dapi.kakao.com/v2/local/search/keyword.json?query={keyword}'\n",
        "    headers = {'Authorization': f'KakaoAK {api_key}'}\n",
        "    response = requests.get(url, headers=headers)\n",
        "\n",
        "    # HTTP 상태 코드 체크\n",
        "    if response.status_code != 200:\n",
        "        print(f'Error: HTTP status code {response.status_code}')\n",
        "        return None\n",
        "\n",
        "    data = response.json()\n",
        "    if data['meta']['total_count'] > 0:\n",
        "        # 첫 번째 검색 결과의 좌표만 반환\n",
        "        return float(data['documents'][0]['y']), float(data['documents'][0]['x'])\n",
        "    else:\n",
        "        return None\n",
        "\n",
        "keyword = \"서울시립대학교\"\n",
        "coordinate = get_coordinate(keyword, api_key)\n",
        "print(coordinate)"
      ]
    },
    {
      "cell_type": "code",
      "execution_count": null,
      "id": "ac5d4df9-f779-40da-b1f7-3fe632363694",
      "metadata": {
        "id": "ac5d4df9-f779-40da-b1f7-3fe632363694"
      },
      "outputs": [],
      "source": [
        "# Vworld 백지도 객체\n",
        "vworld_white = TileLayer(\n",
        "    url='https://xdworld.vworld.kr/2d/white/service/{z}/{x}/{y}.png',\n",
        "    name='Vworld White',\n",
        "    attribution='Vworld'\n",
        ")\n",
        "\n",
        "# 지도 생성 (Vworld 백지도 사용)\n",
        "m = Map(center=coordinate,\n",
        "        zoom=16,\n",
        "        layers=[vworld_white],\n",
        "        layout={'width': '800px', 'height': '500px'})\n",
        "\n",
        "marker = Marker(location=coordinate, draggable=False)\n",
        "m.add_layer(marker)\n",
        "m"
      ]
    },
    {
      "cell_type": "markdown",
      "id": "4c7c56c3-743b-4bf4-b980-ad1098cf43ff",
      "metadata": {
        "id": "4c7c56c3-743b-4bf4-b980-ad1098cf43ff"
      },
      "source": [
        "## 정해진 반경에서 질의로 장소 검색하기\n",
        "\n",
        "지정한 좌표로부터 일정 반경으로 버퍼를 설정하고, 해당 범위 내에서 장소를 검색해볼 수 있습니다. 예를 들면 앞서 검색된 서울시립대학교 위치를 중앙좌표로 하여 20km 버퍼를 적용한 후, 해당 지역 내 교보문고 매장을 검색해볼 수 있습니다. 참고로 반경의 최대값은 20km이며 튜플은 한번에 최대 45개까지 제공됩니다."
      ]
    },
    {
      "cell_type": "code",
      "execution_count": null,
      "id": "d70db218-730c-480b-9e4d-4cb4fbb1b9c6",
      "metadata": {
        "id": "d70db218-730c-480b-9e4d-4cb4fbb1b9c6"
      },
      "outputs": [],
      "source": [
        "def get_places_by_query(coordinate, radius, query, api_key):\n",
        "    # 정해진 반경에서 이름으로 장소 검색\n",
        "    url = \"https://dapi.kakao.com/v2/local/search/keyword.json\"\n",
        "    headers = {\"Authorization\": f\"KakaoAK {api_key}\"}\n",
        "    params = {\"query\": query,\n",
        "              \"x\": coordinate[1],\n",
        "              \"y\": coordinate[0],\n",
        "              \"radius\": radius}\n",
        "\n",
        "    places = []\n",
        "    while True:\n",
        "        response = requests.get(url, headers=headers, params=params)\n",
        "        data = response.json()\n",
        "        places.extend(data.get(\"documents\", []))\n",
        "        if data[\"meta\"][\"is_end\"]:\n",
        "            break\n",
        "        else:\n",
        "            params[\"page\"] = params.get(\"page\", 1) + 1\n",
        "    return gpd.GeoDataFrame(\n",
        "        places,\n",
        "        geometry=gpd.points_from_xy(\n",
        "            [place[\"x\"] for place in places], [place[\"y\"] for place in places]\n",
        "        ),\n",
        "    )\n",
        "\n",
        "radius = 20000\n",
        "query = \"교보문고\"\n",
        "\n",
        "places = get_places_by_query(coordinate, radius, query, api_key)\n",
        "print(f\"매장 개수: {len(places)}개\")\n",
        "places.head(1)"
      ]
    },
    {
      "cell_type": "markdown",
      "source": [
        "교보문고를 검색했지만 모든 검색결과가 교보문고 매장을 가리키는 것은 아닙니다. 따라서 일부 컬럼에 필터링을 적용해서 원하는 튜플만을 선택해 볼 수 있습니다. 그리고 이것을 GPKG와 같은 공간데이터 포맷으로 저장하여 QGIS와 같은 다른 SW에서 사용하는 것도 가능하겠습니다."
      ],
      "metadata": {
        "id": "awX-fftyR_9V"
      },
      "id": "awX-fftyR_9V"
    },
    {
      "cell_type": "code",
      "execution_count": null,
      "id": "f6e5e0f9-72e0-4153-8a50-b04eabaffaf7",
      "metadata": {
        "id": "f6e5e0f9-72e0-4153-8a50-b04eabaffaf7"
      },
      "outputs": [],
      "source": [
        "# 필터링\n",
        "places = places[\n",
        "    places[\"category_name\"] == \"문화,예술 > 도서 > 서점 > 교보문고\"\n",
        "]\n",
        "print(f\"매장 개수: {len(places)}개\")\n",
        "places = places.set_crs(epsg=4326)\n",
        "places.to_file(\"places_by_query.gpkg\", driver=\"GPKG\")\n",
        "places.head(1)"
      ]
    },
    {
      "cell_type": "markdown",
      "source": [
        "검색결과는 GeoData 객체로 변환합니다."
      ],
      "metadata": {
        "id": "xVkn14OsSZl8"
      },
      "id": "xVkn14OsSZl8"
    },
    {
      "cell_type": "code",
      "execution_count": null,
      "id": "6569208c-fd46-41ac-a5e5-2c6da385af07",
      "metadata": {
        "id": "6569208c-fd46-41ac-a5e5-2c6da385af07"
      },
      "outputs": [],
      "source": [
        "# GeoPandas 레이어를 GeoData로 변환\n",
        "geo_data = GeoData(\n",
        "    geo_dataframe=places,\n",
        "    point_style={\n",
        "        'radius': 7,  # 점 크기\n",
        "        'color': 'darkblue',  # 색상\n",
        "        'fillOpacity': 0.7,  # 투명도\n",
        "        'fillColor': 'lightblue',  # 점 내부 색상\n",
        "        'weight': 2  # 점 테두리\n",
        "    },\n",
        "    name='교보문고'  # 레이어 이름\n",
        ")"
      ]
    },
    {
      "cell_type": "markdown",
      "source": [
        "검색 반경도 Circle로 생성해 보겠습니다."
      ],
      "metadata": {
        "id": "agnf0KtrSd4A"
      },
      "id": "agnf0KtrSd4A"
    },
    {
      "cell_type": "code",
      "execution_count": null,
      "id": "1f3e7a53-f1a3-4d50-b8e1-3de65a936915",
      "metadata": {
        "id": "1f3e7a53-f1a3-4d50-b8e1-3de65a936915"
      },
      "outputs": [],
      "source": [
        "# Circle 생성\n",
        "circle = Circle()\n",
        "circle.location = coordinate  # 원의 중심 좌표\n",
        "circle.radius = radius  # 원의 반경\n",
        "circle.color = \"red\"  # 원의 테두리 색상\n",
        "circle.fill_color = \"red\"  # 원의 내부 색상\n",
        "circle.fill_opacity = 0.5  # 원의 내부 투명도"
      ]
    },
    {
      "cell_type": "markdown",
      "source": [
        "이제 지도를 생성합니다. 검색 반경 내에 교보문고 매장 위치를 확인하실 수 있습니다."
      ],
      "metadata": {
        "id": "XZTFvBBASlN9"
      },
      "id": "XZTFvBBASlN9"
    },
    {
      "cell_type": "code",
      "execution_count": null,
      "id": "a8560bc1-45b4-43c6-a37d-d4ccdf46df51",
      "metadata": {
        "id": "a8560bc1-45b4-43c6-a37d-d4ccdf46df51"
      },
      "outputs": [],
      "source": [
        "# 지도 생성 (Vworld 백지도 사용)\n",
        "m = Map(center=coordinate,\n",
        "        zoom=11,\n",
        "        layers=[vworld_white],\n",
        "        layout={'width': '800px', 'height': '500px'})\n",
        "\n",
        "m.add_layer(marker)\n",
        "m.add_layer(circle)\n",
        "m.add_layer(geo_data)\n",
        "m"
      ]
    },
    {
      "cell_type": "markdown",
      "id": "3ea002fb-fc40-4329-9059-b829b3cc9004",
      "metadata": {
        "id": "3ea002fb-fc40-4329-9059-b829b3cc9004"
      },
      "source": [
        "## 정해진 반경에서 카테고리로 장소 검색하기\n",
        "\n",
        "카카오 로컬 API는 정해진 반경 내에서 카테고리로 장소를 검색해볼 수 있습니다. 대형마트, 편의점, 어린이집, 유치원, 학교 등 다양한 카테고리로 확인이 가능합니다. 여기서는 서울시립대학교로부터 반경 500m 이내 어린이집, 유치원을 검색해 보겠습니다.\n",
        "\n",
        "| 이름 | MT1 | CS2 | PS3 | SC4 | AC5 | PK6 | OL7 | SW8 | BK9 | CT1 | AG2 | PO3 | AT4 | AD5 | FD6 | CE7 | HP8 | PM9 |\n",
        "|------|------|------|------|------|------|------|------|------|------|------|------|------|------|------|------|------|------|------|\n",
        "| 설명 | 대형마트 | 편의점 | 어린이집, 유치원 | 학교 | 학원 | 주차장 | 주유소, 충전소 | 지하철역 | 은행 | 문화시설 | 중개업소 | 공공기관 | 관광명소 | 숙박 | 음식점 | 카페 | 병원 | 약국 |"
      ]
    },
    {
      "cell_type": "code",
      "execution_count": null,
      "id": "97a3cf01-c712-4135-a13d-75b8a9881488",
      "metadata": {
        "id": "97a3cf01-c712-4135-a13d-75b8a9881488"
      },
      "outputs": [],
      "source": [
        "def get_places_by_category(coordinate, radius, category_group_code, api_key):\n",
        "    # 정해진 반경에서 카테고리로 장소 검색\n",
        "    url = \"https://dapi.kakao.com/v2/local/search/category.json\"\n",
        "    headers = {\"Authorization\": f\"KakaoAK {api_key}\"}\n",
        "    params = {\"category_group_code\": category_group_code,\n",
        "              \"x\": coordinate[1],\n",
        "              \"y\": coordinate[0],\n",
        "              \"radius\": radius}\n",
        "\n",
        "    places = []\n",
        "    while True:\n",
        "        response = requests.get(url, headers=headers, params=params)\n",
        "        data = response.json()\n",
        "        places.extend(data.get(\"documents\", []))\n",
        "        if data[\"meta\"][\"is_end\"]:\n",
        "            break\n",
        "        else:\n",
        "            params[\"page\"] = params.get(\"page\", 1) + 1\n",
        "    return gpd.GeoDataFrame(\n",
        "        places,\n",
        "        geometry=gpd.points_from_xy(\n",
        "            [place[\"x\"] for place in places], [place[\"y\"] for place in places]\n",
        "        ),\n",
        "    )\n",
        "\n",
        "radius = 500\n",
        "category_group_code = \"PS3\"  # 어린이집,유치원\n",
        "\n",
        "places = get_places_by_category(coordinate, radius, category_group_code, api_key)\n",
        "print(f\"매장 개수: {len(places)}개\")\n",
        "places = places.set_crs(epsg=4326)\n",
        "places.to_file(\"places_by_category.gpkg\", driver=\"GPKG\")\n",
        "places.head(1)"
      ]
    },
    {
      "cell_type": "code",
      "execution_count": null,
      "id": "8d63e52a-aa65-4051-850a-f2ee1169a89d",
      "metadata": {
        "id": "8d63e52a-aa65-4051-850a-f2ee1169a89d"
      },
      "outputs": [],
      "source": [
        "# GeoPandas 레이어를 GeoData로 변환\n",
        "geo_data = GeoData(\n",
        "    geo_dataframe=places,\n",
        "    point_style={\n",
        "        'radius': 7,  # 점 크기\n",
        "        'color': 'darkblue',  # 색상\n",
        "        'fillOpacity': 0.7,  # 투명도\n",
        "        'fillColor': 'lightblue',  # 점 내부 색상\n",
        "        'weight': 2  # 점 테두리\n",
        "    },\n",
        "    name='어린이집, 유치원'  # 레이어 이름\n",
        ")\n",
        "\n",
        "# Circle 생성\n",
        "circle = Circle()\n",
        "circle.location = coordinate  # 원의 중심 좌표\n",
        "circle.radius = radius  # 원의 반경\n",
        "circle.color = \"red\"  # 원의 테두리 색상\n",
        "circle.fill_color = \"red\"  # 원의 내부 색상\n",
        "circle.fill_opacity = 0.5  # 원의 내부 투명도\n",
        "\n",
        "# 지도 생성 (Vworld 백지도 사용)\n",
        "m = Map(center=coordinate,\n",
        "        zoom=16,\n",
        "        layers=[vworld_white],\n",
        "        layout={'width': '800px', 'height': '500px'})\n",
        "\n",
        "m.add_layer(marker)\n",
        "m.add_layer(circle)\n",
        "m.add_layer(geo_data)\n",
        "m"
      ]
    },
    {
      "cell_type": "markdown",
      "id": "a480672b-9524-4459-81a5-4f36261cb105",
      "metadata": {
        "id": "a480672b-9524-4459-81a5-4f36261cb105"
      },
      "source": [
        "## 사각형 범위 내에서 제한 검색하기\n",
        "\n",
        "검색 반경을 사각형 범위로 바꾸는 것도 가능합니다. 좌측 X 좌표, 좌측 Y 좌표, 우측 X 좌표, 우측 Y 좌표 형식으로 조회하면 됩니다."
      ]
    },
    {
      "cell_type": "code",
      "execution_count": null,
      "id": "5af59e97-1e5b-422e-a950-8d8610186ed0",
      "metadata": {
        "id": "5af59e97-1e5b-422e-a950-8d8610186ed0"
      },
      "outputs": [],
      "source": [
        "def get_places_by_category_with_rect(bbox, category_group_code, api_key):\n",
        "    # 사각형 영역에서 카테고리로 장소 검색\n",
        "    url = \"https://dapi.kakao.com/v2/local/search/category.json\"\n",
        "    headers = {\"Authorization\": f\"KakaoAK {api_key}\"}\n",
        "\n",
        "    params = {\"category_group_code\": category_group_code,\n",
        "              \"rect\": bbox}\n",
        "\n",
        "    places = []\n",
        "    while True:\n",
        "        response = requests.get(url, headers=headers, params=params)\n",
        "        data = response.json()\n",
        "        places.extend(data.get(\"documents\", []))\n",
        "        if data[\"meta\"][\"is_end\"]:\n",
        "            break\n",
        "        else:\n",
        "            params[\"page\"] = params.get(\"page\", 1) + 1\n",
        "\n",
        "    return gpd.GeoDataFrame(\n",
        "        places,\n",
        "        geometry=gpd.points_from_xy(\n",
        "            [float(place[\"x\"]) for place in places], [float(place[\"y\"]) for place in places]\n",
        "        ),\n",
        "    )"
      ]
    },
    {
      "cell_type": "code",
      "execution_count": null,
      "id": "ca796fa9-e35a-4951-bd96-3c8166050e85",
      "metadata": {
        "id": "ca796fa9-e35a-4951-bd96-3c8166050e85"
      },
      "outputs": [],
      "source": [
        "# 좌측 X 좌표, 좌측 Y 좌표, 우측 X 좌표, 우측 Y 좌표 형식\n",
        "bbox = \"127.03506145225234,37.5938114125238,127.08040487267098,37.57584518902397\"\n",
        "\n",
        "category_group_code = \"SC4\" # 학교\n",
        "\n",
        "places = get_places_by_category_with_rect(bbox, category_group_code, api_key)\n",
        "print(f\"매장 개수: {len(places)}개\")\n",
        "places = places.set_crs(epsg=4326)\n",
        "places.to_file(\"places_by_category_with_rect.gpkg\", driver=\"GPKG\")\n",
        "places.head(1)"
      ]
    },
    {
      "cell_type": "code",
      "execution_count": null,
      "id": "2fbe147b-f417-40d6-a766-dc30e39e2a10",
      "metadata": {
        "id": "2fbe147b-f417-40d6-a766-dc30e39e2a10"
      },
      "outputs": [],
      "source": [
        "# GeoPandas 레이어를 GeoData로 변환\n",
        "geo_data = GeoData(\n",
        "    geo_dataframe=places,\n",
        "    point_style={\n",
        "        'radius': 7,  # 점 크기\n",
        "        'color': 'darkblue',  # 색상\n",
        "        'fillOpacity': 0.7,  # 투명도\n",
        "        'fillColor': 'lightblue',  # 점 내부 색상\n",
        "        'weight': 2  # 점 테두리\n",
        "    },\n",
        "    name='학교'  # 레이어 이름\n",
        ")\n",
        "\n",
        "# Rectangle(사각형) 생성\n",
        "bbox_values = [float(val) for val in bbox.split(\",\")]\n",
        "\n",
        "# ((최소 위도, 최소 경도), (최대 위도, 최대 경도))\n",
        "bbox_bounds = ((bbox_values[1], bbox_values[0]), (bbox_values[3], bbox_values[2]))\n",
        "rectangle = Rectangle(bounds=bbox_bounds, color=\"red\", fill_opacity=0.2)\n",
        "\n",
        "# bbox_bounds에서 중앙 좌표 계산\n",
        "center_lat = (bbox_bounds[0][0] + bbox_bounds[1][0]) / 2\n",
        "center_lon = (bbox_bounds[0][1] + bbox_bounds[1][1]) / 2\n",
        "\n",
        "# 지도 생성 (Vworld 백지도 사용)\n",
        "m = Map(center=coordinate,\n",
        "        zoom=14,\n",
        "        layers=[vworld_white],\n",
        "        layout={'width': '800px', 'height': '500px'})\n",
        "\n",
        "m.add_layer(marker)\n",
        "m.add_layer(rectangle)\n",
        "m.add_layer(geo_data)\n",
        "m"
      ]
    },
    {
      "cell_type": "markdown",
      "source": [
        "검색하고자 하는 영역이 넓은 경우에는 전체 영역을 적정하게 분할하여 데이터를 수집한 후, 중복성을 제거하는 방식으로 병합하면 될 것 같습니다."
      ],
      "metadata": {
        "id": "Pcptg4TuUXYb"
      },
      "id": "Pcptg4TuUXYb"
    },
    {
      "cell_type": "code",
      "source": [
        "from ipyleaflet import Heatmap, Map\n",
        "\n",
        "# 예시 위치 데이터\n",
        "locations = [(37.77, -122.42, 1), (37.76, -122.43, 2), (37.75, -122.44, 3)]\n",
        "\n",
        "# Heatmap 레이어 생성, gradient 옵션에 RGBA 색상 코드 포함\n",
        "heatmap = Heatmap(\n",
        "    locations=marker,\n",
        "    radius=20000,\n",
        "    gradient={\n",
        "        0.2: 'rgba(0, 0, 255, 0.4)', # 푸른색, 낮은 투명도\n",
        "        0.4: 'rgba(0, 255, 255, 0.4)', # 청록색, 중간 투명도\n",
        "        0.6: 'rgba(0, 255, 0, 0.4)', # 녹색, 높은 투명도\n",
        "        0.8: 'rgba(255, 255, 0, 0.4)', # 노란색, 더 높은 투명도\n",
        "        1.0: 'rgba(255, 0, 0, 0.4)' # 빨간색, 투명도 없음\n",
        "    }\n",
        ")\n",
        "\n",
        "# 지도 생성 및 Heatmap 레이어 추가\n",
        "m = Map(center=(37.76, -122.45), zoom=12)\n",
        "m.add_layer(heatmap)\n",
        "\n",
        "m"
      ],
      "metadata": {
        "id": "CNBVz5wyUmKd"
      },
      "id": "CNBVz5wyUmKd",
      "execution_count": null,
      "outputs": []
    },
    {
      "cell_type": "code",
      "source": [
        "from ipyleaflet import Map, Heatmap\n",
        "from random import uniform\n",
        "m = Map(center=(0, 0), zoom=2)\n",
        "\n",
        "heatmap = Heatmap(\n",
        "    locations=[[uniform(-80, 80), uniform(-180, 180), uniform(0, 1000)] for i in range(1000)],\n",
        "    radius=50\n",
        ")\n",
        "\n",
        "m.add(heatmap);\n",
        "\n",
        "m"
      ],
      "metadata": {
        "id": "L8cXski-s4zk"
      },
      "id": "L8cXski-s4zk",
      "execution_count": null,
      "outputs": []
    },
    {
      "cell_type": "code",
      "source": [],
      "metadata": {
        "id": "eNX7dfoRrqDk"
      },
      "id": "eNX7dfoRrqDk",
      "execution_count": null,
      "outputs": []
    }
  ],
  "metadata": {
    "kernelspec": {
      "display_name": "Python 3 (ipykernel)",
      "language": "python",
      "name": "python3"
    },
    "language_info": {
      "codemirror_mode": {
        "name": "ipython",
        "version": 3
      },
      "file_extension": ".py",
      "mimetype": "text/x-python",
      "name": "python",
      "nbconvert_exporter": "python",
      "pygments_lexer": "ipython3",
      "version": "3.10.11"
    },
    "colab": {
      "provenance": [],
      "include_colab_link": true
    }
  },
  "nbformat": 4,
  "nbformat_minor": 5
}