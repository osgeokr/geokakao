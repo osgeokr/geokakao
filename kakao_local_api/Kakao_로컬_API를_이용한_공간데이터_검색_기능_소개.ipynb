{
  "cells": [
    {
      "cell_type": "markdown",
      "metadata": {
        "id": "view-in-github",
        "colab_type": "text"
      },
      "source": [
        "<a href=\"https://colab.research.google.com/github/osgeokr/geokakao/blob/main/kakao_local_api/Kakao_%EB%A1%9C%EC%BB%AC_API%EB%A5%BC_%EC%9D%B4%EC%9A%A9%ED%95%9C_%EA%B3%B5%EA%B0%84%EB%8D%B0%EC%9D%B4%ED%84%B0_%EA%B2%80%EC%83%89_%EA%B8%B0%EB%8A%A5_%EC%86%8C%EA%B0%9C.ipynb\" target=\"_parent\"><img src=\"https://colab.research.google.com/assets/colab-badge.svg\" alt=\"Open In Colab\"/></a>"
      ]
    },
    {
      "cell_type": "markdown",
      "id": "ed60806e-2404-422f-a943-2b7648a6d301",
      "metadata": {
        "id": "ed60806e-2404-422f-a943-2b7648a6d301"
      },
      "source": [
        "# Kakao 로컬 API를 이용한 공간데이터 검색 기능 소개\n",
        "\n",
        "이번 코드 실습은 [Kakao 로컬 API](https://developers.kakao.com/docs/latest/ko/local/common)를 이용한 공간데이터 검색 기능을 학습해 봅니다. 공간데이터를 검색한 이후에 지도로 가시화하는 영역은 [ipyleaflet](https://ipyleaflet.readthedocs.io/en/latest/)을 통해 구현해 보겠습니다. 먼저 필요한 라이브러리들을 불러온 후, [Kakao Developers](https://developers.kakao.com/)에서 인증받은 REST API 키를 지정합니다.\n",
        "> Note: REST API는 Representational State Transfer Application Programming Interface의 약자로, 네트워크 기반 소프트웨어 시스템 간에 자원을 교환하기 위한 소프트웨어 인터페이스를 의미합니다. REST API는 웹 서비스에서 자주 사용되며, 클라이언트와 서버 간의 통신을 위한 표준적인 방법을 제공합니다."
      ]
    },
    {
      "cell_type": "code",
      "execution_count": null,
      "id": "8363c72f-9ad3-4b16-a5c2-a07bd045a502",
      "metadata": {
        "id": "8363c72f-9ad3-4b16-a5c2-a07bd045a502"
      },
      "outputs": [],
      "source": [
        "import requests\n",
        "import geopandas as gpd\n",
        "from ipyleaflet import Map, TileLayer, Marker, GeoData, Circle, Rectangle"
      ]
    },
    {
      "cell_type": "code",
      "execution_count": null,
      "id": "e8b5356f-3265-453c-869d-72fe5ffe2d81",
      "metadata": {
        "id": "e8b5356f-3265-453c-869d-72fe5ffe2d81"
      },
      "outputs": [],
      "source": [
        "api_key = 'my-api-key'"
      ]
    },
    {
      "cell_type": "markdown",
      "id": "f9ade5dc-ea9c-4eca-8b9c-28cd74616256",
      "metadata": {
        "id": "f9ade5dc-ea9c-4eca-8b9c-28cd74616256"
      },
      "source": [
        "## 키워드로 좌표 검색하기\n",
        "\n",
        "특정 키워드로 해당 좌표를 검색해볼 수 있습니다. 예를 들면, '서울시립대학교'를 키워드로 해당 좌표를 검색해서 반환할 수 있습니다. 여기서는 검색 결과가 여러 개일 때는 첫번째 검색 결과의 좌표만 반환하도록 설정하였습니다."
      ]
    },
    {
      "cell_type": "code",
      "execution_count": null,
      "id": "b08f9cf8-1b4f-471d-9a56-02b0a7955941",
      "metadata": {
        "id": "b08f9cf8-1b4f-471d-9a56-02b0a7955941",
        "outputId": "deaa8bc5-ab67-4b73-e2e2-c0bc35e88e16",
        "colab": {
          "base_uri": "https://localhost:8080/"
        }
      },
      "outputs": [
        {
          "output_type": "stream",
          "name": "stdout",
          "text": [
            "(37.584828300773886, 127.05773316246166)\n"
          ]
        }
      ],
      "source": [
        "def get_coordinate(keyword, api_key=api_key):\n",
        "    # 키워드로 좌표 검색하기\n",
        "    url = f'https://dapi.kakao.com/v2/local/search/keyword.json?query={keyword}'\n",
        "    headers = {'Authorization': f'KakaoAK {api_key}'}\n",
        "    response = requests.get(url, headers=headers)\n",
        "    data = response.json()\n",
        "    if data['meta']['total_count'] > 0:\n",
        "        # 첫 번째 검색 결과의 좌표만 반환\n",
        "        return float(data['documents'][0]['y']), float(data['documents'][0]['x'])\n",
        "    else:\n",
        "        return None\n",
        "\n",
        "keyword = \"서울시립대학교\"\n",
        "coordinate = get_coordinate(keyword)\n",
        "print(coordinate)"
      ]
    },
    {
      "cell_type": "code",
      "execution_count": null,
      "id": "ac5d4df9-f779-40da-b1f7-3fe632363694",
      "metadata": {
        "id": "ac5d4df9-f779-40da-b1f7-3fe632363694",
        "outputId": "c8635595-b55e-44aa-8577-6f2e07b2b161",
        "colab": {
          "base_uri": "https://localhost:8080/",
          "height": 521,
          "referenced_widgets": [
            "3f24b8f4e2e0481fafb12912bd8eea96",
            "fb7f91d026a94c5799b83b09fa469f25",
            "8251b1521b864c4695e77409148e7116",
            "784a60f7e7b64fcba75fb209d54eacd0",
            "f5a7f68c3fac40b8b78be658131075af",
            "97dfa0d0d57e464b8be56052b9705a52",
            "98a57b6833a54673a045f6eee09db342",
            "89f390467e5e47aaa687be4ae758225c",
            "5db32217e06142b18baf72ce29ad8156"
          ]
        }
      },
      "outputs": [
        {
          "output_type": "display_data",
          "data": {
            "text/plain": [
              "Map(center=[37.584828300773886, 127.05773316246166], controls=(ZoomControl(options=['position', 'zoom_in_text'…"
            ],
            "application/vnd.jupyter.widget-view+json": {
              "version_major": 2,
              "version_minor": 0,
              "model_id": "3f24b8f4e2e0481fafb12912bd8eea96"
            }
          },
          "metadata": {
            "application/vnd.jupyter.widget-view+json": {
              "colab": {
                "custom_widget_manager": {
                  "url": "https://ssl.gstatic.com/colaboratory-static/widgets/colab-cdn-widget-manager/2b70e893a8ba7c0f/manager.min.js"
                }
              }
            }
          }
        }
      ],
      "source": [
        "# Vworld 백지도 객체\n",
        "vworld_white = TileLayer(\n",
        "    url='https://xdworld.vworld.kr/2d/white/service/{z}/{x}/{y}.png',\n",
        "    name='Vworld White',\n",
        "    attribution='Vworld'\n",
        ")\n",
        "\n",
        "# 지도 생성 (Vworld 백지도 사용)\n",
        "m = Map(center=coordinate,\n",
        "        zoom=16,\n",
        "        layers=[vworld_white],\n",
        "        layout={'width': '800px', 'height': '500px'})\n",
        "\n",
        "marker = Marker(location=coordinate, draggable=False)\n",
        "m.add_layer(marker)\n",
        "m"
      ]
    },
    {
      "cell_type": "markdown",
      "id": "4c7c56c3-743b-4bf4-b980-ad1098cf43ff",
      "metadata": {
        "id": "4c7c56c3-743b-4bf4-b980-ad1098cf43ff"
      },
      "source": [
        "## 정해진 반경에서 질의로 장소 검색하기\n",
        "\n",
        "지정한 좌표로부터 일정 반경으로 버퍼를 설정하고, 해당 범위 내에서 장소를 검색해볼 수 있습니다. 예를 들면 앞서 검색된 서울시립대학교 위치를 중앙좌표로 하여 20km 버퍼를 적용한 후, 해당 지역 내 교보문고 매장을 검색해볼 수 있습니다. 참고로 반경의 최대값은 20km이며 튜플은 한번에 최대 45개까지 제공됩니다."
      ]
    },
    {
      "cell_type": "code",
      "execution_count": null,
      "id": "d70db218-730c-480b-9e4d-4cb4fbb1b9c6",
      "metadata": {
        "id": "d70db218-730c-480b-9e4d-4cb4fbb1b9c6",
        "outputId": "94ed8b76-ed35-4e42-aaf1-1b27d25da5de",
        "colab": {
          "base_uri": "https://localhost:8080/",
          "height": 153
        }
      },
      "outputs": [
        {
          "output_type": "stream",
          "name": "stdout",
          "text": [
            "매장 개수: 45개\n"
          ]
        },
        {
          "output_type": "execute_result",
          "data": {
            "text/plain": [
              "         address_name category_group_code category_group_name  \\\n",
              "0  서울 동대문구 전농동 591-53                                           \n",
              "\n",
              "            category_name distance         id      phone place_name  \\\n",
              "0  문화,예술 > 도서 > 서점 > 교보문고      891  253947105  1544-1900  교보문고 청량리점   \n",
              "\n",
              "                              place_url road_address_name                 x  \\\n",
              "0  http://place.map.kakao.com/253947105   서울 동대문구 왕산로 214  127.049079477084   \n",
              "\n",
              "                  y                    geometry  \n",
              "0  37.5806966564292  POINT (127.04908 37.58070)  "
            ],
            "text/html": [
              "\n",
              "  <div id=\"df-48e351f8-69f4-489a-b175-3a4ee059ead4\" class=\"colab-df-container\">\n",
              "    <div>\n",
              "<style scoped>\n",
              "    .dataframe tbody tr th:only-of-type {\n",
              "        vertical-align: middle;\n",
              "    }\n",
              "\n",
              "    .dataframe tbody tr th {\n",
              "        vertical-align: top;\n",
              "    }\n",
              "\n",
              "    .dataframe thead th {\n",
              "        text-align: right;\n",
              "    }\n",
              "</style>\n",
              "<table border=\"1\" class=\"dataframe\">\n",
              "  <thead>\n",
              "    <tr style=\"text-align: right;\">\n",
              "      <th></th>\n",
              "      <th>address_name</th>\n",
              "      <th>category_group_code</th>\n",
              "      <th>category_group_name</th>\n",
              "      <th>category_name</th>\n",
              "      <th>distance</th>\n",
              "      <th>id</th>\n",
              "      <th>phone</th>\n",
              "      <th>place_name</th>\n",
              "      <th>place_url</th>\n",
              "      <th>road_address_name</th>\n",
              "      <th>x</th>\n",
              "      <th>y</th>\n",
              "      <th>geometry</th>\n",
              "    </tr>\n",
              "  </thead>\n",
              "  <tbody>\n",
              "    <tr>\n",
              "      <th>0</th>\n",
              "      <td>서울 동대문구 전농동 591-53</td>\n",
              "      <td></td>\n",
              "      <td></td>\n",
              "      <td>문화,예술 &gt; 도서 &gt; 서점 &gt; 교보문고</td>\n",
              "      <td>891</td>\n",
              "      <td>253947105</td>\n",
              "      <td>1544-1900</td>\n",
              "      <td>교보문고 청량리점</td>\n",
              "      <td>http://place.map.kakao.com/253947105</td>\n",
              "      <td>서울 동대문구 왕산로 214</td>\n",
              "      <td>127.049079477084</td>\n",
              "      <td>37.5806966564292</td>\n",
              "      <td>POINT (127.04908 37.58070)</td>\n",
              "    </tr>\n",
              "  </tbody>\n",
              "</table>\n",
              "</div>\n",
              "    <div class=\"colab-df-buttons\">\n",
              "\n",
              "  <div class=\"colab-df-container\">\n",
              "    <button class=\"colab-df-convert\" onclick=\"convertToInteractive('df-48e351f8-69f4-489a-b175-3a4ee059ead4')\"\n",
              "            title=\"Convert this dataframe to an interactive table.\"\n",
              "            style=\"display:none;\">\n",
              "\n",
              "  <svg xmlns=\"http://www.w3.org/2000/svg\" height=\"24px\" viewBox=\"0 -960 960 960\">\n",
              "    <path d=\"M120-120v-720h720v720H120Zm60-500h600v-160H180v160Zm220 220h160v-160H400v160Zm0 220h160v-160H400v160ZM180-400h160v-160H180v160Zm440 0h160v-160H620v160ZM180-180h160v-160H180v160Zm440 0h160v-160H620v160Z\"/>\n",
              "  </svg>\n",
              "    </button>\n",
              "\n",
              "  <style>\n",
              "    .colab-df-container {\n",
              "      display:flex;\n",
              "      gap: 12px;\n",
              "    }\n",
              "\n",
              "    .colab-df-convert {\n",
              "      background-color: #E8F0FE;\n",
              "      border: none;\n",
              "      border-radius: 50%;\n",
              "      cursor: pointer;\n",
              "      display: none;\n",
              "      fill: #1967D2;\n",
              "      height: 32px;\n",
              "      padding: 0 0 0 0;\n",
              "      width: 32px;\n",
              "    }\n",
              "\n",
              "    .colab-df-convert:hover {\n",
              "      background-color: #E2EBFA;\n",
              "      box-shadow: 0px 1px 2px rgba(60, 64, 67, 0.3), 0px 1px 3px 1px rgba(60, 64, 67, 0.15);\n",
              "      fill: #174EA6;\n",
              "    }\n",
              "\n",
              "    .colab-df-buttons div {\n",
              "      margin-bottom: 4px;\n",
              "    }\n",
              "\n",
              "    [theme=dark] .colab-df-convert {\n",
              "      background-color: #3B4455;\n",
              "      fill: #D2E3FC;\n",
              "    }\n",
              "\n",
              "    [theme=dark] .colab-df-convert:hover {\n",
              "      background-color: #434B5C;\n",
              "      box-shadow: 0px 1px 3px 1px rgba(0, 0, 0, 0.15);\n",
              "      filter: drop-shadow(0px 1px 2px rgba(0, 0, 0, 0.3));\n",
              "      fill: #FFFFFF;\n",
              "    }\n",
              "  </style>\n",
              "\n",
              "    <script>\n",
              "      const buttonEl =\n",
              "        document.querySelector('#df-48e351f8-69f4-489a-b175-3a4ee059ead4 button.colab-df-convert');\n",
              "      buttonEl.style.display =\n",
              "        google.colab.kernel.accessAllowed ? 'block' : 'none';\n",
              "\n",
              "      async function convertToInteractive(key) {\n",
              "        const element = document.querySelector('#df-48e351f8-69f4-489a-b175-3a4ee059ead4');\n",
              "        const dataTable =\n",
              "          await google.colab.kernel.invokeFunction('convertToInteractive',\n",
              "                                                    [key], {});\n",
              "        if (!dataTable) return;\n",
              "\n",
              "        const docLinkHtml = 'Like what you see? Visit the ' +\n",
              "          '<a target=\"_blank\" href=https://colab.research.google.com/notebooks/data_table.ipynb>data table notebook</a>'\n",
              "          + ' to learn more about interactive tables.';\n",
              "        element.innerHTML = '';\n",
              "        dataTable['output_type'] = 'display_data';\n",
              "        await google.colab.output.renderOutput(dataTable, element);\n",
              "        const docLink = document.createElement('div');\n",
              "        docLink.innerHTML = docLinkHtml;\n",
              "        element.appendChild(docLink);\n",
              "      }\n",
              "    </script>\n",
              "  </div>\n",
              "\n",
              "\n",
              "    </div>\n",
              "  </div>\n"
            ],
            "application/vnd.google.colaboratory.intrinsic+json": {
              "type": "dataframe",
              "variable_name": "places",
              "summary": "{\n  \"name\": \"places\",\n  \"rows\": 45,\n  \"fields\": [\n    {\n      \"column\": \"address_name\",\n      \"properties\": {\n        \"dtype\": \"string\",\n        \"num_unique_values\": 23,\n        \"samples\": [\n          \"\\uc11c\\uc6b8 \\uad6c\\ub85c\\uad6c \\uc2e0\\ub3c4\\ub9bc\\ub3d9 692\",\n          \"\\uc11c\\uc6b8 \\uc11c\\ub300\\ubb38\\uad6c \\ub300\\ud604\\ub3d9 11-1\",\n          \"\\uc11c\\uc6b8 \\ub3d9\\ub300\\ubb38\\uad6c \\uc804\\ub18d\\ub3d9 591-53\"\n        ],\n        \"semantic_type\": \"\",\n        \"description\": \"\"\n      }\n    },\n    {\n      \"column\": \"category_group_code\",\n      \"properties\": {\n        \"dtype\": \"category\",\n        \"num_unique_values\": 7,\n        \"samples\": [\n          \"\",\n          \"CT1\",\n          \"BK9\"\n        ],\n        \"semantic_type\": \"\",\n        \"description\": \"\"\n      }\n    },\n    {\n      \"column\": \"category_group_name\",\n      \"properties\": {\n        \"dtype\": \"category\",\n        \"num_unique_values\": 7,\n        \"samples\": [\n          \"\",\n          \"\\ubb38\\ud654\\uc2dc\\uc124\",\n          \"\\uc740\\ud589\"\n        ],\n        \"semantic_type\": \"\",\n        \"description\": \"\"\n      }\n    },\n    {\n      \"column\": \"category_name\",\n      \"properties\": {\n        \"dtype\": \"string\",\n        \"num_unique_values\": 23,\n        \"samples\": [\n          \"\\uac00\\uc815,\\uc0dd\\ud65c > \\ubbf8\\uc6a9 > \\uccb4\\ud615\\uad00\\ub9ac > \\uc57d\\uc190\\uba85\\uac00\",\n          \"\\uc11c\\ube44\\uc2a4,\\uc0b0\\uc5c5 > \\uc5ec\\ud589\\uc0ac > \\ubaa8\\ub450\\ud22c\\uc5b4\",\n          \"\\ubb38\\ud654,\\uc608\\uc220 > \\ub3c4\\uc11c > \\uc11c\\uc810 > \\uad50\\ubcf4\\ubb38\\uace0\"\n        ],\n        \"semantic_type\": \"\",\n        \"description\": \"\"\n      }\n    },\n    {\n      \"column\": \"distance\",\n      \"properties\": {\n        \"dtype\": \"string\",\n        \"num_unique_values\": 37,\n        \"samples\": [\n          \"16841\",\n          \"13336\",\n          \"6543\"\n        ],\n        \"semantic_type\": \"\",\n        \"description\": \"\"\n      }\n    },\n    {\n      \"column\": \"id\",\n      \"properties\": {\n        \"dtype\": \"string\",\n        \"num_unique_values\": 45,\n        \"samples\": [\n          \"1153486981\",\n          \"11760305\",\n          \"11760292\"\n        ],\n        \"semantic_type\": \"\",\n        \"description\": \"\"\n      }\n    },\n    {\n      \"column\": \"phone\",\n      \"properties\": {\n        \"dtype\": \"string\",\n        \"num_unique_values\": 28,\n        \"samples\": [\n          \"02-720-4845\",\n          \"02-2649-0101\",\n          \"02-732-9961\"\n        ],\n        \"semantic_type\": \"\",\n        \"description\": \"\"\n      }\n    },\n    {\n      \"column\": \"place_name\",\n      \"properties\": {\n        \"dtype\": \"string\",\n        \"num_unique_values\": 45,\n        \"samples\": [\n          \"\\ucc3d\\uace043 \\ubaa9\\ub3d9\\uc810\",\n          \"\\uc544\\ud2b8\\ubc15\\uc2a4 \\uad50\\ubcf4\\ubb38\\uace0\\ud56b\\ud2b8\\ub799\\uc2a4\\uc7a0\\uc2e4\\uc810\",\n          \"\\uc544\\ud2b8\\ubc15\\uc2a4 \\uad50\\ubcf4\\ubb38\\uace0\\ud56b\\ud2b8\\ub799\\uc2a4\\uac15\\ub0a8\\uc810\"\n        ],\n        \"semantic_type\": \"\",\n        \"description\": \"\"\n      }\n    },\n    {\n      \"column\": \"place_url\",\n      \"properties\": {\n        \"dtype\": \"string\",\n        \"num_unique_values\": 45,\n        \"samples\": [\n          \"http://place.map.kakao.com/1153486981\",\n          \"http://place.map.kakao.com/11760305\",\n          \"http://place.map.kakao.com/11760292\"\n        ],\n        \"semantic_type\": \"\",\n        \"description\": \"\"\n      }\n    },\n    {\n      \"column\": \"road_address_name\",\n      \"properties\": {\n        \"dtype\": \"category\",\n        \"num_unique_values\": 21,\n        \"samples\": [\n          \"\\uc11c\\uc6b8 \\ub3d9\\ub300\\ubb38\\uad6c \\uc655\\uc0b0\\ub85c 214\",\n          \"\\uc11c\\uc6b8 \\uc885\\ub85c\\uad6c \\uc0c8\\ubb38\\uc548\\ub85c3\\uae38 23\",\n          \"\\uc11c\\uc6b8 \\uc740\\ud3c9\\uad6c \\ud1b5\\uc77c\\ub85c 1050\"\n        ],\n        \"semantic_type\": \"\",\n        \"description\": \"\"\n      }\n    },\n    {\n      \"column\": \"x\",\n      \"properties\": {\n        \"dtype\": \"string\",\n        \"num_unique_values\": 43,\n        \"samples\": [\n          \"126.87507051137267\",\n          \"126.972419791447\",\n          \"127.10060125314466\"\n        ],\n        \"semantic_type\": \"\",\n        \"description\": \"\"\n      }\n    },\n    {\n      \"column\": \"y\",\n      \"properties\": {\n        \"dtype\": \"string\",\n        \"num_unique_values\": 43,\n        \"samples\": [\n          \"37.528145948841576\",\n          \"37.5734920789197\",\n          \"37.51442618653521\"\n        ],\n        \"semantic_type\": \"\",\n        \"description\": \"\"\n      }\n    },\n    {\n      \"column\": \"geometry\",\n      \"properties\": {\n        \"dtype\": \"geometry\",\n        \"num_unique_values\": 43,\n        \"samples\": [\n          \"POINT (126.87507051137267 37.528145948841576)\",\n          \"POINT (126.972419791447 37.5734920789197)\",\n          \"POINT (127.10060125314466 37.51442618653521)\"\n        ],\n        \"semantic_type\": \"\",\n        \"description\": \"\"\n      }\n    }\n  ]\n}"
            }
          },
          "metadata": {},
          "execution_count": 8
        }
      ],
      "source": [
        "def get_places_by_query(coordinate, radius, query, api_key):\n",
        "    # 정해진 반경에서 이름으로 장소 검색\n",
        "    url = \"https://dapi.kakao.com/v2/local/search/keyword.json\"\n",
        "    headers = {\"Authorization\": f\"KakaoAK {api_key}\"}\n",
        "    params = {\"query\": query,\n",
        "              \"x\": coordinate[1],\n",
        "              \"y\": coordinate[0],\n",
        "              \"radius\": radius}\n",
        "\n",
        "    places = []\n",
        "    while True:\n",
        "        response = requests.get(url, headers=headers, params=params)\n",
        "        data = response.json()\n",
        "        places.extend(data.get(\"documents\", []))\n",
        "        if data[\"meta\"][\"is_end\"]:\n",
        "            break\n",
        "        else:\n",
        "            params[\"page\"] = params.get(\"page\", 1) + 1\n",
        "    return gpd.GeoDataFrame(\n",
        "        places,\n",
        "        geometry=gpd.points_from_xy(\n",
        "            [place[\"x\"] for place in places], [place[\"y\"] for place in places]\n",
        "        ),\n",
        "    )\n",
        "\n",
        "radius = 20000\n",
        "query = \"교보문고\"\n",
        "\n",
        "places = get_places_by_query(coordinate, radius, query, api_key)\n",
        "print(f\"매장 개수: {len(places)}개\")\n",
        "places.head(1)"
      ]
    },
    {
      "cell_type": "markdown",
      "source": [
        "교보문고를 검색했지만 모든 검색결과가 교보문고 매장을 가리키는 것은 아닙니다. 따라서 일부 컬럼에 필터링을 적용해서 원하는 튜플만을 선택해 볼 수 있습니다. 그리고 이것을 GPKG와 같은 공간데이터 포맷으로 저장하여 QGIS와 같은 다른 SW에서 사용하는 것도 가능하겠습니다."
      ],
      "metadata": {
        "id": "awX-fftyR_9V"
      },
      "id": "awX-fftyR_9V"
    },
    {
      "cell_type": "code",
      "execution_count": null,
      "id": "f6e5e0f9-72e0-4153-8a50-b04eabaffaf7",
      "metadata": {
        "id": "f6e5e0f9-72e0-4153-8a50-b04eabaffaf7",
        "outputId": "f8c01565-0ab8-4212-daa7-ddacaf2d06c8",
        "colab": {
          "base_uri": "https://localhost:8080/",
          "height": 153
        }
      },
      "outputs": [
        {
          "output_type": "stream",
          "name": "stdout",
          "text": [
            "매장 개수: 18개\n"
          ]
        },
        {
          "output_type": "execute_result",
          "data": {
            "text/plain": [
              "         address_name category_group_code category_group_name  \\\n",
              "0  서울 동대문구 전농동 591-53                                           \n",
              "\n",
              "            category_name distance         id      phone place_name  \\\n",
              "0  문화,예술 > 도서 > 서점 > 교보문고      891  253947105  1544-1900  교보문고 청량리점   \n",
              "\n",
              "                              place_url road_address_name                 x  \\\n",
              "0  http://place.map.kakao.com/253947105   서울 동대문구 왕산로 214  127.049079477084   \n",
              "\n",
              "                  y                    geometry  \n",
              "0  37.5806966564292  POINT (127.04908 37.58070)  "
            ],
            "text/html": [
              "\n",
              "  <div id=\"df-a0a4926d-199f-4c88-8a3d-21fba426b4bd\" class=\"colab-df-container\">\n",
              "    <div>\n",
              "<style scoped>\n",
              "    .dataframe tbody tr th:only-of-type {\n",
              "        vertical-align: middle;\n",
              "    }\n",
              "\n",
              "    .dataframe tbody tr th {\n",
              "        vertical-align: top;\n",
              "    }\n",
              "\n",
              "    .dataframe thead th {\n",
              "        text-align: right;\n",
              "    }\n",
              "</style>\n",
              "<table border=\"1\" class=\"dataframe\">\n",
              "  <thead>\n",
              "    <tr style=\"text-align: right;\">\n",
              "      <th></th>\n",
              "      <th>address_name</th>\n",
              "      <th>category_group_code</th>\n",
              "      <th>category_group_name</th>\n",
              "      <th>category_name</th>\n",
              "      <th>distance</th>\n",
              "      <th>id</th>\n",
              "      <th>phone</th>\n",
              "      <th>place_name</th>\n",
              "      <th>place_url</th>\n",
              "      <th>road_address_name</th>\n",
              "      <th>x</th>\n",
              "      <th>y</th>\n",
              "      <th>geometry</th>\n",
              "    </tr>\n",
              "  </thead>\n",
              "  <tbody>\n",
              "    <tr>\n",
              "      <th>0</th>\n",
              "      <td>서울 동대문구 전농동 591-53</td>\n",
              "      <td></td>\n",
              "      <td></td>\n",
              "      <td>문화,예술 &gt; 도서 &gt; 서점 &gt; 교보문고</td>\n",
              "      <td>891</td>\n",
              "      <td>253947105</td>\n",
              "      <td>1544-1900</td>\n",
              "      <td>교보문고 청량리점</td>\n",
              "      <td>http://place.map.kakao.com/253947105</td>\n",
              "      <td>서울 동대문구 왕산로 214</td>\n",
              "      <td>127.049079477084</td>\n",
              "      <td>37.5806966564292</td>\n",
              "      <td>POINT (127.04908 37.58070)</td>\n",
              "    </tr>\n",
              "  </tbody>\n",
              "</table>\n",
              "</div>\n",
              "    <div class=\"colab-df-buttons\">\n",
              "\n",
              "  <div class=\"colab-df-container\">\n",
              "    <button class=\"colab-df-convert\" onclick=\"convertToInteractive('df-a0a4926d-199f-4c88-8a3d-21fba426b4bd')\"\n",
              "            title=\"Convert this dataframe to an interactive table.\"\n",
              "            style=\"display:none;\">\n",
              "\n",
              "  <svg xmlns=\"http://www.w3.org/2000/svg\" height=\"24px\" viewBox=\"0 -960 960 960\">\n",
              "    <path d=\"M120-120v-720h720v720H120Zm60-500h600v-160H180v160Zm220 220h160v-160H400v160Zm0 220h160v-160H400v160ZM180-400h160v-160H180v160Zm440 0h160v-160H620v160ZM180-180h160v-160H180v160Zm440 0h160v-160H620v160Z\"/>\n",
              "  </svg>\n",
              "    </button>\n",
              "\n",
              "  <style>\n",
              "    .colab-df-container {\n",
              "      display:flex;\n",
              "      gap: 12px;\n",
              "    }\n",
              "\n",
              "    .colab-df-convert {\n",
              "      background-color: #E8F0FE;\n",
              "      border: none;\n",
              "      border-radius: 50%;\n",
              "      cursor: pointer;\n",
              "      display: none;\n",
              "      fill: #1967D2;\n",
              "      height: 32px;\n",
              "      padding: 0 0 0 0;\n",
              "      width: 32px;\n",
              "    }\n",
              "\n",
              "    .colab-df-convert:hover {\n",
              "      background-color: #E2EBFA;\n",
              "      box-shadow: 0px 1px 2px rgba(60, 64, 67, 0.3), 0px 1px 3px 1px rgba(60, 64, 67, 0.15);\n",
              "      fill: #174EA6;\n",
              "    }\n",
              "\n",
              "    .colab-df-buttons div {\n",
              "      margin-bottom: 4px;\n",
              "    }\n",
              "\n",
              "    [theme=dark] .colab-df-convert {\n",
              "      background-color: #3B4455;\n",
              "      fill: #D2E3FC;\n",
              "    }\n",
              "\n",
              "    [theme=dark] .colab-df-convert:hover {\n",
              "      background-color: #434B5C;\n",
              "      box-shadow: 0px 1px 3px 1px rgba(0, 0, 0, 0.15);\n",
              "      filter: drop-shadow(0px 1px 2px rgba(0, 0, 0, 0.3));\n",
              "      fill: #FFFFFF;\n",
              "    }\n",
              "  </style>\n",
              "\n",
              "    <script>\n",
              "      const buttonEl =\n",
              "        document.querySelector('#df-a0a4926d-199f-4c88-8a3d-21fba426b4bd button.colab-df-convert');\n",
              "      buttonEl.style.display =\n",
              "        google.colab.kernel.accessAllowed ? 'block' : 'none';\n",
              "\n",
              "      async function convertToInteractive(key) {\n",
              "        const element = document.querySelector('#df-a0a4926d-199f-4c88-8a3d-21fba426b4bd');\n",
              "        const dataTable =\n",
              "          await google.colab.kernel.invokeFunction('convertToInteractive',\n",
              "                                                    [key], {});\n",
              "        if (!dataTable) return;\n",
              "\n",
              "        const docLinkHtml = 'Like what you see? Visit the ' +\n",
              "          '<a target=\"_blank\" href=https://colab.research.google.com/notebooks/data_table.ipynb>data table notebook</a>'\n",
              "          + ' to learn more about interactive tables.';\n",
              "        element.innerHTML = '';\n",
              "        dataTable['output_type'] = 'display_data';\n",
              "        await google.colab.output.renderOutput(dataTable, element);\n",
              "        const docLink = document.createElement('div');\n",
              "        docLink.innerHTML = docLinkHtml;\n",
              "        element.appendChild(docLink);\n",
              "      }\n",
              "    </script>\n",
              "  </div>\n",
              "\n",
              "\n",
              "    </div>\n",
              "  </div>\n"
            ],
            "application/vnd.google.colaboratory.intrinsic+json": {
              "type": "dataframe",
              "variable_name": "places",
              "summary": "{\n  \"name\": \"places\",\n  \"rows\": 18,\n  \"fields\": [\n    {\n      \"column\": \"address_name\",\n      \"properties\": {\n        \"dtype\": \"string\",\n        \"num_unique_values\": 18,\n        \"samples\": [\n          \"\\uc11c\\uc6b8 \\ub3d9\\ub300\\ubb38\\uad6c \\uc804\\ub18d\\ub3d9 591-53\",\n          \"\\uc11c\\uc6b8 \\uc911\\uad6c \\uc744\\uc9c0\\ub85c6\\uac00 17-2\",\n          \"\\uc11c\\uc6b8 \\uac15\\ub0a8\\uad6c \\uc5ed\\uc0bc\\ub3d9 800\"\n        ],\n        \"semantic_type\": \"\",\n        \"description\": \"\"\n      }\n    },\n    {\n      \"column\": \"category_group_code\",\n      \"properties\": {\n        \"dtype\": \"object\",\n        \"num_unique_values\": 1,\n        \"samples\": [\n          \"\"\n        ],\n        \"semantic_type\": \"\",\n        \"description\": \"\"\n      }\n    },\n    {\n      \"column\": \"category_group_name\",\n      \"properties\": {\n        \"dtype\": \"object\",\n        \"num_unique_values\": 1,\n        \"samples\": [\n          \"\"\n        ],\n        \"semantic_type\": \"\",\n        \"description\": \"\"\n      }\n    },\n    {\n      \"column\": \"category_name\",\n      \"properties\": {\n        \"dtype\": \"category\",\n        \"num_unique_values\": 1,\n        \"samples\": [\n          \"\\ubb38\\ud654,\\uc608\\uc220 > \\ub3c4\\uc11c > \\uc11c\\uc810 > \\uad50\\ubcf4\\ubb38\\uace0\"\n        ],\n        \"semantic_type\": \"\",\n        \"description\": \"\"\n      }\n    },\n    {\n      \"column\": \"distance\",\n      \"properties\": {\n        \"dtype\": \"string\",\n        \"num_unique_values\": 18,\n        \"samples\": [\n          \"891\"\n        ],\n        \"semantic_type\": \"\",\n        \"description\": \"\"\n      }\n    },\n    {\n      \"column\": \"id\",\n      \"properties\": {\n        \"dtype\": \"string\",\n        \"num_unique_values\": 18,\n        \"samples\": [\n          \"253947105\"\n        ],\n        \"semantic_type\": \"\",\n        \"description\": \"\"\n      }\n    },\n    {\n      \"column\": \"phone\",\n      \"properties\": {\n        \"dtype\": \"category\",\n        \"num_unique_values\": 6,\n        \"samples\": [\n          \"1544-1900\"\n        ],\n        \"semantic_type\": \"\",\n        \"description\": \"\"\n      }\n    },\n    {\n      \"column\": \"place_name\",\n      \"properties\": {\n        \"dtype\": \"string\",\n        \"num_unique_values\": 18,\n        \"samples\": [\n          \"\\uad50\\ubcf4\\ubb38\\uace0 \\uccad\\ub7c9\\ub9ac\\uc810\"\n        ],\n        \"semantic_type\": \"\",\n        \"description\": \"\"\n      }\n    },\n    {\n      \"column\": \"place_url\",\n      \"properties\": {\n        \"dtype\": \"string\",\n        \"num_unique_values\": 18,\n        \"samples\": [\n          \"http://place.map.kakao.com/253947105\"\n        ],\n        \"semantic_type\": \"\",\n        \"description\": \"\"\n      }\n    },\n    {\n      \"column\": \"road_address_name\",\n      \"properties\": {\n        \"dtype\": \"string\",\n        \"num_unique_values\": 17,\n        \"samples\": [\n          \"\\uc11c\\uc6b8 \\ub3d9\\ub300\\ubb38\\uad6c \\uc655\\uc0b0\\ub85c 214\"\n        ],\n        \"semantic_type\": \"\",\n        \"description\": \"\"\n      }\n    },\n    {\n      \"column\": \"x\",\n      \"properties\": {\n        \"dtype\": \"string\",\n        \"num_unique_values\": 18,\n        \"samples\": [\n          \"127.049079477084\"\n        ],\n        \"semantic_type\": \"\",\n        \"description\": \"\"\n      }\n    },\n    {\n      \"column\": \"y\",\n      \"properties\": {\n        \"dtype\": \"string\",\n        \"num_unique_values\": 18,\n        \"samples\": [\n          \"37.5806966564292\"\n        ],\n        \"semantic_type\": \"\",\n        \"description\": \"\"\n      }\n    },\n    {\n      \"column\": \"geometry\",\n      \"properties\": {\n        \"dtype\": \"geometry\",\n        \"num_unique_values\": 18,\n        \"samples\": [\n          \"POINT (127.049079477084 37.5806966564292)\"\n        ],\n        \"semantic_type\": \"\",\n        \"description\": \"\"\n      }\n    }\n  ]\n}"
            }
          },
          "metadata": {},
          "execution_count": 9
        }
      ],
      "source": [
        "# 필터링\n",
        "places = places[\n",
        "    places[\"category_name\"] == \"문화,예술 > 도서 > 서점 > 교보문고\"\n",
        "]\n",
        "print(f\"매장 개수: {len(places)}개\")\n",
        "places = places.set_crs(epsg=4326)\n",
        "places.to_file(\"places_by_query.gpkg\", driver=\"GPKG\")\n",
        "places.head(1)"
      ]
    },
    {
      "cell_type": "markdown",
      "source": [
        "검색결과는 GeoData 객체로 변환합니다."
      ],
      "metadata": {
        "id": "xVkn14OsSZl8"
      },
      "id": "xVkn14OsSZl8"
    },
    {
      "cell_type": "code",
      "execution_count": null,
      "id": "6569208c-fd46-41ac-a5e5-2c6da385af07",
      "metadata": {
        "id": "6569208c-fd46-41ac-a5e5-2c6da385af07"
      },
      "outputs": [],
      "source": [
        "# GeoPandas 레이어를 GeoData로 변환\n",
        "geo_data = GeoData(\n",
        "    geo_dataframe=places,\n",
        "    point_style={\n",
        "        'radius': 7,  # 점 크기\n",
        "        'color': 'darkblue',  # 색상\n",
        "        'fillOpacity': 0.7,  # 투명도\n",
        "        'fillColor': 'lightblue',  # 점 내부 색상\n",
        "        'weight': 2  # 점 테두리\n",
        "    },\n",
        "    name='교보문고'  # 레이어 이름\n",
        ")"
      ]
    },
    {
      "cell_type": "markdown",
      "source": [
        "검색 반경도 Circle로 생성해 보겠습니다."
      ],
      "metadata": {
        "id": "agnf0KtrSd4A"
      },
      "id": "agnf0KtrSd4A"
    },
    {
      "cell_type": "code",
      "execution_count": null,
      "id": "1f3e7a53-f1a3-4d50-b8e1-3de65a936915",
      "metadata": {
        "id": "1f3e7a53-f1a3-4d50-b8e1-3de65a936915"
      },
      "outputs": [],
      "source": [
        "# Circle 생성\n",
        "circle = Circle()\n",
        "circle.location = coordinate  # 원의 중심 좌표\n",
        "circle.radius = radius  # 원의 반경\n",
        "circle.color = \"red\"  # 원의 테두리 색상\n",
        "circle.fill_color = \"red\"  # 원의 내부 색상\n",
        "circle.fill_opacity = 0.5  # 원의 내부 투명도"
      ]
    },
    {
      "cell_type": "markdown",
      "source": [
        "이제 지도를 생성합니다. 검색 반경 내에 교보문고 매장 위치를 확인하실 수 있습니다."
      ],
      "metadata": {
        "id": "XZTFvBBASlN9"
      },
      "id": "XZTFvBBASlN9"
    },
    {
      "cell_type": "code",
      "execution_count": null,
      "id": "a8560bc1-45b4-43c6-a37d-d4ccdf46df51",
      "metadata": {
        "id": "a8560bc1-45b4-43c6-a37d-d4ccdf46df51",
        "outputId": "ff3c04a4-c550-41f5-c375-a3f19a59d994",
        "colab": {
          "base_uri": "https://localhost:8080/",
          "height": 521,
          "referenced_widgets": [
            "37160bd08400409cb5ecfa228ad6f67b",
            "b44ee84e30fb408380beec5b80450d9c",
            "c432c86f0c1549de94bf99b88ad0777e",
            "d37ce9f872f94111bfc2655f557b2442",
            "046f3f27001c4a1e9d73dbca6f4f31e4",
            "97dfa0d0d57e464b8be56052b9705a52",
            "98a57b6833a54673a045f6eee09db342",
            "74b3a887870448188651a86b7bf0782c",
            "7b393bf032164f59b2f1425250870c5b",
            "4a55fb2884c841bba60725f2ca3034db",
            "0909b9d54ae34496aebecb7cf13a98b2"
          ]
        }
      },
      "outputs": [
        {
          "output_type": "display_data",
          "data": {
            "text/plain": [
              "Map(center=[37.584828300773886, 127.05773316246166], controls=(ZoomControl(options=['position', 'zoom_in_text'…"
            ],
            "application/vnd.jupyter.widget-view+json": {
              "version_major": 2,
              "version_minor": 0,
              "model_id": "37160bd08400409cb5ecfa228ad6f67b"
            }
          },
          "metadata": {
            "application/vnd.jupyter.widget-view+json": {
              "colab": {
                "custom_widget_manager": {
                  "url": "https://ssl.gstatic.com/colaboratory-static/widgets/colab-cdn-widget-manager/2b70e893a8ba7c0f/manager.min.js"
                }
              }
            }
          }
        }
      ],
      "source": [
        "# 지도 생성 (Vworld 백지도 사용)\n",
        "m = Map(center=coordinate,\n",
        "        zoom=11,\n",
        "        layers=[vworld_white],\n",
        "        layout={'width': '800px', 'height': '500px'})\n",
        "\n",
        "m.add_layer(marker)\n",
        "m.add_layer(circle)\n",
        "m.add_layer(geo_data)\n",
        "m"
      ]
    },
    {
      "cell_type": "markdown",
      "id": "3ea002fb-fc40-4329-9059-b829b3cc9004",
      "metadata": {
        "id": "3ea002fb-fc40-4329-9059-b829b3cc9004"
      },
      "source": [
        "## 정해진 반경에서 카테고리로 장소 검색하기\n",
        "\n",
        "카카오 로컬 API는 정해진 반경 내에서 카테고리로 장소를 검색해볼 수 있습니다. 대형마트, 편의점, 어린이집, 유치원, 학교 등 다양한 카테고리로 확인이 가능합니다. 여기서는 서울시립대학교로부터 반경 500m 이내 어린이집, 유치원을 검색해 보겠습니다.\n",
        "\n",
        "| 이름 | MT1 | CS2 | PS3 | SC4 | AC5 | PK6 | OL7 | SW8 | BK9 | CT1 | AG2 | PO3 | AT4 | AD5 | FD6 | CE7 | HP8 | PM9 |\n",
        "|------|------|------|------|------|------|------|------|------|------|------|------|------|------|------|------|------|------|------|\n",
        "| 설명 | 대형마트 | 편의점 | 어린이집, 유치원 | 학교 | 학원 | 주차장 | 주유소, 충전소 | 지하철역 | 은행 | 문화시설 | 중개업소 | 공공기관 | 관광명소 | 숙박 | 음식점 | 카페 | 병원 | 약국 |"
      ]
    },
    {
      "cell_type": "code",
      "execution_count": null,
      "id": "97a3cf01-c712-4135-a13d-75b8a9881488",
      "metadata": {
        "id": "97a3cf01-c712-4135-a13d-75b8a9881488",
        "outputId": "a22e3d97-696c-4bf9-c8ec-305097e3f4b1",
        "colab": {
          "base_uri": "https://localhost:8080/",
          "height": 153
        }
      },
      "outputs": [
        {
          "output_type": "stream",
          "name": "stdout",
          "text": [
            "매장 개수: 8개\n"
          ]
        },
        {
          "output_type": "execute_result",
          "data": {
            "text/plain": [
              "        address_name category_group_code category_group_name  \\\n",
              "0  서울 동대문구 휘경동 302-2                 PS3            어린이집,유치원   \n",
              "\n",
              "        category_name distance        id         phone place_name  \\\n",
              "0  교육,학문 > 유아교육 > 유치원      182  10487569  02-2242-0354    서울휘경유치원   \n",
              "\n",
              "                             place_url road_address_name                 x  \\\n",
              "0  http://place.map.kakao.com/10487569  서울 동대문구 망우로6길 48  127.057072023037   \n",
              "\n",
              "                 y                    geometry  \n",
              "0  37.586380132083  POINT (127.05707 37.58638)  "
            ],
            "text/html": [
              "\n",
              "  <div id=\"df-87743a1c-6c72-4216-89a0-ce827a1c6155\" class=\"colab-df-container\">\n",
              "    <div>\n",
              "<style scoped>\n",
              "    .dataframe tbody tr th:only-of-type {\n",
              "        vertical-align: middle;\n",
              "    }\n",
              "\n",
              "    .dataframe tbody tr th {\n",
              "        vertical-align: top;\n",
              "    }\n",
              "\n",
              "    .dataframe thead th {\n",
              "        text-align: right;\n",
              "    }\n",
              "</style>\n",
              "<table border=\"1\" class=\"dataframe\">\n",
              "  <thead>\n",
              "    <tr style=\"text-align: right;\">\n",
              "      <th></th>\n",
              "      <th>address_name</th>\n",
              "      <th>category_group_code</th>\n",
              "      <th>category_group_name</th>\n",
              "      <th>category_name</th>\n",
              "      <th>distance</th>\n",
              "      <th>id</th>\n",
              "      <th>phone</th>\n",
              "      <th>place_name</th>\n",
              "      <th>place_url</th>\n",
              "      <th>road_address_name</th>\n",
              "      <th>x</th>\n",
              "      <th>y</th>\n",
              "      <th>geometry</th>\n",
              "    </tr>\n",
              "  </thead>\n",
              "  <tbody>\n",
              "    <tr>\n",
              "      <th>0</th>\n",
              "      <td>서울 동대문구 휘경동 302-2</td>\n",
              "      <td>PS3</td>\n",
              "      <td>어린이집,유치원</td>\n",
              "      <td>교육,학문 &gt; 유아교육 &gt; 유치원</td>\n",
              "      <td>182</td>\n",
              "      <td>10487569</td>\n",
              "      <td>02-2242-0354</td>\n",
              "      <td>서울휘경유치원</td>\n",
              "      <td>http://place.map.kakao.com/10487569</td>\n",
              "      <td>서울 동대문구 망우로6길 48</td>\n",
              "      <td>127.057072023037</td>\n",
              "      <td>37.586380132083</td>\n",
              "      <td>POINT (127.05707 37.58638)</td>\n",
              "    </tr>\n",
              "  </tbody>\n",
              "</table>\n",
              "</div>\n",
              "    <div class=\"colab-df-buttons\">\n",
              "\n",
              "  <div class=\"colab-df-container\">\n",
              "    <button class=\"colab-df-convert\" onclick=\"convertToInteractive('df-87743a1c-6c72-4216-89a0-ce827a1c6155')\"\n",
              "            title=\"Convert this dataframe to an interactive table.\"\n",
              "            style=\"display:none;\">\n",
              "\n",
              "  <svg xmlns=\"http://www.w3.org/2000/svg\" height=\"24px\" viewBox=\"0 -960 960 960\">\n",
              "    <path d=\"M120-120v-720h720v720H120Zm60-500h600v-160H180v160Zm220 220h160v-160H400v160Zm0 220h160v-160H400v160ZM180-400h160v-160H180v160Zm440 0h160v-160H620v160ZM180-180h160v-160H180v160Zm440 0h160v-160H620v160Z\"/>\n",
              "  </svg>\n",
              "    </button>\n",
              "\n",
              "  <style>\n",
              "    .colab-df-container {\n",
              "      display:flex;\n",
              "      gap: 12px;\n",
              "    }\n",
              "\n",
              "    .colab-df-convert {\n",
              "      background-color: #E8F0FE;\n",
              "      border: none;\n",
              "      border-radius: 50%;\n",
              "      cursor: pointer;\n",
              "      display: none;\n",
              "      fill: #1967D2;\n",
              "      height: 32px;\n",
              "      padding: 0 0 0 0;\n",
              "      width: 32px;\n",
              "    }\n",
              "\n",
              "    .colab-df-convert:hover {\n",
              "      background-color: #E2EBFA;\n",
              "      box-shadow: 0px 1px 2px rgba(60, 64, 67, 0.3), 0px 1px 3px 1px rgba(60, 64, 67, 0.15);\n",
              "      fill: #174EA6;\n",
              "    }\n",
              "\n",
              "    .colab-df-buttons div {\n",
              "      margin-bottom: 4px;\n",
              "    }\n",
              "\n",
              "    [theme=dark] .colab-df-convert {\n",
              "      background-color: #3B4455;\n",
              "      fill: #D2E3FC;\n",
              "    }\n",
              "\n",
              "    [theme=dark] .colab-df-convert:hover {\n",
              "      background-color: #434B5C;\n",
              "      box-shadow: 0px 1px 3px 1px rgba(0, 0, 0, 0.15);\n",
              "      filter: drop-shadow(0px 1px 2px rgba(0, 0, 0, 0.3));\n",
              "      fill: #FFFFFF;\n",
              "    }\n",
              "  </style>\n",
              "\n",
              "    <script>\n",
              "      const buttonEl =\n",
              "        document.querySelector('#df-87743a1c-6c72-4216-89a0-ce827a1c6155 button.colab-df-convert');\n",
              "      buttonEl.style.display =\n",
              "        google.colab.kernel.accessAllowed ? 'block' : 'none';\n",
              "\n",
              "      async function convertToInteractive(key) {\n",
              "        const element = document.querySelector('#df-87743a1c-6c72-4216-89a0-ce827a1c6155');\n",
              "        const dataTable =\n",
              "          await google.colab.kernel.invokeFunction('convertToInteractive',\n",
              "                                                    [key], {});\n",
              "        if (!dataTable) return;\n",
              "\n",
              "        const docLinkHtml = 'Like what you see? Visit the ' +\n",
              "          '<a target=\"_blank\" href=https://colab.research.google.com/notebooks/data_table.ipynb>data table notebook</a>'\n",
              "          + ' to learn more about interactive tables.';\n",
              "        element.innerHTML = '';\n",
              "        dataTable['output_type'] = 'display_data';\n",
              "        await google.colab.output.renderOutput(dataTable, element);\n",
              "        const docLink = document.createElement('div');\n",
              "        docLink.innerHTML = docLinkHtml;\n",
              "        element.appendChild(docLink);\n",
              "      }\n",
              "    </script>\n",
              "  </div>\n",
              "\n",
              "\n",
              "    </div>\n",
              "  </div>\n"
            ],
            "application/vnd.google.colaboratory.intrinsic+json": {
              "type": "dataframe",
              "variable_name": "places",
              "summary": "{\n  \"name\": \"places\",\n  \"rows\": 8,\n  \"fields\": [\n    {\n      \"column\": \"address_name\",\n      \"properties\": {\n        \"dtype\": \"string\",\n        \"num_unique_values\": 8,\n        \"samples\": [\n          \"\\uc11c\\uc6b8 \\ub3d9\\ub300\\ubb38\\uad6c \\ud718\\uacbd\\ub3d9 380\",\n          \"\\uc11c\\uc6b8 \\ub3d9\\ub300\\ubb38\\uad6c \\ud718\\uacbd\\ub3d9 343-4\",\n          \"\\uc11c\\uc6b8 \\ub3d9\\ub300\\ubb38\\uad6c \\ud718\\uacbd\\ub3d9 302-2\"\n        ],\n        \"semantic_type\": \"\",\n        \"description\": \"\"\n      }\n    },\n    {\n      \"column\": \"category_group_code\",\n      \"properties\": {\n        \"dtype\": \"category\",\n        \"num_unique_values\": 1,\n        \"samples\": [\n          \"PS3\"\n        ],\n        \"semantic_type\": \"\",\n        \"description\": \"\"\n      }\n    },\n    {\n      \"column\": \"category_group_name\",\n      \"properties\": {\n        \"dtype\": \"category\",\n        \"num_unique_values\": 1,\n        \"samples\": [\n          \"\\uc5b4\\ub9b0\\uc774\\uc9d1,\\uc720\\uce58\\uc6d0\"\n        ],\n        \"semantic_type\": \"\",\n        \"description\": \"\"\n      }\n    },\n    {\n      \"column\": \"category_name\",\n      \"properties\": {\n        \"dtype\": \"category\",\n        \"num_unique_values\": 2,\n        \"samples\": [\n          \"\\uad50\\uc721,\\ud559\\ubb38 > \\uc720\\uc544\\uad50\\uc721 > \\uc5b4\\ub9b0\\uc774\\uc9d1\"\n        ],\n        \"semantic_type\": \"\",\n        \"description\": \"\"\n      }\n    },\n    {\n      \"column\": \"distance\",\n      \"properties\": {\n        \"dtype\": \"string\",\n        \"num_unique_values\": 7,\n        \"samples\": [\n          \"182\"\n        ],\n        \"semantic_type\": \"\",\n        \"description\": \"\"\n      }\n    },\n    {\n      \"column\": \"id\",\n      \"properties\": {\n        \"dtype\": \"string\",\n        \"num_unique_values\": 8,\n        \"samples\": [\n          \"21655642\"\n        ],\n        \"semantic_type\": \"\",\n        \"description\": \"\"\n      }\n    },\n    {\n      \"column\": \"phone\",\n      \"properties\": {\n        \"dtype\": \"string\",\n        \"num_unique_values\": 8,\n        \"samples\": [\n          \"02-2243-2831\"\n        ],\n        \"semantic_type\": \"\",\n        \"description\": \"\"\n      }\n    },\n    {\n      \"column\": \"place_name\",\n      \"properties\": {\n        \"dtype\": \"string\",\n        \"num_unique_values\": 8,\n        \"samples\": [\n          \"\\ud718\\uacbd\\uc5b4\\ub9b0\\uc774\\uc9d1\"\n        ],\n        \"semantic_type\": \"\",\n        \"description\": \"\"\n      }\n    },\n    {\n      \"column\": \"place_url\",\n      \"properties\": {\n        \"dtype\": \"string\",\n        \"num_unique_values\": 8,\n        \"samples\": [\n          \"http://place.map.kakao.com/21655642\"\n        ],\n        \"semantic_type\": \"\",\n        \"description\": \"\"\n      }\n    },\n    {\n      \"column\": \"road_address_name\",\n      \"properties\": {\n        \"dtype\": \"string\",\n        \"num_unique_values\": 8,\n        \"samples\": [\n          \"\\uc11c\\uc6b8 \\ub3d9\\ub300\\ubb38\\uad6c \\ub9dd\\uc6b0\\ub85c 46\"\n        ],\n        \"semantic_type\": \"\",\n        \"description\": \"\"\n      }\n    },\n    {\n      \"column\": \"x\",\n      \"properties\": {\n        \"dtype\": \"string\",\n        \"num_unique_values\": 8,\n        \"samples\": [\n          \"127.05879144938042\"\n        ],\n        \"semantic_type\": \"\",\n        \"description\": \"\"\n      }\n    },\n    {\n      \"column\": \"y\",\n      \"properties\": {\n        \"dtype\": \"string\",\n        \"num_unique_values\": 8,\n        \"samples\": [\n          \"37.58876601763209\"\n        ],\n        \"semantic_type\": \"\",\n        \"description\": \"\"\n      }\n    },\n    {\n      \"column\": \"geometry\",\n      \"properties\": {\n        \"dtype\": \"geometry\",\n        \"num_unique_values\": 8,\n        \"samples\": [\n          \"POINT (127.05879144938042 37.58876601763209)\"\n        ],\n        \"semantic_type\": \"\",\n        \"description\": \"\"\n      }\n    }\n  ]\n}"
            }
          },
          "metadata": {},
          "execution_count": 27
        }
      ],
      "source": [
        "def get_places_by_category(coordinate, radius, category_group_code, api_key):\n",
        "    # 정해진 반경에서 카테고리로 장소 검색\n",
        "    url = \"https://dapi.kakao.com/v2/local/search/category.json\"\n",
        "    headers = {\"Authorization\": f\"KakaoAK {api_key}\"}\n",
        "    params = {\"category_group_code\": category_group_code,\n",
        "              \"x\": coordinate[1],\n",
        "              \"y\": coordinate[0],\n",
        "              \"radius\": radius}\n",
        "\n",
        "    places = []\n",
        "    while True:\n",
        "        response = requests.get(url, headers=headers, params=params)\n",
        "        data = response.json()\n",
        "        places.extend(data.get(\"documents\", []))\n",
        "        if data[\"meta\"][\"is_end\"]:\n",
        "            break\n",
        "        else:\n",
        "            params[\"page\"] = params.get(\"page\", 1) + 1\n",
        "    return gpd.GeoDataFrame(\n",
        "        places,\n",
        "        geometry=gpd.points_from_xy(\n",
        "            [place[\"x\"] for place in places], [place[\"y\"] for place in places]\n",
        "        ),\n",
        "    )\n",
        "\n",
        "radius = 500\n",
        "category_group_code = \"PS3\"  # 어린이집,유치원\n",
        "\n",
        "places = get_places_by_category(coordinate, radius, category_group_code, api_key)\n",
        "print(f\"매장 개수: {len(places)}개\")\n",
        "places = places.set_crs(epsg=4326)\n",
        "places.to_file(\"places_by_category.gpkg\", driver=\"GPKG\")\n",
        "places.head(1)"
      ]
    },
    {
      "cell_type": "code",
      "execution_count": null,
      "id": "8d63e52a-aa65-4051-850a-f2ee1169a89d",
      "metadata": {
        "id": "8d63e52a-aa65-4051-850a-f2ee1169a89d",
        "outputId": "ef919a29-cb6a-4bfa-da13-63b60f09c617",
        "colab": {
          "base_uri": "https://localhost:8080/",
          "height": 521,
          "referenced_widgets": [
            "849039bae25f4ad689913ab9aa1de1c8",
            "f4cb1a933d054a13b624bee8ba489df6",
            "85c9e7bbc3b646cc84fbfce721c26a1a",
            "364aa78183e6486083cb5ba4d7f0b1bc",
            "1b46ecdc733b4a47abdfdc302dc9dc93",
            "97dfa0d0d57e464b8be56052b9705a52",
            "98a57b6833a54673a045f6eee09db342",
            "620cac56c54b4655ad10f1b3517db07d",
            "5953f2f45dc943e7821aea04a3075036",
            "76db369974bd41ff93760d4f26d52f73",
            "aa10a6224b07463792c3c6f72761edfa"
          ]
        }
      },
      "outputs": [
        {
          "output_type": "display_data",
          "data": {
            "text/plain": [
              "Map(center=[37.584828300773886, 127.05773316246166], controls=(ZoomControl(options=['position', 'zoom_in_text'…"
            ],
            "application/vnd.jupyter.widget-view+json": {
              "version_major": 2,
              "version_minor": 0,
              "model_id": "849039bae25f4ad689913ab9aa1de1c8"
            }
          },
          "metadata": {
            "application/vnd.jupyter.widget-view+json": {
              "colab": {
                "custom_widget_manager": {
                  "url": "https://ssl.gstatic.com/colaboratory-static/widgets/colab-cdn-widget-manager/2b70e893a8ba7c0f/manager.min.js"
                }
              }
            }
          }
        }
      ],
      "source": [
        "# GeoPandas 레이어를 GeoData로 변환\n",
        "geo_data = GeoData(\n",
        "    geo_dataframe=places,\n",
        "    point_style={\n",
        "        'radius': 7,  # 점 크기\n",
        "        'color': 'darkblue',  # 색상\n",
        "        'fillOpacity': 0.7,  # 투명도\n",
        "        'fillColor': 'lightblue',  # 점 내부 색상\n",
        "        'weight': 2  # 점 테두리\n",
        "    },\n",
        "    name='어린이집, 유치원'  # 레이어 이름\n",
        ")\n",
        "\n",
        "# Circle 생성\n",
        "circle = Circle()\n",
        "circle.location = coordinate  # 원의 중심 좌표\n",
        "circle.radius = radius  # 원의 반경\n",
        "circle.color = \"red\"  # 원의 테두리 색상\n",
        "circle.fill_color = \"red\"  # 원의 내부 색상\n",
        "circle.fill_opacity = 0.5  # 원의 내부 투명도\n",
        "\n",
        "# 지도 생성 (Vworld 백지도 사용)\n",
        "m = Map(center=coordinate,\n",
        "        zoom=16,\n",
        "        layers=[vworld_white],\n",
        "        layout={'width': '800px', 'height': '500px'})\n",
        "\n",
        "m.add_layer(marker)\n",
        "m.add_layer(circle)\n",
        "m.add_layer(geo_data)\n",
        "m"
      ]
    },
    {
      "cell_type": "markdown",
      "id": "a480672b-9524-4459-81a5-4f36261cb105",
      "metadata": {
        "id": "a480672b-9524-4459-81a5-4f36261cb105"
      },
      "source": [
        "## 사각형 범위 내에서 제한 검색하기\n",
        "\n",
        "검색 반경을 사각형 범위로 바꾸는 것도 가능합니다. 좌측 X 좌표, 좌측 Y 좌표, 우측 X 좌표, 우측 Y 좌표 형식으로 조회하면 됩니다."
      ]
    },
    {
      "cell_type": "code",
      "execution_count": null,
      "id": "5af59e97-1e5b-422e-a950-8d8610186ed0",
      "metadata": {
        "id": "5af59e97-1e5b-422e-a950-8d8610186ed0"
      },
      "outputs": [],
      "source": [
        "def get_places_by_category_with_rect(bbox, category_group_code, api_key):\n",
        "    # 사각형 영역에서 카테고리로 장소 검색\n",
        "    url = \"https://dapi.kakao.com/v2/local/search/category.json\"\n",
        "    headers = {\"Authorization\": f\"KakaoAK {api_key}\"}\n",
        "\n",
        "    params = {\"category_group_code\": category_group_code,\n",
        "              \"rect\": bbox}\n",
        "\n",
        "    places = []\n",
        "    while True:\n",
        "        response = requests.get(url, headers=headers, params=params)\n",
        "        data = response.json()\n",
        "        places.extend(data.get(\"documents\", []))\n",
        "        if data[\"meta\"][\"is_end\"]:\n",
        "            break\n",
        "        else:\n",
        "            params[\"page\"] = params.get(\"page\", 1) + 1\n",
        "\n",
        "    return gpd.GeoDataFrame(\n",
        "        places,\n",
        "        geometry=gpd.points_from_xy(\n",
        "            [float(place[\"x\"]) for place in places], [float(place[\"y\"]) for place in places]\n",
        "        ),\n",
        "    )"
      ]
    },
    {
      "cell_type": "code",
      "execution_count": null,
      "id": "ca796fa9-e35a-4951-bd96-3c8166050e85",
      "metadata": {
        "id": "ca796fa9-e35a-4951-bd96-3c8166050e85",
        "outputId": "600817ba-8b67-4c98-8e75-a633d40540fa",
        "colab": {
          "base_uri": "https://localhost:8080/",
          "height": 153
        }
      },
      "outputs": [
        {
          "output_type": "stream",
          "name": "stdout",
          "text": [
            "매장 개수: 33개\n"
          ]
        },
        {
          "output_type": "execute_result",
          "data": {
            "text/plain": [
              "      address_name category_group_code category_group_name     category_name  \\\n",
              "0  서울 동대문구 전농동 694                 SC4                  학교  교육,학문 > 학교 > 대학교   \n",
              "\n",
              "  distance        id         phone place_name  \\\n",
              "0           10498806  02-6490-6114    서울시립대학교   \n",
              "\n",
              "                             place_url   road_address_name  \\\n",
              "0  http://place.map.kakao.com/10498806  서울 동대문구 서울시립대로 163   \n",
              "\n",
              "                    x                   y                    geometry  \n",
              "0  127.05773316246166  37.584828300773886  POINT (127.05773 37.58483)  "
            ],
            "text/html": [
              "\n",
              "  <div id=\"df-aebd4d9d-fee1-4aaf-8893-11d7b4c8fbe6\" class=\"colab-df-container\">\n",
              "    <div>\n",
              "<style scoped>\n",
              "    .dataframe tbody tr th:only-of-type {\n",
              "        vertical-align: middle;\n",
              "    }\n",
              "\n",
              "    .dataframe tbody tr th {\n",
              "        vertical-align: top;\n",
              "    }\n",
              "\n",
              "    .dataframe thead th {\n",
              "        text-align: right;\n",
              "    }\n",
              "</style>\n",
              "<table border=\"1\" class=\"dataframe\">\n",
              "  <thead>\n",
              "    <tr style=\"text-align: right;\">\n",
              "      <th></th>\n",
              "      <th>address_name</th>\n",
              "      <th>category_group_code</th>\n",
              "      <th>category_group_name</th>\n",
              "      <th>category_name</th>\n",
              "      <th>distance</th>\n",
              "      <th>id</th>\n",
              "      <th>phone</th>\n",
              "      <th>place_name</th>\n",
              "      <th>place_url</th>\n",
              "      <th>road_address_name</th>\n",
              "      <th>x</th>\n",
              "      <th>y</th>\n",
              "      <th>geometry</th>\n",
              "    </tr>\n",
              "  </thead>\n",
              "  <tbody>\n",
              "    <tr>\n",
              "      <th>0</th>\n",
              "      <td>서울 동대문구 전농동 694</td>\n",
              "      <td>SC4</td>\n",
              "      <td>학교</td>\n",
              "      <td>교육,학문 &gt; 학교 &gt; 대학교</td>\n",
              "      <td></td>\n",
              "      <td>10498806</td>\n",
              "      <td>02-6490-6114</td>\n",
              "      <td>서울시립대학교</td>\n",
              "      <td>http://place.map.kakao.com/10498806</td>\n",
              "      <td>서울 동대문구 서울시립대로 163</td>\n",
              "      <td>127.05773316246166</td>\n",
              "      <td>37.584828300773886</td>\n",
              "      <td>POINT (127.05773 37.58483)</td>\n",
              "    </tr>\n",
              "  </tbody>\n",
              "</table>\n",
              "</div>\n",
              "    <div class=\"colab-df-buttons\">\n",
              "\n",
              "  <div class=\"colab-df-container\">\n",
              "    <button class=\"colab-df-convert\" onclick=\"convertToInteractive('df-aebd4d9d-fee1-4aaf-8893-11d7b4c8fbe6')\"\n",
              "            title=\"Convert this dataframe to an interactive table.\"\n",
              "            style=\"display:none;\">\n",
              "\n",
              "  <svg xmlns=\"http://www.w3.org/2000/svg\" height=\"24px\" viewBox=\"0 -960 960 960\">\n",
              "    <path d=\"M120-120v-720h720v720H120Zm60-500h600v-160H180v160Zm220 220h160v-160H400v160Zm0 220h160v-160H400v160ZM180-400h160v-160H180v160Zm440 0h160v-160H620v160ZM180-180h160v-160H180v160Zm440 0h160v-160H620v160Z\"/>\n",
              "  </svg>\n",
              "    </button>\n",
              "\n",
              "  <style>\n",
              "    .colab-df-container {\n",
              "      display:flex;\n",
              "      gap: 12px;\n",
              "    }\n",
              "\n",
              "    .colab-df-convert {\n",
              "      background-color: #E8F0FE;\n",
              "      border: none;\n",
              "      border-radius: 50%;\n",
              "      cursor: pointer;\n",
              "      display: none;\n",
              "      fill: #1967D2;\n",
              "      height: 32px;\n",
              "      padding: 0 0 0 0;\n",
              "      width: 32px;\n",
              "    }\n",
              "\n",
              "    .colab-df-convert:hover {\n",
              "      background-color: #E2EBFA;\n",
              "      box-shadow: 0px 1px 2px rgba(60, 64, 67, 0.3), 0px 1px 3px 1px rgba(60, 64, 67, 0.15);\n",
              "      fill: #174EA6;\n",
              "    }\n",
              "\n",
              "    .colab-df-buttons div {\n",
              "      margin-bottom: 4px;\n",
              "    }\n",
              "\n",
              "    [theme=dark] .colab-df-convert {\n",
              "      background-color: #3B4455;\n",
              "      fill: #D2E3FC;\n",
              "    }\n",
              "\n",
              "    [theme=dark] .colab-df-convert:hover {\n",
              "      background-color: #434B5C;\n",
              "      box-shadow: 0px 1px 3px 1px rgba(0, 0, 0, 0.15);\n",
              "      filter: drop-shadow(0px 1px 2px rgba(0, 0, 0, 0.3));\n",
              "      fill: #FFFFFF;\n",
              "    }\n",
              "  </style>\n",
              "\n",
              "    <script>\n",
              "      const buttonEl =\n",
              "        document.querySelector('#df-aebd4d9d-fee1-4aaf-8893-11d7b4c8fbe6 button.colab-df-convert');\n",
              "      buttonEl.style.display =\n",
              "        google.colab.kernel.accessAllowed ? 'block' : 'none';\n",
              "\n",
              "      async function convertToInteractive(key) {\n",
              "        const element = document.querySelector('#df-aebd4d9d-fee1-4aaf-8893-11d7b4c8fbe6');\n",
              "        const dataTable =\n",
              "          await google.colab.kernel.invokeFunction('convertToInteractive',\n",
              "                                                    [key], {});\n",
              "        if (!dataTable) return;\n",
              "\n",
              "        const docLinkHtml = 'Like what you see? Visit the ' +\n",
              "          '<a target=\"_blank\" href=https://colab.research.google.com/notebooks/data_table.ipynb>data table notebook</a>'\n",
              "          + ' to learn more about interactive tables.';\n",
              "        element.innerHTML = '';\n",
              "        dataTable['output_type'] = 'display_data';\n",
              "        await google.colab.output.renderOutput(dataTable, element);\n",
              "        const docLink = document.createElement('div');\n",
              "        docLink.innerHTML = docLinkHtml;\n",
              "        element.appendChild(docLink);\n",
              "      }\n",
              "    </script>\n",
              "  </div>\n",
              "\n",
              "\n",
              "    </div>\n",
              "  </div>\n"
            ],
            "application/vnd.google.colaboratory.intrinsic+json": {
              "type": "dataframe",
              "variable_name": "places",
              "summary": "{\n  \"name\": \"places\",\n  \"rows\": 33,\n  \"fields\": [\n    {\n      \"column\": \"address_name\",\n      \"properties\": {\n        \"dtype\": \"string\",\n        \"num_unique_values\": 28,\n        \"samples\": [\n          \"\\uc11c\\uc6b8 \\ub3d9\\ub300\\ubb38\\uad6c \\uc7a5\\uc548\\ub3d9 328\",\n          \"\\uc11c\\uc6b8 \\ub3d9\\ub300\\ubb38\\uad6c \\uccad\\ub7c9\\ub9ac\\ub3d9 206-44\",\n          \"\\uc11c\\uc6b8 \\ub3d9\\ub300\\ubb38\\uad6c \\ud718\\uacbd\\ub3d9 286-66\"\n        ],\n        \"semantic_type\": \"\",\n        \"description\": \"\"\n      }\n    },\n    {\n      \"column\": \"category_group_code\",\n      \"properties\": {\n        \"dtype\": \"category\",\n        \"num_unique_values\": 1,\n        \"samples\": [\n          \"SC4\"\n        ],\n        \"semantic_type\": \"\",\n        \"description\": \"\"\n      }\n    },\n    {\n      \"column\": \"category_group_name\",\n      \"properties\": {\n        \"dtype\": \"category\",\n        \"num_unique_values\": 1,\n        \"samples\": [\n          \"\\ud559\\uad50\"\n        ],\n        \"semantic_type\": \"\",\n        \"description\": \"\"\n      }\n    },\n    {\n      \"column\": \"category_name\",\n      \"properties\": {\n        \"dtype\": \"category\",\n        \"num_unique_values\": 5,\n        \"samples\": [\n          \"\\uad50\\uc721,\\ud559\\ubb38 > \\ud559\\uad50 > \\ucd08\\ub4f1\\ud559\\uad50\"\n        ],\n        \"semantic_type\": \"\",\n        \"description\": \"\"\n      }\n    },\n    {\n      \"column\": \"distance\",\n      \"properties\": {\n        \"dtype\": \"object\",\n        \"num_unique_values\": 1,\n        \"samples\": [\n          \"\"\n        ],\n        \"semantic_type\": \"\",\n        \"description\": \"\"\n      }\n    },\n    {\n      \"column\": \"id\",\n      \"properties\": {\n        \"dtype\": \"string\",\n        \"num_unique_values\": 33,\n        \"samples\": [\n          \"17358636\"\n        ],\n        \"semantic_type\": \"\",\n        \"description\": \"\"\n      }\n    },\n    {\n      \"column\": \"phone\",\n      \"properties\": {\n        \"dtype\": \"string\",\n        \"num_unique_values\": 33,\n        \"samples\": [\n          \"02-2116-7206\"\n        ],\n        \"semantic_type\": \"\",\n        \"description\": \"\"\n      }\n    },\n    {\n      \"column\": \"place_name\",\n      \"properties\": {\n        \"dtype\": \"string\",\n        \"num_unique_values\": 33,\n        \"samples\": [\n          \"\\ud718\\ubd09\\uace0\\ub4f1\\ud559\\uad50\"\n        ],\n        \"semantic_type\": \"\",\n        \"description\": \"\"\n      }\n    },\n    {\n      \"column\": \"place_url\",\n      \"properties\": {\n        \"dtype\": \"string\",\n        \"num_unique_values\": 33,\n        \"samples\": [\n          \"http://place.map.kakao.com/17358636\"\n        ],\n        \"semantic_type\": \"\",\n        \"description\": \"\"\n      }\n    },\n    {\n      \"column\": \"road_address_name\",\n      \"properties\": {\n        \"dtype\": \"string\",\n        \"num_unique_values\": 29,\n        \"samples\": [\n          \"\\uc11c\\uc6b8 \\ub3d9\\ub300\\ubb38\\uad6c \\ud55c\\ucc9c\\ub85c 290\"\n        ],\n        \"semantic_type\": \"\",\n        \"description\": \"\"\n      }\n    },\n    {\n      \"column\": \"x\",\n      \"properties\": {\n        \"dtype\": \"string\",\n        \"num_unique_values\": 33,\n        \"samples\": [\n          \"127.06903268100889\"\n        ],\n        \"semantic_type\": \"\",\n        \"description\": \"\"\n      }\n    },\n    {\n      \"column\": \"y\",\n      \"properties\": {\n        \"dtype\": \"string\",\n        \"num_unique_values\": 33,\n        \"samples\": [\n          \"37.58646744636223\"\n        ],\n        \"semantic_type\": \"\",\n        \"description\": \"\"\n      }\n    },\n    {\n      \"column\": \"geometry\",\n      \"properties\": {\n        \"dtype\": \"geometry\",\n        \"num_unique_values\": 33,\n        \"samples\": [\n          \"POINT (127.06903268100889 37.58646744636223)\"\n        ],\n        \"semantic_type\": \"\",\n        \"description\": \"\"\n      }\n    }\n  ]\n}"
            }
          },
          "metadata": {},
          "execution_count": 30
        }
      ],
      "source": [
        "# 좌측 X 좌표, 좌측 Y 좌표, 우측 X 좌표, 우측 Y 좌표 형식\n",
        "bbox = \"127.03506145225234,37.5938114125238,127.08040487267098,37.57584518902397\"\n",
        "\n",
        "category_group_code = \"SC4\" # 학교\n",
        "\n",
        "places = get_places_by_category_with_rect(bbox, category_group_code, api_key)\n",
        "print(f\"매장 개수: {len(places)}개\")\n",
        "places = places.set_crs(epsg=4326)\n",
        "places.to_file(\"places_by_category_with_rect.gpkg\", driver=\"GPKG\")\n",
        "places.head(1)"
      ]
    },
    {
      "cell_type": "code",
      "execution_count": null,
      "id": "2fbe147b-f417-40d6-a766-dc30e39e2a10",
      "metadata": {
        "id": "2fbe147b-f417-40d6-a766-dc30e39e2a10",
        "outputId": "14152b7b-7e6d-47c3-cf80-6b984e8eee4c",
        "colab": {
          "base_uri": "https://localhost:8080/",
          "height": 521,
          "referenced_widgets": [
            "29935238adf346d5bbe2a8c7251ff47d",
            "e30422c378644fbb81eea2349ba67d47",
            "7a3eee9a742444db8539e5995f8c38b3",
            "b45db8a4af9d41e6bf4f7235ab830dfc",
            "c8354907f3a44cdb92af98291ffc4ef2",
            "97dfa0d0d57e464b8be56052b9705a52",
            "98a57b6833a54673a045f6eee09db342",
            "c0ad6dd6a2824786a59b600522486b37",
            "6f48d5261f654d4bbd5cced51456ae2d",
            "7bb9d2e30ef0489db01ee4903087e40d",
            "c55dd390bf45400099352b2be52c136a"
          ]
        }
      },
      "outputs": [
        {
          "output_type": "display_data",
          "data": {
            "text/plain": [
              "Map(center=[37.584828300773886, 127.05773316246166], controls=(ZoomControl(options=['position', 'zoom_in_text'…"
            ],
            "application/vnd.jupyter.widget-view+json": {
              "version_major": 2,
              "version_minor": 0,
              "model_id": "29935238adf346d5bbe2a8c7251ff47d"
            }
          },
          "metadata": {
            "application/vnd.jupyter.widget-view+json": {
              "colab": {
                "custom_widget_manager": {
                  "url": "https://ssl.gstatic.com/colaboratory-static/widgets/colab-cdn-widget-manager/2b70e893a8ba7c0f/manager.min.js"
                }
              }
            }
          }
        }
      ],
      "source": [
        "# GeoPandas 레이어를 GeoData로 변환\n",
        "geo_data = GeoData(\n",
        "    geo_dataframe=places,\n",
        "    point_style={\n",
        "        'radius': 7,  # 점 크기\n",
        "        'color': 'darkblue',  # 색상\n",
        "        'fillOpacity': 0.7,  # 투명도\n",
        "        'fillColor': 'lightblue',  # 점 내부 색상\n",
        "        'weight': 2  # 점 테두리\n",
        "    },\n",
        "    name='학교'  # 레이어 이름\n",
        ")\n",
        "\n",
        "# Rectangle(사각형) 생성\n",
        "bbox_values = [float(val) for val in bbox.split(\",\")]\n",
        "\n",
        "# ((최소 위도, 최소 경도), (최대 위도, 최대 경도))\n",
        "bbox_bounds = ((bbox_values[1], bbox_values[0]), (bbox_values[3], bbox_values[2]))\n",
        "rectangle = Rectangle(bounds=bbox_bounds, color=\"red\", fill_opacity=0.2)\n",
        "\n",
        "# bbox_bounds에서 중앙 좌표 계산\n",
        "center_lat = (bbox_bounds[0][0] + bbox_bounds[1][0]) / 2\n",
        "center_lon = (bbox_bounds[0][1] + bbox_bounds[1][1]) / 2\n",
        "\n",
        "# 지도 생성 (Vworld 백지도 사용)\n",
        "m = Map(center=coordinate,\n",
        "        zoom=14,\n",
        "        layers=[vworld_white],\n",
        "        layout={'width': '800px', 'height': '500px'})\n",
        "\n",
        "m.add_layer(marker)\n",
        "m.add_layer(rectangle)\n",
        "m.add_layer(geo_data)\n",
        "m"
      ]
    },
    {
      "cell_type": "markdown",
      "source": [
        "검색하고자 하는 영역이 넓은 경우에는 전체 영역을 적정하게 분할하여 데이터를 수집한 후, 중복성을 제거하는 방식으로 병합하면 될 것 같습니다."
      ],
      "metadata": {
        "id": "Pcptg4TuUXYb"
      },
      "id": "Pcptg4TuUXYb"
    },
    {
      "cell_type": "code",
      "source": [],
      "metadata": {
        "id": "CNBVz5wyUmKd"
      },
      "id": "CNBVz5wyUmKd",
      "execution_count": null,
      "outputs": []
    }
  ],
  "metadata": {
    "kernelspec": {
      "display_name": "Python 3 (ipykernel)",
      "language": "python",
      "name": "python3"
    },
    "language_info": {
      "codemirror_mode": {
        "name": "ipython",
        "version": 3
      },
      "file_extension": ".py",
      "mimetype": "text/x-python",
      "name": "python",
      "nbconvert_exporter": "python",
      "pygments_lexer": "ipython3",
      "version": "3.10.11"
    },
    "colab": {
      "provenance": [],
      "include_colab_link": true
    },
    "widgets": {
      "application/vnd.jupyter.widget-state+json": {
        "3f24b8f4e2e0481fafb12912bd8eea96": {
          "model_module": "jupyter-leaflet",
          "model_name": "LeafletMapModel",
          "model_module_version": "^0.18",
          "state": {
            "_dom_classes": [],
            "_model_module": "jupyter-leaflet",
            "_model_module_version": "^0.18",
            "_model_name": "LeafletMapModel",
            "_view_count": null,
            "_view_module": "jupyter-leaflet",
            "_view_module_version": "^0.18",
            "_view_name": "LeafletMapView",
            "bottom": 6496188,
            "bounce_at_zoom_limits": true,
            "box_zoom": true,
            "center": [
              37.584828300773886,
              127.05773316246166
            ],
            "close_popup_on_click": true,
            "controls": [
              "IPY_MODEL_fb7f91d026a94c5799b83b09fa469f25",
              "IPY_MODEL_8251b1521b864c4695e77409148e7116"
            ],
            "crs": {
              "name": "EPSG3857",
              "custom": false
            },
            "default_style": "IPY_MODEL_784a60f7e7b64fcba75fb209d54eacd0",
            "double_click_zoom": true,
            "dragging": true,
            "dragging_style": "IPY_MODEL_f5a7f68c3fac40b8b78be658131075af",
            "east": 127.06632614135744,
            "fullscreen": false,
            "inertia": true,
            "inertia_deceleration": 3000,
            "inertia_max_speed": 1500,
            "interpolation": "bilinear",
            "keyboard": true,
            "keyboard_pan_offset": 80,
            "keyboard_zoom_offset": 1,
            "layers": [
              "IPY_MODEL_97dfa0d0d57e464b8be56052b9705a52",
              "IPY_MODEL_98a57b6833a54673a045f6eee09db342"
            ],
            "layout": "IPY_MODEL_89f390467e5e47aaa687be4ae758225c",
            "left": 14309528,
            "max_zoom": null,
            "min_zoom": null,
            "modisdate": "2024-03-21",
            "north": 37.589070951024716,
            "options": [
              "bounce_at_zoom_limits",
              "box_zoom",
              "center",
              "close_popup_on_click",
              "double_click_zoom",
              "dragging",
              "fullscreen",
              "inertia",
              "inertia_deceleration",
              "inertia_max_speed",
              "interpolation",
              "keyboard",
              "keyboard_pan_offset",
              "keyboard_zoom_offset",
              "max_zoom",
              "min_zoom",
              "prefer_canvas",
              "scroll_wheel_zoom",
              "tap",
              "tap_tolerance",
              "touch_zoom",
              "world_copy_jump",
              "zoom",
              "zoom_animation_threshold",
              "zoom_delta",
              "zoom_snap"
            ],
            "panes": {},
            "prefer_canvas": false,
            "right": 14310328,
            "scroll_wheel_zoom": false,
            "south": 37.580568871292,
            "style": "IPY_MODEL_5db32217e06142b18baf72ce29ad8156",
            "tap": true,
            "tap_tolerance": 15,
            "top": 6495688,
            "touch_zoom": true,
            "west": 127.04916000366212,
            "window_url": "https://daz4xvmqgx7-496ff2e9c6d22116-0-colab.googleusercontent.com/outputframe.html?vrz=colab_20240320-060147_RC00_617469838",
            "world_copy_jump": false,
            "zoom": 16,
            "zoom_animation_threshold": 4,
            "zoom_delta": 1,
            "zoom_snap": 1
          }
        },
        "fb7f91d026a94c5799b83b09fa469f25": {
          "model_module": "jupyter-leaflet",
          "model_name": "LeafletZoomControlModel",
          "model_module_version": "^0.18",
          "state": {
            "_model_module": "jupyter-leaflet",
            "_model_module_version": "^0.18",
            "_model_name": "LeafletZoomControlModel",
            "_view_count": null,
            "_view_module": "jupyter-leaflet",
            "_view_module_version": "^0.18",
            "_view_name": "LeafletZoomControlView",
            "options": [
              "position",
              "zoom_in_text",
              "zoom_in_title",
              "zoom_out_text",
              "zoom_out_title"
            ],
            "position": "topleft",
            "zoom_in_text": "+",
            "zoom_in_title": "Zoom in",
            "zoom_out_text": "-",
            "zoom_out_title": "Zoom out"
          }
        },
        "8251b1521b864c4695e77409148e7116": {
          "model_module": "jupyter-leaflet",
          "model_name": "LeafletAttributionControlModel",
          "model_module_version": "^0.18",
          "state": {
            "_model_module": "jupyter-leaflet",
            "_model_module_version": "^0.18",
            "_model_name": "LeafletAttributionControlModel",
            "_view_count": null,
            "_view_module": "jupyter-leaflet",
            "_view_module_version": "^0.18",
            "_view_name": "LeafletAttributionControlView",
            "options": [
              "position",
              "prefix"
            ],
            "position": "bottomright",
            "prefix": "ipyleaflet"
          }
        },
        "784a60f7e7b64fcba75fb209d54eacd0": {
          "model_module": "jupyter-leaflet",
          "model_name": "LeafletMapStyleModel",
          "model_module_version": "^0.18",
          "state": {
            "_model_module": "jupyter-leaflet",
            "_model_module_version": "^0.18",
            "_model_name": "LeafletMapStyleModel",
            "_view_count": null,
            "_view_module": "@jupyter-widgets/base",
            "_view_module_version": "1.2.0",
            "_view_name": "StyleView",
            "cursor": "grab"
          }
        },
        "f5a7f68c3fac40b8b78be658131075af": {
          "model_module": "jupyter-leaflet",
          "model_name": "LeafletMapStyleModel",
          "model_module_version": "^0.18",
          "state": {
            "_model_module": "jupyter-leaflet",
            "_model_module_version": "^0.18",
            "_model_name": "LeafletMapStyleModel",
            "_view_count": null,
            "_view_module": "@jupyter-widgets/base",
            "_view_module_version": "1.2.0",
            "_view_name": "StyleView",
            "cursor": "move"
          }
        },
        "97dfa0d0d57e464b8be56052b9705a52": {
          "model_module": "jupyter-leaflet",
          "model_name": "LeafletTileLayerModel",
          "model_module_version": "^0.18",
          "state": {
            "_model_module": "jupyter-leaflet",
            "_model_module_version": "^0.18",
            "_model_name": "LeafletTileLayerModel",
            "_view_count": null,
            "_view_module": "jupyter-leaflet",
            "_view_module_version": "^0.18",
            "_view_name": "LeafletTileLayerView",
            "attribution": "Vworld",
            "base": false,
            "bottom": true,
            "bounds": null,
            "detect_retina": false,
            "loading": false,
            "max_native_zoom": null,
            "max_zoom": 18,
            "min_native_zoom": null,
            "min_zoom": 0,
            "name": "Vworld White",
            "no_wrap": false,
            "opacity": 1,
            "options": [
              "attribution",
              "bounds",
              "detect_retina",
              "max_native_zoom",
              "max_zoom",
              "min_native_zoom",
              "min_zoom",
              "no_wrap",
              "tile_size",
              "tms",
              "zoom_offset"
            ],
            "pane": "",
            "popup": null,
            "popup_max_height": null,
            "popup_max_width": 300,
            "popup_min_width": 50,
            "show_loading": false,
            "subitems": [],
            "tile_size": 256,
            "tms": false,
            "url": "https://xdworld.vworld.kr/2d/white/service/{z}/{x}/{y}.png",
            "visible": true,
            "zoom_offset": 0
          }
        },
        "98a57b6833a54673a045f6eee09db342": {
          "model_module": "jupyter-leaflet",
          "model_name": "LeafletMarkerModel",
          "model_module_version": "^0.18",
          "state": {
            "_model_module": "jupyter-leaflet",
            "_model_module_version": "^0.18",
            "_model_name": "LeafletMarkerModel",
            "_view_count": null,
            "_view_module": "jupyter-leaflet",
            "_view_module_version": "^0.18",
            "_view_name": "LeafletMarkerView",
            "alt": "",
            "base": false,
            "bottom": false,
            "draggable": false,
            "icon": null,
            "keyboard": true,
            "location": [
              37.584828300773886,
              127.05773316246166
            ],
            "name": "",
            "opacity": 1,
            "options": [
              "alt",
              "draggable",
              "keyboard",
              "rise_offset",
              "rise_on_hover",
              "rotation_angle",
              "rotation_origin",
              "title",
              "z_index_offset"
            ],
            "pane": "",
            "popup": null,
            "popup_max_height": null,
            "popup_max_width": 300,
            "popup_min_width": 50,
            "rise_offset": 250,
            "rise_on_hover": false,
            "rotation_angle": 0,
            "rotation_origin": "",
            "subitems": [],
            "title": "",
            "visible": true,
            "z_index_offset": 0
          }
        },
        "89f390467e5e47aaa687be4ae758225c": {
          "model_module": "@jupyter-widgets/base",
          "model_name": "LayoutModel",
          "model_module_version": "1.2.0",
          "state": {
            "_model_module": "@jupyter-widgets/base",
            "_model_module_version": "1.2.0",
            "_model_name": "LayoutModel",
            "_view_count": null,
            "_view_module": "@jupyter-widgets/base",
            "_view_module_version": "1.2.0",
            "_view_name": "LayoutView",
            "align_content": null,
            "align_items": null,
            "align_self": null,
            "border": null,
            "bottom": null,
            "display": null,
            "flex": null,
            "flex_flow": null,
            "grid_area": null,
            "grid_auto_columns": null,
            "grid_auto_flow": null,
            "grid_auto_rows": null,
            "grid_column": null,
            "grid_gap": null,
            "grid_row": null,
            "grid_template_areas": null,
            "grid_template_columns": null,
            "grid_template_rows": null,
            "height": "500px",
            "justify_content": null,
            "justify_items": null,
            "left": null,
            "margin": null,
            "max_height": null,
            "max_width": null,
            "min_height": null,
            "min_width": null,
            "object_fit": null,
            "object_position": null,
            "order": null,
            "overflow": null,
            "overflow_x": null,
            "overflow_y": null,
            "padding": null,
            "right": null,
            "top": null,
            "visibility": null,
            "width": "800px"
          }
        },
        "5db32217e06142b18baf72ce29ad8156": {
          "model_module": "jupyter-leaflet",
          "model_name": "LeafletMapStyleModel",
          "model_module_version": "^0.18",
          "state": {
            "_model_module": "jupyter-leaflet",
            "_model_module_version": "^0.18",
            "_model_name": "LeafletMapStyleModel",
            "_view_count": null,
            "_view_module": "@jupyter-widgets/base",
            "_view_module_version": "1.2.0",
            "_view_name": "StyleView",
            "cursor": "grab"
          }
        },
        "37160bd08400409cb5ecfa228ad6f67b": {
          "model_module": "jupyter-leaflet",
          "model_name": "LeafletMapModel",
          "model_module_version": "^0.18",
          "state": {
            "_dom_classes": [],
            "_model_module": "jupyter-leaflet",
            "_model_module_version": "^0.18",
            "_model_name": "LeafletMapModel",
            "_view_count": null,
            "_view_module": "jupyter-leaflet",
            "_view_module_version": "^0.18",
            "_view_name": "LeafletMapView",
            "bottom": 203248,
            "bounce_at_zoom_limits": true,
            "box_zoom": true,
            "center": [
              37.584828300773886,
              127.05773316246166
            ],
            "close_popup_on_click": true,
            "controls": [
              "IPY_MODEL_b44ee84e30fb408380beec5b80450d9c",
              "IPY_MODEL_c432c86f0c1549de94bf99b88ad0777e"
            ],
            "crs": {
              "name": "EPSG3857",
              "custom": false
            },
            "default_style": "IPY_MODEL_d37ce9f872f94111bfc2655f557b2442",
            "double_click_zoom": true,
            "dragging": true,
            "dragging_style": "IPY_MODEL_046f3f27001c4a1e9d73dbca6f4f31e4",
            "east": 127.33222961425783,
            "fullscreen": false,
            "inertia": true,
            "inertia_deceleration": 3000,
            "inertia_max_speed": 1500,
            "interpolation": "bilinear",
            "keyboard": true,
            "keyboard_pan_offset": 80,
            "keyboard_zoom_offset": 1,
            "layers": [
              "IPY_MODEL_97dfa0d0d57e464b8be56052b9705a52",
              "IPY_MODEL_98a57b6833a54673a045f6eee09db342",
              "IPY_MODEL_74b3a887870448188651a86b7bf0782c",
              "IPY_MODEL_7b393bf032164f59b2f1425250870c5b"
            ],
            "layout": "IPY_MODEL_4a55fb2884c841bba60725f2ca3034db",
            "left": 446785,
            "max_zoom": null,
            "min_zoom": null,
            "modisdate": "2024-03-21",
            "north": 37.72076290898376,
            "options": [
              "bounce_at_zoom_limits",
              "box_zoom",
              "center",
              "close_popup_on_click",
              "double_click_zoom",
              "dragging",
              "fullscreen",
              "inertia",
              "inertia_deceleration",
              "inertia_max_speed",
              "interpolation",
              "keyboard",
              "keyboard_pan_offset",
              "keyboard_zoom_offset",
              "max_zoom",
              "min_zoom",
              "prefer_canvas",
              "scroll_wheel_zoom",
              "tap",
              "tap_tolerance",
              "touch_zoom",
              "world_copy_jump",
              "zoom",
              "zoom_animation_threshold",
              "zoom_delta",
              "zoom_snap"
            ],
            "panes": {},
            "prefer_canvas": false,
            "right": 447585,
            "scroll_wheel_zoom": false,
            "south": 37.448696585910376,
            "style": "IPY_MODEL_0909b9d54ae34496aebecb7cf13a98b2",
            "tap": true,
            "tap_tolerance": 15,
            "top": 202748,
            "touch_zoom": true,
            "west": 126.78291320800783,
            "window_url": "https://daz4xvmqgx7-496ff2e9c6d22116-0-colab.googleusercontent.com/outputframe.html?vrz=colab_20240320-060147_RC00_617469838",
            "world_copy_jump": false,
            "zoom": 11,
            "zoom_animation_threshold": 4,
            "zoom_delta": 1,
            "zoom_snap": 1
          }
        },
        "b44ee84e30fb408380beec5b80450d9c": {
          "model_module": "jupyter-leaflet",
          "model_name": "LeafletZoomControlModel",
          "model_module_version": "^0.18",
          "state": {
            "_model_module": "jupyter-leaflet",
            "_model_module_version": "^0.18",
            "_model_name": "LeafletZoomControlModel",
            "_view_count": null,
            "_view_module": "jupyter-leaflet",
            "_view_module_version": "^0.18",
            "_view_name": "LeafletZoomControlView",
            "options": [
              "position",
              "zoom_in_text",
              "zoom_in_title",
              "zoom_out_text",
              "zoom_out_title"
            ],
            "position": "topleft",
            "zoom_in_text": "+",
            "zoom_in_title": "Zoom in",
            "zoom_out_text": "-",
            "zoom_out_title": "Zoom out"
          }
        },
        "c432c86f0c1549de94bf99b88ad0777e": {
          "model_module": "jupyter-leaflet",
          "model_name": "LeafletAttributionControlModel",
          "model_module_version": "^0.18",
          "state": {
            "_model_module": "jupyter-leaflet",
            "_model_module_version": "^0.18",
            "_model_name": "LeafletAttributionControlModel",
            "_view_count": null,
            "_view_module": "jupyter-leaflet",
            "_view_module_version": "^0.18",
            "_view_name": "LeafletAttributionControlView",
            "options": [
              "position",
              "prefix"
            ],
            "position": "bottomright",
            "prefix": "ipyleaflet"
          }
        },
        "d37ce9f872f94111bfc2655f557b2442": {
          "model_module": "jupyter-leaflet",
          "model_name": "LeafletMapStyleModel",
          "model_module_version": "^0.18",
          "state": {
            "_model_module": "jupyter-leaflet",
            "_model_module_version": "^0.18",
            "_model_name": "LeafletMapStyleModel",
            "_view_count": null,
            "_view_module": "@jupyter-widgets/base",
            "_view_module_version": "1.2.0",
            "_view_name": "StyleView",
            "cursor": "grab"
          }
        },
        "046f3f27001c4a1e9d73dbca6f4f31e4": {
          "model_module": "jupyter-leaflet",
          "model_name": "LeafletMapStyleModel",
          "model_module_version": "^0.18",
          "state": {
            "_model_module": "jupyter-leaflet",
            "_model_module_version": "^0.18",
            "_model_name": "LeafletMapStyleModel",
            "_view_count": null,
            "_view_module": "@jupyter-widgets/base",
            "_view_module_version": "1.2.0",
            "_view_name": "StyleView",
            "cursor": "move"
          }
        },
        "74b3a887870448188651a86b7bf0782c": {
          "model_module": "jupyter-leaflet",
          "model_name": "LeafletCircleModel",
          "model_module_version": "^0.18",
          "state": {
            "_model_module": "jupyter-leaflet",
            "_model_module_version": "^0.18",
            "_model_name": "LeafletCircleModel",
            "_view_count": null,
            "_view_module": "jupyter-leaflet",
            "_view_module_version": "^0.18",
            "_view_name": "LeafletCircleView",
            "base": false,
            "bottom": false,
            "color": "red",
            "dash_array": null,
            "fill": true,
            "fill_color": "red",
            "fill_opacity": 0.5,
            "line_cap": "round",
            "line_join": "round",
            "location": [
              37.584828300773886,
              127.05773316246166
            ],
            "name": "",
            "opacity": 1,
            "options": [
              "color",
              "dash_array",
              "fill",
              "fill_color",
              "fill_opacity",
              "line_cap",
              "line_join",
              "opacity",
              "pointer_events",
              "radius",
              "stroke",
              "weight"
            ],
            "pane": "",
            "pointer_events": "",
            "popup": null,
            "popup_max_height": null,
            "popup_max_width": 300,
            "popup_min_width": 50,
            "radius": 20000,
            "stroke": true,
            "subitems": [],
            "weight": 5
          }
        },
        "7b393bf032164f59b2f1425250870c5b": {
          "model_module": "jupyter-leaflet",
          "model_name": "LeafletGeoJSONModel",
          "model_module_version": "^0.18",
          "state": {
            "_model_module": "jupyter-leaflet",
            "_model_module_version": "^0.18",
            "_model_name": "LeafletGeoJSONModel",
            "_view_count": null,
            "_view_module": "jupyter-leaflet",
            "_view_module_version": "^0.18",
            "_view_name": "LeafletGeoJSONView",
            "base": false,
            "bottom": false,
            "data": {
              "type": "FeatureCollection",
              "features": [
                {
                  "id": "0",
                  "type": "Feature",
                  "properties": {
                    "address_name": "서울 동대문구 전농동 591-53",
                    "category_group_code": "",
                    "category_group_name": "",
                    "category_name": "문화,예술 > 도서 > 서점 > 교보문고",
                    "distance": "891",
                    "id": "253947105",
                    "phone": "1544-1900",
                    "place_name": "교보문고 청량리점",
                    "place_url": "http://place.map.kakao.com/253947105",
                    "road_address_name": "서울 동대문구 왕산로 214",
                    "x": "127.049079477084",
                    "y": "37.5806966564292"
                  },
                  "geometry": {
                    "type": "Point",
                    "coordinates": [
                      127.049079477084,
                      37.5806966564292
                    ]
                  }
                },
                {
                  "id": "1",
                  "type": "Feature",
                  "properties": {
                    "address_name": "서울 중구 을지로6가 17-2",
                    "category_group_code": "",
                    "category_group_name": "",
                    "category_name": "문화,예술 > 도서 > 서점 > 교보문고",
                    "distance": "4756",
                    "id": "27533166",
                    "phone": "02-2283-2131",
                    "place_name": "교보문고 동대문점",
                    "place_url": "http://place.map.kakao.com/27533166",
                    "road_address_name": "",
                    "x": "127.00797671135294",
                    "y": "37.56843684371349"
                  },
                  "geometry": {
                    "type": "Point",
                    "coordinates": [
                      127.00797671135294,
                      37.56843684371349
                    ]
                  }
                },
                {
                  "id": "2",
                  "type": "Feature",
                  "properties": {
                    "address_name": "서울 광진구 자양동 227-342",
                    "category_group_code": "",
                    "category_group_name": "",
                    "category_name": "문화,예술 > 도서 > 서점 > 교보문고",
                    "distance": "5198",
                    "id": "411660590",
                    "phone": "1544-1900",
                    "place_name": "교보문고 건대스타시티점",
                    "place_url": "http://place.map.kakao.com/411660590",
                    "road_address_name": "",
                    "x": "127.07161423634196",
                    "y": "37.539308661738474"
                  },
                  "geometry": {
                    "type": "Point",
                    "coordinates": [
                      127.07161423634196,
                      37.539308661738474
                    ]
                  }
                },
                {
                  "id": "3",
                  "type": "Feature",
                  "properties": {
                    "address_name": "서울 종로구 세종로 119",
                    "category_group_code": "",
                    "category_group_name": "",
                    "category_name": "문화,예술 > 도서 > 서점 > 교보문고",
                    "distance": "7220",
                    "id": "8196057",
                    "phone": "1544-1900",
                    "place_name": "교보문고 광화문점",
                    "place_url": "http://place.map.kakao.com/8196057",
                    "road_address_name": "서울 종로구 종로 1",
                    "x": "126.977908555263",
                    "y": "37.5707974563789"
                  },
                  "geometry": {
                    "type": "Point",
                    "coordinates": [
                      126.977908555263,
                      37.5707974563789
                    ]
                  }
                },
                {
                  "id": "4",
                  "type": "Feature",
                  "properties": {
                    "address_name": "서울 강북구 번동 418-6",
                    "category_group_code": "",
                    "category_group_name": "",
                    "category_name": "문화,예술 > 도서 > 서점 > 교보문고",
                    "distance": "6543",
                    "id": "26928483",
                    "phone": "02-999-3501",
                    "place_name": "교보문고 수유점",
                    "place_url": "http://place.map.kakao.com/26928483",
                    "road_address_name": "서울 강북구 도봉로 348",
                    "x": "127.026548206045",
                    "y": "37.6383131328318"
                  },
                  "geometry": {
                    "type": "Point",
                    "coordinates": [
                      127.026548206045,
                      37.6383131328318
                    ]
                  }
                },
                {
                  "id": "5",
                  "type": "Feature",
                  "properties": {
                    "address_name": "서울 강동구 천호동 425-5",
                    "category_group_code": "",
                    "category_group_name": "",
                    "category_name": "문화,예술 > 도서 > 서점 > 교보문고",
                    "distance": "7689",
                    "id": "763711816",
                    "phone": "1544-1900",
                    "place_name": "교보문고 천호점",
                    "place_url": "http://place.map.kakao.com/763711816",
                    "road_address_name": "서울 강동구 올림픽로 664",
                    "x": "127.12472284062106",
                    "y": "37.540605199583034"
                  },
                  "geometry": {
                    "type": "Point",
                    "coordinates": [
                      127.12472284062106,
                      37.540605199583034
                    ]
                  }
                },
                {
                  "id": "6",
                  "type": "Feature",
                  "properties": {
                    "address_name": "서울 송파구 신천동 7-18",
                    "category_group_code": "",
                    "category_group_name": "",
                    "category_name": "문화,예술 > 도서 > 서점 > 교보문고",
                    "distance": "8742",
                    "id": "8196058",
                    "phone": "1544-1900",
                    "place_name": "교보문고 잠실점",
                    "place_url": "http://place.map.kakao.com/8196058",
                    "road_address_name": "서울 송파구 올림픽로 269",
                    "x": "127.10143451692626",
                    "y": "37.51415517282629"
                  },
                  "geometry": {
                    "type": "Point",
                    "coordinates": [
                      127.10143451692626,
                      37.51415517282629
                    ]
                  }
                },
                {
                  "id": "7",
                  "type": "Feature",
                  "properties": {
                    "address_name": "서울 서초구 서초동 1303-22",
                    "category_group_code": "",
                    "category_group_name": "",
                    "category_name": "문화,예술 > 도서 > 서점 > 교보문고",
                    "distance": "9478",
                    "id": "14690303",
                    "phone": "1544-1900",
                    "place_name": "교보문고 강남점",
                    "place_url": "http://place.map.kakao.com/14690303",
                    "road_address_name": "서울 서초구 강남대로 465",
                    "x": "127.02416053377571",
                    "y": "37.503718471783074"
                  },
                  "geometry": {
                    "type": "Point",
                    "coordinates": [
                      127.02416053377571,
                      37.503718471783074
                    ]
                  }
                },
                {
                  "id": "8",
                  "type": "Feature",
                  "properties": {
                    "address_name": "서울 강남구 역삼동 800",
                    "category_group_code": "",
                    "category_group_name": "",
                    "category_name": "문화,예술 > 도서 > 서점 > 교보문고",
                    "distance": "9357",
                    "id": "1229968591",
                    "phone": "1544-1900",
                    "place_name": "교보문고 신논현역스토어",
                    "place_url": "http://place.map.kakao.com/1229968591",
                    "road_address_name": "서울 강남구 봉은사로 지하 102",
                    "x": "127.025031672894",
                    "y": "37.504634612957"
                  },
                  "geometry": {
                    "type": "Point",
                    "coordinates": [
                      127.025031672894,
                      37.504634612957
                    ]
                  }
                },
                {
                  "id": "9",
                  "type": "Feature",
                  "properties": {
                    "address_name": "서울 서대문구 대현동 11-1",
                    "category_group_code": "",
                    "category_group_name": "",
                    "category_name": "문화,예술 > 도서 > 서점 > 교보문고",
                    "distance": "10141",
                    "id": "11621749",
                    "phone": "02-393-1641",
                    "place_name": "교보문고 이화여대교내서점",
                    "place_url": "http://place.map.kakao.com/11621749",
                    "road_address_name": "서울 서대문구 이화여대길 52",
                    "x": "126.9467238307828",
                    "y": "37.56154238314316"
                  },
                  "geometry": {
                    "type": "Point",
                    "coordinates": [
                      126.9467238307828,
                      37.56154238314316
                    ]
                  }
                },
                {
                  "id": "10",
                  "type": "Feature",
                  "properties": {
                    "address_name": "서울 마포구 합정동 473",
                    "category_group_code": "",
                    "category_group_name": "",
                    "category_name": "문화,예술 > 도서 > 서점 > 교보문고",
                    "distance": "13386",
                    "id": "1320932932",
                    "phone": "1544-1900",
                    "place_name": "교보문고 합정점",
                    "place_url": "http://place.map.kakao.com/1320932932",
                    "road_address_name": "서울 마포구 월드컵로3길 14",
                    "x": "126.91228338125131",
                    "y": "37.5510324090502"
                  },
                  "geometry": {
                    "type": "Point",
                    "coordinates": [
                      126.91228338125131,
                      37.5510324090502
                    ]
                  }
                },
                {
                  "id": "11",
                  "type": "Feature",
                  "properties": {
                    "address_name": "서울 영등포구 영등포동4가 442",
                    "category_group_code": "",
                    "category_group_name": "",
                    "category_name": "문화,예술 > 도서 > 서점 > 교보문고",
                    "distance": "15631",
                    "id": "11411464",
                    "phone": "1544-1900",
                    "place_name": "교보문고 영등포점",
                    "place_url": "http://place.map.kakao.com/11411464",
                    "road_address_name": "서울 영등포구 영중로 15",
                    "x": "126.902720913986",
                    "y": "37.5169734028965"
                  },
                  "geometry": {
                    "type": "Point",
                    "coordinates": [
                      126.902720913986,
                      37.5169734028965
                    ]
                  }
                },
                {
                  "id": "12",
                  "type": "Feature",
                  "properties": {
                    "address_name": "서울 양천구 목동 917-1",
                    "category_group_code": "",
                    "category_group_name": "",
                    "category_name": "문화,예술 > 도서 > 서점 > 교보문고",
                    "distance": "17337",
                    "id": "18602855",
                    "phone": "1544-1900",
                    "place_name": "교보문고 목동점",
                    "place_url": "http://place.map.kakao.com/18602855",
                    "road_address_name": "서울 양천구 목동서로 159-1",
                    "x": "126.87495536206144",
                    "y": "37.52799896377168"
                  },
                  "geometry": {
                    "type": "Point",
                    "coordinates": [
                      126.87495536206144,
                      37.52799896377168
                    ]
                  }
                },
                {
                  "id": "13",
                  "type": "Feature",
                  "properties": {
                    "address_name": "서울 송파구 문정동 634",
                    "category_group_code": "",
                    "category_group_name": "",
                    "category_name": "문화,예술 > 도서 > 서점 > 교보문고",
                    "distance": "13336",
                    "id": "460840510",
                    "phone": "02-2157-3401",
                    "place_name": "교보문고/핫트랙스 현대아울렛가든파이브점",
                    "place_url": "http://place.map.kakao.com/460840510",
                    "road_address_name": "서울 송파구 충민로 66",
                    "x": "127.12460140234379",
                    "y": "37.47710345170128"
                  },
                  "geometry": {
                    "type": "Point",
                    "coordinates": [
                      127.12460140234379,
                      37.47710345170128
                    ]
                  }
                },
                {
                  "id": "14",
                  "type": "Feature",
                  "properties": {
                    "address_name": "서울 마포구 상암동 1596",
                    "category_group_code": "",
                    "category_group_name": "",
                    "category_name": "문화,예술 > 도서 > 서점 > 교보문고",
                    "distance": "14918",
                    "id": "1402846949",
                    "phone": "1544-1900",
                    "place_name": "교보문고 이비즈니스본부",
                    "place_url": "http://place.map.kakao.com/1402846949",
                    "road_address_name": "서울 마포구 월드컵북로54길 25",
                    "x": "126.888869395142",
                    "y": "37.5821420885893"
                  },
                  "geometry": {
                    "type": "Point",
                    "coordinates": [
                      126.888869395142,
                      37.5821420885893
                    ]
                  }
                },
                {
                  "id": "15",
                  "type": "Feature",
                  "properties": {
                    "address_name": "서울 구로구 신도림동 692",
                    "category_group_code": "",
                    "category_group_name": "",
                    "category_name": "문화,예술 > 도서 > 서점 > 교보문고",
                    "distance": "17099",
                    "id": "26492544",
                    "phone": "1544-1900",
                    "place_name": "교보문고 신도림디큐브시티점",
                    "place_url": "http://place.map.kakao.com/26492544",
                    "road_address_name": "서울 구로구 경인로 662",
                    "x": "126.88937621728",
                    "y": "37.5088814570402"
                  },
                  "geometry": {
                    "type": "Point",
                    "coordinates": [
                      126.88937621728,
                      37.5088814570402
                    ]
                  }
                },
                {
                  "id": "16",
                  "type": "Feature",
                  "properties": {
                    "address_name": "서울 은평구 진관동 63",
                    "category_group_code": "",
                    "category_group_name": "",
                    "category_name": "문화,예술 > 도서 > 서점 > 교보문고",
                    "distance": "13615",
                    "id": "286237628",
                    "phone": "1544-1900",
                    "place_name": "교보문고 은평점",
                    "place_url": "http://place.map.kakao.com/286237628",
                    "road_address_name": "서울 은평구 통일로 1050",
                    "x": "126.9178874471446",
                    "y": "37.63651801162785"
                  },
                  "geometry": {
                    "type": "Point",
                    "coordinates": [
                      126.9178874471446,
                      37.63651801162785
                    ]
                  }
                },
                {
                  "id": "17",
                  "type": "Feature",
                  "properties": {
                    "address_name": "서울 관악구 신림동 산 56-1",
                    "category_group_code": "",
                    "category_group_name": "",
                    "category_name": "문화,예술 > 도서 > 서점 > 교보문고",
                    "distance": "16841",
                    "id": "11621793",
                    "phone": "02-880-8581",
                    "place_name": "교보문고 서울대교내서점",
                    "place_url": "http://place.map.kakao.com/11621793",
                    "road_address_name": "서울 관악구 관악로 1",
                    "x": "126.95057268434971",
                    "y": "37.45936204472003"
                  },
                  "geometry": {
                    "type": "Point",
                    "coordinates": [
                      126.95057268434971,
                      37.45936204472003
                    ]
                  }
                }
              ]
            },
            "hover_style": {},
            "layers": [],
            "name": "교보문고",
            "options": [],
            "pane": "",
            "point_style": {
              "radius": 7,
              "color": "darkblue",
              "fillOpacity": 0.7,
              "fillColor": "lightblue",
              "weight": 2
            },
            "popup": null,
            "popup_max_height": null,
            "popup_max_width": 300,
            "popup_min_width": 50,
            "style": {},
            "subitems": [],
            "visible": true
          }
        },
        "4a55fb2884c841bba60725f2ca3034db": {
          "model_module": "@jupyter-widgets/base",
          "model_name": "LayoutModel",
          "model_module_version": "1.2.0",
          "state": {
            "_model_module": "@jupyter-widgets/base",
            "_model_module_version": "1.2.0",
            "_model_name": "LayoutModel",
            "_view_count": null,
            "_view_module": "@jupyter-widgets/base",
            "_view_module_version": "1.2.0",
            "_view_name": "LayoutView",
            "align_content": null,
            "align_items": null,
            "align_self": null,
            "border": null,
            "bottom": null,
            "display": null,
            "flex": null,
            "flex_flow": null,
            "grid_area": null,
            "grid_auto_columns": null,
            "grid_auto_flow": null,
            "grid_auto_rows": null,
            "grid_column": null,
            "grid_gap": null,
            "grid_row": null,
            "grid_template_areas": null,
            "grid_template_columns": null,
            "grid_template_rows": null,
            "height": "500px",
            "justify_content": null,
            "justify_items": null,
            "left": null,
            "margin": null,
            "max_height": null,
            "max_width": null,
            "min_height": null,
            "min_width": null,
            "object_fit": null,
            "object_position": null,
            "order": null,
            "overflow": null,
            "overflow_x": null,
            "overflow_y": null,
            "padding": null,
            "right": null,
            "top": null,
            "visibility": null,
            "width": "800px"
          }
        },
        "0909b9d54ae34496aebecb7cf13a98b2": {
          "model_module": "jupyter-leaflet",
          "model_name": "LeafletMapStyleModel",
          "model_module_version": "^0.18",
          "state": {
            "_model_module": "jupyter-leaflet",
            "_model_module_version": "^0.18",
            "_model_name": "LeafletMapStyleModel",
            "_view_count": null,
            "_view_module": "@jupyter-widgets/base",
            "_view_module_version": "1.2.0",
            "_view_name": "StyleView",
            "cursor": "grab"
          }
        },
        "849039bae25f4ad689913ab9aa1de1c8": {
          "model_module": "jupyter-leaflet",
          "model_name": "LeafletMapModel",
          "model_module_version": "^0.18",
          "state": {
            "_dom_classes": [],
            "_model_module": "jupyter-leaflet",
            "_model_module_version": "^0.18",
            "_model_name": "LeafletMapModel",
            "_view_count": null,
            "_view_module": "jupyter-leaflet",
            "_view_module_version": "^0.18",
            "_view_name": "LeafletMapView",
            "bottom": 6496188,
            "bounce_at_zoom_limits": true,
            "box_zoom": true,
            "center": [
              37.584828300773886,
              127.05773316246166
            ],
            "close_popup_on_click": true,
            "controls": [
              "IPY_MODEL_f4cb1a933d054a13b624bee8ba489df6",
              "IPY_MODEL_85c9e7bbc3b646cc84fbfce721c26a1a"
            ],
            "crs": {
              "name": "EPSG3857",
              "custom": false
            },
            "default_style": "IPY_MODEL_364aa78183e6486083cb5ba4d7f0b1bc",
            "double_click_zoom": true,
            "dragging": true,
            "dragging_style": "IPY_MODEL_1b46ecdc733b4a47abdfdc302dc9dc93",
            "east": 127.06632614135744,
            "fullscreen": false,
            "inertia": true,
            "inertia_deceleration": 3000,
            "inertia_max_speed": 1500,
            "interpolation": "bilinear",
            "keyboard": true,
            "keyboard_pan_offset": 80,
            "keyboard_zoom_offset": 1,
            "layers": [
              "IPY_MODEL_97dfa0d0d57e464b8be56052b9705a52",
              "IPY_MODEL_98a57b6833a54673a045f6eee09db342",
              "IPY_MODEL_620cac56c54b4655ad10f1b3517db07d",
              "IPY_MODEL_5953f2f45dc943e7821aea04a3075036"
            ],
            "layout": "IPY_MODEL_76db369974bd41ff93760d4f26d52f73",
            "left": 14309528,
            "max_zoom": null,
            "min_zoom": null,
            "modisdate": "2024-03-21",
            "north": 37.589070951024716,
            "options": [
              "bounce_at_zoom_limits",
              "box_zoom",
              "center",
              "close_popup_on_click",
              "double_click_zoom",
              "dragging",
              "fullscreen",
              "inertia",
              "inertia_deceleration",
              "inertia_max_speed",
              "interpolation",
              "keyboard",
              "keyboard_pan_offset",
              "keyboard_zoom_offset",
              "max_zoom",
              "min_zoom",
              "prefer_canvas",
              "scroll_wheel_zoom",
              "tap",
              "tap_tolerance",
              "touch_zoom",
              "world_copy_jump",
              "zoom",
              "zoom_animation_threshold",
              "zoom_delta",
              "zoom_snap"
            ],
            "panes": {},
            "prefer_canvas": false,
            "right": 14310328,
            "scroll_wheel_zoom": false,
            "south": 37.580568871292,
            "style": "IPY_MODEL_aa10a6224b07463792c3c6f72761edfa",
            "tap": true,
            "tap_tolerance": 15,
            "top": 6495688,
            "touch_zoom": true,
            "west": 127.04916000366212,
            "window_url": "https://daz4xvmqgx7-496ff2e9c6d22116-0-colab.googleusercontent.com/outputframe.html?vrz=colab_20240320-060147_RC00_617469838",
            "world_copy_jump": false,
            "zoom": 16,
            "zoom_animation_threshold": 4,
            "zoom_delta": 1,
            "zoom_snap": 1
          }
        },
        "f4cb1a933d054a13b624bee8ba489df6": {
          "model_module": "jupyter-leaflet",
          "model_name": "LeafletZoomControlModel",
          "model_module_version": "^0.18",
          "state": {
            "_model_module": "jupyter-leaflet",
            "_model_module_version": "^0.18",
            "_model_name": "LeafletZoomControlModel",
            "_view_count": null,
            "_view_module": "jupyter-leaflet",
            "_view_module_version": "^0.18",
            "_view_name": "LeafletZoomControlView",
            "options": [
              "position",
              "zoom_in_text",
              "zoom_in_title",
              "zoom_out_text",
              "zoom_out_title"
            ],
            "position": "topleft",
            "zoom_in_text": "+",
            "zoom_in_title": "Zoom in",
            "zoom_out_text": "-",
            "zoom_out_title": "Zoom out"
          }
        },
        "85c9e7bbc3b646cc84fbfce721c26a1a": {
          "model_module": "jupyter-leaflet",
          "model_name": "LeafletAttributionControlModel",
          "model_module_version": "^0.18",
          "state": {
            "_model_module": "jupyter-leaflet",
            "_model_module_version": "^0.18",
            "_model_name": "LeafletAttributionControlModel",
            "_view_count": null,
            "_view_module": "jupyter-leaflet",
            "_view_module_version": "^0.18",
            "_view_name": "LeafletAttributionControlView",
            "options": [
              "position",
              "prefix"
            ],
            "position": "bottomright",
            "prefix": "ipyleaflet"
          }
        },
        "364aa78183e6486083cb5ba4d7f0b1bc": {
          "model_module": "jupyter-leaflet",
          "model_name": "LeafletMapStyleModel",
          "model_module_version": "^0.18",
          "state": {
            "_model_module": "jupyter-leaflet",
            "_model_module_version": "^0.18",
            "_model_name": "LeafletMapStyleModel",
            "_view_count": null,
            "_view_module": "@jupyter-widgets/base",
            "_view_module_version": "1.2.0",
            "_view_name": "StyleView",
            "cursor": "grab"
          }
        },
        "1b46ecdc733b4a47abdfdc302dc9dc93": {
          "model_module": "jupyter-leaflet",
          "model_name": "LeafletMapStyleModel",
          "model_module_version": "^0.18",
          "state": {
            "_model_module": "jupyter-leaflet",
            "_model_module_version": "^0.18",
            "_model_name": "LeafletMapStyleModel",
            "_view_count": null,
            "_view_module": "@jupyter-widgets/base",
            "_view_module_version": "1.2.0",
            "_view_name": "StyleView",
            "cursor": "move"
          }
        },
        "620cac56c54b4655ad10f1b3517db07d": {
          "model_module": "jupyter-leaflet",
          "model_name": "LeafletCircleModel",
          "model_module_version": "^0.18",
          "state": {
            "_model_module": "jupyter-leaflet",
            "_model_module_version": "^0.18",
            "_model_name": "LeafletCircleModel",
            "_view_count": null,
            "_view_module": "jupyter-leaflet",
            "_view_module_version": "^0.18",
            "_view_name": "LeafletCircleView",
            "base": false,
            "bottom": false,
            "color": "red",
            "dash_array": null,
            "fill": true,
            "fill_color": "red",
            "fill_opacity": 0.5,
            "line_cap": "round",
            "line_join": "round",
            "location": [
              37.584828300773886,
              127.05773316246166
            ],
            "name": "",
            "opacity": 1,
            "options": [
              "color",
              "dash_array",
              "fill",
              "fill_color",
              "fill_opacity",
              "line_cap",
              "line_join",
              "opacity",
              "pointer_events",
              "radius",
              "stroke",
              "weight"
            ],
            "pane": "",
            "pointer_events": "",
            "popup": null,
            "popup_max_height": null,
            "popup_max_width": 300,
            "popup_min_width": 50,
            "radius": 500,
            "stroke": true,
            "subitems": [],
            "weight": 5
          }
        },
        "5953f2f45dc943e7821aea04a3075036": {
          "model_module": "jupyter-leaflet",
          "model_name": "LeafletGeoJSONModel",
          "model_module_version": "^0.18",
          "state": {
            "_model_module": "jupyter-leaflet",
            "_model_module_version": "^0.18",
            "_model_name": "LeafletGeoJSONModel",
            "_view_count": null,
            "_view_module": "jupyter-leaflet",
            "_view_module_version": "^0.18",
            "_view_name": "LeafletGeoJSONView",
            "base": false,
            "bottom": false,
            "data": {
              "type": "FeatureCollection",
              "features": [
                {
                  "id": "0",
                  "type": "Feature",
                  "properties": {
                    "address_name": "서울 동대문구 휘경동 302-2",
                    "category_group_code": "PS3",
                    "category_group_name": "어린이집,유치원",
                    "category_name": "교육,학문 > 유아교육 > 유치원",
                    "distance": "182",
                    "id": "10487569",
                    "phone": "02-2242-0354",
                    "place_name": "서울휘경유치원",
                    "place_url": "http://place.map.kakao.com/10487569",
                    "road_address_name": "서울 동대문구 망우로6길 48",
                    "x": "127.057072023037",
                    "y": "37.586380132083"
                  },
                  "geometry": {
                    "type": "Point",
                    "coordinates": [
                      127.057072023037,
                      37.586380132083
                    ]
                  }
                },
                {
                  "id": "1",
                  "type": "Feature",
                  "properties": {
                    "address_name": "서울 동대문구 휘경동 380",
                    "category_group_code": "PS3",
                    "category_group_name": "어린이집,유치원",
                    "category_name": "교육,학문 > 유아교육 > 어린이집",
                    "distance": "447",
                    "id": "21655642",
                    "phone": "02-2243-2831",
                    "place_name": "휘경어린이집",
                    "place_url": "http://place.map.kakao.com/21655642",
                    "road_address_name": "서울 동대문구 망우로 46",
                    "x": "127.05879144938042",
                    "y": "37.58876601763209"
                  },
                  "geometry": {
                    "type": "Point",
                    "coordinates": [
                      127.05879144938042,
                      37.58876601763209
                    ]
                  }
                },
                {
                  "id": "2",
                  "type": "Feature",
                  "properties": {
                    "address_name": "서울 동대문구 전농동 103-53",
                    "category_group_code": "PS3",
                    "category_group_name": "어린이집,유치원",
                    "category_name": "교육,학문 > 유아교육 > 어린이집",
                    "distance": "334",
                    "id": "18536865",
                    "phone": "02-2213-7974",
                    "place_name": "꿈마루어린이집",
                    "place_url": "http://place.map.kakao.com/18536865",
                    "road_address_name": "서울 동대문구 전농로36길 29-3",
                    "x": "127.05403934399568",
                    "y": "37.58549047747335"
                  },
                  "geometry": {
                    "type": "Point",
                    "coordinates": [
                      127.05403934399568,
                      37.58549047747335
                    ]
                  }
                },
                {
                  "id": "3",
                  "type": "Feature",
                  "properties": {
                    "address_name": "서울 동대문구 전농동 694",
                    "category_group_code": "PS3",
                    "category_group_name": "어린이집,유치원",
                    "category_name": "교육,학문 > 유아교육 > 어린이집",
                    "distance": "14",
                    "id": "1388625905",
                    "phone": "02-2213-9566",
                    "place_name": "서울시립대학교 직장어린이집",
                    "place_url": "http://place.map.kakao.com/1388625905",
                    "road_address_name": "서울 동대문구 서울시립대로 163",
                    "x": "127.05771854223894",
                    "y": "37.584955347939754"
                  },
                  "geometry": {
                    "type": "Point",
                    "coordinates": [
                      127.05771854223894,
                      37.584955347939754
                    ]
                  }
                },
                {
                  "id": "4",
                  "type": "Feature",
                  "properties": {
                    "address_name": "서울 동대문구 휘경동 282-6",
                    "category_group_code": "PS3",
                    "category_group_name": "어린이집,유치원",
                    "category_name": "교육,학문 > 유아교육 > 어린이집",
                    "distance": "482",
                    "id": "12144504",
                    "phone": "02-2244-9118",
                    "place_name": "동화어린이집",
                    "place_url": "http://place.map.kakao.com/12144504",
                    "road_address_name": "서울 동대문구 망우로12가길 20",
                    "x": "127.060280267993",
                    "y": "37.5886742664592"
                  },
                  "geometry": {
                    "type": "Point",
                    "coordinates": [
                      127.060280267993,
                      37.5886742664592
                    ]
                  }
                },
                {
                  "id": "5",
                  "type": "Feature",
                  "properties": {
                    "address_name": "서울 동대문구 휘경동 343-4",
                    "category_group_code": "PS3",
                    "category_group_name": "어린이집,유치원",
                    "category_name": "교육,학문 > 유아교육 > 어린이집",
                    "distance": "479",
                    "id": "27372783",
                    "phone": "02-967-0006",
                    "place_name": "새하늘어린이집",
                    "place_url": "http://place.map.kakao.com/27372783",
                    "road_address_name": "서울 동대문구 왕산로 312",
                    "x": "127.053662772121",
                    "y": "37.5876899726404"
                  },
                  "geometry": {
                    "type": "Point",
                    "coordinates": [
                      127.053662772121,
                      37.5876899726404
                    ]
                  }
                },
                {
                  "id": "6",
                  "type": "Feature",
                  "properties": {
                    "address_name": "서울 동대문구 전농동 188",
                    "category_group_code": "PS3",
                    "category_group_name": "어린이집,유치원",
                    "category_name": "교육,학문 > 유아교육 > 유치원",
                    "distance": "482",
                    "id": "1843099523",
                    "phone": "02-2244-3254",
                    "place_name": "서울전곡초등학교 병설유치원",
                    "place_url": "http://place.map.kakao.com/1843099523",
                    "road_address_name": "서울 동대문구 전농로 172",
                    "x": "127.056012558496",
                    "y": "37.5807043821985"
                  },
                  "geometry": {
                    "type": "Point",
                    "coordinates": [
                      127.056012558496,
                      37.5807043821985
                    ]
                  }
                },
                {
                  "id": "7",
                  "type": "Feature",
                  "properties": {
                    "address_name": "서울 동대문구 전농동 155",
                    "category_group_code": "PS3",
                    "category_group_name": "어린이집,유치원",
                    "category_name": "교육,학문 > 유아교육 > 어린이집",
                    "distance": "411",
                    "id": "15490761",
                    "phone": "02-2212-1212",
                    "place_name": "삼성영재어린이집",
                    "place_url": "http://place.map.kakao.com/15490761",
                    "road_address_name": "서울 동대문구 전농로 192",
                    "x": "127.056420546966",
                    "y": "37.5812700118988"
                  },
                  "geometry": {
                    "type": "Point",
                    "coordinates": [
                      127.056420546966,
                      37.5812700118988
                    ]
                  }
                }
              ]
            },
            "hover_style": {},
            "layers": [],
            "name": "어린이집, 유치원",
            "options": [],
            "pane": "",
            "point_style": {
              "radius": 7,
              "color": "darkblue",
              "fillOpacity": 0.7,
              "fillColor": "lightblue",
              "weight": 2
            },
            "popup": null,
            "popup_max_height": null,
            "popup_max_width": 300,
            "popup_min_width": 50,
            "style": {},
            "subitems": [],
            "visible": true
          }
        },
        "76db369974bd41ff93760d4f26d52f73": {
          "model_module": "@jupyter-widgets/base",
          "model_name": "LayoutModel",
          "model_module_version": "1.2.0",
          "state": {
            "_model_module": "@jupyter-widgets/base",
            "_model_module_version": "1.2.0",
            "_model_name": "LayoutModel",
            "_view_count": null,
            "_view_module": "@jupyter-widgets/base",
            "_view_module_version": "1.2.0",
            "_view_name": "LayoutView",
            "align_content": null,
            "align_items": null,
            "align_self": null,
            "border": null,
            "bottom": null,
            "display": null,
            "flex": null,
            "flex_flow": null,
            "grid_area": null,
            "grid_auto_columns": null,
            "grid_auto_flow": null,
            "grid_auto_rows": null,
            "grid_column": null,
            "grid_gap": null,
            "grid_row": null,
            "grid_template_areas": null,
            "grid_template_columns": null,
            "grid_template_rows": null,
            "height": "500px",
            "justify_content": null,
            "justify_items": null,
            "left": null,
            "margin": null,
            "max_height": null,
            "max_width": null,
            "min_height": null,
            "min_width": null,
            "object_fit": null,
            "object_position": null,
            "order": null,
            "overflow": null,
            "overflow_x": null,
            "overflow_y": null,
            "padding": null,
            "right": null,
            "top": null,
            "visibility": null,
            "width": "800px"
          }
        },
        "aa10a6224b07463792c3c6f72761edfa": {
          "model_module": "jupyter-leaflet",
          "model_name": "LeafletMapStyleModel",
          "model_module_version": "^0.18",
          "state": {
            "_model_module": "jupyter-leaflet",
            "_model_module_version": "^0.18",
            "_model_name": "LeafletMapStyleModel",
            "_view_count": null,
            "_view_module": "@jupyter-widgets/base",
            "_view_module_version": "1.2.0",
            "_view_name": "StyleView",
            "cursor": "grab"
          }
        },
        "29935238adf346d5bbe2a8c7251ff47d": {
          "model_module": "jupyter-leaflet",
          "model_name": "LeafletMapModel",
          "model_module_version": "^0.18",
          "state": {
            "_dom_classes": [],
            "_model_module": "jupyter-leaflet",
            "_model_module_version": "^0.18",
            "_model_name": "LeafletMapModel",
            "_view_count": null,
            "_view_module": "jupyter-leaflet",
            "_view_module_version": "^0.18",
            "_view_name": "LeafletMapView",
            "bottom": 1624234,
            "bounce_at_zoom_limits": true,
            "box_zoom": true,
            "center": [
              37.584828300773886,
              127.05773316246166
            ],
            "close_popup_on_click": true,
            "controls": [
              "IPY_MODEL_e30422c378644fbb81eea2349ba67d47",
              "IPY_MODEL_7a3eee9a742444db8539e5995f8c38b3"
            ],
            "crs": {
              "name": "EPSG3857",
              "custom": false
            },
            "default_style": "IPY_MODEL_b45db8a4af9d41e6bf4f7235ab830dfc",
            "double_click_zoom": true,
            "dragging": true,
            "dragging_style": "IPY_MODEL_c8354907f3a44cdb92af98291ffc4ef2",
            "east": 127.0920753479004,
            "fullscreen": false,
            "inertia": true,
            "inertia_deceleration": 3000,
            "inertia_max_speed": 1500,
            "interpolation": "bilinear",
            "keyboard": true,
            "keyboard_pan_offset": 80,
            "keyboard_zoom_offset": 1,
            "layers": [
              "IPY_MODEL_97dfa0d0d57e464b8be56052b9705a52",
              "IPY_MODEL_98a57b6833a54673a045f6eee09db342",
              "IPY_MODEL_c0ad6dd6a2824786a59b600522486b37",
              "IPY_MODEL_6f48d5261f654d4bbd5cced51456ae2d"
            ],
            "layout": "IPY_MODEL_7bb9d2e30ef0489db01ee4903087e40d",
            "left": 3577082,
            "max_zoom": null,
            "min_zoom": null,
            "modisdate": "2024-03-21",
            "north": 37.601856250363355,
            "options": [
              "bounce_at_zoom_limits",
              "box_zoom",
              "center",
              "close_popup_on_click",
              "double_click_zoom",
              "dragging",
              "fullscreen",
              "inertia",
              "inertia_deceleration",
              "inertia_max_speed",
              "interpolation",
              "keyboard",
              "keyboard_pan_offset",
              "keyboard_zoom_offset",
              "max_zoom",
              "min_zoom",
              "prefer_canvas",
              "scroll_wheel_zoom",
              "tap",
              "tap_tolerance",
              "touch_zoom",
              "world_copy_jump",
              "zoom",
              "zoom_animation_threshold",
              "zoom_delta",
              "zoom_snap"
            ],
            "panes": {},
            "prefer_canvas": false,
            "right": 3577882,
            "scroll_wheel_zoom": false,
            "south": 37.56784794715994,
            "style": "IPY_MODEL_c55dd390bf45400099352b2be52c136a",
            "tap": true,
            "tap_tolerance": 15,
            "top": 1623734,
            "touch_zoom": true,
            "west": 127.02341079711915,
            "window_url": "https://daz4xvmqgx7-496ff2e9c6d22116-0-colab.googleusercontent.com/outputframe.html?vrz=colab_20240320-060147_RC00_617469838",
            "world_copy_jump": false,
            "zoom": 14,
            "zoom_animation_threshold": 4,
            "zoom_delta": 1,
            "zoom_snap": 1
          }
        },
        "e30422c378644fbb81eea2349ba67d47": {
          "model_module": "jupyter-leaflet",
          "model_name": "LeafletZoomControlModel",
          "model_module_version": "^0.18",
          "state": {
            "_model_module": "jupyter-leaflet",
            "_model_module_version": "^0.18",
            "_model_name": "LeafletZoomControlModel",
            "_view_count": null,
            "_view_module": "jupyter-leaflet",
            "_view_module_version": "^0.18",
            "_view_name": "LeafletZoomControlView",
            "options": [
              "position",
              "zoom_in_text",
              "zoom_in_title",
              "zoom_out_text",
              "zoom_out_title"
            ],
            "position": "topleft",
            "zoom_in_text": "+",
            "zoom_in_title": "Zoom in",
            "zoom_out_text": "-",
            "zoom_out_title": "Zoom out"
          }
        },
        "7a3eee9a742444db8539e5995f8c38b3": {
          "model_module": "jupyter-leaflet",
          "model_name": "LeafletAttributionControlModel",
          "model_module_version": "^0.18",
          "state": {
            "_model_module": "jupyter-leaflet",
            "_model_module_version": "^0.18",
            "_model_name": "LeafletAttributionControlModel",
            "_view_count": null,
            "_view_module": "jupyter-leaflet",
            "_view_module_version": "^0.18",
            "_view_name": "LeafletAttributionControlView",
            "options": [
              "position",
              "prefix"
            ],
            "position": "bottomright",
            "prefix": "ipyleaflet"
          }
        },
        "b45db8a4af9d41e6bf4f7235ab830dfc": {
          "model_module": "jupyter-leaflet",
          "model_name": "LeafletMapStyleModel",
          "model_module_version": "^0.18",
          "state": {
            "_model_module": "jupyter-leaflet",
            "_model_module_version": "^0.18",
            "_model_name": "LeafletMapStyleModel",
            "_view_count": null,
            "_view_module": "@jupyter-widgets/base",
            "_view_module_version": "1.2.0",
            "_view_name": "StyleView",
            "cursor": "grab"
          }
        },
        "c8354907f3a44cdb92af98291ffc4ef2": {
          "model_module": "jupyter-leaflet",
          "model_name": "LeafletMapStyleModel",
          "model_module_version": "^0.18",
          "state": {
            "_model_module": "jupyter-leaflet",
            "_model_module_version": "^0.18",
            "_model_name": "LeafletMapStyleModel",
            "_view_count": null,
            "_view_module": "@jupyter-widgets/base",
            "_view_module_version": "1.2.0",
            "_view_name": "StyleView",
            "cursor": "move"
          }
        },
        "c0ad6dd6a2824786a59b600522486b37": {
          "model_module": "jupyter-leaflet",
          "model_name": "LeafletRectangleModel",
          "model_module_version": "^0.18",
          "state": {
            "_model_module": "jupyter-leaflet",
            "_model_module_version": "^0.18",
            "_model_name": "LeafletRectangleModel",
            "_view_count": null,
            "_view_module": "jupyter-leaflet",
            "_view_module_version": "^0.18",
            "_view_name": "LeafletRectangleView",
            "base": false,
            "bottom": false,
            "bounds": [
              [
                37.5938114125238,
                127.03506145225234
              ],
              [
                37.57584518902397,
                127.08040487267098
              ]
            ],
            "color": "red",
            "dash_array": null,
            "draggable": false,
            "fill": true,
            "fill_color": null,
            "fill_opacity": 0.2,
            "line_cap": "round",
            "line_join": "round",
            "locations": [],
            "name": "",
            "no_clip": true,
            "opacity": 1,
            "options": [
              "color",
              "dash_array",
              "draggable",
              "fill",
              "fill_color",
              "fill_opacity",
              "line_cap",
              "line_join",
              "no_clip",
              "opacity",
              "pointer_events",
              "smooth_factor",
              "stroke",
              "transform",
              "weight"
            ],
            "pane": "",
            "pointer_events": "",
            "popup": null,
            "popup_max_height": null,
            "popup_max_width": 300,
            "popup_min_width": 50,
            "rotation": true,
            "scaling": true,
            "smooth_factor": 1,
            "stroke": true,
            "subitems": [],
            "transform": false,
            "uniform_scaling": false,
            "weight": 5
          }
        },
        "6f48d5261f654d4bbd5cced51456ae2d": {
          "model_module": "jupyter-leaflet",
          "model_name": "LeafletGeoJSONModel",
          "model_module_version": "^0.18",
          "state": {
            "_model_module": "jupyter-leaflet",
            "_model_module_version": "^0.18",
            "_model_name": "LeafletGeoJSONModel",
            "_view_count": null,
            "_view_module": "jupyter-leaflet",
            "_view_module_version": "^0.18",
            "_view_name": "LeafletGeoJSONView",
            "base": false,
            "bottom": false,
            "data": {
              "type": "FeatureCollection",
              "features": [
                {
                  "id": "0",
                  "type": "Feature",
                  "properties": {
                    "address_name": "서울 동대문구 전농동 694",
                    "category_group_code": "SC4",
                    "category_group_name": "학교",
                    "category_name": "교육,학문 > 학교 > 대학교",
                    "distance": "",
                    "id": "10498806",
                    "phone": "02-6490-6114",
                    "place_name": "서울시립대학교",
                    "place_url": "http://place.map.kakao.com/10498806",
                    "road_address_name": "서울 동대문구 서울시립대로 163",
                    "x": "127.05773316246166",
                    "y": "37.584828300773886"
                  },
                  "geometry": {
                    "type": "Point",
                    "coordinates": [
                      127.05773316246166,
                      37.584828300773886
                    ]
                  }
                },
                {
                  "id": "1",
                  "type": "Feature",
                  "properties": {
                    "address_name": "서울 동대문구 청량리동 207-43",
                    "category_group_code": "SC4",
                    "category_group_name": "학교",
                    "category_name": "교육,학문 > 학교 > 대학교",
                    "distance": "",
                    "id": "17384594",
                    "phone": "",
                    "place_name": "KAIST 서울캠퍼스",
                    "place_url": "http://place.map.kakao.com/17384594",
                    "road_address_name": "서울 동대문구 회기로 85",
                    "x": "127.04669593138594",
                    "y": "37.5926754214934"
                  },
                  "geometry": {
                    "type": "Point",
                    "coordinates": [
                      127.04669593138594,
                      37.5926754214934
                    ]
                  }
                },
                {
                  "id": "2",
                  "type": "Feature",
                  "properties": {
                    "address_name": "서울 중랑구 면목동 192-1",
                    "category_group_code": "SC4",
                    "category_group_name": "학교",
                    "category_name": "교육,학문 > 학교 > 초등학교",
                    "distance": "",
                    "id": "7935892",
                    "phone": "02-437-4147",
                    "place_name": "서울중랑초등학교",
                    "place_url": "http://place.map.kakao.com/7935892",
                    "road_address_name": "서울 중랑구 봉우재로6길 26",
                    "x": "127.075444124256",
                    "y": "37.5896133922662"
                  },
                  "geometry": {
                    "type": "Point",
                    "coordinates": [
                      127.075444124256,
                      37.5896133922662
                    ]
                  }
                },
                {
                  "id": "3",
                  "type": "Feature",
                  "properties": {
                    "address_name": "서울 동대문구 휘경동 43-7",
                    "category_group_code": "SC4",
                    "category_group_name": "학교",
                    "category_name": "교육,학문 > 학교 > 고등학교",
                    "distance": "",
                    "id": "11198634",
                    "phone": "02-2244-8925",
                    "place_name": "휘경여자고등학교",
                    "place_url": "http://place.map.kakao.com/11198634",
                    "road_address_name": "서울 동대문구 한천로 247",
                    "x": "127.067336617711",
                    "y": "37.5839276260158"
                  },
                  "geometry": {
                    "type": "Point",
                    "coordinates": [
                      127.067336617711,
                      37.5839276260158
                    ]
                  }
                },
                {
                  "id": "4",
                  "type": "Feature",
                  "properties": {
                    "address_name": "서울 동대문구 제기동 678",
                    "category_group_code": "SC4",
                    "category_group_name": "학교",
                    "category_name": "교육,학문 > 학교 > 초등학교",
                    "distance": "",
                    "id": "7936102",
                    "phone": "02-967-8161",
                    "place_name": "서울홍파초등학교",
                    "place_url": "http://place.map.kakao.com/7936102",
                    "road_address_name": "서울 동대문구 고산자로 518",
                    "x": "127.039391444512",
                    "y": "37.5861567023354"
                  },
                  "geometry": {
                    "type": "Point",
                    "coordinates": [
                      127.039391444512,
                      37.5861567023354
                    ]
                  }
                },
                {
                  "id": "5",
                  "type": "Feature",
                  "properties": {
                    "address_name": "서울 동대문구 회기동 1-1",
                    "category_group_code": "SC4",
                    "category_group_name": "학교",
                    "category_name": "교육,학문 > 학교 > 초등학교",
                    "distance": "",
                    "id": "7936206",
                    "phone": "02-962-1341",
                    "place_name": "서울청량초등학교",
                    "place_url": "http://place.map.kakao.com/7936206",
                    "road_address_name": "서울 동대문구 회기로25길 31",
                    "x": "127.055944045936",
                    "y": "37.5920244882738"
                  },
                  "geometry": {
                    "type": "Point",
                    "coordinates": [
                      127.055944045936,
                      37.5920244882738
                    ]
                  }
                },
                {
                  "id": "6",
                  "type": "Feature",
                  "properties": {
                    "address_name": "서울 동대문구 휘경동 49-327",
                    "category_group_code": "SC4",
                    "category_group_name": "학교",
                    "category_name": "교육,학문 > 학교 > 고등학교 > 특성화고등학교",
                    "distance": "",
                    "id": "10963521",
                    "phone": "02-2216-3643",
                    "place_name": "휘경공업고등학교",
                    "place_url": "http://place.map.kakao.com/10963521",
                    "road_address_name": "서울 동대문구 겸재로 21",
                    "x": "127.0694571333",
                    "y": "37.5851157081199"
                  },
                  "geometry": {
                    "type": "Point",
                    "coordinates": [
                      127.0694571333,
                      37.5851157081199
                    ]
                  }
                },
                {
                  "id": "7",
                  "type": "Feature",
                  "properties": {
                    "address_name": "서울 성북구 종암동 7-10",
                    "category_group_code": "SC4",
                    "category_group_name": "학교",
                    "category_name": "교육,학문 > 학교 > 고등학교",
                    "distance": "",
                    "id": "7942553",
                    "phone": "02-913-7306",
                    "place_name": "서울대학교사범대학 부설고등학교",
                    "place_url": "http://place.map.kakao.com/7942553",
                    "road_address_name": "서울 성북구 월곡로 6",
                    "x": "127.03861641440025",
                    "y": "37.59374871965702"
                  },
                  "geometry": {
                    "type": "Point",
                    "coordinates": [
                      127.03861641440025,
                      37.59374871965702
                    ]
                  }
                },
                {
                  "id": "8",
                  "type": "Feature",
                  "properties": {
                    "address_name": "서울 동대문구 휘경동 286-66",
                    "category_group_code": "SC4",
                    "category_group_name": "학교",
                    "category_name": "교육,학문 > 학교 > 중학교",
                    "distance": "",
                    "id": "8177475",
                    "phone": "02-2244-1359",
                    "place_name": "휘경중학교",
                    "place_url": "http://place.map.kakao.com/8177475",
                    "road_address_name": "서울 동대문구 망우로18나길 20",
                    "x": "127.062058823168",
                    "y": "37.5870839939152"
                  },
                  "geometry": {
                    "type": "Point",
                    "coordinates": [
                      127.062058823168,
                      37.5870839939152
                    ]
                  }
                },
                {
                  "id": "9",
                  "type": "Feature",
                  "properties": {
                    "address_name": "서울 동대문구 장안동 328",
                    "category_group_code": "SC4",
                    "category_group_name": "학교",
                    "category_name": "교육,학문 > 학교 > 고등학교",
                    "distance": "",
                    "id": "11096573",
                    "phone": "02-6913-1578",
                    "place_name": "동국대학교 사범대학 부속고등학교",
                    "place_url": "http://place.map.kakao.com/11096573",
                    "road_address_name": "서울 동대문구 장안벚꽃로 201",
                    "x": "127.074626416845",
                    "y": "37.5780487645908"
                  },
                  "geometry": {
                    "type": "Point",
                    "coordinates": [
                      127.074626416845,
                      37.5780487645908
                    ]
                  }
                },
                {
                  "id": "10",
                  "type": "Feature",
                  "properties": {
                    "address_name": "서울 동대문구 청량리동 7",
                    "category_group_code": "SC4",
                    "category_group_name": "학교",
                    "category_name": "교육,학문 > 학교 > 고등학교",
                    "distance": "",
                    "id": "8099015",
                    "phone": "02-959-4362",
                    "place_name": "청량고등학교",
                    "place_url": "http://place.map.kakao.com/8099015",
                    "road_address_name": "서울 동대문구 왕산로 303",
                    "x": "127.05098469716769",
                    "y": "37.58880568754215"
                  },
                  "geometry": {
                    "type": "Point",
                    "coordinates": [
                      127.05098469716769,
                      37.58880568754215
                    ]
                  }
                },
                {
                  "id": "11",
                  "type": "Feature",
                  "properties": {
                    "address_name": "서울 동대문구 장안동 328",
                    "category_group_code": "SC4",
                    "category_group_name": "학교",
                    "category_name": "교육,학문 > 학교 > 초등학교",
                    "distance": "",
                    "id": "7941702",
                    "phone": "02-6937-8180",
                    "place_name": "은석초등학교",
                    "place_url": "http://place.map.kakao.com/7941702",
                    "road_address_name": "서울 동대문구 장안벚꽃로 205",
                    "x": "127.075749978849",
                    "y": "37.5785850413515"
                  },
                  "geometry": {
                    "type": "Point",
                    "coordinates": [
                      127.075749978849,
                      37.5785850413515
                    ]
                  }
                },
                {
                  "id": "12",
                  "type": "Feature",
                  "properties": {
                    "address_name": "서울 동대문구 전농동 188",
                    "category_group_code": "SC4",
                    "category_group_name": "학교",
                    "category_name": "교육,학문 > 학교 > 초등학교",
                    "distance": "",
                    "id": "10482134",
                    "phone": "02-2242-6548",
                    "place_name": "서울전곡초등학교",
                    "place_url": "http://place.map.kakao.com/10482134",
                    "road_address_name": "서울 동대문구 전농로 172",
                    "x": "127.056506024554",
                    "y": "37.5805239482807"
                  },
                  "geometry": {
                    "type": "Point",
                    "coordinates": [
                      127.056506024554,
                      37.5805239482807
                    ]
                  }
                },
                {
                  "id": "13",
                  "type": "Feature",
                  "properties": {
                    "address_name": "서울 동대문구 전농동 90-3",
                    "category_group_code": "SC4",
                    "category_group_name": "학교",
                    "category_name": "교육,학문 > 학교 > 고등학교",
                    "distance": "",
                    "id": "11427311",
                    "phone": "070-7860-7100",
                    "place_name": "해성여자고등학교",
                    "place_url": "http://place.map.kakao.com/11427311",
                    "road_address_name": "서울 동대문구 전농로20길 31",
                    "x": "127.0571085010964",
                    "y": "37.58077593657807"
                  },
                  "geometry": {
                    "type": "Point",
                    "coordinates": [
                      127.0571085010964,
                      37.58077593657807
                    ]
                  }
                },
                {
                  "id": "14",
                  "type": "Feature",
                  "properties": {
                    "address_name": "서울 동대문구 전농동 678-3",
                    "category_group_code": "SC4",
                    "category_group_name": "학교",
                    "category_name": "교육,학문 > 학교 > 고등학교",
                    "distance": "",
                    "id": "8601928",
                    "phone": "02-2212-3166",
                    "place_name": "청량정보고등학교",
                    "place_url": "http://place.map.kakao.com/8601928",
                    "road_address_name": "서울 동대문구 답십리로15길 32",
                    "x": "127.047669259945",
                    "y": "37.5777708060603"
                  },
                  "geometry": {
                    "type": "Point",
                    "coordinates": [
                      127.047669259945,
                      37.5777708060603
                    ]
                  }
                },
                {
                  "id": "15",
                  "type": "Feature",
                  "properties": {
                    "address_name": "서울 동대문구 회기동 102-48",
                    "category_group_code": "SC4",
                    "category_group_name": "학교",
                    "category_name": "교육,학문 > 학교 > 초등학교",
                    "distance": "",
                    "id": "7934817",
                    "phone": "02-966-4859",
                    "place_name": "서울삼육초등학교",
                    "place_url": "http://place.map.kakao.com/7934817",
                    "road_address_name": "서울 동대문구 회기로10길 63",
                    "x": "127.047631016606",
                    "y": "37.5888206033755"
                  },
                  "geometry": {
                    "type": "Point",
                    "coordinates": [
                      127.047631016606,
                      37.5888206033755
                    ]
                  }
                },
                {
                  "id": "16",
                  "type": "Feature",
                  "properties": {
                    "address_name": "서울 동대문구 제기동 293",
                    "category_group_code": "SC4",
                    "category_group_name": "학교",
                    "category_name": "교육,학문 > 학교 > 고등학교 > 특성화고등학교",
                    "distance": "",
                    "id": "14657225",
                    "phone": "02-960-1495",
                    "place_name": "서울정화고등학교",
                    "place_url": "http://place.map.kakao.com/14657225",
                    "road_address_name": "서울 동대문구 홍릉로15길 50",
                    "x": "127.040795287521",
                    "y": "37.5860048586976"
                  },
                  "geometry": {
                    "type": "Point",
                    "coordinates": [
                      127.040795287521,
                      37.5860048586976
                    ]
                  }
                },
                {
                  "id": "17",
                  "type": "Feature",
                  "properties": {
                    "address_name": "서울 동대문구 전농동 3-111",
                    "category_group_code": "SC4",
                    "category_group_name": "학교",
                    "category_name": "교육,학문 > 학교 > 초등학교",
                    "distance": "",
                    "id": "7935908",
                    "phone": "02-2243-6502",
                    "place_name": "서울배봉초등학교",
                    "place_url": "http://place.map.kakao.com/7935908",
                    "road_address_name": "서울 동대문구 사가정로 193",
                    "x": "127.066183152",
                    "y": "37.5803279087154"
                  },
                  "geometry": {
                    "type": "Point",
                    "coordinates": [
                      127.066183152,
                      37.5803279087154
                    ]
                  }
                },
                {
                  "id": "18",
                  "type": "Feature",
                  "properties": {
                    "address_name": "서울 동대문구 청량리동 14",
                    "category_group_code": "SC4",
                    "category_group_name": "학교",
                    "category_name": "교육,학문 > 학교 > 중학교",
                    "distance": "",
                    "id": "9469622",
                    "phone": "02-966-4284",
                    "place_name": "청량중학교",
                    "place_url": "http://place.map.kakao.com/9469622",
                    "road_address_name": "서울 동대문구 왕산로 301",
                    "x": "127.051099679744",
                    "y": "37.5880659229738"
                  },
                  "geometry": {
                    "type": "Point",
                    "coordinates": [
                      127.051099679744,
                      37.5880659229738
                    ]
                  }
                },
                {
                  "id": "19",
                  "type": "Feature",
                  "properties": {
                    "address_name": "서울 동대문구 휘경동 49-295",
                    "category_group_code": "SC4",
                    "category_group_name": "학교",
                    "category_name": "교육,학문 > 학교 > 중학교",
                    "distance": "",
                    "id": "8538904",
                    "phone": "02-2212-9265",
                    "place_name": "전동중학교",
                    "place_url": "http://place.map.kakao.com/8538904",
                    "road_address_name": "서울 동대문구 장안벚꽃로 291",
                    "x": "127.071069682159",
                    "y": "37.5854535215831"
                  },
                  "geometry": {
                    "type": "Point",
                    "coordinates": [
                      127.071069682159,
                      37.5854535215831
                    ]
                  }
                },
                {
                  "id": "20",
                  "type": "Feature",
                  "properties": {
                    "address_name": "서울 동대문구 전농동 45-41",
                    "category_group_code": "SC4",
                    "category_group_name": "학교",
                    "category_name": "교육,학문 > 학교 > 초등학교",
                    "distance": "",
                    "id": "7937288",
                    "phone": "02-2214-6574",
                    "place_name": "서울전동초등학교",
                    "place_url": "http://place.map.kakao.com/7937288",
                    "road_address_name": "서울 동대문구 전농로16길 61",
                    "x": "127.06149550321929",
                    "y": "37.57946008382418"
                  },
                  "geometry": {
                    "type": "Point",
                    "coordinates": [
                      127.06149550321929,
                      37.57946008382418
                    ]
                  }
                },
                {
                  "id": "21",
                  "type": "Feature",
                  "properties": {
                    "address_name": "서울 중랑구 면목동 180-5",
                    "category_group_code": "SC4",
                    "category_group_name": "학교",
                    "category_name": "교육,학문 > 학교 > 초등학교",
                    "distance": "",
                    "id": "7935893",
                    "phone": "02-2209-0012",
                    "place_name": "서울중목초등학교",
                    "place_url": "http://place.map.kakao.com/7935893",
                    "road_address_name": "서울 중랑구 동일로 665",
                    "x": "127.07944495224099",
                    "y": "37.59016577844105"
                  },
                  "geometry": {
                    "type": "Point",
                    "coordinates": [
                      127.07944495224099,
                      37.59016577844105
                    ]
                  }
                },
                {
                  "id": "22",
                  "type": "Feature",
                  "properties": {
                    "address_name": "서울 동대문구 전농동 60-1",
                    "category_group_code": "SC4",
                    "category_group_name": "학교",
                    "category_name": "교육,학문 > 학교 > 중학교",
                    "distance": "",
                    "id": "7935282",
                    "phone": "02-2245-2745",
                    "place_name": "전일중학교",
                    "place_url": "http://place.map.kakao.com/7935282",
                    "road_address_name": "서울 동대문구 사가정로13길 67",
                    "x": "127.058522197486",
                    "y": "37.5818167927529"
                  },
                  "geometry": {
                    "type": "Point",
                    "coordinates": [
                      127.058522197486,
                      37.5818167927529
                    ]
                  }
                },
                {
                  "id": "23",
                  "type": "Feature",
                  "properties": {
                    "address_name": "서울 동대문구 휘경동 302-2",
                    "category_group_code": "SC4",
                    "category_group_name": "학교",
                    "category_name": "교육,학문 > 학교 > 초등학교",
                    "distance": "",
                    "id": "10505600",
                    "phone": "02-2244-4941",
                    "place_name": "서울휘경초등학교",
                    "place_url": "http://place.map.kakao.com/10505600",
                    "road_address_name": "서울 동대문구 망우로6길 48",
                    "x": "127.05839969096355",
                    "y": "37.585862312802526"
                  },
                  "geometry": {
                    "type": "Point",
                    "coordinates": [
                      127.05839969096355,
                      37.585862312802526
                    ]
                  }
                },
                {
                  "id": "24",
                  "type": "Feature",
                  "properties": {
                    "address_name": "서울 동대문구 휘경동 49-27",
                    "category_group_code": "SC4",
                    "category_group_name": "학교",
                    "category_name": "교육,학문 > 학교 > 초등학교",
                    "distance": "",
                    "id": "8164540",
                    "phone": "02-2248-4644",
                    "place_name": "서울휘봉초등학교",
                    "place_url": "http://place.map.kakao.com/8164540",
                    "road_address_name": "서울 동대문구 장안벚꽃로 309",
                    "x": "127.070214612113",
                    "y": "37.5863730459726"
                  },
                  "geometry": {
                    "type": "Point",
                    "coordinates": [
                      127.070214612113,
                      37.5863730459726
                    ]
                  }
                },
                {
                  "id": "25",
                  "type": "Feature",
                  "properties": {
                    "address_name": "서울 동대문구 휘경동 43-7",
                    "category_group_code": "SC4",
                    "category_group_name": "학교",
                    "category_name": "교육,학문 > 학교 > 중학교",
                    "distance": "",
                    "id": "8164371",
                    "phone": "02-2244-4431",
                    "place_name": "휘경여자중학교",
                    "place_url": "http://place.map.kakao.com/8164371",
                    "road_address_name": "서울 동대문구 한천로 247",
                    "x": "127.06773068255059",
                    "y": "37.58400668795913"
                  },
                  "geometry": {
                    "type": "Point",
                    "coordinates": [
                      127.06773068255059,
                      37.58400668795913
                    ]
                  }
                },
                {
                  "id": "26",
                  "type": "Feature",
                  "properties": {
                    "address_name": "서울 동대문구 청량리동 235-4",
                    "category_group_code": "SC4",
                    "category_group_name": "학교",
                    "category_name": "교육,학문 > 학교 > 고등학교",
                    "distance": "",
                    "id": "8508103",
                    "phone": "02-962-9124",
                    "place_name": "정암미용고등학교",
                    "place_url": "http://place.map.kakao.com/8508103",
                    "road_address_name": "서울 동대문구 왕산로 225",
                    "x": "127.047405063889",
                    "y": "37.5824596841397"
                  },
                  "geometry": {
                    "type": "Point",
                    "coordinates": [
                      127.047405063889,
                      37.5824596841397
                    ]
                  }
                },
                {
                  "id": "27",
                  "type": "Feature",
                  "properties": {
                    "address_name": "서울 동대문구 전농동 90-3",
                    "category_group_code": "SC4",
                    "category_group_name": "학교",
                    "category_name": "교육,학문 > 학교 > 고등학교 > 특성화고등학교",
                    "distance": "",
                    "id": "8164098",
                    "phone": "070-8786-1300",
                    "place_name": "해성국제컨벤션고등학교",
                    "place_url": "http://place.map.kakao.com/8164098",
                    "road_address_name": "서울 동대문구 전농로20길 31",
                    "x": "127.057285914801",
                    "y": "37.5818246071338"
                  },
                  "geometry": {
                    "type": "Point",
                    "coordinates": [
                      127.057285914801,
                      37.5818246071338
                    ]
                  }
                },
                {
                  "id": "28",
                  "type": "Feature",
                  "properties": {
                    "address_name": "서울 동대문구 청량리동 206-44",
                    "category_group_code": "SC4",
                    "category_group_name": "학교",
                    "category_name": "교육,학문 > 학교 > 초등학교",
                    "distance": "",
                    "id": "7934108",
                    "phone": "02-968-4701",
                    "place_name": "서울홍릉초등학교",
                    "place_url": "http://place.map.kakao.com/7934108",
                    "road_address_name": "서울 동대문구 회기로 90",
                    "x": "127.047202197646",
                    "y": "37.5910876722296"
                  },
                  "geometry": {
                    "type": "Point",
                    "coordinates": [
                      127.047202197646,
                      37.5910876722296
                    ]
                  }
                },
                {
                  "id": "29",
                  "type": "Feature",
                  "properties": {
                    "address_name": "서울 동대문구 제기동 293",
                    "category_group_code": "SC4",
                    "category_group_name": "학교",
                    "category_name": "교육,학문 > 학교 > 중학교",
                    "distance": "",
                    "id": "12450253",
                    "phone": "02-967-0178",
                    "place_name": "정화여자중학교",
                    "place_url": "http://place.map.kakao.com/12450253",
                    "road_address_name": "서울 동대문구 홍릉로15길 50",
                    "x": "127.04061273673395",
                    "y": "37.58551297949713"
                  },
                  "geometry": {
                    "type": "Point",
                    "coordinates": [
                      127.04061273673395,
                      37.58551297949713
                    ]
                  }
                },
                {
                  "id": "30",
                  "type": "Feature",
                  "properties": {
                    "address_name": "서울 동대문구 장안동 328",
                    "category_group_code": "SC4",
                    "category_group_name": "학교",
                    "category_name": "교육,학문 > 학교 > 중학교",
                    "distance": "",
                    "id": "7843192",
                    "phone": "02-6716-1700",
                    "place_name": "동국대학교사범대학 부속중학교",
                    "place_url": "http://place.map.kakao.com/7843192",
                    "road_address_name": "서울 동대문구 장안벚꽃로 201",
                    "x": "127.075667885359",
                    "y": "37.5780084578762"
                  },
                  "geometry": {
                    "type": "Point",
                    "coordinates": [
                      127.075667885359,
                      37.5780084578762
                    ]
                  }
                },
                {
                  "id": "31",
                  "type": "Feature",
                  "properties": {
                    "address_name": "서울 동대문구 휘경동 43-138",
                    "category_group_code": "SC4",
                    "category_group_name": "학교",
                    "category_name": "교육,학문 > 학교 > 고등학교",
                    "distance": "",
                    "id": "17358636",
                    "phone": "02-2116-7206",
                    "place_name": "휘봉고등학교",
                    "place_url": "http://place.map.kakao.com/17358636",
                    "road_address_name": "서울 동대문구 한천로 290",
                    "x": "127.06903268100889",
                    "y": "37.58646744636223"
                  },
                  "geometry": {
                    "type": "Point",
                    "coordinates": [
                      127.06903268100889,
                      37.58646744636223
                    ]
                  }
                },
                {
                  "id": "32",
                  "type": "Feature",
                  "properties": {
                    "address_name": "서울 동대문구 전농동 54-6",
                    "category_group_code": "SC4",
                    "category_group_name": "학교",
                    "category_name": "교육,학문 > 학교 > 중학교",
                    "distance": "",
                    "id": "8503755",
                    "phone": "02-2242-6652",
                    "place_name": "전농중학교",
                    "place_url": "http://place.map.kakao.com/8503755",
                    "road_address_name": "서울 동대문구 사가정로13길 71",
                    "x": "127.059704137564",
                    "y": "37.5818089929221"
                  },
                  "geometry": {
                    "type": "Point",
                    "coordinates": [
                      127.059704137564,
                      37.5818089929221
                    ]
                  }
                }
              ]
            },
            "hover_style": {},
            "layers": [],
            "name": "학교",
            "options": [],
            "pane": "",
            "point_style": {
              "radius": 7,
              "color": "darkblue",
              "fillOpacity": 0.7,
              "fillColor": "lightblue",
              "weight": 2
            },
            "popup": null,
            "popup_max_height": null,
            "popup_max_width": 300,
            "popup_min_width": 50,
            "style": {},
            "subitems": [],
            "visible": true
          }
        },
        "7bb9d2e30ef0489db01ee4903087e40d": {
          "model_module": "@jupyter-widgets/base",
          "model_name": "LayoutModel",
          "model_module_version": "1.2.0",
          "state": {
            "_model_module": "@jupyter-widgets/base",
            "_model_module_version": "1.2.0",
            "_model_name": "LayoutModel",
            "_view_count": null,
            "_view_module": "@jupyter-widgets/base",
            "_view_module_version": "1.2.0",
            "_view_name": "LayoutView",
            "align_content": null,
            "align_items": null,
            "align_self": null,
            "border": null,
            "bottom": null,
            "display": null,
            "flex": null,
            "flex_flow": null,
            "grid_area": null,
            "grid_auto_columns": null,
            "grid_auto_flow": null,
            "grid_auto_rows": null,
            "grid_column": null,
            "grid_gap": null,
            "grid_row": null,
            "grid_template_areas": null,
            "grid_template_columns": null,
            "grid_template_rows": null,
            "height": "500px",
            "justify_content": null,
            "justify_items": null,
            "left": null,
            "margin": null,
            "max_height": null,
            "max_width": null,
            "min_height": null,
            "min_width": null,
            "object_fit": null,
            "object_position": null,
            "order": null,
            "overflow": null,
            "overflow_x": null,
            "overflow_y": null,
            "padding": null,
            "right": null,
            "top": null,
            "visibility": null,
            "width": "800px"
          }
        },
        "c55dd390bf45400099352b2be52c136a": {
          "model_module": "jupyter-leaflet",
          "model_name": "LeafletMapStyleModel",
          "model_module_version": "^0.18",
          "state": {
            "_model_module": "jupyter-leaflet",
            "_model_module_version": "^0.18",
            "_model_name": "LeafletMapStyleModel",
            "_view_count": null,
            "_view_module": "@jupyter-widgets/base",
            "_view_module_version": "1.2.0",
            "_view_name": "StyleView",
            "cursor": "grab"
          }
        }
      }
    }
  },
  "nbformat": 4,
  "nbformat_minor": 5
}